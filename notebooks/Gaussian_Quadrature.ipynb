{
 "cells": [
  {
   "cell_type": "markdown",
   "metadata": {},
   "source": [
    "## Code for performing integration by Gaussian quadrature "
   ]
  },
  {
   "cell_type": "markdown",
   "metadata": {},
   "source": [
    "Adapted from *Computational Physics*, by Mark Newman."
   ]
  },
  {
   "cell_type": "markdown",
   "metadata": {},
   "source": [
    "The code estimates the $m^{th}$ zero of the Legendre polynomial $P_n(\\cos \\theta)$ using the expression \n",
    "\n",
    "$\\theta_m^{(n)} = \\dfrac{4m - 1}{4n + 2} \\pi + \\dfrac{1}{8n^2} \\cot \\left( \\dfrac{4m - 1}{4n + 2}\\right) + O(n^{-3}) \\hspace{30pt}$ Eq. 22.16.6 of *Handbook of Mathematical Functions* by Abramowitz & Stegun.\n",
    "\n",
    "It also makes use of the following recurrence relation (ibid, Eq. 22.7.10):\n",
    "\n",
    "$(n + 1) P_{n+1}(\\cos \\theta) = (2n + 1) P_n(\\cos \\theta) \\cos \\theta - n P_{n-1}(\\cos \\theta).$"
   ]
  },
  {
   "cell_type": "markdown",
   "metadata": {},
   "source": [
    "\n"
   ]
  },
  {
   "cell_type": "code",
   "execution_count": 1,
   "metadata": {
    "collapsed": true
   },
   "outputs": [],
   "source": [
    "def gaussQuad(func, N, a=1, b=1):\n",
    "\n",
    "    '''Uses Gaussian quadrature to compute the integral of function \n",
    "    \"func\" over the range (a, b) using N sample points.'''\n",
    "    \n",
    "    from numpy import ones,copy,cos,tan,pi,linspace\n",
    "\n",
    "    # Initial approximation to roots of the Legendre polynomial\n",
    "    arr = linspace(3, 4*N - 1, N)/(4*N + 2)\n",
    "    x = cos(pi * arr + 1/(8 * N * N * tan(arr)))\n",
    "\n",
    "    # Find roots using Newton's method\n",
    "    epsilon = 1e-15\n",
    "    delta = 1.0\n",
    "    while delta > epsilon:\n",
    "        p0 = ones(N, float)\n",
    "        p1 = copy(x)\n",
    "        \n",
    "        for k in range(1,N):\n",
    "            p0, p1 = p1, ((2*k + 1)*x*p1 - k*p0)/(k + 1)\n",
    "            \n",
    "        dp = (N + 1)*(p0 - x*p1)/(1 - x*x)\n",
    "        dx = p1/dp\n",
    "        x = x - dx\n",
    "        delta = max(abs(dx))\n",
    "\n",
    "    # Calculate the weights (for x-range (-1,1))\n",
    "    w = 2*(N + 1)*(N + 1)/(N*N*(1 - x*x)*dp*dp)\n",
    "    \n",
    "    # Scale to range (a,b)\n",
    "    xs = 0.5*(b - a)*x + 0.5*(b + a)\n",
    "    ws = 0.5*(b - a)*w\n",
    "    \n",
    "    # Perform the integration\n",
    "    integ = 0.0\n",
    "    for k in range(N):\n",
    "        integ = integ + ws[k] * func(xs[k])\n",
    "\n",
    "    print(\"The integral with %d sample points is %.12f\" %(N, integ))\n",
    "    return integ"
   ]
  }
 ],
 "metadata": {
  "kernelspec": {
   "display_name": "Python 3",
   "language": "python",
   "name": "python3"
  },
  "language_info": {
   "codemirror_mode": {
    "name": "ipython",
    "version": 3
   },
   "file_extension": ".py",
   "mimetype": "text/x-python",
   "name": "python",
   "nbconvert_exporter": "python",
   "pygments_lexer": "ipython3",
   "version": "3.5.2"
  }
 },
 "nbformat": 4,
 "nbformat_minor": 0
}
