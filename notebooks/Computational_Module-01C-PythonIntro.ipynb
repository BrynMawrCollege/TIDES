{
 "cells": [
  {
   "cell_type": "markdown",
   "metadata": {},
   "source": [
    "# <font size=\"6pt\"><p style = 'text-align: center;'><font face=\"times\"> BRYN MAWR COLLEGE\n",
    "\n",
    "<font size=\"6pt\"><p style = 'text-align: center;'><b><font face=\"times\">Computational Methods in the Physical Sciences</b><br/><br/>\n",
    "\n",
    "<p style = 'text-align: center;'><b><font face=\"times\">Module 1:  A Brief Introduction to Python and Programming</b><br/><br/>\n",
    "\n",
    "<p style = 'text-align: center;'><b><font face=\"times\">Part 3 -- Algorithm Design</b><br/><br/>\n"
   ]
  },
  {
   "cell_type": "markdown",
   "metadata": {},
   "source": [
    " ***Prerequisite modules***: Modules 0, 1 \n",
    "\n",
    " ***Estimated completion time***: 3-5 hours\n",
    "\n",
    " ***Learning objectives***: Acquire fundamental algorithm design skills and experience"
   ]
  },
  {
   "cell_type": "markdown",
   "metadata": {},
   "source": [
    "   "
   ]
  },
  {
   "cell_type": "markdown",
   "metadata": {},
   "source": [
    "<img src=\"./Images/Dinos_ComputerSearch-2437.png\" width=\"600\" height=\"500\"/>\n"
   ]
  },
  {
   "cell_type": "markdown",
   "metadata": {},
   "source": [
    "<center>(Image credit: www.qwantz.com/index.php?comic=2437)</center><br/>"
   ]
  },
  {
   "cell_type": "markdown",
   "metadata": {},
   "source": [
    "The purpose of this module is to build up your ability to design algorithms and translate them into Python code.  In doing so, you will create some Python functions that can do useful things.  "
   ]
  },
  {
   "cell_type": "markdown",
   "metadata": {},
   "source": [
    "   "
   ]
  },
  {
   "cell_type": "markdown",
   "metadata": {},
   "source": [
    "\n",
    "# Outline\n",
    "\n",
    "## Part 1 - Basics\n",
    "\n",
    "* [I. Python Overview](Computational_Module-01A-PythonIntro.ipynb#I.-Python-Overview) \n",
    "   * [Debugging](Computational_Module-01A-PythonIntro.ipynb#Debugging)\n",
    "   * [Python as a Calculator](Computational_Module-01A-PythonIntro.ipynb#Using-Python-as-a-Calculator)\n",
    "   * [Strings and Printing](Computational_Module-01A-PythonIntro.ipynb#Strings-and-Printing)\n",
    "   * [User Input](Computational_Module-01A-PythonIntro.ipynb#User-Input)\n",
    "   * [Lists](Computational_Module-01A-PythonIntro.ipynb#Lists)\n",
    "   * [Iteration](Computational_Module-01A-PythonIntro.ipynb#Loops-and-Iteration)\n",
    "   * [Slicing](Computational_Module-01A-PythonIntro.ipynb#Slicing)\n",
    "   * [Booleans](Computational_Module-01A-PythonIntro.ipynb#Booleans-and-Truth-Testing)\n",
    "\n",
    "\n",
    "## Part 2 - Functions, Packages, and Plotting\n",
    "\n",
    "* [II. Functions](Computational_Module-01B-PythonIntro.ipynb#II.-Functions)  \n",
    "   * [Function Packages](Computational_Module-01B-PythonIntro.ipynb#Function-Packages)\n",
    "   * [User-Defined Functions](Computational_Module-01B-PythonIntro.ipynb#User-Defined-Functions)\n",
    "   * [Function of a Function](Computational_Module-01B-PythonIntro.ipynb#Function-of-a-Function)\n",
    "   \n",
    "\n",
    "* [III. Numpy and Scipy](Computational_Module-01B-PythonIntro.ipynb#III.-Numpy-and-Scipy)\n",
    "   * [Making vectors and matrices, 1-D and 2-D arrays](Computational_Module-01B-PythonIntro.ipynb#Making-vectors-and-matrices,-1-D-and-2-D-arrays)\n",
    "   * [Slicing Arrays](Computational_Module-01B-PythonIntro.ipynb#Slicing-Arrays)\n",
    "   * [linspace and arange](Computational_Module-01B-PythonIntro.ipynb#linspace-and-arange)\n",
    "   * [Array Operations](Computational_Module-01B-PythonIntro.ipynb#Array-Operations)\n",
    "   * [Optional Arguments](Computational_Module-01B-PythonIntro.ipynb#Optional-Arguments)\n",
    "   \n",
    "\n",
    "* [IV. Plotting with Matplotlib](Computational_Module-01B-PythonIntro.ipynb#IV.-Plotting-with-Matplotlib) \n",
    "\n",
    "\n",
    "## Part 3 - Algorithm Design\n",
    "\n",
    "* [V. List Manipulation](#V.-List-Manipulation)\n",
    "   * [Searching a List](#Searching-a-List) \n",
    "   * [Sorting a List](#Sorting-a-List)\n",
    "   \n",
    "   \n",
    "* [VI. Recursion](#VI.-Recursion) \n",
    "\n",
    "   \n",
    "* [VII. References](#VII.-References) \n"
   ]
  },
  {
   "cell_type": "markdown",
   "metadata": {},
   "source": [
    "- - -"
   ]
  },
  {
   "cell_type": "markdown",
   "metadata": {},
   "source": [
    "## V. List Manipulation"
   ]
  },
  {
   "cell_type": "markdown",
   "metadata": {},
   "source": [
    "### Searching a List"
   ]
  },
  {
   "cell_type": "markdown",
   "metadata": {},
   "source": [
    "As a first exercise, let's consider how we would find the largest element in a list of numbers.  To come up with an approach, it might help to think about how you would do this yourself, but it's important to keep in mind that humans are especially good at simultaneously analyzing (\"parallel processing\") small amounts of information.  (And sometimes large amounts of information, such as images.)  As a result, we can look at a short list of numbers, say four or five, and instantly see which is largest.  But suppose we want to find the largest element in a list of 100 numbers... that most of us couldn't do with a quick glance.  Take a moment to think about how *you* would do it before continuing on.  (It's important to mention that the way a human would solve a problem isn't always the best way for a computer solve it, but it's often a good place to start.) "
   ]
  },
  {
   "cell_type": "markdown",
   "metadata": {},
   "source": [
    "There are several ways one might imagine finding the largest list element.  One would be to sort the numbers in order from smallest to largest (or the reverse).  But this would involve a lot of unnecessary manipulations of list elements (meaning it would be relatively slow), and it's a bit tricky to code. \n",
    "\n",
    "Another way is to compare pairs of elements.  For example, compare the first two elements and store the larger one.  Then compare the third and fourth elements, determine the larger one, and then compare that value with the stored one.  This method will work, but it's a little less \"clean\", logically speaking, then the next method."
   ]
  },
  {
   "cell_type": "markdown",
   "metadata": {},
   "source": [
    "The idea in this method is just to step through the list one element at a time, comparing each new element with the largest element found (and stored) so far; if the new element is larger, it replaces the stored largest value.  (This is a little cleaner, logically speaking, then the previous method because all comparisons are made directly with the stored largest value.  In the previous method, there's really no point in comparing two list values to each other if neither of them is known to be the largest value.)\n",
    "\n",
    "Of course, there needs to be a first stored element -- this would be just the first element in the list, since nothing larger in the list would have been seen yet.  So, in pseudocode, the procedure is this:\n",
    "\n",
    "    store first element\n",
    "    \n",
    "    loop through list:\n",
    "       if current value > stored value\n",
    "           replace stored value by current value\n",
    "           \n",
    "    return and/or print stored value"
   ]
  },
  {
   "cell_type": "markdown",
   "metadata": {},
   "source": [
    "To loop through the list, we start with the second element (since the first was stored at the start) and increment through to the end of the list.  It makes sense to use a `for` rather than a `while` loop, since if we determine the length of the list then we know exactly how many loop cycles are needed.  (Python's `len` function easily gives us the length of the list.)\n",
    "\n",
    "Before we do anything else, though, we will need to determine how to provide the list to the code.  How do we do this?  In a previous module you used the `input` function to get a user's input, but this does not work well for a list of numbers.  The most straightforward way is to pass the name of the list as an argument to our function.  We can create the list whenever we want -- before or after we write the function -- and pass it to the function once the function has been defined."
   ]
  },
  {
   "cell_type": "markdown",
   "metadata": {},
   "source": [
    "Here's a Python function that will do the job:"
   ]
  },
  {
   "cell_type": "code",
   "execution_count": 68,
   "metadata": {
    "collapsed": false
   },
   "outputs": [],
   "source": [
    "def listLargest(inList):\n",
    "    '''Find maximum value in list \"inList\" '''\n",
    "    \n",
    "    maxVal = inList[0]           # store first element of list as first maximum value\n",
    "    listLen = len(inList)        \n",
    "    \n",
    "    for i in range(1, listLen):  # step through list elements, starting with 2nd (index = 1)\n",
    "        if inList[i] > maxVal:   # compare current list element with maximum stored value\n",
    "            maxVal = inList[i]   # new element is larger, so it replaces stored value\n",
    "            \n",
    "    return maxVal"
   ]
  },
  {
   "cell_type": "markdown",
   "metadata": {},
   "source": [
    "We've named the input list `inList`.  Keep in mind that this name is known only *inside* the function `listLargest`.  When the user actually creates the list, it can be named whatever they want, but they have to pass that name to the function.  For example, we could create a list and call our function like this:\n",
    "\n",
    "```python\n",
    "mylist = [7, -9.3, 2.8, 123, -5]\n",
    "listLargest(mylist)\n",
    "```\n",
    "\n",
    "Note that the name we pass to the function is the name of our list, *not* the name `inList`, since the function uses that only internally.\n",
    "\n",
    "Note also that all of the variable names are brief but informative: `inList` is the name of the input list, `maxVal` is the name of the maximum value found so far, and `listLen` is the length of the list.  It's good practice to name things in an informative way, so that a reader of the code can deduce their meaning without needing an explanation.  (Very long names should be avoided, though, as they're hard to read quickly.  Names that involve a combination of words can be written as shown above, with the first letter in each word or partial word except the first one capitalized, or by separating words or partial words with underscores, as in `list_length`.  The former approach is more common among programmers.)\n",
    "\n",
    "Also note that the function returns the largest value, so that it can be used by other functions."
   ]
  },
  {
   "cell_type": "markdown",
   "metadata": {},
   "source": [
    "Here's an example list created with random numbers using `numpy's` `rand` function.  (It also uses the `seed` function so that it gives the same list whenever this notebook is run.  For actual random lists, don't use a seed unless you want the list not to change.)"
   ]
  },
  {
   "cell_type": "code",
   "execution_count": 52,
   "metadata": {
    "collapsed": false
   },
   "outputs": [
    {
     "data": {
      "text/plain": [
       "array([  2.43624404,  14.45548299,  36.04831734,   1.0808125 ,\n",
       "        10.29613826,   2.53866283,  15.1135947 ,  33.19551473,\n",
       "        15.40571966,  29.17956381])"
      ]
     },
     "execution_count": 52,
     "metadata": {},
     "output_type": "execute_result"
    }
   ],
   "source": [
    "from numpy.random import rand, seed\n",
    "seed(21)\n",
    "randList = 50*rand(10)  # random numbers from 0 to 50\n",
    "randList"
   ]
  },
  {
   "cell_type": "markdown",
   "metadata": {},
   "source": [
    "Call our function on the list:"
   ]
  },
  {
   "cell_type": "code",
   "execution_count": 58,
   "metadata": {
    "collapsed": false
   },
   "outputs": [
    {
     "name": "stdout",
     "output_type": "stream",
     "text": [
      "The largest element in the list is: 36.0483173416\n"
     ]
    }
   ],
   "source": [
    "large = listLargest(randList)"
   ]
  },
  {
   "cell_type": "markdown",
   "metadata": {},
   "source": [
    " In addition to being printed, the largest value has been stored in the variable `large`."
   ]
  },
  {
   "cell_type": "markdown",
   "metadata": {},
   "source": [
    " "
   ]
  },
  {
   "cell_type": "markdown",
   "metadata": {},
   "source": [
    " Suppose we want to know the index of the largest element?  Well, that's just its `i` value, so we can store that too as we step through the loop.  Here's a modified version of the code that does that (it also returns the largest element and its index, as well as printing them):"
   ]
  },
  {
   "cell_type": "code",
   "execution_count": 60,
   "metadata": {
    "collapsed": false
   },
   "outputs": [],
   "source": [
    "def listLargest(inlist):\n",
    "    '''Find maximum value in list \"inlist\" '''\n",
    "    \n",
    "    maxVal = inlist[0]             # store first element of list as first maximum value\n",
    "    maxIndex = 0                   # store index of first element\n",
    "    listLen = len(inlist)\n",
    "    \n",
    "    for i in range(1, listLen):\n",
    "        if inlist[i] > maxVal:\n",
    "            maxVal = inlist[i]\n",
    "            maxIndex = i\n",
    "            \n",
    "    print(\"The largest element in the list is:\", maxVal)\n",
    "    print(\"The index of that element is:\", maxIndex)\n",
    "                    \n",
    "    return maxVal, maxIndex"
   ]
  },
  {
   "cell_type": "markdown",
   "metadata": {},
   "source": [
    " Here's a test of the code:"
   ]
  },
  {
   "cell_type": "code",
   "execution_count": 61,
   "metadata": {
    "collapsed": false
   },
   "outputs": [
    {
     "name": "stdout",
     "output_type": "stream",
     "text": [
      "The largest element in the list is: 36.0483173416\n",
      "The index of that element is: 2\n"
     ]
    }
   ],
   "source": [
    "large, largeInd = listLargest(randList)"
   ]
  },
  {
   "cell_type": "markdown",
   "metadata": {},
   "source": [
    "(Remember that Python list indexing begins with `0`, so the element with index `2` actually is the *third* element in the list.)"
   ]
  },
  {
   "cell_type": "markdown",
   "metadata": {},
   "source": [
    " "
   ]
  },
  {
   "cell_type": "markdown",
   "metadata": {},
   "source": [
    "**Exercise \\#12**\n",
    "\n",
    "Suppose we want to find both the largest and smallest elements in a list.  Are two separate loops needed or can it be done in one?  In the code cell below, modify the `listLargest` code so that it prints out and returns the smallest element and its index as well as the largest element and its index.  Run the code on `randlist`.  You might want to rename the function something like `listLargeSmall`."
   ]
  },
  {
   "cell_type": "code",
   "execution_count": null,
   "metadata": {
    "collapsed": true
   },
   "outputs": [],
   "source": []
  },
  {
   "cell_type": "markdown",
   "metadata": {},
   "source": [
    " "
   ]
  },
  {
   "cell_type": "markdown",
   "metadata": {},
   "source": [
    "Now suppose we want to find both the largest and the second-largest elements in a list.  Our approach will be similar to the earlier one, except now we have to store two values, and compare each new element to both of the stored values.\n",
    "\n",
    "To start, we store the first two values, after checking which is larger.  We then compare each new element with the two stored values: if the new element is larger than the second-largest value, then we know that it should be stored, but we have to do one more check to determine whether it's also larger than the largest value.  We will use \"nested\" `if` statements to do these checks and store the values properly.  \""
   ]
  },
  {
   "cell_type": "markdown",
   "metadata": {},
   "source": [
    "Here's pseudocode for the new function:\n",
    "\n",
    "    compare first two elements; store larger one as \"largest\", smaller one as \"second-largest\"\n",
    "    \n",
    "    loop through list starting with third element:\n",
    "       if current value > second-largest stored value:\n",
    "           if current value > largest stored value:\n",
    "               replace stored largest value by current value\n",
    "           else:\n",
    "               replace stored second-largest value by current value\n",
    "           \n",
    "    return and/or print stored values\n",
    "    \n",
    "Here's the code:"
   ]
  },
  {
   "cell_type": "code",
   "execution_count": 62,
   "metadata": {
    "collapsed": false
   },
   "outputs": [],
   "source": [
    "def list2Largest(inList):\n",
    "    '''Find largest and second-largest values in list \"inList\" '''\n",
    "    \n",
    "    if inList[0] > inList[1]:           # compare first two elements and store in appropriate variables\n",
    "        largest = inList[0]           \n",
    "        secondLargest = inList[1]\n",
    "    else:\n",
    "        largest = inList[1]           \n",
    "        secondLargest = inList[0]\n",
    "                \n",
    "    listLen = len(inList)        \n",
    "    \n",
    "    for i in range(2, listLen):            # step through list elements, starting with 3rd (index = 2)\n",
    "        if inList[i] > secondLargest:      # compare current list element with smaller stored value\n",
    "            if inList[i] > largest:\n",
    "                largest = inList[i]        # new element is larger than largest, so it replaces stored value\n",
    "            else:                          # new element is smaller than largest, but larger than ...\n",
    "                secondLargest = inList[i]  # ... second-largest, so store it as new second-largest\n",
    "            \n",
    "    print(\"The largest element in the list is:\", largest)\n",
    "    print(\"The second-largest element in the list is:\", secondLargest)\n",
    "    \n",
    "    return largest, secondLargest"
   ]
  },
  {
   "cell_type": "markdown",
   "metadata": {},
   "source": [
    " Here's the code operating on the random list:"
   ]
  },
  {
   "cell_type": "code",
   "execution_count": 63,
   "metadata": {
    "collapsed": false
   },
   "outputs": [
    {
     "name": "stdout",
     "output_type": "stream",
     "text": [
      "The largest element in the list is: 36.0483173416\n",
      "The second-largest element in the list is: 33.1955147312\n"
     ]
    }
   ],
   "source": [
    "large1, large2 = list2Largest(randList)"
   ]
  },
  {
   "cell_type": "markdown",
   "metadata": {},
   "source": [
    "As before, if we also want to know the indexes of these values, we can simply store their `i` values when we store the elements themselves."
   ]
  },
  {
   "cell_type": "markdown",
   "metadata": {},
   "source": [
    "Note in all of these examples that while it might be necessary to treat the first few inputs specially (like when we stored the first element as \"largest\", or the first two as \"largest\" and \"second-largest\"), after we've dealt with those \"special cases\" we want to treat all the other inputs in the same way.  This leads to more-efficient code."
   ]
  },
  {
   "cell_type": "markdown",
   "metadata": {},
   "source": [
    " "
   ]
  },
  {
   "cell_type": "markdown",
   "metadata": {},
   "source": [
    "**Exercise \\#13**\n",
    "\n",
    "In the code cell below, modify the previous function to print out and return the largest, second-largest, and third-largest elements in a list.  Run the code on `randlist` to test it.  You might rename the function `list3Largest`."
   ]
  },
  {
   "cell_type": "code",
   "execution_count": null,
   "metadata": {
    "collapsed": true
   },
   "outputs": [],
   "source": []
  },
  {
   "cell_type": "markdown",
   "metadata": {},
   "source": [
    "<a href='#Outline'>Back to the Top</a>"
   ]
  },
  {
   "cell_type": "markdown",
   "metadata": {},
   "source": [
    " "
   ]
  },
  {
   "cell_type": "markdown",
   "metadata": {},
   "source": [
    "### Sorting a List"
   ]
  },
  {
   "cell_type": "markdown",
   "metadata": {},
   "source": [
    " A somewhat more complicated task than just finding the smallest or largest value in a list is sorting it.  There are many algorithms that have been developed for this purpose; some of the best-known ones are called *bubble sort*, *merge sort*, *heapsort*, *quicksort*, and *insertion sort* (see the Wikipedia page on \"Sorting algorithm\" for other examples and more information.)  We'll consider the last of these -- insertion sort -- since the algorithm is easier to understand than most of the others.  (It is fairly efficient for small lists, but not for longer ones.  Algorithm efficiency is discussed in Module 2.)  Insertion sort is an example of an \"in-place\" sorting algorithm, as it reorders the original list rather than copying or moving the elements to a new list.\n",
    "\n",
    "Again think of a numerical list (but it also could be a list of words that we wish to alphabetize) with its elements in a random order.  The basic idea behind insertion sort is to work through the list one element at a time (starting with the *second* one), comparing this \"current\" element to the previous ones, which have already been sorted, and inserting it in the proper place in the list if it's out of order.  Here's a simple example of what the algorithm would do for a small list, say [1, 7, 5, 2, 4]:  \n",
    "$$ $$\n",
    "$$\n",
    "[1, 7, 5, 2, 4] \\rightarrow [1, 7, 5, 2, 4] \\rightarrow [1, 5, 7, 2, 4] \\rightarrow [1, 5, 2, 7, 4] \\rightarrow [1, 2, 5, 7, 4] \\rightarrow [1, 2, 5, 4, 7] \\rightarrow [1, 2, 4, 5, 7]\n",
    "$$\n",
    "$$ $$\n",
    "In the first step, the $7$ is the current element, and it's compared with the $1$; nothing happens since they are ordered correctly (smaller to larger).  Next, the $5$ becomes the current element and it is compared to the $7$;  because they're out of order the two must be interchanged.  Then, since the $5$ is greater than $1$, those two are not swapped.  Next, the new current element $2$ is compared with the $7$, and since it's smaller they have to be swapped.  Then the $2$ is compared with the $5$, and those two also have to be swapped.  Finally, the current element $4$ is compared with the $7$; since it's smaller, those two must be swapped, but the $4$ also is smaller than the $5$, so those are swapped too.  The $4$ is greater than $2$, so they're not swapped, and now all original elements have been analyzed and the list is in order."
   ]
  },
  {
   "cell_type": "markdown",
   "metadata": {},
   "source": [
    "   "
   ]
  },
  {
   "cell_type": "markdown",
   "metadata": {},
   "source": [
    "<font color=\"green\"><b>Breakpoint 6</b></font>:  Show the intermediate lists that would be created in sorting this list with insertion sort: [2, 6, 1, 4, 3]."
   ]
  },
  {
   "cell_type": "markdown",
   "metadata": {},
   "source": [
    " "
   ]
  },
  {
   "cell_type": "markdown",
   "metadata": {},
   "source": [
    " Describing the process more generally, the procedure is as follows:\n",
    "- Loop through the list, starting with the second element, keeping track of the \"current element\" with a \"current index\"\n",
    "- Set a \"moving index\" equal to the \"current index\".  (The \"moving index\" tracks the current element as it moves through the list.)\n",
    "- While there is a previous element in the list and the current element is smaller than it, swap the two and decrease the moving index by 1"
   ]
  },
  {
   "cell_type": "markdown",
   "metadata": {},
   "source": [
    "Here's pseudocode for the insertion sort algorithm:\n",
    "\n",
    "    [outer loop] loop through list starting with second element:\n",
    "    \n",
    "        create an inner loop counter equal to the outer loop counter\n",
    "        \n",
    "        [inner loop] while there is a previous element and previous element > current element:\n",
    "            interchange current and previous elements\n",
    "            decrement inner loop counter\n",
    "            \n",
    "Here's code to implement the algorithm:\n"
   ]
  },
  {
   "cell_type": "code",
   "execution_count": 1,
   "metadata": {
    "collapsed": true
   },
   "outputs": [],
   "source": [
    "def insertSort(inList):\n",
    "    '''Use insertion sort to order list \"inList\"'''\n",
    "    \n",
    "    listLen = len(inList)\n",
    "    \n",
    "    for i in range(1, listLen):\n",
    "        j = i\n",
    "        while j > 0  and  inList[j-1] > inList[j]:\n",
    "            inList[j-1], inList[j] = inList[j], inList[j-1]  # Swap list elements\n",
    "            j = j - 1\n",
    "    \n",
    "    print(inList)"
   ]
  },
  {
   "cell_type": "markdown",
   "metadata": {},
   "source": [
    " The counter `i` in the `for` loop tracks the original position of the \"current element\" and it runs through the list from the second element to the last.  The counter `j` in the `while` loop tracks the position of the \"current element\" as it moves back toward the beginning of the list as a result of being swapped with larger elements earlier in the list.  Every time a swap happens, `j` has to be reduced by `1`.  The line `inList[j-1], inList[j] = inList[j], inList[j-1]` is a compact Python way of swapping two elements.  (This trick is not available in most other programming languages, so the swap would require a couple of extra lines of code.)"
   ]
  },
  {
   "cell_type": "markdown",
   "metadata": {},
   "source": [
    " Here we run the program on our random list:"
   ]
  },
  {
   "cell_type": "code",
   "execution_count": 4,
   "metadata": {
    "collapsed": false
   },
   "outputs": [
    {
     "name": "stdout",
     "output_type": "stream",
     "text": [
      "[  1.0808125    2.43624404   2.53866283  10.29613826  14.45548299\n",
      "  15.1135947   15.40571966  29.17956381  33.19551473  36.04831734]\n"
     ]
    }
   ],
   "source": [
    "insertSort(randList)"
   ]
  },
  {
   "cell_type": "markdown",
   "metadata": {},
   "source": [
    " Here's a different random list to check the function with (note that a seed is not being used here):"
   ]
  },
  {
   "cell_type": "code",
   "execution_count": 8,
   "metadata": {
    "collapsed": false
   },
   "outputs": [
    {
     "data": {
      "text/plain": [
       "array([  3.47854773,  43.3702242 ,   6.66202596,   8.90623308,\n",
       "        24.79647749,  43.18498223,  37.94719178,  48.52425627,\n",
       "        37.96512764,  19.2125016 ])"
      ]
     },
     "execution_count": 8,
     "metadata": {},
     "output_type": "execute_result"
    }
   ],
   "source": [
    "randList2 = 50*rand(10)\n",
    "randList2"
   ]
  },
  {
   "cell_type": "code",
   "execution_count": 6,
   "metadata": {
    "collapsed": false
   },
   "outputs": [
    {
     "name": "stdout",
     "output_type": "stream",
     "text": [
      "[  3.47854773   6.66202596   8.90623308  19.2125016   24.79647749\n",
      "  37.94719178  37.96512764  43.18498223  43.3702242   48.52425627]\n"
     ]
    }
   ],
   "source": [
    "insertSort(randList2)"
   ]
  },
  {
   "cell_type": "markdown",
   "metadata": {},
   "source": [
    "<a href='#Outline'>Back to the Top</a>"
   ]
  },
  {
   "cell_type": "markdown",
   "metadata": {},
   "source": [
    "\n"
   ]
  },
  {
   "cell_type": "markdown",
   "metadata": {},
   "source": [
    "**Exercise \\#14**\n",
    "\n",
    "It might have occurred to you that a straightforward sorting algorithm could be built on a search algorithm, like the ones used earlier.  The idea is simple: search through a list to find the largest (or smallest) element, and append that element to a second, initially empty list that will hold the sorted elements.  Then remove the element just found from the original list, and repeat.\n",
    "\n",
    "Removing an element `x` from a list `mylist` is easy to do in Python, using the syntax `mylist.remove(x)`.  This won't work on a `numpy` array, so it would be good to typecast to a list whatever the user inputs, as in `myList = list(myInputs)`, where `myInputs` is the argument to the function that the user will provide.  (This should be done *inside* your function, so that the user doesn't have to do it prior to running the function.)  \n",
    "\n",
    "Write a new Python function that uses the first version of `listLargest` above to return a sorted list and test it on `randList`.  (The result should be in largest-to-smallest order.) \n"
   ]
  },
  {
   "cell_type": "markdown",
   "metadata": {},
   "source": [
    " "
   ]
  },
  {
   "cell_type": "markdown",
   "metadata": {},
   "source": [
    "<a href='#Outline'>Back to the Top</a>"
   ]
  },
  {
   "cell_type": "markdown",
   "metadata": {},
   "source": [
    "- - -"
   ]
  },
  {
   "cell_type": "markdown",
   "metadata": {},
   "source": [
    "## VI. Recursion"
   ]
  },
  {
   "cell_type": "markdown",
   "metadata": {},
   "source": [
    "*This section is optional.  You might skim it quickly the first time through, and read it more carefully later if you need to.*"
   ]
  },
  {
   "cell_type": "markdown",
   "metadata": {},
   "source": [
    " **Recursion** refers to when a function calls itself.  It can be a compact and powerful way of doing certain computations.  An example is computing the factorial of a number.  Here's code that will do that recursively:"
   ]
  },
  {
   "cell_type": "code",
   "execution_count": 1,
   "metadata": {
    "collapsed": true
   },
   "outputs": [],
   "source": [
    "def fact(n):\n",
    "    if type(n) != int or n < 1:\n",
    "        return \"Input must be an integer >= 1\"\n",
    "    \n",
    "    if n == 1:\n",
    "        return 1\n",
    "    else:\n",
    "        return n * fact(n-1)"
   ]
  },
  {
   "cell_type": "code",
   "execution_count": 2,
   "metadata": {
    "collapsed": false
   },
   "outputs": [
    {
     "data": {
      "text/plain": [
       "120"
      ]
     },
     "execution_count": 2,
     "metadata": {},
     "output_type": "execute_result"
    }
   ],
   "source": [
    "fact(5)"
   ]
  },
  {
   "cell_type": "markdown",
   "metadata": {},
   "source": [
    " Note that after checking that the input is appropriate, the function starts with an `if` statement that specifies what's called the **base case**.  This bit of code represents the point at which the recursion will stop, and is absolutely necessary to prevent the recursive process from continuing forever.  (The base case may involve setting more than one value; e.g., using recursion to compute the Fibonacci numbers up to some value `n` would start with declaring `Fib(0) = 1` and `Fib(1) = 1` in the base case section.)\n",
    "\n",
    "The base case section is followed by the code that actually performs the recursion by calling the function.  Notice that this code does not use an explicit loop -- a type of looping is done, but in an implicit way.  So how does it work?  Let's think about what it does for a small input, say `n = 3`. It would immediately pass to the `else` statement, where it would return `3*fact(2)`, but it doesn't have anything to return yet because it has to execute the call of `fact(2)`.  In doing this, it would enter the function again, pass to the `else` statement, and return `2*fact(1)`.  It still has no value to return, so it makes the last call to `fact`, which would return `1` from the base case.  Thus, in the end, the function returns `3*fact(2) = 3*2*fact(1) = 3*2*1`, as we want.  Note that if the code didn't include the base case, then the function would keep calling itself indefinitely, with `n = 0, -1, -2, ... .`"
   ]
  },
  {
   "cell_type": "markdown",
   "metadata": {},
   "source": [
    "   "
   ]
  },
  {
   "cell_type": "markdown",
   "metadata": {},
   "source": [
    "**Exercise \\#15**\n",
    "\n",
    "Let's test how the speed of a recursive approach compares to that of a loop approach.  (a) Write a function to perform the factorial calculation using a loop.  (Include in your function the same first `if` statement in the code above to check for proper input.  This not only is a good idea; it also makes the speed comparison fairer.)  (b) Run both functions on an input of `50` to make sure they give the same output.  Do they?  (c) Using the `%timeit` magic, time both functions on the same input.  How do they compare?  (d) You might be concerned that the first `if` statement in the `fact` function slows its performance, since the `if` is checked at every level of recursion (even though it's needed only in the first function call).  Does removing it significantly affect the speed of `fact`?  What do you conclude about using recursion for this type of calculation?\n",
    "\n",
    "***Do this exercise before continuing to read in the Module.***"
   ]
  },
  {
   "cell_type": "markdown",
   "metadata": {},
   "source": [
    " "
   ]
  },
  {
   "cell_type": "markdown",
   "metadata": {},
   "source": [
    " Since you should have found that recursion is significantly slower than looping for the kind of computation involved in finding a factorial, you may be wondering what recursion is good for.  For computer scientists, recursion is an effective way of performing some types of searches.  For physicists, one could use recursion to compute quantities like the ***Legendre polynomials***, which arise in solving Laplace's equation (and related partial differential equations); e.g., in electrostatics problems.  A recursive approach is possible because these polynomials can be related by a ***recurrence relation***, which essentially embodies recursion.  For the Legendre polynomials, labeled $P_n(x)$, a recurrence relation among them that's appropriate for numerical computation is  \n",
    "\n",
    "$$P_{n+1}(x) = 2x P_n(x) - P_{n-1}(x) - \\dfrac{x P_n(x) - P_{n-1}(x)}{n+1}$$\n",
    "$$ $$\n",
    "\n",
    "Note that since the value of $P_{n+1}$ depends on both $P_n$ and $P_{n-1}$, the base case must provide two initial values, specifically $P_0(x) = 1$ and $P_1(x) = x$.  Starting with these, $P_n(x)$ for any integer $n >1$ can be computed."
   ]
  },
  {
   "cell_type": "markdown",
   "metadata": {},
   "source": [
    "   "
   ]
  },
  {
   "cell_type": "markdown",
   "metadata": {},
   "source": [
    "**Exercise \\#16**\n",
    "\n",
    "You must have seen this coming... write a function that uses recursion to compute $P_n(x)$ for integer $n > 1$.  ($x$ can be any real number.)  Try your function for $x = 0.5$, $n = 4$.  \n",
    "\n",
    "You can check your result by calling the `numpy` function that computes the output of a *series* of Legendre polynomials, $\\sum_{i=0}^N P_i(x)$, using the following code (`numpy` appears not to have a function to compute the output of a *single* Legendre polynomial):\n",
    "\n",
    "    from numpy.polynomial.legendre import legval\n",
    "    legval(0.5, [0, 0, 0, 0, 1])\n",
    "   \n",
    "(Here, the list `[0, 0, 0, 0, 1]` tells the function that the coefficients of the first four polynomials are $0$, while the coefficient of the fifth polynomial, $P_4(x)$, is $1$.)"
   ]
  },
  {
   "cell_type": "markdown",
   "metadata": {},
   "source": [
    " "
   ]
  },
  {
   "cell_type": "markdown",
   "metadata": {},
   "source": [
    " If you want a challenge, design a recursive function that sorts a numerical list.  (Make sure to include a base case, and that it eventually will be reached!)  You can use or modify any of the functions defined earlier in this notebook.  It also might help to know about the `delete` function found in the `numpy` package: `newlist = delete(mylist, i)` will delete the element with index `i` from the list/array `mylist`, and assign the resulting list/array to `newlist`.  (`newlist` could be `mylist` itself.)\n",
    "\n",
    "An example of such a recursive sorting function is provided below."
   ]
  },
  {
   "cell_type": "markdown",
   "metadata": {},
   "source": [
    "####  A recursive sorter\n",
    "\n",
    " The recursive sorting function below calls the first version of `listLargest`  defined earlier.  At each level of the recursion except the last, the code finds the largest remaining element in the input list, appends it to the sorted list, removes it from the list that was input (using the `.remove()` method introduced in Exercise \\#14), and passes this smaller list as the input to the next recursion level.  When this passed list has been reduced to just one element (this is the base case), that element is appended to the sorted list and that list is returned, ending the process.  Note that we also pass the sorted list as an argument (initially defined as an empty list) so that it is available to each recursion level and can be built up in the process.  (If we initially defined it to be an empty list *inside* the function, it would keep getting reset to that empty state at each recursion level and it would never grow.)  "
   ]
  },
  {
   "cell_type": "code",
   "execution_count": 85,
   "metadata": {
    "collapsed": true
   },
   "outputs": [],
   "source": [
    "def recSort(myInputs, sortedList=[]):\n",
    "    \n",
    "    inList = list(myInputs)\n",
    "    \n",
    "    if len(inList) == 1:             # base case: original list has been reduced to one element\n",
    "        sortedList.append(inList[0])\n",
    "        return sortedList\n",
    "    else:\n",
    "        newmax = listLargest(inList)\n",
    "        sortedList.append(newmax)\n",
    "        inList.remove(newmax)\n",
    "        return recSort(inList, sortedList)   # the recursive part of the function"
   ]
  },
  {
   "cell_type": "markdown",
   "metadata": {},
   "source": [
    " Here we test it on `randList2`:"
   ]
  },
  {
   "cell_type": "code",
   "execution_count": 86,
   "metadata": {
    "collapsed": false
   },
   "outputs": [
    {
     "name": "stdout",
     "output_type": "stream",
     "text": [
      "[48.524256267457879, 43.370224199654416, 43.184982227911178, 37.96512763927764, 37.947191775605717, 24.79647749130779, 19.212501604506471, 8.9062330779749175, 6.6620259625873866, 3.4785477306300274]\n"
     ]
    }
   ],
   "source": [
    "mylist = [7, -2.3, 8, -5, 12]\n",
    "slist = recSort(randList2)\n",
    "print(slist)"
   ]
  },
  {
   "cell_type": "markdown",
   "metadata": {},
   "source": [
    "<a href='#Outline'>Back to the Top</a>"
   ]
  },
  {
   "cell_type": "markdown",
   "metadata": {},
   "source": [
    " "
   ]
  },
  {
   "cell_type": "markdown",
   "metadata": {},
   "source": [
    "###  Final Thoughts on Algorithm Design\n",
    "\n",
    " The abilities to efficiently search and sort even very long lists are among the most important capabilities that computers provide, and they play roles in many other types of algorithm.  Recursion may be less widely used, but it is very effective in some applications.  If you understand how the algorithms above work, you will be in a good position to grasp the essentials of many other algorithms you might encounter."
   ]
  },
  {
   "cell_type": "markdown",
   "metadata": {},
   "source": [
    " "
   ]
  },
  {
   "cell_type": "markdown",
   "metadata": {},
   "source": [
    "###  Breakpoint Answers\n",
    "\n",
    " **Breakpoint 6**: $[2, 6, 1, 4, 3] \\rightarrow [2, 1, 6, 4, 3] \\rightarrow [1, 2, 6, 4, 3] \\rightarrow [1, 2, 4, 6, 3] \\rightarrow [1, 2, 4, 3, 6] \\rightarrow [1, 2, 3, 4, 6]$."
   ]
  },
  {
   "cell_type": "markdown",
   "metadata": {},
   "source": [
    "- - -"
   ]
  },
  {
   "cell_type": "markdown",
   "metadata": {},
   "source": [
    "## VII. References"
   ]
  },
  {
   "cell_type": "markdown",
   "metadata": {},
   "source": [
    "### Learning Resources\n",
    "\n",
    "* [Official Python Documentation](http://docs.python.org/2.7), including\n",
    "    - [Python Tutorial](http://docs.python.org/2.7/tutorial)\n",
    "    - [Python Language Reference](http://docs.python.org/2.7/reference)\n",
    "* If you're interested in Python 3, the [Official Python 3 Docs are here](http://docs.python.org/3/).\n",
    "* [IPython tutorial](http://ipython.org/ipython-doc/dev/interactive/tutorial.html).\n",
    "* [Learn Python The Hard Way](http://learnpythonthehardway.org/book/)\n",
    "* [Dive Into Python](http://www.diveintopython.net/), in particular if you're interested in Python 3.\n",
    "* [Invent With Python](http://inventwithpython.com/), probably best for kids.\n",
    "* [Python Functional Programming HOWTO](http://docs.python.org/2/howto/functional.html)\n",
    "* [Python Module of the Week](http://pymotw.com/2/contents.html) is a series going through in-depth analysis of the Python standard library in a very easy to understand way.\n",
    "\n",
    "### Example Notebooks\n",
    "* Rob Johansson's [excellent notebooks](http://jrjohansson.github.io/), including [Scientific Computing with Python](https://github.com/jrjohansson/scientific-python-lectures) and [Computational Quantum Physics with QuTiP](https://github.com/jrjohansson/qutip-lectures) lectures;\n",
    "* [XKCD style graphs in matplotlib](http://nbviewer.ipython.org/url/jakevdp.github.com/downloads/notebooks/XKCD_plots.ipynb);\n",
    "* [A collection of Notebooks for using IPython effectively](https://github.com/ipython/ipython/tree/master/examples/notebooks#a-collection-of-notebooks-for-using-ipython-effectively)\n",
    "* [A gallery of interesting IPython Notebooks](https://github.com/ipython/ipython/wiki/A-gallery-of-interesting-IPython-Notebooks)\n",
    "* [Quantities](http://nbviewer.ipython.org/urls/raw.github.com/tbekolay/pyconca2012/master/QuantitiesTutorial.ipynb) Units in Python.\n",
    "    - [Another units module is here](http://www.southampton.ac.uk/~fangohr/blog/)\n",
    "    \n",
    "### Packages for Scientists    \n",
    "\n",
    "**Important libraries**\n",
    "* [Numpy](http://www.numpy.org), the core numerical extensions for linear algebra and multidimensional arrays;\n",
    "* [Scipy](http://www.scipy.org), additional libraries for scientific programming;\n",
    "* [Matplotlib](http://matplotlib.sf.net), excellent plotting and graphing libraries;\n",
    "* [Sympy](http://sympy.org), symbolic math in Python\n",
    "* [Pandas](http://pandas.pydata.org/) library for big data in Python\n",
    "\n",
    "**Other packages of interest**\n",
    "* [PyQuante](http://pyquante.sf.net) Python Quantum Chemistry\n",
    "* [QuTiP](https://code.google.com/p/qutip/) Quantum Toolbox in Python\n",
    "* Konrad Hinsen's [Scientific Python](http://dirac.cnrs-orleans.fr/plone/software/scientificpython/) and [MMTK](http://dirac.cnrs-orleans.fr/MMTK/)\n",
    "* [Atomic Simulation Environment](https://wiki.fysik.dtu.dk/ase/)\n"
   ]
  },
  {
   "cell_type": "markdown",
   "metadata": {},
   "source": [
    "  "
   ]
  },
  {
   "cell_type": "markdown",
   "metadata": {},
   "source": [
    "<font size=\"5pt\">**End of Part 3**"
   ]
  }
 ],
 "metadata": {
  "kernelspec": {
   "display_name": "Python 3",
   "language": "python",
   "name": "python3"
  },
  "language_info": {
   "codemirror_mode": {
    "name": "ipython",
    "version": 3
   },
   "file_extension": ".py",
   "mimetype": "text/x-python",
   "name": "python",
   "nbconvert_exporter": "python",
   "pygments_lexer": "ipython3",
   "version": "3.5.2"
  }
 },
 "nbformat": 4,
 "nbformat_minor": 0
}
