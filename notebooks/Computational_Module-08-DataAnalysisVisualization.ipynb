{
 "cells": [
  {
   "cell_type": "markdown",
   "metadata": {},
   "source": [
    "# <font face=\"times\"><font size=\"6pt\"><p style = 'text-align: center;'> BRYN MAWR COLLEGE\n",
    "\n",
    "<font face=\"times\"><font size=\"6pt\"><p style = 'text-align: center;'><b>Computational Methods in the Physical Sciences</b><br/><br/>\n",
    "\n",
    "<p style = 'text-align: center;'><b>Module 8: Data Analysis & Visualization </b><br/><br/> "
   ]
  },
  {
   "cell_type": "markdown",
   "metadata": {},
   "source": [
    "***Prerequisite modules***: Module 6 -- Linear Equations; Module 7 -- Eigenequations \n",
    "\n",
    "***Estimated completion time***: 3 hours  \n",
    "\n",
    "***Learning objectives***: Become familiar with the basic approach to numerical least-squares fitting of data and explore some basic features of the Pandas data science package and Bokeh data visualization package.  Introductions to singular value decomposition and principal components analysis are provided in appendices.\n"
   ]
  },
  {
   "cell_type": "markdown",
   "metadata": {},
   "source": [
    "   "
   ]
  },
  {
   "cell_type": "markdown",
   "metadata": {},
   "source": [
    "<img src = './Images/friction_xkcd.png'  width=300>"
   ]
  },
  {
   "cell_type": "markdown",
   "metadata": {},
   "source": [
    "<center>(Image credit: https://xkcd.com/815)</center>"
   ]
  },
  {
   "cell_type": "markdown",
   "metadata": {},
   "source": [
    "   "
   ]
  },
  {
   "cell_type": "markdown",
   "metadata": {},
   "source": [
    "Extracting information from data is a central activity in all of the sciences and engineering, as well as other quantitative fields such as economics.  One common need is to fit a set of data using a linear or nonlinear curve.  Most numerical software --- including spreadsheets, Mathematica, MATLAB, etc. --- will offer a range of options for performing such fits.  This module will explore some of the basic ideas underlying those fitting methods, which might be helpful to know when trying to fit data that's poorly modeled by standard functions.  As another example of a data analysis technique, this module also introduces principal components analysis, used for finding relationships between correlated variables.  This module barely scratches the surface of the body of established data analysis techniques.  For more information, see the Wikipedia page on data analytics."
   ]
  },
  {
   "cell_type": "markdown",
   "metadata": {},
   "source": [
    "   "
   ]
  },
  {
   "cell_type": "markdown",
   "metadata": {},
   "source": [
    "### <font color=\"blue\">Scientist Profile</font>\n",
    "\n",
    "**Jeannette Wing** is a computer scientist who works in the areas of trustworthy computing (security and privacy), distributed systems, programming languages, and software engineering, among others.  She received her bachelor's (1979), master's (1979) and Ph.D. (1983) degrees from MIT, and taught briefly at the University of Southern California before moving to Carnegie Mellon University.  She has been on the editorial boards of several important computer science journals, and served as assistant director of the Computer and Information Science and Engineering Directorate at the National Science Foundation from 2007-2010: this directorate funds academic research in computer science in the U.S.  Currently, she serves as a Corporate Vice President at Microsoft Research.  (Profile information from https://www.microsoft.com/en-us/research/people/wing/ and http://www.cs.cmu.edu/~wing/.)"
   ]
  },
  {
   "cell_type": "markdown",
   "metadata": {},
   "source": [
    "<img src = './Images/Jeannette_Wing.jpg'  width=200>"
   ]
  },
  {
   "cell_type": "markdown",
   "metadata": {},
   "source": [
    "<center>(Image credit: https://news.microsoft.com/2012/11/20/microsoft-hires-jeannette-wing-as-new-vice-president-head-of-microsoft-research-international/)</center>"
   ]
  },
  {
   "cell_type": "markdown",
   "metadata": {},
   "source": [
    "   "
   ]
  },
  {
   "cell_type": "markdown",
   "metadata": {},
   "source": [
    "## <font color=\"blue\">8.1  Linear Least-Squares Fitting</font>\n",
    "\n",
    "The general problem we are considering here$^1$ is one in which we have $N$ data points of the form $(x_i, y_i)$ that obey some assumed relationship $y = y(x)$, so that for each point\n",
    "\n",
    "\\begin{equation}\n",
    "y_i = y(x_i). \n",
    "\\end{equation}\n",
    "\n",
    "Here, we're thinking of $x$ as the independent variable and $y$ as the dependent variable.  Our goal is to represent the relationship $y(x)$ in terms of some parameters $a_j$ which will correspond to coefficients of ***basis functions*** $F_j(x)$ in a sum of $M$ terms, as in\n",
    "\n",
    "\\begin{equation}\n",
    "y(x) = \\sum_{j=1}^M a_j F_j(x). \n",
    "\\end{equation}\n",
    "\n",
    "The expression on the right is called a ***linear model*** because the *coefficients* enter the expression linearly; the $F_j(x)$ themselves generally are *non*linear functions of $x$, however.  A common choice for the set of functions $F_j$ is the polynomials --- $F_1(x) = 1, F_2(x) = x, F_3(x) = x^2$, etc. --- but they could also be $\\sin(x)$ or $\\cos(x)$ (in a Fourier series), exponential functions, or whatever else might be appropriate for the problem at hand.  \n",
    "\n",
    "Once the set of functions is chosen, the most common criterion to use in determining the coefficients is the ***least squares*** condition, in which we require that the following sum-of-squares expression be a minimum:\n",
    "\n",
    "\\begin{equation}\n",
    "S \\equiv \\sum_{i=1}^N r_i^2 = \\sum_{i=1}^N \\left[ y_i - \\sum_{j=1}^M a_j F_j(x_i) \\right]^2 .  \\hspace{50pt} (1) %\\label{lssum}\n",
    "\\end{equation}\n",
    "  \n",
    "For a given $i$, the term in brackets represents the difference between the $i^{\\text{th}}$ data value, $y_i$, and the approximation to it resulting from the model (i.e., the best-fit curve).  This difference, represented by $r_i$, is called a ***residual***, shown in Figure 1 as the vertical orange line segments.  The goal of least-squares fitting is to find the set of coefficients $a_i$ that minimizes the sum of squared residuals.  In the best-case scenario, the model exactly fits all of the data, so all of the residuals vanish and the least-squares sum is zero.  [This will happen automatically if the basis functions $F_j$ are independent, and if $M \\ge N$; i.e., the number of basis functions is greater than or equal to the number of data points.  This would occur, for instance, if we fit two points with a straight line (of the form $a_0 + a_1 x$, using two basis functions) or a quadratic polynomial ($a_0 + a_1 x + a_2 x^2$, using three basis functions).]  \n",
    "\n",
    "It should be noted that if the basis functions are not independent --- i.e., if there is a set of coefficients $b_j$, not all of which are zero, such that $\\sum_{j=1}^M b_j F_j(x_i) = 0$ \\, (for $i = 1, 2, \\dots, N$) --- then the requirement that the sum above be minimized will not uniquely determine the $a_i$; thus, more than one set of $a_i$ could minimize $S$.\n"
   ]
  },
  {
   "cell_type": "markdown",
   "metadata": {},
   "source": [
    "<img src = './Images/residuals-2-cropped.jpg'  width=400>"
   ]
  },
  {
   "cell_type": "markdown",
   "metadata": {},
   "source": [
    "<center><b>Figure 1</b>: Linear data fit with residuals</center>\n",
    "<br>\n",
    "<center>(Image credit: http://www.zweigmedia.com/RealWorld/calctopic1/regression.html )</center>"
   ]
  },
  {
   "cell_type": "markdown",
   "metadata": {},
   "source": [
    "   "
   ]
  },
  {
   "cell_type": "markdown",
   "metadata": {},
   "source": [
    "Multiple approaches exist for finding the $a_i$ that minimize Eq. (1).  The obvious one is to use calculus: just as we minimize a function $f(x)$ by requiring $df/dx = 0$, in this case involving multiple $a_i$ variables we should differentiate $S$ with respect to *each* of the $a_i$, and require the results to be zero; that is, using partial derivatives, require $\\partial S / \\partial a_k = 0$ for all $k$ ($k = 1, 2, \\dots, N$).  Doing this, and reversing the order of the sums, the result is\n",
    "\n",
    "\\begin{equation}\n",
    "\\sum_{j=1}^M \\left[ \\sum_{i=1}^N F_j(x_i) F_k(x_i) \\right] a_j = \\sum_{i=1}^N y_i F_k(x_i) .  \n",
    "\\end{equation}"
   ]
  },
  {
   "cell_type": "markdown",
   "metadata": {},
   "source": [
    "   "
   ]
  },
  {
   "cell_type": "markdown",
   "metadata": {},
   "source": [
    "<font color=\"green\"><b>Breakpoint 1</b></font>: Obtain this result by differentiating the previous equation and setting the result to $0$.  (Hints: Think of each of the other $a$'s as constants when differentiating with respect to a particular $a_k$.  It may help to expand a few terms in the sums, take their derivatives, and then rewrite the sums.)"
   ]
  },
  {
   "cell_type": "markdown",
   "metadata": {},
   "source": [
    "   "
   ]
  },
  {
   "cell_type": "markdown",
   "metadata": {},
   "source": [
    "This expression represents a set of $M$ simultaneous equations in the $M$ unknown $a_j$'s, called the ***normal equations***, which can be written in the matrix form $\\mathbf{M} \\mathbf{a} = \\mathbf{q}$, where the matrix $\\mathbf{M}$ and vector $\\mathbf{q}$ have components\n",
    "\n",
    "\\begin{align}\n",
    "M_{kj} & = \\sum_{i=1}^N F_k(x_i) F_j(x_i) ,  \\\\\n",
    "q_k & = \\sum_{i=1}^N y_i F_k(x_i) ,   \n",
    "\\end{align}\n",
    "\n",
    "and the components of vector $\\mathbf{a}$ are just the $a_j$.  Note that the elements of $\\mathbf{M}$ depend only on the basis functions, not on the data values (the $y_i$), while the elements of $\\mathbf{q}$ depend on both.  \n",
    "\n",
    "As an example, suppose we wish to fit $N$ data points ($x_i, y_i$) with a straight line, $y(x) = a_1 + a_2 x$ (so $F_1(x_i) = 1$ and $F_2(x_i) = x_i$).  Then $M_{11} = \\sum 1 \\cdot 1$, $M_{12} = \\sum 1 \\cdot x_i = M_{21}$, $M_{22} = \\sum x_i \\cdot x_i$, and $q_{1} = \\sum y_i \\cdot 1$, $q_{2} = \\sum y_i \\cdot x_i$.  Hence, $\\mathbf{M}$ and $\\mathbf{q}$ take the forms\n",
    "\n",
    "\\begin{equation}\n",
    "\\mathbf{M} = \n",
    "\\left( \n",
    "\\begin{matrix}  \n",
    "N & \\sum x_i  \\\\\n",
    "\\sum x_i & \\sum x_i^2  \n",
    "\\end{matrix} \n",
    "\\right) \\hspace{5mm} \\textrm{and} \\hspace{5mm} \n",
    "\\mathbf{q} = \n",
    "\\left( \n",
    "\\begin{matrix}  \n",
    "\\sum y_i  \\\\\n",
    "\\sum x_i y_i  \n",
    "\\end{matrix} \n",
    "\\right) , \n",
    "\\end{equation}\n",
    "\n",
    "where the sums run from 1 to $N$.  The normal equations can be solved by one of the methods introduced in Module 6, except in the not uncommon situation that $\\mathbf{M}$ has a form that is singular or nearly so, which can lead to large errors in the computed $a_j$'s.  As noted in that module, a new method known as ***singular value decomposition*** (SVD) can be used to treat such situations.  Since that method works perfectly well in the case of non-singular matrices too, it is the technique of choice for linear least-squares fitting.  The SVD approach is fairly complicated so it will not be discussed here, but an explanation is provided in Appendix 1 for the interested reader.  Fortunately, a SVD function is provided in the `numpy.linalg` package. \n"
   ]
  },
  {
   "cell_type": "markdown",
   "metadata": {},
   "source": [
    "   "
   ]
  },
  {
   "cell_type": "markdown",
   "metadata": {},
   "source": [
    "<font color=\"green\"><b>Breakpoint 2</b></font>: Write out the forms of $\\mathbf{M}$ and $\\mathbf{q}$ for the case that we wish to fit $N$ data points with a quadratic polynonial, $a_0 + a_1 x + a_2 x^2$."
   ]
  },
  {
   "cell_type": "markdown",
   "metadata": {},
   "source": [
    "   "
   ]
  },
  {
   "cell_type": "markdown",
   "metadata": {},
   "source": [
    "It's worth mentioning that often one wants to fit a set of data with known measurement uncertainties.  If we denote by $\\delta_i$ the uncertainty in the data value $y_i$, then in the presence of measurement uncertainties the definitions of the $\\mathbf{M}$ matrix and $\\mathbf{q}$ vector in the normal equations are modified to\n",
    "\n",
    "\\begin{align}\n",
    "M_{kj} & = \\sum_{i=1}^N \\dfrac{1}{\\delta_i^2} \\, F_k(x_i) F_j(x_i) ,   \\hspace{50pt}  (2)  \\\\  %\\label{normalM}  \n",
    "q_k & = \\sum_{i=1}^N \\dfrac{1}{\\delta_i^2} \\,y_i F_k(x_i)  \\hspace{68pt}  (3)  %\\label{normalq} .\n",
    "\\end{align}\n",
    "\n",
    "The rest of the analysis in this situation proceeds just as in the case of no specified uncertainties (which corresponds to $\\delta_i = 1$, for all $i$)."
   ]
  },
  {
   "cell_type": "markdown",
   "metadata": {},
   "source": [
    "   "
   ]
  },
  {
   "cell_type": "markdown",
   "metadata": {},
   "source": [
    "## <font color=\"blue\">8.2  An Introduction to Pandas for Data Analysis</font>\n",
    "\n",
    "***Pandas*** (http://pandas.pydata.org/) is a data analysis library written in Python that provides tools for creating, manipulating, and analyzing data files of different formats (and which often is used in \"big data\" applications, where computer speed and memory limitations can be concerns).   A set of tutorials can be found here: https://pandas.pydata.org/pandas-docs/stable/tutorials.html .\n",
    "\n",
    "The first part of this section is adapted from https://nbviewer.jupyter.org/urls/bitbucket.org/hrojas/learn-pandas/raw/master/lessons/01%20-%20Lesson.ipynb"
   ]
  },
  {
   "cell_type": "markdown",
   "metadata": {},
   "source": [
    "To start, import the necessary libraries:"
   ]
  },
  {
   "cell_type": "code",
   "execution_count": 2,
   "metadata": {},
   "outputs": [],
   "source": [
    "# Import all libraries needed for the tutorial\n",
    "\n",
    "import matplotlib.pyplot as plt\n",
    "import pandas as pd \n",
    "\n",
    "# Enable inline plotting\n",
    "%matplotlib inline"
   ]
  },
  {
   "cell_type": "markdown",
   "metadata": {},
   "source": [
    "The cell below creates two lists of data: baby names (from the year 1880) and the corresponding numbers of births:"
   ]
  },
  {
   "cell_type": "code",
   "execution_count": 35,
   "metadata": {},
   "outputs": [],
   "source": [
    "names = ['Bob','Jessica','Mary','John','Mel']\n",
    "births = [968, 155, 77, 578, 973]"
   ]
  },
  {
   "cell_type": "markdown",
   "metadata": {},
   "source": [
    "Next, they're combined into a single list (2 by 5) using the ***`zip()`*** function -- like a zipper, it pairs each element of the first list with the corresponding element of the second list:"
   ]
  },
  {
   "cell_type": "code",
   "execution_count": 36,
   "metadata": {},
   "outputs": [
    {
     "data": {
      "text/plain": [
       "[('Bob', 968), ('Jessica', 155), ('Mary', 77), ('John', 578), ('Mel', 973)]"
      ]
     },
     "execution_count": 36,
     "metadata": {},
     "output_type": "execute_result"
    }
   ],
   "source": [
    "BabyDataSet = list(zip(names,births))\n",
    "BabyDataSet"
   ]
  },
  {
   "cell_type": "markdown",
   "metadata": {},
   "source": [
    "In the next cell, the data set is put into an object called a ***Data Frame***, which formats it more like a spreadsheet or database table; the `df` line displays the data:"
   ]
  },
  {
   "cell_type": "code",
   "execution_count": 37,
   "metadata": {},
   "outputs": [
    {
     "data": {
      "text/html": [
       "<div>\n",
       "<style scoped>\n",
       "    .dataframe tbody tr th:only-of-type {\n",
       "        vertical-align: middle;\n",
       "    }\n",
       "\n",
       "    .dataframe tbody tr th {\n",
       "        vertical-align: top;\n",
       "    }\n",
       "\n",
       "    .dataframe thead th {\n",
       "        text-align: right;\n",
       "    }\n",
       "</style>\n",
       "<table border=\"1\" class=\"dataframe\">\n",
       "  <thead>\n",
       "    <tr style=\"text-align: right;\">\n",
       "      <th></th>\n",
       "      <th>Names</th>\n",
       "      <th>Births</th>\n",
       "    </tr>\n",
       "  </thead>\n",
       "  <tbody>\n",
       "    <tr>\n",
       "      <th>0</th>\n",
       "      <td>Bob</td>\n",
       "      <td>968</td>\n",
       "    </tr>\n",
       "    <tr>\n",
       "      <th>1</th>\n",
       "      <td>Jessica</td>\n",
       "      <td>155</td>\n",
       "    </tr>\n",
       "    <tr>\n",
       "      <th>2</th>\n",
       "      <td>Mary</td>\n",
       "      <td>77</td>\n",
       "    </tr>\n",
       "    <tr>\n",
       "      <th>3</th>\n",
       "      <td>John</td>\n",
       "      <td>578</td>\n",
       "    </tr>\n",
       "    <tr>\n",
       "      <th>4</th>\n",
       "      <td>Mel</td>\n",
       "      <td>973</td>\n",
       "    </tr>\n",
       "  </tbody>\n",
       "</table>\n",
       "</div>"
      ],
      "text/plain": [
       "     Names  Births\n",
       "0      Bob     968\n",
       "1  Jessica     155\n",
       "2     Mary      77\n",
       "3     John     578\n",
       "4      Mel     973"
      ]
     },
     "execution_count": 37,
     "metadata": {},
     "output_type": "execute_result"
    }
   ],
   "source": [
    "df = pd.DataFrame(data = BabyDataSet, columns=['Names', 'Births'])\n",
    "df"
   ]
  },
  {
   "cell_type": "markdown",
   "metadata": {},
   "source": [
    "The next cell exports the data frame to a ***csv*** (comma-separated value) file, named `births1880.csv`, which can be read by spreadsheet programs like Excel, and by database programs as well.  The file will be saved in the same directory in which the creating notebook resides."
   ]
  },
  {
   "cell_type": "code",
   "execution_count": 38,
   "metadata": {},
   "outputs": [],
   "source": [
    "df.to_csv('births1880.csv', index=False, header=False)"
   ]
  },
  {
   "cell_type": "markdown",
   "metadata": {},
   "source": [
    "The next cell will read the data back in, using the ***`read_csv()`*** function.  That function can take many arguments (remember that you can get information on a function by typing its name followed by a question mark in a code cell and running the cell), but we'll just give it the filename:  "
   ]
  },
  {
   "cell_type": "code",
   "execution_count": 39,
   "metadata": {},
   "outputs": [
    {
     "data": {
      "text/html": [
       "<div>\n",
       "<style scoped>\n",
       "    .dataframe tbody tr th:only-of-type {\n",
       "        vertical-align: middle;\n",
       "    }\n",
       "\n",
       "    .dataframe tbody tr th {\n",
       "        vertical-align: top;\n",
       "    }\n",
       "\n",
       "    .dataframe thead th {\n",
       "        text-align: right;\n",
       "    }\n",
       "</style>\n",
       "<table border=\"1\" class=\"dataframe\">\n",
       "  <thead>\n",
       "    <tr style=\"text-align: right;\">\n",
       "      <th></th>\n",
       "      <th>Bob</th>\n",
       "      <th>968</th>\n",
       "    </tr>\n",
       "  </thead>\n",
       "  <tbody>\n",
       "    <tr>\n",
       "      <th>0</th>\n",
       "      <td>Jessica</td>\n",
       "      <td>155</td>\n",
       "    </tr>\n",
       "    <tr>\n",
       "      <th>1</th>\n",
       "      <td>Mary</td>\n",
       "      <td>77</td>\n",
       "    </tr>\n",
       "    <tr>\n",
       "      <th>2</th>\n",
       "      <td>John</td>\n",
       "      <td>578</td>\n",
       "    </tr>\n",
       "    <tr>\n",
       "      <th>3</th>\n",
       "      <td>Mel</td>\n",
       "      <td>973</td>\n",
       "    </tr>\n",
       "  </tbody>\n",
       "</table>\n",
       "</div>"
      ],
      "text/plain": [
       "       Bob  968\n",
       "0  Jessica  155\n",
       "1     Mary   77\n",
       "2     John  578\n",
       "3      Mel  973"
      ]
     },
     "execution_count": 39,
     "metadata": {},
     "output_type": "execute_result"
    }
   ],
   "source": [
    "df2 = pd.read_csv('births1880.csv')\n",
    "df2"
   ]
  },
  {
   "cell_type": "markdown",
   "metadata": {},
   "source": [
    "This doesn't look right! That's because in calling the `to_csv` function earlier, we passed the argument `header=False`, which told the function that we did not want to save the headers (\"Names\", \"Births\") in the columns of the data table. But `read_csv`, which was just called, assumes that the first row of items are headers. To fix this problem, we can call `read_csv` with the additional argument `header=None`:"
   ]
  },
  {
   "cell_type": "code",
   "execution_count": 40,
   "metadata": {},
   "outputs": [
    {
     "data": {
      "text/html": [
       "<div>\n",
       "<style scoped>\n",
       "    .dataframe tbody tr th:only-of-type {\n",
       "        vertical-align: middle;\n",
       "    }\n",
       "\n",
       "    .dataframe tbody tr th {\n",
       "        vertical-align: top;\n",
       "    }\n",
       "\n",
       "    .dataframe thead th {\n",
       "        text-align: right;\n",
       "    }\n",
       "</style>\n",
       "<table border=\"1\" class=\"dataframe\">\n",
       "  <thead>\n",
       "    <tr style=\"text-align: right;\">\n",
       "      <th></th>\n",
       "      <th>0</th>\n",
       "      <th>1</th>\n",
       "    </tr>\n",
       "  </thead>\n",
       "  <tbody>\n",
       "    <tr>\n",
       "      <th>0</th>\n",
       "      <td>Bob</td>\n",
       "      <td>968</td>\n",
       "    </tr>\n",
       "    <tr>\n",
       "      <th>1</th>\n",
       "      <td>Jessica</td>\n",
       "      <td>155</td>\n",
       "    </tr>\n",
       "    <tr>\n",
       "      <th>2</th>\n",
       "      <td>Mary</td>\n",
       "      <td>77</td>\n",
       "    </tr>\n",
       "    <tr>\n",
       "      <th>3</th>\n",
       "      <td>John</td>\n",
       "      <td>578</td>\n",
       "    </tr>\n",
       "    <tr>\n",
       "      <th>4</th>\n",
       "      <td>Mel</td>\n",
       "      <td>973</td>\n",
       "    </tr>\n",
       "  </tbody>\n",
       "</table>\n",
       "</div>"
      ],
      "text/plain": [
       "         0    1\n",
       "0      Bob  968\n",
       "1  Jessica  155\n",
       "2     Mary   77\n",
       "3     John  578\n",
       "4      Mel  973"
      ]
     },
     "execution_count": 40,
     "metadata": {},
     "output_type": "execute_result"
    }
   ],
   "source": [
    "df2 = pd.read_csv('births1880.csv', header=None)\n",
    "df2"
   ]
  },
  {
   "cell_type": "markdown",
   "metadata": {},
   "source": [
    "Note that the data was read in correctly this time, and that the `read_csv` function added a header row with the numbers 0 and 1.\n",
    "\n",
    "An alternative solution would have been to supply our own headers, as follows:"
   ]
  },
  {
   "cell_type": "code",
   "execution_count": 41,
   "metadata": {},
   "outputs": [
    {
     "data": {
      "text/html": [
       "<div>\n",
       "<style scoped>\n",
       "    .dataframe tbody tr th:only-of-type {\n",
       "        vertical-align: middle;\n",
       "    }\n",
       "\n",
       "    .dataframe tbody tr th {\n",
       "        vertical-align: top;\n",
       "    }\n",
       "\n",
       "    .dataframe thead th {\n",
       "        text-align: right;\n",
       "    }\n",
       "</style>\n",
       "<table border=\"1\" class=\"dataframe\">\n",
       "  <thead>\n",
       "    <tr style=\"text-align: right;\">\n",
       "      <th></th>\n",
       "      <th>Names</th>\n",
       "      <th># Births</th>\n",
       "    </tr>\n",
       "  </thead>\n",
       "  <tbody>\n",
       "    <tr>\n",
       "      <th>0</th>\n",
       "      <td>Bob</td>\n",
       "      <td>968</td>\n",
       "    </tr>\n",
       "    <tr>\n",
       "      <th>1</th>\n",
       "      <td>Jessica</td>\n",
       "      <td>155</td>\n",
       "    </tr>\n",
       "    <tr>\n",
       "      <th>2</th>\n",
       "      <td>Mary</td>\n",
       "      <td>77</td>\n",
       "    </tr>\n",
       "    <tr>\n",
       "      <th>3</th>\n",
       "      <td>John</td>\n",
       "      <td>578</td>\n",
       "    </tr>\n",
       "    <tr>\n",
       "      <th>4</th>\n",
       "      <td>Mel</td>\n",
       "      <td>973</td>\n",
       "    </tr>\n",
       "  </tbody>\n",
       "</table>\n",
       "</div>"
      ],
      "text/plain": [
       "     Names  # Births\n",
       "0      Bob       968\n",
       "1  Jessica       155\n",
       "2     Mary        77\n",
       "3     John       578\n",
       "4      Mel       973"
      ]
     },
     "execution_count": 41,
     "metadata": {},
     "output_type": "execute_result"
    }
   ],
   "source": [
    "df3 = pd.read_csv('births1880.csv', names=['Names', '# Births'])\n",
    "df3"
   ]
  },
  {
   "cell_type": "markdown",
   "metadata": {},
   "source": [
    "Next, let's check the data types of the entries in our file.  All of the 'Names' should be strings, while all of the 'Birth' numbers should be integers:"
   ]
  },
  {
   "cell_type": "code",
   "execution_count": 42,
   "metadata": {},
   "outputs": [
    {
     "data": {
      "text/plain": [
       "Names     object\n",
       "Births     int64\n",
       "dtype: object"
      ]
     },
     "execution_count": 42,
     "metadata": {},
     "output_type": "execute_result"
    }
   ],
   "source": [
    "df.dtypes"
   ]
  },
  {
   "cell_type": "markdown",
   "metadata": {},
   "source": [
    "Apparently, Pandas often identifies strings as being of `object` type, and `int64` indicates 64-bit integers.   \n",
    "\n",
    "We can sort them, for example from largest to smallest number of births (in a \"descending\" sort)..."
   ]
  },
  {
   "cell_type": "code",
   "execution_count": 43,
   "metadata": {},
   "outputs": [
    {
     "data": {
      "text/html": [
       "<div>\n",
       "<style scoped>\n",
       "    .dataframe tbody tr th:only-of-type {\n",
       "        vertical-align: middle;\n",
       "    }\n",
       "\n",
       "    .dataframe tbody tr th {\n",
       "        vertical-align: top;\n",
       "    }\n",
       "\n",
       "    .dataframe thead th {\n",
       "        text-align: right;\n",
       "    }\n",
       "</style>\n",
       "<table border=\"1\" class=\"dataframe\">\n",
       "  <thead>\n",
       "    <tr style=\"text-align: right;\">\n",
       "      <th></th>\n",
       "      <th>Names</th>\n",
       "      <th>Births</th>\n",
       "    </tr>\n",
       "  </thead>\n",
       "  <tbody>\n",
       "    <tr>\n",
       "      <th>4</th>\n",
       "      <td>Mel</td>\n",
       "      <td>973</td>\n",
       "    </tr>\n",
       "    <tr>\n",
       "      <th>0</th>\n",
       "      <td>Bob</td>\n",
       "      <td>968</td>\n",
       "    </tr>\n",
       "    <tr>\n",
       "      <th>3</th>\n",
       "      <td>John</td>\n",
       "      <td>578</td>\n",
       "    </tr>\n",
       "    <tr>\n",
       "      <th>1</th>\n",
       "      <td>Jessica</td>\n",
       "      <td>155</td>\n",
       "    </tr>\n",
       "    <tr>\n",
       "      <th>2</th>\n",
       "      <td>Mary</td>\n",
       "      <td>77</td>\n",
       "    </tr>\n",
       "  </tbody>\n",
       "</table>\n",
       "</div>"
      ],
      "text/plain": [
       "     Names  Births\n",
       "4      Mel     973\n",
       "0      Bob     968\n",
       "3     John     578\n",
       "1  Jessica     155\n",
       "2     Mary      77"
      ]
     },
     "execution_count": 43,
     "metadata": {},
     "output_type": "execute_result"
    }
   ],
   "source": [
    "SortedD = df.sort_values(['Births'], ascending=False)\n",
    "SortedD"
   ]
  },
  {
   "cell_type": "markdown",
   "metadata": {},
   "source": [
    "Or an \"ascending\" sort, from smallest to largest..."
   ]
  },
  {
   "cell_type": "code",
   "execution_count": 44,
   "metadata": {},
   "outputs": [
    {
     "data": {
      "text/html": [
       "<div>\n",
       "<style scoped>\n",
       "    .dataframe tbody tr th:only-of-type {\n",
       "        vertical-align: middle;\n",
       "    }\n",
       "\n",
       "    .dataframe tbody tr th {\n",
       "        vertical-align: top;\n",
       "    }\n",
       "\n",
       "    .dataframe thead th {\n",
       "        text-align: right;\n",
       "    }\n",
       "</style>\n",
       "<table border=\"1\" class=\"dataframe\">\n",
       "  <thead>\n",
       "    <tr style=\"text-align: right;\">\n",
       "      <th></th>\n",
       "      <th>Names</th>\n",
       "      <th>Births</th>\n",
       "    </tr>\n",
       "  </thead>\n",
       "  <tbody>\n",
       "    <tr>\n",
       "      <th>2</th>\n",
       "      <td>Mary</td>\n",
       "      <td>77</td>\n",
       "    </tr>\n",
       "    <tr>\n",
       "      <th>1</th>\n",
       "      <td>Jessica</td>\n",
       "      <td>155</td>\n",
       "    </tr>\n",
       "    <tr>\n",
       "      <th>3</th>\n",
       "      <td>John</td>\n",
       "      <td>578</td>\n",
       "    </tr>\n",
       "    <tr>\n",
       "      <th>0</th>\n",
       "      <td>Bob</td>\n",
       "      <td>968</td>\n",
       "    </tr>\n",
       "    <tr>\n",
       "      <th>4</th>\n",
       "      <td>Mel</td>\n",
       "      <td>973</td>\n",
       "    </tr>\n",
       "  </tbody>\n",
       "</table>\n",
       "</div>"
      ],
      "text/plain": [
       "     Names  Births\n",
       "2     Mary      77\n",
       "1  Jessica     155\n",
       "3     John     578\n",
       "0      Bob     968\n",
       "4      Mel     973"
      ]
     },
     "execution_count": 44,
     "metadata": {},
     "output_type": "execute_result"
    }
   ],
   "source": [
    "SortedA = df.sort_values(['Births'], ascending=True)\n",
    "SortedA"
   ]
  },
  {
   "cell_type": "markdown",
   "metadata": {},
   "source": [
    "Or on the names..."
   ]
  },
  {
   "cell_type": "code",
   "execution_count": 45,
   "metadata": {},
   "outputs": [
    {
     "data": {
      "text/html": [
       "<div>\n",
       "<style scoped>\n",
       "    .dataframe tbody tr th:only-of-type {\n",
       "        vertical-align: middle;\n",
       "    }\n",
       "\n",
       "    .dataframe tbody tr th {\n",
       "        vertical-align: top;\n",
       "    }\n",
       "\n",
       "    .dataframe thead th {\n",
       "        text-align: right;\n",
       "    }\n",
       "</style>\n",
       "<table border=\"1\" class=\"dataframe\">\n",
       "  <thead>\n",
       "    <tr style=\"text-align: right;\">\n",
       "      <th></th>\n",
       "      <th>Names</th>\n",
       "      <th>Births</th>\n",
       "    </tr>\n",
       "  </thead>\n",
       "  <tbody>\n",
       "    <tr>\n",
       "      <th>0</th>\n",
       "      <td>Bob</td>\n",
       "      <td>968</td>\n",
       "    </tr>\n",
       "    <tr>\n",
       "      <th>1</th>\n",
       "      <td>Jessica</td>\n",
       "      <td>155</td>\n",
       "    </tr>\n",
       "    <tr>\n",
       "      <th>3</th>\n",
       "      <td>John</td>\n",
       "      <td>578</td>\n",
       "    </tr>\n",
       "    <tr>\n",
       "      <th>2</th>\n",
       "      <td>Mary</td>\n",
       "      <td>77</td>\n",
       "    </tr>\n",
       "    <tr>\n",
       "      <th>4</th>\n",
       "      <td>Mel</td>\n",
       "      <td>973</td>\n",
       "    </tr>\n",
       "  </tbody>\n",
       "</table>\n",
       "</div>"
      ],
      "text/plain": [
       "     Names  Births\n",
       "0      Bob     968\n",
       "1  Jessica     155\n",
       "3     John     578\n",
       "2     Mary      77\n",
       "4      Mel     973"
      ]
     },
     "execution_count": 45,
     "metadata": {},
     "output_type": "execute_result"
    }
   ],
   "source": [
    "SortedN = df.sort_values(['Names'], ascending=True)\n",
    "SortedN"
   ]
  },
  {
   "cell_type": "markdown",
   "metadata": {},
   "source": [
    "Of course, we also can find maximum and minimum values:"
   ]
  },
  {
   "cell_type": "code",
   "execution_count": 46,
   "metadata": {},
   "outputs": [
    {
     "name": "stdout",
     "output_type": "stream",
     "text": [
      "973\n",
      "77\n"
     ]
    }
   ],
   "source": [
    "dfmax = df[\"Births\"].max()\n",
    "print(dfmax)\n",
    "\n",
    "dfmin = df[\"Births\"].min()\n",
    "print(dfmin)"
   ]
  },
  {
   "cell_type": "markdown",
   "metadata": {},
   "source": [
    "Now, let's try working with more interesting data: radial velocity values of a star, e.g. R Arietis, taken from the website http://vizier.cfa.harvard.edu/viz-bin/VizieR-4.  The site gave the option of downloading the data as a tab-separated file, which it labeled \"asu.tsv\".  An extra column (with \"A,\" \"B,\" \"C,\" and \"D\" values) was added before the star data to make it possible to demonstrate some of Panda's other capabilities.  We can pretend that these values represent observations by different sensors on a satellite.\n",
    "\n",
    "To read in the data, we'll use the `read_csv()` function we used before, but we'll have to specify that our data file is tab-separated , rather than comma-separated (with argument `sep='\\t'`).  We'll also have to ignore the first 36 rows (argument `skiprows=36`), which contain background and formatting information.  To keep the file small for display, we'll read just the first 12 rows after the 36 ignored ones (argument `nrows=12`).  The entire set of data will be labeled `star`.  \n",
    "\n",
    "We'll add a header row to label the four columns of values as `Sensor`, `Date`, `RV`, and `Unc`.  The \"`usecols`\" parameter specifies which columns to use: the first column is the sensor used, the second is the date of observation of the star (in \"Heliocentric Julian date\" format), the third is the star's radial velocity (in m/s), and the fourth is the uncertainty in that velocity (also in m/s)."
   ]
  },
  {
   "cell_type": "code",
   "execution_count": 93,
   "metadata": {},
   "outputs": [
    {
     "data": {
      "text/html": [
       "<div>\n",
       "<style scoped>\n",
       "    .dataframe tbody tr th:only-of-type {\n",
       "        vertical-align: middle;\n",
       "    }\n",
       "\n",
       "    .dataframe tbody tr th {\n",
       "        vertical-align: top;\n",
       "    }\n",
       "\n",
       "    .dataframe thead th {\n",
       "        text-align: right;\n",
       "    }\n",
       "</style>\n",
       "<table border=\"1\" class=\"dataframe\">\n",
       "  <thead>\n",
       "    <tr style=\"text-align: right;\">\n",
       "      <th></th>\n",
       "      <th>Sensor</th>\n",
       "      <th>Date</th>\n",
       "      <th>RV</th>\n",
       "      <th>Unc</th>\n",
       "    </tr>\n",
       "  </thead>\n",
       "  <tbody>\n",
       "    <tr>\n",
       "      <th>0</th>\n",
       "      <td>A</td>\n",
       "      <td>2452948.109</td>\n",
       "      <td>8.4</td>\n",
       "      <td>6.0</td>\n",
       "    </tr>\n",
       "    <tr>\n",
       "      <th>1</th>\n",
       "      <td>D</td>\n",
       "      <td>2452948.112</td>\n",
       "      <td>3.9</td>\n",
       "      <td>6.4</td>\n",
       "    </tr>\n",
       "    <tr>\n",
       "      <th>2</th>\n",
       "      <td>C</td>\n",
       "      <td>2452948.114</td>\n",
       "      <td>6.2</td>\n",
       "      <td>5.9</td>\n",
       "    </tr>\n",
       "    <tr>\n",
       "      <th>3</th>\n",
       "      <td>A</td>\n",
       "      <td>2452948.116</td>\n",
       "      <td>5.6</td>\n",
       "      <td>5.8</td>\n",
       "    </tr>\n",
       "    <tr>\n",
       "      <th>4</th>\n",
       "      <td>B</td>\n",
       "      <td>2452948.118</td>\n",
       "      <td>13.6</td>\n",
       "      <td>5.9</td>\n",
       "    </tr>\n",
       "    <tr>\n",
       "      <th>5</th>\n",
       "      <td>A</td>\n",
       "      <td>2452948.119</td>\n",
       "      <td>10.6</td>\n",
       "      <td>5.9</td>\n",
       "    </tr>\n",
       "    <tr>\n",
       "      <th>6</th>\n",
       "      <td>C</td>\n",
       "      <td>2452948.121</td>\n",
       "      <td>5.4</td>\n",
       "      <td>6.0</td>\n",
       "    </tr>\n",
       "    <tr>\n",
       "      <th>7</th>\n",
       "      <td>D</td>\n",
       "      <td>2452948.123</td>\n",
       "      <td>6.4</td>\n",
       "      <td>6.5</td>\n",
       "    </tr>\n",
       "    <tr>\n",
       "      <th>8</th>\n",
       "      <td>D</td>\n",
       "      <td>2452948.124</td>\n",
       "      <td>12.2</td>\n",
       "      <td>6.3</td>\n",
       "    </tr>\n",
       "    <tr>\n",
       "      <th>9</th>\n",
       "      <td>C</td>\n",
       "      <td>2452948.126</td>\n",
       "      <td>17.1</td>\n",
       "      <td>6.2</td>\n",
       "    </tr>\n",
       "    <tr>\n",
       "      <th>10</th>\n",
       "      <td>A</td>\n",
       "      <td>2452948.128</td>\n",
       "      <td>14.0</td>\n",
       "      <td>6.9</td>\n",
       "    </tr>\n",
       "    <tr>\n",
       "      <th>11</th>\n",
       "      <td>B</td>\n",
       "      <td>2452948.130</td>\n",
       "      <td>7.0</td>\n",
       "      <td>6.6</td>\n",
       "    </tr>\n",
       "  </tbody>\n",
       "</table>\n",
       "</div>"
      ],
      "text/plain": [
       "   Sensor         Date    RV  Unc\n",
       "0       A  2452948.109   8.4  6.0\n",
       "1       D  2452948.112   3.9  6.4\n",
       "2       C  2452948.114   6.2  5.9\n",
       "3       A  2452948.116   5.6  5.8\n",
       "4       B  2452948.118  13.6  5.9\n",
       "5       A  2452948.119  10.6  5.9\n",
       "6       C  2452948.121   5.4  6.0\n",
       "7       D  2452948.123   6.4  6.5\n",
       "8       D  2452948.124  12.2  6.3\n",
       "9       C  2452948.126  17.1  6.2\n",
       "10      A  2452948.128  14.0  6.9\n",
       "11      B  2452948.130   7.0  6.6"
      ]
     },
     "execution_count": 93,
     "metadata": {},
     "output_type": "execute_result"
    }
   ],
   "source": [
    "star = pd.read_csv('Supplements/asu.tsv', sep='\\t', skiprows=36, nrows=12, usecols=[0,1,2,3], header=None, names=['Sensor', 'Date', 'RV', 'Unc'])\n",
    "star"
   ]
  },
  {
   "cell_type": "markdown",
   "metadata": {},
   "source": [
    "Suppose we want to select just the rows that correspond to Sensor A.  That's easy..."
   ]
  },
  {
   "cell_type": "code",
   "execution_count": 48,
   "metadata": {},
   "outputs": [
    {
     "data": {
      "text/html": [
       "<div>\n",
       "<style scoped>\n",
       "    .dataframe tbody tr th:only-of-type {\n",
       "        vertical-align: middle;\n",
       "    }\n",
       "\n",
       "    .dataframe tbody tr th {\n",
       "        vertical-align: top;\n",
       "    }\n",
       "\n",
       "    .dataframe thead th {\n",
       "        text-align: right;\n",
       "    }\n",
       "</style>\n",
       "<table border=\"1\" class=\"dataframe\">\n",
       "  <thead>\n",
       "    <tr style=\"text-align: right;\">\n",
       "      <th></th>\n",
       "      <th>Sensor</th>\n",
       "      <th>Date</th>\n",
       "      <th>RV</th>\n",
       "      <th>Unc</th>\n",
       "    </tr>\n",
       "  </thead>\n",
       "  <tbody>\n",
       "    <tr>\n",
       "      <th>0</th>\n",
       "      <td>A</td>\n",
       "      <td>2452948.109</td>\n",
       "      <td>8.4</td>\n",
       "      <td>6.0</td>\n",
       "    </tr>\n",
       "    <tr>\n",
       "      <th>3</th>\n",
       "      <td>A</td>\n",
       "      <td>2452948.116</td>\n",
       "      <td>5.6</td>\n",
       "      <td>5.8</td>\n",
       "    </tr>\n",
       "    <tr>\n",
       "      <th>5</th>\n",
       "      <td>A</td>\n",
       "      <td>2452948.119</td>\n",
       "      <td>10.6</td>\n",
       "      <td>5.9</td>\n",
       "    </tr>\n",
       "    <tr>\n",
       "      <th>10</th>\n",
       "      <td>A</td>\n",
       "      <td>2452948.128</td>\n",
       "      <td>14.0</td>\n",
       "      <td>6.9</td>\n",
       "    </tr>\n",
       "  </tbody>\n",
       "</table>\n",
       "</div>"
      ],
      "text/plain": [
       "   Sensor         Date    RV  Unc\n",
       "0       A  2452948.109   8.4  6.0\n",
       "3       A  2452948.116   5.6  5.8\n",
       "5       A  2452948.119  10.6  5.9\n",
       "10      A  2452948.128  14.0  6.9"
      ]
     },
     "execution_count": 48,
     "metadata": {},
     "output_type": "execute_result"
    }
   ],
   "source": [
    "groupA = star[star['Sensor']=='A']    \n",
    "groupA"
   ]
  },
  {
   "cell_type": "markdown",
   "metadata": {},
   "source": [
    "The command `star[star['Sensor']=='A']` pulls out the elements of `star` that satisfy the condition `star['Sensor']=='A'`.  (Note the *double*-equals sign, `==`, in the selection command.)\n",
    "\n",
    "We also can filter on values.  For example, we can find all of the rows in which the radial velocity is greater than or equal to 10:"
   ]
  },
  {
   "cell_type": "code",
   "execution_count": 49,
   "metadata": {},
   "outputs": [
    {
     "data": {
      "text/html": [
       "<div>\n",
       "<style scoped>\n",
       "    .dataframe tbody tr th:only-of-type {\n",
       "        vertical-align: middle;\n",
       "    }\n",
       "\n",
       "    .dataframe tbody tr th {\n",
       "        vertical-align: top;\n",
       "    }\n",
       "\n",
       "    .dataframe thead th {\n",
       "        text-align: right;\n",
       "    }\n",
       "</style>\n",
       "<table border=\"1\" class=\"dataframe\">\n",
       "  <thead>\n",
       "    <tr style=\"text-align: right;\">\n",
       "      <th></th>\n",
       "      <th>Sensor</th>\n",
       "      <th>Date</th>\n",
       "      <th>RV</th>\n",
       "      <th>Unc</th>\n",
       "    </tr>\n",
       "  </thead>\n",
       "  <tbody>\n",
       "    <tr>\n",
       "      <th>4</th>\n",
       "      <td>B</td>\n",
       "      <td>2452948.118</td>\n",
       "      <td>13.6</td>\n",
       "      <td>5.9</td>\n",
       "    </tr>\n",
       "    <tr>\n",
       "      <th>5</th>\n",
       "      <td>A</td>\n",
       "      <td>2452948.119</td>\n",
       "      <td>10.6</td>\n",
       "      <td>5.9</td>\n",
       "    </tr>\n",
       "    <tr>\n",
       "      <th>8</th>\n",
       "      <td>D</td>\n",
       "      <td>2452948.124</td>\n",
       "      <td>12.2</td>\n",
       "      <td>6.3</td>\n",
       "    </tr>\n",
       "    <tr>\n",
       "      <th>9</th>\n",
       "      <td>C</td>\n",
       "      <td>2452948.126</td>\n",
       "      <td>17.1</td>\n",
       "      <td>6.2</td>\n",
       "    </tr>\n",
       "    <tr>\n",
       "      <th>10</th>\n",
       "      <td>A</td>\n",
       "      <td>2452948.128</td>\n",
       "      <td>14.0</td>\n",
       "      <td>6.9</td>\n",
       "    </tr>\n",
       "  </tbody>\n",
       "</table>\n",
       "</div>"
      ],
      "text/plain": [
       "   Sensor         Date    RV  Unc\n",
       "4       B  2452948.118  13.6  5.9\n",
       "5       A  2452948.119  10.6  5.9\n",
       "8       D  2452948.124  12.2  6.3\n",
       "9       C  2452948.126  17.1  6.2\n",
       "10      A  2452948.128  14.0  6.9"
      ]
     },
     "execution_count": 49,
     "metadata": {},
     "output_type": "execute_result"
    }
   ],
   "source": [
    "RV10 = star[star['RV'] >= 10] \n",
    "RV10"
   ]
  },
  {
   "cell_type": "markdown",
   "metadata": {},
   "source": [
    "To filter on multiple values, you can use Python's logical operators.  For example, to find the data from sensor A or sensor B, use the OR operator \"`**|**`\" as follows:"
   ]
  },
  {
   "cell_type": "code",
   "execution_count": 50,
   "metadata": {},
   "outputs": [
    {
     "data": {
      "text/html": [
       "<div>\n",
       "<style scoped>\n",
       "    .dataframe tbody tr th:only-of-type {\n",
       "        vertical-align: middle;\n",
       "    }\n",
       "\n",
       "    .dataframe tbody tr th {\n",
       "        vertical-align: top;\n",
       "    }\n",
       "\n",
       "    .dataframe thead th {\n",
       "        text-align: right;\n",
       "    }\n",
       "</style>\n",
       "<table border=\"1\" class=\"dataframe\">\n",
       "  <thead>\n",
       "    <tr style=\"text-align: right;\">\n",
       "      <th></th>\n",
       "      <th>Sensor</th>\n",
       "      <th>Date</th>\n",
       "      <th>RV</th>\n",
       "      <th>Unc</th>\n",
       "    </tr>\n",
       "  </thead>\n",
       "  <tbody>\n",
       "    <tr>\n",
       "      <th>0</th>\n",
       "      <td>A</td>\n",
       "      <td>2452948.109</td>\n",
       "      <td>8.4</td>\n",
       "      <td>6.0</td>\n",
       "    </tr>\n",
       "    <tr>\n",
       "      <th>3</th>\n",
       "      <td>A</td>\n",
       "      <td>2452948.116</td>\n",
       "      <td>5.6</td>\n",
       "      <td>5.8</td>\n",
       "    </tr>\n",
       "    <tr>\n",
       "      <th>4</th>\n",
       "      <td>B</td>\n",
       "      <td>2452948.118</td>\n",
       "      <td>13.6</td>\n",
       "      <td>5.9</td>\n",
       "    </tr>\n",
       "    <tr>\n",
       "      <th>5</th>\n",
       "      <td>A</td>\n",
       "      <td>2452948.119</td>\n",
       "      <td>10.6</td>\n",
       "      <td>5.9</td>\n",
       "    </tr>\n",
       "    <tr>\n",
       "      <th>10</th>\n",
       "      <td>A</td>\n",
       "      <td>2452948.128</td>\n",
       "      <td>14.0</td>\n",
       "      <td>6.9</td>\n",
       "    </tr>\n",
       "    <tr>\n",
       "      <th>11</th>\n",
       "      <td>B</td>\n",
       "      <td>2452948.130</td>\n",
       "      <td>7.0</td>\n",
       "      <td>6.6</td>\n",
       "    </tr>\n",
       "  </tbody>\n",
       "</table>\n",
       "</div>"
      ],
      "text/plain": [
       "   Sensor         Date    RV  Unc\n",
       "0       A  2452948.109   8.4  6.0\n",
       "3       A  2452948.116   5.6  5.8\n",
       "4       B  2452948.118  13.6  5.9\n",
       "5       A  2452948.119  10.6  5.9\n",
       "10      A  2452948.128  14.0  6.9\n",
       "11      B  2452948.130   7.0  6.6"
      ]
     },
     "execution_count": 50,
     "metadata": {},
     "output_type": "execute_result"
    }
   ],
   "source": [
    "groupAB = star[(star['Sensor']=='A') | (star['Sensor']=='B')]    \n",
    "groupAB"
   ]
  },
  {
   "cell_type": "markdown",
   "metadata": {},
   "source": [
    "Note the parentheses around each of the two conditions.  \n",
    "\n",
    "For more extensive combinations, it's easier to use the `isin` function (standing for \"is in,\" not \"I sin\"!), like so:"
   ]
  },
  {
   "cell_type": "code",
   "execution_count": 51,
   "metadata": {},
   "outputs": [
    {
     "data": {
      "text/html": [
       "<div>\n",
       "<style scoped>\n",
       "    .dataframe tbody tr th:only-of-type {\n",
       "        vertical-align: middle;\n",
       "    }\n",
       "\n",
       "    .dataframe tbody tr th {\n",
       "        vertical-align: top;\n",
       "    }\n",
       "\n",
       "    .dataframe thead th {\n",
       "        text-align: right;\n",
       "    }\n",
       "</style>\n",
       "<table border=\"1\" class=\"dataframe\">\n",
       "  <thead>\n",
       "    <tr style=\"text-align: right;\">\n",
       "      <th></th>\n",
       "      <th>Sensor</th>\n",
       "      <th>Date</th>\n",
       "      <th>RV</th>\n",
       "      <th>Unc</th>\n",
       "    </tr>\n",
       "  </thead>\n",
       "  <tbody>\n",
       "    <tr>\n",
       "      <th>0</th>\n",
       "      <td>A</td>\n",
       "      <td>2452948.109</td>\n",
       "      <td>8.4</td>\n",
       "      <td>6.0</td>\n",
       "    </tr>\n",
       "    <tr>\n",
       "      <th>3</th>\n",
       "      <td>A</td>\n",
       "      <td>2452948.116</td>\n",
       "      <td>5.6</td>\n",
       "      <td>5.8</td>\n",
       "    </tr>\n",
       "    <tr>\n",
       "      <th>4</th>\n",
       "      <td>B</td>\n",
       "      <td>2452948.118</td>\n",
       "      <td>13.6</td>\n",
       "      <td>5.9</td>\n",
       "    </tr>\n",
       "    <tr>\n",
       "      <th>5</th>\n",
       "      <td>A</td>\n",
       "      <td>2452948.119</td>\n",
       "      <td>10.6</td>\n",
       "      <td>5.9</td>\n",
       "    </tr>\n",
       "    <tr>\n",
       "      <th>10</th>\n",
       "      <td>A</td>\n",
       "      <td>2452948.128</td>\n",
       "      <td>14.0</td>\n",
       "      <td>6.9</td>\n",
       "    </tr>\n",
       "    <tr>\n",
       "      <th>11</th>\n",
       "      <td>B</td>\n",
       "      <td>2452948.130</td>\n",
       "      <td>7.0</td>\n",
       "      <td>6.6</td>\n",
       "    </tr>\n",
       "  </tbody>\n",
       "</table>\n",
       "</div>"
      ],
      "text/plain": [
       "   Sensor         Date    RV  Unc\n",
       "0       A  2452948.109   8.4  6.0\n",
       "3       A  2452948.116   5.6  5.8\n",
       "4       B  2452948.118  13.6  5.9\n",
       "5       A  2452948.119  10.6  5.9\n",
       "10      A  2452948.128  14.0  6.9\n",
       "11      B  2452948.130   7.0  6.6"
      ]
     },
     "execution_count": 51,
     "metadata": {},
     "output_type": "execute_result"
    }
   ],
   "source": [
    "groupAB = star[star['Sensor'].isin(['A','B'])]\n",
    "groupAB"
   ]
  },
  {
   "cell_type": "markdown",
   "metadata": {},
   "source": [
    "To find the data that satisfies multiple conditions, e.g. Dates that lie between two values, use the AND operator \"**`&`**\":"
   ]
  },
  {
   "cell_type": "code",
   "execution_count": 52,
   "metadata": {},
   "outputs": [
    {
     "data": {
      "text/html": [
       "<div>\n",
       "<style scoped>\n",
       "    .dataframe tbody tr th:only-of-type {\n",
       "        vertical-align: middle;\n",
       "    }\n",
       "\n",
       "    .dataframe tbody tr th {\n",
       "        vertical-align: top;\n",
       "    }\n",
       "\n",
       "    .dataframe thead th {\n",
       "        text-align: right;\n",
       "    }\n",
       "</style>\n",
       "<table border=\"1\" class=\"dataframe\">\n",
       "  <thead>\n",
       "    <tr style=\"text-align: right;\">\n",
       "      <th></th>\n",
       "      <th>Sensor</th>\n",
       "      <th>Date</th>\n",
       "      <th>RV</th>\n",
       "      <th>Unc</th>\n",
       "    </tr>\n",
       "  </thead>\n",
       "  <tbody>\n",
       "    <tr>\n",
       "      <th>3</th>\n",
       "      <td>A</td>\n",
       "      <td>2452948.116</td>\n",
       "      <td>5.6</td>\n",
       "      <td>5.8</td>\n",
       "    </tr>\n",
       "    <tr>\n",
       "      <th>4</th>\n",
       "      <td>B</td>\n",
       "      <td>2452948.118</td>\n",
       "      <td>13.6</td>\n",
       "      <td>5.9</td>\n",
       "    </tr>\n",
       "    <tr>\n",
       "      <th>5</th>\n",
       "      <td>A</td>\n",
       "      <td>2452948.119</td>\n",
       "      <td>10.6</td>\n",
       "      <td>5.9</td>\n",
       "    </tr>\n",
       "    <tr>\n",
       "      <th>6</th>\n",
       "      <td>C</td>\n",
       "      <td>2452948.121</td>\n",
       "      <td>5.4</td>\n",
       "      <td>6.0</td>\n",
       "    </tr>\n",
       "    <tr>\n",
       "      <th>7</th>\n",
       "      <td>D</td>\n",
       "      <td>2452948.123</td>\n",
       "      <td>6.4</td>\n",
       "      <td>6.5</td>\n",
       "    </tr>\n",
       "  </tbody>\n",
       "</table>\n",
       "</div>"
      ],
      "text/plain": [
       "  Sensor         Date    RV  Unc\n",
       "3      A  2452948.116   5.6  5.8\n",
       "4      B  2452948.118  13.6  5.9\n",
       "5      A  2452948.119  10.6  5.9\n",
       "6      C  2452948.121   5.4  6.0\n",
       "7      D  2452948.123   6.4  6.5"
      ]
     },
     "execution_count": 52,
     "metadata": {},
     "output_type": "execute_result"
    }
   ],
   "source": [
    "groupRange = star[(star['Date'] > 2452948.114) & (star['Date'] < 2452948.124)]    \n",
    "groupRange"
   ]
  },
  {
   "cell_type": "markdown",
   "metadata": {},
   "source": [
    "Again note the parentheses around the two conditions.\n",
    "\n",
    "We can easily plot histograms of the data in a table.  Here's one of the radial velocities:"
   ]
  },
  {
   "cell_type": "code",
   "execution_count": 53,
   "metadata": {},
   "outputs": [
    {
     "data": {
      "text/plain": [
       "array([[<AxesSubplot:title={'center':'RV'}>]], dtype=object)"
      ]
     },
     "execution_count": 53,
     "metadata": {},
     "output_type": "execute_result"
    },
    {
     "data": {
      "image/png": "[encoded data removed]",
      "text/plain": [
       "<Figure size 432x288 with 1 Axes>"
      ]
     },
     "metadata": {
      "needs_background": "light"
     },
     "output_type": "display_data"
    }
   ],
   "source": [
    "star.hist(column='RV')"
   ]
  },
  {
   "cell_type": "markdown",
   "metadata": {},
   "source": [
    "Other examples of how to use Pandas to perform tasks that you might otherwise do in a spreadsheet program like Excel are presented here: http://pbpython.com/excel-pandas-comp-2.html \n",
    "\n",
    "This discussion barely scratches the surface of what Pandas can do.  For further information see the link at the top of this section or the **Python Data Science Handbook** by Jake VanderPlas, here https://github.com/jakevdp/PythonDataScienceHandbook/blob/master/README.md."
   ]
  },
  {
   "cell_type": "markdown",
   "metadata": {},
   "source": [
    "  "
   ]
  },
  {
   "cell_type": "markdown",
   "metadata": {},
   "source": [
    "## <font color=\"blue\">8.3  Visualizing Data\n",
    "    \n",
    "### <font color='blue'>8.3.1 Matplotlib</font>\n",
    "\n",
    "We've already used `matplotlib` for displaying data in several formats, but those examples only scratch the surface of its capabilities.  The cell below displays another example -- a \"heatmap\" taken from the webpage [matplotlib examples](https://matplotlib.org/stable/gallery/images_contours_and_fields/image_annotated_heatmap.html).  This kind of plot often is used to display scalar data taking on a continuous range of values; e.g., temperatures, voltages, etc.  The color scheme for the display is called a ***colormap***, of which many are available in `matplotlib`; see https://matplotlib.org/stable/tutorials/colors/colormaps.html.  \n",
    "\n",
    "The key lines to create the plot to be shown (by the command `plt.show()` at the end) are\n",
    "\n",
    "```python\n",
    "   fig, ax = plt.subplots()              \n",
    "   im = ax.imshow(harvest, cmap='rainbow')\n",
    "```\n",
    "where `harvest` is the data array to be shown.  The colorbar shown to the right of the main figure is produced by the lines\n",
    "\n",
    "```python\n",
    "   cax = fig.add_axes([0.8, 0.29, 0.02, 0.6])\n",
    "   cb = mpl.colorbar.ColorbarBase(cax, cmap='rainbow', spacing='proportional')\n",
    "   cb.set_label('tons/yr')\n",
    "```\n",
    "Here, the array `[0.8, 0.29, 0.02, 0.6]` controls the position and size of the colorbar, and `rainbow` is the colormap being used."
   ]
  },
  {
   "cell_type": "code",
   "execution_count": 3,
   "metadata": {},
   "outputs": [
    {
     "data": {
      "image/png": "[encoded data removed]",
      "text/plain": [
       "<Figure size 640x480 with 2 Axes>"
      ]
     },
     "metadata": {},
     "output_type": "display_data"
    }
   ],
   "source": [
    "import matplotlib as mpl\n",
    "import numpy as np\n",
    "\n",
    "\n",
    "vegetables = [\"cucumber\", \"tomato\", \"lettuce\", \"asparagus\", \"potato\", \"wheat\", \"barley\"]\n",
    "farmers = [\"Farmer Joe\", \"Upland Bros.\", \"Smith Gardening\", \"Agrifun\", \"Organiculture\", \"BioGoods Ltd.\", \"Cornylee Corp.\"]\n",
    "\n",
    "# Raw data (tons/yr of each vegetable grown by each farmer)\n",
    "harvest = np.array([[0.8, 2.4, 2.5, 3.9, 0.0, 4.0, 0.0],\n",
    "                    [2.4, 0.0, 4.0, 1.0, 2.7, 0.0, 0.0],\n",
    "                    [1.1, 2.4, 0.8, 4.3, 1.9, 4.4, 0.0],\n",
    "                    [0.6, 0.0, 0.3, 0.0, 3.1, 0.0, 0.0],\n",
    "                    [0.7, 1.7, 0.6, 2.6, 2.2, 6.2, 0.0],\n",
    "                    [1.3, 1.2, 0.0, 0.0, 0.0, 3.2, 5.1],\n",
    "                    [0.1, 2.0, 0.0, 1.4, 0.0, 1.9, 6.3]])\n",
    "\n",
    "\n",
    "fig, ax = plt.subplots()              # create figure\n",
    "im = ax.imshow(harvest, cmap='rainbow')   # show the figure; 'bwr' specifies the colormap to use\n",
    "\n",
    "# Show all ticks and label them with the respective list entries\n",
    "ax.set_xticks(np.arange(len(farmers)), labels=farmers)\n",
    "ax.set_yticks(np.arange(len(vegetables)), labels=vegetables)\n",
    "\n",
    "# Rotate the tick labels and set their alignment.\n",
    "plt.setp(ax.get_xticklabels(), rotation=45, ha=\"right\", rotation_mode=\"anchor\")\n",
    "\n",
    "# Loop over data dimensions and create text annotations.\n",
    "for i in range(len(vegetables)):\n",
    "    for j in range(len(farmers)):\n",
    "        text = ax.text(j, i, harvest[i, j], ha=\"center\", va=\"center\", color=\"w\")\n",
    "\n",
    "ax.set_title(\"Harvest of local farmers (in tons/year)\")\n",
    "fig.tight_layout()\n",
    "\n",
    "# Create and position colorbar beyond right-hand edge of figure\n",
    "cax = fig.add_axes([0.8, 0.29, 0.02, 0.6])\n",
    "cb = mpl.colorbar.ColorbarBase(cax, cmap='rainbow', spacing='proportional')\n",
    "cb.set_label('tons/yr')\n",
    "\n",
    "plt.show()"
   ]
  },
  {
   "cell_type": "markdown",
   "metadata": {},
   "source": [
    " "
   ]
  },
  {
   "cell_type": "markdown",
   "metadata": {},
   "source": [
    "Here's another example of what `matplotlib` can do: a vector plot in 2-D.  (3-D plots also are possible.)  It uses the ***`quiver()`*** function, which takes a set of arrow locations (`X`, `Y`) and a set of arrow components (`U`, `V`) and plots vectors with those components at the specified locations.  The ***`meshgrid()`*** function converts the `X`, `Y` coordinates into a grid with intersections at those points.  (Example adapted from the `matplotlib` documentation.)"
   ]
  },
  {
   "cell_type": "code",
   "execution_count": 146,
   "metadata": {},
   "outputs": [
    {
     "data": {
      "image/png": "[encoded data removed]",
      "text/plain": [
       "<Figure size 360x360 with 1 Axes>"
      ]
     },
     "metadata": {
      "needs_background": "light"
     },
     "output_type": "display_data"
    }
   ],
   "source": [
    "# Coordinates of grid line intersections\n",
    "x = np.arange(-20, 21, 8)\n",
    "y = np.arange(-20, 21, 8)\n",
    "\n",
    "# Create grid from intersection points\n",
    "X, Y = np.meshgrid(x,y)\n",
    "\n",
    "R = np.sqrt(X**2 + Y**2)   # square-distance from origin to X-Y grid point\n",
    "\n",
    "# Components of vectors to plot\n",
    "U = 100*X/R**3\n",
    "V = 100*Y/R**3\n",
    "\n",
    "fig, ax = plt.subplots(figsize = (5,5))\n",
    "ax.set_title('Electric Field of a Point Charge at the Origin')\n",
    "ax.set_box_aspect(1)\n",
    "\n",
    "q = ax.quiver(X, Y, U, V)   # plot vector field with components (U,V) at positions (X,Y)\n",
    "ax.quiverkey(q, X=17, Y=18, U=1, label='length = 1', labelpos='W', \n",
    "             coordinates=\"data\", labelcolor='red', color='red')\n",
    "\n",
    "plt.show()"
   ]
  },
  {
   "cell_type": "markdown",
   "metadata": {},
   "source": [
    "  "
   ]
  },
  {
   "cell_type": "markdown",
   "metadata": {},
   "source": [
    "Another type of plot often used in physics and engineering is the contour plot.  Here is an example showing the electric potential contour lines of an electric dipole using the function `contour()` (see https://matplotlib.org/stable/plot_types/arrays/contour.html for another example)."
   ]
  },
  {
   "cell_type": "code",
   "execution_count": 3,
   "metadata": {},
   "outputs": [
    {
     "data": {
      "text/plain": [
       "<matplotlib.colorbar.Colorbar at 0x21dd1150f70>"
      ]
     },
     "execution_count": 3,
     "metadata": {},
     "output_type": "execute_result"
    },
    {
     "data": {
      "image/png": "[encoded data removed]",
      "text/plain": [
       "<Figure size 640x480 with 2 Axes>"
      ]
     },
     "metadata": {},
     "output_type": "display_data"
    }
   ],
   "source": [
    "import numpy as np\n",
    "\n",
    "# make data\n",
    "X, Y = np.meshgrid(np.linspace(-2, 2, 128), np.linspace(-2, 2, 128))  # grid points at which to calculate function values\n",
    "\n",
    "Z = 10/np.sqrt((X-1)**2 + Y**2) - 10/np.sqrt((X+1)**2 + Y**2)           # dipole potential function\n",
    "\n",
    "lower = np.round(np.min(Z))\n",
    "upper = np.round(np.max(Z))\n",
    "levels = np.arange(lower, upper+1, 0.2)                               # levels at which to draw contours\n",
    "\n",
    "# plot\n",
    "plt.contour(X, Y, Z, levels=80, cmap='jet')\n",
    "plt.colorbar()"
   ]
  },
  {
   "cell_type": "markdown",
   "metadata": {},
   "source": [
    "Choosing the colormap for a plot like this is challenging, since the map is fairly uniform in potential except right near the charges, where we can see dark blue on the left and dark red on the right.  (Choosing a good colormap can be part science, part art.)\n",
    "\n",
    "This behavior of the potential is easier to see in a continuous plot of the potential, which can be made with the `contourf()` function:"
   ]
  },
  {
   "cell_type": "code",
   "execution_count": 4,
   "metadata": {},
   "outputs": [
    {
     "data": {
      "text/plain": [
       "<matplotlib.colorbar.Colorbar at 0x21dd22a3160>"
      ]
     },
     "execution_count": 4,
     "metadata": {},
     "output_type": "execute_result"
    },
    {
     "data": {
      "image/png": "[encoded data removed]",
      "text/plain": [
       "<Figure size 640x480 with 2 Axes>"
      ]
     },
     "metadata": {},
     "output_type": "display_data"
    }
   ],
   "source": [
    "plt.contourf(X, Y, Z, levels=80, cmap='jet')\n",
    "plt.colorbar()"
   ]
  },
  {
   "cell_type": "markdown",
   "metadata": {},
   "source": [
    " "
   ]
  },
  {
   "cell_type": "markdown",
   "metadata": {},
   "source": [
    "`matplotlib` is very powerful in that it allows the programmer to fine tune many plot details, but that also can make it easier to get bogged down in lots of details.  Other plotting libraries built on `matplotlib` package the \"low level\" functionality of `matplotlib` into easier-to-use \"higher level\" functions.  Some such libraries are ***Bokeh***, ***Plotly***, ***Seaborn***, and ***Pygal***.  A comparison between some of them is provided here: https://www.dataquest.io/blog/python-data-visualization-libraries/. \n"
   ]
  },
  {
   "cell_type": "markdown",
   "metadata": {},
   "source": [
    "### <font color='blue'>8.3.2 Bokeh</font>\n",
    "\n",
    "Here we'll briefly explore Bokeh, which often is used along with Pandas, particularly for large data sets, and which is designed for interactive plotting in browsers.  A quick demonstration of a couple Bokeh plots is provided below.  For more information, see http://bokeh.pydata.org/en/latest/."
   ]
  },
  {
   "cell_type": "code",
   "execution_count": 89,
   "metadata": {},
   "outputs": [],
   "source": [
    "import numpy as np\n",
    "import scipy.special\n",
    "\n",
    "from bokeh.plotting import figure, output_notebook, show"
   ]
  },
  {
   "cell_type": "code",
   "execution_count": 90,
   "metadata": {},
   "outputs": [
    {
     "data": {
      "text/html": [
       "<div class=\"bk-root\">\n",
       "        <a href=\"https://bokeh.org\" target=\"_blank\" class=\"bk-logo bk-logo-small bk-logo-notebook\"></a>\n",
       "        <span id=\"1002\">Loading BokehJS ...</span>\n",
       "    </div>\n"
      ]
     },
     "metadata": {},
     "output_type": "display_data"
    },
    {
     "data": {
      "application/javascript": [
       "(function(root) {\n",
       "  function now() {\n",
       "    return new Date();\n",
       "  }\n",
       "\n",
       "  const force = true;\n",
       "\n",
       "  if (typeof root._bokeh_onload_callbacks === \"undefined\" || force === true) {\n",
       "    root._bokeh_onload_callbacks = [];\n",
       "    root._bokeh_is_loading = undefined;\n",
       "  }\n",
       "\n",
       "const JS_MIME_TYPE = 'application/javascript';\n",
       "  const HTML_MIME_TYPE = 'text/html';\n",
       "  const EXEC_MIME_TYPE = 'application/vnd.bokehjs_exec.v0+json';\n",
       "  const CLASS_NAME = 'output_bokeh rendered_html';\n",
       "\n",
       "  /**\n",
       "   * Render data to the DOM node\n",
       "   */\n",
       "  function render(props, node) {\n",
       "    const script = document.createElement(\"script\");\n",
       "    node.appendChild(script);\n",
       "  }\n",
       "\n",
       "  /**\n",
       "   * Handle when an output is cleared or removed\n",
       "   */\n",
       "  function handleClearOutput(event, handle) {\n",
       "    const cell = handle.cell;\n",
       "\n",
       "    const id = cell.output_area._bokeh_element_id;\n",
       "    const server_id = cell.output_area._bokeh_server_id;\n",
       "    // Clean up Bokeh references\n",
       "    if (id != null && id in Bokeh.index) {\n",
       "      Bokeh.index[id].model.document.clear();\n",
       "      delete Bokeh.index[id];\n",
       "    }\n",
       "\n",
       "    if (server_id !== undefined) {\n",
       "      // Clean up Bokeh references\n",
       "      const cmd_clean = \"from bokeh.io.state import curstate; print(curstate().uuid_to_server['\" + server_id + \"'].get_sessions()[0].document.roots[0]._id)\";\n",
       "      cell.notebook.kernel.execute(cmd_clean, {\n",
       "        iopub: {\n",
       "          output: function(msg) {\n",
       "            const id = msg.content.text.trim();\n",
       "            if (id in Bokeh.index) {\n",
       "              Bokeh.index[id].model.document.clear();\n",
       "              delete Bokeh.index[id];\n",
       "            }\n",
       "          }\n",
       "        }\n",
       "      });\n",
       "      // Destroy server and session\n",
       "      const cmd_destroy = \"import bokeh.io.notebook as ion; ion.destroy_server('\" + server_id + \"')\";\n",
       "      cell.notebook.kernel.execute(cmd_destroy);\n",
       "    }\n",
       "  }\n",
       "\n",
       "  /**\n",
       "   * Handle when a new output is added\n",
       "   */\n",
       "  function handleAddOutput(event, handle) {\n",
       "    const output_area = handle.output_area;\n",
       "    const output = handle.output;\n",
       "\n",
       "    // limit handleAddOutput to display_data with EXEC_MIME_TYPE content only\n",
       "    if ((output.output_type != \"display_data\") || (!Object.prototype.hasOwnProperty.call(output.data, EXEC_MIME_TYPE))) {\n",
       "      return\n",
       "    }\n",
       "\n",
       "    const toinsert = output_area.element.find(\".\" + CLASS_NAME.split(' ')[0]);\n",
       "\n",
       "    if (output.metadata[EXEC_MIME_TYPE][\"id\"] !== undefined) {\n",
       "      toinsert[toinsert.length - 1].firstChild.textContent = output.data[JS_MIME_TYPE];\n",
       "      // store reference to embed id on output_area\n",
       "      output_area._bokeh_element_id = output.metadata[EXEC_MIME_TYPE][\"id\"];\n",
       "    }\n",
       "    if (output.metadata[EXEC_MIME_TYPE][\"server_id\"] !== undefined) {\n",
       "      const bk_div = document.createElement(\"div\");\n",
       "      bk_div.innerHTML = output.data[HTML_MIME_TYPE];\n",
       "      const script_attrs = bk_div.children[0].attributes;\n",
       "      for (let i = 0; i < script_attrs.length; i++) {\n",
       "        toinsert[toinsert.length - 1].firstChild.setAttribute(script_attrs[i].name, script_attrs[i].value);\n",
       "        toinsert[toinsert.length - 1].firstChild.textContent = bk_div.children[0].textContent\n",
       "      }\n",
       "      // store reference to server id on output_area\n",
       "      output_area._bokeh_server_id = output.metadata[EXEC_MIME_TYPE][\"server_id\"];\n",
       "    }\n",
       "  }\n",
       "\n",
       "  function register_renderer(events, OutputArea) {\n",
       "\n",
       "    function append_mime(data, metadata, element) {\n",
       "      // create a DOM node to render to\n",
       "      const toinsert = this.create_output_subarea(\n",
       "        metadata,\n",
       "        CLASS_NAME,\n",
       "        EXEC_MIME_TYPE\n",
       "      );\n",
       "      this.keyboard_manager.register_events(toinsert);\n",
       "      // Render to node\n",
       "      const props = {data: data, metadata: metadata[EXEC_MIME_TYPE]};\n",
       "      render(props, toinsert[toinsert.length - 1]);\n",
       "      element.append(toinsert);\n",
       "      return toinsert\n",
       "    }\n",
       "\n",
       "    /* Handle when an output is cleared or removed */\n",
       "    events.on('clear_output.CodeCell', handleClearOutput);\n",
       "    events.on('delete.Cell', handleClearOutput);\n",
       "\n",
       "    /* Handle when a new output is added */\n",
       "    events.on('output_added.OutputArea', handleAddOutput);\n",
       "\n",
       "    /**\n",
       "     * Register the mime type and append_mime function with output_area\n",
       "     */\n",
       "    OutputArea.prototype.register_mime_type(EXEC_MIME_TYPE, append_mime, {\n",
       "      /* Is output safe? */\n",
       "      safe: true,\n",
       "      /* Index of renderer in `output_area.display_order` */\n",
       "      index: 0\n",
       "    });\n",
       "  }\n",
       "\n",
       "  // register the mime type if in Jupyter Notebook environment and previously unregistered\n",
       "  if (root.Jupyter !== undefined) {\n",
       "    const events = require('base/js/events');\n",
       "    const OutputArea = require('notebook/js/outputarea').OutputArea;\n",
       "\n",
       "    if (OutputArea.prototype.mime_types().indexOf(EXEC_MIME_TYPE) == -1) {\n",
       "      register_renderer(events, OutputArea);\n",
       "    }\n",
       "  }\n",
       "  if (typeof (root._bokeh_timeout) === \"undefined\" || force === true) {\n",
       "    root._bokeh_timeout = Date.now() + 5000;\n",
       "    root._bokeh_failed_load = false;\n",
       "  }\n",
       "\n",
       "  const NB_LOAD_WARNING = {'data': {'text/html':\n",
       "     \"<div style='background-color: #fdd'>\\n\"+\n",
       "     \"<p>\\n\"+\n",
       "     \"BokehJS does not appear to have successfully loaded. If loading BokehJS from CDN, this \\n\"+\n",
       "     \"may be due to a slow or bad network connection. Possible fixes:\\n\"+\n",
       "     \"</p>\\n\"+\n",
       "     \"<ul>\\n\"+\n",
       "     \"<li>re-rerun `output_notebook()` to attempt to load from CDN again, or</li>\\n\"+\n",
       "     \"<li>use INLINE resources instead, as so:</li>\\n\"+\n",
       "     \"</ul>\\n\"+\n",
       "     \"<code>\\n\"+\n",
       "     \"from bokeh.resources import INLINE\\n\"+\n",
       "     \"output_notebook(resources=INLINE)\\n\"+\n",
       "     \"</code>\\n\"+\n",
       "     \"</div>\"}};\n",
       "\n",
       "  function display_loaded() {\n",
       "    const el = document.getElementById(\"1002\");\n",
       "    if (el != null) {\n",
       "      el.textContent = \"BokehJS is loading...\";\n",
       "    }\n",
       "    if (root.Bokeh !== undefined) {\n",
       "      if (el != null) {\n",
       "        el.textContent = \"BokehJS \" + root.Bokeh.version + \" successfully loaded.\";\n",
       "      }\n",
       "    } else if (Date.now() < root._bokeh_timeout) {\n",
       "      setTimeout(display_loaded, 100)\n",
       "    }\n",
       "  }\n",
       "\n",
       "  function run_callbacks() {\n",
       "    try {\n",
       "      root._bokeh_onload_callbacks.forEach(function(callback) {\n",
       "        if (callback != null)\n",
       "          callback();\n",
       "      });\n",
       "    } finally {\n",
       "      delete root._bokeh_onload_callbacks\n",
       "    }\n",
       "    console.debug(\"Bokeh: all callbacks have finished\");\n",
       "  }\n",
       "\n",
       "  function load_libs(css_urls, js_urls, callback) {\n",
       "    if (css_urls == null) css_urls = [];\n",
       "    if (js_urls == null) js_urls = [];\n",
       "\n",
       "    root._bokeh_onload_callbacks.push(callback);\n",
       "    if (root._bokeh_is_loading > 0) {\n",
       "      console.debug(\"Bokeh: BokehJS is being loaded, scheduling callback at\", now());\n",
       "      return null;\n",
       "    }\n",
       "    if (js_urls == null || js_urls.length === 0) {\n",
       "      run_callbacks();\n",
       "      return null;\n",
       "    }\n",
       "    console.debug(\"Bokeh: BokehJS not loaded, scheduling load and callback at\", now());\n",
       "    root._bokeh_is_loading = css_urls.length + js_urls.length;\n",
       "\n",
       "    function on_load() {\n",
       "      root._bokeh_is_loading--;\n",
       "      if (root._bokeh_is_loading === 0) {\n",
       "        console.debug(\"Bokeh: all BokehJS libraries/stylesheets loaded\");\n",
       "        run_callbacks()\n",
       "      }\n",
       "    }\n",
       "\n",
       "    function on_error(url) {\n",
       "      console.error(\"failed to load \" + url);\n",
       "    }\n",
       "\n",
       "    for (let i = 0; i < css_urls.length; i++) {\n",
       "      const url = css_urls[i];\n",
       "      const element = document.createElement(\"link\");\n",
       "      element.onload = on_load;\n",
       "      element.onerror = on_error.bind(null, url);\n",
       "      element.rel = \"stylesheet\";\n",
       "      element.type = \"text/css\";\n",
       "      element.href = url;\n",
       "      console.debug(\"Bokeh: injecting link tag for BokehJS stylesheet: \", url);\n",
       "      document.body.appendChild(element);\n",
       "    }\n",
       "\n",
       "    for (let i = 0; i < js_urls.length; i++) {\n",
       "      const url = js_urls[i];\n",
       "      const element = document.createElement('script');\n",
       "      element.onload = on_load;\n",
       "      element.onerror = on_error.bind(null, url);\n",
       "      element.async = false;\n",
       "      element.src = url;\n",
       "      console.debug(\"Bokeh: injecting script tag for BokehJS library: \", url);\n",
       "      document.head.appendChild(element);\n",
       "    }\n",
       "  };\n",
       "\n",
       "  function inject_raw_css(css) {\n",
       "    const element = document.createElement(\"style\");\n",
       "    element.appendChild(document.createTextNode(css));\n",
       "    document.body.appendChild(element);\n",
       "  }\n",
       "\n",
       "  const js_urls = [\"https://cdn.bokeh.org/bokeh/release/bokeh-2.4.3.min.js\", \"https://cdn.bokeh.org/bokeh/release/bokeh-gl-2.4.3.min.js\", \"https://cdn.bokeh.org/bokeh/release/bokeh-widgets-2.4.3.min.js\", \"https://cdn.bokeh.org/bokeh/release/bokeh-tables-2.4.3.min.js\", \"https://cdn.bokeh.org/bokeh/release/bokeh-mathjax-2.4.3.min.js\"];\n",
       "  const css_urls = [];\n",
       "\n",
       "  const inline_js = [    function(Bokeh) {\n",
       "      Bokeh.set_log_level(\"info\");\n",
       "    },\n",
       "function(Bokeh) {\n",
       "    }\n",
       "  ];\n",
       "\n",
       "  function run_inline_js() {\n",
       "    if (root.Bokeh !== undefined || force === true) {\n",
       "          for (let i = 0; i < inline_js.length; i++) {\n",
       "      inline_js[i].call(root, root.Bokeh);\n",
       "    }\n",
       "if (force === true) {\n",
       "        display_loaded();\n",
       "      }} else if (Date.now() < root._bokeh_timeout) {\n",
       "      setTimeout(run_inline_js, 100);\n",
       "    } else if (!root._bokeh_failed_load) {\n",
       "      console.log(\"Bokeh: BokehJS failed to load within specified timeout.\");\n",
       "      root._bokeh_failed_load = true;\n",
       "    } else if (force !== true) {\n",
       "      const cell = $(document.getElementById(\"1002\")).parents('.cell').data().cell;\n",
       "      cell.output_area.append_execute_result(NB_LOAD_WARNING)\n",
       "    }\n",
       "  }\n",
       "\n",
       "  if (root._bokeh_is_loading === 0) {\n",
       "    console.debug(\"Bokeh: BokehJS loaded, going straight to plotting\");\n",
       "    run_inline_js();\n",
       "  } else {\n",
       "    load_libs(css_urls, js_urls, function() {\n",
       "      console.debug(\"Bokeh: BokehJS plotting callback run at\", now());\n",
       "      run_inline_js();\n",
       "    });\n",
       "  }\n",
       "}(window));"
      ],
      "application/vnd.bokehjs_load.v0+json": "(function(root) {\n  function now() {\n    return new Date();\n  }\n\n  const force = true;\n\n  if (typeof root._bokeh_onload_callbacks === \"undefined\" || force === true) {\n    root._bokeh_onload_callbacks = [];\n    root._bokeh_is_loading = undefined;\n  }\n\n\n  if (typeof (root._bokeh_timeout) === \"undefined\" || force === true) {\n    root._bokeh_timeout = Date.now() + 5000;\n    root._bokeh_failed_load = false;\n  }\n\n  const NB_LOAD_WARNING = {'data': {'text/html':\n     \"<div style='background-color: #fdd'>\\n\"+\n     \"<p>\\n\"+\n     \"BokehJS does not appear to have successfully loaded. If loading BokehJS from CDN, this \\n\"+\n     \"may be due to a slow or bad network connection. Possible fixes:\\n\"+\n     \"</p>\\n\"+\n     \"<ul>\\n\"+\n     \"<li>re-rerun `output_notebook()` to attempt to load from CDN again, or</li>\\n\"+\n     \"<li>use INLINE resources instead, as so:</li>\\n\"+\n     \"</ul>\\n\"+\n     \"<code>\\n\"+\n     \"from bokeh.resources import INLINE\\n\"+\n     \"output_notebook(resources=INLINE)\\n\"+\n     \"</code>\\n\"+\n     \"</div>\"}};\n\n  function display_loaded() {\n    const el = document.getElementById(\"1002\");\n    if (el != null) {\n      el.textContent = \"BokehJS is loading...\";\n    }\n    if (root.Bokeh !== undefined) {\n      if (el != null) {\n        el.textContent = \"BokehJS \" + root.Bokeh.version + \" successfully loaded.\";\n      }\n    } else if (Date.now() < root._bokeh_timeout) {\n      setTimeout(display_loaded, 100)\n    }\n  }\n\n  function run_callbacks() {\n    try {\n      root._bokeh_onload_callbacks.forEach(function(callback) {\n        if (callback != null)\n          callback();\n      });\n    } finally {\n      delete root._bokeh_onload_callbacks\n    }\n    console.debug(\"Bokeh: all callbacks have finished\");\n  }\n\n  function load_libs(css_urls, js_urls, callback) {\n    if (css_urls == null) css_urls = [];\n    if (js_urls == null) js_urls = [];\n\n    root._bokeh_onload_callbacks.push(callback);\n    if (root._bokeh_is_loading > 0) {\n      console.debug(\"Bokeh: BokehJS is being loaded, scheduling callback at\", now());\n      return null;\n    }\n    if (js_urls == null || js_urls.length === 0) {\n      run_callbacks();\n      return null;\n    }\n    console.debug(\"Bokeh: BokehJS not loaded, scheduling load and callback at\", now());\n    root._bokeh_is_loading = css_urls.length + js_urls.length;\n\n    function on_load() {\n      root._bokeh_is_loading--;\n      if (root._bokeh_is_loading === 0) {\n        console.debug(\"Bokeh: all BokehJS libraries/stylesheets loaded\");\n        run_callbacks()\n      }\n    }\n\n    function on_error(url) {\n      console.error(\"failed to load \" + url);\n    }\n\n    for (let i = 0; i < css_urls.length; i++) {\n      const url = css_urls[i];\n      const element = document.createElement(\"link\");\n      element.onload = on_load;\n      element.onerror = on_error.bind(null, url);\n      element.rel = \"stylesheet\";\n      element.type = \"text/css\";\n      element.href = url;\n      console.debug(\"Bokeh: injecting link tag for BokehJS stylesheet: \", url);\n      document.body.appendChild(element);\n    }\n\n    for (let i = 0; i < js_urls.length; i++) {\n      const url = js_urls[i];\n      const element = document.createElement('script');\n      element.onload = on_load;\n      element.onerror = on_error.bind(null, url);\n      element.async = false;\n      element.src = url;\n      console.debug(\"Bokeh: injecting script tag for BokehJS library: \", url);\n      document.head.appendChild(element);\n    }\n  };\n\n  function inject_raw_css(css) {\n    const element = document.createElement(\"style\");\n    element.appendChild(document.createTextNode(css));\n    document.body.appendChild(element);\n  }\n\n  const js_urls = [\"https://cdn.bokeh.org/bokeh/release/bokeh-2.4.3.min.js\", \"https://cdn.bokeh.org/bokeh/release/bokeh-gl-2.4.3.min.js\", \"https://cdn.bokeh.org/bokeh/release/bokeh-widgets-2.4.3.min.js\", \"https://cdn.bokeh.org/bokeh/release/bokeh-tables-2.4.3.min.js\", \"https://cdn.bokeh.org/bokeh/release/bokeh-mathjax-2.4.3.min.js\"];\n  const css_urls = [];\n\n  const inline_js = [    function(Bokeh) {\n      Bokeh.set_log_level(\"info\");\n    },\nfunction(Bokeh) {\n    }\n  ];\n\n  function run_inline_js() {\n    if (root.Bokeh !== undefined || force === true) {\n          for (let i = 0; i < inline_js.length; i++) {\n      inline_js[i].call(root, root.Bokeh);\n    }\nif (force === true) {\n        display_loaded();\n      }} else if (Date.now() < root._bokeh_timeout) {\n      setTimeout(run_inline_js, 100);\n    } else if (!root._bokeh_failed_load) {\n      console.log(\"Bokeh: BokehJS failed to load within specified timeout.\");\n      root._bokeh_failed_load = true;\n    } else if (force !== true) {\n      const cell = $(document.getElementById(\"1002\")).parents('.cell').data().cell;\n      cell.output_area.append_execute_result(NB_LOAD_WARNING)\n    }\n  }\n\n  if (root._bokeh_is_loading === 0) {\n    console.debug(\"Bokeh: BokehJS loaded, going straight to plotting\");\n    run_inline_js();\n  } else {\n    load_libs(css_urls, js_urls, function() {\n      console.debug(\"Bokeh: BokehJS plotting callback run at\", now());\n      run_inline_js();\n    });\n  }\n}(window));"
     },
     "metadata": {},
     "output_type": "display_data"
    }
   ],
   "source": [
    "output_notebook()   # Make Bokeh plots display in the notebook (as \"%matplotlib inline\" does for matplotlib plots)"
   ]
  },
  {
   "cell_type": "markdown",
   "metadata": {},
   "source": [
    "This plot shows the radial velocity vs. date for the star data explored above as a line plot:"
   ]
  },
  {
   "cell_type": "code",
   "execution_count": 94,
   "metadata": {},
   "outputs": [
    {
     "data": {
      "text/html": [
       "\n",
       "  <div class=\"bk-root\" id=\"bee3dc37-041f-4d2b-b0ee-19900704d98a\" data-root-id=\"1036\"></div>\n"
      ]
     },
     "metadata": {},
     "output_type": "display_data"
    },
    {
     "data": {
      "application/javascript": [
       "(function(root) {\n",
       "  function embed_document(root) {\n",
       "  const docs_json = {\"3725fffb-4632-4e2d-af73-f67ef48cebfd\":{\"defs\":[],\"roots\":{\"references\":[{\"attributes\":{\"below\":[{\"id\":\"1047\"}],\"center\":[{\"id\":\"1050\"},{\"id\":\"1054\"}],\"height\":300,\"left\":[{\"id\":\"1051\"}],\"renderers\":[{\"id\":\"1073\"}],\"title\":{\"id\":\"1037\"},\"toolbar\":{\"id\":\"1062\"},\"width\":400,\"x_range\":{\"id\":\"1039\"},\"x_scale\":{\"id\":\"1043\"},\"y_range\":{\"id\":\"1041\"},\"y_scale\":{\"id\":\"1045\"}},\"id\":\"1036\",\"subtype\":\"Figure\",\"type\":\"Plot\"},{\"attributes\":{},\"id\":\"1056\",\"type\":\"WheelZoomTool\"},{\"attributes\":{},\"id\":\"1078\",\"type\":\"AllLabels\"},{\"attributes\":{},\"id\":\"1039\",\"type\":\"DataRange1d\"},{\"attributes\":{},\"id\":\"1045\",\"type\":\"LinearScale\"},{\"attributes\":{\"axis_label\":\"Date\",\"coordinates\":null,\"formatter\":{\"id\":\"1080\"},\"group\":null,\"major_label_policy\":{\"id\":\"1081\"},\"ticker\":{\"id\":\"1048\"}},\"id\":\"1047\",\"type\":\"LinearAxis\"},{\"attributes\":{\"line_color\":\"#1f77b4\",\"line_width\":2,\"x\":{\"field\":\"x\"},\"y\":{\"field\":\"y\"}},\"id\":\"1070\",\"type\":\"Line\"},{\"attributes\":{},\"id\":\"1041\",\"type\":\"DataRange1d\"},{\"attributes\":{\"axis_label\":\"Radial Vel.\",\"coordinates\":null,\"formatter\":{\"id\":\"1077\"},\"group\":null,\"major_label_policy\":{\"id\":\"1078\"},\"ticker\":{\"id\":\"1052\"}},\"id\":\"1051\",\"type\":\"LinearAxis\"},{\"attributes\":{},\"id\":\"1081\",\"type\":\"AllLabels\"},{\"attributes\":{},\"id\":\"1048\",\"type\":\"BasicTicker\"},{\"attributes\":{},\"id\":\"1060\",\"type\":\"HelpTool\"},{\"attributes\":{},\"id\":\"1052\",\"type\":\"BasicTicker\"},{\"attributes\":{\"tools\":[{\"id\":\"1055\"},{\"id\":\"1056\"},{\"id\":\"1057\"},{\"id\":\"1058\"},{\"id\":\"1059\"},{\"id\":\"1060\"}]},\"id\":\"1062\",\"type\":\"Toolbar\"},{\"attributes\":{},\"id\":\"1082\",\"type\":\"UnionRenderers\"},{\"attributes\":{\"coordinates\":null,\"group\":null,\"text\":\"Radial Velocity vs. Date\"},\"id\":\"1037\",\"type\":\"Title\"},{\"attributes\":{\"axis\":{\"id\":\"1047\"},\"coordinates\":null,\"group\":null,\"ticker\":null},\"id\":\"1050\",\"type\":\"Grid\"},{\"attributes\":{\"data\":{\"x\":{\"__ndarray__\":\"RrbzDeq2QkEZBFYO6rZCQVCNlw7qtkJBhxbZDuq2QkG+nxoP6rZCQVpkOw/qtkJBke18D+q2QkHJdr4P6rZCQWQ73w/qtkJBnMQgEOq2QkHTTWIQ6rZCQQrXoxDqtkJB\",\"dtype\":\"float64\",\"order\":\"little\",\"shape\":[12]},\"y\":{\"__ndarray__\":\"zczMzMzMIEAzMzMzMzMPQM3MzMzMzBhAZmZmZmZmFkAzMzMzMzMrQDMzMzMzMyVAmpmZmZmZFUCamZmZmZkZQGZmZmZmZihAmpmZmZkZMUAAAAAAAAAsQAAAAAAAABxA\",\"dtype\":\"float64\",\"order\":\"little\",\"shape\":[12]}},\"selected\":{\"id\":\"1083\"},\"selection_policy\":{\"id\":\"1082\"}},\"id\":\"1069\",\"type\":\"ColumnDataSource\"},{\"attributes\":{},\"id\":\"1080\",\"type\":\"BasicTickFormatter\"},{\"attributes\":{},\"id\":\"1043\",\"type\":\"LinearScale\"},{\"attributes\":{\"coordinates\":null,\"data_source\":{\"id\":\"1069\"},\"glyph\":{\"id\":\"1070\"},\"group\":null,\"hover_glyph\":null,\"muted_glyph\":{\"id\":\"1072\"},\"nonselection_glyph\":{\"id\":\"1071\"},\"view\":{\"id\":\"1074\"}},\"id\":\"1073\",\"type\":\"GlyphRenderer\"},{\"attributes\":{\"axis\":{\"id\":\"1051\"},\"coordinates\":null,\"dimension\":1,\"group\":null,\"ticker\":null},\"id\":\"1054\",\"type\":\"Grid\"},{\"attributes\":{\"line_alpha\":0.2,\"line_color\":\"#1f77b4\",\"line_width\":2,\"x\":{\"field\":\"x\"},\"y\":{\"field\":\"y\"}},\"id\":\"1072\",\"type\":\"Line\"},{\"attributes\":{},\"id\":\"1055\",\"type\":\"PanTool\"},{\"attributes\":{\"source\":{\"id\":\"1069\"}},\"id\":\"1074\",\"type\":\"CDSView\"},{\"attributes\":{\"line_alpha\":0.1,\"line_color\":\"#1f77b4\",\"line_width\":2,\"x\":{\"field\":\"x\"},\"y\":{\"field\":\"y\"}},\"id\":\"1071\",\"type\":\"Line\"},{\"attributes\":{},\"id\":\"1059\",\"type\":\"ResetTool\"},{\"attributes\":{},\"id\":\"1083\",\"type\":\"Selection\"},{\"attributes\":{},\"id\":\"1077\",\"type\":\"BasicTickFormatter\"},{\"attributes\":{\"overlay\":{\"id\":\"1061\"}},\"id\":\"1057\",\"type\":\"BoxZoomTool\"},{\"attributes\":{\"bottom_units\":\"screen\",\"coordinates\":null,\"fill_alpha\":0.5,\"fill_color\":\"lightgrey\",\"group\":null,\"left_units\":\"screen\",\"level\":\"overlay\",\"line_alpha\":1.0,\"line_color\":\"black\",\"line_dash\":[4,4],\"line_width\":2,\"right_units\":\"screen\",\"syncable\":false,\"top_units\":\"screen\"},\"id\":\"1061\",\"type\":\"BoxAnnotation\"},{\"attributes\":{},\"id\":\"1058\",\"type\":\"SaveTool\"}],\"root_ids\":[\"1036\"]},\"title\":\"Bokeh Application\",\"version\":\"2.4.3\"}};\n",
       "  const render_items = [{\"docid\":\"3725fffb-4632-4e2d-af73-f67ef48cebfd\",\"root_ids\":[\"1036\"],\"roots\":{\"1036\":\"bee3dc37-041f-4d2b-b0ee-19900704d98a\"}}];\n",
       "  root.Bokeh.embed.embed_items_notebook(docs_json, render_items);\n",
       "  }\n",
       "  if (root.Bokeh !== undefined) {\n",
       "    embed_document(root);\n",
       "  } else {\n",
       "    let attempts = 0;\n",
       "    const timer = setInterval(function(root) {\n",
       "      if (root.Bokeh !== undefined) {\n",
       "        clearInterval(timer);\n",
       "        embed_document(root);\n",
       "      } else {\n",
       "        attempts++;\n",
       "        if (attempts > 100) {\n",
       "          clearInterval(timer);\n",
       "          console.log(\"Bokeh: ERROR: Unable to run BokehJS code because BokehJS library is missing\");\n",
       "        }\n",
       "      }\n",
       "    }, 10, root)\n",
       "  }\n",
       "})(window);"
      ],
      "application/vnd.bokehjs_exec.v0+json": ""
     },
     "metadata": {
      "application/vnd.bokehjs_exec.v0+json": {
       "id": "1036"
      }
     },
     "output_type": "display_data"
    }
   ],
   "source": [
    "p1 = figure(title=\"Radial Velocity vs. Date\", plot_width=400, plot_height=300)\n",
    "p1.line(star['Date'], star['RV'], line_width=2)    # make a line plot of the RV vs. the Date\n",
    "p1.xaxis.axis_label = 'Date'\n",
    "p1.yaxis.axis_label = 'Radial Vel.'\n",
    "show(p1)"
   ]
  },
  {
   "cell_type": "markdown",
   "metadata": {},
   "source": [
    "The first line in the code cell above creates the figure frame itself, with title, while the second line creates the curve that's plotted."
   ]
  },
  {
   "cell_type": "markdown",
   "metadata": {},
   "source": [
    "The stellar velocity data we're using normally wouldn't be plotted as a bar chart, but we can do it for illustrative purposes:"
   ]
  },
  {
   "cell_type": "code",
   "execution_count": 95,
   "metadata": {},
   "outputs": [
    {
     "data": {
      "text/html": [
       "\n",
       "  <div class=\"bk-root\" id=\"a29da43f-a1e0-42ad-95ea-6d1b55f2711b\" data-root-id=\"1135\"></div>\n"
      ]
     },
     "metadata": {},
     "output_type": "display_data"
    },
    {
     "data": {
      "application/javascript": [
       "(function(root) {\n",
       "  function embed_document(root) {\n",
       "  const docs_json = {\"f473cab8-c448-4c0e-afba-e0a6aa400335\":{\"defs\":[],\"roots\":{\"references\":[{\"attributes\":{\"below\":[{\"id\":\"1146\"}],\"center\":[{\"id\":\"1149\"},{\"id\":\"1153\"}],\"height\":300,\"left\":[{\"id\":\"1150\"}],\"renderers\":[{\"id\":\"1172\"}],\"title\":{\"id\":\"1136\"},\"toolbar\":{\"id\":\"1161\"},\"width\":400,\"x_range\":{\"id\":\"1138\"},\"x_scale\":{\"id\":\"1142\"},\"y_range\":{\"id\":\"1140\"},\"y_scale\":{\"id\":\"1144\"}},\"id\":\"1135\",\"subtype\":\"Figure\",\"type\":\"Plot\"},{\"attributes\":{},\"id\":\"1186\",\"type\":\"BasicTickFormatter\"},{\"attributes\":{},\"id\":\"1187\",\"type\":\"AllLabels\"},{\"attributes\":{},\"id\":\"1189\",\"type\":\"BasicTickFormatter\"},{\"attributes\":{},\"id\":\"1190\",\"type\":\"AllLabels\"},{\"attributes\":{\"source\":{\"id\":\"1168\"}},\"id\":\"1173\",\"type\":\"CDSView\"},{\"attributes\":{},\"id\":\"1140\",\"type\":\"DataRange1d\"},{\"attributes\":{\"fill_alpha\":{\"value\":0.2},\"fill_color\":{\"value\":\"#1f77b4\"},\"hatch_alpha\":{\"value\":0.2},\"line_alpha\":{\"value\":0.2},\"line_color\":{\"value\":\"#1f77b4\"},\"top\":{\"field\":\"top\"},\"width\":{\"value\":0.001},\"x\":{\"field\":\"x\"}},\"id\":\"1171\",\"type\":\"VBar\"},{\"attributes\":{\"axis_label\":\"Radial Vel.\",\"coordinates\":null,\"formatter\":{\"id\":\"1186\"},\"group\":null,\"major_label_policy\":{\"id\":\"1187\"},\"ticker\":{\"id\":\"1151\"}},\"id\":\"1150\",\"type\":\"LinearAxis\"},{\"attributes\":{},\"id\":\"1151\",\"type\":\"BasicTicker\"},{\"attributes\":{},\"id\":\"1191\",\"type\":\"UnionRenderers\"},{\"attributes\":{\"axis\":{\"id\":\"1150\"},\"coordinates\":null,\"dimension\":1,\"group\":null,\"ticker\":null},\"id\":\"1153\",\"type\":\"Grid\"},{\"attributes\":{},\"id\":\"1138\",\"type\":\"DataRange1d\"},{\"attributes\":{},\"id\":\"1142\",\"type\":\"LinearScale\"},{\"attributes\":{\"coordinates\":null,\"data_source\":{\"id\":\"1168\"},\"glyph\":{\"id\":\"1169\"},\"group\":null,\"hover_glyph\":null,\"muted_glyph\":{\"id\":\"1171\"},\"nonselection_glyph\":{\"id\":\"1170\"},\"view\":{\"id\":\"1173\"}},\"id\":\"1172\",\"type\":\"GlyphRenderer\"},{\"attributes\":{},\"id\":\"1192\",\"type\":\"Selection\"},{\"attributes\":{\"coordinates\":null,\"group\":null,\"text\":\"Radial Velocity vs. Date\"},\"id\":\"1136\",\"type\":\"Title\"},{\"attributes\":{\"tools\":[{\"id\":\"1154\"},{\"id\":\"1155\"},{\"id\":\"1156\"},{\"id\":\"1157\"},{\"id\":\"1158\"},{\"id\":\"1159\"}]},\"id\":\"1161\",\"type\":\"Toolbar\"},{\"attributes\":{},\"id\":\"1147\",\"type\":\"BasicTicker\"},{\"attributes\":{},\"id\":\"1144\",\"type\":\"LinearScale\"},{\"attributes\":{\"data\":{\"top\":{\"__ndarray__\":\"zczMzMzMIEAzMzMzMzMPQM3MzMzMzBhAZmZmZmZmFkAzMzMzMzMrQDMzMzMzMyVAmpmZmZmZFUCamZmZmZkZQGZmZmZmZihAmpmZmZkZMUAAAAAAAAAsQAAAAAAAABxA\",\"dtype\":\"float64\",\"order\":\"little\",\"shape\":[12]},\"x\":{\"__ndarray__\":\"RrbzDeq2QkEZBFYO6rZCQVCNlw7qtkJBhxbZDuq2QkG+nxoP6rZCQVpkOw/qtkJBke18D+q2QkHJdr4P6rZCQWQ73w/qtkJBnMQgEOq2QkHTTWIQ6rZCQQrXoxDqtkJB\",\"dtype\":\"float64\",\"order\":\"little\",\"shape\":[12]}},\"selected\":{\"id\":\"1192\"},\"selection_policy\":{\"id\":\"1191\"}},\"id\":\"1168\",\"type\":\"ColumnDataSource\"},{\"attributes\":{\"fill_alpha\":{\"value\":0.1},\"fill_color\":{\"value\":\"#1f77b4\"},\"hatch_alpha\":{\"value\":0.1},\"line_alpha\":{\"value\":0.1},\"line_color\":{\"value\":\"#1f77b4\"},\"top\":{\"field\":\"top\"},\"width\":{\"value\":0.001},\"x\":{\"field\":\"x\"}},\"id\":\"1170\",\"type\":\"VBar\"},{\"attributes\":{\"bottom_units\":\"screen\",\"coordinates\":null,\"fill_alpha\":0.5,\"fill_color\":\"lightgrey\",\"group\":null,\"left_units\":\"screen\",\"level\":\"overlay\",\"line_alpha\":1.0,\"line_color\":\"black\",\"line_dash\":[4,4],\"line_width\":2,\"right_units\":\"screen\",\"syncable\":false,\"top_units\":\"screen\"},\"id\":\"1160\",\"type\":\"BoxAnnotation\"},{\"attributes\":{},\"id\":\"1158\",\"type\":\"ResetTool\"},{\"attributes\":{},\"id\":\"1157\",\"type\":\"SaveTool\"},{\"attributes\":{\"axis_label\":\"Date\",\"coordinates\":null,\"formatter\":{\"id\":\"1189\"},\"group\":null,\"major_label_policy\":{\"id\":\"1190\"},\"ticker\":{\"id\":\"1147\"}},\"id\":\"1146\",\"type\":\"LinearAxis\"},{\"attributes\":{\"fill_color\":{\"value\":\"#1f77b4\"},\"line_color\":{\"value\":\"#1f77b4\"},\"top\":{\"field\":\"top\"},\"width\":{\"value\":0.001},\"x\":{\"field\":\"x\"}},\"id\":\"1169\",\"type\":\"VBar\"},{\"attributes\":{\"overlay\":{\"id\":\"1160\"}},\"id\":\"1156\",\"type\":\"BoxZoomTool\"},{\"attributes\":{},\"id\":\"1159\",\"type\":\"HelpTool\"},{\"attributes\":{},\"id\":\"1154\",\"type\":\"PanTool\"},{\"attributes\":{\"axis\":{\"id\":\"1146\"},\"coordinates\":null,\"group\":null,\"ticker\":null},\"id\":\"1149\",\"type\":\"Grid\"},{\"attributes\":{},\"id\":\"1155\",\"type\":\"WheelZoomTool\"}],\"root_ids\":[\"1135\"]},\"title\":\"Bokeh Application\",\"version\":\"2.4.3\"}};\n",
       "  const render_items = [{\"docid\":\"f473cab8-c448-4c0e-afba-e0a6aa400335\",\"root_ids\":[\"1135\"],\"roots\":{\"1135\":\"a29da43f-a1e0-42ad-95ea-6d1b55f2711b\"}}];\n",
       "  root.Bokeh.embed.embed_items_notebook(docs_json, render_items);\n",
       "  }\n",
       "  if (root.Bokeh !== undefined) {\n",
       "    embed_document(root);\n",
       "  } else {\n",
       "    let attempts = 0;\n",
       "    const timer = setInterval(function(root) {\n",
       "      if (root.Bokeh !== undefined) {\n",
       "        clearInterval(timer);\n",
       "        embed_document(root);\n",
       "      } else {\n",
       "        attempts++;\n",
       "        if (attempts > 100) {\n",
       "          clearInterval(timer);\n",
       "          console.log(\"Bokeh: ERROR: Unable to run BokehJS code because BokehJS library is missing\");\n",
       "        }\n",
       "      }\n",
       "    }, 10, root)\n",
       "  }\n",
       "})(window);"
      ],
      "application/vnd.bokehjs_exec.v0+json": ""
     },
     "metadata": {
      "application/vnd.bokehjs_exec.v0+json": {
       "id": "1135"
      }
     },
     "output_type": "display_data"
    }
   ],
   "source": [
    "p2 = figure(title=\"Radial Velocity vs. Date\", plot_width=400, plot_height=300)\n",
    "p2.vbar(x=star['Date'], top=star['RV'], width=0.001)    \n",
    "p2.xaxis.axis_label = 'Date'\n",
    "p2.yaxis.axis_label = 'Radial Vel.'\n",
    "show(p2)"
   ]
  },
  {
   "cell_type": "markdown",
   "metadata": {},
   "source": [
    "Again, the first line in the code cell creates the figure frame, while the second line, using `p2.vbar`, creates the histogram bars with horizontal positions specified by `x=star['Date']` and height specified by `top=star['RV']` (with the specified `width` for each bar)."
   ]
  },
  {
   "cell_type": "markdown",
   "metadata": {},
   "source": [
    "Note that these plots are *interactive* -- they have a ***toolbar*** on the right-hand side that lets you zoom in on a region by using the magnifying glass icon and drawing a rectangle with the cursor, and you can pan using the icon with the four arrowheads and then clicking-and-dragging in the window.  Hover the cursor over an icon to find out what it does.  (You can reset a figure to its original appearance using the icon with the two arrows chasing each other in a circle.)  The toolbar is configurable, as described here: https://docs.bokeh.org/en/latest/docs/user_guide/tools.html. "
   ]
  },
  {
   "cell_type": "markdown",
   "metadata": {},
   "source": [
    "As further illustration of the flexibility of plotting with Bokeh, see the plot created from data generated in the code cell below, which defines a function (`make_plot`) to create the figure:"
   ]
  },
  {
   "cell_type": "code",
   "execution_count": 96,
   "metadata": {},
   "outputs": [
    {
     "data": {
      "text/html": [
       "\n",
       "  <div class=\"bk-root\" id=\"429c4d88-7151-405c-8339-5b7998e25851\" data-root-id=\"1244\"></div>\n"
      ]
     },
     "metadata": {},
     "output_type": "display_data"
    },
    {
     "data": {
      "application/javascript": [
       "(function(root) {\n",
       "  function embed_document(root) {\n",
       "  const docs_json = {\"ad9a8b65-b1ea-40cd-bb73-d8de61937816\":{\"defs\":[],\"roots\":{\"references\":[{\"attributes\":{\"background_fill_color\":\"#fafafa\",\"below\":[{\"id\":\"1255\"}],\"center\":[{\"id\":\"1258\"},{\"id\":\"1262\"},{\"id\":\"1287\"}],\"height\":400,\"left\":[{\"id\":\"1259\"}],\"renderers\":[{\"id\":\"1268\"},{\"id\":\"1274\"},{\"id\":\"1293\"}],\"title\":{\"id\":\"1245\"},\"toolbar\":{\"id\":\"1263\"},\"x_range\":{\"id\":\"1247\"},\"x_scale\":{\"id\":\"1251\"},\"y_range\":{\"id\":\"1249\"},\"y_scale\":{\"id\":\"1253\"}},\"id\":\"1244\",\"subtype\":\"Figure\",\"type\":\"Plot\"},{\"attributes\":{},\"id\":\"1306\",\"type\":\"UnionRenderers\"},{\"attributes\":{\"background_fill_color\":\"#fefefe\",\"coordinates\":null,\"group\":null,\"items\":[{\"id\":\"1288\"},{\"id\":\"1308\"}],\"location\":\"center_right\"},\"id\":\"1287\",\"type\":\"Legend\"},{\"attributes\":{\"data\":{\"x\":{\"__ndarray__\":\"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\",\"dtype\":\"float64\",\"order\":\"little\",\"shape\":[1000]},\"y\":{\"__ndarray__\":\"AABLldeaAD8AgDgYAy0BPwCgBybuwwE/ACBFrL1fAj8AICuhlwADPwDgTAqjpgM/ACBoAwhSBD8A4FvF7wIFPwBgRa2EuQU/ACDFQ/J1Bj8AYGpEZTgHPwAgSKULAQg/ACCynhTQCD8AQCSzsKUJPwDgU7cRggo/AMBs2mplCz8AIHmu8E8MPwAA9jDZQQ0/AKCV01s7Dj8AgC6FsTwPPwCQbF0KIxA/APCevOCrED8AwAiv+jgRPwBA4dR3yhE/AFCspHhgEj8AoEJwHvsSPwCQ82mLmhM/AIDAqeI+FD8AwLIySOgUPwAgS/jglhU/APAM5NJKFj8A8CPbRAQXPwCwJcRewxc/APDujEmIGD8AEJ0wL1MZPwCApL06JBo/AJADXJj7Gj8A8JJTddkbPwAwdBIAvhw/AGCdM2ipHT8AEISF3psePwCg5hCVlR8/ADjaj19LID8AIAuiyM8gPwDgyq8gWCE/ANAyVYPkIT8ACGXdDHUiPwAYUUbaCSM/AFiJRAmjIz8AGClHuEAkPwCIy3sG4yQ/ACiU0hOKJT8AEEgCATYmPwAIeYzv5iY/AADCwQGdJz8AmBXGWlgoPwAwHpUeGSk/AICwBnLfKT8AKFDTeqsqPwDQxphffSs/AKDN3kdVLD8AqMkbXDMtPwAAm7nFFy4/AOB+Gq8CLz8A0ASeQ/QvPwCgC9NXdjA/AJALThD2MD8AxAV7YnkxPwAs8h1mADI/AJBohjOLMj8AxFWS4xkzPwDwurCPrDM/ALx25FFDND8AxBjHRN40PwDsvouDfTU/ABT9ASohNj8A4M6YVMk2PwDMk2Egdjc/AHgVE6snOD8AUJgME944PwCI9lh3mTk/AHTFsfdZOj8ANIWCtB87PwDg2uvO6js/AADVxmi7PD8AkDqopJE9PwBY5OOlbT4/ANAgkJBPPz8AJpHExBtAPwDiOzrbkkA/APJH4h4NQT8ATCNeo4pBPwB+Prl8C0I/ANDdar+PQj8AmO9XgBdDPwCu59TUokM/ABSgp9IxRD8Aoj4JkMREPwDiH6gjW0U/APbGqaT1RT8AgNKsKpRGPwCW9srNNkc/ALD7mqbdRz8AgsIyzohIPwC4TCleOEk/AJjKmHDsST8AcK0gIKVKPwDAvueHYks/ACQ8nsMkTD8A4Pd/7+tMPwAIflYouE0/ADA+e4uJTj8AlrnZNmBPPwDY2ngkHlA/AI25bPCOUD8AWvQfjwJRPwCDgbcQeVE/ANHzpoXyUT8AT56x/m5SPwD9ueuM7lI/AGCNu0FxUz8AB5baLvdTPwDGs1ZmgFQ/AM1Vk/oMVT8AZKlK/pxVPwBWyo6EMFY/APH0yqDHVj8AkLnEZmJXPwChMZ3qAFg/AAs20kCjWD8A9pY/fklZPwDOVCC481k/AILaDwSiWj8A3zgLeFRbPwD5YnIqC1w/AJBrCTLGXD8AWMP5pYVdPwAReNOdSV4/AFp0jjESXz8ALMCLed9fPwDuYEvHWGA/AM0/80TEYD+ApHCPQjJhPwBR+SjNomE/AMCSAPIVYj+AIEqPvotiPwARIodABGM/ALmz04V/Yz8Ax8+anP1jP4BAHz2TfmQ/ABfEVngCZT8Ac/m/WollP4Cks41JE2Y/AK4/ElSgZj+AVuLdiTBnP4Cxdr/6w2c/ABQMxbZaaD+AW4M8zvRoPwCBK7RRkmk/gFxd+1Ezaj+AjxYj4NdqPwCEk34NgGs/gGXoo+srbD8AEJlsjNtsP4DSL/YBj20/gAHTol5Gbj8AONkZtQFvP4BAXEgYwW8/QEPlsE1CcD9AgzvwKKZwP8DPE8MnDHE/QN1QLlR0cT9AkxpbuN5xP0CSIpdeS3I/QL7nVFG6cj8AyvgrmytzPwC0NdlGn3M/ACoQP18VdD8AzMpl7410PwA9t3sCCXU/APxy1aOGdT8A9SLu3gZ2PwDCrWe/iXY/wI30ClEPdz8AjArIn5d3PwD+ara3Ing/wLQtFaWweD+ABDpLdEF5P8AeeOcx1Xk/wMUAoeprej/AS0tXqwV7P4DTWRKBons/AMTjAnlCfD+AYn6CoOV8P4CGwxMFjH0/AFt2YrQ1fj+AH6ZDvOJ+P8DczrUqk38/oP578IYjgD/AYGgLOn+AP6A+Zem13IA/oEoY3QE8gT+gFR9OJZ2BPwC5GLknAII/wEmurxBlgj8AEprY58uCP+CGre+0NIM/YPfVxX+fgz+A6h9BUAyEP8AnuVwue4Q/oGPxKCLshD8ghznLM1+FP+CPIX5r1IU/gPxUkdFLhj/gxJVpbsWGP2DStYBKQYc/wPSOZW6/hz9ATPm74j+IP2AiwDywwog/YCqVtd9HiT8AJAIJes+JP8DZWC6IWYo/QHShMRPmij/gG4czJHWLP+DjQmnEBow/oPeEHP2ajD/gA1yr1zGNPyDXGohdy40/ADI8OZhnjj/gwURZkQaPP6BAo5ZSqI8/wFnH2XImkD9QYfFCKnqQP5ASfXtUz5A/wI3DgfYlkT/w+LRdFX6RPwDEwiC215E/AOvI5d0ykj/QNfbQkY+SPyBysw/X7ZI/4KSJ2LJNkz8QMgdrKq+TP0D3ow9DEpQ/IFekFwJ3lD+wNPvcbN2UP4DaKsKIRZU/kM0kMluvlT+QiCig6RqWP6AeoYc5iJY/cMMBbFD3lj/ANqHYM2iXPyASlGDp2pc/QPeFnnZPmD9wnZE04cWYP2C8F8wuPpk/gNSUFWW4mT8Q0XXIiTSaP1CG66Kispo/oAe9abUymz+Q1hjox7SbP9DpZO/fOJw/sIoNVwO/nD+ACVP8N0edP9BHFsKD0Z0/ABikkOxdnj+wcn9VeOyePzCBKgMtfZ8/wD53SAgIoD+wM1F9lFKgP5BHOCA+nqA/KHtNMwjroD+IQ5+69TihPzCRCrwJiKE/0EIbP0fYoT+YBOxMsSmiP0CcBfBKfKI/MKI9NBfQoj/IqJQmGSWjP/DRE9VTe6M/aNSpTsrSoz/QcAejfyukP+BXe+J2haQ/wILNHbPgpD/g/RlmNz2lP1Aoq8wGm6U/IGjTYiT6pT/wVMY5k1qmP8hacWJWvKY/INVT7XAfpz9YpVbq5YOnP5hEo2i46ac/SFN6dutQqD8wqAkhgrmoP+jfQXR/I6k/qG+reuaOqT8oPDs9uvupP3i3JsP9aao/CIe3EbTZqj+gtB4s4EqrP+BrRxOFvas/EEepxaUxrD/YLBo/RaesPyjCn3hmHq0/2HFAaAyXrT9YDdQAOhGuPwgI1DHyjK4/UFEr5zcKrz/IzgUJDomvP+C8z727BLA/6JGJj7tFsD/scZTnh4ewPwgYkjEiyrA/gNPI1osNsT+oRQo+xlGxP5T6mcvSlrE/aN4T4bLcsT/wkFLdZyOyPwCZVRzzarI/oHkn91Wzsj+gqsPDkfyyP5B2/NSnRrM/tL9gepmRsz8QriEAaN2zP0hI+K4UKrQ/cPkKzKB3tD+QBdOYDca0PwzvAVNcFbU/0M5mNI5ltT9UodNypLa1P8iKAkCgCLY/4BN7yYJbtj94Ync4Ta+2P+RuybEABLc/MDnAVZ5Ztz8sAA1AJ7C3P/R7qIecB7g/UB+4Pv9fuD8kYXNyULm4P8QQCSuRE7k/dLeEa8JuuT88CbQx5cq5P7xnDHb6J7o/vHiQKwOGuj/Y07U/AOW6P5TISpryRLs/QEBcHduluz84vRuluge8P9x6xQeSarw/zK+GFWLOvD+Y9WOYKzO9P+jXH1TvmL0/7I0hBq7/vT8s4FtlaGe+P+A9NCIf0L4/hANq5tI5vz+o9f1UhKS/P1T5DAUaCMA/pm58TXE+wD+MYedKSHXAP5qg2ECfrMA/wBRAb3bkwD+4NWcSzhzBPyKh5WKmVcE/7tWVlf+OwT8UFYrb2cjBP+poAWI1A8I/hNRcUhI+wj/sqxTScHnCPxwXrgJRtcI/LsCwAbPxwj+krpzoli7DP5RQ4Mz8a8M/HrPOv+Spwz9a65XOTujDP96wNQI7J8Q/LCt2X6lmxD8A897mmabEP+RIrpQM58Q/EILQYAEoxT+UrNc+eGnFP25s8x1xq8U//hHp6OvtxT9c6wuG6DDGP8DRNddmdMY/lPO/uWa4xj/K3HsG6PzGPxa+rJHqQcc/VPQAK26Hxz/60Iudcs3HP5ikv6/3E8g/egxoI/1ayD84hKS1gqLIPy484x6I6sg/7jXcEg0zyT88p4xAEXzJP+akMlKUxck/4BVJ7ZUPyj+q74OyFVrKPwC9zD0Tpco/Jm8/Jo7wyj8aeyf+hTzLP/ZC/VL6iMs/XMxjrerVyz/mxCaRViPMP7jUOH09ccw/UkCy656/zD/i2c9Reg7NPwhD8h/PXc0/NH+dwZytzT9U13id4v3NP4YPTxWgTs4/yO4OhtSfzj+oGcxHf/HOP9Q/wK2fQ88/OJ1MBjWWzz8wz/uaPunPP8T+QdhdHtA/HKxkw1VI0D/cdHCshnLQPx3fiS7wnNA/GTBx4pHH0D/0VIRea/LQP1r2wDZ8HdE/0LbG/MNI0T/Fm9k/QnTRP5ah5Iz2n9E/L3p8buDL0T+sduJs//fRP5KbBw5TJNI/zN+P1dpQ0j9altVEln3SP3QC7dqEqtI/PhaoFKbX0j+8W5ps+QTTPwsIHVt+MtM/pjhTVjRg0z98Wi7SGo7TP+K6ckAxvNM/0kG8EHfq0z+oVYOw6xjUP8jnIYuOR9Q/DKrYCV921D/mbNSTXKXUP4ilM46G1NQ/KRwMXNwD1T/VwXBeXTPVP4Ctd/QIY9U/LEBAe96S1T9wb/lN3cLVP1w26MUE89U/EyxuOlQj1j+zPxABy1PWP1qZfW1ohNY/ep+W0Su11j9aIHR9FObWPxafbr8hF9c/oMMl5FJI1z927Yc2p3nXPy/o2f8dq9c/uMG+h7bc1z9dwT8UcA7YPzp/1OlJQNg/lBtrS0Ny2D80lXB6W6TYP4w+2baR1tg/v1ApP+UI2T/wm31QVTvZP3JUlCbhbdk/xvvV+4eg2T86ZV4JSdPZP+/UBYcjBto/HDlqqxY52j96fPirIWzaPzDx9bxDn9o/ztOJEXzS2j8Z5cbbyQXbP3YatUwsOds/v2NblKJs2z/uhcnhK6DbP/YJImPH09s/sD6kRXQH3D9qTba1MTvcPwNg797+btw/5Nch7Nqi3D8YlWUHxdbcP3VMIlq8Ct0/SuwZDcA+3T+CDnNIz3LdP2x3wzPppt0/hqAa9gzb3T8JTgy2OQ/eP88uu5luQ94/VYXjxqp33j8j2eVi7aveP92v0ZI14N4/vUxwe4IU3z8Rdk9B00jfP1o/zAgnfd8/o9cd9nyx3z/SWmAt1OXfP5jST+kVDeA/LhTxhEEn4D9T4Jl7bEHgP/hEWF+WW+A/oNlHwr514D8TKJc25Y/gP24TjU4JquA/Vj2OnCrE4D+XaCKzSN7gP/rY+SRj+OA/vq/yhHkS4T9KRB5miyzhP794xluYRuE/2Qlz+Z9g4T/E2e7SoXrhP3U1TXydlOE/DhTviZKu4T/+T4iQgMjhP0rZJCVn4uE/p+At3UX84T8H+25OHBbiPwk9Gw/qL+I/IU7Sta5J4j/DcqXZaWPiP3KNHBIbfeI/GxY798GW4j9oB4UhXrDiP8PBAyrvyeI/cONKqnTj4j+HFX087vziP2TNUHtbFuM/HQIVArwv4z/H1bVsD0njPwYywVdVYuM/n1drYI174z+6YJMkt5TjP2a1x0LSreM/NnJKWt7G4z9hwBUL29/jP1Af4PXH+OM/JJ8gvKQR5D/oCxMAcSrkP0UJvGQsQ+Q/Lh7tjdZb5D90sEggb3TkP9PvRcH1jOQ/Q7A0F2ql5D9TM0HJy73kPyXgd38a1uQ/+OnI4lXu5D/S5AudfQblP0hIA1mRHuU/6t9fwpA25T8/KcSFe07lPxefx1BRZuU/7PH50RF+5T88Lea4vJXlP43JFbZRreU/+aoTe9DE5T8eDG+6ONzlPyxVvieK8+U/F9+hd8QK5j+PosZf5yHmP8DS6JbyOOY/rmPW1OVP5j/6e3HSwGbmPyLSskmDfeY/4fSr9SyU5j/EfomSvarmP9Q0ld00weY/GhA4lZLX5j83Mvx41u3mP6nEjkkABOc/6MLByA8a5z83r425BDDnPx4yE+DeRec/mKScAZ5b5z/ShJ/kQXHnP4TVvVDKhuc/9GfHDjec5z9yELvoh7HnP5LFx6m8xuc/8alNHtXb5z+dAN8T0fDnPzUMQVmwBeg/sthsvnIa6D8L8I8UGC/oP5T5DC6gQ+g/TER83gpY6D8gPKz6V2zoPyvKoViHgOg/M6CYz5iU6D88bwM4jKjoP4YJjGthvOg/7W8TRRjQ6D/SyrGgsOPoP8ZOtlsq9+g/6AynVIUK6T9Cr0BrwR3pPzohdoDeMOk/NiRwdtxD6T/A0Iwwu1bpPxQEX5N6aek/hrqthBp86T/GVnPrmo7pPzHW3K/7oOk/hPJIuzyz6T/0MEf4XcXpP/TellJf1+k/4vwlt0Dp6T/aFhAUAvvpP8ILnVijDOo/6sI/dSQe6j970JRbhS/qP84IYf7FQOo/GwOQUeZR6j+QizJK5mLqPygFfd7Fc+o/grvFBYWE6j/kJIO4I5XqP9sUSvChpeo/fN/Lp/+16j/GbdTaPMbqP0FDSIZZ1uo/NXUiqFXm6j/Ik3I/MfbqPyqFWkzsBes/OFMM0IYV6z/c68fMACXrP1fU2EVaNOs/9M+TP5ND6z85elS/q1LrPwTVesujYes/4cpoa3tw6z/GpX+nMn/rP7t6HYnJjes/hIqaGkCc6z+3l0ZnlqrrP5IyZnvMuOs/0PovZOLG6z/a18kv2NTrP50nRu2t4us/V+SgrGPw6z+swbx++f3rP0tBYHVvC+w/kL8yo8UY7D9CeLkb/CXsP/mDVPMSM+w/RM47PwpA7D8DBXwV4kzsP02B84yaWew/BipPvTNm7D+kUAe/rXLsP1mIXKsIf+w/+HdUnESL7D/uprasYZfsP4RFCfhfo+w/6PCNmj+v7D8Jcz6xALvsP9h+yVmjxuw/EmmPsifS7D/o3Z7ajd3sP9qTsfHV6Ow/FvwoGAD07D+C8ApvDP/sP/pf/hf7Ce0/2fhHNcwU7T8j0sbpfx/tP7ET8VgWKu0/hJ3Qpo807T+nrv/36z7tP9SLpXErSe0/JSZzOU5T7T8ewp91VF3tP06f5Uw+Z+0/0qB+5gtx7T/29iBqvXrtPz7K+/9ShO0/Cuiz0MyN7T8ucWAFK5ftP6yKh8dtoO0/zBAbQZWp7T/gTHWcobLtP+KtVQSTu+0/M4Tdo2nE7T+uwIymJc3tP0q3PjjH1e0/kOUmhU7e7T//vM25u+btP8JxDQMP7+0/w80Ojkj37T9jCEaIaP/tPxSjbx9vB+4/60qNgVwP7j+Av+LcMBfuPyq/8l/sHu4/4vh7OY8m7j/eA3aYGS7uPzJdDqyLNe4/j2ulo+U87j9BicuuJ0TuP7YUPv1RS+4/kIfkvmRS7j+IlM0jYFnuPz5MLFxEYO4/BklVmBFn7j8B4rsIyG3uP35l791ndO4/zFqYSPF67j+2y3V5ZIHuP6qVWqHBh+4/rsIq8QiO7j9U6tiZOpTuP7GaY8xWmu4/fsnSuV2g7j97TTWTT6buPyJgnoksrO4/1CcjzvSx7j+CStiRqLfuP/OIzwVIve4/umIVW9PC7j/gwq7CSsjuP3S1lm2uze4/3SW8jP7S7j88pv9QO9juP7Y/Metk3e4/00sOjHvi7j/tVj9kf+fuP8gLVqRw7O4/TijLfE/x7j+He/wdHPbuP8TsKrjW+u4/FIx4e3//7j/2q+aXFgTvP2oEVD2cCO8/QN96mxAN7z/CTe/hcxHvP7RnHUDGFe8/qpNH5Qca7z+y2IQAOR7vP0s5v8BZIu8/wxeyVGom7z/Oo+jqairvP3hRvLFbLu8/XFlT1zwy7z8cQp+JDjbvPxVzW/bQOe8/RtALS4Q97z9vX/u0KEHvP0r2OmG+RO8/5PGffEVI7z8L98IzvkvvP7y7/rIoT+8/lNluJoVS7z8sqe6501XvP1omGJkUWe8/R91C70dc7z9G4ILnbV/vP3DGp6yGYu8/2bI7aZJl7z9vZIJHkWjvP1JOeHGDa+8/qLjREGlu7z/g6flOQnHvPzhYElUPdO8/kuPxS9B27z9sFyRchXnvP/Z06K0ufO8/MsUxacx+7z/+cqW1XoHvP/jsmrrlg+8/OA8bn2GG7z+klN+J0ojvP/CPUqE4i+8/IuyNC5SN7z9w9Fru5I/vP5DjMW8rku8/L3o5s2eU7z+ZnEbfmZbvP3D32xfCmO8/VqspgeCa7z92/ww/9ZzvP88aEHUAn+8/LcRpRgKh7z+2KP3V+qLvP+yoWUbqpO8/Dqy6udCm7z/AeQdSrqjvP+QZ0zCDqu8/cjpcd0+s7z9gG41GE67vP1aA+77Or+8/IqjoAIKx7z/kSUEsLbPvP7iXnWDQtO8/2UZBvWu27z8cnRth/7fvP6qDx2qLue8/1p6L+A+77z8Fa1oojbzvP31e0hcDvu8/BhA+5HG/7z9GYpSq2cDvP8GzeIc6wu8/ShM7l5TD7z/zeNj158TvPzsD+740xu8/eDj6DXvH7z9ZTNv9usjvP2hpUan0ye8/dP69KijL7z/CDzGcVczvP/eLaRd9ze8/lqTVtZ7O7z8EKpOQus/vP+jqb8DQ0O8/5BbqXeHR7z98pDCB7NLvPxa6I0Ly0+8/CBpVuPLU7z+GkQj77dXvP2hqNCHk1u8/rN+BQdXX7z+YlE1ywdjvP2wOqMmo2e8/hDBWXYva7z/cutFCadvvP9rKSY9C3O8/Rl6jVxfd7z9g2Hmw593vP/qIH66z3u8/ejWeZHvf7z/Ao7fnPuDvP8gm5kr+4O8//ixdobnh7z8u0An+cOLvP/Bmk3Mk4+8/mhdcFNTj7z98bIHyf+TvP3Dp3B8o5e8/pKIErszl7z9/1EuubebvP6R8wzEL5+8/7PM6SaXn7z9OiUAFPOjvP6odInbP6O8/UsDtq1/p7z9cTHK27OnvP40GQKV26u8/6Tuph/3q7z/A4MJsgevvPzkwZWMC7O8/R0wseoDs7z/v3Xi/++zvP9+1cEF07e8/QG3/Dert7z+vBtcyXe7vP1yPcL3N7u8/M8AMuzvv7z8Sn7Q4p+/vP+ofOkMQ8O8/08U453bw7z/4QxYx2/DvP1QeAy098e8/OEr75pzx7z+EzsZq+vHvP5Bj+sNV8u8/vxL4/a7y7z+Z1e8jBvPvP4U04EBb8+8/+uSWX67z7z8wZ7GK//PvPzijncxO9O8/iIWaL5z07z/Vmri95/TvP06r2oAx9e8/GlW2gnn17z8dptTMv/XvP/y0kmgE9u8/UDkiX0f27z8CI4q5iPbvP9gwp4DI9u8/GIYsvQb37z8+P6R3Q/fvP9MFcLh+9+8/OqPJh7j37z+UksPt8PfvP5qRSfIn+O8/dDAhnV347z9+YOr1kfjvPwgCIATF+O8/93AYz/b47z9QEAZeJ/nvP6TU97dW+e8/Ws3Z44T57z/SrHXosfnvP2BPc8zd+e8/FEFZlgj67z9aQo1MMvrvP2DLVPVa+u8/Qo7VloL67z8I+BU3qfrvP1iw/dvO+u8/+xdWi/P67z8UxspKF/vvPxoE6h86++8/jEglEFz77z9gsNEgffvvPy13KFed++8/BG5HuLz77z8IcTFJ2/vvP7bbzg75++8/5vvtDRb87z91g0NLMvzvP674astN/O8/YCXnkmj87z+khCKmgvzvP1qvbwmc/O8/UscJwbT87z8v4RTRzPzvP/Zsnj3k/O8/UZ2dCvv87z+GzfM7Ef3vPyTmbNUm/e8/XsC/2jv97z8iiI5PUP3vP+gcZzdk/e8/KHHDlXf97z+i6Aluiv3vP0i1jcOc/e8/7jKPma797z+6QTzzv/3vP0ifsNPQ/e8/jj72PeH97z+MngU18f3vP7MfxrsA/u8/ElgO1Q/+7z9QZqSDHv7vP2ZDPsos/u8/JhOCqzr+7z+TcwYqSP7vP/7KUkhV/u8/+JTfCGL+7z8drhZubv7vP6aeU3p6/u8/4OPjL4b+7z9wOAeRkf7vP3/b75+c/u8/vtbCXqf+7z9IQ5jPsf7vP26Ne/S7/u8/ardrz8X+7z/umltiz/7vP7ApMq/Y/u8/06zKt+H+7z9SA/V96v7vP07fdQPz/u8/XAIHSvv+7z/LeFdTA//vP+DTCyEL/+8/FWO+tBL/7z9ebP8PGv/vP2hjVTQh/+8/5B89Iyj/7z/cEireLv/vPxh7hmY1/+8/iJizvTv/7z/S3gnlQf/vP+Am2d1H/+8/mN9oqU3/7z+nPfhIU//vP2pqvr1Y/+8//LHqCF7/7z9ksKQrY//vP+t9DCdo/+8/nto6/Gz/7z/2WEGscf/vP7qHKjh2/+8/CBv6oHr/7z+cFK3nfv/vP0brOQ2D/+8/qrGQEof/7z8oPJv4iv/vPxxGPcCO/+8/TZZUapL/7z+wIrn3lf/vP28zPWmZ/+8/OIWtv5z/7z/gatH7n//vP1buah6j/+8/7PA2KKb/7z/qSu0Zqf/vP5DqQPSr/+8/YPLft67/7z/M1nNlsf/vP1R7of2z/+8/7E4Jgbb/7z/iZ0fwuP/vPx6f80u7/+8/1KqhlL3/7z8=\",\"dtype\":\"float64\",\"order\":\"little\",\"shape\":[1000]}},\"selected\":{\"id\":\"1307\"},\"selection_policy\":{\"id\":\"1306\"}},\"id\":\"1289\",\"type\":\"ColumnDataSource\"},{\"attributes\":{\"source\":{\"id\":\"1270\"}},\"id\":\"1275\",\"type\":\"CDSView\"},{\"attributes\":{},\"id\":\"1251\",\"type\":\"LinearScale\"},{\"attributes\":{},\"id\":\"1253\",\"type\":\"LinearScale\"},{\"attributes\":{\"coordinates\":null,\"group\":null,\"text\":\"Normal Distribution (\\u03bc=0, \\u03c3=0.5)\"},\"id\":\"1245\",\"type\":\"Title\"},{\"attributes\":{\"line_alpha\":0.1,\"line_color\":\"orange\",\"line_width\":2,\"x\":{\"field\":\"x\"},\"y\":{\"field\":\"y\"}},\"id\":\"1291\",\"type\":\"Line\"},{\"attributes\":{\"source\":{\"id\":\"1264\"}},\"id\":\"1269\",\"type\":\"CDSView\"},{\"attributes\":{\"bottom\":{\"value\":0},\"fill_alpha\":{\"value\":0.5},\"fill_color\":{\"value\":\"navy\"},\"hatch_alpha\":{\"value\":0.5},\"left\":{\"field\":\"left\"},\"line_alpha\":{\"value\":0.5},\"line_color\":{\"value\":\"white\"},\"right\":{\"field\":\"right\"},\"top\":{\"field\":\"top\"}},\"id\":\"1265\",\"type\":\"Quad\"},{\"attributes\":{},\"id\":\"1256\",\"type\":\"BasicTicker\"},{\"attributes\":{\"axis\":{\"id\":\"1255\"},\"coordinates\":null,\"grid_line_color\":\"white\",\"group\":null,\"ticker\":null},\"id\":\"1258\",\"type\":\"Grid\"},{\"attributes\":{},\"id\":\"1247\",\"type\":\"DataRange1d\"},{\"attributes\":{\"axis_label\":\"Pr(x)\",\"coordinates\":null,\"formatter\":{\"id\":\"1278\"},\"group\":null,\"major_label_policy\":{\"id\":\"1279\"},\"ticker\":{\"id\":\"1260\"}},\"id\":\"1259\",\"type\":\"LinearAxis\"},{\"attributes\":{},\"id\":\"1285\",\"type\":\"UnionRenderers\"},{\"attributes\":{\"start\":0},\"id\":\"1249\",\"type\":\"DataRange1d\"},{\"attributes\":{\"axis_label\":\"x\",\"coordinates\":null,\"formatter\":{\"id\":\"1281\"},\"group\":null,\"major_label_policy\":{\"id\":\"1282\"},\"ticker\":{\"id\":\"1256\"}},\"id\":\"1255\",\"type\":\"LinearAxis\"},{\"attributes\":{},\"id\":\"1279\",\"type\":\"AllLabels\"},{\"attributes\":{\"line_alpha\":0.2,\"line_color\":\"orange\",\"line_width\":2,\"x\":{\"field\":\"x\"},\"y\":{\"field\":\"y\"}},\"id\":\"1292\",\"type\":\"Line\"},{\"attributes\":{},\"id\":\"1278\",\"type\":\"BasicTickFormatter\"},{\"attributes\":{\"label\":{\"value\":\"CDF\"},\"renderers\":[{\"id\":\"1293\"}]},\"id\":\"1308\",\"type\":\"LegendItem\"},{\"attributes\":{},\"id\":\"1307\",\"type\":\"Selection\"},{\"attributes\":{\"axis\":{\"id\":\"1259\"},\"coordinates\":null,\"dimension\":1,\"grid_line_color\":\"white\",\"group\":null,\"ticker\":null},\"id\":\"1262\",\"type\":\"Grid\"},{\"attributes\":{},\"id\":\"1260\",\"type\":\"BasicTicker\"},{\"attributes\":{\"data\":{\"left\":{\"__ndarray__\":\"KaYgL8xf9r/zlF20DHn1v72DmjlNkvS/h3LXvo2r879RYRREzsTyvxpQUckO3vG/5D6OTk/38L+uLcvTjxDwv/A4ELKgU+6/hBaKvCGG7L8Y9APHorjqv6zRfdEj6+i/QK/326Qd57/UjHHmJVDlv2dq6/CmguO/+0dl+ye14b8eS74LUs/fv0YGsiBUNNy/bMGlNVaZ2L+UfJlKWP7Uv7w3jV9aY9G/yOUB6biQy78YXOkSvVrEv9CkoXmCSbq/4CLhmhW7p7+ADwT2ZnOEP1CV8Ypk+rA/wKgiN1xmvz8Q3qnxKenGP8BnwsclH84/uHjtzpCq0j+Qvfm5jkXWP2gCBqWM4Nk/QEcSkIp73T8MRo89RIvgP3hoFTPDWOI/5oqbKEIm5D9SrSEewfPlP77PpxNAwec/KvItCb+O6T+WFLT+PVzrPwI3OvS8Ke0/blnA6Tv37j/tPaNvXWLwPyNPZuocSfE/WWApZdwv8j+PcezfmxbzP8WCr1pb/fM/+5Ny1Rrk9D8xpTVQ2sr1Pw==\",\"dtype\":\"float64\",\"order\":\"little\",\"shape\":[50]},\"right\":{\"__ndarray__\":\"85RdtAx59b+9g5o5TZL0v4dy176Nq/O/UWEURM7E8r8aUFHJDt7xv+Q+jk5P9/C/ri3L048Q8L/wOBCyoFPuv4QWirwhhuy/GPQDx6K46r+s0X3RI+vov0Cv99ukHee/1Ixx5iVQ5b9nauvwpoLjv/tHZfsnteG/Hku+C1LP379GBrIgVDTcv2zBpTVWmdi/lHyZSlj+1L+8N41fWmPRv8jlAem4kMu/GFzpEr1axL/QpKF5gkm6v+Ai4ZoVu6e/gA8E9mZzhD9QlfGKZPqwP8CoIjdcZr8/EN6p8Snpxj/AZ8LHJR/OP7h47c6QqtI/kL35uY5F1j9oAgaljODZP0BHEpCKe90/DEaPPUSL4D94aBUzw1jiP+aKmyhCJuQ/Uq0hHsHz5T++z6cTQMHnPyryLQm/juk/lhS0/j1c6z8CNzr0vCntP25ZwOk79+4/7T2jb11i8D8jT2bqHEnxP1lgKWXcL/I/j3Hs35sW8z/Fgq9aW/3zP/uTctUa5PQ/MaU1UNrK9T9otvjKmbH2Pw==\",\"dtype\":\"float64\",\"order\":\"little\",\"shape\":[50]},\"top\":{\"__ndarray__\":\"Nl8OC/dDqz8AAAAAAAAAADZfDgv3Q6s/ej+0XE8toj9lP7RcTy2iP3o/tFxPLcI/FG874krPvz9H13cfTf7IPzZfDgv3Q8s/FG874krPvz82Xw4L90PLPzZfDgv3Q8s/gvvoZnoK0T8513cfTf7YPzZfDgv3Q9s/bSVlzY7h4z8uo9kAzGbcPwwrcOx1rN4/bSVlzY7h4z9gCxY+zpXlP3bhmde5vuI/R9d3H03+6D9Qk6wpeNvnP0w1kqTibOg/WE/hM6O45j9tJWXNjuHjPxlfDgv3Q+s/ZGkww2ME5T9Qk6wpeNvnP3bhmde5vuI/UJOsKXjb5z9H13cfTf7oP1CTrCl42+c/PhtDFSIh2j8dK3DsdazePzWTrCl429c/R9d3H03+2D9Qk6wpeNvXP2jHSkj5ctQ/WE/hM6O4xj8UbzviSs+/P3o/tFxPLcI/ej+0XE8toj9YT+Ezo7i2P3o/tFxPLbI/ej+0XE8tkj9YT+Ezo7i2PwAAAAAAAAAAAAAAAAAAAABlP7RcTy2SPw==\",\"dtype\":\"float64\",\"order\":\"little\",\"shape\":[50]}},\"selected\":{\"id\":\"1284\"},\"selection_policy\":{\"id\":\"1283\"}},\"id\":\"1264\",\"type\":\"ColumnDataSource\"},{\"attributes\":{},\"id\":\"1263\",\"type\":\"Toolbar\"},{\"attributes\":{\"line_alpha\":0.7,\"line_color\":\"orange\",\"line_width\":2,\"x\":{\"field\":\"x\"},\"y\":{\"field\":\"y\"}},\"id\":\"1290\",\"type\":\"Line\"},{\"attributes\":{\"bottom\":{\"value\":0},\"fill_alpha\":{\"value\":0.2},\"fill_color\":{\"value\":\"navy\"},\"hatch_alpha\":{\"value\":0.2},\"left\":{\"field\":\"left\"},\"line_alpha\":{\"value\":0.2},\"line_color\":{\"value\":\"white\"},\"right\":{\"field\":\"right\"},\"top\":{\"field\":\"top\"}},\"id\":\"1267\",\"type\":\"Quad\"},{\"attributes\":{},\"id\":\"1286\",\"type\":\"Selection\"},{\"attributes\":{\"bottom\":{\"value\":0},\"fill_alpha\":{\"value\":0.1},\"fill_color\":{\"value\":\"navy\"},\"hatch_alpha\":{\"value\":0.1},\"left\":{\"field\":\"left\"},\"line_alpha\":{\"value\":0.1},\"line_color\":{\"value\":\"white\"},\"right\":{\"field\":\"right\"},\"top\":{\"field\":\"top\"}},\"id\":\"1266\",\"type\":\"Quad\"},{\"attributes\":{},\"id\":\"1282\",\"type\":\"AllLabels\"},{\"attributes\":{\"data\":{\"x\":{\"__ndarray__\":\"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\",\"dtype\":\"float64\",\"order\":\"little\",\"shape\":[1000]},\"y\":{\"__ndarray__\":\"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\",\"dtype\":\"float64\",\"order\":\"little\",\"shape\":[1000]}},\"selected\":{\"id\":\"1286\"},\"selection_policy\":{\"id\":\"1285\"}},\"id\":\"1270\",\"type\":\"ColumnDataSource\"},{\"attributes\":{\"coordinates\":null,\"data_source\":{\"id\":\"1270\"},\"glyph\":{\"id\":\"1271\"},\"group\":null,\"hover_glyph\":null,\"muted_glyph\":{\"id\":\"1273\"},\"nonselection_glyph\":{\"id\":\"1272\"},\"view\":{\"id\":\"1275\"}},\"id\":\"1274\",\"type\":\"GlyphRenderer\"},{\"attributes\":{\"line_alpha\":0.7,\"line_color\":\"green\",\"line_width\":4,\"x\":{\"field\":\"x\"},\"y\":{\"field\":\"y\"}},\"id\":\"1271\",\"type\":\"Line\"},{\"attributes\":{\"coordinates\":null,\"data_source\":{\"id\":\"1264\"},\"glyph\":{\"id\":\"1265\"},\"group\":null,\"hover_glyph\":null,\"muted_glyph\":{\"id\":\"1267\"},\"nonselection_glyph\":{\"id\":\"1266\"},\"view\":{\"id\":\"1269\"}},\"id\":\"1268\",\"type\":\"GlyphRenderer\"},{\"attributes\":{\"line_alpha\":0.1,\"line_color\":\"green\",\"line_width\":4,\"x\":{\"field\":\"x\"},\"y\":{\"field\":\"y\"}},\"id\":\"1272\",\"type\":\"Line\"},{\"attributes\":{\"source\":{\"id\":\"1289\"}},\"id\":\"1294\",\"type\":\"CDSView\"},{\"attributes\":{\"label\":{\"value\":\"PDF\"},\"renderers\":[{\"id\":\"1274\"}]},\"id\":\"1288\",\"type\":\"LegendItem\"},{\"attributes\":{\"line_alpha\":0.2,\"line_color\":\"green\",\"line_width\":4,\"x\":{\"field\":\"x\"},\"y\":{\"field\":\"y\"}},\"id\":\"1273\",\"type\":\"Line\"},{\"attributes\":{},\"id\":\"1284\",\"type\":\"Selection\"},{\"attributes\":{},\"id\":\"1283\",\"type\":\"UnionRenderers\"},{\"attributes\":{\"coordinates\":null,\"data_source\":{\"id\":\"1289\"},\"glyph\":{\"id\":\"1290\"},\"group\":null,\"hover_glyph\":null,\"muted_glyph\":{\"id\":\"1292\"},\"nonselection_glyph\":{\"id\":\"1291\"},\"view\":{\"id\":\"1294\"}},\"id\":\"1293\",\"type\":\"GlyphRenderer\"},{\"attributes\":{},\"id\":\"1281\",\"type\":\"BasicTickFormatter\"}],\"root_ids\":[\"1244\"]},\"title\":\"Bokeh Application\",\"version\":\"2.4.3\"}};\n",
       "  const render_items = [{\"docid\":\"ad9a8b65-b1ea-40cd-bb73-d8de61937816\",\"root_ids\":[\"1244\"],\"roots\":{\"1244\":\"429c4d88-7151-405c-8339-5b7998e25851\"}}];\n",
       "  root.Bokeh.embed.embed_items_notebook(docs_json, render_items);\n",
       "  }\n",
       "  if (root.Bokeh !== undefined) {\n",
       "    embed_document(root);\n",
       "  } else {\n",
       "    let attempts = 0;\n",
       "    const timer = setInterval(function(root) {\n",
       "      if (root.Bokeh !== undefined) {\n",
       "        clearInterval(timer);\n",
       "        embed_document(root);\n",
       "      } else {\n",
       "        attempts++;\n",
       "        if (attempts > 100) {\n",
       "          clearInterval(timer);\n",
       "          console.log(\"Bokeh: ERROR: Unable to run BokehJS code because BokehJS library is missing\");\n",
       "        }\n",
       "      }\n",
       "    }, 10, root)\n",
       "  }\n",
       "})(window);"
      ],
      "application/vnd.bokehjs_exec.v0+json": ""
     },
     "metadata": {
      "application/vnd.bokehjs_exec.v0+json": {
       "id": "1244"
      }
     },
     "output_type": "display_data"
    }
   ],
   "source": [
    "def make_plot(title, hist, edges, x, pdf, cdf):\n",
    "    p = figure(title=title, tools='', background_fill_color=\"#fafafa\", plot_height=400)\n",
    "    p.quad(top=hist, bottom=0, left=edges[:-1], right=edges[1:], fill_color=\"navy\", line_color=\"white\", alpha=0.5)\n",
    "    p.line(x, pdf, line_color=\"green\", line_width=4, alpha=0.7, legend_label=\"PDF\")\n",
    "    p.line(x, cdf, line_color=\"orange\", line_width=2, alpha=0.7, legend_label=\"CDF\")\n",
    "\n",
    "    p.y_range.start = 0\n",
    "    p.legend.location = \"center_right\"\n",
    "    p.legend.background_fill_color = \"#fefefe\"\n",
    "    p.xaxis.axis_label = 'x'\n",
    "    p.yaxis.axis_label = 'Pr(x)'\n",
    "    p.grid.grid_line_color=\"white\"\n",
    "    return p\n",
    "\n",
    "# Normal Distribution\n",
    "mu, sigma = 0, 0.5\n",
    "\n",
    "measured = np.random.normal(mu, sigma, 1000)\n",
    "hist, edges = np.histogram(measured, density=True, bins=50)\n",
    "\n",
    "x = np.linspace(-2, 2, 1000)\n",
    "pdf = 1/(sigma * np.sqrt(2*np.pi)) * np.exp(-(x-mu)**2 / (2*sigma**2))\n",
    "cdf = (1+scipy.special.erf((x-mu)/np.sqrt(2*sigma**2)))/2\n",
    "\n",
    "p3 = make_plot(\"Normal Distribution (μ=0, σ=0.5)\", hist, edges, x, pdf, cdf)\n",
    "show(p3)"
   ]
  },
  {
   "cell_type": "markdown",
   "metadata": {},
   "source": [
    "This example was taken from http://bokeh.pydata.org/en/latest/docs/gallery.html#gallery, which has several other interesting examples of types of plots (with code) that can be created with Bokeh.  Here we see a combination of line plots with a histogram, with different colors for all the features."
   ]
  },
  {
   "cell_type": "markdown",
   "metadata": {},
   "source": [
    "And here we see a simple example that will set up a manipulable plot.  The cell of code below produces a sine curve, which is what the plot below shows initially.  The `update()` function defined in this code creates a drop-down menu that allows the user to select one of three trig functions to plot, and the last two lines of that function produce the plot."
   ]
  },
  {
   "cell_type": "code",
   "execution_count": 97,
   "metadata": {},
   "outputs": [],
   "source": [
    "from ipywidgets import interact\n",
    "from bokeh.io import push_notebook\n",
    "\n",
    "x = np.linspace(0, 2*np.pi, 2000)\n",
    "y = np.sin(x)\n",
    "\n",
    "p4 = figure(title='Interactive trig function example', plot_height=300, plot_width=600, y_range=(-5,5))\n",
    "r = p4.line(x, y, color=\"red\", line_width=3)\n",
    "\n",
    "def update(f, w=1, A=1, phi=0):\n",
    "    if   f == \"sin\":\n",
    "        func = np.sin\n",
    "    elif f == \"cos\":\n",
    "        func = np.cos\n",
    "    elif f == \"tan\":\n",
    "        func = np.tan\n",
    "        \n",
    "    r.data_source.data['y'] = A * func(w * x + phi)\n",
    "    \n",
    "    push_notebook()\n"
   ]
  },
  {
   "cell_type": "code",
   "execution_count": 98,
   "metadata": {},
   "outputs": [
    {
     "data": {
      "text/html": [
       "\n",
       "  <div class=\"bk-root\" id=\"af3ce022-1c33-422c-9d75-e0f17c866c78\" data-root-id=\"1407\"></div>\n"
      ]
     },
     "metadata": {},
     "output_type": "display_data"
    },
    {
     "data": {
      "application/javascript": [
       "(function(root) {\n",
       "  function embed_document(root) {\n",
       "  const docs_json = {\"dea507aa-81af-44fb-8d9e-a93ea44e8eae\":{\"defs\":[],\"roots\":{\"references\":[{\"attributes\":{\"below\":[{\"id\":\"1418\"}],\"center\":[{\"id\":\"1421\"},{\"id\":\"1425\"}],\"height\":300,\"left\":[{\"id\":\"1422\"}],\"renderers\":[{\"id\":\"1444\"}],\"title\":{\"id\":\"1408\"},\"toolbar\":{\"id\":\"1433\"},\"x_range\":{\"id\":\"1410\"},\"x_scale\":{\"id\":\"1414\"},\"y_range\":{\"id\":\"1412\"},\"y_scale\":{\"id\":\"1416\"}},\"id\":\"1407\",\"subtype\":\"Figure\",\"type\":\"Plot\"},{\"attributes\":{},\"id\":\"1410\",\"type\":\"DataRange1d\"},{\"attributes\":{\"end\":5,\"start\":-5},\"id\":\"1412\",\"type\":\"Range1d\"},{\"attributes\":{\"coordinates\":null,\"formatter\":{\"id\":\"1484\"},\"group\":null,\"major_label_policy\":{\"id\":\"1485\"},\"ticker\":{\"id\":\"1419\"}},\"id\":\"1418\",\"type\":\"LinearAxis\"},{\"attributes\":{},\"id\":\"1414\",\"type\":\"LinearScale\"},{\"attributes\":{},\"id\":\"1419\",\"type\":\"BasicTicker\"},{\"attributes\":{},\"id\":\"1481\",\"type\":\"BasicTickFormatter\"},{\"attributes\":{},\"id\":\"1431\",\"type\":\"HelpTool\"},{\"attributes\":{\"axis\":{\"id\":\"1422\"},\"coordinates\":null,\"dimension\":1,\"group\":null,\"ticker\":null},\"id\":\"1425\",\"type\":\"Grid\"},{\"attributes\":{},\"id\":\"1485\",\"type\":\"AllLabels\"},{\"attributes\":{},\"id\":\"1423\",\"type\":\"BasicTicker\"},{\"attributes\":{\"axis\":{\"id\":\"1418\"},\"coordinates\":null,\"group\":null,\"ticker\":null},\"id\":\"1421\",\"type\":\"Grid\"},{\"attributes\":{\"coordinates\":null,\"data_source\":{\"id\":\"1440\"},\"glyph\":{\"id\":\"1441\"},\"group\":null,\"hover_glyph\":null,\"muted_glyph\":{\"id\":\"1443\"},\"nonselection_glyph\":{\"id\":\"1442\"},\"view\":{\"id\":\"1445\"}},\"id\":\"1444\",\"type\":\"GlyphRenderer\"},{\"attributes\":{\"data\":{\"x\":{\"__ndarray__\":\"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\",\"dtype\":\"float64\",\"order\":\"little\",\"shape\":[2000]},\"y\":{\"__ndarray__\":\"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\",\"dtype\":\"float64\",\"order\":\"little\",\"shape\":[2000]}},\"selected\":{\"id\":\"1487\"},\"selection_policy\":{\"id\":\"1486\"}},\"id\":\"1440\",\"type\":\"ColumnDataSource\"},{\"attributes\":{},\"id\":\"1427\",\"type\":\"WheelZoomTool\"},{\"attributes\":{},\"id\":\"1426\",\"type\":\"PanTool\"},{\"attributes\":{\"overlay\":{\"id\":\"1432\"}},\"id\":\"1428\",\"type\":\"BoxZoomTool\"},{\"attributes\":{},\"id\":\"1429\",\"type\":\"SaveTool\"},{\"attributes\":{},\"id\":\"1430\",\"type\":\"ResetTool\"},{\"attributes\":{\"line_color\":\"red\",\"line_width\":3,\"x\":{\"field\":\"x\"},\"y\":{\"field\":\"y\"}},\"id\":\"1441\",\"type\":\"Line\"},{\"attributes\":{\"bottom_units\":\"screen\",\"coordinates\":null,\"fill_alpha\":0.5,\"fill_color\":\"lightgrey\",\"group\":null,\"left_units\":\"screen\",\"level\":\"overlay\",\"line_alpha\":1.0,\"line_color\":\"black\",\"line_dash\":[4,4],\"line_width\":2,\"right_units\":\"screen\",\"syncable\":false,\"top_units\":\"screen\"},\"id\":\"1432\",\"type\":\"BoxAnnotation\"},{\"attributes\":{\"coordinates\":null,\"group\":null,\"text\":\"Interactive trig function example\"},\"id\":\"1408\",\"type\":\"Title\"},{\"attributes\":{\"tools\":[{\"id\":\"1426\"},{\"id\":\"1427\"},{\"id\":\"1428\"},{\"id\":\"1429\"},{\"id\":\"1430\"},{\"id\":\"1431\"}]},\"id\":\"1433\",\"type\":\"Toolbar\"},{\"attributes\":{},\"id\":\"1484\",\"type\":\"BasicTickFormatter\"},{\"attributes\":{\"line_alpha\":0.2,\"line_color\":\"red\",\"line_width\":3,\"x\":{\"field\":\"x\"},\"y\":{\"field\":\"y\"}},\"id\":\"1443\",\"type\":\"Line\"},{\"attributes\":{\"source\":{\"id\":\"1440\"}},\"id\":\"1445\",\"type\":\"CDSView\"},{\"attributes\":{\"line_alpha\":0.1,\"line_color\":\"red\",\"line_width\":3,\"x\":{\"field\":\"x\"},\"y\":{\"field\":\"y\"}},\"id\":\"1442\",\"type\":\"Line\"},{\"attributes\":{},\"id\":\"1416\",\"type\":\"LinearScale\"},{\"attributes\":{},\"id\":\"1482\",\"type\":\"AllLabels\"},{\"attributes\":{\"coordinates\":null,\"formatter\":{\"id\":\"1481\"},\"group\":null,\"major_label_policy\":{\"id\":\"1482\"},\"ticker\":{\"id\":\"1423\"}},\"id\":\"1422\",\"type\":\"LinearAxis\"},{\"attributes\":{},\"id\":\"1487\",\"type\":\"Selection\"},{\"attributes\":{},\"id\":\"1486\",\"type\":\"UnionRenderers\"}],\"root_ids\":[\"1407\"]},\"title\":\"Bokeh Application\",\"version\":\"2.4.3\"}};\n",
       "  const render_items = [{\"docid\":\"dea507aa-81af-44fb-8d9e-a93ea44e8eae\",\"notebook_comms_target\":\"1489\",\"root_ids\":[\"1407\"],\"roots\":{\"1407\":\"af3ce022-1c33-422c-9d75-e0f17c866c78\"}}];\n",
       "  root.Bokeh.embed.embed_items_notebook(docs_json, render_items);\n",
       "  }\n",
       "  if (root.Bokeh !== undefined) {\n",
       "    embed_document(root);\n",
       "  } else {\n",
       "    let attempts = 0;\n",
       "    const timer = setInterval(function(root) {\n",
       "      if (root.Bokeh !== undefined) {\n",
       "        clearInterval(timer);\n",
       "        embed_document(root);\n",
       "      } else {\n",
       "        attempts++;\n",
       "        if (attempts > 100) {\n",
       "          clearInterval(timer);\n",
       "          console.log(\"Bokeh: ERROR: Unable to run BokehJS code because BokehJS library is missing\");\n",
       "        }\n",
       "      }\n",
       "    }, 10, root)\n",
       "  }\n",
       "})(window);"
      ],
      "application/vnd.bokehjs_exec.v0+json": ""
     },
     "metadata": {
      "application/vnd.bokehjs_exec.v0+json": {
       "id": "1407"
      }
     },
     "output_type": "display_data"
    },
    {
     "data": {
      "text/html": [
       "<p><code>&lt;Bokeh Notebook handle for <strong>In[98]</strong>&gt;</code></p>"
      ],
      "text/plain": [
       "<bokeh.io.notebook.CommsHandle at 0x15f308a2a00>"
      ]
     },
     "execution_count": 98,
     "metadata": {},
     "output_type": "execute_result"
    }
   ],
   "source": [
    "show(p4, notebook_handle=True)"
   ]
  },
  {
   "cell_type": "markdown",
   "metadata": {},
   "source": [
    "The next code cell calls the ***`ipywidgets` `interact()`*** function to create a set of controls that allow the plotted function and its parameters to be adjusted.  Try it!"
   ]
  },
  {
   "cell_type": "code",
   "execution_count": 99,
   "metadata": {},
   "outputs": [
    {
     "data": {
      "application/vnd.jupyter.widget-view+json": {
       "model_id": "a5867224a9944ff9aa94e65adf88145e",
       "version_major": 2,
       "version_minor": 0
      },
      "text/plain": [
       "interactive(children=(Dropdown(description='f', options=('sin', 'cos', 'tan'), value='sin'), IntSlider(value=1…"
      ]
     },
     "metadata": {},
     "output_type": "display_data"
    },
    {
     "data": {
      "text/plain": [
       "<function __main__.update(f, w=1, A=1, phi=0)>"
      ]
     },
     "execution_count": 99,
     "metadata": {},
     "output_type": "execute_result"
    }
   ],
   "source": [
    "interact(update, f = ['sin', 'cos' , 'tan'], w=(1,50), A=(1,5,0.2), phi=(0, 20, 0.1))"
   ]
  },
  {
   "cell_type": "markdown",
   "metadata": {},
   "source": [
    "  "
   ]
  },
  {
   "cell_type": "markdown",
   "metadata": {},
   "source": [
    "### <font color=\"blue\">Recap and Final Comments</font>\n",
    "\n",
    "* Least-squares fitting of a set of data using a series expansion in user-selected basis functions amounts to solving a set of simultaneous equations --- the normal equations $\\mathbf{Ma} = \\mathbf{q}$ --- for the vector $\\mathbf{a}$ representing the coefficients of the basis functions.  This can be done using the methods of Module 6.  \n",
    "<br>\n",
    "\n",
    "* It would take an entire book to fully present the use of any of the libraries mentioned above.  The best way to find out how to create a specific type of plot would be to find an example of a similar one online and adapt it to your needs.\n",
    "<br>\n",
    "\n",
    "* Pandas is a very popular Python library for \"big data\" applications.  It can be used in tandem with Bokeh or other robust plotting libraries for data visualization.  \n",
    "<br>\n",
    "\n",
    "* A nice resource on data science, statistics, and Python is the free e-book titled **Computational and Inferential Thinking: The Foundations of Data Science** used in the Foundations of Data Science course at the University of California at Berkeley and available here https://www.inferentialthinking.com/.  (Note that it uses a data analysis library called **datascience** instead of Pandas.)\n",
    "<br>\n",
    "\n",
    "* From Appendix 1: singular value decomposition is a method of factorizing matrices that permits the solution of equations like the normal equations even in the case of singular $\\mathbf{M}$.  The Python function `svd` in the `numpy.linalg` package implements this method.  [The reader who wishes to use this method without reading the entire Appendix can start at the paragraph just before Eq. (6).] \n",
    "<br>\n",
    "\n",
    "* From Appendix 2: principal components analysis is a powerful technique for finding the strongest relationships between correlated variables as the eigenvectors of the covariance matrix corresponding to the largest eigenvalues.  The methods of Module 7 apply here. "
   ]
  },
  {
   "cell_type": "markdown",
   "metadata": {},
   "source": [
    "   "
   ]
  },
  {
   "cell_type": "markdown",
   "metadata": {},
   "source": [
    "### <font color=\"blue\">Reflection Prompts</font>\n",
    "\n",
    "These questions are intended to help you think about what you learned from this module and how it might be useful to you in the future. You are strongly encouraged to answer them before moving on to the next module.  \n",
    "\n",
    "- Which components of this module did you find you were easily able to work through, and why do you think they were especially easy for you?\n",
    "\n",
    "- Which components of this module did you find more difficult to work through, and why do you think they were challenging?\n",
    "\n",
    "- When you got stuck, what did you do to get unstuck? Could this or similar actions be helpful if you get stuck in future work?\n",
    "\n",
    "- What do you understand more deeply about this material?\n",
    "\n",
    "- What questions or uncertainties remain for you regarding this material?"
   ]
  },
  {
   "cell_type": "markdown",
   "metadata": {},
   "source": [
    "  "
   ]
  },
  {
   "cell_type": "markdown",
   "metadata": {},
   "source": [
    "### <font color=\"blue\">Appendix 1: Singular Value Decomposition</font>\n",
    "\n",
    "The method we need for solving problems involving an $\\mathbf{M}$ that may be singular, or close to it, is known as ***singular value decomposition***, or SVD --- another way of factoring a matrix.$^2$  It turns out that SVD has many useful applications; for example, it can be used for data compression of images, and Netflix even uses it as a key element of its movie recommendation system!  \n",
    "\n",
    "You may have learned in linear algebra that every symmetric matrix $\\mathbf{A}$ can be factored in the form $\\mathbf{A} = \\mathbf{Q} \\mathbf{\\Lambda} \\mathbf{Q}^T$, where $\\mathbf{Q}$ is an orthogonal matrix (so $\\mathbf{Q}^{-1} = \\mathbf{Q}^T$) and $\\mathbf{\\Lambda}$ is a diagonal matrix containing the eigenvalues of $\\mathbf{A}$.  The natural question that arises is whether a similar factorization can be performed for a non-symmetric matrix.  The answer is yes --- sort of --- and SVD provides such a factorization.\n",
    "\n",
    "To understand SVD, it will be helpful to have a geometrical notion in mind; namely, that multiplication by a matrix changes one vector into another one.  Consider the $x$-$y$ plane, and the effect of multiplying the vector representing some point ($x, y$) in the plane by a matrix; e.g.,\n",
    "\n",
    "\\begin{equation}\n",
    "\\left( \n",
    "\\begin{matrix}  \n",
    "3 & 0  \\\\\n",
    "0 & 1  \n",
    "\\end{matrix} \n",
    "\\right) \n",
    "\\left(\n",
    "\\begin{matrix}  \n",
    "x  \\\\\n",
    "y  \n",
    "\\end{matrix} \n",
    "\\right) =\n",
    "\\left(\n",
    "\\begin{matrix}  \n",
    "3x  \\\\\n",
    "y  \n",
    "\\end{matrix} \n",
    "\\right) \n",
    "\\end{equation}\n",
    "\n",
    "The effect of multiplication by this matrix has been to stretch the $x$ axis by a factor of 3; for instance, the point (1,1) would have been taken to (3,1), the point (0,1) would not be changed, and the point (1,0) would have been moved to (3,0).$^3$  Thus, this matrix would stretch the unit square defined by the points (0,0), (0,1), (1,0), (1,1) into a rectangle of width 3 and height 1.  Likewise, switching the 3 and the 1 in the matrix would result in a new matrix that stretches the plane *vertically*, turning the unit square into a rectangle with width 1 and height 3.  \n",
    "\n",
    "Going a step further, if we replace the 1 in the original matrix with a 2, the resulting matrix would stretch the plane both along the $x$ axis (by a factor of 3) and along the $y$ axis (by a factor of 2).  \n",
    "\n",
    "Now consider the effect of a more general *symmetric* matrix $\\mathbf{A}_1 = \\bigl( \\begin{smallmatrix} 2&1\\\\ 1&2 \\end{smallmatrix} \\bigr)$:\n",
    "\n",
    "\\begin{equation}\n",
    "\\left( \n",
    "\\begin{matrix}  \n",
    "2 & 1  \\\\\n",
    "1 & 2  \n",
    "\\end{matrix} \n",
    "\\right) \n",
    "\\left(\n",
    "\\begin{matrix}  \n",
    "x  \\\\\n",
    "y  \n",
    "\\end{matrix} \n",
    "\\right) =\n",
    "\\left(\n",
    "\\begin{matrix}  \n",
    "2x + y  \\\\\n",
    "x + 2y  \n",
    "\\end{matrix} \n",
    "\\right) .\n",
    "\\end{equation}\n",
    "\n",
    "This matrix would produce the following transformations of the corners of the unit square: (0,0) $\\rightarrow$ (0,0); (0,1) $\\rightarrow$ (1,2); (1,0) $\\rightarrow$ (2,0); and (1,1) $\\rightarrow$ (3,3).  This transformation changes the unit square into the diamond shape shown on the right in Figure 3. (In the figure, the matrix action is labeled by $M$).  The square has been stretched along a $45^\\circ$ line.  "
   ]
  },
  {
   "cell_type": "markdown",
   "metadata": {},
   "source": [
    "   "
   ]
  },
  {
   "cell_type": "markdown",
   "metadata": {},
   "source": [
    "<img src = './Images/Matrix_Transformation-A.png'  width=500>"
   ]
  },
  {
   "cell_type": "markdown",
   "metadata": {},
   "source": [
    "<center><b>Figure 2</b>: Transformation of the unit square by matrix $\\mathbf{A}_1$</center>\n",
    "<center>(Image credit: David Austin, https://www.math.kent.edu/~reichel/courses/intr.num.comp.1/fall11/lecture7/fcarc-svd.html)</center>"
   ]
  },
  {
   "cell_type": "markdown",
   "metadata": {},
   "source": [
    "   "
   ]
  },
  {
   "cell_type": "markdown",
   "metadata": {},
   "source": [
    "We can get a different perspective on what's going on here if we imagine a coordinate system rotated $45^\\circ$ from the original one, such that the unit square is rotated into a \"unit diamond.\"  As Figure 4 shows, in this rotated coordinate system matrix $\\mathbf{A}_1$ has the effect of stretching the unit diamond by a factor of 3 along the rotated $x$ axis.  [You can convince yourself of this by operating with $\\mathbf{A}_1$ on the corners of the unit diamond, at (0,0), $\\tfrac{1}{\\sqrt{2}}(-1,1)$, (0,$\\sqrt{2}$), and $\\tfrac{1}{\\sqrt{2}}(1,1)$ in the original coordinate system.]  This simple stretching (along a new axis) is a consequence of the fact that $\\mathbf{A}_1$ is a symmetric matrix.  (Symmetric matrices also can produce reflection about a line.)  Note that in this case, the rotated $x$ and $y$ axes remain perpendicular to each other after the transformation produced by $\\mathbf{A}_1$.  That implies that the eigenvectors of $\\mathbf{A}_1$ lie along those rotated axes."
   ]
  },
  {
   "cell_type": "markdown",
   "metadata": {},
   "source": [
    "   "
   ]
  },
  {
   "cell_type": "markdown",
   "metadata": {},
   "source": [
    "<img src = './Images/Matrix_Transformation-B.png'  width=500>"
   ]
  },
  {
   "cell_type": "markdown",
   "metadata": {},
   "source": [
    "<center><b>Figure 3</b>: Transformation of a rotated unit square by matrix $\\mathbf{A}_1$</center>\n",
    "<center>(Image credit: David Austin, https://www.math.kent.edu/~reichel/courses/intr.num.comp.1/fall11/lecture7/fcarc-svd.html)</center>"
   ]
  },
  {
   "cell_type": "markdown",
   "metadata": {},
   "source": [
    "   "
   ]
  },
  {
   "cell_type": "markdown",
   "metadata": {},
   "source": [
    "Now let's explore what happens if we use a non-symmetric matrix, e.g. $\\mathbf{A}_2 = \\bigl( \\begin{smallmatrix} 1&1\\\\ 0&1 \\end{smallmatrix} \\bigr)$.  As shown in Figure 5, this has the effect of \"sliding\" the top of the unit square sideways, as would happen to a loosely bound book (viewed along its spine) if you pushed the top cover sideways while holding the bottom cover in place.  This kind of transformation is called ***shear*** (it happens, for example, in moving fluids).  With the previous discussion in mind, the obvious question to ask is whether some rotation of the original  coordinate system would result in this shear being transformed into a simpler transformation.  Since we seem to have a theme going here, you probably won't be surprised to learn that the answer is \"yes.\"  In fact, the necessary rotation angle, as illustrated in the left-hand part of Figure 6, is about $58.28^\\circ$.  Note that in this case the matrix seems to both stretch and rotate the square.  That is, a shear corresponds to both a rotation and a stretching.  As a result of this combined action, while the final coordinate axes resulting from the original rotation and the action of $\\mathbf{A}_2$ are perpendicular to each other (see the right-hand part of the figure), they are not aligned with the (rotated) axes in the left-hand part of the figure."
   ]
  },
  {
   "cell_type": "markdown",
   "metadata": {},
   "source": [
    "   "
   ]
  },
  {
   "cell_type": "markdown",
   "metadata": {},
   "source": [
    "<img src = './Images/Matrix_Transformation-C.png'  width=500>"
   ]
  },
  {
   "cell_type": "markdown",
   "metadata": {},
   "source": [
    "<center><b>Figure 4</b>:  Transformation of the unit square by matrix $\\mathbf{A}_2$</center>\n",
    "<center>(Image credit: David Austin, https://www.math.kent.edu/~reichel/courses/intr.num.comp.1/fall11/lecture7/fcarc-svd.html)</center>"
   ]
  },
  {
   "cell_type": "markdown",
   "metadata": {},
   "source": [
    "   "
   ]
  },
  {
   "cell_type": "markdown",
   "metadata": {},
   "source": [
    "<img src = './Images/Matrix_Transformation-D.png'  width=500>"
   ]
  },
  {
   "cell_type": "markdown",
   "metadata": {},
   "source": [
    "<center><b>Figure 5</b>: Transformation of a rotated unit square by matrix $\\mathbf{A}_2$</center>\n",
    "<center>(Image credit: David Austin, https://www.math.kent.edu/~reichel/courses/intr.num.comp.1/fall11/lecture7/fcarc-svd.html)</center>"
   ]
  },
  {
   "cell_type": "markdown",
   "metadata": {},
   "source": [
    "  "
   ]
  },
  {
   "cell_type": "markdown",
   "metadata": {},
   "source": [
    "Computing the SVD corresponds to finding an orthogonal grid (the left-hand images in Figures 4 and 6) that is transformed into another orthogonal grid (the right-hand images in those figures) by the matrix of interest ($\\mathbf{A}_1$ and $\\mathbf{A}_2$ in the examples above).  Put another way, in this 2-D example the SVD of a matrix $\\mathbf{A}$ finds orthogonal unit vectors $\\mathbf{v}_1$ and $\\mathbf{v}_2$ such that $\\mathbf{A} \\mathbf{v}_1$ and $\\mathbf{A} \\mathbf{v}_2$ also are orthogonal. \n",
    "\n",
    "How is this done?  The method is suggested by Figure 7, which shows a unit circle superimposed on the grid of Figure 6.  Under the action of $\\mathbf{A}$, the unit circle is transformed into an ellipse whose major and minor axes are the transformed vectors of interest, $\\mathbf{A} \\mathbf{v}_1$ and $\\mathbf{A} \\mathbf{v}_2$.  That is, $\\mathbf{A} \\mathbf{v}_1$ and $\\mathbf{A} \\mathbf{v}_2$ are the extrema (the maximum and minimum) of $\\left| \\mathbf{A} \\mathbf{v} \\right|$ for $\\mathbf{v}$ on the unit circle.  As it turns out, these extrema are the eigenvectors of the matrix $\\mathbf{A}^T \\mathbf{A}$.  Being a symmetric matrix, its eigenvectors belonging to different eigenvalues are orthogonal, as we need. \n",
    "\n",
    "We note that if $\\mathbf{u}_1$ and $\\mathbf{u}_2$ are unit vectors in the directions of $\\mathbf{A} \\mathbf{v}_1$ and $\\mathbf{A} \\mathbf{v}_2$, then we can write $\\mathbf{A} \\mathbf{v}_1 = \\sigma_1 \\mathbf{u}_1$ and $\\mathbf{A} \\mathbf{v}_2 = \\sigma_2 \\mathbf{u}_2$.  We then may express a general vector $\\mathbf{w}$ in terms of the vectors $\\mathbf{v}_1$ and $\\mathbf{v}_2$ as \n",
    "\n",
    "\\begin{equation}\n",
    "\\mathbf{w} = (\\mathbf{w} \\cdot \\mathbf{v}_1) \\, \\mathbf{v}_1 + (\\mathbf{w} \\cdot \\mathbf{v}_2) \\, \\mathbf{v}_2 ,\n",
    "\\end{equation}\n",
    "\n",
    "and then multiplying both sides by $\\mathbf{A}$ we get\n",
    "\n",
    "\\begin{align}\n",
    "\\mathbf{A} \\mathbf{w} & = (\\mathbf{w} \\cdot \\mathbf{v}_1) \\, \\mathbf{A} \\mathbf{v}_1 + (\\mathbf{w} \\cdot \\mathbf{v}_2) \\, \\mathbf{A} \\mathbf{v}_2 ,  \\\\\n",
    "& = (\\mathbf{w} \\cdot \\mathbf{v}_1) \\, \\sigma_1 \\mathbf{u}_1 + (\\mathbf{w} \\cdot \\mathbf{v}_2) \\, \\sigma_2 \\mathbf{u}_2 .\n",
    "\\end{align}"
   ]
  },
  {
   "cell_type": "markdown",
   "metadata": {},
   "source": [
    "   "
   ]
  },
  {
   "cell_type": "markdown",
   "metadata": {},
   "source": [
    "<img src = './Images/UnitCircle_Transformation.png'  width=500>"
   ]
  },
  {
   "cell_type": "markdown",
   "metadata": {},
   "source": [
    "<center><b>Figure 6</b>: Transformation of a unit circle by matrix $\\mathbf{A}_2$</center>\n",
    "<center>(Image credit: David Austin, https://www.math.kent.edu/~reichel/courses/intr.num.comp.1/fall11/lecture7/fcarc-svd.html)</center>"
   ]
  },
  {
   "cell_type": "markdown",
   "metadata": {},
   "source": [
    "   "
   ]
  },
  {
   "cell_type": "markdown",
   "metadata": {},
   "source": [
    "We can replace the dot products using the transposes of the $\\mathbf{v}$ vectors (we can think of the transposes as row vectors), getting\n",
    "\n",
    "\\begin{align}\n",
    "\\mathbf{A} \\mathbf{w} & = (\\mathbf{v}_1^T \\mathbf{w}) \\, \\sigma_1 \\mathbf{u}_1 + (\\mathbf{v}_2^T \\mathbf{w}) \\, \\sigma_2 \\mathbf{u}_2 ,  \\\\\n",
    "& =  \\mathbf{u}_1 \\, \\sigma_1 \\, \\mathbf{v}_1^T \\, \\mathbf{w} + \\mathbf{u}_2 \\, \\sigma_2 \\, \\mathbf{v}_2^T \\, \\mathbf{w},\n",
    "\\end{align}\n",
    "\n",
    "where the rearrangement of the second equation is possible since the products $\\mathbf{v}_i^T \\mathbf{w}$ are scalars.  Since this equation is true for *any* $\\mathbf{w}$, we can extract it from the equation to get\n",
    "\n",
    "\\begin{equation}\n",
    "\\mathbf{A} = \\mathbf{u}_1 \\, \\sigma_1 \\, \\mathbf{v}_1^T  + \\mathbf{u}_2 \\, \\sigma_2 \\, \\mathbf{v}_2^T  .  \\hspace{50pt}  (4)  %\\label{Asum}\n",
    "\\end{equation}\n",
    "\n",
    "If we imagine assembling the $\\mathbf{u}_i$'s and $\\mathbf{v}_j$'s into the  columns of matrices $\\mathbf{U}$ and $\\mathbf{V}$ respectively, and making the $\\sigma_i$'s into a diagonal matrix $\\mathbf{\\Sigma}$, then we can rewrite the above equation as\n",
    "\n",
    "\\begin{equation}\n",
    "\\mathbf{A} = \\mathbf{U} \\mathbf{\\Sigma} \\mathbf{V}^T .   \\hspace{50pt}  (5)  %\\label{svd}\n",
    "\\end{equation}\n",
    "  \n",
    "This is the singular value decomposition of $\\mathbf{A}$.  The three matrices can be interpreted geometrically: $\\mathbf{U}$ and $\\mathbf{V}^T$ perform rotations and $\\mathbf{\\Sigma}$ causes stretching.  (Note that the bold $\\mathbf{\\Sigma}$ matrix symbol is different from the un-bold summation symbol, $\\Sigma$.)  The SVD therefore reveals that the action of any 2-D matrix can be reduced to a rotation, followed by a stretch, followed by another rotation. "
   ]
  },
  {
   "cell_type": "markdown",
   "metadata": {},
   "source": [
    "   "
   ]
  },
  {
   "cell_type": "markdown",
   "metadata": {},
   "source": [
    "<font color=\"green\"><b>Breakpoint 3</b></font>: Write out the components of $\\mathbf{A}$ determined from these matrices: \n",
    "\n",
    "\\begin{equation*}\n",
    "\\mathbf{U} = \\left( \\begin{matrix} u_{11} & u_{12}\\\\ u_{21} & u_{22} \\end{matrix} \\right) ,  \\hspace{10mm}  \\mathbf{\\Sigma} = \\left( \\begin{matrix} \\sigma_1 & 0\\\\ 0 & \\sigma_2 \\end{matrix} \\right) , \\hspace{10mm}  \\mathbf{V} = \\left( \\begin{matrix} v_{11}&v_{12}\\\\ v_{21}&v_{22} \\end{matrix} \\right) .\n",
    "\\end{equation*} \n"
   ]
  },
  {
   "cell_type": "markdown",
   "metadata": {},
   "source": [
    "   "
   ]
  },
  {
   "cell_type": "markdown",
   "metadata": {},
   "source": [
    "The same procedure presented above is possible even if $\\mathbf{A}$ is a non-square, $M \\times N$ matrix (which can be thought of as transforming an $M$-dimensional \"cube\" to an $N$-dimensional \"rectangle\" or, more commonly, an $M$-dimensional \"sphere\" to an $N$-dimensional \"ellipsoid\").  In that general situation, $\\mathbf{U}$ is an $M \\times M$ orthogonal matrix, $\\mathbf{V}$ is an $N \\times N$ orthogonal matrix, and $\\mathbf{\\Sigma}$ is an $M \\times N$ \"diagonal\" matrix with elements \n",
    "\n",
    "\\begin{equation*}\n",
    "\\sigma_{ij} = \\begin{cases}\n",
    "0, &  i \\ne j;  \\\\\n",
    "\\sigma_i \\ge 0, &  i = j.\n",
    "\\end{cases}\n",
    "\\end{equation*}\n",
    "\n",
    "Often these are ordered largest to smallest, so that $\\sigma_i \\ge \\sigma_{i+1}$.  (By \"orthogonal\" in the description of $\\mathbf{U}$ and $\\mathbf{V}$ above, we mean that each matrix's columns are normalized and mutually orthogonal.)  \n",
    "\n",
    "The values $\\sigma_i$ are termed the ***singular values*** of $\\mathbf{A}$, and the columns of $\\mathbf{U}$ and $\\mathbf{V}$ are known as the left and right ***singular vectors***, respectively.  The singular values turn out to be the square roots of the eigenvalues of $\\mathbf{A}^T \\mathbf{A}$, and the columns of $\\mathbf{U}$ and $\\mathbf{V}$ are orthonormal eigenvectors of $\\mathbf{A} \\mathbf{A}^T$ and $\\mathbf{A}^T \\mathbf{A}$, respectively.  (A later Module will discuss how to find eigenvalues and eigenvectors numerically.)  Note the difference between the SVD factorization and the one for symmetric matrices noted earlier, $\\mathbf{A} = \\mathbf{Q} \\mathbf{\\Lambda} \\mathbf{Q}^T$: in SVD, the two orthogonal matrices sandwiching $\\mathbf{A}$ are, in general, very different from each other, not simply transposes of one another.\n",
    "\n",
    "Now let's come back to our original goal of solving for $\\mathbf{a}$ in the normal equations $\\mathbf{M} \\mathbf{a} = \\mathbf{q}$.  We start by finding the SVD of matrix $\\mathbf{M}$: $\\mathbf{M} = \\mathbf{U} \\mathbf{\\Sigma} \\mathbf{V}^T$.  Then using that in the normal equations, we have\n",
    "\n",
    "\\begin{equation}\n",
    "\\mathbf{U} \\mathbf{\\Sigma} \\mathbf{V}^T \\mathbf{a} = \\mathbf{q} .  \\hspace{50pt} (6) %\\label{svdfactor}\n",
    "\\end{equation}\n",
    "\n",
    "Left-multiplying both sides first by $\\mathbf{U}^{-1} = \\mathbf{U}^T$, then by $\\mathbf{\\Sigma}^{-1}$, and finally by $(\\mathbf{V}^T)^{-1} = \\mathbf{V}$, we obtain\n",
    "\n",
    "\\begin{equation}\n",
    "\\mathbf{a} = \\mathbf{V} \\mathbf{\\Sigma}^{-1} \\mathbf{U}^T  \\mathbf{q} . \n",
    "\\end{equation}\n",
    "\n",
    "Because $\\mathbf{\\Sigma}$ is diagonal, so is $\\mathbf{\\Sigma}^{-1}$ (the non-zero diagonal elements of $\\mathbf{\\Sigma}^{-1}$ are simply the reciprocals of the corresponding diagonal elements of $\\mathbf{\\Sigma}$) and, as a result, the expression above reduces to\n",
    "\n",
    "\\begin{equation}\n",
    "\\mathbf{a} = \\sum_{\\sigma_i \\ne 0} \\dfrac{1}{\\sigma_i} \\, \\left( \\mathbf{u}_i^T \\mathbf{q} \\right) \\mathbf{v}_i ,   \\hspace{50pt}  (7)  %\\label{AfromSVD}\n",
    "\\end{equation}\n",
    "\n",
    "In words, we compute $\\mathbf{a}$ from a sum of terms associated with the nonzero singular values: if $\\sigma_i \\ne 0$, then the $i^{\\textrm{th}}$ term involves taking the inner product of the $i^{\\textrm{th}}$ column of $\\mathbf{U}$ (as a row vector) with the (column) vector $\\mathbf{q}$, dividing by the $i^{\\textrm{th}}$ singular value, and using the resulting scalar to multiply the $i^{\\textrm{th}}$ column of $\\mathbf{V}$.  This procedure results in a series of column vectors that add up to give $\\mathbf{a}$.  \n",
    "\n",
    "While the singular values and vectors are related to $\\mathbf{A}^T \\mathbf{A}$ and $\\mathbf{A} \\mathbf{A}^T$, algorithms for computing the SVD work directly from $\\mathbf{A}$ rather than from the matrix products, because any errors in $\\mathbf{A}$ would be magnified in those products.  SVD programs, which may make use of the QR algorithm mentioned in Module 6, are quite complicated, so they will not be discussed here.  Fortunately, the `numpy.linalg` package includes an `svd` function which takes an $M \\times N$ matrix $\\mathbf{A}$ and returns the three matrix factors of Eq. (5).  \n",
    "\n",
    "It's worth noting that the inverse of a square, invertible matrix $\\mathbf{A}$ is $\\mathbf{A}^{-1} = \\mathbf{V} \\Sigma^{-1} \\mathbf{U}^T$, and therefore the SVD can be used to numerically determine the inverse of such a matrix.\n",
    "\n",
    "Finally, the reason that SVD is useful in data compression, e.g. of images or music, is that the part of the data associated with the largest singular values is the most important.  That is, in the general form of Eq. (4), which may contain many terms of the form shown there, the dominant terms are the ones with the largest $\\sigma$ values.  Therefore, to reduce the size of a data set with minimal loss of information, the data associated with the *smallest* singular values may be removed.  \n",
    "\n",
    "Consider a greyscale image composed of pixels having values in a finite range, usually 0 to 255, representing 256 shades of grey from pure black to pure white.  The values of those image pixels are represented by our matrix $\\mathbf{A}$.  We compute the SVD of this matrix, and then to compress it we keep only the $r$ largest singular values in $\\mathbf{\\Sigma}$, setting the others to zero.  This gives us a modified matrix $\\mathbf{\\Sigma}_r$.  We then construct the compressed matrix $\\mathbf{A}_{\\textrm{comp}}$ as\n",
    "\n",
    "\\begin{equation}\n",
    "\\mathbf{A}_{\\textrm{comp}} = \\mathbf{U} \\, \\mathbf{\\Sigma}_r \\mathbf{V}^T .   \n",
    "\\end{equation}\n",
    "  \n",
    "Many of the values in $\\mathbf{A}_{\\textrm{comp}}$ would be the same, namely zero, and there are significantly more-efficient methods of storing such ***sparse matrices*** in memory, and of transmitting them, compared with non-sparse matrices.\n"
   ]
  },
  {
   "cell_type": "markdown",
   "metadata": {},
   "source": [
    "   "
   ]
  },
  {
   "cell_type": "markdown",
   "metadata": {},
   "source": [
    "### <font color=\"blue\">Appendix 2: Principal Components Analysis</font>\n",
    "\n",
    "A powerful technique for finding connections among data involving interrelated variables -- a technique that relies on finding eigenvectors -- is known as ***principal components analysis*** (PCA), which originally derived from the principal axis theorem in mechanics.  (This technique has many variations, and goes by many names, depending on the field of application.)  It is used in image and signal analysis to identify features of interest, in genomics to identify subpopulations with related characteristics, and in many other application areas.  (See the page for PCA on Wikipedia for more information.)\n",
    "\n",
    "Imagine that you have a set of data representing two related variables; for instance, the heights and weights of the students in a college.  If you were to plot the data in a graph, it might look something like Figure 2 (ignore the scales on the axes).  If we suppose that the horizontal axis represents weight and the vertical axis represents height, then we can see that there's a relationship between them.  Generally speaking,  greater height correlates with greater weight, but the relationship is not exact --- two people can have the same weight but significantly different heights.  Note the long vector pointing up and to the right --- it identifies the \"direction\" within the data along which it varies the most, and this direction reveals the strongest relationship between the heights and weights.  If there were no variation in the orthogonal direction (indicated by the short vector), then the relationship would be a perfectly linear one.  On the other hand, if both vectors were of the same length, then there'd be no correlation between the variables (the \"blob\" of data would fill a circular region in the plot, with no preferred axis)."
   ]
  },
  {
   "cell_type": "markdown",
   "metadata": {},
   "source": [
    "<img src = './Images/PCA_example_data.png'  width=350>"
   ]
  },
  {
   "cell_type": "markdown",
   "metadata": {},
   "source": [
    "<center><b>Figure 7</b>: Example data with principal component axes</center>\n",
    "<br> \n",
    "<center>(Image credit: Wikipedia user Nicoguaro, from https://en.wikipedia.org/wiki/Principal_component_analysis)</center>"
   ]
  },
  {
   "cell_type": "markdown",
   "metadata": {},
   "source": [
    " "
   ]
  },
  {
   "cell_type": "markdown",
   "metadata": {},
   "source": [
    "The aim of PCA is to identify the \"long vector,\" and the orthogonal ones too, in a set of data representing correlated variables.  (This is analogous to finding the principal axes of rotation of an extended body.)  While it might be possible to do this by eye in the case of just two variables by making a plot like Figure 2, it becomes quite difficult when more than two variables are involved.  (One would have to plot the data in three or more dimensions to see the relationships among the variables.)  \n",
    "\n",
    "PCA involves finding the eigenvectors of a certain matrix constructed from the data for the variables of interest.  For example, let $x_i$ and $y_i$ denote the values taken by two variables; e.g., in our previous example the $x_i$ would represent the weights of the students and the $y_i$ would represent the heights.  Further, let $\\bar{x}$ and $\\bar{y}$ represent the averages of the respective variables.  You may know from a previous course that in the case of $n$ measurements of one variable we define the ***variance*** (the square of the standard deviation) as \n",
    "\n",
    "\\begin{equation}\n",
    "var(x) = \\dfrac{1}{n-1} \\sum_{i=1}^{n} \\left(x_i - \\bar{x} \\right)^2.  \n",
    "\\end{equation}\n",
    "\n",
    "The ***covariance*** of two variables is a generalization of the variance, and is defined as \n",
    "\n",
    "\\begin{equation}\n",
    "cov(x,y) = \\dfrac{1}{n-1} \\sum_{i=1}^{n} \\left(x_i - \\bar{x} \\right) \\left(y_i - \\bar{y} \\right).  \n",
    "\\end{equation}\n",
    "\n",
    "Notice from these two expressions that we can consider the variance as just a special case of the covariance, in which the two variables are one and the same; that is, $var(x) = cov(x,x)$.  Further note that we can think of $cov(x,y)$ essentially as an inner product of two vectors representing the deviations of the two variables from their means.  If the two variables fairly consistently vary in the same way, so that the signs of the deviations $\\left(x_i - \\bar{x} \\right)$ and $\\left(y_i - \\bar{y} \\right)$ generally are the same for the various $i$ values, then their covariance will be large; if the signs of the two expressions vary randomly, so that they're the same as often as they're opposite, then there's little correlation between them and their covariance will be small.  This is very much like the way that the inner product of two vectors is substantial when their components are similar (so they're nearly parallel) but small when their components are very different (much less parallel).\n",
    "\n",
    "It is useful to combine the various possible pairings of variable covariances into a single matrix, the ***covariance matrix***, which for two variables has the form \n",
    "\n",
    "\\begin{equation*}\n",
    "\\left( \n",
    "\\begin{matrix}\n",
    "cov(x,x) & cov(x,y)  \\\\\n",
    "cov(y,x) & cov(y,y)  \\\\ \n",
    "\\end{matrix}\n",
    "\\right) .\n",
    "\\end{equation*}\n",
    " \n",
    "The generalization to more than two variables is straightforward (e.g., for three variables the covariance matrix would be 3 $\\times$ 3, with the third row and column involving the third variable paired with itself and the other two variables.)  \n",
    "\n",
    "*It is the eigenvectors of the covariance matrix that correspond to the vectors in Figure 2*.  Specifically, the eigenvector corresponding to the largest eigenvalue is the one that reveals the greatest variance in the data; i.e., the direction of the long vector in Figure 2.  The eigenvector corresponding to the next-largest eigenvalue is the one that shows the next-greatest variance in the data, and so on.  The methods of Module 7 can be used to find those eigenvectors.\n"
   ]
  },
  {
   "cell_type": "markdown",
   "metadata": {},
   "source": [
    " "
   ]
  },
  {
   "cell_type": "markdown",
   "metadata": {},
   "source": [
    "### <font color=\"blue\">Exercises</font>"
   ]
  },
  {
   "cell_type": "markdown",
   "metadata": {},
   "source": [
    "<u>**Exercise #1**</u>  \n",
    "Suppose you want to fit a straight line, $y(x) = a_1 + a_2 x$, to the points (0.0, 1.0), (1.0, 2.0), (3.0, 3.0).  (a) Find $\\mathbf{M}$ and $\\mathbf{q}$ for this situation.  (b) Using your code from the previous Module to implement Gaussian elimination with back-substitution, solve the associated normal equations for the two $a_i$ coefficients.  (Make sure that your inputs are floating point numbers.)  (c) Plot the data points and your fit on the same graph. How is the fit?  \n",
    "<br>\n",
    "\n",
    "<u>**Exercise #2**</u>  \n",
    "Fit the function $y(x) = a_1 x + a_2 e^x$, to the points (1.0, 1.5), (2.0, 3.0), (3.0, 7.0).  (a) Find $\\mathbf{M}$ and $\\mathbf{q}$ for this situation.  (b) Using your code from the previous Module to implement Gaussian elimination with back-substitution, solve the associated normal equations for the two $a_i$ coefficients.  (c) Plot the data points and your fit on the same graph.  How does the fit look?  (Note: you will want to use at least 20 points, and maybe more, to generate a smooth curve for your fit.)  \n",
    "<br>\n",
    "\n",
    "<u>**Exercise #3**</u>  \n",
    "(a) Write a program to compute the covariance matrix, given 1-D arrays of data for two variables.  (Your program should check that the arrays have the same length, and print an error message and exit if not.)  }\n",
    "\t\n",
    "(b) Test your program by computing the covariance matrix for this data:$^4$\n",
    "\t\n",
    "    x = [2.5, 0.5, 2.2, 1.9, 3.1, 2.3, 2.0, 1.0, 1.5, 1.1], \n",
    "\ty = [2.4, 0.7, 2.9, 2.2, 3.0, 2.7, 1.6, 1.1, 1.6, 0.9]. \n",
    "\t\n",
    "(c) Compute the eigenvalues and eigenvectors for the covariance matrix and identify the directions of the eigenvectors.  (d) Plot the raw data, and estimate whether the eigenvector corresponding to the largest eigenvalue aligns with the long axis of the data, and whether the other eigenvector is perpendicular to the first.  (You can compute their inner product to confirm orthogonality.)  \n",
    "<br>    \n",
    "\t\n",
    "<u>**Exercise #4**</u>  \n",
    "One of the nice features of Python is the possibility of feeding a  variable number of inputs to a function.  That feature can be used to help generalize your covariance function to the case of more than two correlated variables.  The syntax is simple: to feed in an arbitrary set of inputs, you can use the format `def func(*args)`, where `*args` stands for as many comma-separated inputs as you need; that is, you can call your covariance function as `covar(x,y,z,w)` if you define it with a single argument of `*args`.  (Note: the particular name \"`args`\" is not required, but the \"`*`\" is.)  If you know that you will provide a certain minimum number of inputs -- two in the case of the covariance function -- then you can specify those as explicit inputs and use `*args` to represent any additional inputs.  In other words, you could define your covariance function as `def covar(x,y,*args)`, and still call it as `covar(x,y,z,w)`.  (The `*args` must come *after* the required inputs.)  This alternative method might be preferable from a good-programming perspective, as it immediately shows anyone who reads your code that your function must be supplied at least two inputs.  In any case, use this feature to generalize your covariance function to work with any number of input 1-D arrays, and test it on the data of Exercise #3.  (Of course, you might have to alter other parts of your program, depending on how you wrote it!)  \n",
    "<br>\n",
    "\n",
    "<u>**Exercise #5**</u>  (Requires Appendix 1 to be read)  \n",
    "Write a function to solve the normal equations ($\\mathbf{M} \\mathbf{a} = \\mathbf{q}$) using `numpy`'s `svd` function and Eq. (7).  The function should take $\\mathbf{M}$ and $\\mathbf{q}$ as inputs and return $\\mathbf{a}$ as the output, constructing it by using the $\\mathbf{U}$, $\\mathbf{\\Sigma}$, and $\\mathbf{V}$ matrices associated with $\\mathbf{M}$ as obtained from the `svd` function.  Test your function with the specific $\\mathbf{M}$ and $\\mathbf{q}$ that you found in Exercise \\#1, and compare its output with your result from that exercise.  (After importing `svd` from `numpy.linalg`, call it like this: `u,s,v = svd(M)`.) \n"
   ]
  },
  {
   "cell_type": "markdown",
   "metadata": {},
   "source": [
    "   "
   ]
  },
  {
   "cell_type": "markdown",
   "metadata": {},
   "source": [
    "### <font color=\"blue\">Breakpoint Answers</font>\n",
    "\n",
    "**Breakpoint 1**: $$S=\\sum_{i=1}^{N} \\left[y_i -\\sum_{j=1}^M a_j F_j(x_i)\\right]^2 .$$\n",
    "\n",
    "Take the partial derivative with respect to a *particular* $a$ (e.g., $a_k$) treating the other $a_i$'s as constants, and set the result equal to 0 (the chain rule is used):\n",
    "\n",
    "$$\\dfrac{\\partial S}{\\partial a_k} = \\sum_{i=1}^N 2 \\left[-F_k(x_i)\\right] \\left[y_i - \\sum_{j=1}^M a_j F_j(x_i)\\right] = 0 .$$\n",
    "\n",
    "Then do the algebra:\n",
    "\n",
    "$$\\sum_{i=1}^N -2 F_k(x_i) y_i + 2 \\sum_{i=1}^N F_k(x_i) \\sum_{j=1}^M a_j F_j (x_i) = 0$$\n",
    "$$\\sum_{i=1}^N F_k(x_i)\\sum_{j=1}^M a_j F_j(x_i) = \\sum_{i=1}^M y_i F_k(x_i)$$\n",
    "$$\\sum_{j=1}^M \\left[ \\sum_{i=1}^N F_j (x_i) F_k(x_i) \\right] a_j = \\sum_{i=1}^M y_i F_k(x_i) .$$\n",
    "\n",
    "\n",
    "**Breakpoint 2**: \n",
    "\n",
    "Here, $M_{11} = \\sum 1 \\cdot 1$, $M_{12} = \\sum 1 \\cdot x_i = M_{21}$, $M_{22} = \\sum x_i \\cdot x_i$, $M_{13} = \\sum 1 \\cdot x_i^2 = M_{31}$, $M_{23} = \\sum x_i \\cdot x_i^2 = M_{32}$, $M_{33} = \\sum x_i^2 \\cdot x_i^2 = M_{33}$; also, $q_{1} = \\sum y_i \\cdot 1$, $q_{2} = \\sum y_i \\cdot x_i$, and $q_{3} = \\sum y_i \\cdot x_i^2$.  So, \n",
    "\n",
    "\\begin{equation*}\n",
    "\\mathbf{M} = \n",
    "\\left( \n",
    "\\begin{matrix}  \n",
    "N  &  \\sum x_i  &  \\sum x^2  \\\\\n",
    "\\sum x_i  &  \\sum x_i^2  &  \\sum x_i^3  \\\\\n",
    "\\sum x_i^2  & \\sum x_i^3  &  \\sum x_i^4\n",
    "\\end{matrix} \n",
    "\\right) \\hspace{5mm} \\textrm{and} \\hspace{5mm} \n",
    "\\mathbf{q} = \n",
    "\\left( \n",
    "\\begin{matrix}  \n",
    "\\sum y_i  \\\\\n",
    "\\sum y_i x_i  \\\\\n",
    "\\sum y_i x_i^2  \n",
    "\\end{matrix} \n",
    "\\right) . \n",
    "\\end{equation*}\n",
    "\n",
    "\n",
    "**Breakpoint 3**:\n",
    "\n",
    "First we compute $\\mathbf{\\Sigma} \\mathbf{V}^T$ with the given matrices, then bring in $\\mathbf{U}$:\n",
    "\n",
    "\\begin{equation*}\n",
    "\\mathbf{\\Sigma} \\mathbf{V}^T = \n",
    "\\left( \n",
    "\\begin{matrix}  \n",
    "\\sigma_1 & 0  \\\\\n",
    "0 & \\sigma_2    \n",
    "\\end{matrix} \n",
    "\\right) \n",
    "\\left( \n",
    "\\begin{matrix}  \n",
    "v_{11} & v_{21}  \\\\\n",
    "v_{12} & v_{22}     \n",
    "\\end{matrix} \n",
    "\\right) = \n",
    "\\left( \n",
    "\\begin{matrix}  \n",
    "\\sigma_1 v_{11} & \\sigma_1 v_{21}  \\\\\n",
    "\\sigma_2 v_{12} & \\sigma_2 v_{22}     \n",
    "\\end{matrix} \n",
    "\\right) ,\n",
    "\\end{equation*}\n",
    "\n",
    "\\begin{equation*}\n",
    "\\mathbf{U} \\mathbf{\\Sigma} \\mathbf{V}^T = \n",
    "\\left( \n",
    "\\begin{matrix}  \n",
    "u_{11} & u_{12}  \\\\\n",
    "u_{21} & u_{22}    \n",
    "\\end{matrix} \n",
    "\\right) \n",
    "\\left( \n",
    "\\begin{matrix}  \n",
    "\\sigma_1 v_{11} & \\sigma_1 v_{21}  \\\\\n",
    "\\sigma_2 v_{12} & \\sigma_2 v_{22}     \n",
    "\\end{matrix} \n",
    "\\right) =\n",
    "\\left( \n",
    "\\begin{matrix}  \n",
    "u_{11} \\sigma_1 v_{11} + u_{12} \\sigma_2 v_{12} & u_{11} \\sigma_1 v_{21} + u_{12} \\sigma_2 v_{22} \\\\\n",
    "u_{21} \\sigma_1 v_{11} + u_{22} \\sigma_2 v_{12} & u_{21} \\sigma_1 v_{21} + u_{22} \\sigma_2 v_{22}\n",
    "\\end{matrix} \n",
    "\\right) .\n",
    "\\end{equation*}\n"
   ]
  },
  {
   "cell_type": "markdown",
   "metadata": {},
   "source": [
    "   "
   ]
  },
  {
   "cell_type": "markdown",
   "metadata": {},
   "source": [
    "### <font color=\"blue\">References</font>\n",
    "\n",
    "$^1$ The material of this section is adapted mainly from *Computer Methods for Mathematical Computations*, by Forsythe, Malcolm and Moler, and partly from *Scientific Computing: An Introductory Survey, 2e* by Heath.\n",
    "\n",
    "$^2$ The material of this section, including the figures, is taken mainly from  http://www.ams.org/samplings/feature-column/fcarc-svd .  Some material also comes from *Scientific Computing* by Heath. \n",
    "\n",
    "$^3$ This and the following transformations can be confirmed, and new ones explored, using the notebook `Matrix_Transformations.ipynb`, which can be found where these Modules are posted.\n",
    "\n",
    "$^4$ Data from *A Tutorial on Principal Components Analysis*, by Lindsay Smith."
   ]
  }
 ],
 "metadata": {
  "kernelspec": {
   "display_name": "Python 3",
   "language": "python",
   "name": "python3"
  },
  "language_info": {
   "codemirror_mode": {
    "name": "ipython",
    "version": 3
   },
   "file_extension": ".py",
   "mimetype": "text/x-python",
   "name": "python",
   "nbconvert_exporter": "python",
   "pygments_lexer": "ipython3",
   "version": "3.6.2"
  }
 },
 "nbformat": 4,
 "nbformat_minor": 4
}
