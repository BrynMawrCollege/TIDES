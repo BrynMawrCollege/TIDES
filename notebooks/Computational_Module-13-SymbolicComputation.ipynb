{
 "cells": [
  {
   "cell_type": "markdown",
   "id": "0d5dc95e",
   "metadata": {},
   "source": [
    "# <font face=\"times\"><font size=\"6pt\"><p style = 'text-align: center;'> BRYN MAWR COLLEGE\n",
    "\n",
    "<font face=\"times\"><font size=\"6pt\"><p style = 'text-align: center;'><b>Computational Methods in the Physical Sciences</b><br/><br/>\n",
    "\n",
    "<p style = 'text-align: center;'><b>Module 13: Symbolic Computation in Python</b><br/><br/> "
   ]
  },
  {
   "cell_type": "markdown",
   "id": "afd71fe7-f380-4618-b2ab-d7554d12a40c",
   "metadata": {},
   "source": [
    "   ***Prerequisite modules:*** Module 1\n",
    "   \n",
    "   ***Estimated completion time:*** 1.5-3 hours\n",
    "   \n",
    "   ***Learning objectives:*** To become familiar with the features of the symbolic computation package ***sympy*** that a physicist is likely to use."
   ]
  },
  {
   "cell_type": "markdown",
   "id": "5e4835df",
   "metadata": {},
   "source": [
    "  "
   ]
  },
  {
   "cell_type": "markdown",
   "id": "9558e6e0",
   "metadata": {},
   "source": [
    "<img src = './Images/Symbols_xkcd.png' width=300>"
   ]
  },
  {
   "cell_type": "markdown",
   "id": "d8c48196",
   "metadata": {},
   "source": [
    "<center>(Image credit: https://xkcd.com/2520/)</center>"
   ]
  },
  {
   "cell_type": "markdown",
   "id": "0c8adfb5",
   "metadata": {},
   "source": [
    "  "
   ]
  },
  {
   "cell_type": "markdown",
   "id": "81aea740",
   "metadata": {},
   "source": [
    "### <font color=\"blue\">Introduction</font>\n",
    "\n",
    "Up to now, all of the computation done in prior modules has been numerical: the code computed actual numbers, whether or not functions like `sin(x)` were involved.  In this module, we explore Python's ***symbolic computation*** abilities with which, for example, the derivative of `sin(x)` is given as `cos(x)`, as is familiar from calculus.   \n",
    "\n",
    "This notebook has been adapted from the `sympy` documentation here: https://docs.sympy.org/latest/tutorial/index.html .\n"
   ]
  },
  {
   "cell_type": "markdown",
   "id": "5c576ba1-6a41-41d7-90c6-d670abdad790",
   "metadata": {},
   "source": [
    "### <font color=\"blue\">Scientist Profile</font>\n",
    "\n",
    "Born in Osaka, Japan in 1958, Chieko Asakawa is an IBM Fellow at T. J. Watson Research Center and an IBM Distinguished Service Professor at Carnegie Mellon University.  After graduating with a bachelor’s degree in English literature, she earned her PhD in engineering from the University of Tokyo.  Being blind herself, she is known for her instrumental work in accessibility research.  Asakawa created the Home Page Reader, which is the first voice browser to provide internet access for blind and visually impaired people.  With this technology, computer users are able to navigate the internet using the number keypad on a keyboard instead of a mouse.  At IBM Research–Tokyo, Asakawa combined HTML programming with existing text-to-speech technology so that people could understand text, images, links, graphs, and more.  In addition to HPR, Asakawa has developed digital Braille systems and more recently, a project that uses artificial intelligence, sensors, and computer-aided vision to make smartphone apps more accessible."
   ]
  },
  {
   "cell_type": "markdown",
   "id": "9d171d67-77c7-493c-ba9c-53c930e4e511",
   "metadata": {},
   "source": [
    "<img src = './Images/Asakawa.png'  width=170>"
   ]
  },
  {
   "cell_type": "markdown",
   "id": "27705a4e-120a-48e9-80f2-c58e17e5c4ed",
   "metadata": {},
   "source": [
    "  "
   ]
  },
  {
   "cell_type": "markdown",
   "id": "efd2bd7b-650d-44cd-a6f6-1fb6e98df31d",
   "metadata": {},
   "source": [
    "## <font color='blue'>13.1 Starting with `sympy`</font>\n",
    "\n",
    "The Python library that does symbolic computation is **`sympy`** (for *sym*bolic *py*thon, of course!)  The key step in using `sympy` is to declare symbols that you want to act in a functional way using the syntax `x, y = symbols('x y')` (more than two symbols can be specified).  After that, performing symbolic computations isn't very different from performing numerical ones.  \n",
    "\n",
    "First, we must import `sympy`; then we'll define a few symbols that will be used subsequently."
   ]
  },
  {
   "cell_type": "code",
   "execution_count": 1,
   "id": "a66959ae",
   "metadata": {},
   "outputs": [],
   "source": [
    "from sympy import *"
   ]
  },
  {
   "cell_type": "code",
   "execution_count": 2,
   "id": "813e581f",
   "metadata": {},
   "outputs": [],
   "source": [
    "x, y, z = symbols('x y z')"
   ]
  },
  {
   "cell_type": "markdown",
   "id": "1f1eda40-ba03-42d3-a30a-a19597c95c99",
   "metadata": {},
   "source": [
    "  "
   ]
  },
  {
   "cell_type": "markdown",
   "id": "05ab84fa",
   "metadata": {},
   "source": [
    "## <font color='blue'>13.2 Evaluation</font>\n",
    "\n",
    "Possibly the simplest operation that can be performed with `sympy` (apart from basic mathematics) is substitution: substituting one value for another or a value in an expression.  For example, let's define the expression $x^3 + 4xy - z$:"
   ]
  },
  {
   "cell_type": "code",
   "execution_count": 82,
   "id": "2e2bc950",
   "metadata": {},
   "outputs": [],
   "source": [
    "expr1 = x**3 + 4*x*y - z"
   ]
  },
  {
   "cell_type": "markdown",
   "id": "019c55bc",
   "metadata": {},
   "source": [
    "Now we can evaluate the expression by substituting values for each of the variables using the **`.subs`** method appended to the name of the expression.  In this example, we're substituting `2` for `x`, `4` for `y`, and `0` for `z`."
   ]
  },
  {
   "cell_type": "code",
   "execution_count": 84,
   "id": "ab96bc13",
   "metadata": {},
   "outputs": [
    {
     "data": {
      "text/latex": [
       "$\\displaystyle 40$"
      ],
      "text/plain": [
       "40"
      ]
     },
     "execution_count": 84,
     "metadata": {},
     "output_type": "execute_result"
    }
   ],
   "source": [
    "expr1.subs([(x, 2), (y, 4), (z, 0)])"
   ]
  },
  {
   "cell_type": "markdown",
   "id": "cb2ebfe2-d4bb-4978-a5bb-d4a4a06d618a",
   "metadata": {},
   "source": [
    "  "
   ]
  },
  {
   "cell_type": "markdown",
   "id": "7d3e9347",
   "metadata": {},
   "source": [
    "## <font color='blue'>13.3 Derivatives</font>\n",
    "\n",
    "There are two main `sympy` functions for finding derivatives.  The one used for immediate evaluation is **`diff`**.  Of course, the first step would be to import the `sympy` library, if not done earlier."
   ]
  },
  {
   "cell_type": "code",
   "execution_count": 89,
   "id": "f908da7f",
   "metadata": {},
   "outputs": [
    {
     "data": {
      "text/latex": [
       "$\\displaystyle \\cos{\\left(x \\right)}$"
      ],
      "text/plain": [
       "cos(x)"
      ]
     },
     "execution_count": 89,
     "metadata": {},
     "output_type": "execute_result"
    }
   ],
   "source": [
    "diff(sin(x))"
   ]
  },
  {
   "cell_type": "markdown",
   "id": "f64430d2",
   "metadata": {},
   "source": [
    "`diff` can compute multiple derivatives.  To do that, we have to specify the variable with respect to which we want to take the derivative, and then the order of the derivative.  E.g., to compute the second derivative of $x^4$, use"
   ]
  },
  {
   "cell_type": "code",
   "execution_count": 31,
   "id": "3552809e",
   "metadata": {},
   "outputs": [
    {
     "data": {
      "text/latex": [
       "$\\displaystyle 12 x^{2}$"
      ],
      "text/plain": [
       "12*x**2"
      ]
     },
     "execution_count": 31,
     "metadata": {},
     "output_type": "execute_result"
    }
   ],
   "source": [
    "d1 = diff(x**4, x, 2)\n",
    "d1"
   ]
  },
  {
   "cell_type": "markdown",
   "id": "db293a5a",
   "metadata": {},
   "source": [
    "Note above that printing out `d1` directly produces output in LaTeX format, but using `print` produces less fancy output:"
   ]
  },
  {
   "cell_type": "code",
   "execution_count": 32,
   "id": "a11cb710",
   "metadata": {},
   "outputs": [
    {
     "name": "stdout",
     "output_type": "stream",
     "text": [
      "12*x**2\n"
     ]
    }
   ],
   "source": [
    "print(d1)"
   ]
  },
  {
   "cell_type": "markdown",
   "id": "ef160951",
   "metadata": {},
   "source": [
    "`diff` also will compute partial derivatives, simply by specifying the appropriate variables.  For instance, to find the partial derivative of $x^2 y^3$ with respect to $x$ or $y$, do"
   ]
  },
  {
   "cell_type": "code",
   "execution_count": 91,
   "id": "843b44c4",
   "metadata": {},
   "outputs": [
    {
     "data": {
      "text/latex": [
       "$\\displaystyle 2 x y^{3}$"
      ],
      "text/plain": [
       "2*x*y**3"
      ]
     },
     "execution_count": 91,
     "metadata": {},
     "output_type": "execute_result"
    }
   ],
   "source": [
    "diff(x**2 * y**3, x)    # derivative with respect to x"
   ]
  },
  {
   "cell_type": "code",
   "execution_count": 5,
   "id": "13ff4b40",
   "metadata": {},
   "outputs": [
    {
     "data": {
      "text/latex": [
       "$\\displaystyle 3 x^{2} y^{2}$"
      ],
      "text/plain": [
       "3*x**2*y**2"
      ]
     },
     "execution_count": 5,
     "metadata": {},
     "output_type": "execute_result"
    }
   ],
   "source": [
    "diff(x**2 * y**3, y)    # derivative with respect to y"
   ]
  },
  {
   "cell_type": "markdown",
   "id": "085301f5",
   "metadata": {},
   "source": [
    "Multiple partial derivatives can be calculated at one time, using the format of the single partial derivatives but repeating the variable with respect to which you want to take the derivative.  For example, to take the second partial with respect to $x$ and the third partial with respect to $y$ of the expression $\\sin(x^2) y^4$, i.e. $\\frac{\\partial}{\\partial{x}^2 \\partial{y}^3} \\sin(x^2) y^4$, do"
   ]
  },
  {
   "cell_type": "code",
   "execution_count": 3,
   "id": "c7ad79e6",
   "metadata": {},
   "outputs": [
    {
     "data": {
      "text/latex": [
       "$\\displaystyle - 48 y \\left(2 x^{2} \\sin{\\left(x^{2} \\right)} - \\cos{\\left(x^{2} \\right)}\\right)$"
      ],
      "text/plain": [
       "-48*y*(2*x**2*sin(x**2) - cos(x**2))"
      ]
     },
     "execution_count": 3,
     "metadata": {},
     "output_type": "execute_result"
    }
   ],
   "source": [
    "diff(sin(x**2) * y**4, x, x, y, y, y)"
   ]
  },
  {
   "cell_type": "markdown",
   "id": "9723b6aa",
   "metadata": {},
   "source": [
    "An alternative syntax for computing derivatives is to use **`.diff()`** as a method attached to the end of the variable holding the expression you want to differentiate, including appropriate multiples of the variables you want to compute the partial derivatives with respect to.  To compute the partials in the example above using this approach, do"
   ]
  },
  {
   "cell_type": "code",
   "execution_count": 2,
   "id": "64594380",
   "metadata": {},
   "outputs": [
    {
     "data": {
      "text/latex": [
       "$\\displaystyle - 48 y \\left(2 x^{2} \\sin{\\left(x^{2} \\right)} - \\cos{\\left(x^{2} \\right)}\\right)$"
      ],
      "text/plain": [
       "-48*y*(2*x**2*sin(x**2) - cos(x**2))"
      ]
     },
     "execution_count": 2,
     "metadata": {},
     "output_type": "execute_result"
    }
   ],
   "source": [
    "expr2 = sin(x**2) * y**4     # define the expression to be differentiated\n",
    "expr2.diff(x, x, y, y, y)    # apply .diff()"
   ]
  },
  {
   "cell_type": "markdown",
   "id": "92de965e",
   "metadata": {},
   "source": [
    "It's also possible to create the derivative of a function that's not evaluated immediately, which might be useful in other expressions.  To do that, use the **`Derivative`** function:"
   ]
  },
  {
   "cell_type": "code",
   "execution_count": 4,
   "id": "7ec2f38d",
   "metadata": {},
   "outputs": [
    {
     "data": {
      "text/latex": [
       "$\\displaystyle \\frac{d}{d x} \\sin^{2}{\\left(x \\right)}$"
      ],
      "text/plain": [
       "Derivative(sin(x)**2, x)"
      ]
     },
     "execution_count": 4,
     "metadata": {},
     "output_type": "execute_result"
    }
   ],
   "source": [
    "d2 = Derivative(sin(x)**2)\n",
    "d2"
   ]
  },
  {
   "cell_type": "markdown",
   "id": "4c75e03e",
   "metadata": {},
   "source": [
    "To evaluate the derivative, use the **`.doit()`** method appended to the name of the variable storing the output:"
   ]
  },
  {
   "cell_type": "code",
   "execution_count": 5,
   "id": "5202dd6b",
   "metadata": {},
   "outputs": [
    {
     "data": {
      "text/latex": [
       "$\\displaystyle 2 \\sin{\\left(x \\right)} \\cos{\\left(x \\right)}$"
      ],
      "text/plain": [
       "2*sin(x)*cos(x)"
      ]
     },
     "execution_count": 5,
     "metadata": {},
     "output_type": "execute_result"
    }
   ],
   "source": [
    "d2.doit()"
   ]
  },
  {
   "cell_type": "markdown",
   "id": "22c01c87",
   "metadata": {},
   "source": [
    "It's even possible to construct derivatives of unspecified order by passing the variable and the unspecified number of derivatives to `.diff()` as a tuple; i.e., in parentheses."
   ]
  },
  {
   "cell_type": "code",
   "execution_count": 6,
   "id": "024259d6",
   "metadata": {},
   "outputs": [
    {
     "data": {
      "text/latex": [
       "$\\displaystyle \\frac{d^{n}}{d x^{n}} \\left(5 x^{2} + 7 x - 3\\right)$"
      ],
      "text/plain": [
       "Derivative(5*x**2 + 7*x - 3, (x, n))"
      ]
     },
     "execution_count": 6,
     "metadata": {},
     "output_type": "execute_result"
    }
   ],
   "source": [
    "n = symbols('n')     # symbol representing the order of the derivative\n",
    "\n",
    "expr3 = 5*x**2 + 7*x - 3\n",
    "\n",
    "expr3.diff((x, n))"
   ]
  },
  {
   "cell_type": "markdown",
   "id": "88145702",
   "metadata": {},
   "source": [
    "Note that this appears to work only for functions of a single variable or *simple* ones of multiple variables.  (For example, if you add `y` to `expr2` you'll get a sensible result, but if you multiply `expr2` by `y` you get a complicated sum.)"
   ]
  },
  {
   "cell_type": "markdown",
   "id": "b2bb2de7",
   "metadata": {},
   "source": [
    "Note that all of these derivative operations can deal with symbolic coefficients, e.g."
   ]
  },
  {
   "cell_type": "code",
   "execution_count": 87,
   "id": "be7e4d47",
   "metadata": {},
   "outputs": [
    {
     "data": {
      "text/latex": [
       "$\\displaystyle 2 a x + b$"
      ],
      "text/plain": [
       "2*a*x + b"
      ]
     },
     "execution_count": 87,
     "metadata": {},
     "output_type": "execute_result"
    }
   ],
   "source": [
    "a, b, c = symbols('a b c')\n",
    "\n",
    "expr4 = a*x**2 + b*x + c\n",
    "\n",
    "expr4.diff(x)"
   ]
  },
  {
   "cell_type": "markdown",
   "id": "a40c1879",
   "metadata": {},
   "source": [
    " "
   ]
  },
  {
   "cell_type": "markdown",
   "id": "abcfa321",
   "metadata": {},
   "source": [
    "## <font color='blue'>13.4 Integrals</font>\n",
    "\n",
    "Sympy also can do symbolic integration using the **`integrate`** function.  Here's an indefinite integral:"
   ]
  },
  {
   "cell_type": "code",
   "execution_count": 12,
   "id": "34977253",
   "metadata": {},
   "outputs": [
    {
     "data": {
      "text/latex": [
       "$\\displaystyle - \\cos{\\left(x \\right)}$"
      ],
      "text/plain": [
       "-cos(x)"
      ]
     },
     "execution_count": 12,
     "metadata": {},
     "output_type": "execute_result"
    }
   ],
   "source": [
    "# indefinite integral of sin(x)\n",
    "integrate(sin(x))"
   ]
  },
  {
   "cell_type": "markdown",
   "id": "a93934f8",
   "metadata": {},
   "source": [
    "Sympy can perform definite integrals as well.  Here's the integral of $\\sin^2(x)$ from $-\\infty$ to $\\infty$, where the variable and its integration limits are passed as a tuple.  (Note that infinity, $\\infty$, is entered as a double letter `o`; i.e., `oo`.)"
   ]
  },
  {
   "cell_type": "code",
   "execution_count": 13,
   "id": "7abbf303",
   "metadata": {},
   "outputs": [
    {
     "data": {
      "text/latex": [
       "$\\displaystyle \\frac{\\sqrt{2} \\sqrt{\\pi}}{2}$"
      ],
      "text/plain": [
       "sqrt(2)*sqrt(pi)/2"
      ]
     },
     "execution_count": 13,
     "metadata": {},
     "output_type": "execute_result"
    }
   ],
   "source": [
    "# Integral from -infinity to +infinity\n",
    "integrate(sin(x**2), (x, -oo, oo))"
   ]
  },
  {
   "cell_type": "markdown",
   "id": "0a2b6b0b",
   "metadata": {},
   "source": [
    "If you specify a range that isn't \"simple\" (like above), you might get an answer in terms of special functions:"
   ]
  },
  {
   "cell_type": "code",
   "execution_count": 14,
   "id": "96043768",
   "metadata": {},
   "outputs": [
    {
     "data": {
      "text/latex": [
       "$\\displaystyle \\frac{3 \\sqrt{2} \\sqrt{\\pi} S\\left(\\frac{5 \\sqrt{2}}{\\sqrt{\\pi}}\\right) \\Gamma\\left(\\frac{3}{4}\\right)}{8 \\Gamma\\left(\\frac{7}{4}\\right)}$"
      ],
      "text/plain": [
       "3*sqrt(2)*sqrt(pi)*fresnels(5*sqrt(2)/sqrt(pi))*gamma(3/4)/(8*gamma(7/4))"
      ]
     },
     "execution_count": 14,
     "metadata": {},
     "output_type": "execute_result"
    }
   ],
   "source": [
    "integrate(sin(x**2), (x, 0, 5))"
   ]
  },
  {
   "cell_type": "markdown",
   "id": "26c8a4a1",
   "metadata": {},
   "source": [
    "You can do multiple integrals with respect to different variables.  Here's the integral of $e^{-(x^2 + y^2)}$ with respect to both $x$ and $y$ from $-\\infty$ to $-\\infty$ for both variables:"
   ]
  },
  {
   "cell_type": "code",
   "execution_count": 15,
   "id": "feb3244a",
   "metadata": {},
   "outputs": [
    {
     "data": {
      "text/latex": [
       "$\\displaystyle \\pi$"
      ],
      "text/plain": [
       "pi"
      ]
     },
     "execution_count": 15,
     "metadata": {},
     "output_type": "execute_result"
    }
   ],
   "source": [
    "integrate(exp(-x**2 - y**2), (x, -oo, oo), (y, -oo, oo))"
   ]
  },
  {
   "cell_type": "markdown",
   "id": "86bbe227",
   "metadata": {},
   "source": [
    "Like for derivatives, one can create unevaluated integrals for later use, using the **`Integral`** function:"
   ]
  },
  {
   "cell_type": "code",
   "execution_count": 16,
   "id": "cf099363",
   "metadata": {},
   "outputs": [
    {
     "data": {
      "text/latex": [
       "$\\displaystyle \\int \\sin{\\left(x \\right)}\\, dx$"
      ],
      "text/plain": [
       "Integral(sin(x), x)"
      ]
     },
     "execution_count": 16,
     "metadata": {},
     "output_type": "execute_result"
    }
   ],
   "source": [
    "i1 = Integral(sin(x),x)\n",
    "i1"
   ]
  },
  {
   "cell_type": "markdown",
   "id": "d88cb9b2",
   "metadata": {},
   "source": [
    "Again, the answer can be evaluated using `.doit()`:"
   ]
  },
  {
   "cell_type": "code",
   "execution_count": 17,
   "id": "cf3816f2",
   "metadata": {},
   "outputs": [
    {
     "data": {
      "text/latex": [
       "$\\displaystyle - \\cos{\\left(x \\right)}$"
      ],
      "text/plain": [
       "-cos(x)"
      ]
     },
     "execution_count": 17,
     "metadata": {},
     "output_type": "execute_result"
    }
   ],
   "source": [
    "i1.doit()"
   ]
  },
  {
   "cell_type": "markdown",
   "id": "9ac06e27",
   "metadata": {},
   "source": [
    " "
   ]
  },
  {
   "cell_type": "markdown",
   "id": "7bc9b4ed",
   "metadata": {},
   "source": [
    "## <font color='blue'>13.5 Limits</font>\n",
    "\n",
    "Sympy can find the limit of a function as a variable approaches some value using the **`limit`** function:"
   ]
  },
  {
   "cell_type": "code",
   "execution_count": 18,
   "id": "31cd356b",
   "metadata": {},
   "outputs": [
    {
     "data": {
      "text/latex": [
       "$\\displaystyle -1.0$"
      ],
      "text/plain": [
       "-1.00000000000000"
      ]
     },
     "execution_count": 18,
     "metadata": {},
     "output_type": "execute_result"
    }
   ],
   "source": [
    "from numpy import pi\n",
    "\n",
    "limit(sin(x), x, -pi/2)   # limit of sin(x) as x goes to -pi/2"
   ]
  },
  {
   "cell_type": "code",
   "execution_count": 19,
   "id": "4470e147",
   "metadata": {},
   "outputs": [
    {
     "data": {
      "text/latex": [
       "$\\displaystyle 1$"
      ],
      "text/plain": [
       "1"
      ]
     },
     "execution_count": 19,
     "metadata": {},
     "output_type": "execute_result"
    }
   ],
   "source": [
    "limit(sin(x)/x, x, 0)     # limit of sin(x) / x as x approaches 0"
   ]
  },
  {
   "cell_type": "markdown",
   "id": "6fa9c46f",
   "metadata": {},
   "source": [
    "And there's an unevaluated version, using **`Limit`** (with a *capital* \"L\"):"
   ]
  },
  {
   "cell_type": "code",
   "execution_count": 20,
   "id": "388fcc26",
   "metadata": {},
   "outputs": [
    {
     "data": {
      "text/latex": [
       "$\\displaystyle \\lim_{x \\to 0^+}\\left(\\frac{\\sin{\\left(x \\right)}}{x}\\right)$"
      ],
      "text/plain": [
       "Limit(sin(x)/x, x, 0)"
      ]
     },
     "execution_count": 20,
     "metadata": {},
     "output_type": "execute_result"
    }
   ],
   "source": [
    "l1 = Limit(sin(x)/x, x, 0)\n",
    "l1"
   ]
  },
  {
   "cell_type": "code",
   "execution_count": 21,
   "id": "7af3518c",
   "metadata": {},
   "outputs": [
    {
     "data": {
      "text/latex": [
       "$\\displaystyle 1$"
      ],
      "text/plain": [
       "1"
      ]
     },
     "execution_count": 21,
     "metadata": {},
     "output_type": "execute_result"
    }
   ],
   "source": [
    "l1.doit()"
   ]
  },
  {
   "cell_type": "markdown",
   "id": "3b28b994",
   "metadata": {},
   "source": [
    " "
   ]
  },
  {
   "cell_type": "markdown",
   "id": "81b98881",
   "metadata": {},
   "source": [
    "## <font color='blue'>13.6 Power Series Expansions</font>\n",
    "\n",
    "`sympy` can generate a power series expansion of a function $f(x)$ in the variable $x$, around the point $x = x0$, showing terms up to but not including that of power $n$, using the syntax `f(x).series(x, x0, n)`.  E.g.,"
   ]
  },
  {
   "cell_type": "code",
   "execution_count": 22,
   "id": "32afe7ed",
   "metadata": {},
   "outputs": [
    {
     "data": {
      "text/latex": [
       "$\\displaystyle x - \\frac{x^{2}}{2} + \\frac{x^{3}}{3} - \\frac{x^{4}}{4} + \\frac{x^{5}}{5} + O\\left(x^{6}\\right)$"
      ],
      "text/plain": [
       "x - x**2/2 + x**3/3 - x**4/4 + x**5/5 + O(x**6)"
      ]
     },
     "execution_count": 22,
     "metadata": {},
     "output_type": "execute_result"
    }
   ],
   "source": [
    "f1 = ln(1 + x)\n",
    "\n",
    "f1.series(x, 0, 6)"
   ]
  },
  {
   "cell_type": "markdown",
   "id": "7f9cdc8c",
   "metadata": {},
   "source": [
    "The term $O(x^6)$ indicates that terms of order $x^6$ and above are omitted.\n",
    "\n",
    "Here the same function is expanded around `x = -3`, and the \"order term\" $O()$ is omitted using the **`.removeO()`** method (the last character before the parentheses is the letter \"O\", not the number zero):"
   ]
  },
  {
   "cell_type": "code",
   "execution_count": 23,
   "id": "a4e43fc2",
   "metadata": {},
   "outputs": [
    {
     "data": {
      "text/latex": [
       "$\\displaystyle - \\frac{x}{2} - \\frac{\\left(x + 3\\right)^{4}}{64} - \\frac{\\left(x + 3\\right)^{3}}{24} - \\frac{\\left(x + 3\\right)^{2}}{8} - \\frac{3}{2} + \\log{\\left(2 \\right)} + i \\pi$"
      ],
      "text/plain": [
       "-x/2 - (x + 3)**4/64 - (x + 3)**3/24 - (x + 3)**2/8 - 3/2 + log(2) + I*pi"
      ]
     },
     "execution_count": 23,
     "metadata": {},
     "output_type": "execute_result"
    }
   ],
   "source": [
    "f1.series(x, -3, 5).removeO()"
   ]
  },
  {
   "cell_type": "markdown",
   "id": "59b536a2",
   "metadata": {},
   "source": [
    "Both `x0` and `n` may be omitted; their default values are `x0 = 0`, `n = 6`."
   ]
  },
  {
   "cell_type": "markdown",
   "id": "f623d5b7",
   "metadata": {},
   "source": [
    " "
   ]
  },
  {
   "cell_type": "markdown",
   "id": "921f7773",
   "metadata": {},
   "source": [
    "## <font color='blue'>13.7 Equation Roots</font>\n",
    "\n",
    "Sympy also can find the roots of an equation using the function **`solveset`**.  In this example, we'll solve for the roots of the equation $x^2 - 3x + 2 = 0$.  The equation is specified using the **`Eq`** function, which has the form `Eq(equation, R)`, where `R` is the right-hand side of the equation whose left-hand side is `equation`.  Then, to use `solveset`, the syntax is `solveset(Eq(equation, R), variable)`, where `variable` is the variable that `equation` is a function of.  "
   ]
  },
  {
   "cell_type": "code",
   "execution_count": 24,
   "id": "99bf5059",
   "metadata": {},
   "outputs": [
    {
     "data": {
      "text/latex": [
       "$\\displaystyle \\left\\{1, 2\\right\\}$"
      ],
      "text/plain": [
       "{1, 2}"
      ]
     },
     "execution_count": 24,
     "metadata": {},
     "output_type": "execute_result"
    }
   ],
   "source": [
    "solveset(Eq(x**2 - 3*x + 2, 0), x)"
   ]
  },
  {
   "cell_type": "markdown",
   "id": "faf637f0",
   "metadata": {},
   "source": [
    "Equations in `sympy` are *generally* represented by the `Eq` function.  For example, the equation $x = y$ is created simply by"
   ]
  },
  {
   "cell_type": "code",
   "execution_count": 60,
   "id": "e3dacb0b",
   "metadata": {},
   "outputs": [
    {
     "data": {
      "text/latex": [
       "$\\displaystyle x = y$"
      ],
      "text/plain": [
       "Eq(x, y)"
      ]
     },
     "execution_count": 60,
     "metadata": {},
     "output_type": "execute_result"
    }
   ],
   "source": [
    "Eq(x, y)"
   ]
  },
  {
   "cell_type": "markdown",
   "id": "f2e22b4b",
   "metadata": {},
   "source": [
    "If an equation has no solutions, e.g. when finding the roots of $e^x = 0$, then `sympy` returns the empty set:"
   ]
  },
  {
   "cell_type": "code",
   "execution_count": 25,
   "id": "9e8adb45",
   "metadata": {},
   "outputs": [
    {
     "data": {
      "text/latex": [
       "$\\displaystyle \\emptyset$"
      ],
      "text/plain": [
       "EmptySet"
      ]
     },
     "execution_count": 25,
     "metadata": {},
     "output_type": "execute_result"
    }
   ],
   "source": [
    "solveset(exp(x), x)"
   ]
  },
  {
   "cell_type": "markdown",
   "id": "20cf019d",
   "metadata": {},
   "source": [
    "On the other hand, if `sympy` simply cannot find an analytic solution, the output has the form below"
   ]
  },
  {
   "cell_type": "code",
   "execution_count": 61,
   "id": "3f5e7122",
   "metadata": {},
   "outputs": [
    {
     "data": {
      "text/latex": [
       "$\\displaystyle \\left\\{x\\; \\middle|\\; x \\in \\mathbb{C} \\wedge - x + \\cos{\\left(x \\right)} = 0 \\right\\}$"
      ],
      "text/plain": [
       "ConditionSet(x, Eq(-x + cos(x), 0), Complexes)"
      ]
     },
     "execution_count": 61,
     "metadata": {},
     "output_type": "execute_result"
    }
   ],
   "source": [
    "solveset(cos(x) - x, x)"
   ]
  },
  {
   "cell_type": "markdown",
   "id": "54a484fe",
   "metadata": {},
   "source": [
    " "
   ]
  },
  {
   "cell_type": "markdown",
   "id": "db1460fb",
   "metadata": {},
   "source": [
    "## <font color='blue'>13.8 Simultaneous Equations</font>\n",
    "\n",
    "The function **`linsolve`** can be used to solve simultaneous *linear* equations of multiple variables.  In this example, the values of `x, y` that solve the equations $x + y - 1 = 0$ and $x + 2y - 3 = 0$ are found:  "
   ]
  },
  {
   "cell_type": "code",
   "execution_count": 26,
   "id": "05224160",
   "metadata": {},
   "outputs": [
    {
     "data": {
      "text/latex": [
       "$\\displaystyle \\left\\{\\left( -1, \\  2\\right)\\right\\}$"
      ],
      "text/plain": [
       "{(-1, 2)}"
      ]
     },
     "execution_count": 26,
     "metadata": {},
     "output_type": "execute_result"
    }
   ],
   "source": [
    "linsolve([x + y - 1, x + 2*y - 3 ], (x, y))"
   ]
  },
  {
   "cell_type": "markdown",
   "id": "d09a59c3",
   "metadata": {},
   "source": [
    "Note that the two equations are enclosed in square brackets, and that they're understood to equal $0$; e.g., only `x + y - 1` -- the left-hand side of the first equation -- is given to `linsolve`.  **Note**: This assumption that the right-hand side of an equation is zero is *generally* true in `sympy`."
   ]
  },
  {
   "cell_type": "markdown",
   "id": "964e675a",
   "metadata": {},
   "source": [
    "Here's an example involving `linsolve` and two equations with three variables.  Since there are fewer equations than unknowns, the solution will give two of the variables in terms of one of the others. "
   ]
  },
  {
   "cell_type": "code",
   "execution_count": 27,
   "id": "50eb3d9f",
   "metadata": {},
   "outputs": [
    {
     "data": {
      "text/latex": [
       "$\\displaystyle \\left\\{\\left( \\frac{11}{2} - \\frac{5 z}{2}, \\  \\frac{z}{2} - \\frac{3}{2}, \\  z\\right)\\right\\}$"
      ],
      "text/plain": [
       "{(11/2 - 5*z/2, z/2 - 3/2, z)}"
      ]
     },
     "execution_count": 27,
     "metadata": {},
     "output_type": "execute_result"
    }
   ],
   "source": [
    "z = symbols('z')\n",
    "\n",
    "linsolve([x + 3*y + z - 1, x + y + 2*z - 4 ], (x, y, z))"
   ]
  },
  {
   "cell_type": "markdown",
   "id": "a4404949",
   "metadata": {},
   "source": [
    "The solution gives $x$ and $y$ in terms of $z$: $x = \\frac{11}{2} - \\frac{5z}{2}$, $y = \\frac{z}{2} - \\frac{3}{2}$."
   ]
  },
  {
   "cell_type": "markdown",
   "id": "e958fd6f",
   "metadata": {},
   "source": [
    "To solve a system of *nonlinear* equations, use **`nonlinsolve`**, with the variables whose values are desired specified after the equations.  Here, the equations $xy = 1$ (or $xy - 1 = 0$) and $x = 2$ (or $x - 2 = 0$)  are solved for both $x$ and $y$:"
   ]
  },
  {
   "cell_type": "code",
   "execution_count": 62,
   "id": "0aa51959",
   "metadata": {},
   "outputs": [
    {
     "data": {
      "text/latex": [
       "$\\displaystyle \\left\\{\\left( 2, \\  \\frac{1}{2}\\right)\\right\\}$"
      ],
      "text/plain": [
       "{(2, 1/2)}"
      ]
     },
     "execution_count": 62,
     "metadata": {},
     "output_type": "execute_result"
    }
   ],
   "source": [
    "nonlinsolve([x*y - 1, x - 2], x, y)"
   ]
  },
  {
   "cell_type": "markdown",
   "id": "4bfc8d19",
   "metadata": {},
   "source": [
    "Solutions that are complex involve $i$ $(= \\sqrt{-1})$:"
   ]
  },
  {
   "cell_type": "code",
   "execution_count": 68,
   "id": "96d80d5a",
   "metadata": {},
   "outputs": [
    {
     "data": {
      "text/latex": [
       "$\\displaystyle \\left\\{\\left( -1, \\  - i\\right), \\left( -1, \\  i\\right), \\left( 1, \\  - i\\right), \\left( 1, \\  i\\right)\\right\\}$"
      ],
      "text/plain": [
       "{(-1, -I), (-1, I), (1, -I), (1, I)}"
      ]
     },
     "execution_count": 68,
     "metadata": {},
     "output_type": "execute_result"
    }
   ],
   "source": [
    "nonlinsolve([x**2 - 1, y**2 + 1], x, y)"
   ]
  },
  {
   "cell_type": "markdown",
   "id": "6b2cdcae",
   "metadata": {},
   "source": [
    "Here, the points $(x = -1, y = -i)$, $(x = -1, y = i)$, etc. all solve the two equations."
   ]
  },
  {
   "cell_type": "markdown",
   "id": "a0c68ed5",
   "metadata": {},
   "source": [
    "Note that there are types of equations that `solveset` cannot solve.  For details, see the `sympy` documentation at the link near the top of this page."
   ]
  },
  {
   "cell_type": "markdown",
   "id": "486c9494",
   "metadata": {},
   "source": [
    "\n",
    "\n"
   ]
  },
  {
   "cell_type": "markdown",
   "id": "0fa4d535",
   "metadata": {},
   "source": [
    "## <font color='blue'>13.9 Differential Equations</font>\n",
    "\n",
    "\n",
    "### <font color='blue'>13.9.1 Ordinary Differential Equations</font>\n",
    "\n",
    "***Ordinary*** differential equations are solved with `sympy` using the function **`dsolve`**.  In order to use it, a function must first be created, just like is done for symbols.  Here's how to create an undefined function `f` (note that the first letter in `Function` is capitalized):"
   ]
  },
  {
   "cell_type": "code",
   "execution_count": 6,
   "id": "0d91b334",
   "metadata": {},
   "outputs": [],
   "source": [
    "f = Function('f')     # create a function"
   ]
  },
  {
   "cell_type": "markdown",
   "id": "39c82462",
   "metadata": {},
   "source": [
    "Next, use the `Eq` function to define the differential equation of interest in terms of the appropriate variable.  For example, for the equation $x \\frac{df}{dx} + 3x + f = 0$, use"
   ]
  },
  {
   "cell_type": "code",
   "execution_count": 7,
   "id": "4e1356c6",
   "metadata": {},
   "outputs": [],
   "source": [
    "diffeq1 = Eq(x * f(x).diff(x) + 3 * x + f(x), 0)     "
   ]
  },
  {
   "cell_type": "markdown",
   "id": "68dbeef7",
   "metadata": {},
   "source": [
    "Note how `f(x)` is written as a function of `x` here.  \n",
    "\n",
    "Now we just call `dsolve` with the equation we've constructed, and the function we're solving for:"
   ]
  },
  {
   "cell_type": "code",
   "execution_count": 8,
   "id": "b5310a86",
   "metadata": {},
   "outputs": [
    {
     "data": {
      "text/latex": [
       "$\\displaystyle f{\\left(x \\right)} = \\frac{C_{1}}{x} - \\frac{3 x}{2}$"
      ],
      "text/plain": [
       "Eq(f(x), C1/x - 3*x/2)"
      ]
     },
     "execution_count": 8,
     "metadata": {},
     "output_type": "execute_result"
    }
   ],
   "source": [
    "dsolve(diffeq1, f(x))           "
   ]
  },
  {
   "cell_type": "markdown",
   "id": "250285da",
   "metadata": {},
   "source": [
    "This first-order equation has been solved in terms of one integration constant, $C_1$.\n",
    "\n",
    "Here's another example, using the second-order differential equation $\\frac{d^2 f}{dx^2} - 2 \\frac{df}{dx} + f(x) = e^x$:"
   ]
  },
  {
   "cell_type": "code",
   "execution_count": 79,
   "id": "43945f64",
   "metadata": {},
   "outputs": [
    {
     "data": {
      "text/latex": [
       "$\\displaystyle f{\\left(x \\right)} = \\left(C_{1} + x \\left(C_{2} + \\frac{x}{2}\\right)\\right) e^{x}$"
      ],
      "text/plain": [
       "Eq(f(x), (C1 + x*(C2 + x/2))*exp(x))"
      ]
     },
     "execution_count": 79,
     "metadata": {},
     "output_type": "execute_result"
    }
   ],
   "source": [
    "diffeq2 = Eq(f(x).diff(x, x) - 2* f(x).diff(x) + f(x), exp(x))\n",
    "\n",
    "dsolve(diffeq2, f(x))"
   ]
  },
  {
   "cell_type": "markdown",
   "id": "3eee5f5e-9872-4fc4-bece-dd1b492c3754",
   "metadata": {},
   "source": [
    "The solution to this second-order differential equation involves two integration constants -- $C_1$ and $C_2$ -- as we'd expect."
   ]
  },
  {
   "cell_type": "markdown",
   "id": "512001d7",
   "metadata": {},
   "source": [
    "### <font color='blue'>13.9.2 Partial Differential Equations</font>\n",
    "\n",
    "***Partial*** differential equations are solved with the function **`pdsolve`**.  Here, we'll try to find a solution to the equation\n",
    "$1 + 2\\frac{\\partial{g}}{\\partial{x}}\\frac{1}{g} + 3\\frac{\\partial{g}}{\\partial{y}}\\frac{1}{g} = 0.$"
   ]
  },
  {
   "cell_type": "code",
   "execution_count": 9,
   "id": "574a4e41",
   "metadata": {},
   "outputs": [],
   "source": [
    "g = Function('g')\n",
    "\n",
    "diffeq2 = Eq(1 + 2*g(x,y).diff(x)/g(x,y) + 3*g(x,y).diff(y)/g(x,y), 0)"
   ]
  },
  {
   "cell_type": "code",
   "execution_count": 10,
   "id": "a3e61fa4",
   "metadata": {},
   "outputs": [
    {
     "data": {
      "text/latex": [
       "$\\displaystyle g{\\left(x,y \\right)} = F{\\left(3 x - 2 y \\right)} e^{- \\frac{2 x}{13} - \\frac{3 y}{13}}$"
      ],
      "text/plain": [
       "Eq(g(x, y), F(3*x - 2*y)*exp(-2*x/13 - 3*y/13))"
      ]
     },
     "execution_count": 10,
     "metadata": {},
     "output_type": "execute_result"
    }
   ],
   "source": [
    "gsol = pdsolve(diffeq2, g(x,y))\n",
    "gsol"
   ]
  },
  {
   "cell_type": "markdown",
   "id": "ab612c28",
   "metadata": {},
   "source": [
    "Note that the solution involves a general function $F(3x - 2y)$, since any differentiable function of the quantity $(3x - 2y)$ multiplying the exponential function will solve the differential equation."
   ]
  },
  {
   "cell_type": "markdown",
   "id": "fe9f4d39",
   "metadata": {},
   "source": [
    "There's even a function, `checkpdesol`, to check if a possible solution does solve a partial differential equation.  Checking the solution we just found..."
   ]
  },
  {
   "cell_type": "code",
   "execution_count": 11,
   "id": "85dadfe8",
   "metadata": {},
   "outputs": [
    {
     "data": {
      "text/plain": [
       "(True, 0)"
      ]
     },
     "execution_count": 11,
     "metadata": {},
     "output_type": "execute_result"
    }
   ],
   "source": [
    "checkpdesol(diffeq2, gsol)"
   ]
  },
  {
   "cell_type": "markdown",
   "id": "2e6430d3",
   "metadata": {},
   "source": [
    "We see from the `True` output that the solution `gsol` is a good one for our equation.  Let's also create a different function to check if it's a solution:"
   ]
  },
  {
   "cell_type": "code",
   "execution_count": 13,
   "id": "f3560607",
   "metadata": {},
   "outputs": [
    {
     "data": {
      "text/latex": [
       "$\\displaystyle 2.71828182845905^{- \\frac{x}{6} - \\frac{3 y}{13}}$"
      ],
      "text/plain": [
       "2.71828182845905**(-x/6 - 3*y/13)"
      ]
     },
     "execution_count": 13,
     "metadata": {},
     "output_type": "execute_result"
    }
   ],
   "source": [
    "from numpy import e\n",
    "\n",
    "psol = Function('psol')          \n",
    "    \n",
    "psol = e**(-2*x/12 - 3*y/13)     # define new function (gsol without F(3x - 2y) and with slightly different exponent)\n",
    "psol"
   ]
  },
  {
   "cell_type": "markdown",
   "id": "230d1a49",
   "metadata": {},
   "source": [
    "Now check if it's a solution:"
   ]
  },
  {
   "cell_type": "code",
   "execution_count": 14,
   "id": "0af6b502",
   "metadata": {},
   "outputs": [
    {
     "data": {
      "text/plain": [
       "(False, -0.0256410256410255)"
      ]
     },
     "execution_count": 14,
     "metadata": {},
     "output_type": "execute_result"
    }
   ],
   "source": [
    "checkpdesol(diffeq2, psol)"
   ]
  },
  {
   "cell_type": "markdown",
   "id": "1662cf48",
   "metadata": {},
   "source": [
    "`False` indicates it's not a valid solution."
   ]
  },
  {
   "cell_type": "markdown",
   "id": "ac1f692f",
   "metadata": {},
   "source": [
    " "
   ]
  },
  {
   "cell_type": "markdown",
   "id": "3c9c9df6",
   "metadata": {},
   "source": [
    "## <font color='blue'>13.10 Matrix Operations</font>\n",
    "\n",
    "`sympy` has a **`Matrix`** object that can be used in matrix operations.  To create a matrix, provide a list of lists, like this:"
   ]
  },
  {
   "cell_type": "code",
   "execution_count": 57,
   "id": "07ed0079",
   "metadata": {},
   "outputs": [
    {
     "data": {
      "text/latex": [
       "$\\displaystyle \\left[\\begin{matrix}1 & -1\\\\3 & 4\\\\0 & 2\\end{matrix}\\right]$"
      ],
      "text/plain": [
       "Matrix([\n",
       "[1, -1],\n",
       "[3,  4],\n",
       "[0,  2]])"
      ]
     },
     "execution_count": 57,
     "metadata": {},
     "output_type": "execute_result"
    }
   ],
   "source": [
    "M = Matrix([[1, -1], [3, 4], [0, 2]])    # each list is a row\n",
    "M"
   ]
  },
  {
   "cell_type": "markdown",
   "id": "967b7761",
   "metadata": {},
   "source": [
    "A single list provided to `Matrix` is interpreted as a column vector:"
   ]
  },
  {
   "cell_type": "code",
   "execution_count": 6,
   "id": "4fc56ace",
   "metadata": {},
   "outputs": [
    {
     "data": {
      "text/latex": [
       "$\\displaystyle \\left[\\begin{matrix}1\\\\2\\\\3\\end{matrix}\\right]$"
      ],
      "text/plain": [
       "Matrix([\n",
       "[1],\n",
       "[2],\n",
       "[3]])"
      ]
     },
     "execution_count": 6,
     "metadata": {},
     "output_type": "execute_result"
    }
   ],
   "source": [
    "N = Matrix([1, 2, 3])\n",
    "N"
   ]
  },
  {
   "cell_type": "markdown",
   "id": "164d52fa",
   "metadata": {},
   "source": [
    "And **`.T`** appended to a matrix's symbol gives the transpose:"
   ]
  },
  {
   "cell_type": "code",
   "execution_count": 58,
   "id": "3b7bb80f",
   "metadata": {},
   "outputs": [
    {
     "data": {
      "text/latex": [
       "$\\displaystyle \\left[\\begin{matrix}1 & 2 & 3\\end{matrix}\\right]$"
      ],
      "text/plain": [
       "Matrix([[1, 2, 3]])"
      ]
     },
     "execution_count": 58,
     "metadata": {},
     "output_type": "execute_result"
    }
   ],
   "source": [
    "N.T    # transpose of the column vector above"
   ]
  },
  {
   "cell_type": "markdown",
   "id": "deaa048b",
   "metadata": {},
   "source": [
    "Matrix multiplication is performed simply using the `*` operator:"
   ]
  },
  {
   "cell_type": "code",
   "execution_count": 11,
   "id": "090c619f",
   "metadata": {},
   "outputs": [
    {
     "data": {
      "text/latex": [
       "$\\displaystyle \\left[\\begin{matrix}7 & 13\\end{matrix}\\right]$"
      ],
      "text/plain": [
       "Matrix([[7, 13]])"
      ]
     },
     "execution_count": 11,
     "metadata": {},
     "output_type": "execute_result"
    }
   ],
   "source": [
    "N.T * M    # 3x1 row vector times 3x2 matrix"
   ]
  },
  {
   "cell_type": "markdown",
   "id": "3060dd2f",
   "metadata": {},
   "source": [
    "There are functions to define matrices of all zeros or all ones, and to create diagonal matrices:"
   ]
  },
  {
   "cell_type": "code",
   "execution_count": 53,
   "id": "ee258f29",
   "metadata": {},
   "outputs": [
    {
     "data": {
      "text/latex": [
       "$\\displaystyle \\left[\\begin{matrix}0 & 0 & 0\\\\0 & 0 & 0\\end{matrix}\\right]$"
      ],
      "text/plain": [
       "Matrix([\n",
       "[0, 0, 0],\n",
       "[0, 0, 0]])"
      ]
     },
     "execution_count": 53,
     "metadata": {},
     "output_type": "execute_result"
    }
   ],
   "source": [
    "zeros(2, 3)    # arguments specify numbers of rows and columns"
   ]
  },
  {
   "cell_type": "code",
   "execution_count": 54,
   "id": "ee608107",
   "metadata": {},
   "outputs": [
    {
     "data": {
      "text/latex": [
       "$\\displaystyle \\left[\\begin{matrix}1 & 1\\\\1 & 1\\end{matrix}\\right]$"
      ],
      "text/plain": [
       "Matrix([\n",
       "[1, 1],\n",
       "[1, 1]])"
      ]
     },
     "execution_count": 54,
     "metadata": {},
     "output_type": "execute_result"
    }
   ],
   "source": [
    "ones(2, 2)"
   ]
  },
  {
   "cell_type": "code",
   "execution_count": 56,
   "id": "43f6402a",
   "metadata": {},
   "outputs": [
    {
     "data": {
      "text/latex": [
       "$\\displaystyle \\left[\\begin{matrix}1 & 0 & 0\\\\0 & 5 & 0\\\\0 & 0 & 7\\end{matrix}\\right]$"
      ],
      "text/plain": [
       "Matrix([\n",
       "[1, 0, 0],\n",
       "[0, 5, 0],\n",
       "[0, 0, 7]])"
      ]
     },
     "execution_count": 56,
     "metadata": {},
     "output_type": "execute_result"
    }
   ],
   "source": [
    "diag(1, 5, 7)    # arguments are put along the diagonal"
   ]
  },
  {
   "cell_type": "markdown",
   "id": "8b711aa1",
   "metadata": {},
   "source": [
    "The shape (dimensions) of a matrix can be found using the **`shape`** function:"
   ]
  },
  {
   "cell_type": "code",
   "execution_count": 12,
   "id": "0dc0f169",
   "metadata": {},
   "outputs": [
    {
     "data": {
      "text/plain": [
       "(3, 2)"
      ]
     },
     "execution_count": 12,
     "metadata": {},
     "output_type": "execute_result"
    }
   ],
   "source": [
    "shape(M)    # gives (number of rows, number of columns)"
   ]
  },
  {
   "cell_type": "markdown",
   "id": "cc4748f9",
   "metadata": {},
   "source": [
    "Rows or columns can be extracted using **`.row()`** or **`.col()`**; e.g., "
   ]
  },
  {
   "cell_type": "code",
   "execution_count": 59,
   "id": "3f5019dd",
   "metadata": {},
   "outputs": [
    {
     "data": {
      "text/latex": [
       "$\\displaystyle \\left[\\begin{matrix}3 & 4\\end{matrix}\\right]$"
      ],
      "text/plain": [
       "Matrix([[3, 4]])"
      ]
     },
     "execution_count": 59,
     "metadata": {},
     "output_type": "execute_result"
    }
   ],
   "source": [
    "M.row(1)   # 2nd row (with index 1)"
   ]
  },
  {
   "cell_type": "code",
   "execution_count": 60,
   "id": "3d942513",
   "metadata": {},
   "outputs": [
    {
     "data": {
      "text/latex": [
       "$\\displaystyle \\left[\\begin{matrix}1\\\\3\\\\0\\end{matrix}\\right]$"
      ],
      "text/plain": [
       "Matrix([\n",
       "[1],\n",
       "[3],\n",
       "[0]])"
      ]
     },
     "execution_count": 60,
     "metadata": {},
     "output_type": "execute_result"
    }
   ],
   "source": [
    "M.col(0)   # 1st column (index 0)"
   ]
  },
  {
   "cell_type": "markdown",
   "id": "524951a8",
   "metadata": {},
   "source": [
    "Rows and columns can be deleted using **`.row_del()`** and **`.col_del()`**, respectively:"
   ]
  },
  {
   "cell_type": "code",
   "execution_count": 7,
   "id": "3325ebbf",
   "metadata": {},
   "outputs": [
    {
     "data": {
      "text/latex": [
       "$\\displaystyle \\left[\\begin{matrix}1 & 2 & 3\\\\-2 & 0 & 4\\\\-1 & 3 & 2\\end{matrix}\\right]$"
      ],
      "text/plain": [
       "Matrix([\n",
       "[ 1, 2, 3],\n",
       "[-2, 0, 4],\n",
       "[-1, 3, 2]])"
      ]
     },
     "execution_count": 7,
     "metadata": {},
     "output_type": "execute_result"
    }
   ],
   "source": [
    "P = Matrix([[1, 2, 3], [-2, 0, 4], [-1, 3, 2]])   # make new matrix\n",
    "P"
   ]
  },
  {
   "cell_type": "code",
   "execution_count": 8,
   "id": "c9ce0ff7",
   "metadata": {},
   "outputs": [
    {
     "data": {
      "text/latex": [
       "$\\displaystyle \\left[\\begin{matrix}1 & 2 & 3\\\\-2 & 0 & 4\\end{matrix}\\right]$"
      ],
      "text/plain": [
       "Matrix([\n",
       "[ 1, 2, 3],\n",
       "[-2, 0, 4]])"
      ]
     },
     "execution_count": 8,
     "metadata": {},
     "output_type": "execute_result"
    }
   ],
   "source": [
    "P.row_del(2)   # remove 3rd row from P above\n",
    "P"
   ]
  },
  {
   "cell_type": "code",
   "execution_count": 9,
   "id": "44ff4380",
   "metadata": {},
   "outputs": [
    {
     "data": {
      "text/latex": [
       "$\\displaystyle \\left[\\begin{matrix}2 & 3\\\\0 & 4\\end{matrix}\\right]$"
      ],
      "text/plain": [
       "Matrix([\n",
       "[2, 3],\n",
       "[0, 4]])"
      ]
     },
     "execution_count": 9,
     "metadata": {},
     "output_type": "execute_result"
    }
   ],
   "source": [
    "P.col_del(0)   # remove 1st column from P directly above\n",
    "P"
   ]
  },
  {
   "cell_type": "markdown",
   "id": "a8e16853",
   "metadata": {},
   "source": [
    "The inverse of a matrix can be found by raising it to the power $-1$:"
   ]
  },
  {
   "cell_type": "code",
   "execution_count": 31,
   "id": "dc1d3fe3",
   "metadata": {},
   "outputs": [
    {
     "data": {
      "text/latex": [
       "$\\displaystyle \\left[\\begin{matrix}\\frac{1}{2} & - \\frac{3}{8}\\\\0 & \\frac{1}{4}\\end{matrix}\\right]$"
      ],
      "text/plain": [
       "Matrix([\n",
       "[1/2, -3/8],\n",
       "[  0,  1/4]])"
      ]
     },
     "execution_count": 31,
     "metadata": {},
     "output_type": "execute_result"
    }
   ],
   "source": [
    "P ** -1"
   ]
  },
  {
   "cell_type": "markdown",
   "id": "7bb40db3",
   "metadata": {},
   "source": [
    "Addition and multiplication of matrices, as well as raising them to powers, works as you'd expect:"
   ]
  },
  {
   "cell_type": "code",
   "execution_count": 10,
   "id": "1b4a48bd",
   "metadata": {},
   "outputs": [
    {
     "data": {
      "text/latex": [
       "$\\displaystyle \\left[\\begin{matrix}1 & 1\\\\2 & 2\\end{matrix}\\right]$"
      ],
      "text/plain": [
       "Matrix([\n",
       "[1, 1],\n",
       "[2, 2]])"
      ]
     },
     "execution_count": 10,
     "metadata": {},
     "output_type": "execute_result"
    }
   ],
   "source": [
    "Q = Matrix([[1, 1], [2, 2]])   # make new 2x2 matrix\n",
    "Q"
   ]
  },
  {
   "cell_type": "code",
   "execution_count": 11,
   "id": "bc934c76",
   "metadata": {},
   "outputs": [
    {
     "data": {
      "text/latex": [
       "$\\displaystyle \\left[\\begin{matrix}3 & 4\\\\2 & 6\\end{matrix}\\right]$"
      ],
      "text/plain": [
       "Matrix([\n",
       "[3, 4],\n",
       "[2, 6]])"
      ]
     },
     "execution_count": 11,
     "metadata": {},
     "output_type": "execute_result"
    }
   ],
   "source": [
    "P + Q"
   ]
  },
  {
   "cell_type": "code",
   "execution_count": 12,
   "id": "83ada963",
   "metadata": {},
   "outputs": [
    {
     "data": {
      "text/latex": [
       "$\\displaystyle \\left[\\begin{matrix}3 & 3\\\\6 & 6\\end{matrix}\\right]$"
      ],
      "text/plain": [
       "Matrix([\n",
       "[3, 3],\n",
       "[6, 6]])"
      ]
     },
     "execution_count": 12,
     "metadata": {},
     "output_type": "execute_result"
    }
   ],
   "source": [
    "3 * Q"
   ]
  },
  {
   "cell_type": "code",
   "execution_count": 14,
   "id": "a145533f",
   "metadata": {},
   "outputs": [
    {
     "data": {
      "text/latex": [
       "$\\displaystyle \\left[\\begin{matrix}3 & 3\\\\6 & 6\\end{matrix}\\right]$"
      ],
      "text/plain": [
       "Matrix([\n",
       "[3, 3],\n",
       "[6, 6]])"
      ]
     },
     "execution_count": 14,
     "metadata": {},
     "output_type": "execute_result"
    }
   ],
   "source": [
    "Q ** 2    # gives Q * Q matrix product"
   ]
  },
  {
   "cell_type": "markdown",
   "id": "86dcf9cd",
   "metadata": {},
   "source": [
    "The determinant of a matrix can be found with the **`.det()`** method:"
   ]
  },
  {
   "cell_type": "code",
   "execution_count": 44,
   "id": "fa7ea7ae",
   "metadata": {},
   "outputs": [
    {
     "data": {
      "text/latex": [
       "$\\displaystyle 8$"
      ],
      "text/plain": [
       "8"
      ]
     },
     "execution_count": 44,
     "metadata": {},
     "output_type": "execute_result"
    }
   ],
   "source": [
    "P.det()"
   ]
  },
  {
   "cell_type": "markdown",
   "id": "2191a4fa",
   "metadata": {},
   "source": [
    "The eigenvalues can be found using **`.eigenvals()`**:"
   ]
  },
  {
   "cell_type": "code",
   "execution_count": 45,
   "id": "a1e12714",
   "metadata": {},
   "outputs": [
    {
     "data": {
      "text/plain": [
       "{4: 1, 2: 1}"
      ]
     },
     "execution_count": 45,
     "metadata": {},
     "output_type": "execute_result"
    }
   ],
   "source": [
    "P.eigenvals()"
   ]
  },
  {
   "cell_type": "markdown",
   "id": "797d3ec8",
   "metadata": {},
   "source": [
    "This output is in the form `eigenvalue: multiplicity`; i.e., in this example the eigenvalues are `4` and `2`, both with multiplicity `1`."
   ]
  },
  {
   "cell_type": "markdown",
   "id": "c77db010",
   "metadata": {},
   "source": [
    "Even more informative, the **`.eigenvects()`** method (which can be computationally intensive for large matrices) gives the eigenvalues, their multiplicities, and the corresponding eigenvectors:"
   ]
  },
  {
   "cell_type": "code",
   "execution_count": 46,
   "id": "6c9ef591",
   "metadata": {},
   "outputs": [
    {
     "data": {
      "text/plain": [
       "[(2,\n",
       "  1,\n",
       "  [Matrix([\n",
       "   [1],\n",
       "   [0]])]),\n",
       " (4,\n",
       "  1,\n",
       "  [Matrix([\n",
       "   [3/2],\n",
       "   [  1]])])]"
      ]
     },
     "execution_count": 46,
     "metadata": {},
     "output_type": "execute_result"
    }
   ],
   "source": [
    "P.eigenvects()"
   ]
  },
  {
   "cell_type": "markdown",
   "id": "2c471416",
   "metadata": {},
   "source": [
    "This hard-to-read output is in the form `eigenvalue, multiplicity, eigenvector`, so in this example the eigenvalue `2` has multiplicity `1` and eigenvector $\\begin{bmatrix} 1 \\\\ 0 \\end{bmatrix}$, while eigenvalue `4` has multiplicity `1` and eigenvector $\\begin{bmatrix} 3/2 \\\\ 1 \\end{bmatrix}$."
   ]
  },
  {
   "cell_type": "markdown",
   "id": "68a35064",
   "metadata": {},
   "source": [
    "A matrix can be diagonalized using the method **`.diagonalize()`**, which outputs two matrices:"
   ]
  },
  {
   "cell_type": "code",
   "execution_count": 51,
   "id": "e8e9a4c5",
   "metadata": {},
   "outputs": [
    {
     "data": {
      "text/latex": [
       "$\\displaystyle \\left[\\begin{matrix}2 & 0\\\\0 & 4\\end{matrix}\\right]$"
      ],
      "text/plain": [
       "Matrix([\n",
       "[2, 0],\n",
       "[0, 4]])"
      ]
     },
     "execution_count": 51,
     "metadata": {},
     "output_type": "execute_result"
    }
   ],
   "source": [
    "A, D = P.diagonalize()\n",
    "D"
   ]
  },
  {
   "cell_type": "code",
   "execution_count": 50,
   "id": "2dd353a5",
   "metadata": {},
   "outputs": [
    {
     "data": {
      "text/latex": [
       "$\\displaystyle \\left[\\begin{matrix}1 & 3\\\\0 & 2\\end{matrix}\\right]$"
      ],
      "text/plain": [
       "Matrix([\n",
       "[1, 3],\n",
       "[0, 2]])"
      ]
     },
     "execution_count": 50,
     "metadata": {},
     "output_type": "execute_result"
    }
   ],
   "source": [
    "A"
   ]
  },
  {
   "cell_type": "markdown",
   "id": "173da4a4",
   "metadata": {},
   "source": [
    "Here, `D` is the diagonalized form of `P`, and `A` is the matrix that performs the diagonalization; i.e., $D = A^{-1} P A$."
   ]
  },
  {
   "cell_type": "markdown",
   "id": "b767d16c",
   "metadata": {},
   "source": [
    "As a check:"
   ]
  },
  {
   "cell_type": "code",
   "execution_count": 52,
   "id": "72dc9da4",
   "metadata": {},
   "outputs": [
    {
     "data": {
      "text/latex": [
       "$\\displaystyle \\left[\\begin{matrix}2 & 0\\\\0 & 4\\end{matrix}\\right]$"
      ],
      "text/plain": [
       "Matrix([\n",
       "[2, 0],\n",
       "[0, 4]])"
      ]
     },
     "execution_count": 52,
     "metadata": {},
     "output_type": "execute_result"
    }
   ],
   "source": [
    "A**(-1) * P * A"
   ]
  },
  {
   "cell_type": "markdown",
   "id": "fdaf3312",
   "metadata": {},
   "source": [
    "All the operations shown above also can be performed on matrices whose elements are symbols or combinations of numbers and symbols.  For example, "
   ]
  },
  {
   "cell_type": "code",
   "execution_count": 21,
   "id": "e683e2dd",
   "metadata": {},
   "outputs": [],
   "source": [
    "a, b, c, d = symbols('a b c d')"
   ]
  },
  {
   "cell_type": "code",
   "execution_count": 22,
   "id": "d55f557f",
   "metadata": {},
   "outputs": [
    {
     "data": {
      "text/latex": [
       "$\\displaystyle \\left[\\begin{matrix}a & 0\\\\0 & b\\end{matrix}\\right]$"
      ],
      "text/plain": [
       "Matrix([\n",
       "[a, 0],\n",
       "[0, b]])"
      ]
     },
     "execution_count": 22,
     "metadata": {},
     "output_type": "execute_result"
    }
   ],
   "source": [
    "R = Matrix([[a, 0], [0, b]])\n",
    "R"
   ]
  },
  {
   "cell_type": "code",
   "execution_count": 23,
   "id": "fd1dbf4e",
   "metadata": {},
   "outputs": [
    {
     "data": {
      "text/latex": [
       "$\\displaystyle \\left[\\begin{matrix}c & 0\\\\0 & d\\end{matrix}\\right]$"
      ],
      "text/plain": [
       "Matrix([\n",
       "[c, 0],\n",
       "[0, d]])"
      ]
     },
     "execution_count": 23,
     "metadata": {},
     "output_type": "execute_result"
    }
   ],
   "source": [
    "S = Matrix([[c, 0], [0, d]])\n",
    "S"
   ]
  },
  {
   "cell_type": "code",
   "execution_count": 24,
   "id": "535653b3",
   "metadata": {},
   "outputs": [
    {
     "data": {
      "text/latex": [
       "$\\displaystyle \\left[\\begin{matrix}a c & 0\\\\0 & b d\\end{matrix}\\right]$"
      ],
      "text/plain": [
       "Matrix([\n",
       "[a*c,   0],\n",
       "[  0, b*d]])"
      ]
     },
     "execution_count": 24,
     "metadata": {},
     "output_type": "execute_result"
    }
   ],
   "source": [
    "R * S"
   ]
  },
  {
   "cell_type": "markdown",
   "id": "755e4fd0",
   "metadata": {},
   "source": [
    "And"
   ]
  },
  {
   "cell_type": "code",
   "execution_count": 30,
   "id": "32bdd441",
   "metadata": {},
   "outputs": [
    {
     "data": {
      "text/plain": [
       "[(a,\n",
       "  1,\n",
       "  [Matrix([\n",
       "   [1],\n",
       "   [0]])]),\n",
       " (b,\n",
       "  1,\n",
       "  [Matrix([\n",
       "   [0],\n",
       "   [1]])])]"
      ]
     },
     "execution_count": 30,
     "metadata": {},
     "output_type": "execute_result"
    }
   ],
   "source": [
    "R.eigenvects()"
   ]
  },
  {
   "cell_type": "code",
   "execution_count": 31,
   "id": "e445a959",
   "metadata": {},
   "outputs": [
    {
     "data": {
      "text/latex": [
       "$\\displaystyle \\left[\\begin{matrix}a & 2\\\\1 & d\\end{matrix}\\right]$"
      ],
      "text/plain": [
       "Matrix([\n",
       "[a, 2],\n",
       "[1, d]])"
      ]
     },
     "execution_count": 31,
     "metadata": {},
     "output_type": "execute_result"
    }
   ],
   "source": [
    "T = Matrix([[a, 2], [1, d]])\n",
    "T"
   ]
  },
  {
   "cell_type": "code",
   "execution_count": 34,
   "id": "2ce4fcd1",
   "metadata": {},
   "outputs": [
    {
     "data": {
      "text/plain": [
       "[(a/2 + d/2 - sqrt(a**2 - 2*a*d + d**2 + 8)/2,\n",
       "  1,\n",
       "  [Matrix([\n",
       "   [a/2 - d/2 - sqrt(a**2 - 2*a*d + d**2 + 8)/2],\n",
       "   [                                          1]])]),\n",
       " (a/2 + d/2 + sqrt(a**2 - 2*a*d + d**2 + 8)/2,\n",
       "  1,\n",
       "  [Matrix([\n",
       "   [a/2 - d/2 + sqrt(a**2 - 2*a*d + d**2 + 8)/2],\n",
       "   [                                          1]])])]"
      ]
     },
     "execution_count": 34,
     "metadata": {},
     "output_type": "execute_result"
    }
   ],
   "source": [
    "T.eigenvects()"
   ]
  },
  {
   "cell_type": "markdown",
   "id": "4d78e1c6",
   "metadata": {},
   "source": [
    " "
   ]
  },
  {
   "cell_type": "markdown",
   "id": "6ef44785",
   "metadata": {},
   "source": [
    "`sympy` has a few other mathematical capabilities, but the ones presented above are the ones you're most likely to make use of.  \n",
    "\n",
    "It also has a Physics \"module\" (a subpackage) that provides some information on both quantum mechanical and classical mechanics systems.  For example, it will give the energies of hydrogen atom and (both 1-D and 3-D) harmonic oscillator eigenstates, and will determine classical equations of motion from a given Lagrangian.  \n",
    "\n",
    "See the documentation at https://docs.sympy.org/latest/reference/index.html for more information."
   ]
  },
  {
   "cell_type": "markdown",
   "id": "84144ce3",
   "metadata": {},
   "source": [
    "  "
   ]
  },
  {
   "cell_type": "markdown",
   "id": "374ac8be",
   "metadata": {},
   "source": [
    "### <font color=\"blue\">Recap</font>  \n",
    "- `sympy` works with *symbols* like `x` and `y`.  It can evaluate a symbolic expression given values for any variables in that expression.  \n",
    "</br>\n",
    "\n",
    "- `sympy` also can perform instant or delayed differentiation and integration of symbolic expressions.  \n",
    "</br>  \n",
    "\n",
    "- `sympy` can find limits of expressions and roots of equations, and solve simultaneous equations.  \n",
    "</br>  \n",
    "\n",
    "- `sympy` can determine solutions to some ordinary and partial differential equations.  \n",
    "</br>\n",
    "\n",
    "- `sympy` can perform standard matrix computations with matrices containing numerical and symbolic elements."
   ]
  },
  {
   "cell_type": "markdown",
   "id": "8f4eb0aa",
   "metadata": {},
   "source": [
    " "
   ]
  },
  {
   "cell_type": "markdown",
   "id": "c9204453",
   "metadata": {},
   "source": [
    "### <font color=\"blue\">Reflection Prompts</font>\n",
    "\n",
    "These questions are intended to help you think about what you learned from this module and how it might be useful to you in the future. You are strongly encouraged to answer them before moving on to the next module.  \n",
    "\n",
    "- Which components of this module did you find you were easily able to work through, and why do you think they were especially easy for you?\n",
    "\n",
    "- Which components of this module did you find more difficult to work through, and why do you think they were challenging?\n",
    "\n",
    "- When you got stuck, what did you do to get unstuck? Could this or similar actions be helpful if you get stuck in future work?\n",
    "\n",
    "- What do you understand more deeply about this material?\n",
    "\n",
    "- What questions or uncertainties remain for you regarding this material?"
   ]
  },
  {
   "cell_type": "markdown",
   "id": "c341bf8a",
   "metadata": {},
   "source": [
    "  "
   ]
  },
  {
   "cell_type": "markdown",
   "id": "da6edd4b",
   "metadata": {},
   "source": [
    "### <font color=\"blue\">Exercises</font>\n",
    "\n",
    "**<u>Exercise #1</u>**\n",
    "\n",
    "**(a)** Compute the first and second $x$- and $y$- derivatives of $x^2(x^2 - 4) + 4y(x^2 - 2) + 4(y^2 - 1)$ *by hand*, and then confirm them using `sympy`.  \n",
    "  \n",
    "**(b)** Compute the first two *nonzero* terms of the Taylor series expansion (about $x = 0$) of $\\sin^2(x)$ by hand, and then check your result using `sympy` to get the series expansion.\n",
    "\n",
    "**(c)** Find the general solution to the partial differential equation $y^2\\frac{\\partial{g}}{\\partial{x}} + x^2\\frac{\\partial{g}}{\\partial{y}} = x^2y^2(x^3 + y^3)$ using `sympy`.  Confirm by hand that the solution is valid.\n",
    "\n",
    "**(d)** Find the eigenvalues and eigenvectors of the matrix below using `sympy`, identify the eigenvalues, and write out the corresponding eigenvectors as column vectors by hand, in as simple a form as possible.\n",
    "\n",
    "$$A = \\begin{bmatrix}\n",
    "1 & a & 0 \\\\\n",
    "b & 1 & 0 \\\\\n",
    "0 & 0 & 1\n",
    "\\end{bmatrix}\n",
    "$$"
   ]
  }
 ],
 "metadata": {
  "kernelspec": {
   "display_name": "Python 3 (ipykernel)",
   "language": "python",
   "name": "python3"
  },
  "language_info": {
   "codemirror_mode": {
    "name": "ipython",
    "version": 3
   },
   "file_extension": ".py",
   "mimetype": "text/x-python",
   "name": "python",
   "nbconvert_exporter": "python",
   "pygments_lexer": "ipython3",
   "version": "3.9.16"
  }
 },
 "nbformat": 4,
 "nbformat_minor": 5
}
