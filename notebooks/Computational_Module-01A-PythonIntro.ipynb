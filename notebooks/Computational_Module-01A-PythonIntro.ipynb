{
 "cells": [
  {
   "cell_type": "markdown",
   "metadata": {},
   "source": [
    "# <font face=\"times\"><font size=\"6pt\"><p style = 'text-align: center;'> BRYN MAWR COLLEGE\n",
    "\n",
    "<font face=\"times\"><font size=\"6pt\"><p style = 'text-align: center;'><b>Computational Methods in the Physical Sciences</b><br/>\n",
    "\n",
    "<p style = 'text-align: center;'><font face=\"times\"><b>Module 1:  A Brief Introduction to Python and Programming</b><br/>\n",
    "\n",
    "<p style = 'text-align: center;'><b>Part 1 -- Basics</b><br/>\n",
    "\n",
    "<p style = 'text-align: center;'><font size=\"3pt\"> Adapted from <em>A Crash Course in Python for Scientists</em>, version 0.6</br> \n",
    "<a href=\"http://www.cs.sandia.gov/~rmuller/\">Rick Muller</a>, Sandia National Laboratories </p>"
   ]
  },
  {
   "cell_type": "markdown",
   "metadata": {},
   "source": [
    " ***Prerequisite modules***: Module 0 \n",
    "\n",
    " ***Estimated completion time***: 1-2 hours\n",
    "\n",
    " ***Learning objectives***: Become familiar with, and gain practice in using, basic Python constructs\n",
    "<br><br>\n",
    "   "
   ]
  },
  {
   "cell_type": "markdown",
   "metadata": {},
   "source": [
    "<center> <img src=\"http://imgs.xkcd.com/comics/python.png\" alt=\"centered image\" width=\"350\" height=\"350\"/> </center>\n",
    "\n",
    "<p style = 'text-align: center;'>Image credit: http://xkcd.com/353/<br/><br/>"
   ]
  },
  {
   "cell_type": "markdown",
   "metadata": {},
   "source": [
    "\n",
    "# Outline\n",
    "\n",
    "## Part 1\n",
    "*  [I. Python Overview](#I.-Python-Overview) \n",
    "   * [Debugging](#Debugging)\n",
    "   * [Python as a Calculator](#Using-Python-as-a-Calculator)\n",
    "   * [Strings and Printing](#Strings-and-Printing)\n",
    "   * [User Input](#User-Input)\n",
    "   * [Lists](#Lists)\n",
    "   * [Iteration](#Loops-and-Iteration)\n",
    "   * [Slicing](#Slicing)\n",
    "   * [Booleans](#Booleans-and-Truth-Testing)\n",
    "\n",
    "\n",
    "## Part 2\n",
    "\n",
    "* [II. Functions](Computational_Module-01B-PythonIntro.ipynb#II.-Functions)  \n",
    "   * [Function Packages](Computational_Module-01B-PythonIntro.ipynb#Function-Packages)\n",
    "   * [User-Defined Functions](Computational_Module-01B-PythonIntro.ipynb#User-Defined-Functions)\n",
    "   * [Function of a Function](Computational_Module-01B-PythonIntro.ipynb#Function-of-a-Function)\n",
    "   \n",
    "\n",
    "* [III. Numpy and Scipy](Computational_Module-01B-PythonIntro.ipynb#III.-Numpy-and-Scipy)\n",
    "   * [Making vectors and matrices, 1-D and 2-D arrays](Computational_Module-01B-PythonIntro.ipynb#Making-vectors-and-matrices,-1-D-and-2-D-arrays)\n",
    "   * [Slicing Arrays](Computational_Module-01B-PythonIntro.ipynb#Slicing-Arrays)\n",
    "   * [linspace and arange](Computational_Module-01B-PythonIntro.ipynb#linspace-and-arange)\n",
    "   * [Array Operations](Computational_Module-01B-PythonIntro.ipynb#Array-Operations)\n",
    "   * [Optional Arguments](Computational_Module-01B-PythonIntro.ipynb#Optional-Arguments)\n",
    "   \n",
    "\n",
    "* [IV. Plotting with Matplotlib](Computational_Module-01B-PythonIntro.ipynb#IV.-Plotting-with-Matplotlib) \n",
    "\n",
    "\n",
    "## Part 3 - Algorithm Design\n",
    "\n",
    "* [V. List Manipulation](Computational_Module-01C-PythonIntro.ipynb#V.-List-Manipulation)\n",
    "   * [Searching a List](Computational_Module-01C-PythonIntro.ipynb#Searching-a-List) \n",
    "   * [Sorting a List](Computational_Module-01C-PythonIntro.ipynb#Sorting-a-List)\n",
    "   \n",
    "   \n",
    "* [VI. Recursion](Computational_Module-01C-PythonIntro.ipynb#VI.-Recursion) \n",
    "\n",
    "   \n",
    "* [VII. References](Computational_Module-01C-PythonIntro.ipynb#VII.-References) \n"
   ]
  },
  {
   "cell_type": "markdown",
   "metadata": {},
   "source": [
    "- - -"
   ]
  },
  {
   "cell_type": "markdown",
   "metadata": {},
   "source": [
    "## <font color=\"blue\">I. Python Overview</font>\n",
    "\n",
    "This is a quick introduction to Python. There are lots of other places to learn the language more thoroughly, including the resources listed in an appendix of Module 0. An additional list of useful links appears at the end of this notebook. For more depth, [Python Tutorial](http://docs.python.org/2/tutorial/) is a great place to start, as is Zed Shaw's [Learn Python the Hard Way](http://learnpythonthehardway.org/book/).\n",
    "\n",
    "The lessons that follow make use of the IPython notebooks. There's a good introduction to notebooks [in the IPython notebook documentation](http://ipython.org/notebook.html) that has a [nice video](http://www.youtube.com/watch?v=H6dLGQw9yFQ#!) on how to use the notebooks. You should probably also flip through the [IPython tutorial](http://ipython.org/ipython-doc/dev/interactive/tutorial.html) in your copious free time.  IPython notebooks have a very similar form to Mathematica notebooks."
   ]
  },
  {
   "cell_type": "markdown",
   "metadata": {},
   "source": [
    "> **NOTE:** Most of the subsections throughout this Module are followed by an Exercise that you should try.  <font color=\"red\">These Exercises are meant to provide practice in using the tools introduced in the preceding section(s).  Therefore, you should answer them using only methods and tools introduced in the previous sections, rather than other (possibly more sophisticated) Python functions or features.</font>\n"
   ]
  },
  {
   "cell_type": "markdown",
   "metadata": {},
   "source": [
    "### <font color=\"blue\">Notebooks</font>"
   ]
  },
  {
   "cell_type": "markdown",
   "metadata": {},
   "source": [
    "Briefly, notebooks are collections of ***cells*** of two types: ***code cells*** (that generally are followed by result cells) and ***text*** or ***markdown cells***. You're reading a markdown cell right now.  \n",
    "\n",
    "*Code* cells start with `In [ ]:` with some number possibly in the brackets. **If you put your cursor anywhere in a code cell and hit Shift-Enter, the code will run in the Python interpreter and the result will display in an output cell below the code cell.** You then can change things around and see whether you understand what's going on with the code.  Note that after you hit Shift-Enter, the next cell down will become the active one, so you can execute sequential cells simply by hitting Shift-Enter repeatedly.  (The cursor does *not* have to be at the end of a cell when you hit Shift-Enter.)  \n",
    "\n",
    "**Note**: the currently active cell will be highlighted by a surrounding box with a colored line along its left side.  \n",
    "\n",
    "> <font color=\"red\">**As you work through this and future notebooks, make sure to hit Shift-Enter before every example code cell, or else select \"Cell\" $\\rightarrow$ \"Run All\" from the top menu, so that everything is up-to-date.**</font>\n",
    "\n",
    "Try typing a simple formula like `9 - 12` in the code cell below and then hit Shift-Enter."
   ]
  },
  {
   "cell_type": "code",
   "execution_count": 1,
   "metadata": {},
   "outputs": [
    {
     "data": {
      "text/plain": [
       "2"
      ]
     },
     "execution_count": 1,
     "metadata": {},
     "output_type": "execute_result"
    }
   ],
   "source": [
    "5-3"
   ]
  },
  {
   "cell_type": "markdown",
   "metadata": {},
   "source": [
    "Hitting Shift-Enter in a markdown cell -- one containing text, an image, or other media; basically anything other than code -- simply renders that content with whatever special formatting has been specified.  \n",
    "\n",
    "Create a new cell below using the \"**+**\" button above, near the left end of the row of buttons.  A new *code* cell is created by default.  To change it into a markdown cell, select that option using the dropdown menu near the right end of the row of buttons.  Then just type in some text and numbers and hit Shift-Enter."
   ]
  },
  {
   "cell_type": "markdown",
   "metadata": {},
   "source": [
    "**Note**: If you need to know more about notebooks, see the [IPython notebook documentation](http://ipython.org/notebook.html) or the [IPython tutorial](http://ipython.org/ipython-doc/dev/interactive/tutorial.html).\n",
    "\n",
    "**Note**: If you define a new variable, or load a library like `numpy`, or declare the plotting library `matplotlib` to run inline using `%matplotlib inline`, then once you execute the code cell in which those commands appear, they should be available to the entire notebook.  So, it's sufficient to do those things just once in a notebook.  (One exception is the declaration of `matplotlib` as inline: if you do this somewhere other than the beginning of the notebook, it's possible that IPython will not know about it everywhere in the notebook.  Therefore, if you anticipate doing any plotting in a notebook it's a good idea to set up `matplotlib` in the first code cell, or not far below the first.)  The same comment applies to user-defined functions: once defined in a code cell that's been executed, user-defined functions are available elsewhere in the notebook."
   ]
  },
  {
   "cell_type": "markdown",
   "metadata": {},
   "source": [
    "In working with Python, it's useful to remember that you can get information on its built-in functions using\n",
    "\n",
    "```python\n",
    "help([function name]),\n",
    "```\n",
    "e.g."
   ]
  },
  {
   "cell_type": "code",
   "execution_count": 1,
   "metadata": {},
   "outputs": [
    {
     "name": "stdout",
     "output_type": "stream",
     "text": [
      "Help on built-in function print in module builtins:\n",
      "\n",
      "print(*args, sep=' ', end='\\n', file=None, flush=False)\n",
      "    Prints the values to a stream, or to sys.stdout by default.\n",
      "\n",
      "    sep\n",
      "      string inserted between values, default a space.\n",
      "    end\n",
      "      string appended after the last value, default a newline.\n",
      "    file\n",
      "      a file-like object (stream); defaults to the current sys.stdout.\n",
      "    flush\n",
      "      whether to forcibly flush the stream.\n",
      "\n"
     ]
    }
   ],
   "source": [
    "help(print)"
   ]
  },
  {
   "cell_type": "markdown",
   "metadata": {},
   "source": [
    "The same `help` function will display information on functions you create if you document those functions appropriately, as described later. "
   ]
  },
  {
   "cell_type": "markdown",
   "metadata": {},
   "source": [
    "<a href='#Outline'>Back to the Top</a>"
   ]
  },
  {
   "cell_type": "markdown",
   "metadata": {},
   "source": [
    "### <font color=\"blue\">**Debugging**</font>"
   ]
  },
  {
   "cell_type": "markdown",
   "metadata": {},
   "source": [
    "Most IDEs, including Anaconda, as well as the IPython implementation in Jupyterhub, provide a debugger that will display the sequence of function calls associated with an error.  Remember that when you run code, you usually \"call\" standard Python functions or functions from various libraries; those, in turn, often call other functions, leading to a long chain of function calls associated with the running of your code.  When an error is reported to you, the sequence of function calls shown in Jupyterhub appears in order -- your code containing the source of the error will appear at the *bottom* of the sequence; above that will be any immediate function that called your code, and above that will be the earlier functions called in the chain of function calls.  So, to figure out what the original source of error is in your code, scroll to the *bottom* of the error message first."
   ]
  },
  {
   "cell_type": "markdown",
   "metadata": {},
   "source": [
    "As an example, consider the code below which defines a function `plot_sqrt` to plot the sqrt of `x` over the range 0 to 9.  "
   ]
  },
  {
   "cell_type": "code",
   "execution_count": 2,
   "metadata": {},
   "outputs": [
    {
     "ename": "AttributeError",
     "evalue": "'numpy.ndarray' object has no attribute 'plot'",
     "output_type": "error",
     "traceback": [
      "\u001b[0;31m---------------------------------------------------------------------------\u001b[0m",
      "\u001b[0;31mAttributeError\u001b[0m                            Traceback (most recent call last)",
      "Cell \u001b[0;32mIn[2], line 10\u001b[0m\n\u001b[1;32m      7\u001b[0m     ax\u001b[38;5;241m.\u001b[39mplot(x, sqrt(x))          \u001b[38;5;66;03m# create a plot of the square root of x vs. x\u001b[39;00m\n\u001b[1;32m      8\u001b[0m     plt\u001b[38;5;241m.\u001b[39mshow()                   \u001b[38;5;66;03m# display the plot\u001b[39;00m\n\u001b[0;32m---> 10\u001b[0m \u001b[43mplot_sqrt\u001b[49m\u001b[43m(\u001b[49m\u001b[43m)\u001b[49m  \u001b[38;5;66;03m# Call the function, generate plot\u001b[39;00m\n",
      "Cell \u001b[0;32mIn[2], line 7\u001b[0m, in \u001b[0;36mplot_sqrt\u001b[0;34m()\u001b[0m\n\u001b[1;32m      5\u001b[0m fig, ax \u001b[38;5;241m=\u001b[39m subplots(\u001b[38;5;241m2\u001b[39m, \u001b[38;5;241m1\u001b[39m)     \u001b[38;5;66;03m# create frames for two subplots\u001b[39;00m\n\u001b[1;32m      6\u001b[0m x \u001b[38;5;241m=\u001b[39m \u001b[38;5;28mrange\u001b[39m(\u001b[38;5;241m10\u001b[39m)                \u001b[38;5;66;03m# set range of x\u001b[39;00m\n\u001b[0;32m----> 7\u001b[0m \u001b[43max\u001b[49m\u001b[38;5;241;43m.\u001b[39;49m\u001b[43mplot\u001b[49m(x, sqrt(x))          \u001b[38;5;66;03m# create a plot of the square root of x vs. x\u001b[39;00m\n\u001b[1;32m      8\u001b[0m plt\u001b[38;5;241m.\u001b[39mshow()\n",
      "\u001b[0;31mAttributeError\u001b[0m: 'numpy.ndarray' object has no attribute 'plot'"
     ]
    },
    {
     "data": {
      "image/png": "[encoded data removed]",
      "text/plain": [
       "<Figure size 640x480 with 2 Axes>"
      ]
     },
     "metadata": {},
     "output_type": "display_data"
    }
   ],
   "source": [
    "from numpy import sqrt\n",
    "from matplotlib.pyplot import subplots\n",
    "\n",
    "def plot_sqrt():\n",
    "    fig, ax = subplots(2, 1)     # create frames for two subplots\n",
    "    x = range(10)                # set range of x\n",
    "    ax.plot(x, sqrt(x))          # create a plot of the square root of x vs. x\n",
    "    plt.show()                   # display the plot\n",
    "\n",
    "plot_sqrt()  # Call the function, generate plot"
   ]
  },
  {
   "cell_type": "markdown",
   "metadata": {},
   "source": [
    "If we look at the bottom of the output, we see the error: `'numpy.ndarray' object has no attribute 'plot'`.   The meaning of this message is not critical here, but note that it's arising in the line shown by the longer (lower) arrow, where our function calls the matplotlib library function `ax.plot(x, sqrt(x))`.  Above that section of the error message is another section containing a shorter arrow pointing to the line `plot_sqrt()` at the bottom of the cell, which is the line at the bottom of the cell where we called our function, which called `ax.plot(x, sqrt(x))`.  So, to recap, the error message shows us that the error itself was in the line `ax.plot(x, sqrt(x))`, but that line was called by the function `plot_sqrt()` that we created, so that sequence of function calls (first to `plot_sqrt`, then to `ax.plot`) is what the debugger gives us.  Generally, we care only about the last section of the message -- the location of the original error.\n",
    "\n",
    "As this example might suggest, Python error messages aren't always clear, but as you see more of them you'll get used to figuring out what the problem with your code actually is, or at least *where* it is."
   ]
  },
  {
   "cell_type": "markdown",
   "metadata": {},
   "source": [
    "<a href='#Outline'>Back to the Top</a>"
   ]
  },
  {
   "cell_type": "markdown",
   "metadata": {},
   "source": [
    "   "
   ]
  },
  {
   "cell_type": "markdown",
   "metadata": {},
   "source": [
    "### <font color=\"blue\">Using Python as a Calculator</font>  "
   ]
  },
  {
   "cell_type": "markdown",
   "metadata": {},
   "source": [
    "\n",
    "To start off our tour of what Python can do, let's see how it can be used as a calculator:"
   ]
  },
  {
   "cell_type": "code",
   "execution_count": null,
   "metadata": {},
   "outputs": [],
   "source": [
    "3 + 8"
   ]
  },
  {
   "cell_type": "code",
   "execution_count": null,
   "metadata": {},
   "outputs": [],
   "source": [
    "(2.6 ** -2.65) / 7.9"
   ]
  },
  {
   "cell_type": "markdown",
   "metadata": {},
   "source": [
    "\n",
    "The `**` symbol raises a number to a power.  Note that it's good practice to use spaces to separate the different terms in a mathematical expression, including the operators (the power and division symbols).  The parentheses in the second expression are not necessary, but they do improve readability.  Learning to create *readable* code should be one of your main goals in this course!"
   ]
  },
  {
   "cell_type": "markdown",
   "metadata": {},
   "source": [
    "### <font color=\"blue\">**Defining Variables**</font>"
   ]
  },
  {
   "cell_type": "markdown",
   "metadata": {},
   "source": [
    "\n",
    "Computers generally recognize several data types, two of which appear above: ***integers*** (often referred to just as ***ints***) which have their usual meaning (..., `-2, -1, 0, 1, 2,`...) ; and ***floating-point numbers*** (aka, \"***floats***\") also known (incorrectly) as *decimal numbers* to the rest of the world.  Floats must contain a decimal point; e.g., `3.1415, 0., -1.44`.  \n",
    "\n",
    "In a computer, different types of numbers generally require different amounts of memory for storage, and offer different levels of precision.  (E.g., there are both 32-bit and 64-bit floating-point numbers.)  Other Python data types, which you will see later, include \"strings\" and \"lists.\"  \n",
    "\n",
    "**Note**: generally speaking, unless you know that a certain parameter/constant/variable will be an integer (e.g., a counter), you should define it as a floating point number with a decimal point."
   ]
  },
  {
   "cell_type": "markdown",
   "metadata": {},
   "source": [
    "Since it's not always obvious what type of quantity a given variable is, Python has a `type` function that will tell you this:"
   ]
  },
  {
   "cell_type": "code",
   "execution_count": 3,
   "metadata": {},
   "outputs": [
    {
     "data": {
      "text/plain": [
       "int"
      ]
     },
     "execution_count": 3,
     "metadata": {},
     "output_type": "execute_result"
    }
   ],
   "source": [
    "x = 1\n",
    "type(x)"
   ]
  },
  {
   "cell_type": "markdown",
   "metadata": {},
   "source": [
    "`1` is an `int` since it has no decimal point."
   ]
  },
  {
   "cell_type": "code",
   "execution_count": 4,
   "metadata": {},
   "outputs": [
    {
     "data": {
      "text/plain": [
       "float"
      ]
     },
     "execution_count": 4,
     "metadata": {},
     "output_type": "execute_result"
    }
   ],
   "source": [
    "x = 1.\n",
    "type(x)"
   ]
  },
  {
   "cell_type": "markdown",
   "metadata": {},
   "source": [
    "`1.` is a `float` since it does have a decimal point."
   ]
  },
  {
   "cell_type": "markdown",
   "metadata": {},
   "source": [
    "Notice how the second value of `x` overwrote the first value, changing `x` from an `int` to a `float`.  Because of this overwriting behavior, it's a good idea to give every variable in a notebook a different name, unless you don't care if an earlier value of a particular variable gets overwritten by a later definition of that variable."
   ]
  },
  {
   "cell_type": "markdown",
   "metadata": {},
   "source": [
    "### <font color=\"blue\">**Basic Math Operators**</font>"
   ]
  },
  {
   "cell_type": "markdown",
   "metadata": {},
   "source": [
    "Adding, subtracting, multiplying, and dividing numbers in Python is done the ways you would expect (the `print` functions are used to print each of the results, but in a single calculation they are not required):"
   ]
  },
  {
   "cell_type": "code",
   "execution_count": null,
   "metadata": {},
   "outputs": [],
   "source": [
    "print(3 + 8)\n",
    "print(3 - 8)\n",
    "print(3 * 8)\n",
    "print(3 / 8)"
   ]
  },
  {
   "cell_type": "markdown",
   "metadata": {},
   "source": [
    "\n",
    "Python ***integer division*** (division of one integer by another) operates differently depending on the Python version being used.  Version 2 (meaning any version of the form 2.X) truncates the remainder and returns an integer.  For example, it would produce the output shown below.  (Note that `%%python` is needed just to run the code that follows it in Python 2 rather than the Python 3 of this notebook, and that the `print` function normally would not be needed either -- typing `7 / 3` in a notebook running Python 2 would result in the result being printed out automatically.  The `print` function is discussed later in this notebook.)"
   ]
  },
  {
   "cell_type": "code",
   "execution_count": null,
   "metadata": {},
   "outputs": [],
   "source": [
    "%%python2\n",
    "print(7 / 3)"
   ]
  },
  {
   "cell_type": "markdown",
   "metadata": {},
   "source": [
    "\n",
    "To get the proper output, you can convert one of the integers to a floating-point number, in which case the division function returns another floating-point number.  There are two ways to do the conversion: \n",
    "\n",
    "(i) by writing at least one of the numbers with a decimal point:"
   ]
  },
  {
   "cell_type": "code",
   "execution_count": null,
   "metadata": {},
   "outputs": [],
   "source": [
    "%%python2\n",
    "print 7 / 3."
   ]
  },
  {
   "cell_type": "markdown",
   "metadata": {},
   "source": [
    "\n",
    "or (ii) by ***type-casting*** (changing the type of) at least one of the numbers:"
   ]
  },
  {
   "cell_type": "code",
   "execution_count": null,
   "metadata": {},
   "outputs": [],
   "source": [
    "%%python2\n",
    "print(float(7) / 3)"
   ]
  },
  {
   "cell_type": "markdown",
   "metadata": {},
   "source": [
    "\n",
    "Here, the function **`float()`** converts its argument to a floating-point number (if it can... it wouldn't make sense to convert an alphabetic character to a float!)\n",
    "\n",
    "Python 3 (any version of the form 3.X) would give the floating-point result for the division without having to explicitly make either number into an integer."
   ]
  },
  {
   "cell_type": "code",
   "execution_count": null,
   "metadata": {},
   "outputs": [],
   "source": [
    "7/3"
   ]
  },
  {
   "cell_type": "markdown",
   "metadata": {},
   "source": [
    "You can define variables using the equals (**`=`**) sign:"
   ]
  },
  {
   "cell_type": "code",
   "execution_count": null,
   "metadata": {},
   "outputs": [],
   "source": [
    "width = 10\n",
    "length = 30\n",
    "area = length * width\n",
    "area"
   ]
  },
  {
   "cell_type": "markdown",
   "metadata": {},
   "source": [
    "Python (and other programming languages) interpret expressions like this from right to left: the value of the stuff on the right side of the `=` sign is given the variable name on the left side.  So `width` and `length` get the values `10` and `30`, respectively, while `area` gets the value of `length * width`, or `30 * 10`. "
   ]
  },
  {
   "cell_type": "markdown",
   "metadata": {},
   "source": [
    "\n",
    "Note that typing the name of the variable by itself, as in the last line, causes Python to print the value.\n",
    "\n",
    "If you try to access a variable that you haven't yet defined, you get an error:"
   ]
  },
  {
   "cell_type": "code",
   "execution_count": null,
   "metadata": {},
   "outputs": [],
   "source": [
    "volume"
   ]
  },
  {
   "cell_type": "markdown",
   "metadata": {},
   "source": [
    "\n",
    "and you need to define it:"
   ]
  },
  {
   "cell_type": "code",
   "execution_count": null,
   "metadata": {},
   "outputs": [],
   "source": [
    "depth = 10\n",
    "volume = area * depth\n",
    "volume"
   ]
  },
  {
   "cell_type": "markdown",
   "metadata": {},
   "source": [
    "In a quirk of programming languages, an expression like the following (which is nonsensical from a mathematical perspective) makes sense:"
   ]
  },
  {
   "cell_type": "code",
   "execution_count": null,
   "metadata": {},
   "outputs": [],
   "source": [
    "width = width + 1\n",
    "width"
   ]
  },
  {
   "cell_type": "markdown",
   "metadata": {},
   "source": [
    "Python takes the current value of the variable `width` on the right, adds `1` to it, and assigns the resulting value to the variable on the left, which just happens to be the same as the one on the right.  So, the original value of `width`, `10`, is replaced by the new one, `11`."
   ]
  },
  {
   "cell_type": "markdown",
   "metadata": {},
   "source": [
    "Note: To make it easier to understand large numbers with many digits, underscore characters (`_`) can be used in place of the commas normally used (in the U.S.) to group digits; e.g., the Sun-Earth distance of 93,000,000 miles can be written as"
   ]
  },
  {
   "cell_type": "code",
   "execution_count": null,
   "metadata": {},
   "outputs": [],
   "source": [
    "dist = 93_000_000"
   ]
  },
  {
   "cell_type": "markdown",
   "metadata": {},
   "source": [
    "> **Note**:  The Python style guide, https://peps.python.org/pep-0008/, recommends leaving one space on each side of operators."
   ]
  },
  {
   "cell_type": "markdown",
   "metadata": {},
   "source": [
    "#### <font color=\"blue\">Naming Variables</font>  \n",
    "\n",
    "You can name a variable *almost* anything you want.  It needs to start with an alphabetical character or an underscore, \"\\_\", and can contain alpha*numeric* characters and underscores.  Certain ***keywords***, however, are reserved for the Python language and you should *not* use them for your own variable names.  The keywords are\n",
    "\n",
    "    and, as, assert, break, class, continue, def, del, elif, else, except, \n",
    "    exec, finally, for, from, global, if, import, in, is, lambda, not, or,\n",
    "    pass, print, raise, return, try, while, with, yield\n",
    "\n",
    "Trying to define a variable using one of these will result in a syntax error:"
   ]
  },
  {
   "cell_type": "code",
   "execution_count": null,
   "metadata": {},
   "outputs": [],
   "source": [
    "return = 0"
   ]
  },
  {
   "cell_type": "markdown",
   "metadata": {},
   "source": [
    "  "
   ]
  },
  {
   "cell_type": "markdown",
   "metadata": {},
   "source": [
    "**Exercise \\#1**\n",
    "\n",
    "Write code to convert a person's age in years into seconds and display the result.  Apply it to your own age.  (Assume 365 days/year.) "
   ]
  },
  {
   "cell_type": "code",
   "execution_count": null,
   "metadata": {},
   "outputs": [],
   "source": []
  },
  {
   "cell_type": "markdown",
   "metadata": {},
   "source": [
    "<a href='#Outline'>Back to the Top</a>"
   ]
  },
  {
   "cell_type": "markdown",
   "metadata": {},
   "source": [
    "  "
   ]
  },
  {
   "cell_type": "markdown",
   "metadata": {},
   "source": [
    "### <font color=\"blue\">Strings and Printing</font>"
   ]
  },
  {
   "cell_type": "markdown",
   "metadata": {},
   "source": [
    "\n",
    "***Strings*** are lists of printable characters, and can be defined using either single quotes"
   ]
  },
  {
   "cell_type": "code",
   "execution_count": null,
   "metadata": {},
   "outputs": [],
   "source": [
    "'Hello, World!'"
   ]
  },
  {
   "cell_type": "markdown",
   "metadata": {},
   "source": [
    "\n",
    "or double quotes"
   ]
  },
  {
   "cell_type": "code",
   "execution_count": null,
   "metadata": {},
   "outputs": [],
   "source": [
    "\"Hello, World!\""
   ]
  },
  {
   "cell_type": "markdown",
   "metadata": {},
   "source": [
    "\n",
    "But don't use both at the same time, unless you want one of the symbols to be part of the string:"
   ]
  },
  {
   "cell_type": "code",
   "execution_count": null,
   "metadata": {},
   "outputs": [],
   "source": [
    "\"He's a Rebel'"
   ]
  },
  {
   "cell_type": "markdown",
   "metadata": {},
   "source": [
    "That gives an error since the first double-quote is not matched by a second, closing double-quote.  \n",
    "\n",
    "This will work, though:"
   ]
  },
  {
   "cell_type": "code",
   "execution_count": null,
   "metadata": {},
   "outputs": [],
   "source": [
    "'She asked, \"How are you today?\"'"
   ]
  },
  {
   "cell_type": "markdown",
   "metadata": {},
   "source": [
    "Here, each single or double quote is paired with a second one.\n",
    "\n",
    "Just like the other two data objects we're familiar with (ints and floats), you can assign a string to a variable"
   ]
  },
  {
   "cell_type": "code",
   "execution_count": null,
   "metadata": {},
   "outputs": [],
   "source": [
    "greeting = \"Hello, World!\""
   ]
  },
  {
   "cell_type": "markdown",
   "metadata": {},
   "source": [
    "The **`print`** command is often used for printing character strings.  The syntax in Python 3 is to put parentheses around whatever is to be printed:"
   ]
  },
  {
   "cell_type": "code",
   "execution_count": null,
   "metadata": {},
   "outputs": [],
   "source": [
    "print(greeting)"
   ]
  },
  {
   "cell_type": "markdown",
   "metadata": {},
   "source": [
    "(In Python 2, the parentheses can be omitted.)"
   ]
  },
  {
   "cell_type": "markdown",
   "metadata": {},
   "source": [
    "\n",
    "The print function can print data types other than strings:"
   ]
  },
  {
   "cell_type": "code",
   "execution_count": null,
   "metadata": {},
   "outputs": [],
   "source": [
    "print(\"The area is\", area)"
   ]
  },
  {
   "cell_type": "markdown",
   "metadata": {},
   "source": [
    "\n",
    "In the above code, the number 600 (stored earlier in the variable \"area\") is converted into a string before being printed out."
   ]
  },
  {
   "cell_type": "markdown",
   "metadata": {},
   "source": [
    "\n",
    "You can use the + operator to concatenate strings together:"
   ]
  },
  {
   "cell_type": "code",
   "execution_count": 5,
   "metadata": {},
   "outputs": [
    {
     "name": "stdout",
     "output_type": "stream",
     "text": [
      "Hello,World!\n"
     ]
    }
   ],
   "source": [
    "statement = \"Hello,\" + \"World!\"\n",
    "print(statement)"
   ]
  },
  {
   "cell_type": "markdown",
   "metadata": {},
   "source": [
    "\n",
    "Don't forget the space between the strings, if you want one there: "
   ]
  },
  {
   "cell_type": "code",
   "execution_count": null,
   "metadata": {},
   "outputs": [],
   "source": [
    "statement = \"Hello, \" + \"World!\"\n",
    "print(statement)"
   ]
  },
  {
   "cell_type": "markdown",
   "metadata": {},
   "source": [
    "\n",
    "You can use + to concatenate multiple strings in a single statement:"
   ]
  },
  {
   "cell_type": "code",
   "execution_count": null,
   "metadata": {},
   "outputs": [],
   "source": [
    "print(\"This \" + \"is \" + \"a \" + \"longer \" + \"statement.\")"
   ]
  },
  {
   "cell_type": "markdown",
   "metadata": {},
   "source": [
    "\n",
    "If you have a lot of words to concatenate, there are other, more efficient ways to do this. But this is fine for linking a few strings together."
   ]
  },
  {
   "cell_type": "markdown",
   "metadata": {},
   "source": [
    "<font color=\"blue\">**Print formatting**</font>\n",
    "\n",
    "As versatile as the `print` function is, you typically need more control over the data you print out. For example, what if we want to print a bunch of data to exactly 4 decimal places?  There's a newer way and two older ways to do this.  The older ways are presented here because you're likely to see them in other people's code, but you are encouraged to use the newest approach."
   ]
  },
  {
   "cell_type": "markdown",
   "metadata": {},
   "source": [
    "**%-formatted strings**  \n",
    "The oldest method of fancy printing uses ***%-formatted strings***, adopted from the C programming language.  %-formatted strings use some odd ***format characters***, and then pass a bunch of variables into the string that fill out those characters in different ways.  For example,"
   ]
  },
  {
   "cell_type": "code",
   "execution_count": null,
   "metadata": {},
   "outputs": [],
   "source": [
    "pi = 3.1415926535\n",
    "print(\"Pi as a decimal = %d\" % pi)\n",
    "print(\"Pi as a float = %f\" % pi)\n",
    "print(\"Pi with 4 decimal places = %.4f\" % pi)\n",
    "print(\"Pi with overall field of 10 spaces, 6 digits after the decimal = %10.6f\" % pi)\n",
    "print(\"Pi in exponential format = %e\" % pi)\n",
    "print(\"Pi in compact form = %g\" %pi)\n",
    "print(\"Pi in exponential formats = %e and %E\" %(pi,pi))"
   ]
  },
  {
   "cell_type": "markdown",
   "metadata": {},
   "source": [
    "Note that in each example above, the `print` function is given two things: (i) a string containing the format characters -- at least one percent sign followed by a letter or a combination of digits and a letter, and (ii) another percent sign followed by either a single value or multiple values enclosed in parentheses and separated by commas.\n",
    "\n",
    "The percent signs play two roles. First, the format characters start with a percent sign, and they end with one of several different letters. **`%d`** or **`%i`** are for printing out integers, **`%f`** is for floats, **`%e`** or **`%E`** are for numbers in exponential format (scientific notation). **`%g`** and **`%G`** generally print in the most compact decimal format, which may be exponential (using `e` or `E`, respectively), depending on the number.  \n",
    "\n",
    "All of the formats can take an integer immediately after the percent sign; that integer specifies the total number of spaces used to print the output.  Formats also can use an additional number after a decimal point to specify the number of decimal places to print.  In other words, **`%N.nf`** prints a float with `N` total digits and `n` digits after the decimal (so `N` must be greater than `n`).  (Note: if the total number of digits to be printed exceeds the specified value `N`, then all of the digits before the decimal point will be printed, as will `n` of the digits after the decimal point.  If the number has fewer than `N` total digits, then extra spaces will be printed before the number.)  There are other formatting strings, but the ones presented here are the most common.\n",
    "\n",
    "The second use of the percent sign is after the quoted string, to identify the set of variable values to replace the formatting characters.  For instance, in the first example the value `pi` replaces the `%d` characters, causing `pi` to be printed as an integer (which chops off the fractional part).   \n",
    "\n",
    "You can pass in multiple variables (if your formatting string contains multiple format specifications) by putting a group of variables in parentheses after the percent, as in the last example above, where `pi` is printed in both exponential forms.  \n",
    "\n",
    "Examine the example lines printed above, and the corresponding `print` statements, to make sure you understand the formatting idea.\n",
    "\n",
    "Here's another example, showing multiple printed values in different formats:"
   ]
  },
  {
   "cell_type": "code",
   "execution_count": null,
   "metadata": {},
   "outputs": [],
   "source": [
    "a = 6.789\n",
    "b = 4.13\n",
    "c = -4.98e-2\n",
    "print(\"The variables specified here are %d, %f, and %E\" % (a,b,c))"
   ]
  },
  {
   "cell_type": "markdown",
   "metadata": {},
   "source": [
    "\n",
    "More information on different format symbols is available in the [string formatting part of the standard docs](http://docs.python.org/release/2.5.2/lib/typesseq-strings.html).\n"
   ]
  },
  {
   "cell_type": "markdown",
   "metadata": {},
   "source": [
    "**.format()**  \n",
    "A somewhat newer way of printing (introduced in Python 3) uses ***`.format()`*** tacked onto the end of a string, with any variables to be printed surrounded by braces **{ }** (note that the braces are inside the string):"
   ]
  },
  {
   "cell_type": "code",
   "execution_count": null,
   "metadata": {},
   "outputs": [],
   "source": [
    "print(\"The variables specified here are {}, {}, and {}\".format(a,b,c))"
   ]
  },
  {
   "cell_type": "markdown",
   "metadata": {},
   "source": [
    "The `.format()` function may seem strange: why does it start with a '.' and why does it get \"attached\" after the name of the list?  The reason is that `.format()` is an example of a particular type of function called a ***method***, which comes out of ***object-oriented programming***.  The topic of object-oriented programming is explored in a later module.  You will see other examples of methods in the following modules."
   ]
  },
  {
   "cell_type": "markdown",
   "metadata": {},
   "source": [
    "To specify the number of significant figures displayed and the field widths, use a colon inside the braces, followed by the string formatting characters of the %-formatted style (but not the \"`%`\" characters themselves):"
   ]
  },
  {
   "cell_type": "code",
   "execution_count": null,
   "metadata": {},
   "outputs": [],
   "source": [
    "print(\"The variables specified here are {:.2f}, {}, and {:e}\".format(a,b,c))"
   ]
  },
  {
   "cell_type": "markdown",
   "metadata": {},
   "source": [
    "Using this printing approach, it's also possible to print out comma-separators in large numbers, by putting a colon followed by a comma in the braces:"
   ]
  },
  {
   "cell_type": "code",
   "execution_count": null,
   "metadata": {},
   "outputs": [],
   "source": [
    "print(\"The Earth-Sun distance is {:,} miles.\".format(dist))"
   ]
  },
  {
   "cell_type": "markdown",
   "metadata": {},
   "source": [
    "**Interpolated format strings**  \n",
    "The newest way to control the output of `print()`, which became available in Python 3.6, uses ***interpolated format strings*** or ***formatted string literals***, also known as ***f-strings***.  The string to be printed is put in quotes (either single or double, as long as they're matched front and back), and preceded by the letter `f` or `F`.  Variables are placed inside braces, `{}`.  For example, if we want to print out a variable, say `a` from the code cell above, we do this:"
   ]
  },
  {
   "cell_type": "code",
   "execution_count": null,
   "metadata": {},
   "outputs": [],
   "source": [
    "print(f\"The value of 'a' is {a}\")"
   ]
  },
  {
   "cell_type": "markdown",
   "metadata": {},
   "source": [
    "To control the number of digits displayed, use the format `{value:{width}.{precision}}`.  For example"
   ]
  },
  {
   "cell_type": "code",
   "execution_count": null,
   "metadata": {},
   "outputs": [],
   "source": [
    "print(f\"The value of 'a' with two significant figures is {a:.2}\")"
   ]
  },
  {
   "cell_type": "markdown",
   "metadata": {},
   "source": [
    "Exploring this a little more, let's define a new variable and then print it out."
   ]
  },
  {
   "cell_type": "code",
   "execution_count": null,
   "metadata": {},
   "outputs": [],
   "source": [
    "d = 1234.56789"
   ]
  },
  {
   "cell_type": "code",
   "execution_count": null,
   "metadata": {},
   "outputs": [],
   "source": [
    "print(f\"The value of d with four significant figures and width=6 is {d:6.4}\")"
   ]
  },
  {
   "cell_type": "code",
   "execution_count": null,
   "metadata": {},
   "outputs": [],
   "source": [
    "print(f\"The value of d with four significant figures and width=12 is {d:12.4}\")"
   ]
  },
  {
   "cell_type": "markdown",
   "metadata": {},
   "source": [
    "Comparing the two printouts above, we see that both have four significant figures (specified by the `.4`), and the one with the greater width has added spaces in front.  `width` essentially represents the width (in characters or digits) of an invisible column in which the output is positioned."
   ]
  },
  {
   "cell_type": "markdown",
   "metadata": {},
   "source": [
    "For an integer, the precision specification is not allowed.  And we can see that `width` will be ignored if it's smaller than the number of digits in the integer:"
   ]
  },
  {
   "cell_type": "code",
   "execution_count": null,
   "metadata": {},
   "outputs": [],
   "source": [
    "newint = 123456789"
   ]
  },
  {
   "cell_type": "code",
   "execution_count": null,
   "metadata": {},
   "outputs": [],
   "source": [
    "print(f\"The value of newint with width=4 is {newint:4}\")"
   ]
  },
  {
   "cell_type": "code",
   "execution_count": null,
   "metadata": {},
   "outputs": [],
   "source": [
    "print(f\"The value of newint with width=15 is {newint:15}\")"
   ]
  },
  {
   "cell_type": "markdown",
   "metadata": {},
   "source": [
    "Again, the printout with the larger width results in more spaces printed in front of the number."
   ]
  },
  {
   "cell_type": "markdown",
   "metadata": {},
   "source": [
    "It's even possible to do math inside the braces:"
   ]
  },
  {
   "cell_type": "code",
   "execution_count": null,
   "metadata": {},
   "outputs": [],
   "source": [
    "print(f\"The value of a+1 is {a+1}\")"
   ]
  },
  {
   "cell_type": "markdown",
   "metadata": {},
   "source": [
    "And the `width:precision` formatting still works:"
   ]
  },
  {
   "cell_type": "code",
   "execution_count": null,
   "metadata": {},
   "outputs": [],
   "source": [
    "print(f\"The value of a+1 with precision=2 is {a+1:5.2}\")"
   ]
  },
  {
   "cell_type": "markdown",
   "metadata": {},
   "source": [
    "We see that `a+1` was rounded to two significant figures, and the `width` of `5` resulted in extra spaces in front."
   ]
  },
  {
   "cell_type": "markdown",
   "metadata": {},
   "source": [
    "To print out more variables, just add more braces:"
   ]
  },
  {
   "cell_type": "code",
   "execution_count": null,
   "metadata": {},
   "outputs": [],
   "source": [
    "print(f\"The value of a is {a:0.2} and that of newint is {newint:12}.\")"
   ]
  },
  {
   "cell_type": "markdown",
   "metadata": {},
   "source": [
    "Note how specifying a `width` of `0` for 'a' results in no spaces added in front."
   ]
  },
  {
   "cell_type": "markdown",
   "metadata": {},
   "source": [
    "   "
   ]
  },
  {
   "cell_type": "markdown",
   "metadata": {},
   "source": [
    "**Exercise \\#2**\n",
    "\n",
    "Write code that first defines `fine` as 0.00729735257 (the \"fine structure constant\"), and then prints \"The value of fine is: \" in the following ways:\n",
    "\n",
    "(a) `fine` with six digits after the decimal  \n",
    "(b) `fine` to the 5th power, written in scientific notation with four digits after the decimal  \n",
    "(c) `fine` + 1 in integer format\n",
    "\n",
    "Do each of these using both %-formatted strings and f-strings."
   ]
  },
  {
   "cell_type": "markdown",
   "metadata": {},
   "source": [
    "  "
   ]
  },
  {
   "cell_type": "markdown",
   "metadata": {},
   "source": [
    "> **Note:** most of these modules were written before Python 3.6 became widespread, so in some cases they use the older `%`-formatting approach, but it would be better for you to use the newer approach (which avoids some problems) in your work."
   ]
  },
  {
   "cell_type": "markdown",
   "metadata": {},
   "source": [
    "  "
   ]
  },
  {
   "cell_type": "markdown",
   "metadata": {},
   "source": [
    "<a href='#Outline'>Back to the Top</a>"
   ]
  },
  {
   "cell_type": "markdown",
   "metadata": {},
   "source": [
    "### <font color=\"blue\">User Input</font>"
   ]
  },
  {
   "cell_type": "markdown",
   "metadata": {},
   "source": [
    "A function related to `print`, one which allows user interaction with a program, is the **`input`** function.  An example is"
   ]
  },
  {
   "cell_type": "code",
   "execution_count": null,
   "metadata": {},
   "outputs": [],
   "source": [
    "reply = input(\"Please provide a number between 1 and 100: \")"
   ]
  },
  {
   "cell_type": "markdown",
   "metadata": {},
   "source": [
    "This prints out the text in quotes and creates an input field that the user can type a number (or string) into.  Whatever they type in is then stored in the variable `reply` (you can use any other valid variable name)."
   ]
  },
  {
   "cell_type": "markdown",
   "metadata": {},
   "source": [
    "In Python version 3 all inputs are converted to text, for consistency.  You can check the type of a variable with the `type()` function:  "
   ]
  },
  {
   "cell_type": "code",
   "execution_count": null,
   "metadata": {},
   "outputs": [],
   "source": [
    "print(reply)    # show what's stored in reply\n",
    "\n",
    "type(reply)     # show what type of data it is"
   ]
  },
  {
   "cell_type": "markdown",
   "metadata": {},
   "source": [
    "So, `reply` was stored as a string.  This means that if you want the input to be something other than text, then it has to be type-cast using `float()`, seen before, or **`int()`** to format it as an integer; for example:"
   ]
  },
  {
   "cell_type": "code",
   "execution_count": null,
   "metadata": {},
   "outputs": [],
   "source": [
    "ireply = int(reply)    # cast value as an int\n",
    "ireply"
   ]
  },
  {
   "cell_type": "code",
   "execution_count": null,
   "metadata": {},
   "outputs": [],
   "source": [
    "type(ireply)"
   ]
  },
  {
   "cell_type": "markdown",
   "metadata": {},
   "source": [
    "Obtaining interactive user input using the `input` function can be useful in some applications, but for applications in which the user might want to provide several different values (e.g., to compare the corresponding results), it may be better to construct a Python function that would take the values as inputs.  A similar approach also would be better for inputting a list, since doing so using the `input` statement is not easy.  Python functions will be discussed later."
   ]
  },
  {
   "cell_type": "markdown",
   "metadata": {},
   "source": [
    "   "
   ]
  },
  {
   "cell_type": "markdown",
   "metadata": {},
   "source": [
    "**Exercise \\#3**\n",
    "\n",
    "Write a program that asks the user to input an integer, adds 10 to the number, and then tells the user what the final result is *as a floating-point number*.  "
   ]
  },
  {
   "cell_type": "markdown",
   "metadata": {},
   "source": [
    "<a href='#Outline'>Back to the Top</a>"
   ]
  },
  {
   "cell_type": "markdown",
   "metadata": {},
   "source": [
    "### <font color=\"blue\">Lists & Indexing</font>"
   ]
  },
  {
   "cell_type": "markdown",
   "metadata": {},
   "source": [
    "Very often in a programming language, one wants to keep a group of items together. Python does this using a data type called a ***list***.  Here's an example:"
   ]
  },
  {
   "cell_type": "code",
   "execution_count": 2,
   "metadata": {},
   "outputs": [],
   "source": [
    "days_of_the_week = [\"Sunday\",\"Monday\",\"Tuesday\",\"Wednesday\",\"Thursday\",\"Friday\",\"Saturday\"]"
   ]
  },
  {
   "cell_type": "markdown",
   "metadata": {},
   "source": [
    "Note that *the elements of a list are enclosed in square brackets*.  \n",
    "\n",
    "Also note that, by Python convention, *long variable (or function) names should be lowercase, with words separated by the underscore character*, `_`.\n",
    "\n",
    "You can access a member of the list using the ***index*** of that item:"
   ]
  },
  {
   "cell_type": "code",
   "execution_count": null,
   "metadata": {},
   "outputs": [],
   "source": [
    "days_of_the_week[2]"
   ]
  },
  {
   "cell_type": "markdown",
   "metadata": {},
   "source": [
    "Python, like C but unlike Fortran, uses **0** as the index of the first element of a list.  So, in this example, the 0 element is \"Sunday\", 1 is \"Monday\", and so on.  If you need to access the *n*th element from the end of the list, you can use a negative index.  For example, the `-1` element of a list is the last element, the `-2` element is second-to-last, etc.:"
   ]
  },
  {
   "cell_type": "code",
   "execution_count": null,
   "metadata": {},
   "outputs": [],
   "source": [
    "days_of_the_week[-2]"
   ]
  },
  {
   "cell_type": "markdown",
   "metadata": {},
   "source": [
    "   "
   ]
  },
  {
   "cell_type": "markdown",
   "metadata": {},
   "source": [
    "<font color=\"green\"><b>Breakpoint 1</b></font>: what output would `days_of_the_week[-3]` produce?"
   ]
  },
  {
   "cell_type": "markdown",
   "metadata": {},
   "source": [
    "   "
   ]
  },
  {
   "cell_type": "markdown",
   "metadata": {},
   "source": [
    "You can add additional items to a list using the **`.append()`** method after its name:"
   ]
  },
  {
   "cell_type": "code",
   "execution_count": null,
   "metadata": {},
   "outputs": [],
   "source": [
    "languages = [\"Fortran\",\"C\",\"C++\"]\n",
    "languages.append(\"Python\")\n",
    "print(languages)"
   ]
  },
  {
   "cell_type": "markdown",
   "metadata": {},
   "source": [
    "The **`range()`** function is a convenient way to make sequential sets of *integers*:"
   ]
  },
  {
   "cell_type": "code",
   "execution_count": null,
   "metadata": {},
   "outputs": [],
   "source": [
    "list(range(10))"
   ]
  },
  {
   "cell_type": "markdown",
   "metadata": {},
   "source": [
    "Note that `range(n)` starts at 0 and gives the sequential list of integers *less than* `n`. If you want to start at a different number, use `range(start,stop)`."
   ]
  },
  {
   "cell_type": "code",
   "execution_count": null,
   "metadata": {},
   "outputs": [],
   "source": [
    "list(range(2,8))"
   ]
  },
  {
   "cell_type": "markdown",
   "metadata": {},
   "source": [
    "In this case, the range starts with the given first value `2`, and (again) goes up to the second input value *minus* 1.  So `range(a, b)` produces the set of integers `a, a + 1, a + 2, ... , b - 1`."
   ]
  },
  {
   "cell_type": "markdown",
   "metadata": {},
   "source": [
    "The lists created above with `range` have a difference of 1 between elements. You can also give a fixed ***step size*** via a third argument provided to `range`.  The general form is `range(a, b, c)`, where `a` is the starting value, `b - 1` is the final value, and `c` is the difference between values.  For example:"
   ]
  },
  {
   "cell_type": "code",
   "execution_count": null,
   "metadata": {},
   "outputs": [],
   "source": [
    "evens = range(0,20,2)\n",
    "list(evens)"
   ]
  },
  {
   "cell_type": "markdown",
   "metadata": {},
   "source": [
    "Here, the third argument `2` provided to `range` told it to step by `2`.  If we want it to produce every third number, we'd replace the `2` by a `3`, and so on."
   ]
  },
  {
   "cell_type": "markdown",
   "metadata": {},
   "source": [
    "(You may be wondering why the **`list`** command is applied to the `range` function in the examples above.  It's because `range` actually produces an ***array*** rather than a list; the `list` command converts arrays to lists.  [Arrays](Computational_Module-01b-PythonIntro-v2.0.ipynb#Making-vectors-and-matrices,-1-D-and-2-D-arrays) will be discussed later.)"
   ]
  },
  {
   "cell_type": "markdown",
   "metadata": {},
   "source": [
    "Lists do *not* have to hold the same data type. For example, a perfectly good list is"
   ]
  },
  {
   "cell_type": "code",
   "execution_count": null,
   "metadata": {},
   "outputs": [],
   "source": [
    "mixed_list = [\"Today\", 7, 99.3, \"\"]\n",
    "mixed_list"
   ]
  },
  {
   "cell_type": "markdown",
   "metadata": {},
   "source": [
    "(Again, we can use slicing to select elements:)"
   ]
  },
  {
   "cell_type": "code",
   "execution_count": null,
   "metadata": {},
   "outputs": [],
   "source": [
    "mixed_list[0::2]"
   ]
  },
  {
   "cell_type": "markdown",
   "metadata": {},
   "source": [
    "However, it's good (but not essential) to use lists for similar objects that are somehow logically connected.  If you want to group different data types together into a composite data object, it's best to use something called a ***tuple***, which you can investigate on your own.\n",
    "\n",
    "You can find out how long a list is using the **`len()`** command:"
   ]
  },
  {
   "cell_type": "code",
   "execution_count": null,
   "metadata": {},
   "outputs": [],
   "source": [
    "len(evens)"
   ]
  },
  {
   "cell_type": "markdown",
   "metadata": {},
   "source": [
    "One can create the equivalent of a 2-D matrix using a ***list of lists***, e.g."
   ]
  },
  {
   "cell_type": "code",
   "execution_count": null,
   "metadata": {},
   "outputs": [],
   "source": [
    "M = [[1, 2, 3], [4, 5, 6], [7, 8, 9]]"
   ]
  },
  {
   "cell_type": "markdown",
   "metadata": {},
   "source": [
    "Here, each small list corresponds to a row in the \"matrix.\"  It should be mentioned that for performing matrix operations it makes much more sense to use a Python [array or ***matrix***](Computational_Module-01b-PythonIntro-v2.0.ipynb#Making-vectors-and-matrices,-1-D-and-2-D-arrays), which are better designed for such operations.  They are discussed later in this Introduction in the section on the `numpy` library."
   ]
  },
  {
   "cell_type": "markdown",
   "metadata": {},
   "source": [
    "Note that converting from a list obtained from an `input` statement (and therefore stored as a string) to an actual list of numbers is a bit tricky, and so the procedure won't be presented here.  So, if you want to input a list, for now you have to do it by *defining the list in your code*."
   ]
  },
  {
   "cell_type": "markdown",
   "metadata": {},
   "source": [
    "   "
   ]
  },
  {
   "cell_type": "markdown",
   "metadata": {},
   "source": [
    "**Exercise \\#4**\n",
    "\n",
    "Write code to interchange the second and third elements of *any* list having at least three elements.  Try it on the list  `['One', 'b', 3, 'iv']`.  **Note**: Python has a slick way of doing this, e.g. `list[i], list[j] = list[j], list[i]` swaps the elements in the list with indexes `i` and `j`, but most programming languages cannot do this.  Please solve this exercise *without* using that feature. "
   ]
  },
  {
   "cell_type": "markdown",
   "metadata": {},
   "source": [
    "<a href='#Outline'>Back to the Top</a>"
   ]
  },
  {
   "cell_type": "markdown",
   "metadata": {},
   "source": [
    "### <font color=\"blue\">Loops and Iteration</font>"
   ]
  },
  {
   "cell_type": "markdown",
   "metadata": {},
   "source": [
    "In programming, we often want to repeat an operation multiple times.  This repetition, known as ***iteration***, can be done using a ***loop***.  There are two common types of loop: the ***while loop*** and the ***for loop***."
   ]
  },
  {
   "cell_type": "markdown",
   "metadata": {},
   "source": [
    "The **`for`** loop requires a ***counter*** or ***iterator*** (`i` in the example below) that runs over some set of values, and has a simple format.  For example, a bit of code to print out the squares of the first four nonnegative integers is"
   ]
  },
  {
   "cell_type": "code",
   "execution_count": null,
   "metadata": {},
   "outputs": [],
   "source": [
    "for i in [0, 1, 2, 3]:\n",
    "    p = i * i\n",
    "    print(\"The square of\", i,\"is\", p)"
   ]
  },
  {
   "cell_type": "markdown",
   "metadata": {},
   "source": [
    "Here, for each value of `i` the `for` statement evaluates all of the indented code directly below it.  So, in this case, `i` starts with the value of `0`, its square is computed, and then the `print` function prints `0` and `0`$^2$.  Next, `i` becomes `1`, its square is computed, and the `print` function prints `1` and `1`$^2$, and so on. \n",
    "\n",
    "More compactly, we can do the multiplication inside the `print` function:"
   ]
  },
  {
   "cell_type": "code",
   "execution_count": null,
   "metadata": {},
   "outputs": [],
   "source": [
    "for i in [0, 1, 2, 3]:\n",
    "    print(\"The square of\", i,\"is\", i * i)"
   ]
  },
  {
   "cell_type": "markdown",
   "metadata": {},
   "source": [
    "**Note**: All the code inside a `for` loop must be indented by *four spaces* (or a multiple of four, in the case of loops or `if` blocks inside the loop).  The Tab key should *not* be used for indentation.  Python might create the indentation automatically, depending on the installation."
   ]
  },
  {
   "cell_type": "markdown",
   "metadata": {},
   "source": [
    "The `range()` function introduced earlier is a more compact (and more common) way of making the `for` statement execute loops of a specified length:"
   ]
  },
  {
   "cell_type": "code",
   "execution_count": null,
   "metadata": {},
   "outputs": [],
   "source": [
    "for i in range(4):\n",
    "    print(\"The square of\", i, \"is\", i * i)"
   ]
  },
  {
   "cell_type": "markdown",
   "metadata": {},
   "source": [
    "Here, the `range` function produces the list of values `0, 1, 2, 3`, and `i` then runs through that list, just like in the examples above using explicit lists. "
   ]
  },
  {
   "cell_type": "markdown",
   "metadata": {},
   "source": [
    "The **`while`** loop has a different structure:"
   ]
  },
  {
   "cell_type": "code",
   "execution_count": null,
   "metadata": {},
   "outputs": [],
   "source": [
    "i = 0\n",
    "while i < 4:\n",
    "    print(\"The square of\", i, \"is\", i * i)\n",
    "    i = i + 1\n",
    "\n",
    "print(\"The end.\")"
   ]
  },
  {
   "cell_type": "markdown",
   "metadata": {},
   "source": [
    "Whether or not a `while` loop is executed depends on whether the condition following the word \"`while`\" is met: if so, all of the *indented* code below the `while` line is executed; if not, execution passes to the first line of code below the indented block.  So, in the example above, the squares of the values `0, 1, 2,` and `3` are printed out, because those values satisfy the `while` \"`i < 4`\" condition; once `i` becomes `4` the condition is not met, so the indented code block is skipped and execution continues with the final `print` function. \n",
    "\n",
    "The variable `i` again is acting as the loop counter (any letter or symbol or string could be used; it doesn't have to be `i`, although it and `n` are commonly used).  Note that for a `while` loop you have to both *initialize* (give an initial value for) and *increment* (increase, at the end of the loop) the loop counter yourself, whereas as the next example below shows, the `for` loop doesn't actually need a counter, and so is more compact.  If you forget to increment the counter, the `while` loop will run in an infinite loop, forever evaluating its code for the first value of the counter.  **Always make sure to increment a `while` loop counter!**\n",
    "\n",
    "(If you forget to *initialize* the counter, it may be that nothing will happen, since the computer doesn't know the counter's value.  It might also give a result, but not what you might expect, since the computer might assume some \"random\" initial value for the counter.)  \n",
    "\n",
    "In both types of loop, every line in the block of indented code below the `for` or `while` is part of the loop.  When the loop ends, execution of the program continues with the first non-indented line below the loop.  (Other programming languages identify the body of a loop using syntax other than indentation, e.g., by enclosing it in braces { }.)"
   ]
  },
  {
   "cell_type": "markdown",
   "metadata": {},
   "source": [
    "Note also that the `for` loop runs for a *fixed* number of cycles specified by the user.  The `while` loop is more flexible and can be more unpredictable in the sense that the number of cycles may not be explicitly predetermined -- it depends on the `while` condition, and possibly on a variety of parameters/variables.  As a somewhat contrived example, imagine a `while` condition that depends on the value of a random variable (i.e., one determined by a random-number generator) -- it would be impossible for us to predict when such a loop would terminate. \n",
    "\n",
    "**Generally speaking, if a loop is to run for a known, fixed number of cycles, it makes sense to use a** `for` **loop.**"
   ]
  },
  {
   "cell_type": "markdown",
   "metadata": {},
   "source": [
    "Loops are *very* powerful tools that are used abundantly in scientific computation."
   ]
  },
  {
   "cell_type": "markdown",
   "metadata": {},
   "source": [
    "   "
   ]
  },
  {
   "cell_type": "markdown",
   "metadata": {},
   "source": [
    "**Exercise \\#5**\n",
    "\n",
    "(a) Write code that asks the user to input a small integer (call it *n*), and then prints that number *n* times.  \n",
    "(b) Create a second version that prints the following output:\n",
    "\n",
    "`Output #1 is 1` <br/>\n",
    "`Output #2 is 2` <br/>\n",
    "\n",
    " etc., up to \n",
    "\n",
    "`Output #n  is n`"
   ]
  },
  {
   "cell_type": "markdown",
   "metadata": {},
   "source": [
    "<a href='#Outline'>Back to the Top</a>"
   ]
  },
  {
   "cell_type": "markdown",
   "metadata": {},
   "source": [
    "### <font color=\"blue\">Slicing</font>"
   ]
  },
  {
   "cell_type": "markdown",
   "metadata": {},
   "source": [
    "[Lists](#Lists) and [strings](#Strings-and-Printing) have something in common that you might not suspect: they can both be treated as sequences. That means you can pick out elements of either using the ***slicing*** operation.  We already know that we can use *indexing* to get the first element of a list:"
   ]
  },
  {
   "cell_type": "code",
   "execution_count": null,
   "metadata": {},
   "outputs": [],
   "source": [
    "days_of_the_week[0]"
   ]
  },
  {
   "cell_type": "markdown",
   "metadata": {},
   "source": [
    "If we want the list containing the first two elements of a list, we can do this via"
   ]
  },
  {
   "cell_type": "code",
   "execution_count": null,
   "metadata": {},
   "outputs": [],
   "source": [
    "days_of_the_week[0:2]"
   ]
  },
  {
   "cell_type": "markdown",
   "metadata": {},
   "source": [
    "or simply"
   ]
  },
  {
   "cell_type": "code",
   "execution_count": null,
   "metadata": {},
   "outputs": [],
   "source": [
    "days_of_the_week[:2]"
   ]
  },
  {
   "cell_type": "markdown",
   "metadata": {},
   "source": [
    "Notice that the initial value is assumed to be `0`.  As with the loops seen earlier, the output does not include the element corresponding to the second argument in the slice specification; that is, we don't get `days_of_the_week[2]`, which is 'Tuesday'.  The last element output is `days_of_the_week[1]`.\n",
    "\n",
    "If we want the last items of the list, we can do this with negative slicing:"
   ]
  },
  {
   "cell_type": "code",
   "execution_count": null,
   "metadata": {},
   "outputs": [],
   "source": [
    "days_of_the_week[-2:]"
   ]
  },
  {
   "cell_type": "markdown",
   "metadata": {},
   "source": [
    "Here, the assumed last value is `0`, so the slicing is picking out the list elements with indices `-2` and `-1` -- the second-to-last and last elements."
   ]
  },
  {
   "cell_type": "markdown",
   "metadata": {},
   "source": [
    "How could you pick out just the second-to-last and third-to-last elements of the list (i.e., `Thursday` and `Friday`)?  Try it by putting the appropriate stuff in between the brackets below."
   ]
  },
  {
   "cell_type": "code",
   "execution_count": null,
   "metadata": {},
   "outputs": [],
   "source": [
    "days_of_the_week[]"
   ]
  },
  {
   "cell_type": "markdown",
   "metadata": {},
   "source": [
    "\n",
    "\n",
    "You also can do this:"
   ]
  },
  {
   "cell_type": "code",
   "execution_count": null,
   "metadata": {},
   "outputs": [],
   "source": [
    "weekdays = days_of_the_week[1:6]\n",
    "print(weekdays)"
   ]
  },
  {
   "cell_type": "markdown",
   "metadata": {},
   "source": [
    "Since strings are sequences, you can also do this to them:"
   ]
  },
  {
   "cell_type": "code",
   "execution_count": null,
   "metadata": {},
   "outputs": [],
   "source": [
    "day = \"Monday\"\n",
    "abbreviation = day[:3]\n",
    "print(abbreviation)"
   ]
  },
  {
   "cell_type": "markdown",
   "metadata": {},
   "source": [
    "If we want to get really fancy, we can pass a third element into the slice, which specifies a step length (just like a third argument to the `range()` function specifies the step):"
   ]
  },
  {
   "cell_type": "code",
   "execution_count": null,
   "metadata": {},
   "outputs": [],
   "source": [
    "mwf_days = days_of_the_week[1:6:2]\n",
    "print(mwf_days)"
   ]
  },
  {
   "cell_type": "markdown",
   "metadata": {},
   "source": [
    "   "
   ]
  },
  {
   "cell_type": "markdown",
   "metadata": {},
   "source": [
    "**Exercise \\#6**\n",
    "\n",
    "Write code to pick out the letters whose positions in an arbitrary word are divisible by 3, using slicing (and no looping).  That is, you want to pick out the 3rd, 6th, 9th, etc. letters of *any* given word.   Apply your code to the word 'supercalifragilistic'.  Remember that Python numbers lists and string elements starting with an index of `0`."
   ]
  },
  {
   "cell_type": "markdown",
   "metadata": {},
   "source": [
    "<a href='#Outline'>Back to the Top</a>"
   ]
  },
  {
   "cell_type": "markdown",
   "metadata": {},
   "source": [
    "### <font color=\"blue\">Booleans and Truth Testing</font>"
   ]
  },
  {
   "cell_type": "markdown",
   "metadata": {},
   "source": [
    "We now have learned a few data types. We have [integers and floating point numbers](#Using-Python-as-a-Calculator), and [strings](#Strings-and-Printing). We have also learned about a container that can hold any data type, a [list](#Lists) . We have learned to [print](#Strings-and-Printing) things out, and to [iterate](#Loops-and-Iteration) over items in lists. \n",
    "\n",
    "We invariably need some concept of *conditions* in programming to control \"branching behavior\"; i.e., to allow a program to respond differently to different situations.  For instance, if it's Monday I'll go to work, but if it's Sunday I'll sleep late.  To do this in Python, we use a combination of ***boolean*** variables -- a new type of variable that evaluates to either `True` or `False` -- and ***if statements*** that control branching based on boolean values."
   ]
  },
  {
   "cell_type": "markdown",
   "metadata": {},
   "source": [
    "For example:"
   ]
  },
  {
   "cell_type": "code",
   "execution_count": null,
   "metadata": {},
   "outputs": [],
   "source": [
    "if day == \"Sunday\":\n",
    "    print(\"Sleep in\")\n",
    "else:\n",
    "    print(\"Go to work\")"
   ]
  },
  {
   "cell_type": "markdown",
   "metadata": {},
   "source": [
    " "
   ]
  },
  {
   "cell_type": "markdown",
   "metadata": {},
   "source": [
    "<font color=\"green\"><b>Breakpoint 2</b></font>: Why did the code snippet print \"Go to work\" here? What is the variable \"day\" set to?  Try to answer before continuing.\n",
    "\n",
    " "
   ]
  },
  {
   "cell_type": "markdown",
   "metadata": {},
   "source": [
    "   "
   ]
  },
  {
   "cell_type": "markdown",
   "metadata": {},
   "source": [
    "Let's take the snippet apart to see what happened. First, note the statement"
   ]
  },
  {
   "cell_type": "code",
   "execution_count": null,
   "metadata": {},
   "outputs": [],
   "source": [
    "day == \"Sunday\""
   ]
  },
  {
   "cell_type": "markdown",
   "metadata": {},
   "source": [
    "If we evaluate it by itself, we see that it returns a boolean value, `False`. The \"**`==`**\" operator performs ***equality testing***. If the two items are equal, it returns `True`, otherwise it returns `False`. In this case, it is comparing two variables, the string \"Sunday\", and whatever is stored in the variable `day`, which, in this case, is the string \"Monday\" to which `day` was set in a previous code cell. Since the two strings are not equal to each other, the truth test has the `False` value.\n",
    "\n",
    "**Be careful when writing `if` statements**: if you use a single \"=\" sign, as in\n",
    "\n",
    "    if day = \"Sunday\":\n",
    "\n",
    "then you will be *defining* `day` as `Sunday`, rather than *checking* if that's its value. "
   ]
  },
  {
   "cell_type": "markdown",
   "metadata": {},
   "source": [
    "The `if` statement that contains the truth test is followed by a code block (a colon followed by an indented block of code). If the boolean is `True`, it executes the code in that block. Since it is `False` in the above example, we don't see that code executed.\n",
    "\n",
    "The first block of code is followed by an ***else statement***, which is executed if the `if` statement is not true. Since the value was `False`, this `else` code is executed, which is why we see \"Go to work\".  "
   ]
  },
  {
   "cell_type": "markdown",
   "metadata": {},
   "source": [
    "`==` is just one of several ***boolean operators***, meaning operators that return `True` or `False`.  Others -- greater than (**`>`**), less than (**`<`**), equality (**`==`**), non-equality (**`!=`** or **`<>`**) -- are shown in these examples:"
   ]
  },
  {
   "cell_type": "code",
   "execution_count": null,
   "metadata": {},
   "outputs": [],
   "source": [
    "1 == 2"
   ]
  },
  {
   "cell_type": "code",
   "execution_count": null,
   "metadata": {},
   "outputs": [],
   "source": [
    "50 == 2*25"
   ]
  },
  {
   "cell_type": "code",
   "execution_count": null,
   "metadata": {},
   "outputs": [],
   "source": [
    "1 > 7"
   ]
  },
  {
   "cell_type": "code",
   "execution_count": null,
   "metadata": {},
   "outputs": [],
   "source": [
    "3 < 3.14159"
   ]
  },
  {
   "cell_type": "code",
   "execution_count": null,
   "metadata": {},
   "outputs": [],
   "source": [
    "1 == 1.0"
   ]
  },
  {
   "cell_type": "code",
   "execution_count": null,
   "metadata": {},
   "outputs": [],
   "source": [
    "1 != 0"
   ]
  },
  {
   "cell_type": "code",
   "execution_count": null,
   "metadata": {},
   "outputs": [],
   "source": [
    "1 <= 2"
   ]
  },
  {
   "cell_type": "code",
   "execution_count": null,
   "metadata": {},
   "outputs": [],
   "source": [
    "1 >= 1"
   ]
  },
  {
   "cell_type": "markdown",
   "metadata": {},
   "source": [
    "Particularly interesting is the 1 == 1.0 test, which is true, since even though the two objects are different data types (integer and floating point number), they have the same *value*. There is another boolean operator, **`is`**, that tests whether two objects are the same object:"
   ]
  },
  {
   "cell_type": "code",
   "execution_count": null,
   "metadata": {},
   "outputs": [],
   "source": [
    "1 is 1.0"
   ]
  },
  {
   "cell_type": "markdown",
   "metadata": {},
   "source": [
    "Depending on what Python you are running, you might get some warnings indicating that Python thinks we meant to use `1 == 1.0`.  But, after warning us, it gives the expected result, `False`, telling us that `1` and `1.0` are not the same thing."
   ]
  },
  {
   "cell_type": "markdown",
   "metadata": {},
   "source": [
    "We can do boolean tests on lists as well:"
   ]
  },
  {
   "cell_type": "code",
   "execution_count": null,
   "metadata": {},
   "outputs": [],
   "source": [
    "[1,2,3] == [1,2,3]"
   ]
  },
  {
   "cell_type": "code",
   "execution_count": null,
   "metadata": {},
   "outputs": [],
   "source": [
    "[1,2,3] == [1,2,4]"
   ]
  },
  {
   "cell_type": "code",
   "execution_count": null,
   "metadata": {},
   "outputs": [],
   "source": [
    "[1,2,3] < [1,2,4]"
   ]
  },
  {
   "cell_type": "markdown",
   "metadata": {},
   "source": [
    "This is a little odd, no?  By modifying the lists, see if you can figure out what Python's rule is for giving this result."
   ]
  },
  {
   "cell_type": "markdown",
   "metadata": {},
   "source": [
    "Finally, note that you can also string multiple comparisons together, which can result in very intuitive tests:"
   ]
  },
  {
   "cell_type": "code",
   "execution_count": 1,
   "metadata": {},
   "outputs": [
    {
     "data": {
      "text/plain": [
       "True"
      ]
     },
     "execution_count": 1,
     "metadata": {},
     "output_type": "execute_result"
    }
   ],
   "source": [
    "hours = 5\n",
    "0 < hours < 24"
   ]
  },
  {
   "cell_type": "markdown",
   "metadata": {},
   "source": [
    "`if` statements can have **`elif`** (\"else if\") parts, in addition to `if`/`else` parts. For example:"
   ]
  },
  {
   "cell_type": "code",
   "execution_count": null,
   "metadata": {},
   "outputs": [],
   "source": [
    "day = \"Tuesday\"\n",
    "if day == \"Sunday\":\n",
    "    print(\"Sleep late\")\n",
    "elif day == \"Saturday\":\n",
    "    print(\"Do chores\")\n",
    "else:\n",
    "    print(\"Go to work\")"
   ]
  },
  {
   "cell_type": "markdown",
   "metadata": {},
   "source": [
    "Note that each of the parts, `if`, `elif`, and `else` is in a separate line that ends with a colon, and that the code to be executed in each case is indented in a block below the `if`, `elif`, and `else` lines.  Also note that you can have just `if` and `else`, or just `if` and `elif` parts.  (In the latter case, if neither the `if` nor `elif` conditions are met, the `if`-`elif` block has no effect.)  You also can have just an `if` block with no `else` or `elif` after.\n",
    "\n",
    "Multiple conditions can be checked using a structure like the one shown below, with as many `elif` blocks as needed  \n",
    "\n",
    "```python\n",
    "if condition1:\n",
    "   block1\n",
    "elif condition2:\n",
    "   block2\n",
    "elif condition3:\n",
    "   block3\n",
    "else\n",
    "   elseblock\n",
    "```\n",
    "\n",
    "We can combine `if` statements with a `for` loop to make a bit of code that is almost interesting:"
   ]
  },
  {
   "cell_type": "code",
   "execution_count": 3,
   "metadata": {},
   "outputs": [
    {
     "name": "stdout",
     "output_type": "stream",
     "text": [
      "Today is Sunday\n",
      "   Sleep in\n",
      "Today is Monday\n",
      "   Go to work\n",
      "Today is Tuesday\n",
      "   Go to work\n",
      "Today is Wednesday\n",
      "   Go to work\n",
      "Today is Thursday\n",
      "   Go to work\n",
      "Today is Friday\n",
      "   Go to work\n",
      "Today is Saturday\n",
      "   Do chores\n"
     ]
    }
   ],
   "source": [
    "for day in days_of_the_week:\n",
    "    print(\"Today is \" + day)\n",
    "\n",
    "    if day == \"Sunday\":\n",
    "        print(\"   Sleep in\")\n",
    "    elif day == \"Saturday\":\n",
    "        print(\"   Do chores\")\n",
    "    else:\n",
    "        print(\"   Go to work\")"
   ]
  },
  {
   "cell_type": "markdown",
   "metadata": {},
   "source": [
    "   "
   ]
  },
  {
   "cell_type": "markdown",
   "metadata": {},
   "source": [
    "**Exercise \\#7**\n",
    "\n",
    "Write code to pick out the letters in a word whose positions are divisible by 3, using a *loop*.  (This will involve indexing too, but do not use slicing.)  Apply it to 'supercalifragilistic', as before, and also test it on a second (long) word of your choice."
   ]
  },
  {
   "cell_type": "markdown",
   "metadata": {},
   "source": [
    "<a href='#Outline'>Back to the Top</a>"
   ]
  },
  {
   "cell_type": "markdown",
   "metadata": {},
   "source": [
    " "
   ]
  },
  {
   "cell_type": "markdown",
   "metadata": {},
   "source": [
    "### <font color=\"blue\">**Recap**</font>\n",
    "\n",
    "* The first and last parts of a debugging message generally are most helpful for identifying the problem.  \n",
    "\n",
    "* Python can be used as a calculator.  (Remember to use `**` rather than `^` to raise to a power.)  More advanced math functions can be found in the `math` and `numpy` libraries.  \n",
    "\n",
    "* Python has several different types of quantities for storing information, including integers, floats, characters, strings, and lists.  A variable of one type can be changed to another by \"typecasting.\"\n",
    "\n",
    "* Formatting strings can be used to fine tune the output of `print` statements.\n",
    "\n",
    "* List elements are enclosed in square brackets, \\[ \\].  List indices start at 0, and elements can be selected by \"slicing\" the list.  \n",
    "\n",
    "* The Boolean values `True` and `False` result from comparing two quantities.  They also can be used to test values, e.g. in `if` statements.\n",
    "\n",
    "* Arguments to functions, e.g. the print function, are enclosed in parentheses ( ).  \n",
    "\n",
    "* Python has two types of loops: `for` loops and `while` loops.  Use a `for` loop when you know how many repetitions you want the loop to run through.  Use a `while` loop when the number of repetitions depends on some condition being met.  (Make sure to initialize and increment the counter for a `while` loop.)  \n",
    "\n",
    "* When code has to do different things depending on different conditions, you can use `if-elif-else` statements."
   ]
  },
  {
   "cell_type": "markdown",
   "metadata": {},
   "source": [
    "  "
   ]
  },
  {
   "cell_type": "markdown",
   "metadata": {},
   "source": [
    "### <font color=\"blue\">Breakpoint Answers</font>\n",
    "\n",
    "**Breakpoint 1**: 'Thursday'\n",
    "\n",
    "**Breakpoint 2**: `day` was set to `'Monday'` by an earlier block of code.  Therefore, the line that reads `if day == \"Sunday\"` produces the result `False`, and the first `print` statement is not executed.  The code skips to the `else` line, which results in the second `print` statement being performed."
   ]
  },
  {
   "cell_type": "markdown",
   "metadata": {},
   "source": [
    "<a href='#Outline'>Back to the Top</a>"
   ]
  },
  {
   "cell_type": "markdown",
   "metadata": {},
   "source": [
    " "
   ]
  },
  {
   "cell_type": "markdown",
   "metadata": {},
   "source": [
    "<font size=\"5pt\">**End of Part 1**"
   ]
  },
  {
   "cell_type": "markdown",
   "metadata": {},
   "source": [
    "   "
   ]
  },
  {
   "cell_type": "markdown",
   "metadata": {},
   "source": [
    "Licensed by Mark Matlin under Creative Commons License CC BY-NC-SA 4.0, https://creativecommons.org/licenses/by-nc-sa/4.0/"
   ]
  }
 ],
 "metadata": {
  "kernelspec": {
   "display_name": "Python 3 (ipykernel)",
   "language": "python",
   "name": "python3"
  },
  "language_info": {
   "codemirror_mode": {
    "name": "ipython",
    "version": 3
   },
   "file_extension": ".py",
   "mimetype": "text/x-python",
   "name": "python",
   "nbconvert_exporter": "python",
   "pygments_lexer": "ipython3",
   "version": "3.12.6"
  }
 },
 "nbformat": 4,
 "nbformat_minor": 4
}
