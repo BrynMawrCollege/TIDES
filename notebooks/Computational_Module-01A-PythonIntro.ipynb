{
 "cells": [
  {
   "cell_type": "markdown",
   "metadata": {},
   "source": [
    "# <font face=\"times\"><font size=\"6pt\"><p style = 'text-align: center;'> BRYN MAWR COLLEGE\n",
    "\n",
    "<font face=\"times\"><font size=\"6pt\"><p style = 'text-align: center;'><b>Computational Methods in the Physical Sciences</b><br/><br/>\n",
    "\n",
    "<p style = 'text-align: center;'><font face=\"times\"><b>Module 1:  A Brief Introduction to Python and Programming</b><br/><br/>\n",
    "\n",
    "<p style = 'text-align: center;'><b>Part 1 -- Basics</b><br/><br/>\n",
    "\n",
    "<p style = 'text-align: center;'><font size=\"3pt\"> Adapted from *A Crash Course in Python for Scientists*, version 0.6 <br/>\n",
    "[Rick Muller](http://www.cs.sandia.gov/~rmuller/), Sandia National Laboratories </p>"
   ]
  },
  {
   "cell_type": "markdown",
   "metadata": {},
   "source": [
    " ***Prerequisite modules***: Module 0 \n",
    "\n",
    " ***Estimated completion time***: 3-5 hours\n",
    "\n",
    " ***Learning objectives***: Become familiar with, and gain practice in using, basic Python constructs"
   ]
  },
  {
   "cell_type": "markdown",
   "metadata": {},
   "source": [
    "   "
   ]
  },
  {
   "cell_type": "markdown",
   "metadata": {},
   "source": [
    "<img src=\"http://imgs.xkcd.com/comics/python.png\" width=\"350\" height=\"350\"/>\n",
    "<p style = 'text-align: center;'>Image credit: http://xkcd.com/353/<br/><br/>"
   ]
  },
  {
   "cell_type": "markdown",
   "metadata": {},
   "source": [
    "You are about to start on a challenging but rewarding voyage (if you have not already done some computer programming)!  As mentioned in Module 0, because current computers are dumb we have to think as they do in order to get them to work for us.  Learning the algorithmic way of thinking needed to communicate with computers can be hard and frustrating at times, but take heart: with practice, you will learn to think their way and bend them to your will.  Achieving that ability can be very satisfying, as we hope you will find as you move into later modules in the sequence, when you will put your programming skills to use analyzing physically interesting problems.  For now, though, you need to develop the tools that will allow you to become a computer master."
   ]
  },
  {
   "cell_type": "markdown",
   "metadata": {},
   "source": [
    "  "
   ]
  },
  {
   "cell_type": "markdown",
   "metadata": {},
   "source": [
    "  "
   ]
  },
  {
   "cell_type": "markdown",
   "metadata": {},
   "source": [
    "\n",
    "# Outline\n",
    "\n",
    "## Part 1 - Basics\n",
    "*  [I. Python Overview](#I.-Python-Overview) \n",
    "   * [Debugging](#Debugging)\n",
    "   * [Python as a Calculator](#Using-Python-as-a-Calculator)\n",
    "   * [Defining Variables](#Defining-Variables)\n",
    "   * [Strings and Printing](#Strings-and-Printing)\n",
    "   * [User Input](#User-Input)\n",
    "   * [Lists](#Lists)\n",
    "   * [Loops and Iteration](#Loops-and-Iteration)\n",
    "   * [Slicing](#Slicing)\n",
    "   * [Booleans](#Booleans-and-Truth-Testing)\n",
    "\n",
    "\n",
    "## Part 2 - Functions, Packages, Data Input/Output, and Plotting\n",
    "\n",
    "* [II. Functions](Computational_Module-01B-PythonIntro.ipynb#II.-Functions)  \n",
    "   * [Function Packages](Computational_Module-01B-PythonIntro.ipynb#Function-Packages)\n",
    "   * [User-Defined Functions](Computational_Module-01B-PythonIntro.ipynb#User-Defined-Functions)\n",
    "   * [Function of a Function](Computational_Module-01B-PythonIntro.ipynb#Function-of-a-Function)\n",
    "   \n",
    "\n",
    "* [III. Numpy and Scipy](Computational_Module-01B-PythonIntro.ipynb#III.-Numpy-and-Scipy)\n",
    "   * [Making vectors and matrices, 1-D and 2-D arrays](Computational_Module-01B-PythonIntro.ipynb#Making-vectors-and-matrices,-1-D-and-2-D-arrays)\n",
    "   * [Slicing Arrays](Computational_Module-01B-PythonIntro.ipynb#Slicing-Arrays)\n",
    "   * [linspace and arange](Computational_Module-01B-PythonIntro.ipynb#linspace-and-arange)\n",
    "   * [Array Operations](Computational_Module-01B-PythonIntro.ipynb#Array-Operations)\n",
    "   * [Optional Arguments](Computational_Module-01B-PythonIntro.ipynb#Optional-Arguments)\n",
    "   \n",
    "   \n",
    "* [IV. Data Input/Output](Computational_Module-01B-PythonIntro.ipynb#IV.-Data-Input/Output)\n",
    "\n",
    "\n",
    "* [V. Plotting with Matplotlib](Computational_Module-01B-PythonIntro.ipynb#V.-Plotting-with-Matplotlib) \n",
    "\n",
    "\n",
    "## Part 3 - Algorithm Design\n",
    "\n",
    "* [VI. List Manipulation](Computational_Module-01C-PythonIntro.ipynb#VI.-List-Manipulation)\n",
    "   * [Searching a List](Computational_Module-01C-PythonIntro.ipynb#Searching-a-List) \n",
    "   * [Sorting a List](Computational_Module-01C-PythonIntro.ipynb#Sorting-a-List)\n",
    "   \n",
    "   \n",
    "* [VII. Recursion](Computational_Module-01C-PythonIntro.ipynb#VII.-Recursion) \n",
    "\n",
    "   \n",
    "* [VIII. References](Computational_Module-01C-PythonIntro.ipynb#VIII.-References) \n"
   ]
  },
  {
   "cell_type": "markdown",
   "metadata": {},
   "source": [
    "- - -"
   ]
  },
  {
   "cell_type": "markdown",
   "metadata": {},
   "source": [
    "## I. Python Overview\n",
    "\n",
    "This is a quick introduction to Python. There are lots of other places to learn the language more thoroughly, including the resources listed in an appendix of Module 0. An additional list of useful links appears at the end of this notebook. For more depth, [Python Tutorial](http://docs.python.org/2/tutorial/) is a great place to start, as is Zed Shaw's [Learn Python the Hard Way](http://learnpythonthehardway.org/book/).\n",
    "\n",
    "The lessons that follow make use of the IPython notebooks. There's a good introduction to notebooks [in the IPython notebook documentation](http://ipython.org/notebook.html) that has a [nice video](http://www.youtube.com/watch?v=H6dLGQw9yFQ#!) on how to use the notebooks. You should probably also flip through the [IPython tutorial](http://ipython.org/ipython-doc/dev/interactive/tutorial.html) in your copious free time.  IPython notebooks have a very similar form to Mathematica notebooks."
   ]
  },
  {
   "cell_type": "markdown",
   "metadata": {},
   "source": [
    "Most of the subsections throughout this Module 1 (parts A through C) are followed by an Exercise that you should try.  <font color=\"red\">***These Exercises are meant to provide practice in using the tools introduced in the preceding section(s).  Therefore, you should answer them using only techniques, functions, and tools introduced in the previous sections, rather than other (possibly more sophisticated) Python functions or features.***</font>"
   ]
  },
  {
   "cell_type": "markdown",
   "metadata": {},
   "source": [
    "Briefly, notebooks have **code cells** (that are generally followed by result cells) and **text** or **markdown cells**. The text cells are the stuff that you're reading now. The code cells start with `In [ ]:` with some number generally in the brackets. ***If you put your cursor in the code cell and hit Shift-Enter, the code will run in the Python interpreter and the result will print out in the output cell.*** You can then change things around and see whether you understand what's going on. (Note that after hitting Shift-Enter, the next cell down will become the active one.  Thus, <font color=\"red\">you can execute sequential cells simply by hitting Shift-Enter repeatedly</font>.  Hitting Shift-Enter in a **Markdown** cell -- one containing text, an image, or other media; basically anything other than code -- simply renders that content with whatever special formatting has been specified.)  You also can select \"Run all\" from the \"Cell\" menu item at the top of a notebook to run all of the cells in order.  If you need to know more, see the [IPython notebook documentation](http://ipython.org/notebook.html) or the [IPython tutorial](http://ipython.org/ipython-doc/dev/interactive/tutorial.html).  \n",
    "\n",
    "</br>\n",
    "\n",
    "<font color=\"red\">***As you work through this and future notebooks, make sure to hit Shift-Enter before every example code cell, or else select*** **\"Cell\" $\\rightarrow$ \"Run All\"** ***from the top menu, so that everything is up-to-date.***</font>\n",
    "\n",
    "<font color=\"red\">If you define a new variable, or load a library like `numpy`, or declare the plotting library `matplotlib` to run inline using `%matplotlib inline`, then once you execute the code cell in which those commands appear, they should be available to the entire notebook.</font>  Thus, it's sufficient to do those things just once in a notebook.  (One exception is the declaration of `matplotlib` as inline: if you do this somewhere other than the beginning of the notebook, it's possible that IPython will not know about it everywhere in the notebook.  So, if you anticipate doing any plotting in a notebook, it's a good idea to set up `matplotlib` in the first code cell, or not far below the first.)  The same comment applies to user-defined functions: once defined in a code cell that's been executed, user-defined functions are available elsewhere in the notebook."
   ]
  },
  {
   "cell_type": "markdown",
   "metadata": {},
   "source": [
    "***Getting help on a Python function***  \n",
    "In working with Python, it's useful to remember that you can get information on its built-in functions using\n",
    "\n",
    "```python\n",
    "help([function name]),\n",
    "```\n",
    "e.g."
   ]
  },
  {
   "cell_type": "code",
   "execution_count": 3,
   "metadata": {},
   "outputs": [
    {
     "name": "stdout",
     "output_type": "stream",
     "text": [
      "Help on built-in function print in module builtins:\n",
      "\n",
      "print(...)\n",
      "    print(value, ..., sep=' ', end='\\n', file=sys.stdout, flush=False)\n",
      "    \n",
      "    Prints the values to a stream, or to sys.stdout by default.\n",
      "    Optional keyword arguments:\n",
      "    file:  a file-like object (stream); defaults to the current sys.stdout.\n",
      "    sep:   string inserted between values, default a space.\n",
      "    end:   string appended after the last value, default a newline.\n",
      "    flush: whether to forcibly flush the stream.\n",
      "\n"
     ]
    }
   ],
   "source": [
    "help(print)"
   ]
  },
  {
   "cell_type": "markdown",
   "metadata": {},
   "source": [
    "The same `help` function will display information on functions you create if you document those functions appropriately, as described later. "
   ]
  },
  {
   "cell_type": "markdown",
   "metadata": {},
   "source": [
    "<a href='#Outline'>Back to the Top</a>"
   ]
  },
  {
   "cell_type": "markdown",
   "metadata": {},
   "source": [
    "   "
   ]
  },
  {
   "cell_type": "markdown",
   "metadata": {},
   "source": [
    "### <font color=\"blue\">**Debugging**</font>"
   ]
  },
  {
   "cell_type": "markdown",
   "metadata": {},
   "source": [
    "Most IDEs (integrated development environments), including Anaconda, as well as the IPython implementation in Jupyterhub, provide a debugger that will display the sequence of function calls associated with an error.  Remember that when you run code, you usually \"call\" standard Python functions or functions from various libraries; those, in turn, often call other functions, leading to a long chain of function calls associated with the running of your code.  When an error is reported to you, the sequence of function calls shown in Jupyterhub appears in order -- your code containing the source of the error will appear at the top of the sequence; below that will be any immediate function that your code called, and below that will be the subsequent functions called in the chain of function calls.  So, to figure out what the original source of error is in your code, start at the top of the error message."
   ]
  },
  {
   "cell_type": "markdown",
   "metadata": {},
   "source": [
    "As an example, consider the code below which defines a function `plot_sqrt` to plot the square root of `x` over the range 0 to 9.  If we look at the bottom of the output, we see the error: `'numpy.ndarray' object has no attribute 'plot'`.   The meaning of this message is not important to us now, but note that it's arising in the line shown by the long (lower) arrow, where the code `ax.plot(x, sqrt(x))` says to plot `x` versus its square root.  Above that section of the error message is another section containing a shorter arrow pointing to the line `plot_sqrt()`, which is our function.  So, to recap, the error message shows us that the error itself was in the line `ax.plot(x, sqrt(x))`, but that line was called by the function `plot_sqrt()`, so that sequence of function calls (first to `plot_sqrt`, then to `ax.plot`) is what the debugger gives us.  Generally, we care only about the *first* section of the message -- the location in our code of our original error -- and the *last* section, which identifies the actual error, which might give an idea of its cause."
   ]
  },
  {
   "cell_type": "code",
   "execution_count": 5,
   "metadata": {},
   "outputs": [
    {
     "ename": "AttributeError",
     "evalue": "'numpy.ndarray' object has no attribute 'plot'",
     "output_type": "error",
     "traceback": [
      "\u001b[0;31m---------------------------------------------------------------------------\u001b[0m",
      "\u001b[0;31mAttributeError\u001b[0m                            Traceback (most recent call last)",
      "\u001b[0;32m<ipython-input-5-6e621f9a6446>\u001b[0m in \u001b[0;36m<module>\u001b[0;34m()\u001b[0m\n\u001b[1;32m      8\u001b[0m     \u001b[0mplt\u001b[0m\u001b[0;34m.\u001b[0m\u001b[0mshow\u001b[0m\u001b[0;34m(\u001b[0m\u001b[0;34m)\u001b[0m\u001b[0;34m\u001b[0m\u001b[0m\n\u001b[1;32m      9\u001b[0m \u001b[0;34m\u001b[0m\u001b[0m\n\u001b[0;32m---> 10\u001b[0;31m \u001b[0mplot_sqrt\u001b[0m\u001b[0;34m(\u001b[0m\u001b[0;34m)\u001b[0m  \u001b[0;31m# Call the function, generate plot\u001b[0m\u001b[0;34m\u001b[0m\u001b[0m\n\u001b[0m",
      "\u001b[0;32m<ipython-input-5-6e621f9a6446>\u001b[0m in \u001b[0;36mplot_sqrt\u001b[0;34m()\u001b[0m\n\u001b[1;32m      5\u001b[0m     \u001b[0mfig\u001b[0m\u001b[0;34m,\u001b[0m \u001b[0max\u001b[0m \u001b[0;34m=\u001b[0m \u001b[0msubplots\u001b[0m\u001b[0;34m(\u001b[0m\u001b[0;36m2\u001b[0m\u001b[0;34m,\u001b[0m \u001b[0;36m1\u001b[0m\u001b[0;34m)\u001b[0m\u001b[0;34m\u001b[0m\u001b[0m\n\u001b[1;32m      6\u001b[0m     \u001b[0mx\u001b[0m \u001b[0;34m=\u001b[0m \u001b[0mrange\u001b[0m\u001b[0;34m(\u001b[0m\u001b[0;36m10\u001b[0m\u001b[0;34m)\u001b[0m\u001b[0;34m\u001b[0m\u001b[0m\n\u001b[0;32m----> 7\u001b[0;31m     \u001b[0max\u001b[0m\u001b[0;34m.\u001b[0m\u001b[0mplot\u001b[0m\u001b[0;34m(\u001b[0m\u001b[0mx\u001b[0m\u001b[0;34m,\u001b[0m \u001b[0msqrt\u001b[0m\u001b[0;34m(\u001b[0m\u001b[0mx\u001b[0m\u001b[0;34m)\u001b[0m\u001b[0;34m)\u001b[0m\u001b[0;34m\u001b[0m\u001b[0m\n\u001b[0m\u001b[1;32m      8\u001b[0m     \u001b[0mplt\u001b[0m\u001b[0;34m.\u001b[0m\u001b[0mshow\u001b[0m\u001b[0;34m(\u001b[0m\u001b[0;34m)\u001b[0m\u001b[0;34m\u001b[0m\u001b[0m\n\u001b[1;32m      9\u001b[0m \u001b[0;34m\u001b[0m\u001b[0m\n",
      "\u001b[0;31mAttributeError\u001b[0m: 'numpy.ndarray' object has no attribute 'plot'"
     ]
    },
    {
     "data": {
      "image/png": "[encoded data removed]",
      "text/plain": [
       "<matplotlib.figure.Figure at 0x7f429c73d048>"
      ]
     },
     "metadata": {},
     "output_type": "display_data"
    }
   ],
   "source": [
    "from numpy import sqrt\n",
    "from matplotlib.pyplot import subplots\n",
    "\n",
    "def plot_sqrt():\n",
    "    fig, ax = subplots(2, 1)\n",
    "    x = range(10)\n",
    "    ax.plot(x, sqrt(x))\n",
    "    plt.show()\n",
    "\n",
    "plot_sqrt()  # Call the function, generate plot"
   ]
  },
  {
   "cell_type": "markdown",
   "metadata": {},
   "source": [
    "As this example might suggest, Python error messages aren't always clear, but as you see more of them you'll get used to figuring out what the problem with your code actually is."
   ]
  },
  {
   "cell_type": "markdown",
   "metadata": {},
   "source": [
    "<a href='#Outline'>Back to the Top</a>"
   ]
  },
  {
   "cell_type": "markdown",
   "metadata": {},
   "source": [
    "   "
   ]
  },
  {
   "cell_type": "markdown",
   "metadata": {},
   "source": [
    "### <font color=\"blue\">**Defining Variables**</font>"
   ]
  },
  {
   "cell_type": "markdown",
   "metadata": {},
   "source": [
    "\n",
    "Computers generally recognize several data types, two of which appear above: **integers** (often referred to just as \"**ints**\") which have their usual meaning (..., -2, -1, 0, 1, 2,...) ; and **floating-point numbers** (aka, \"**floats**\") also known (incorrectly) as *decimal numbers* to the rest of the world.  These are real numbers containing a decimal point; e.g., 4.87.  \n",
    "\n",
    "In a computer, different types of numbers generally require different amounts of memory for storage, and offer different levels of precision; for example, there are both 32-bit and 64-bit floating-point numbers.)  Other Python data types, which you will see later, include \"strings\" and \"lists.\"\n",
    "\n",
    "***Note***: generally speaking, unless you know that a certain parameter/constant/variable will be an integer, you should create it as a floating point number, which you can do by including a decimal point in it."
   ]
  },
  {
   "cell_type": "markdown",
   "metadata": {},
   "source": [
    "Since it's not always obvious what type of quantity a given variable is, Python has a `type` function that will tell you this.  The two following code cells define the variable `x` in two different ways, and show the output of the `type` function that indicates what type of object each variable is storing."
   ]
  },
  {
   "cell_type": "code",
   "execution_count": 6,
   "metadata": {},
   "outputs": [
    {
     "data": {
      "text/plain": [
       "int"
      ]
     },
     "execution_count": 6,
     "metadata": {},
     "output_type": "execute_result"
    }
   ],
   "source": [
    "x = 1\n",
    "type(x)"
   ]
  },
  {
   "cell_type": "code",
   "execution_count": 7,
   "metadata": {},
   "outputs": [
    {
     "data": {
      "text/plain": [
       "float"
      ]
     },
     "execution_count": 7,
     "metadata": {},
     "output_type": "execute_result"
    }
   ],
   "source": [
    "x = 1.\n",
    "type(x)"
   ]
  },
  {
   "cell_type": "markdown",
   "metadata": {},
   "source": [
    "Notice how the first version of `x` was created as an integer by omitting a decimal point, while the second version was created as an integer by defining `x` as the value `1.`, including a decimal point.  \n",
    "\n",
    "Also notice how the second value of `x` overwrote the first value.  Because of this overwriting behavior, it's a good idea to give every variable in a notebook a different name, unless you don't care if an earlier value of a particular variable gets overwritten by a later definition of that variable."
   ]
  },
  {
   "cell_type": "markdown",
   "metadata": {},
   "source": [
    "<a href='#Outline'>Back to the Top</a>"
   ]
  },
  {
   "cell_type": "markdown",
   "metadata": {},
   "source": [
    "   "
   ]
  },
  {
   "cell_type": "markdown",
   "metadata": {},
   "source": [
    "### <font color=\"blue\">**Basic Math Operators**</font>"
   ]
  },
  {
   "cell_type": "markdown",
   "metadata": {},
   "source": [
    "Adding, subtracting, multiplying, and dividing numbers in Python is done the ways you would expect (the `print` functions are used to print each of the resuls, but in a single calculation they are not required):"
   ]
  },
  {
   "cell_type": "code",
   "execution_count": 1,
   "metadata": {},
   "outputs": [
    {
     "name": "stdout",
     "output_type": "stream",
     "text": [
      "11\n",
      "-5\n",
      "24\n",
      "0.375\n"
     ]
    }
   ],
   "source": [
    "print(3 + 8)\n",
    "print(3 - 8)\n",
    "print(3 * 8)\n",
    "print(3 / 8)"
   ]
  },
  {
   "cell_type": "markdown",
   "metadata": {},
   "source": [
    "The ** symbol raises a number to a power:"
   ]
  },
  {
   "cell_type": "code",
   "execution_count": 2,
   "metadata": {},
   "outputs": [
    {
     "data": {
      "text/plain": [
       "16"
      ]
     },
     "execution_count": 2,
     "metadata": {},
     "output_type": "execute_result"
    }
   ],
   "source": [
    "4 ** 2"
   ]
  },
  {
   "cell_type": "code",
   "execution_count": 3,
   "metadata": {},
   "outputs": [
    {
     "data": {
      "text/plain": [
       "0.010062213700205842"
      ]
     },
     "execution_count": 3,
     "metadata": {},
     "output_type": "execute_result"
    }
   ],
   "source": [
    "(2.6 ** -2.65) / 7.9"
   ]
  },
  {
   "cell_type": "markdown",
   "metadata": {},
   "source": [
    "<font color=\"red\"> Caution: The `^` symbol that you might use in other contexts for raising to a power will not work in Python! </font>  \n",
    "\n",
    "Note that `print` functions were not needed above.  Also note that it's good practice to use spaces to separate the different terms in a mathematical expression, including the operators (the power and division symbols).  The parentheses in the expression directly above are not necessary, but they do improve readability.  \n",
    "<br>  \n",
    "\n",
    "<font color=\"red\">Learning to create ***readable*** code should be one of your main goals in this course!</font>"
   ]
  },
  {
   "cell_type": "markdown",
   "metadata": {},
   "source": [
    "\n",
    "Python **integer division** (division of one integer by another) operates differently depending on the Python version being used.  Version 2 (meaning any version of the form 2.X) truncates the remainder and returns an integer.  For example, dividing 7 by 3 would produce the output shown below.  (Note that the first line is needed just to run the code that follows it in Python 2 rather than the Python 3 of this notebook; also, the [`print`](#Strings-and-Printing) statement normally would not be needed.)"
   ]
  },
  {
   "cell_type": "code",
   "execution_count": 6,
   "metadata": {},
   "outputs": [
    {
     "name": "stdout",
     "output_type": "stream",
     "text": [
      "2\n"
     ]
    }
   ],
   "source": [
    "%%python2\n",
    "print 7 / 3"
   ]
  },
  {
   "cell_type": "markdown",
   "metadata": {},
   "source": [
    "To get the proper output, you can convert one of the integers to a floating-point number, in which case the division function returns another floating-point number.  There are two ways to do the conversion: \n",
    "\n",
    "(i) by writing at least one of the numbers with a decimal point:"
   ]
  },
  {
   "cell_type": "code",
   "execution_count": 6,
   "metadata": {},
   "outputs": [
    {
     "name": "stdout",
     "output_type": "stream",
     "text": [
      "2.33333333333\n",
      "2.33333333333\n"
     ]
    }
   ],
   "source": [
    "%%python2\n",
    "print 7 / 3.\n",
    "print 7. / 3"
   ]
  },
  {
   "cell_type": "markdown",
   "metadata": {},
   "source": [
    "\n",
    "or (ii) by **type-casting** (changing the type of) at least one of the numbers:"
   ]
  },
  {
   "cell_type": "code",
   "execution_count": 7,
   "metadata": {},
   "outputs": [
    {
     "name": "stdout",
     "output_type": "stream",
     "text": [
      "2.33333333333\n",
      "2.33333333333\n"
     ]
    }
   ],
   "source": [
    "%%python2\n",
    "print float(7) / 3\n",
    "print 7 / float(3)"
   ]
  },
  {
   "cell_type": "markdown",
   "metadata": {},
   "source": [
    "\n",
    "Here, the function `float()` converts its argument to a floating-point number (if it can... it wouldn't make sense to convert an alphabetic character to a float!)\n",
    "\n",
    "Python 3 (any version of the form 3.X) would give the floating-point result for the division without having to explicitly make either number into an float:"
   ]
  },
  {
   "cell_type": "code",
   "execution_count": 9,
   "metadata": {},
   "outputs": [
    {
     "data": {
      "text/plain": [
       "2.3333333333333335"
      ]
     },
     "execution_count": 9,
     "metadata": {},
     "output_type": "execute_result"
    }
   ],
   "source": [
    "7/3"
   ]
  },
  {
   "cell_type": "markdown",
   "metadata": {},
   "source": [
    "  "
   ]
  },
  {
   "cell_type": "markdown",
   "metadata": {},
   "source": [
    "As you saw above, you define variables using the equals (=) sign:"
   ]
  },
  {
   "cell_type": "code",
   "execution_count": 6,
   "metadata": {},
   "outputs": [
    {
     "data": {
      "text/plain": [
       "300"
      ]
     },
     "execution_count": 6,
     "metadata": {},
     "output_type": "execute_result"
    }
   ],
   "source": [
    "width = 10\n",
    "length = 30\n",
    "area = length * width\n",
    "area"
   ]
  },
  {
   "cell_type": "markdown",
   "metadata": {},
   "source": [
    "Python (and other programming languages) interpret expressions like this from right to left: the value of the stuff on the right side of the `=` sign is stored in the variable name given on the left.  So `width` and `length` get the values `10` and `30`, respectively, while `area` gets the value of `length * width`, or `30 * 10`. "
   ]
  },
  {
   "cell_type": "markdown",
   "metadata": {},
   "source": [
    "\n",
    "Note that typing the name of the variable by itself, as in the last line, causes Python to print the value.\n",
    "\n",
    "If you try to access a variable that you haven't yet defined, you get an error:"
   ]
  },
  {
   "cell_type": "code",
   "execution_count": 10,
   "metadata": {},
   "outputs": [
    {
     "ename": "NameError",
     "evalue": "name 'volume' is not defined",
     "output_type": "error",
     "traceback": [
      "\u001b[1;31m---------------------------------------------------------------------------\u001b[0m",
      "\u001b[1;31mNameError\u001b[0m                                 Traceback (most recent call last)",
      "\u001b[1;32m<ipython-input-10-0c7fc58f9268>\u001b[0m in \u001b[0;36m<module>\u001b[1;34m()\u001b[0m\n\u001b[1;32m----> 1\u001b[1;33m \u001b[0mvolume\u001b[0m\u001b[1;33m\u001b[0m\u001b[0m\n\u001b[0m",
      "\u001b[1;31mNameError\u001b[0m: name 'volume' is not defined"
     ]
    }
   ],
   "source": [
    "volume"
   ]
  },
  {
   "cell_type": "markdown",
   "metadata": {},
   "source": [
    "\n",
    "and you need to define it:"
   ]
  },
  {
   "cell_type": "code",
   "execution_count": 7,
   "metadata": {},
   "outputs": [
    {
     "data": {
      "text/plain": [
       "3000"
      ]
     },
     "execution_count": 7,
     "metadata": {},
     "output_type": "execute_result"
    }
   ],
   "source": [
    "depth = 10\n",
    "volume = area*depth\n",
    "volume"
   ]
  },
  {
   "cell_type": "markdown",
   "metadata": {},
   "source": [
    "In a quirk of programming languages, an expression like the following (which is nonsensical from a mathematical perspective) makes sense:"
   ]
  },
  {
   "cell_type": "code",
   "execution_count": 8,
   "metadata": {},
   "outputs": [
    {
     "data": {
      "text/plain": [
       "11"
      ]
     },
     "execution_count": 8,
     "metadata": {},
     "output_type": "execute_result"
    }
   ],
   "source": [
    "depth = depth + 1\n",
    "depth"
   ]
  },
  {
   "cell_type": "markdown",
   "metadata": {},
   "source": [
    "Python takes the current value of the variable `depth` on the right, adds `1` to it, and assigns the resulting value to the variable on the left, which just happens to be the same as the one on the right.  Thus, the original value of `depth`, 10, is replaced by the new one, 11."
   ]
  },
  {
   "cell_type": "markdown",
   "metadata": {},
   "source": [
    "\n",
    "You can name a variable *almost* anything you want.  It needs to start with an alphabetical character or an underscore, \"\\_\", and can contain alpha*numeric* characters and underscores.  Certain **keywords**, however, are reserved for the Python language:\n",
    "\n",
    "    and, as, assert, break, class, continue, def, del, elif, else, except, \n",
    "    exec, finally, for, from, global, if, import, in, is, lambda, not, or,\n",
    "    pass, print, raise, return, try, while, with, yield\n",
    "\n",
    "Trying to define a variable using one of these will result in a syntax error:"
   ]
  },
  {
   "cell_type": "code",
   "execution_count": 14,
   "metadata": {},
   "outputs": [
    {
     "ename": "SyntaxError",
     "evalue": "invalid syntax (<ipython-input-14-2b99136d4ec6>, line 1)",
     "output_type": "error",
     "traceback": [
      "\u001b[1;36m  File \u001b[1;32m\"<ipython-input-14-2b99136d4ec6>\"\u001b[1;36m, line \u001b[1;32m1\u001b[0m\n\u001b[1;33m    return = 0\u001b[0m\n\u001b[1;37m           ^\u001b[0m\n\u001b[1;31mSyntaxError\u001b[0m\u001b[1;31m:\u001b[0m invalid syntax\n"
     ]
    }
   ],
   "source": [
    "return = 0"
   ]
  },
  {
   "cell_type": "markdown",
   "metadata": {},
   "source": [
    "**Exercise \\#1**\n",
    "\n",
    "Write code to convert a person's age in years into seconds and display the result.  Apply it to your own age.  (Assume 365 days/year.) "
   ]
  },
  {
   "cell_type": "code",
   "execution_count": null,
   "metadata": {
    "collapsed": true
   },
   "outputs": [],
   "source": []
  },
  {
   "cell_type": "markdown",
   "metadata": {},
   "source": [
    "<a href='#Outline'>Back to the Top</a>"
   ]
  },
  {
   "cell_type": "markdown",
   "metadata": {},
   "source": [
    "### <font color=\"blue\">**Strings and Printing**</font>"
   ]
  },
  {
   "cell_type": "markdown",
   "metadata": {},
   "source": [
    "\n",
    "**Strings** are lists of printable characters, and can be defined using either single quotes"
   ]
  },
  {
   "cell_type": "code",
   "execution_count": 15,
   "metadata": {},
   "outputs": [
    {
     "data": {
      "text/plain": [
       "'Hello, World!'"
      ]
     },
     "execution_count": 15,
     "metadata": {},
     "output_type": "execute_result"
    }
   ],
   "source": [
    "'Hello, World!'"
   ]
  },
  {
   "cell_type": "markdown",
   "metadata": {},
   "source": [
    "\n",
    "or double quotes"
   ]
  },
  {
   "cell_type": "code",
   "execution_count": 16,
   "metadata": {},
   "outputs": [
    {
     "data": {
      "text/plain": [
       "'Hello, World!'"
      ]
     },
     "execution_count": 16,
     "metadata": {},
     "output_type": "execute_result"
    }
   ],
   "source": [
    "\"Hello, World!\""
   ]
  },
  {
   "cell_type": "markdown",
   "metadata": {},
   "source": [
    "\n",
    "But don't use both at the same time, unless you want some of the symbols to be part of the string:"
   ]
  },
  {
   "cell_type": "code",
   "execution_count": 1,
   "metadata": {},
   "outputs": [
    {
     "data": {
      "text/plain": [
       "\"He's a Rebel\""
      ]
     },
     "execution_count": 1,
     "metadata": {},
     "output_type": "execute_result"
    }
   ],
   "source": [
    "\"He's a Rebel\""
   ]
  },
  {
   "cell_type": "code",
   "execution_count": 17,
   "metadata": {},
   "outputs": [
    {
     "data": {
      "text/plain": [
       "'She asked, \"How are you today?\"'"
      ]
     },
     "execution_count": 17,
     "metadata": {},
     "output_type": "execute_result"
    }
   ],
   "source": [
    "'She asked, \"How are you today?\"'"
   ]
  },
  {
   "cell_type": "markdown",
   "metadata": {},
   "source": [
    "\n",
    "Just like the other two data objects we're familiar with (ints and floats), you can assign a string to a variable"
   ]
  },
  {
   "cell_type": "code",
   "execution_count": 10,
   "metadata": {},
   "outputs": [],
   "source": [
    "greeting = \"Hello, World!\""
   ]
  },
  {
   "cell_type": "markdown",
   "metadata": {},
   "source": [
    "And the `type` function will tell you that `greeting` is, in fact, a string (\"str\"):"
   ]
  },
  {
   "cell_type": "code",
   "execution_count": 11,
   "metadata": {},
   "outputs": [
    {
     "data": {
      "text/plain": [
       "str"
      ]
     },
     "execution_count": 11,
     "metadata": {},
     "output_type": "execute_result"
    }
   ],
   "source": [
    "type(greeting)"
   ]
  },
  {
   "cell_type": "markdown",
   "metadata": {},
   "source": [
    "\n",
    "The **`print`** command often is used for printing character strings.  Python 2 and 3 differ in the format of their `print` statements.  While \n",
    "\n",
    "```python\n",
    "print greeting\n",
    "```\n",
    "   \n",
    "is valid code in Python 2, in 3 it gives an error message:"
   ]
  },
  {
   "cell_type": "code",
   "execution_count": 12,
   "metadata": {},
   "outputs": [
    {
     "ename": "SyntaxError",
     "evalue": "Missing parentheses in call to 'print' (<ipython-input-12-84702fc33f9b>, line 1)",
     "output_type": "error",
     "traceback": [
      "\u001b[1;36m  File \u001b[1;32m\"<ipython-input-12-84702fc33f9b>\"\u001b[1;36m, line \u001b[1;32m1\u001b[0m\n\u001b[1;33m    print greeting\u001b[0m\n\u001b[1;37m                 ^\u001b[0m\n\u001b[1;31mSyntaxError\u001b[0m\u001b[1;31m:\u001b[0m Missing parentheses in call to 'print'\n"
     ]
    }
   ],
   "source": [
    "print greeting"
   ]
  },
  {
   "cell_type": "markdown",
   "metadata": {},
   "source": [
    "\n",
    "The correct syntax in Python 3 is"
   ]
  },
  {
   "cell_type": "code",
   "execution_count": 13,
   "metadata": {},
   "outputs": [
    {
     "name": "stdout",
     "output_type": "stream",
     "text": [
      "Hello, World!\n"
     ]
    }
   ],
   "source": [
    "print(greeting)"
   ]
  },
  {
   "cell_type": "markdown",
   "metadata": {},
   "source": [
    "\n",
    "The difference in the two approaches is that in Python 2, the print command is a **statement**, while in 3 it is a **function** (which takes an **argument**, or input -- the string to be printed).  Since Python 2 recognizes \n",
    "\n",
    "```python\n",
    "print()\n",
    "```\n",
    "as a function, <font color=\"red\">it always is safe to use this syntax</font>.  Remember to surround the items to print with <font color=\"red\">parentheses</font>.\n"
   ]
  },
  {
   "cell_type": "markdown",
   "metadata": {},
   "source": [
    "\n",
    "The print function can print data types other than strings:"
   ]
  },
  {
   "cell_type": "code",
   "execution_count": 12,
   "metadata": {},
   "outputs": [
    {
     "name": "stdout",
     "output_type": "stream",
     "text": [
      "The area is 300\n"
     ]
    }
   ],
   "source": [
    "print(\"The area is\", area)"
   ]
  },
  {
   "cell_type": "markdown",
   "metadata": {},
   "source": [
    "In the above code, the number 300 (stored earlier in the variable \"area\") is converted into a string before being printed out."
   ]
  },
  {
   "cell_type": "markdown",
   "metadata": {},
   "source": [
    "\n",
    "You can use the + operator to concatenate strings together:"
   ]
  },
  {
   "cell_type": "code",
   "execution_count": 22,
   "metadata": {},
   "outputs": [
    {
     "name": "stdout",
     "output_type": "stream",
     "text": [
      "Hello,World!\n"
     ]
    }
   ],
   "source": [
    "statement = \"Hello,\" + \"World!\"\n",
    "print(statement)"
   ]
  },
  {
   "cell_type": "markdown",
   "metadata": {},
   "source": [
    "\n",
    "Don't forget the space between the strings (after the comma), if you want one there. "
   ]
  },
  {
   "cell_type": "code",
   "execution_count": 23,
   "metadata": {},
   "outputs": [
    {
     "name": "stdout",
     "output_type": "stream",
     "text": [
      "Hello, World!\n"
     ]
    }
   ],
   "source": [
    "statement = \"Hello, \" + \"World!\"\n",
    "print(statement)"
   ]
  },
  {
   "cell_type": "markdown",
   "metadata": {},
   "source": [
    "\n",
    "You can use + to concatenate multiple strings in a single statement:"
   ]
  },
  {
   "cell_type": "code",
   "execution_count": 24,
   "metadata": {},
   "outputs": [
    {
     "name": "stdout",
     "output_type": "stream",
     "text": [
      "This is a longer statement.\n"
     ]
    }
   ],
   "source": [
    "print(\"This \" + \"is \" + \"a \" + \"longer \" + \"statement.\")"
   ]
  },
  {
   "cell_type": "markdown",
   "metadata": {},
   "source": [
    "\n",
    "If you have a lot of words to concatenate together, there are other, more efficient ways to do this. But this is fine for linking a few strings together."
   ]
  },
  {
   "cell_type": "markdown",
   "metadata": {},
   "source": [
    "***Print formatting***  \n",
    "As versatile as the simple `print` function is, you typically need more freedom over the data you print out. For example, what if we want to print a bunch of data to exactly 4 decimal places? We can do this using **formatted strings**.\n",
    "\n",
    "Formatted strings use some odd **format characters**, and then pass a bunch of variables into the string that fill out those characters in different ways.  For example (the examples are explained below),"
   ]
  },
  {
   "cell_type": "code",
   "execution_count": 14,
   "metadata": {},
   "outputs": [
    {
     "name": "stdout",
     "output_type": "stream",
     "text": [
      "Pi as a decimal = 3\n",
      "Pi as a float = 3.141593\n",
      "Pi with 4 decimal places = 3.1416\n",
      "Pi with 10 digits overall, 6 after the decimal point (note the spaces before the 3) =   3.141593\n",
      "Pi in exponential format = 3.141593e+00\n",
      "Pi in compact form = 3.14159 and 2*Pi in exponential format = 6.283185e+00\n"
     ]
    }
   ],
   "source": [
    "pi = 3.1415926535\n",
    "print(\"Pi as a decimal = %d\" % pi)\n",
    "print(\"Pi as a float = %f\" % pi)\n",
    "print(\"Pi with 4 decimal places = %.4f\" % pi)\n",
    "print(\"Pi with 10 digits overall, 6 after the decimal point (note the spaces before the 3) = %10.6f\" % pi)\n",
    "print(\"Pi in exponential format = %e\" % pi)\n",
    "print(\"Pi in compact form = %g and 2*Pi in exponential format = %e\" %(pi, 2*pi))"
   ]
  },
  {
   "cell_type": "markdown",
   "metadata": {},
   "source": [
    "Note that in each example above, the `print` function is given two things: (i) a string containing the format characters -- at least one percent sign followed by a letter or a combination of digits and a letter, and (ii) another percent sign followed by either a single value or multiple values enclosed in parentheses and separated by commas.\n",
    "\n",
    "The percent signs play two roles. First, the format characters start with a percent sign, and they end with one of several different letters. `%d` or `%i` are for printing out integers, `%f` is for floats, `%e` or `%E` are for numbers in exponential format (scientific notation). `%g` and `%G` generally print in the most compact decimal format, which may be exponential (using `e` or `E`, respectively).  \n",
    "\n",
    "All of the formats can take an integer immediately after the percent sign; that integer specifies the total number of spaces used to print the output.  Formats also can use an additional number after a decimal point to specify the number of decimal places to print.  In other words, `%N.nf` prints a float with `N` total digits and `n` digits after the decimal (so `N` must be greater than `n`).  (Note: if the total number of digits to be printed exceeds the specified value `N`, then all of the digits before the decimal point will be printed, as will `n` of the digits after the decimal point.  If the number has fewer than `N` total digits, then extra spaces will be printed before the number.)  There are other formatting strings, but the ones presented here are the most common.\n",
    "\n",
    "The second use of the percent sign is after the quoted string, to identify the set of variable values to replace the formatting characters.  For instance, in the first example the value `pi` replaces the `%d` characters, causing `pi` to be printed as an integer (which chops off the fractional part).   \n",
    "\n",
    "You can pass in multiple variables (if your formatting string contains multiple format specifications) by putting a group of variables in parentheses after the percent, as in the last example above, where `pi` is printed in compact form and `2*pi` is printed in exponential form.  \n",
    "\n",
    "Examine the example lines printed above, and the corresponding `print` statements, to make sure you understand the formatting idea.\n",
    "\n",
    "Here's another example, showing multiple printed values in different formats:"
   ]
  },
  {
   "cell_type": "code",
   "execution_count": 13,
   "metadata": {},
   "outputs": [
    {
     "name": "stdout",
     "output_type": "stream",
     "text": [
      "The variables specified above are 6, 4.130000, and -4.980000E-02\n"
     ]
    }
   ],
   "source": [
    "a = 6.789\n",
    "b = 4.13\n",
    "c = -4.98e-2\n",
    "print(\"The variables specified above are %d, %f, and %E\" % (a,b,c))"
   ]
  },
  {
   "cell_type": "markdown",
   "metadata": {},
   "source": [
    "\n",
    "More information on different format symbols is available in the [string formatting part of the standard docs](http://docs.python.org/release/2.5.2/lib/typesseq-strings.html).\n"
   ]
  },
  {
   "cell_type": "markdown",
   "metadata": {},
   "source": [
    "   "
   ]
  },
  {
   "cell_type": "markdown",
   "metadata": {},
   "source": [
    "**Exercise \\#2**\n",
    "\n",
    "Write code that defines `fine` as 0.00729735257 (the \"fine structure constant\").  Then, on three different lines print the text \"The value is: \", with each of those strings followed by one of the following outputs:\n",
    "\n",
    "(a) `fine` with six digits after the decimal  \n",
    "(b) `fine` to the 5th power, written in scientific notation with four digits after the decimal  \n",
    "(c) `fine` + 1 in integer format"
   ]
  },
  {
   "cell_type": "markdown",
   "metadata": {},
   "source": [
    "<a href='#Outline'>Back to the Top</a>"
   ]
  },
  {
   "cell_type": "markdown",
   "metadata": {},
   "source": [
    "### <font color=\"blue\">**User Input**</font>"
   ]
  },
  {
   "cell_type": "markdown",
   "metadata": {},
   "source": [
    "A function related to the `print` statement, one which allows user interaction with a program, is the **`input`** statement.  An example is"
   ]
  },
  {
   "cell_type": "code",
   "execution_count": 27,
   "metadata": {},
   "outputs": [
    {
     "name": "stdout",
     "output_type": "stream",
     "text": [
      "Please provide a number between 1 and 100: 7\n"
     ]
    }
   ],
   "source": [
    "reply = input(\"Please provide a number between 1 and 100: \")"
   ]
  },
  {
   "cell_type": "markdown",
   "metadata": {},
   "source": [
    "In Python version 2, the `input` statement retains the data type of the input: if it's an integer, it is stored as an integer; if a floating-point number, it's stored as a floating-point, etc.  However, in version 3 all inputs are converted to text, for consistency.  You can check the type of a variable with the `type()` function seen earlier:  "
   ]
  },
  {
   "cell_type": "code",
   "execution_count": 28,
   "metadata": {},
   "outputs": [
    {
     "data": {
      "text/plain": [
       "str"
      ]
     },
     "execution_count": 28,
     "metadata": {},
     "output_type": "execute_result"
    }
   ],
   "source": [
    "type(reply)"
   ]
  },
  {
   "cell_type": "markdown",
   "metadata": {},
   "source": [
    "So, the value of `reply` entered above was stored as a string.  This means that if you want the input to be something other than text, then it has to be type-cast using `int()` or `float()`; for example:"
   ]
  },
  {
   "cell_type": "code",
   "execution_count": 29,
   "metadata": {},
   "outputs": [
    {
     "data": {
      "text/plain": [
       "7"
      ]
     },
     "execution_count": 29,
     "metadata": {},
     "output_type": "execute_result"
    }
   ],
   "source": [
    "ireply = int(reply)\n",
    "ireply"
   ]
  },
  {
   "cell_type": "code",
   "execution_count": 30,
   "metadata": {},
   "outputs": [
    {
     "data": {
      "text/plain": [
       "int"
      ]
     },
     "execution_count": 30,
     "metadata": {},
     "output_type": "execute_result"
    }
   ],
   "source": [
    "type(ireply)"
   ]
  },
  {
   "cell_type": "markdown",
   "metadata": {},
   "source": [
    "Obtaining interactive user input using the `input` function can be useful in some applications, but for applications in which the user might want to provide several different values (e.g., to compare the corresponding results), it might be better to construct a Python function which would take the values as inputs.  A similar approach also would be better for inputting a list, since doing so using the `input` statement is not easy.  Python functions will be discussed later."
   ]
  },
  {
   "cell_type": "markdown",
   "metadata": {},
   "source": [
    "   "
   ]
  },
  {
   "cell_type": "markdown",
   "metadata": {},
   "source": [
    "**Exercise \\#3**\n",
    "\n",
    "Write code that asks the user to input an integer, adds 10 to the number, and then tells the user what the final result is *as a floating-point number*.  "
   ]
  },
  {
   "cell_type": "markdown",
   "metadata": {},
   "source": [
    "<a href='#Outline'>Back to the Top</a>"
   ]
  },
  {
   "cell_type": "markdown",
   "metadata": {},
   "source": [
    "### <font color=\"blue\">**Lists**</font>"
   ]
  },
  {
   "cell_type": "markdown",
   "metadata": {},
   "source": [
    "Very often in a programming language, one wants to keep a group of similar items together. Python does this using a data type called a **list**.  Here's an example:"
   ]
  },
  {
   "cell_type": "code",
   "execution_count": 7,
   "metadata": {},
   "outputs": [],
   "source": [
    "days_of_the_week = [\"Sunday\",\"Monday\",\"Tuesday\",\"Wednesday\",\"Thursday\",\"Friday\",\"Saturday\"]"
   ]
  },
  {
   "cell_type": "markdown",
   "metadata": {},
   "source": [
    "Note that <font color=\"red\">the elements of a list are enclosed in square brackets</font>.  You can access a member of the list using the **index** of that item:"
   ]
  },
  {
   "cell_type": "code",
   "execution_count": 32,
   "metadata": {},
   "outputs": [
    {
     "data": {
      "text/plain": [
       "'Tuesday'"
      ]
     },
     "execution_count": 32,
     "metadata": {},
     "output_type": "execute_result"
    }
   ],
   "source": [
    "days_of_the_week[2]"
   ]
  },
  {
   "cell_type": "markdown",
   "metadata": {},
   "source": [
    "Like C but unlike Fortran, <font color=\"red\">Python uses 0 as the index of the first element of a list</font>.  Thus, in this example, the 0 element is \"Sunday\", 1 is \"Monday\", and so on.  If you need to access the *n*th element from the end of the list, you can use a negative index.  For example, the `-1` element of a list is the last element, the `-2` element is second-to-last, etc.:"
   ]
  },
  {
   "cell_type": "code",
   "execution_count": 8,
   "metadata": {},
   "outputs": [
    {
     "data": {
      "text/plain": [
       "'Saturday'"
      ]
     },
     "execution_count": 8,
     "metadata": {},
     "output_type": "execute_result"
    }
   ],
   "source": [
    "days_of_the_week[-1]"
   ]
  },
  {
   "cell_type": "markdown",
   "metadata": {},
   "source": [
    "   "
   ]
  },
  {
   "cell_type": "markdown",
   "metadata": {},
   "source": [
    "<font color=\"green\"><b>Breakpoint 1</b></font>: what output would `days_of_the_week[-2]` produce?"
   ]
  },
  {
   "cell_type": "markdown",
   "metadata": {},
   "source": [
    "   "
   ]
  },
  {
   "cell_type": "markdown",
   "metadata": {},
   "source": [
    "You can add additional items to the list using the **`.append()`** function, which you tack on to the end of the name of the list you want to append to, like so:"
   ]
  },
  {
   "cell_type": "code",
   "execution_count": 10,
   "metadata": {},
   "outputs": [
    {
     "name": "stdout",
     "output_type": "stream",
     "text": [
      "['Fortran', 'C', 'C++', 'Python']\n"
     ]
    }
   ],
   "source": [
    "languages = [\"Fortran\",\"C\",\"C++\"]\n",
    "languages.append(\"Python\")\n",
    "print(languages)"
   ]
  },
  {
   "cell_type": "markdown",
   "metadata": {},
   "source": [
    "(The `.append()` function may seem strange: why does it start with a '.' and why does it get \"attached\" after the name of the list?  The reason is that `.append()` is an example of a particular type of function called a **method**, which comes out of **object-oriented programming**.  This topic is explored in a later module.)"
   ]
  },
  {
   "cell_type": "markdown",
   "metadata": {},
   "source": [
    "The **`range()`** function is a convenient way to make sequential lists of numbers:"
   ]
  },
  {
   "cell_type": "code",
   "execution_count": 1,
   "metadata": {},
   "outputs": [
    {
     "data": {
      "text/plain": [
       "[0, 1, 2, 3, 4, 5, 6, 7, 8, 9]"
      ]
     },
     "execution_count": 1,
     "metadata": {},
     "output_type": "execute_result"
    }
   ],
   "source": [
    "list(range(10))"
   ]
  },
  {
   "cell_type": "markdown",
   "metadata": {},
   "source": [
    "Note that `range(n)` starts at 0 and gives the sequential list of integers less than `n`. If you want to start at a different number, use `range(start,stop)`."
   ]
  },
  {
   "cell_type": "code",
   "execution_count": 11,
   "metadata": {},
   "outputs": [
    {
     "data": {
      "text/plain": [
       "[2, 3, 4, 5, 6, 7]"
      ]
     },
     "execution_count": 11,
     "metadata": {},
     "output_type": "execute_result"
    }
   ],
   "source": [
    "list(range(2,8))"
   ]
  },
  {
   "cell_type": "markdown",
   "metadata": {},
   "source": [
    "In this case, the range starts with the given first value, but (again) does not include the endpoint value (the 8).  "
   ]
  },
  {
   "cell_type": "markdown",
   "metadata": {},
   "source": [
    "The lists created above with range have a difference of 1 between elements. You can also give a fixed **step size** via a third argument provided to `range`:"
   ]
  },
  {
   "cell_type": "code",
   "execution_count": 15,
   "metadata": {},
   "outputs": [
    {
     "data": {
      "text/plain": [
       "[0, 2, 4, 6, 8, 10, 12, 14, 16, 18]"
      ]
     },
     "execution_count": 15,
     "metadata": {},
     "output_type": "execute_result"
    }
   ],
   "source": [
    "evens = range(0,20,2)\n",
    "list(evens)"
   ]
  },
  {
   "cell_type": "code",
   "execution_count": 13,
   "metadata": {},
   "outputs": [
    {
     "data": {
      "text/plain": [
       "6"
      ]
     },
     "execution_count": 13,
     "metadata": {},
     "output_type": "execute_result"
    }
   ],
   "source": [
    "evens[3]"
   ]
  },
  {
   "cell_type": "markdown",
   "metadata": {},
   "source": [
    "(You may be wondering why the `list` command is applied to the `range` function in the examples above.  It's because `range` actually produces an **array** rather than a list; the `list` command converts arrays to lists.  [Arrays](Computational_Module-01b-PythonIntro-v2.0.ipynb#Making-vectors-and-matrices,-1-D-and-2-D-arrays) will be discussed later.)"
   ]
  },
  {
   "cell_type": "markdown",
   "metadata": {},
   "source": [
    "In fact, lists *do not* have to hold the same data type. For example, a perfectly good list is"
   ]
  },
  {
   "cell_type": "code",
   "execution_count": null,
   "metadata": {},
   "outputs": [],
   "source": [
    "[\"Today\",7,99.3,\"\"]"
   ]
  },
  {
   "cell_type": "markdown",
   "metadata": {},
   "source": [
    "However, it's good (but not essential) to use lists for similar objects that are somehow logically connected.  If you want to group different data types together into a composite data object, it's best to use [**tuples**](#Two-More-Data-Structures:-Tuples-and-Dictionaries), which we will learn about below.\n",
    "\n",
    "You can find out how long a list is using the **`len()`** command:"
   ]
  },
  {
   "cell_type": "code",
   "execution_count": 16,
   "metadata": {},
   "outputs": [
    {
     "data": {
      "text/plain": [
       "10"
      ]
     },
     "execution_count": 16,
     "metadata": {},
     "output_type": "execute_result"
    }
   ],
   "source": [
    "len(evens)"
   ]
  },
  {
   "cell_type": "markdown",
   "metadata": {},
   "source": [
    "One can create the equivalent of a 2-D matrix using a **list of lists**, e.g."
   ]
  },
  {
   "cell_type": "code",
   "execution_count": 21,
   "metadata": {},
   "outputs": [],
   "source": [
    "M = [[1, 2, 3], [4, 5, 6], [7, 8, 9]]"
   ]
  },
  {
   "cell_type": "markdown",
   "metadata": {},
   "source": [
    "Here, each small list enclosed in brackets corresponds to a row in the \"matrix.\"  It should be mentioned that for performing matrix operations it makes much more sense to use a Python [array or ***matrix***](Computational_Module-01b-PythonIntro-v2.0.ipynb#Making-vectors-and-matrices,-1-D-and-2-D-arrays), which are better designed for such operations.  They are discussed later in this Introduction in the section on the `numpy` library."
   ]
  },
  {
   "cell_type": "markdown",
   "metadata": {},
   "source": [
    "Note that converting from a list obtained from an `input` statement (and therefore stored as a string) to an actual list of numbers is a bit tricky, and so the procedure won't be presented here.  Thus, if you want to input a list, for now you have to do it by defining the list in your code."
   ]
  },
  {
   "cell_type": "markdown",
   "metadata": {},
   "source": [
    "   "
   ]
  },
  {
   "cell_type": "markdown",
   "metadata": {},
   "source": [
    "**Exercise \\#4**\n",
    "\n",
    "Write code that will interchange the second and third elements of *any* list having at least three elements.  Try it on the list  `['One', 'b', 3, 'iv']`."
   ]
  },
  {
   "cell_type": "markdown",
   "metadata": {},
   "source": [
    "<a href='#Outline'>Back to the Top</a>"
   ]
  },
  {
   "cell_type": "markdown",
   "metadata": {},
   "source": [
    "### <font color=\"blue\">**Loops and Iteration**</font>"
   ]
  },
  {
   "cell_type": "markdown",
   "metadata": {},
   "source": [
    "In programming, we often want to repeat an operation multiple times.  This repetition, known as **iteration**, can be done using a **loop**.  There are two common types of loop: the **`while` loop** and the **`for` loop**."
   ]
  },
  {
   "cell_type": "markdown",
   "metadata": {},
   "source": [
    "The `for` loop requires a **counter** or **iterator** (`i` in the example below) that runs over some set of values, and has a simple format:"
   ]
  },
  {
   "cell_type": "code",
   "execution_count": 29,
   "metadata": {},
   "outputs": [
    {
     "name": "stdout",
     "output_type": "stream",
     "text": [
      "The square of  0  is  0\n",
      "The square of  1  is  1\n",
      "The square of  2  is  4\n",
      "The square of  3  is  9\n"
     ]
    }
   ],
   "source": [
    "for i in [0, 1, 2, 3]:\n",
    "    print(\"The square of \",i,\" is \",i * i)"
   ]
  },
  {
   "cell_type": "markdown",
   "metadata": {},
   "source": [
    "Here, for each value of `i`, the `for` statement evaluates all of the indented code directly below it.  So, in this case, `i` starts with the value of `0`, and the `print` statement then prints `0` and `0`$^2$; then `i` becomes `1`, and the `print` statement prints `1` and `1`$^2$; etc.  \n",
    "\n",
    "**Note**: all of the code inside a `for` loop must be indented by one ***tab space*** (or more, in the case of loops or `if` blocks inside the loop).  "
   ]
  },
  {
   "cell_type": "markdown",
   "metadata": {},
   "source": [
    "The range() function introduced earlier is a more compact way of making the `for` statement execute loops of a specified length:"
   ]
  },
  {
   "cell_type": "code",
   "execution_count": 30,
   "metadata": {},
   "outputs": [
    {
     "name": "stdout",
     "output_type": "stream",
     "text": [
      "The square of  0  is  0\n",
      "The square of  1  is  1\n",
      "The square of  2  is  4\n",
      "The square of  3  is  9\n"
     ]
    }
   ],
   "source": [
    "for i in range(4):\n",
    "    print(\"The square of \",i,\" is \",i * i)"
   ]
  },
  {
   "cell_type": "markdown",
   "metadata": {},
   "source": [
    "Here, the `range` command produces an array of the values `0, 1, 2, 3`, and `i` then runs through those values, just like above. "
   ]
  },
  {
   "cell_type": "markdown",
   "metadata": {},
   "source": [
    "The `while` loop has a different structure:"
   ]
  },
  {
   "cell_type": "code",
   "execution_count": 1,
   "metadata": {},
   "outputs": [
    {
     "name": "stdout",
     "output_type": "stream",
     "text": [
      "The square of  0  is  0\n",
      "The square of  1  is  1\n",
      "The square of  2  is  4\n",
      "The square of  3  is  9\n",
      "The end.\n"
     ]
    }
   ],
   "source": [
    "i = 0\n",
    "while i < 4:\n",
    "    print(\"The square of \",i,\" is \",i * i)\n",
    "    i = i + 1\n",
    "print(\"The end.\")"
   ]
  },
  {
   "cell_type": "markdown",
   "metadata": {},
   "source": [
    "Whether or not a `while` loop is executed depends on whether the condition following the word \"`while`\" is met: if so, all of the indented code below the `while` line is executed; if not, execution passes to the first line of code below the indented block.  So, in the example above, the squares of the values `0, 1, 2,` and `3` are printed out, because those values satisfy the `while` \"`i < 4`\" condition; once `i` becomes `4` the condition is not met, so the indented code block is skipped and execution continues with the final `print` function. \n",
    "\n",
    "Note that for a `while` loop you have to both *initialize* (give an initial value for) and *increment* (increase, at the end of the loop) the loop counter yourself, whereas in a `for` loop it's initialized and incremented automatically.  If you forget to increment the counter, the `while` loop will run in an infinite loop, forever evaluating its code for the first value of the counter.  <font color=\"red\">Always make sure to increment a `while` loop counter!</font>  (If you forget to initialize the counter, it may be that nothing will happen, since the computer doesn't know the counter's value.)  \n",
    "\n",
    "In both types of loop, ***every line in the block of indented code below the `for` or `while` is part of the loop***.  ***The lines in the block each should be indented by (at least) one tab space.***  \n",
    "\n",
    "When the loop ends, execution of the program continues with the first non-indented line below the loop.  (Other programming languages identify the body of a loop using syntax other than indentation, e.g., by enclosing the loop in braces { }.)"
   ]
  },
  {
   "cell_type": "markdown",
   "metadata": {},
   "source": [
    "Note also that the `for` loop runs for a *fixed* number of cycles specified by the user.  The `while` loop is more flexible, and it can be more unpredictable in the sense that the number of cycles may not be explicitly predetermined -- it depends on the `while` condition and on the parameters/variables that enter into that condition.  As a somewhat contrived example, imagine a `while` condition that depends on the value of a random variable `rand` (e.g., `while rand < 1.73`) -- it would be impossible for us to predict when such a loop would terminate.  \n",
    "\n",
    "<font color=\"red\">Generally speaking, if you want a loop to run for a known, fixed number of cycles, it makes sense to use a `for` loop.</font>  (It's also worth noting that `for` loops generally are faster than `while` loops, which have to do a comparison to check the `while` condition every time through the loop.)"
   ]
  },
  {
   "cell_type": "markdown",
   "metadata": {},
   "source": [
    "Other structures can be used in the first lines of the `for` and `while` loops, for example:  "
   ]
  },
  {
   "cell_type": "code",
   "execution_count": 12,
   "metadata": {},
   "outputs": [
    {
     "name": "stdout",
     "output_type": "stream",
     "text": [
      "Sunday\n",
      "Monday\n",
      "Tuesday\n",
      "Wednesday\n",
      "Thursday\n",
      "Friday\n",
      "Saturday\n"
     ]
    }
   ],
   "source": [
    "for day in days_of_the_week:\n",
    "    print(day)"
   ]
  },
  {
   "cell_type": "markdown",
   "metadata": {},
   "source": [
    "This code snippet goes through each element of the list called `days_of_the_week` and assigns it successively to the variable `day`. It then executes everything in the indented block (in this case only one line of code, the `print` statement) using each of those variable assignments. When the program has gone through every element of the list, it exits the block.\n",
    "\n",
    "Loops are *very* powerful tools that are used abundantly in scientific computation."
   ]
  },
  {
   "cell_type": "markdown",
   "metadata": {},
   "source": [
    "   "
   ]
  },
  {
   "cell_type": "markdown",
   "metadata": {},
   "source": [
    "**Exercise \\#5**\n",
    "\n",
    "**(a)** Write code that asks the user to input a small integer (call it *n*), and then prints that number *n* times.  \n",
    "**(b)** Create a second version that prints the following (without the quotes):\n",
    "\n",
    "\"Output \\#1 is 1\" <br/>\n",
    "\"Output \\#2 is 2\" <br/>\n",
    "etc., up to the small integer."
   ]
  },
  {
   "cell_type": "markdown",
   "metadata": {},
   "source": [
    "<a href='#Outline'>Back to the Top</a>"
   ]
  },
  {
   "cell_type": "markdown",
   "metadata": {},
   "source": [
    "### <font color=\"blue\">**Slicing**</font>\n",
    "\n",
    "[Lists](#Lists) and [strings](#Strings-and-Printing) have something in common that you might not expect: they can both be treated as sequences. You've just seen that you can [iterate](#Loops-and-Iteration) through the elements of a list. You can also iterate through the letters in a string:"
   ]
  },
  {
   "cell_type": "code",
   "execution_count": 36,
   "metadata": {},
   "outputs": [
    {
     "name": "stdout",
     "output_type": "stream",
     "text": [
      "S\n",
      "u\n",
      "n\n",
      "d\n",
      "a\n",
      "y\n"
     ]
    }
   ],
   "source": [
    "for letter in \"Sunday\":\n",
    "    print(letter)"
   ]
  },
  {
   "cell_type": "markdown",
   "metadata": {},
   "source": [
    "This is only occasionally useful.  Much more useful is the **slicing** operation, which you can also use on any sequence.  We already know that we can use *indexing* to get the first element of a list:"
   ]
  },
  {
   "cell_type": "code",
   "execution_count": 37,
   "metadata": {},
   "outputs": [
    {
     "data": {
      "text/plain": [
       "'Sunday'"
      ]
     },
     "execution_count": 37,
     "metadata": {},
     "output_type": "execute_result"
    }
   ],
   "source": [
    "days_of_the_week[0]"
   ]
  },
  {
   "cell_type": "markdown",
   "metadata": {},
   "source": [
    "If we want the list containing the first two elements of a list, we can do this via"
   ]
  },
  {
   "cell_type": "code",
   "execution_count": 38,
   "metadata": {},
   "outputs": [
    {
     "data": {
      "text/plain": [
       "['Sunday', 'Monday']"
      ]
     },
     "execution_count": 38,
     "metadata": {},
     "output_type": "execute_result"
    }
   ],
   "source": [
    "days_of_the_week[0:2]"
   ]
  },
  {
   "cell_type": "markdown",
   "metadata": {},
   "source": [
    "or simply"
   ]
  },
  {
   "cell_type": "code",
   "execution_count": 39,
   "metadata": {},
   "outputs": [
    {
     "data": {
      "text/plain": [
       "['Sunday', 'Monday']"
      ]
     },
     "execution_count": 39,
     "metadata": {},
     "output_type": "execute_result"
    }
   ],
   "source": [
    "days_of_the_week[:2]"
   ]
  },
  {
   "cell_type": "markdown",
   "metadata": {},
   "source": [
    "Notice that the initial index is assumed to be `0`.  As with the earlier loops, the output does not include the list element corresponding to the upper limit of the slice range; that is, we don't get `days_of_the_week[2]`, which is 'Tuesday'.\n",
    "\n",
    "If we want the last items of the list, we can do this with negative slicing:"
   ]
  },
  {
   "cell_type": "code",
   "execution_count": 40,
   "metadata": {},
   "outputs": [
    {
     "data": {
      "text/plain": [
       "['Friday', 'Saturday']"
      ]
     },
     "execution_count": 40,
     "metadata": {},
     "output_type": "execute_result"
    }
   ],
   "source": [
    "days_of_the_week[-2:]"
   ]
  },
  {
   "cell_type": "markdown",
   "metadata": {},
   "source": [
    "Here, the assumed last value is `0`, so the slicing is picking out the list elements with indices `-2` and `-1` -- the second-to-last and last elements."
   ]
  },
  {
   "cell_type": "markdown",
   "metadata": {},
   "source": [
    "How do you think you would pick out just the second-to-last element of the list?  Try it by putting the appropriate text between the brackets below."
   ]
  },
  {
   "cell_type": "code",
   "execution_count": null,
   "metadata": {},
   "outputs": [],
   "source": [
    "days_of_the_week[]"
   ]
  },
  {
   "cell_type": "markdown",
   "metadata": {},
   "source": [
    "\n",
    "\n",
    "You also can do this:"
   ]
  },
  {
   "cell_type": "code",
   "execution_count": 41,
   "metadata": {},
   "outputs": [
    {
     "name": "stdout",
     "output_type": "stream",
     "text": [
      "['Monday', 'Tuesday', 'Wednesday', 'Thursday', 'Friday']\n"
     ]
    }
   ],
   "source": [
    "weekdays = days_of_the_week[1:6]\n",
    "print(weekdays)"
   ]
  },
  {
   "cell_type": "markdown",
   "metadata": {},
   "source": [
    "Since strings are sequences, you can also do this to them:"
   ]
  },
  {
   "cell_type": "code",
   "execution_count": 13,
   "metadata": {},
   "outputs": [
    {
     "name": "stdout",
     "output_type": "stream",
     "text": [
      "Sat\n"
     ]
    }
   ],
   "source": [
    "abbreviation = day[:3]\n",
    "print(abbreviation)"
   ]
  },
  {
   "cell_type": "markdown",
   "metadata": {},
   "source": [
    "(We got this result because from the earlier cell that had\n",
    "```python\n",
    "for day in days_of_the_week:\n",
    "    print(day)\n",
    "```\n",
    "the variable `day` was left with the last value in the list, 'Saturday'.)"
   ]
  },
  {
   "cell_type": "markdown",
   "metadata": {},
   "source": [
    "If we really want to get fancy, we can pass a third element into the slice, which specifies a step size (just like a third argument to the `range()` function specifies the step size):"
   ]
  },
  {
   "cell_type": "code",
   "execution_count": 9,
   "metadata": {},
   "outputs": [
    {
     "name": "stdout",
     "output_type": "stream",
     "text": [
      "['Monday', 'Wednesday', 'Friday']\n"
     ]
    }
   ],
   "source": [
    "MWFdays = days_of_the_week[1:6:2]\n",
    "print(MWFdays)"
   ]
  },
  {
   "cell_type": "markdown",
   "metadata": {},
   "source": [
    "   "
   ]
  },
  {
   "cell_type": "markdown",
   "metadata": {},
   "source": [
    "**Exercise \\#6**\n",
    "\n",
    "Write code to pick out the letters whose positions in a word are divisible by 3, using slicing.  (That is, you want to pick out the 3rd, 6th, 9th, etc. letters.)  Your code should work for a word of *any* length.  Apply it to the words 'picnic' and 'supercalifragilistic'.  (Show the results for both words in your solution.)  Remember that Python numbers lists and string elements starting with an index of `0`."
   ]
  },
  {
   "cell_type": "markdown",
   "metadata": {},
   "source": [
    "<a href='#Outline'>Back to the Top</a>"
   ]
  },
  {
   "cell_type": "markdown",
   "metadata": {},
   "source": [
    "### <font color=\"blue\">**Booleans and Truth Testing**</font>\n",
    "\n",
    "We have now learned a few data types. We have [integers and floating point numbers](#Using-Python-as-a-Calculator), [strings](#Strings-and-Printing), and [lists](#Lists) to contain them. We have also learned about lists, a container that can hold any data type. We have learned to [print](#Strings-and-Printing) things out, and to [iterate](#Loops-and-Iteration) over items in lists. \n",
    "\n",
    "We invariably need some concept of *conditions* in programming to control \"branching behavior\"; i.e., to allow a program to react differently to different situations.  For instance, if it's Monday I'll go to work, but if it's Sunday I'll sleep in.  To do this in Python, we use a combination of **boolean** variables -- a new type of variable that evaluates to either `True` or `False` -- and **`if`** statements that control branching based on boolean values."
   ]
  },
  {
   "cell_type": "markdown",
   "metadata": {},
   "source": [
    "For example:"
   ]
  },
  {
   "cell_type": "code",
   "execution_count": 10,
   "metadata": {},
   "outputs": [
    {
     "name": "stdout",
     "output_type": "stream",
     "text": [
      "Go to work\n"
     ]
    }
   ],
   "source": [
    "if day == \"Monday\":\n",
    "    print(\"Sleep in\")\n",
    "else:\n",
    "    print(\"Go to work\")"
   ]
  },
  {
   "cell_type": "markdown",
   "metadata": {},
   "source": [
    " "
   ]
  },
  {
   "cell_type": "markdown",
   "metadata": {},
   "source": [
    "<font color=\"green\"><b>Breakpoint 2</b></font>: Why did the code snippet print \"Go to work\" here? What is the variable \"day\" set to?  Try to answer before continuing.\n",
    "\n",
    " "
   ]
  },
  {
   "cell_type": "markdown",
   "metadata": {},
   "source": [
    "   "
   ]
  },
  {
   "cell_type": "markdown",
   "metadata": {},
   "source": [
    "Let's take the snippet apart to see what happened. First, note the statement"
   ]
  },
  {
   "cell_type": "code",
   "execution_count": 14,
   "metadata": {},
   "outputs": [
    {
     "data": {
      "text/plain": [
       "False"
      ]
     },
     "execution_count": 14,
     "metadata": {},
     "output_type": "execute_result"
    }
   ],
   "source": [
    "day == \"Sunday\""
   ]
  },
  {
   "cell_type": "markdown",
   "metadata": {},
   "source": [
    "When we evaluate it by itself (run the cell above), we see that it returns a boolean value, `False`. The \"==\" operator performs **equality testing**. If the two items are equal, it returns `True`, otherwise it returns `False`. In this case, it is comparing two variables, the string \"Sunday\", and whatever is stored in the variable `day`, which, in this case, is the string \"Saturday\" to which `day` was set in a previous code cell. Since the two strings are not equal to each other, the truth test has the `False` value.\n",
    "\n",
    "Be careful when writing `if` statements: if you use a single \"=\" sign, as in\n",
    "\n",
    "    if day = \"Sunday\":\n",
    "\n",
    "then you will be *defining* \"day\" as \"Sunday\", rather than *checking* if that's its value. "
   ]
  },
  {
   "cell_type": "markdown",
   "metadata": {},
   "source": [
    "The `if` statement that contains the truth test is followed by a code block (a colon followed by an indented block of code). If the boolean is `True`, it executes the code in that block. Since it is `False` in the above example, we don't see that code executed.\n",
    "\n",
    "The first block of code is followed by an **`else`** statement, which is executed if the `if` statement is not true. Since the value was `False`, this `else` code is executed, which is why we see \"Go to work\".  "
   ]
  },
  {
   "cell_type": "markdown",
   "metadata": {},
   "source": [
    "You can compare any two data types in Python:"
   ]
  },
  {
   "cell_type": "code",
   "execution_count": null,
   "metadata": {},
   "outputs": [],
   "source": [
    "1 == 2"
   ]
  },
  {
   "cell_type": "code",
   "execution_count": null,
   "metadata": {},
   "outputs": [],
   "source": [
    "50 == 2*25"
   ]
  },
  {
   "cell_type": "code",
   "execution_count": null,
   "metadata": {},
   "outputs": [],
   "source": [
    "3 < 3.14159"
   ]
  },
  {
   "cell_type": "code",
   "execution_count": null,
   "metadata": {},
   "outputs": [],
   "source": [
    "1 == 1.0"
   ]
  },
  {
   "cell_type": "code",
   "execution_count": null,
   "metadata": {},
   "outputs": [],
   "source": [
    "1 != 0"
   ]
  },
  {
   "cell_type": "code",
   "execution_count": null,
   "metadata": {},
   "outputs": [],
   "source": [
    "1 <= 2"
   ]
  },
  {
   "cell_type": "code",
   "execution_count": null,
   "metadata": {},
   "outputs": [],
   "source": [
    "1 >= 1"
   ]
  },
  {
   "cell_type": "markdown",
   "metadata": {},
   "source": [
    "We see a few other boolean operators here, all of which which should be self-explanatory: less than (`<`), equality (`==`), non-equality (`!=`), and so on.\n",
    "\n",
    "Particularly interesting is the 1 == 1.0 test, which is true, since even though the two objects are different data types (integer and floating point number), they have the same *value*. There is another boolean operator, **`is`**, that tests whether two objects are the same object:"
   ]
  },
  {
   "cell_type": "code",
   "execution_count": 44,
   "metadata": {},
   "outputs": [
    {
     "data": {
      "text/plain": [
       "False"
      ]
     },
     "execution_count": 44,
     "metadata": {},
     "output_type": "execute_result"
    }
   ],
   "source": [
    "1 is 1.0"
   ]
  },
  {
   "cell_type": "markdown",
   "metadata": {},
   "source": [
    "We can do boolean tests on lists as well:"
   ]
  },
  {
   "cell_type": "code",
   "execution_count": 15,
   "metadata": {},
   "outputs": [
    {
     "data": {
      "text/plain": [
       "False"
      ]
     },
     "execution_count": 15,
     "metadata": {},
     "output_type": "execute_result"
    }
   ],
   "source": [
    "[1,2,3] == [1,2,4]"
   ]
  },
  {
   "cell_type": "markdown",
   "metadata": {},
   "source": [
    "Finally, note that you can also string multiple comparisons together, which can result in very intuitive tests:"
   ]
  },
  {
   "cell_type": "code",
   "execution_count": 47,
   "metadata": {},
   "outputs": [
    {
     "data": {
      "text/plain": [
       "True"
      ]
     },
     "execution_count": 47,
     "metadata": {},
     "output_type": "execute_result"
    }
   ],
   "source": [
    "hours = 5\n",
    "0 < hours < 24"
   ]
  },
  {
   "cell_type": "markdown",
   "metadata": {},
   "source": [
    "`If` statements can have **`elif`** (\"else if\") parts, in addition to if/else parts. For example:"
   ]
  },
  {
   "cell_type": "code",
   "execution_count": 48,
   "metadata": {},
   "outputs": [
    {
     "name": "stdout",
     "output_type": "stream",
     "text": [
      "Go to work\n"
     ]
    }
   ],
   "source": [
    "day = \"Tuesday\"\n",
    "if day == \"Sunday\":\n",
    "    print(\"Sleep in\")\n",
    "elif day == \"Saturday\":\n",
    "    print(\"Do chores\")\n",
    "else:\n",
    "    print(\"Go to work\")"
   ]
  },
  {
   "cell_type": "markdown",
   "metadata": {},
   "source": [
    "Note that each of the parts, `if`, `elif`, and `else` is in a separate line that ends with a colon, and that the code to be executed in each case is tab-indented in a block below the `if`, `elif`, and `else` lines.  Also note that you can have just `if` and `else`, or just `if` and `elif` parts.  (In the latter case, if neither the `if` nor `elif` conditions are met, the `if`-`elif` block has no effect.)\n",
    "\n",
    "Multiple conditions can be checked using a structure like the one shown below, with as many `elif` blocks as needed  \n",
    "\n",
    "```python\n",
    "if condition1:\n",
    "   block1\n",
    "elif condition2:\n",
    "   block2\n",
    "elif condition3:\n",
    "   block3\n",
    "else\n",
    "   elseblock\n",
    "```\n",
    "\n",
    "We can combine `if` statements with `for` loops, to make a snippet that is almost interesting:"
   ]
  },
  {
   "cell_type": "code",
   "execution_count": 49,
   "metadata": {},
   "outputs": [
    {
     "name": "stdout",
     "output_type": "stream",
     "text": [
      "Today is Sunday\n",
      "   Sleep in\n",
      "Today is Monday\n",
      "   Go to work\n",
      "Today is Tuesday\n",
      "   Go to work\n",
      "Today is Wednesday\n",
      "   Go to work\n",
      "Today is Thursday\n",
      "   Go to work\n",
      "Today is Friday\n",
      "   Go to work\n",
      "Today is Saturday\n",
      "   Do chores\n"
     ]
    }
   ],
   "source": [
    "for day in days_of_the_week:\n",
    "    statement = \"Today is \" + day\n",
    "    print(statement)\n",
    "    if day == \"Sunday\":\n",
    "        print(\"   Sleep in\")\n",
    "    elif day == \"Saturday\":\n",
    "        print(\"   Do chores\")\n",
    "    else:\n",
    "        print(\"   Go to work\")"
   ]
  },
  {
   "cell_type": "markdown",
   "metadata": {},
   "source": [
    "   "
   ]
  },
  {
   "cell_type": "markdown",
   "metadata": {},
   "source": [
    "**Exercise \\#7**\n",
    "\n",
    "Write code to pick out the letters in a word whose positions are divisible by 3, using a loop and *no slicing*.  It should work for any word, but you should apply it to 'picnic' and 'supercalifragilistic' to test it."
   ]
  },
  {
   "cell_type": "markdown",
   "metadata": {},
   "source": [
    "<a href='#Outline'>Back to the Top</a>"
   ]
  },
  {
   "cell_type": "markdown",
   "metadata": {},
   "source": [
    " "
   ]
  },
  {
   "cell_type": "markdown",
   "metadata": {},
   "source": [
    "### <font color=\"blue\">**Recap**</font>\n",
    "\n",
    "* The first and last parts of a debugging message generally are most helpful for identifying the problem.  \n",
    "\n",
    "\n",
    "* Python can be used as a calculator.  Remember to use `**` rather than `^` to raise to a power.  (More advanced math functions can be found in the `math` and `numpy` libraries.)  \n",
    "\n",
    "\n",
    "* Python has several different types of quantities for storing information, including integers, floats, characters, strings, and lists.  A variable of one type can be changed to another by \"typecasting.\"\n",
    "\n",
    "\n",
    "* Formatting strings can be used to fine tune the output of `print` statements.\n",
    "\n",
    "\n",
    "* List elements are enclosed in square brackets, \\[ \\].  List indices start at 0, and elements can be selected by \"slicing\" the list.  \n",
    "\n",
    "\n",
    "* The Boolean values `True` and `False` result from comparing two quantities.  They also can be used to test values, e.g. in `if` statements.\n",
    "\n",
    "\n",
    "* Arguments to functions, e.g. the print function, are enclosed in parentheses ( ).  \n",
    "\n",
    "\n",
    "* Python has two types of loops: `for` loops and `while` loops.  Use a `for` loop when you know how many repetitions you want the loop to run through.  Use a `while` loop when the number of repetitions depends on some condition being met.  (Make sure to initialize and increment the counter for a `while` loop.)  \n",
    "\n",
    "\n",
    "* When code has to do different things depending on different conditions, you can use `if-elif-else` statements."
   ]
  },
  {
   "cell_type": "markdown",
   "metadata": {},
   "source": [
    "  "
   ]
  },
  {
   "cell_type": "markdown",
   "metadata": {},
   "source": [
    "### Breakpoint Answers\n",
    "\n",
    "**Breakpoint 1**: 'Friday'\n",
    "\n",
    "**Breakpoint 2**: `day` was set to `'Saturday'` by an earlier block of code.  Therefore, the line that reads `if day == \"Monday\"` produces the result `False`, and the first `print` statement is not executed.  The code skips to the `else` line, which results in the second `print` statement being performed."
   ]
  },
  {
   "cell_type": "markdown",
   "metadata": {},
   "source": [
    "<a href='#Outline'>Back to the Top</a>"
   ]
  },
  {
   "cell_type": "markdown",
   "metadata": {},
   "source": [
    " "
   ]
  },
  {
   "cell_type": "markdown",
   "metadata": {},
   "source": [
    "<font size=\"5pt\">**End of Part 1**"
   ]
  }
 ],
 "metadata": {
  "kernelspec": {
   "display_name": "Python 3",
   "language": "python",
   "name": "python3"
  },
  "language_info": {
   "codemirror_mode": {
    "name": "ipython",
    "version": 3
   },
   "file_extension": ".py",
   "mimetype": "text/x-python",
   "name": "python",
   "nbconvert_exporter": "python",
   "pygments_lexer": "ipython3",
   "version": "3.6.1"
  }
 },
 "nbformat": 4,
 "nbformat_minor": 1
}
