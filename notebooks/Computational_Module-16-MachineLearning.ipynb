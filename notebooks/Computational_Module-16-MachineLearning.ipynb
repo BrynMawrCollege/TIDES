{
 "cells": [
  {
   "cell_type": "markdown",
   "metadata": {},
   "source": [
    "# <font face=\"times\"><font size=\"6pt\"><p style = 'text-align: center;'> BRYN MAWR COLLEGE\n",
    "\n",
    "<font size=\"6pt\"><p style = 'text-align: center;'><b><font face=\"times\">Computational Methods in the Physical Sciences</b><br/><br/>\n",
    "\n",
    "<p style = 'text-align: center;'><b><font face=\"times\">Module 16:  Machine Learning</b><br/><br/>\n",
    "\n",
    "<p style = 'text-align: center;'><font size=\"3pt\"><font face=\"times\"> Adapted from </br> \n",
    "<a href=\"https://neuralnetworksanddeeplearning.com/index.html\"/><em>Neural Networks and Deep Learning</em></a>, Michael Nielsen</p>"
   ]
  },
  {
   "cell_type": "markdown",
   "metadata": {},
   "source": [
    " ***Prerequisite modules***: Module 1\n",
    "\n",
    "***Estimated completion time***: 6-8 hours  \n",
    "\n",
    "***Learning objectives***: Learn the basic structure of neural networks, and become familiar with the main Python libraries for working with them."
   ]
  },
  {
   "cell_type": "markdown",
   "metadata": {},
   "source": [
    "   "
   ]
  },
  {
   "cell_type": "markdown",
   "metadata": {},
   "source": [
    "<img src=\"./Images/neural_network_xkcd.png\" width=\"250\" height=\"210\"/>"
   ]
  },
  {
   "cell_type": "markdown",
   "metadata": {},
   "source": [
    "<center>(Image credit: https://xkcd.com/2173)</center>"
   ]
  },
  {
   "cell_type": "markdown",
   "metadata": {},
   "source": [
    "  "
   ]
  },
  {
   "cell_type": "markdown",
   "metadata": {},
   "source": [
    "### <font color = \"blue\"> Introduction </font>\n",
    "\n",
    "Artificial intelligence (AI), machine learning (ML), and deep learning are hot \"buzz words\" these days, but what do they mean?  It's not clear that there are universally agreed-upon definitions for these terms, but according to the Columbia University engineering department (https://ai.engineering.columbia.edu/ai-vs-machine-learning/), \"...artificial intelligence refers to the general ability of computers to emulate human thought and perform tasks in real-world environments, while machine learning refers to the technologies and algorithms that enable systems to identify patterns, make decisions, and improve themselves through experience and data.\"  That is, machine learning learning systems can learn on their own, without being programmed explicitly to do so.  Finally, \"Deep learning, an advanced method of machine learning, goes a step further. Deep learning models use large neural networks — networks that function like a human brain to logically analyze data — to learn complex patterns and make predictions independent of human input.\"\n",
    "\n",
    "Machine learning systems are effective at a number of tasks (from https://learn.microsoft.com/en-us/dotnet/machine-learning/resources/tasks): ***classification*** of examples into two or more categories; ***regression***, in which some characteristic of a set of data is predicted from other characteristics; ***clustering***, or grouping similar entities together; ***anomaly detection***, finding outliers among data or events; ***ranking***, or sorting of data by relevance, e.g. Google search results; ***recommendations***, e.g. of Amazon items based on previous purchases; ***forecasting***, e.g. of stock values from previous performance; ***object detection*** in images; and others.\n",
    "\n",
    "This module will focus on artificial neural networks, which are able to perform processing tasks that are very difficult using traditional programming methods.  This module will present the basics of neural networks, introduce the main Python libraries (\"PyTorch,\" \"TensorFlow\" & \"Keras\", and \"scikit-learn\") for constructing them, and illustrate their use with a standard example.  The online text by Michael Nielsen, https://neuralnetworksanddeeplearning.com/index.html, provides a very clear discussion of neural networks in much more detail and greater breadth than this module.  It also provides Python code using simple functions for creating a neural network that identifies handwritten digits.  That code does not use the libraries mentioned above, which are designed to streamline the process of neural network construction, leading to code that is more compact and simpler.  \n",
    "\n",
    "There are two broad categories of approaches to AI: ***symbolic reasoning*** (\"top-down\"), based on the processing of symbols according to specified rules, and ***connectionist*** (\"bottom-up\") systems that mimic the structure of brains.  Neural networks are the prime example of a connectionist system.  (Other approaches to AI are described here: <a href=\"https://www.dummies.com/article/technology/information-technology/ai/general-ai/5-main-approaches-ai-learning-254207/\">Artificial Intelligence for Dummies</a>.)  An authoritative text on deep learning using the connectionist approach is available (freely) in electronic form at https://www.deeplearningbook.org/.\n",
    "\n",
    "(For a nice discussion of the two main approaches to AI, check out the podcast <a href=\"https://www.npr.org/podcasts/452538775/on-the-media\">\"It's a Machine's World\"</a> starting at the 16:30 mark.  That segment features one of the pioneers in the development of neural networks, Geoffrey Hinton. The \"vectors\" he refers to are the sets of \"weights\" discussed below.)"
   ]
  },
  {
   "cell_type": "markdown",
   "metadata": {},
   "source": [
    "  "
   ]
  },
  {
   "cell_type": "markdown",
   "metadata": {},
   "source": [
    "### <font color=\"blue\">Scientist Profile</font>\n",
    "\n",
    "**Alan Turing** was a British scientist who is most well known for cracking the Germans' \"Enigma machine,\" thereby significantly contributing to the Allies’ victory in World War II, and for proposing the \"Turing test\" for determining whether a computer's \"thinking\" is indistinguishable from that of a human.  He is now considered the father of modern computer science because of his work both during and after the war.  After the Allies' victory, Turing worked at the National Physical Laboratory in London on the first stored-program computer, and he used his work there for other projects.  Arguably the most interesting of his side projects was his work in morphogenesis and his discovery of Turing Patterns.  He discovered several recurring biological patterns in nature using math and his new computer to model them.  Unfortunately, this was one of his final projects before his death in 1954.  Two years earlier he was convicted of indecency, the charge that came with being gay in England at the time, and was put on corrective hormones as punishment.  This led to a downward spiral for Turing that ended in his suicide at the young age of 41.  Despite his short life, he made important contributions to many fields, including computer science, cryptology, physics, chemistry, and biology."
   ]
  },
  {
   "cell_type": "markdown",
   "metadata": {},
   "source": [
    "<img src = './Images/Alan_Turing.jpg'  width=200>"
   ]
  },
  {
   "cell_type": "markdown",
   "metadata": {},
   "source": [
    "<center>(Image credit: National Physical Laboratory Archives, U.K., https://www.npl.co.uk/famous/alan-turing)</center>"
   ]
  },
  {
   "cell_type": "markdown",
   "metadata": {},
   "source": [
    "  "
   ]
  },
  {
   "cell_type": "markdown",
   "metadata": {},
   "source": [
    "## <font color=\"blue\">16.1 Basics of Neural Networks</font>\n",
    "\n",
    "### <font color=\"blue\">16.1.1 What is a neural network?</font>\n",
    "\n",
    "An (***artificial***) ***neural network*** (**NN**, sometimes **ANN**) is a simplified model of a biological brain consisting of simulated ***neurons*** arranged in ***layers*** and tied together via ***connections***.  Neurons in NNs can be thought of as simple computing units that take an input and produce an output.  There are different models for NNs based on the way they learn.  The one discussed here is an example of a type called a (multi-layer) ***perceptron*** network.\n",
    "\n",
    "Figure 1 shows the simplest example of a multi-layer NN, involving an ***input layer***, an ***output layer***, and a ***hidden layer*** between them.  (Modern NNs often use more than one hidden layer.  Simple tasks -- e.g., modeling logic gates acting on binary inputs -- can be performed by networks with no hidden layers.)  The figure depicts a ***feedforward*** network, in which data flows left to right from the input layer to the hidden layer(s) to the output layer, but not in the opposite direction.  This is the type of network that will be presented in this module.\n",
    "\n",
    "Two other commonly used types of network are ***convolutional neural networks***, similar to feedforward networks and used primarily for computer vision applications, and ***recurrent neural networks***, which more closely mimic the operation of biological brains.  They allow backward-flowing data and are useful for analyzing time series information such as daily stock values.  There are many other types of neural network, but this module will focus on just feedforward networks.  (The Wikipedia page titled \"Types of artificial neural networks\" has more information.)\n",
    "\n",
    "The connections between the neurons in a network, shown by the arrows in Figure 1, can have different strengths, represented by the thickness of the arrows.  The strengths affect how strongly the output of a neuron affects the state of a neuron (to its right) to which it's connected.  Note that each neuron in a given layer (apart from the output layer) is connected to *every* neuron in the next layer to its right.  Also keep in mind that the layers often are *two-dimensional*, but such 2-D arrays always can be rearranged into 1-D columns, as depicted in the figure.  The connection weights are where information is stored in a NN."
   ]
  },
  {
   "cell_type": "markdown",
   "metadata": {},
   "source": [
    "<img src = './Images/Neural_network.png'  width=200>"
   ]
  },
  {
   "cell_type": "markdown",
   "metadata": {},
   "source": [
    "#### <center>Figure 1: Simple neural network</center> \n",
    "\n",
    "<center>(Image credit: By User:Wiso - from en:Image:Neural network example.svg, vetorialization of en:Image:Neural network example.png, Public Domain, https://commons.wikimedia.org/w/index.php?curid=5084582 )</center>"
   ]
  },
  {
   "cell_type": "markdown",
   "metadata": {},
   "source": [
    "  "
   ]
  },
  {
   "cell_type": "markdown",
   "metadata": {},
   "source": [
    "A standard example of what such a NN can be used for is ***digit classification***: identifying what digit from 0 through 9 a given handwritten digit corresponds to.  In that case, the input layer would be a 2-D array of neurons, whose values would be the grayscale values (say, between 0, representing black, and 1, representing white) of the pixels in a 2-D image of the digit.  You can see examples of such images below in this notebook.  \n",
    "\n",
    "The output layer of the network would be a set of ten neurons: activation of the first one would represent an identification of the handwritten number as $0$, activation of the second one would represent $1$, and so on.  Ideally, only one output neuron would be activated -- i.e., have a value greater than zero -- for a given input, with all other output neurons having values of zero.  In actual networks many or all of the output neurons may have values other than zero, but the output of the \"desired\" neuron will be significantly greater than the outputs of the others.   "
   ]
  },
  {
   "cell_type": "markdown",
   "metadata": {},
   "source": [
    "At this point, you might want to watch this YouTube video <a href=\"https://www.youtube.com/watch?v=aircAruvnKk&list=PLZHQObOWTQDNU6R1_67000Dx_ZCJB-3pi\">3Blue1Brown: But what is a neural network? | Chapter 1</a> if it's available.  It will give a preview of the next section, with nice animations.  (Note that there's some content after the credits.)"
   ]
  },
  {
   "cell_type": "markdown",
   "metadata": {},
   "source": [
    "### <font color=\"blue\">16.1.2 Neuron Inputs and Outputs</font>\n",
    "\n",
    "Those grayscale values of the input neurons will provide input values for *each* of the neurons in the next layer, but not directly. As mentioned above, each input neuron's output is modified by a connection strength, or ***weight***, between that neuron and one in the next layer.  (These weights model the strength of the interactions between neurons in biological brains.)  \n",
    "\n",
    "Let's denote the weight for the connection between the $i^{\\textrm{th}}$ input neuron and the $j^{\\textrm{th}}$ neuron in the next layer by $w_{ji}$.  Then, labeling the output of the $i^{\\textrm{th}}$ neuron in the input layer by $x_i$, the total input to the $j^{\\textrm{th}}$ neuron (call the total input $y_j$) in the next layer is the ***weighted sum*** of the individual inputs from the neurons in the input layer:\n",
    "\n",
    "$$y_j = \\sum_i w_{ji} x_i .  \\hspace{10em}  [1]$$\n",
    "\n",
    "The input from the $i^{\\textrm{th}}$ neuron is *weighted* by its connection weight.  Clearly, a neuron in the input layer that has a stronger connection to a neuron in the next layer will have more influence over that neuron's \"activation.\"\n",
    "\n",
    "Note that the expression in [1] can be interpreted as a weight *matrix* multiplying a *column vector* of $x_i$ values, which produces a *column vector* of $y_j$ values.  (In general, the weight matrix will not be square, since the number of neurons in the two layers won't be equal.)"
   ]
  },
  {
   "cell_type": "markdown",
   "metadata": {},
   "source": [
    "#### <font color=\"blue\">Activation Functions</font>\n",
    "\n",
    "What, then, is the *output* of the $j^{\\textrm{th}}$ neuron?  It is determined by an ***activation function*** representing the internal behavior of the neuron.  Two activation functions that are commonly used for simple applications are:\n",
    "\n",
    "- The ***logistic*** function, often called the ***sigmoid*** function (which actually refers to a *group* of \"s\"-shaped functions), generally used in networks with few hidden layers: \n",
    "\n",
    "$$S(x) = \\frac{1}{1 + e^{-x}}.  \\hspace{9.5em}  [2]$$\n",
    "\n",
    "Execute the next two code cells to see a plot of the sigmoid function."
   ]
  },
  {
   "cell_type": "code",
   "execution_count": 1,
   "metadata": {},
   "outputs": [
    {
     "data": {
      "text/html": [
       "\n",
       "<style>\n",
       ".output_png {display: table-cell; text-align: center; vertical-align: middle;}\n",
       "</style>\n"
      ],
      "text/plain": [
       "<IPython.core.display.HTML object>"
      ]
     },
     "execution_count": 1,
     "metadata": {},
     "output_type": "execute_result"
    }
   ],
   "source": [
    "# CODE FOR CENTERING PLOTS\n",
    "from IPython.core.display import HTML\n",
    "HTML(\"\"\"\n",
    "<style>\n",
    ".output_png {display: table-cell; text-align: center; vertical-align: middle;}\n",
    "</style>\n",
    "\"\"\")"
   ]
  },
  {
   "cell_type": "code",
   "execution_count": 2,
   "metadata": {},
   "outputs": [
    {
     "data": {
      "text/plain": [
       "Text(0, 0.5, 'S(x)')"
      ]
     },
     "execution_count": 2,
     "metadata": {},
     "output_type": "execute_result"
    },
    {
     "data": {
      "image/png": "[encoded data removed]",
      "text/plain": [
       "<Figure size 500x250 with 1 Axes>"
      ]
     },
     "metadata": {},
     "output_type": "display_data"
    }
   ],
   "source": [
    "%matplotlib inline\n",
    "import matplotlib.pyplot as plt\n",
    "from numpy import arange, exp\n",
    "\n",
    "x = arange(-10,11,0.5)\n",
    "y = 1 / (1 + exp(-x))\n",
    "\n",
    "fig1 = plt.figure(figsize=[5,2.5])\n",
    "plt.plot(x,y)\n",
    "plt.title(\"Sigmoid Function\")\n",
    "plt.xlabel(\"x\")\n",
    "plt.ylabel(\"S(x)\")"
   ]
  },
  {
   "cell_type": "markdown",
   "metadata": {},
   "source": [
    "  "
   ]
  },
  {
   "cell_type": "markdown",
   "metadata": {},
   "source": [
    "The benefits of the sigmoid function are: (i) its output lies between $0$ and $1$, and (ii) its derivative has a simple form (and therefore is relatively quick to compute):\n",
    "\n",
    "$$S'(x) = \\frac{dS(x)}{dx} = S(x) \\, [1 - S(x)].  \\hspace{6em}  [3]$$"
   ]
  },
  {
   "cell_type": "markdown",
   "metadata": {},
   "source": [
    "  "
   ]
  },
  {
   "cell_type": "markdown",
   "metadata": {},
   "source": [
    "\n",
    "- The ***ReLU*** (Rectified Linear Unit) function, often used in deep learning networks: \n",
    "\n",
    "$$f(x) = \\textrm{max(0, x)} = \n",
    "\\begin{cases}\n",
    "  0, & x \\le 0 \\\\\n",
    "  x, & x > 0.\n",
    "\\end{cases}\n",
    "\\hspace{5em}  [4]$$\n",
    "\n",
    "Execute the next code cell to see a plot of ReLU."
   ]
  },
  {
   "cell_type": "code",
   "execution_count": 3,
   "metadata": {},
   "outputs": [
    {
     "data": {
      "text/plain": [
       "Text(0, 0.5, 'ReLU(x)')"
      ]
     },
     "execution_count": 3,
     "metadata": {},
     "output_type": "execute_result"
    },
    {
     "data": {
      "image/png": "[encoded data removed]",
      "text/plain": [
       "<Figure size 500x250 with 1 Axes>"
      ]
     },
     "metadata": {},
     "output_type": "display_data"
    }
   ],
   "source": [
    "x = [-5,-4,-3,-2,-1,0,1,2, 3, 4, 5]\n",
    "y = []\n",
    "  \n",
    "for i in range(len(x)):\n",
    "    y.append(max(0,x[i]))\n",
    "  \n",
    "fig2 = plt.figure(figsize=[5,2.5])\n",
    "plt.plot(x, y, color='green') \n",
    "plt.xlabel('x') \n",
    "plt.ylabel('y') \n",
    "plt.title(\"ReLU Function\")\n",
    "plt.xlabel(\"x\")\n",
    "plt.ylabel(\"ReLU(x)\")"
   ]
  },
  {
   "cell_type": "markdown",
   "metadata": {},
   "source": [
    "Note that the ReLU function's derivative,\n",
    "\n",
    "$$\\frac{df(x)}{dx} = \n",
    "\\begin{cases}\n",
    "  0, & x \\le 0 \\\\\n",
    "  1, & x > 0,\n",
    "\\end{cases}  \\hspace{9em}  [5]$$\n",
    "\n",
    "which is just a ***step function***, is even simpler than that of the sigmoid function, and therefore quicker to use in computations.  \n",
    "\n",
    "The simplicity of the two derivatives is important in connection with how the network \"learns.\"  Since deep learning networks can have many layers with many neurons in each, and since the derivative of the activation function will be used in multiple cycles (maybe thousands, or even more) of the learning procedure, speed of computation is an important consideration.  (For the same reason, sometimes $\\tanh(x)$ is used as the activation function.)"
   ]
  },
  {
   "cell_type": "markdown",
   "metadata": {},
   "source": [
    "Our model will use the ReLU activation function for the neurons in the hidden layers, but it turns out that neither the ReLU nor the sigmoid activation function is optimal for the output layer in this digit classification problem.  Instead, our NN will use what the PyTorch package calls the **`LogSoftmax`** activation function, defined in terms of the ***Softmax*** function, $\\sigma(x_i)$, as follows:\n",
    "\n",
    "$$ \\sigma(x_i) \\equiv \\frac{\\exp(x_i)}{\\sum_j \\exp(x_j)},  \\hspace{12em} [6]$$\n",
    "$$ \\textrm{LogSoftmax}(x_i) \\equiv \\log \\left( \\sigma(x_i) \\right) = \\log \\left( \\frac{\\exp(x_i)}{\\sum_j \\exp(x_j)} \\right),  \\hspace{1em} [7]$$\n",
    "\n",
    "where the $x_j$ are the inputs to the output layer.  The Softmax function is a generalization of the sigmoid function appropriate for vectors of inputs rather than single inputs.  Note that because of the normalizing sum in the denominator, the value of $\\sigma(x_i)$ will lie between $0$ and $1$.  Furthermore, $\\sum_i \\sigma(x_i) = 1$, so that the terms on the right of [6] can be interpreted as probabilities. "
   ]
  },
  {
   "cell_type": "markdown",
   "metadata": {},
   "source": [
    "  "
   ]
  },
  {
   "cell_type": "markdown",
   "metadata": {},
   "source": [
    "<font color=\"green\"><b>Breakpoint 1</b></font>: Confirm expression [3] for $S'(x)$."
   ]
  },
  {
   "cell_type": "markdown",
   "metadata": {},
   "source": [
    "  "
   ]
  },
  {
   "cell_type": "markdown",
   "metadata": {},
   "source": [
    "There's one more piece to the standard NN model: each neuron (after the input layer) has a ***bias***, which acts as a threshold for its activation.  Denoting the bias for the $j^{\\textrm{th}}$ neuron in a layer as $b_j$ then, with $y_j$ (as given in [1]) the *input* to the $j^{\\textrm{th}}$ neuron, its *output* would be\n",
    "\n",
    "$$\\tilde{y}_j = F(y_j +b_j) = F \\left( \\sum_i w_{ji} x_i + b_j \\right),  \\hspace{4em}  [8]$$\n",
    "\n",
    "where $F$ is either the sigmoid function or the ReLU function (or, in certain applications, possibly another function).  This form implies that the output of the neuron with a ReLU activation function will be non-zero only if $\\sum_i w_{ji} x_i + b_j > 0$, or $\\sum_i w_{ji} x_i > -b_j$ (so, actually, $-b_j$, not $b_j$, is a threshold which the weighted sum of inputs must overcome to produce a nonzero output).  The bias effectively shifts the activation functions to the right or left in the plots above, depending on whether it is positive or negative.  (Note that a bias can be considered as another weight multiplying a fixed activation $x = 1$, so biases usually are included together with the weights in combined weight-bias vectors.)"
   ]
  },
  {
   "cell_type": "markdown",
   "metadata": {},
   "source": [
    "This process is continued layer by layer through the network from the input layer to the output layer: the inputs to the neurons of each  new layer in the sequence are the weighted sums of the outputs from the neurons of the previous layer, as in [1], and the outputs of the neurons in the new layer are computed from that weighted sum and the biases using an activation function, as in [8].  "
   ]
  },
  {
   "cell_type": "markdown",
   "metadata": {},
   "source": [
    "It might be helpful to think of the NN as implementing a function that's an approximation to a desired one.  (In fact, there's a ***universal approximation theorem*** that says that under broad conditions a feedforward network can approximate almost any function one is likely to deal with.)  A simple example would be a network that seeks a linear best fit to a set of data.  The network in that case is trying to determine the optimal values for the relevant adjustable parameters -- the slope and y-intercept -- to best fit the data.  Of course, if the data doesn't all lie on a single line, the linear best fit will not exactly match all of the data points. \n",
    "\n",
    "In the digit classification case, the desired function would match each input image showing a digit to a unique activated neuron in the output layer.  In this case, the adjustable parameters are the weights and biases.  In a neural network, the approximate function implemented by the network will result in multiple neurons in the output layer being activated, but with one neuron activated significantly more than the others.  (This is the analogue of the linear fit not passing through all data points if they don't lie on a line.)"
   ]
  },
  {
   "cell_type": "markdown",
   "metadata": {},
   "source": [
    "This would be a good time to watch the next video in the 3Blue1Brown series: <a href=\"https://www.youtube.com/watch?v=IHZwWFHWa-w&list=PLZHQObOWTQDNU6R1_67000Dx_ZCJB-3pi&index=2\">3Blue1Brown: Gradient descent - how neural networks learn | Chapter 2</a>, which previews the next section."
   ]
  },
  {
   "cell_type": "markdown",
   "metadata": {},
   "source": [
    "### <font color=\"blue\">16.1.3 The Learning Process</font>\n",
    "\n",
    "So how does a NN learn?  By changing its weights and biases!  \n",
    "\n",
    "The changes to be made are determined by providing ***training*** data sets to the network, for which the desired result is known.  For example, in the digit classification problem we would provide lots of images of handwritten \"$0$\"s, and compare the network's output with the desired output -- only the output neuron corresponding to $0$ being activated.  Then we do similarly for \"$1$\"s, \"$2$\"s, and so on, up through \"$9$\"s.  (The use of training data to help \"teach\" the model marks digit classification as an example of a ***supervised learning*** problem.  In other machine learning tasks, networks can learn for themselves what the important features of a data set are without having to be trained by a separate data set.)\n",
    "\n",
    "We next introduce something called the ***loss function*** (sometimes ***cost function*** or ***objective function***), which measures the difference between the network's *actual* outputs for the training inputs and the *desired* outputs.  The weights and biases then are modified so as to *minimize the loss function*.\n",
    "\n",
    "To be rigorous, let's introduce the following notation: $z$ is a training input, $y(z)$ is the *desired* output for that input (i.e., the vector of outputs of the neurons in the output layer), $a$ is the actual output (also a vector), and $W$ and $B$ are the *sets* of weights and biases in the network, respectively.  Then, one example of a loss function $C$, considered as a function of the weights and biases, is \n",
    "\n",
    "$$C(W, B) = \\frac{1}{N} \\sum_z \\| y(z) - a \\|^2,  \\hspace{7em} [9]$$\n",
    "\n",
    "where $N$ is the number of training inputs, the sum is over all the training inputs, and the $\\|$ symbol indicates the vector norm of the value $y(z) - a$, since both terms are vectors.  \n",
    "\n",
    "The $1/N$ factor multiplying the sum means that we're finding an average value of the squared quantity.  Note that this average of squared differences is essentially the (***population***) ***variance*** from statistics, which you might have seen in statistical mechanics or quantum mechanics.  This example loss function is easy to understand and may be familiar, but it is not always the best choice.  \n",
    "\n",
    "> **Note:** Constructing the most effective neural network for a particular task generally involves quite a bit of trial and error with different loss and activation functions until one finds a combination that provides the desired accuracy when the network is run on test inputs.  It's as much art as science."
   ]
  },
  {
   "cell_type": "markdown",
   "metadata": {},
   "source": [
    "Now you might want to look at the next video in the 3Blue1Brown series: <a href=\"https://www.youtube.com/watch?v=Ilg3gGewQ5U&list=PLZHQObOWTQDNU6R1_67000Dx_ZCJB-3pi&index=3\"> 3Blue1Brown: What is backpropagation really doing? | Chapter 3</a>."
   ]
  },
  {
   "cell_type": "markdown",
   "metadata": {},
   "source": [
    "#### <font color=\"blue\">Backpropagation and Stochastic Gradient Descent</font>\n",
    "\n",
    "Because $C$ is a function of (a large number of) weights and biases, we can imagine it as defining a surface in some very high-dimensional space whose coordinate axes are the various weights and biases.  Ideally, we'd like to find the ***global minimum*** -- the lowest value of the function, corresponding to the lowest \"valley\" in the surface.  The coordinates of the point in that multidimensional space corresponding to that lowest function value would be the values of the weights and biases that minimize the loss function.  \n",
    "\n",
    "We know from calculus that to find the minimum of a function of one variable, $f(x)$, we just take the derivative with respect to $x$ and set it equal to zero to find the value of $x$ corresponding to a minimum (or possibly a maximum or inflection point) of the function.  To do that with the loss function, which can depend on hundreds, thousands, or even more variables (with respect to which the derivatives all would have to vanish), would be extremely difficult, in general.  (Note that this effort wouldn't even necessarily find the global minimum.)  So, we need a more computationally-manageable approach.\n",
    "\n",
    "In practice, it's generally very hard to find the global minimum, and the learning process just tries to find a ***local minimum*** (*any* valley, not necessarily the lowest one).  A common algorithm used to do this is called ***stochastic gradient descent*** (SGD).  It's based on the fact that, at any point on a surface, the gradient points *up* along the direction in which the slope is the steepest.  The opposite direction of the gradient would point the fastest way *down* the surface, analogous to the direction a ball would roll down a hill in the presence of gravity.  That's the direction in which we want to change the weights and biases at any point in the process in order to work our way down to a valley, thereby minimizing the loss function and making the actual output of the NN close to the desired output.\n",
    "\n",
    "The \"stochastic\" part of SGD refers to the fact that, in order to further reduce the amount of computation required for training, the gradient descent process is applied not to the *complete* loss function involving *all* the training examples (as in [9]), but to an *approximate* loss function computed from a *randomly chosen subset* of the training examples, called a ***minibatch***.  \n",
    "\n",
    "Label the training examples as $z_1, z_2, \\ldots, z_M$, and then \n",
    "\n",
    "$$C \\approx C_{z_j} \\equiv \\frac{1}{M} \\sum_{z_j} \\| y(z_j) - a \\|^2, \\hspace{6.5em} [9]$$\n",
    "\n",
    "where the sum is over the $M$ members $z_j$ of the minibatch.  This process is repeated with multiple minibatches in order to get a better approximation to the loss function.\n",
    "\n",
    "If, using a simplified notation for the weights, we denote them as $w_k$, the SGD approach says the new weights and biases (indicated by primes) are\n",
    "\n",
    "$$w_k' = w_k - \\frac{\\eta}{M} \\sum_j \\frac{\\partial C_{z_j}}{\\partial w_k},  \\hspace{9em} [10]$$\n",
    "$$b_k' = b_k - \\frac{\\eta}{M} \\sum_j \\frac{\\partial C_{z_j}}{\\partial b_k},  \\hspace{9.5em} [11]$$\n",
    "\n",
    "where the $z_j$ are the members of the mini-batch, with $M$ members; $C_{z_j}$ is the loss function computed from that mini-batch; and $\\eta$ is the ***learning parameter*** which is used to \"scale\" the size of the steps taken opposite the direction of the gradient (larger $\\eta$ means larger steps).  The value of $\\eta$ is determined, basically by trial and error, by the person training the network.  \n",
    "\n",
    "Equations [10] and [11] tell us that each weight or bias is changed by an amount proportional to the average partial derivative of $C$ with respect to that weight or bias (where the average is taken over the members of the training subset).  The `-` signs make sense: if the loss function *increases* when a particular weight is increased, so that $\\partial C_{z_j} / \\partial w_k > 0$, then we want to *decrease* that weight, i.e. change it by a *negative* amount.  The `-` sign makes that happen.\n",
    "\n",
    "This process of using the outputs of the NN (as incorporated in the loss function) to go back and change the weights and biases is called ***backpropagation***.  As noted in the video preceding this subsection, the process proceeds backwards through the network, updating the weights and biases sequentially for layers earlier and earlier in the network.  Another nice visualization of the process is provided here: https://developers-dot-devsite-v2-prod.appspot.com/machine-learning/crash-course/backprop-scroll .  \n",
    "\n",
    "It's important to note that there are other algorithms besides stochastic gradient descent for finding the minimum of the loss function.  The three Python packages discussed in this module each offer multiple options; which are called ***optimizers*** in neural network lingo.\n",
    "\n",
    "For best results, the backpropagation algorithm is repeated many times with different training subsets.  Each cycle of computation using a new subset is called a training ***epoch***.  \n",
    "\n",
    "The discussion in this subsection has provided only an overview of the backpropagation process.  For all the gory details, see <a href=\"https://neuralnetworksanddeeplearning.com\"> Neural Networks and Deep Learning</a> or a textbook on neural networks."
   ]
  },
  {
   "cell_type": "markdown",
   "metadata": {},
   "source": [
    "> **Note:** The definitions of the various loss functions, optimizers, and activation functions available in the various NN packages tend to be fairly technical, and most are beyond the scope of this module.  See each package's documentation for the details."
   ]
  },
  {
   "cell_type": "markdown",
   "metadata": {},
   "source": [
    "<a href='#Outline'>Back to the Top</a>"
   ]
  },
  {
   "cell_type": "markdown",
   "metadata": {},
   "source": [
    "  "
   ]
  },
  {
   "cell_type": "markdown",
   "metadata": {},
   "source": [
    "### <font color=\"orange\">Please execute the cell below.  The code in it will be used to highlight certain key cells later in the notebook.</font>"
   ]
  },
  {
   "cell_type": "code",
   "execution_count": 4,
   "metadata": {},
   "outputs": [],
   "source": [
    "def set_background(color):         \n",
    "    script = (\"var cell = this.closest('.code_cell');\"\n",
    "              \"var editor = cell.querySelector('.input_area');\" \n",
    "              \"editor.style.background='{}';\" \"this.parentNode.removeChild(this)\"     \n",
    "             ).format(color)      \n",
    "    display(HTML('<img src onerror=\"{}\">'.format(script)))"
   ]
  },
  {
   "cell_type": "markdown",
   "metadata": {},
   "source": [
    "  "
   ]
  },
  {
   "cell_type": "markdown",
   "metadata": {},
   "source": [
    "## <font color=\"blue\">16.2 PyTorch</font>\n",
    "\n",
    "(This section is adapted from https://towardsdatascience.com/handwritten-digit-mnist-pytorch-977b5338e627.)\n",
    "\n",
    "The process described above for implementing a neural network can be coded from scratch, but that's obviously a lot of work.  (See the section titled \"Implementing our network to classify digits\" in <a href=\"https://neuralnetworksanddeeplearning.com/chap1.html\"> Neural Networks and Deep Learning, Chapter 1</a>.)  As mentioned at the top of this module, Python libraries have been developed to do the vast majority of the computations automatically, streamlining the process greatly.  Here we look at one of the two main libraries for doing these computations -- **`PyTorch`**."
   ]
  },
  {
   "cell_type": "markdown",
   "metadata": {},
   "source": [
    "`PyTorch` actually has two main purposes:\n",
    "1. It's a replacement for `numpy` designed to make use of a computer's GPUs -- its Graphics Processing Units.\n",
    "2. It's a fast, flexible library for constructing deep learning models.\n",
    "\n",
    "Item 1 is important because GPUs -- hardware elements that provide the data for display on a computer screen -- are designed to perform matrix operations very efficiently, since those operations are key to computing pixel values for on-screen graphics.  (The image on a screen is just a matrix of pixel values.)  Since neural network learning also is based on matrix operations, as noted following Eqs. [1] & [9], GPUs are highly suited to this purpose."
   ]
  },
  {
   "cell_type": "markdown",
   "metadata": {},
   "source": [
    "There are four key sublibraries of `PyTorch` used to implement the various parts of the NN design process: \n",
    "- `torch.utils`, specifically its sublibrary `torch.utils.data`, is used to import the data for the network to analyze.\n",
    "- `torch.nn` provides the functions for designing the network; i.e., for specifying the number of layers, the loss function, the activation function, etc. \n",
    "- `torch.autograd` contains the functions for computing the gradient.\n",
    "- `torch.optim` has the functions for implementing the backpropagation learning procedure."
   ]
  },
  {
   "cell_type": "markdown",
   "metadata": {},
   "source": [
    "### <font color=\"blue\">16.2.1 PyTorch Tensors</font>\n",
    "\n",
    "The basic mathematical object used by `PyTorch` is a ***tensor***, very similar to a `numpy` array.  They can be constructed with any number of dimensions.  A few examples are shown in the code cell below. "
   ]
  },
  {
   "cell_type": "code",
   "execution_count": 5,
   "metadata": {},
   "outputs": [
    {
     "name": "stdout",
     "output_type": "stream",
     "text": [
      "A = tensor(5.)\n",
      "B = tensor([2., 4., 6., 8.])\n",
      "C =\n",
      " tensor([[2., 4.],\n",
      "        [6., 8.]])\n"
     ]
    }
   ],
   "source": [
    "import torch\n",
    "\n",
    "A = torch.tensor(5.0)\n",
    "print(\"A =\", A)\n",
    "\n",
    "B = torch.tensor([2.0, 4.0, 6.0, 8.0])\n",
    "print(\"B =\", B)\n",
    "\n",
    "C = torch.tensor([[2.0, 4.0], [6.0, 8.0]])\n",
    "print(\"C =\\n\", C)\n"
   ]
  },
  {
   "cell_type": "markdown",
   "metadata": {},
   "source": [
    "The **.shape** method, also seen for `numpy`, will give the dimensions of a tensor:"
   ]
  },
  {
   "cell_type": "code",
   "execution_count": 3,
   "metadata": {},
   "outputs": [
    {
     "name": "stdout",
     "output_type": "stream",
     "text": [
      "torch.Size([])\n",
      "torch.Size([4])\n",
      "torch.Size([2, 2])\n"
     ]
    }
   ],
   "source": [
    "print(A.shape)\n",
    "print(B.shape)\n",
    "print(C.shape)"
   ]
  },
  {
   "cell_type": "markdown",
   "metadata": {},
   "source": [
    "Note that `A`, which contains a single element, has no dimensions."
   ]
  },
  {
   "cell_type": "markdown",
   "metadata": {},
   "source": [
    "Indexing and slicing work for tensors just as for `numpy` arrays:"
   ]
  },
  {
   "cell_type": "code",
   "execution_count": 4,
   "metadata": {},
   "outputs": [
    {
     "name": "stdout",
     "output_type": "stream",
     "text": [
      "F = \n",
      " tensor([[1, 2, 3],\n",
      "        [4, 5, 6],\n",
      "        [7, 8, 9]]) \n",
      "\n",
      "Element in first row, second column:\n",
      " tensor(2) \n",
      "\n",
      "Second row:\n",
      " tensor([4, 5, 6]) \n",
      "\n",
      "Third column:\n",
      " tensor([3, 6, 9])\n"
     ]
    }
   ],
   "source": [
    "F = torch.tensor([[1, 2, 3],[4, 5, 6],[7, 8, 9]])\n",
    "print(\"F = \\n\", F, \"\\n\")\n",
    "\n",
    "print(\"Element in first row, second column:\\n\", F[0,1], \"\\n\")\n",
    "print(\"Second row:\\n\", F[1,:], \"\\n\")    \n",
    "print(\"Third column:\\n\", F[:,2])    "
   ]
  },
  {
   "cell_type": "markdown",
   "metadata": {},
   "source": [
    "The data types contained in a tensor can be obtained using the **`.dtype`** method:"
   ]
  },
  {
   "cell_type": "code",
   "execution_count": 5,
   "metadata": {},
   "outputs": [
    {
     "name": "stdout",
     "output_type": "stream",
     "text": [
      "torch.float32\n",
      "torch.int64\n"
     ]
    }
   ],
   "source": [
    "print(C.dtype)\n",
    "print(F.dtype)"
   ]
  },
  {
   "cell_type": "markdown",
   "metadata": {},
   "source": [
    "Here, we see that tensor `C` contains (32-bit) floats, while `F` contains (64-bit) integers."
   ]
  },
  {
   "cell_type": "markdown",
   "metadata": {},
   "source": [
    "In fact, `numpy` arrays can be converted to `pytorch` tensors using **`torch.from_numpy()`**:"
   ]
  },
  {
   "cell_type": "code",
   "execution_count": 6,
   "metadata": {},
   "outputs": [
    {
     "name": "stdout",
     "output_type": "stream",
     "text": [
      "tA = \n",
      " tensor([[1, 2],\n",
      "        [3, 4],\n",
      "        [5, 6]])\n"
     ]
    }
   ],
   "source": [
    "from numpy import array\n",
    "\n",
    "nA = array([[1, 2], [3, 4], [5, 6]])\n",
    "\n",
    "tA = torch.from_numpy(nA)\n",
    "print(\"tA = \\n\", tA)"
   ]
  },
  {
   "cell_type": "markdown",
   "metadata": {},
   "source": [
    "Tensors *of the same shape* can be added and subtracted using **`+`** and **`-`**, respectively.  A tensor can be multiplied by a scalar using **`*`**, and it can be divided by a scalar using **`/`**.  \n",
    "\n",
    "Multiplication of two tensors *of the same shape* using **`*`** gives element-by-element multiplication, while **`/`** gives element-by-element division.\n",
    "\n",
    "The usual matrix multiplication is performed using the function **`mm`** with the syntax `torch.mm(tensor1, tensor2)`."
   ]
  },
  {
   "cell_type": "markdown",
   "metadata": {},
   "source": [
    "### <font color=\"blue\">16.2.2 Digit Classification Network</font>\n",
    "\n",
    "(This subsection is adapted from https://towardsdatascience.com/handwritten-digit-mnist-pytorch-977b5338e627?gi=fe8d54d023a4 , by Amitrajit Bose.)\n",
    "\n",
    "In this example, we perform the following sequence of tasks to implement a digit classification network:\n",
    "\n",
    "- Load Data\n",
    "- Define a PyTorch ***model***: a network with the number and sizes of hidden layers, the activation functions, and the loss function specified.\n",
    "- Define a loss function and backpropagation rules.  The backpropagation rules specify what loss function optimizer will be used.\n",
    "- Run a training cycle\n",
    "- Evaluate the model\n",
    "\n",
    "It's worth pointing out that the code below will be unlike that in previous modules, where you usually created your own functions to implement algorithms.  As noted earlier, we're not taking a \"from scratch\" approach here.  The goal is to learn to make use of the functions built in to the PyTorch and (later) TensorFlow & scikit-learn packages.  Most of this kind of coding consists of stringing together package functions in an appropriate sequence of function calls.  This represents a higher-level approach to programming than you've seen previously in the modules.  It may be less satisfying than that previous programming in the sense that the package functions essentially are \"black boxes\" to which you as the user simply provide the appropriate arguments -- not necessarily knowing exactly why or what the function is doing -- but this is how a lot of scientific programming goes.  We have to trust that the designers of the package functions have done their jobs properly."
   ]
  },
  {
   "cell_type": "markdown",
   "metadata": {},
   "source": [
    "#### <font color=\"blue\">Importing Packages</font>\n",
    "Although `torch` was imported in an earlier code cell, we do it again here to have all the needed steps included in this example.  We also import `numpy`, `matplotlib` for plotting, some `torch` subpackages, and a package (with subpackages) called **`torchvision`**, which helps with loading and manipulating images."
   ]
  },
  {
   "cell_type": "code",
   "execution_count": 6,
   "metadata": {},
   "outputs": [],
   "source": [
    "import numpy as np\n",
    "import torch \n",
    "import torchvision\n",
    "import matplotlib.pyplot as plt\n",
    "from torchvision import datasets, transforms\n",
    "from torch import nn, optim"
   ]
  },
  {
   "cell_type": "markdown",
   "metadata": {},
   "source": [
    "#### <font color=\"blue\">Loading and Formatting Data</font>\n",
    "Next, we'll load a dataset.  The standard set of images of digitized handwritten numbers is maintained in the MNIST (Modified National Institute of Standards and Technology) database.  That database includes 60000 images meant to be used as a training set, and another 10000 images meant to be used to test a neural network once it has been trained.  Each of the training images has a *label* associated with it that identifies the digit it displays.\n",
    "\n",
    "Before loading the images, we want to provide a specification for `torchvision` of how to transform the images so that they're useful for us.  Each MNIST file for the image of a digit actually includes *three* arrays of data, representing the separate intensities of red, blue, and green pixels in the image.  We will want to separate those three \"color channels,\" and force the ranges of intensity in the channels to be the same.  That's accomplished by this standard line of code:"
   ]
  },
  {
   "cell_type": "code",
   "execution_count": 7,
   "metadata": {},
   "outputs": [],
   "source": [
    "transform = transforms.Compose([transforms.ToTensor(),transforms.Normalize((0.5,), (0.5,)),])"
   ]
  },
  {
   "cell_type": "markdown",
   "metadata": {},
   "source": [
    "The **`transforms.ToTensor()`** function will pull out the color channels from each image file.  Then it will convert the pixels of each color \"sub-image\" so that its brightness range lies between 0 (pure black) and 1 (maximum color \"saturation\"). The resulting images will be `torch` tensors.\n",
    "\n",
    "**`transforms.Normalize()`** further adjusts the image tensors so that their mean and standard deviation of intensity have the values specified (0.5 for both, in this example; these are not set in stone).   "
   ]
  },
  {
   "cell_type": "markdown",
   "metadata": {},
   "source": [
    "Now we can load the data sets: first the training sets, then the test sets.  In each case, two lines of code are involved.  The first line specifies where to find the MNIST sets (in the MNIST `'.data'` directory) and whether to get the training or test sets.   Then, it applies the transformations above (`transform=transform`).  The second line actually does the downloading, putting the digit images in minibatches of size specified by `batch_size`.  (`shuffle=True` causes the image files to be randomly shuffled as they're put into minibatches.)  Note that once you have downloaded the images to a given directory on a given computer, they won't be downloaded again unless the destination directory is changed; in the code below, the destination directory is labeled `data`, located within the directory where this module is stored."
   ]
  },
  {
   "cell_type": "code",
   "execution_count": 8,
   "metadata": {},
   "outputs": [
    {
     "name": "stdout",
     "output_type": "stream",
     "text": [
      "torch.Size([60000, 28, 28])\n",
      "torch.Size([10000, 28, 28])\n"
     ]
    }
   ],
   "source": [
    "# Download and transform training sets (note train=True)\n",
    "train_set = datasets.MNIST(root='./data', train=True, download=True, transform=transform)\n",
    "train_loader = torch.utils.data.DataLoader(train_set, batch_size=10, shuffle=True)\n",
    "\n",
    "# Download and transform test sets (note train=False)\n",
    "test_set = datasets.MNIST(root='./data', train=False, download=True, transform=transform)\n",
    "test_loader = torch.utils.data.DataLoader(test_set, batch_size=10, shuffle=True)\n",
    "\n",
    "print(train_set.data.size())\n",
    "print(test_set.data.size())"
   ]
  },
  {
   "cell_type": "markdown",
   "metadata": {},
   "source": [
    "The first `print` statement produced `torch.Size([60000, 28, 28])`, confirming that we have 60000 images, each of size 28 x 28 pixels, and the second `print` statement produced `torch.Size([10000, 28, 28])`, confirming that we have 10000 images with the same dimensions as the training set. "
   ]
  },
  {
   "cell_type": "markdown",
   "metadata": {},
   "source": [
    "We can get a look at some images using the code below.  The first line (using the Python `iter` function) basically identifies a counter for the `train_loader` set of images; i.e., the first image has a counter of `0`, the next has `1`, etc.  The second line gets the image (and the label indicating which numerical digit it displays) associated with the next value of the iterator.  The following set of lines will print the 10 images as subplots in grayscale, by looping through the set of images.  If you rerun the cell, you'll get the images in a different mini-batch each time.  (The `.numpy().squeeze()` part removes the label from the figure.)"
   ]
  },
  {
   "cell_type": "code",
   "execution_count": 20,
   "metadata": {},
   "outputs": [
    {
     "ename": "AttributeError",
     "evalue": "'_SingleProcessDataLoaderIter' object has no attribute 'next'",
     "output_type": "error",
     "traceback": [
      "\u001b[1;31m---------------------------------------------------------------------------\u001b[0m",
      "\u001b[1;31mAttributeError\u001b[0m                            Traceback (most recent call last)",
      "\u001b[1;32m~\\AppData\\Local\\Temp\\ipykernel_16940\\3391650848.py\u001b[0m in \u001b[0;36m<module>\u001b[1;34m\u001b[0m\n\u001b[0;32m      1\u001b[0m \u001b[0mdataiter\u001b[0m \u001b[1;33m=\u001b[0m \u001b[0miter\u001b[0m\u001b[1;33m(\u001b[0m\u001b[0mtrain_loader\u001b[0m\u001b[1;33m)\u001b[0m\u001b[1;33m\u001b[0m\u001b[1;33m\u001b[0m\u001b[0m\n\u001b[1;32m----> 2\u001b[1;33m \u001b[0mimages\u001b[0m\u001b[1;33m,\u001b[0m \u001b[0mlabels\u001b[0m \u001b[1;33m=\u001b[0m \u001b[0mdataiter\u001b[0m\u001b[1;33m.\u001b[0m\u001b[0mnext\u001b[0m\u001b[1;33m(\u001b[0m\u001b[1;33m)\u001b[0m\u001b[1;33m\u001b[0m\u001b[1;33m\u001b[0m\u001b[0m\n\u001b[0m\u001b[0;32m      3\u001b[0m \u001b[1;33m\u001b[0m\u001b[0m\n\u001b[0;32m      4\u001b[0m \u001b[0mprint\u001b[0m\u001b[1;33m(\u001b[0m\u001b[0mimages\u001b[0m\u001b[1;33m.\u001b[0m\u001b[0mshape\u001b[0m\u001b[1;33m)\u001b[0m\u001b[1;33m\u001b[0m\u001b[1;33m\u001b[0m\u001b[0m\n\u001b[0;32m      5\u001b[0m \u001b[0mprint\u001b[0m\u001b[1;33m(\u001b[0m\u001b[0mlabels\u001b[0m\u001b[1;33m.\u001b[0m\u001b[0mshape\u001b[0m\u001b[1;33m)\u001b[0m\u001b[1;33m\u001b[0m\u001b[1;33m\u001b[0m\u001b[0m\n",
      "\u001b[1;31mAttributeError\u001b[0m: '_SingleProcessDataLoaderIter' object has no attribute 'next'"
     ]
    }
   ],
   "source": [
    "dataiter = iter(train_loader)\n",
    "images, labels = dataiter.next()\n",
    "\n",
    "print(images.shape)\n",
    "print(labels.shape)\n",
    "\n",
    "# Print a batch as subplots\n",
    "figure = plt.figure(figsize=[5, 3])\n",
    "num_images = 10\n",
    "for index in range(0, num_images):\n",
    "    plt.subplot(2, 5, index + 1)\n",
    "    plt.axis('off')\n",
    "    plt.imshow(images[index].numpy().squeeze(), cmap='gray_r')"
   ]
  },
  {
   "cell_type": "markdown",
   "metadata": {},
   "source": [
    "Note the printout from `print(images.shape)`: `torch.Size([10])`, reflecting the `10` labels for the mini-batch.  Also, the output from `print(images.shape)` is `torchSize([10, 1, 28, 28])`.  The `10` is for the size of the mini-batch, the `1` is for the labels, and, again, `28, 28` indicates the pixel dimensions of each image."
   ]
  },
  {
   "cell_type": "markdown",
   "metadata": {},
   "source": [
    "#### <font color=\"blue\">Building the Network</font>\n",
    "\n",
    "Now we can build the network.  The input layer will have 28 x 28 = 784 neurons, and we'll use two hidden layers, of sizes 128 and 64 neurons, successively.  The output layer will, of course, have 10 neurons to indicate the digits 0-9.  \n",
    "\n",
    "The **`nn.Sequential`** function lets us specify and connect the layers, as shown in the next code cell.  \n",
    "\n",
    "(**Note:** the first line of the cell below, which reappears in some later cells, just changes the cell background color.  It is not part of the process of building a neural network!)"
   ]
  },
  {
   "cell_type": "code",
   "execution_count": 11,
   "metadata": {},
   "outputs": [
    {
     "data": {
      "text/html": [
       "<img src onerror=\"var cell = this.closest('.code_cell');var editor = cell.querySelector('.input_area');editor.style.background='#FFFF66';this.parentNode.removeChild(this)\">"
      ],
      "text/plain": [
       "<IPython.core.display.HTML object>"
      ]
     },
     "metadata": {},
     "output_type": "display_data"
    },
    {
     "name": "stdout",
     "output_type": "stream",
     "text": [
      "Sequential(\n",
      "  (0): Linear(in_features=784, out_features=128, bias=True)\n",
      "  (1): ReLU()\n",
      "  (2): Linear(in_features=128, out_features=64, bias=True)\n",
      "  (3): ReLU()\n",
      "  (4): Linear(in_features=64, out_features=10, bias=True)\n",
      "  (5): LogSoftmax(dim=1)\n",
      ")\n"
     ]
    }
   ],
   "source": [
    "set_background('#FFFF66')    # ignore this line\n",
    "\n",
    "input_size = 784\n",
    "hidden_sizes = [128, 64]\n",
    "output_size = 10\n",
    "\n",
    "model = nn.Sequential(nn.Linear(input_size, hidden_sizes[0]), nn.ReLU(),\n",
    "                      nn.Linear(hidden_sizes[0], hidden_sizes[1]), nn.ReLU(),\n",
    "                      nn.Linear(hidden_sizes[1], output_size), nn.LogSoftmax(dim=1))\n",
    "print(model)"
   ]
  },
  {
   "cell_type": "markdown",
   "metadata": {},
   "source": [
    "Each **`nn.Linear`** function connects one layer to the next and specifies the activation function to use for each layer: the first `nn.Linear` function connects the input layer, with size `input_size`, to the first hidden layer, with size `hidden_sizes[0]`, and uses the `ReLU` activation function; the second `nn.Linear` function connects the first hidden layer, with size `hidden_sizes[0]`, to the second hidden layer, with size `hidden_sizes[1]`, and again uses the `ReLU` activation function.  The third `nn.Linear` function connects the last hidden layer with the output layer, and uses the `LogSoftmax` activation function.\n",
    "\n",
    "The name `Linear` in `nn.Linear` comes from the fact that this function applies the linear transformation of [1] (with the option to include biases, as in [6]) to compute inputs to neurons.  There are other transformations, as well as other activation functions and other types of neural network structures, available in the `torch.nn` package.  See https://pytorch.org/docs/stable/nn.html."
   ]
  },
  {
   "cell_type": "markdown",
   "metadata": {},
   "source": [
    "The next step is for us to specify the loss function for the network to use.  It turns out that while the ***mean-square error*** loss function shown in [7] is good for simple problems, e.g. finding the best-fit curve to a one-dimensional set of data of the form $y = f(x)$, it's not so good for multidimensional classification problems like the one considered here.  It is, however, related to a better loss function for the digit classification application -- the ***negative log likelihood*** loss function.  The PyTorch name for this loss function is `nn.NLLLoss`, so we need..."
   ]
  },
  {
   "cell_type": "code",
   "execution_count": 12,
   "metadata": {},
   "outputs": [
    {
     "data": {
      "text/html": [
       "<img src onerror=\"var cell = this.closest('.code_cell');var editor = cell.querySelector('.input_area');editor.style.background='#FFFF66';this.parentNode.removeChild(this)\">"
      ],
      "text/plain": [
       "<IPython.core.display.HTML object>"
      ]
     },
     "metadata": {},
     "output_type": "display_data"
    }
   ],
   "source": [
    "set_background('#FFFF66')   # ignore this line\n",
    "\n",
    "criterion = nn.NLLLoss()    # use negative log likelihood as loss function"
   ]
  },
  {
   "cell_type": "markdown",
   "metadata": {},
   "source": [
    "Now we load the training images and reshape them into vectors, supply them to the model, and compute the loss function:"
   ]
  },
  {
   "cell_type": "code",
   "execution_count": 13,
   "metadata": {},
   "outputs": [],
   "source": [
    "images, labels = next(iter(train_loader))\n",
    "images = images.view(images.shape[0], -1)    # reshape images into 784-element vectors"
   ]
  },
  {
   "cell_type": "markdown",
   "metadata": {},
   "source": [
    "We next supply the reshaped images to the model, compute the loss function, and specify how we want to minimize the loss function.  We're going to use steepest gradient descent (`optim.SGD`) and a learning rate (`lr`), i.e. $\\eta$, of `0.01`.  "
   ]
  },
  {
   "cell_type": "code",
   "execution_count": 14,
   "metadata": {},
   "outputs": [
    {
     "data": {
      "text/html": [
       "<img src onerror=\"var cell = this.closest('.code_cell');var editor = cell.querySelector('.input_area');editor.style.background='#FFFF66';this.parentNode.removeChild(this)\">"
      ],
      "text/plain": [
       "<IPython.core.display.HTML object>"
      ]
     },
     "metadata": {},
     "output_type": "display_data"
    }
   ],
   "source": [
    "set_background('#FFFF66')    # ignore this line\n",
    "\n",
    "\n",
    "mod = model(images)                                     # supply the images to the model \n",
    "\n",
    "loss = criterion(mod, labels)                           # calculate the loss\n",
    "\n",
    "optimizer = optim.SGD(model.parameters(), lr = 0.01)    # specify optimizer"
   ]
  },
  {
   "cell_type": "markdown",
   "metadata": {},
   "source": [
    "Note that there are other loss functions beside negative log likelihood, and many alternatives to SGD for minimizing the loss function, available in PyTorch.  See the documentation at https://pytorch.org/docs/stable/index.html. "
   ]
  },
  {
   "cell_type": "markdown",
   "metadata": {},
   "source": [
    "#### <font color=\"blue\">Training the Network</font>\n",
    "\n",
    "Putting everything together, to do the training we execute the loop below.  First, the `time` package is imported and we store the starting time (as `time0`) so that we can determine how long each training epoch takes.  The number of training epochs is specified by `epochs`. \n",
    "\n",
    "Now we loop over the training epochs, setting the loss function to zero as the starting point for each one.  `running_loss` stores the value of the loss function.  Within that loop, we loop over images in the training set, first reshaping each one into a vector and setting the gradients to zero, then applying the model specified above by `nn.Sequential` to the image and computing the loss function.  Next, backpropagation is applied to update the weights, and the change in the loss function is recorded.  \n",
    "\n",
    "At the end of each training epoch, the first of the `print` statements displays the value of the loss function normalized by the number of minibatches in the training set (in this case, with minibatches of 10 images, the number of minibatches is 60000/10 = 6000), and the second `print` statement prints out the cumulative time elapsed in the training process.\n",
    "\n",
    "Once you execute the next cell, the training process will run.  Nothing will happen for the first 20-30 seconds until the first training epoch is completed and the `print` statements are executed.  (Of course, the time it takes for each epoch depends on what machine this notebook is run on and what other tasks it is running.)  The entire training process will take a few minutes."
   ]
  },
  {
   "cell_type": "code",
   "execution_count": 15,
   "metadata": {},
   "outputs": [
    {
     "name": "stdout",
     "output_type": "stream",
     "text": [
      "\n",
      " Epoch 1 -- Training loss: 0.440555\n",
      "  Training Time (in minutes) = 0.273\n",
      "\n",
      " Epoch 2 -- Training loss: 0.204027\n",
      "  Training Time (in minutes) = 0.578\n",
      "\n",
      " Epoch 3 -- Training loss: 0.148021\n",
      "  Training Time (in minutes) = 0.864\n",
      "\n",
      " Epoch 4 -- Training loss: 0.118085\n",
      "  Training Time (in minutes) = 1.164\n",
      "\n",
      " Epoch 5 -- Training loss: 0.098500\n",
      "  Training Time (in minutes) = 1.437\n",
      "\n",
      " Epoch 6 -- Training loss: 0.084786\n",
      "  Training Time (in minutes) = 1.788\n",
      "\n",
      " Epoch 7 -- Training loss: 0.073960\n",
      "  Training Time (in minutes) = 2.089\n",
      "\n",
      " Epoch 8 -- Training loss: 0.065477\n",
      "  Training Time (in minutes) = 2.396\n",
      "\n",
      " Epoch 9 -- Training loss: 0.058478\n",
      "  Training Time (in minutes) = 2.676\n",
      "\n",
      " Epoch 10 -- Training loss: 0.052652\n",
      "  Training Time (in minutes) = 2.941\n"
     ]
    }
   ],
   "source": [
    "from time import time\n",
    "\n",
    "time0 = time()         # to time the process\n",
    "epochs = 10            # number of training epochs\n",
    "\n",
    "for e in range(epochs):\n",
    "    running_loss = 0   # keeps track of value of loss function\n",
    "    \n",
    "    for images, labels in train_loader:\n",
    "        # Flatten MNIST images into a 784 long vector\n",
    "        images = images.view(images.shape[0], -1)\n",
    "    \n",
    "        # Training pass\n",
    "        optimizer.zero_grad()              # set gradients to zero initially\n",
    "        \n",
    "        output = model(images)             # apply the model to the image\n",
    "        loss = criterion(output, labels)   # compute the loss function\n",
    "        \n",
    "        # Backpropagation\n",
    "        loss.backward()                    # compute gradients of loss function\n",
    "        \n",
    "        # Optimize weights \n",
    "        optimizer.step()                   # use gradients to update weights\n",
    "        \n",
    "        running_loss += loss.item()        # update loss function value\n",
    "        \n",
    "    else:\n",
    "        print(\"\\n\", \"Epoch %d -- Training loss: %8.6f\" %(e+1, running_loss/len(train_loader)))\n",
    "        print(\"  Training Time (in minutes) = %5.3f\" %((time() - time0) / 60))"
   ]
  },
  {
   "cell_type": "markdown",
   "metadata": {},
   "source": [
    "> **Note:** The yellow-highlighted cells above represent the key steps in *constructing* our neural network model.  The other code cells serve either as preparatory steps or for training the model."
   ]
  },
  {
   "cell_type": "markdown",
   "metadata": {},
   "source": [
    "#### <font color=\"blue\">Testing the Network</font>\n",
    "\n",
    "Now it's time to test our model!  First, we have to load the test images stored earlier in the variable `test_loader`.  Then we again use the `next` function to separate them into images and labels."
   ]
  },
  {
   "cell_type": "code",
   "execution_count": 16,
   "metadata": {},
   "outputs": [],
   "source": [
    "dataiter_test = iter(test_loader)\n",
    "images_test, labels_test = next(dataiter_test)"
   ]
  },
  {
   "cell_type": "markdown",
   "metadata": {},
   "source": [
    "As before, we can display some of those images"
   ]
  },
  {
   "cell_type": "code",
   "execution_count": 19,
   "metadata": {},
   "outputs": [
    {
     "data": {
      "image/png": "[encoded data removed]",
      "text/plain": [
       "<Figure size 350x250 with 10 Axes>"
      ]
     },
     "metadata": {},
     "output_type": "display_data"
    }
   ],
   "source": [
    "figure1 = plt.figure(figsize=[3.5, 2.5])\n",
    "num_images = 10\n",
    "for index in range(0, num_images):\n",
    "    plt.subplot(2, 5, index + 1)\n",
    "    plt.axis('off')\n",
    "    plt.imshow(images_test[index].numpy().squeeze(), cmap='gray_r')"
   ]
  },
  {
   "cell_type": "markdown",
   "metadata": {},
   "source": [
    "Now let's run the model on a test image.  We show the first test image, then reshape it to a vector and run the model on it.  Since, as noted above, the Softmax function computes probabilities, but our final activation `LogSoftmax` computes the logs of those probabilities, we need to exponentiate the network outputs to get back to probabilities.  Finally, we print out and also plot a bar chart of the probabilities. "
   ]
  },
  {
   "cell_type": "code",
   "execution_count": 22,
   "metadata": {},
   "outputs": [
    {
     "data": {
      "image/png": "[encoded data removed]",
      "text/plain": [
       "<Figure size 250x200 with 1 Axes>"
      ]
     },
     "metadata": {},
     "output_type": "display_data"
    }
   ],
   "source": [
    "fig2, ax2 = plt.subplots(figsize=[2.5,2.0])\n",
    "plt.imshow(images_test[0].numpy().squeeze(), cmap='gray_r')   # show the first image in test set\n",
    "ax2.get_xaxis().set_visible(False)\n",
    "ax2.get_yaxis().set_visible(False)\n"
   ]
  },
  {
   "cell_type": "markdown",
   "metadata": {},
   "source": [
    "Now run the model on all the image and get the outputs:"
   ]
  },
  {
   "cell_type": "code",
   "execution_count": 28,
   "metadata": {},
   "outputs": [
    {
     "name": "stdout",
     "output_type": "stream",
     "text": [
      "The probabilities of this image being the digits 0-9 are:\n",
      "|     0     |     1     |     2     |     3     |     4     |     5     |     6     |     7     |     8     |     9     |\n",
      "| 5.678e-09 | 3.860e-05 | 5.596e-10 | 9.997e-01 | 1.356e-08 | 2.231e-04 | 3.873e-09 | 3.567e-06 | 5.005e-10 | 2.683e-06 |\n",
      "\n",
      "PREDICTED DIGIT = 3 \n",
      "\n"
     ]
    },
    {
     "data": {
      "text/plain": [
       "(0.0, 10.0, 0.0, 1.0)"
      ]
     },
     "execution_count": 28,
     "metadata": {},
     "output_type": "execute_result"
    },
    {
     "data": {
      "image/png": "[encoded data removed]",
      "text/plain": [
       "<Figure size 300x200 with 1 Axes>"
      ]
     },
     "metadata": {},
     "output_type": "display_data"
    }
   ],
   "source": [
    "img = images_test[0].view(1, 784)   # reshape first image in test set\n",
    "\n",
    "with torch.no_grad():               # run the model on the image without computing gradients\n",
    "    mod = model(img)                # probabilities from output layer\n",
    "    \n",
    "ps = torch.exp(mod)                 # exponentiate outputs to undo \"log\" in logSoftmax to get probabilities \n",
    "probab = list(ps.numpy()[0])        # probabilities that image represents each digit 0 --> 9\n",
    "\n",
    "digits = list(range(10))\n",
    "print(\"The probabilities of this image being the digits 0-9 are:\")\n",
    "print(\"| {:^9d} | {:^9d} | {:^9d} | {:^9d} | {:^9d} | {:^9d} | {:^9d} | {:^9d} | {:^9d} | {:^9d} |\".format(*digits))\n",
    "print(\"| {:^.3e} | {:^.3e} | {:^.3e} | {:^.3e} | {:^.3e} | {:^.3e} | {:^.3e} | {:^.3e} | {:^.3e} | {:^.3e} |\\n\".format(*probab))\n",
    "print(\"PREDICTED DIGIT =\", probab.index(max(probab)), \"\\n\")   # print digit corresponding to maximum probability\n",
    "\n",
    "digits = range(0,10)                # x-axis labels for bar chart\n",
    "fig3, ax3 = plt.subplots(figsize=[3.0, 2.0])\n",
    "plt.bar(digits, probab)\n",
    "plt.title(\"Probabilities of Image Matching the Digits 0-9\")\n",
    "ax3.axis([0,10,0,1])"
   ]
  },
  {
   "cell_type": "markdown",
   "metadata": {},
   "source": [
    "The particular image analyzed above, and therefore the digit identified by the network, will depend on how this notebook was run, but the digit most likely will be identified properly, with >99.9% probability, while the probabilities for the wrong digits will be *much* smaller.    "
   ]
  },
  {
   "cell_type": "markdown",
   "metadata": {},
   "source": [
    "Of course, getting a single image right doesn't mean our network is effective.  Let's check all the other test images.  (Evaluating the model will be *much* quicker than training it.)"
   ]
  },
  {
   "cell_type": "code",
   "execution_count": 22,
   "metadata": {},
   "outputs": [
    {
     "name": "stdout",
     "output_type": "stream",
     "text": [
      "Number Of Images Tested = 10000 \n",
      "\n",
      "MODEL ACCURACY = 98.04 %\n"
     ]
    }
   ],
   "source": [
    "correct_count = 0\n",
    "all_count = 0\n",
    "\n",
    "# Loop through test images\n",
    "for images, labels in test_loader:\n",
    "    for i in range(len(labels)):\n",
    "        img = images[i].view(1, 784)            # reshape next image to vector\n",
    "        with torch.no_grad():                   # do not compute gradients\n",
    "            logps = model(img)                  # run network on image\n",
    "    \n",
    "        ps = torch.exp(logps)                   # exponentiate outputs to get probabilities\n",
    "        probab = list(ps.numpy()[0])            \n",
    "        \n",
    "        pred_label = probab.index(max(probab))  # image digit based on highest probability output\n",
    "        true_label = labels.numpy()[i]          # actual digit from label\n",
    "        if(true_label == pred_label):\n",
    "            correct_count += 1                  # digit is classified correctly\n",
    "        all_count += 1\n",
    "\n",
    "print(\"Number Of Images Tested =\", all_count, \"\\n\")\n",
    "print(\"MODEL ACCURACY =\", (correct_count/all_count)*100,\"%\")"
   ]
  },
  {
   "cell_type": "markdown",
   "metadata": {},
   "source": [
    "If you train for 10 or more epochs, you should get more than 9700 out of 10000 images classified correctly.  That's pretty impressive considering that only two hidden layers were used, and we might not have used the optimal network structure, activation functions, or loss function.  \n",
    "\n",
    "The best digit classifiers apparently have an accuracy of 99.8% (as of early 2023), so our network is not far off.  You might want to try tweaking some of the parameters -- the sizes of the hidden layers, the learning rate, the number of training epochs -- to see whether you can improve the network's performance.  (You also could change the activation functions, the loss function, or the number of hidden layers, or any combination of all these network characteristics.)"
   ]
  },
  {
   "cell_type": "markdown",
   "metadata": {},
   "source": [
    "#### <font color=\"blue\">Saving and Loading a Model</font>\n",
    "\n",
    "Now that the testing has finished, let's save our model.  (This could have been done before testing.)  This will allow us to use it on other images without having to repeat the training process we went through.  \n",
    "\n",
    "The code to save the model (named `model` by the `nn.Sequential` command in an earlier highlighted code cell) with the file name `mnist_digit_classification.pt` in the same directory as this notebook is:"
   ]
  },
  {
   "cell_type": "code",
   "execution_count": 6,
   "metadata": {},
   "outputs": [],
   "source": [
    "PATH = \"./mnist_digit_classification.pt\"   # the directory and filename to save under\n",
    "torch.save(model, PATH)"
   ]
  },
  {
   "cell_type": "markdown",
   "metadata": {},
   "source": [
    "To emphasize: this has saved the *model* (not the notebook) with all its weights and biases determined by the training process.  The `./` part of the `PATH` variable just specifies the directory in which this notebook resides; the rest of `PATH` is the file name.  Note that the `PATH` does not need to be specified separately; it can just be typed as the second input in `torch.save`.\n",
    "\n",
    "Also note that PyTorch models usually are saved with `.pt` or `.pth` extensions.  \n",
    "\n",
    "To load a model into a notebook, use the syntax"
   ]
  },
  {
   "cell_type": "code",
   "execution_count": 7,
   "metadata": {},
   "outputs": [
    {
     "data": {
      "text/plain": [
       "Sequential(\n",
       "  (0): Linear(in_features=784, out_features=128, bias=True)\n",
       "  (1): ReLU()\n",
       "  (2): Linear(in_features=128, out_features=64, bias=True)\n",
       "  (3): ReLU()\n",
       "  (4): Linear(in_features=64, out_features=10, bias=True)\n",
       "  (5): LogSoftmax(dim=1)\n",
       ")"
      ]
     },
     "execution_count": 7,
     "metadata": {},
     "output_type": "execute_result"
    }
   ],
   "source": [
    "model1 = torch.load(PATH)\n",
    "model1.eval()               # display the structure of the loaded module"
   ]
  },
  {
   "cell_type": "markdown",
   "metadata": {},
   "source": [
    "The name `model1` is used here simply to reflect the fact that the re-loaded model does not need to have the same name as the original one."
   ]
  },
  {
   "cell_type": "markdown",
   "metadata": {},
   "source": [
    "<a href='#Outline'>Back to the Top</a>"
   ]
  },
  {
   "cell_type": "markdown",
   "metadata": {},
   "source": [
    "  "
   ]
  },
  {
   "cell_type": "markdown",
   "metadata": {},
   "source": [
    "## <font color=\"blue\">16.3 TensorFlow</font>\n",
    "\n",
    "(This section adapted from https://www.TensorFlow.org/tutorials/keras/classification .)\n",
    "\n",
    "Like PyTorch, ***TensorFlow*** is a large library of machine learning functions with lots of flexibility.  ***Keras*** is a kind of add-on library to TensorFlow with high-level functions that make building machine learning systems easier for beginners. \n",
    "\n",
    "Start by importing the `tensorflow` package:"
   ]
  },
  {
   "cell_type": "code",
   "execution_count": 3,
   "metadata": {},
   "outputs": [],
   "source": [
    "import tensorflow as tf"
   ]
  },
  {
   "cell_type": "markdown",
   "metadata": {},
   "source": [
    "Now, import the MNIST data:"
   ]
  },
  {
   "cell_type": "code",
   "execution_count": 4,
   "metadata": {},
   "outputs": [
    {
     "name": "stdout",
     "output_type": "stream",
     "text": [
      "(60000, 28, 28)\n",
      "(10000, 28, 28)\n",
      "60000\n",
      "10000\n"
     ]
    }
   ],
   "source": [
    "from keras.datasets import mnist\n",
    "(train_images, train_labels), (test_images, test_labels) = mnist.load_data()\n",
    "\n",
    "print(train_images.shape)\n",
    "print(test_images.shape)\n",
    "print(len(train_labels))\n",
    "print(len(test_labels))"
   ]
  },
  {
   "cell_type": "markdown",
   "metadata": {},
   "source": [
    "The `print` statments show that the training and test sets have the dimensions we expect: the `_images` sets of images are 28 x 28; the `_labels` sets of labels are just 1-D vectors. "
   ]
  },
  {
   "cell_type": "markdown",
   "metadata": {},
   "source": [
    "As before, we normalize the pixel values to the range [0, 1] by dividing by the maximum value of 255:"
   ]
  },
  {
   "cell_type": "code",
   "execution_count": 5,
   "metadata": {},
   "outputs": [],
   "source": [
    "train_images = train_images / 255.0\n",
    "test_images = test_images / 255.0"
   ]
  },
  {
   "cell_type": "markdown",
   "metadata": {},
   "source": [
    "Now we create the model (discussed below the code cell):"
   ]
  },
  {
   "cell_type": "code",
   "execution_count": 6,
   "metadata": {},
   "outputs": [],
   "source": [
    "#set_background('#FFFF66')    # ignore this line\n",
    "\n",
    "modelK = tf.keras.Sequential([\n",
    "    tf.keras.layers.Flatten(input_shape=(28, 28)),\n",
    "    tf.keras.layers.Dense(128, activation='relu'),\n",
    "    tf.keras.layers.Dense(64, activation='relu'),\n",
    "    tf.keras.layers.Dense(10)\n",
    "])"
   ]
  },
  {
   "cell_type": "markdown",
   "metadata": {},
   "source": [
    "Above, the `model` is defined using `tf.keras.models.Sequential`, with layer sizes and activation functions specified.  ReLU is used for the hidden layers, as in the PyTorch model.  It turns out that we don't need a special activation function in the last layer: the default activation function here is \"linear\", so the output of each neuron in this layer is just its input. \n",
    "\n",
    "In the next cell, we \"compile\" (i.e., build) the model, specifying stochastic gradient descent (`\"sgd\"`) as the means of minimizing the loss function.  However, TensorFlow/Keras does not have a negative log likelihood loss function, so this code uses a similar loss function, `SparseCategoricalCrossentropy`, which is designed for problems like this one where each input image should be put in a *unique* category (corresponding to the digit $0$, or $1$, etc., but not a combination of digits).  In other types of classification problem (e.g., images of clothing) an input could fall into multiple categories."
   ]
  },
  {
   "cell_type": "code",
   "execution_count": 7,
   "metadata": {},
   "outputs": [],
   "source": [
    "modelK.compile(optimizer = \"sgd\",\n",
    "              loss = tf.keras.losses.SparseCategoricalCrossentropy(from_logits = True),\n",
    "              metrics = [\"accuracy\"])"
   ]
  },
  {
   "cell_type": "markdown",
   "metadata": {},
   "source": [
    "At the end of `model.compile`, the line `metrics = [\"accuracy\"]` specifies that the accuracy of the network will be determined based on the fraction of images that are characterized correctly, as was done for the PyTorch model. \n",
    "\n",
    "Next, we train the model (for 15 epochs) on the training images & labels:"
   ]
  },
  {
   "cell_type": "code",
   "execution_count": 8,
   "metadata": {},
   "outputs": [
    {
     "name": "stdout",
     "output_type": "stream",
     "text": [
      "Epoch 1/15\n",
      "1875/1875 [==============================] - 9s 4ms/step - loss: 0.6410 - accuracy: 0.8286\n",
      "Epoch 2/15\n",
      "1875/1875 [==============================] - 9s 5ms/step - loss: 0.2953 - accuracy: 0.9159\n",
      "Epoch 3/15\n",
      "1875/1875 [==============================] - 10s 5ms/step - loss: 0.2446 - accuracy: 0.9302\n",
      "Epoch 4/15\n",
      "1875/1875 [==============================] - 9s 5ms/step - loss: 0.2114 - accuracy: 0.9400\n",
      "Epoch 5/15\n",
      "1875/1875 [==============================] - 9s 5ms/step - loss: 0.1862 - accuracy: 0.9474\n",
      "Epoch 6/15\n",
      "1875/1875 [==============================] - 9s 5ms/step - loss: 0.1664 - accuracy: 0.9530\n",
      "Epoch 7/15\n",
      "1875/1875 [==============================] - 8s 4ms/step - loss: 0.1506 - accuracy: 0.9574\n",
      "Epoch 8/15\n",
      "1875/1875 [==============================] - 8s 4ms/step - loss: 0.1369 - accuracy: 0.9614\n",
      "Epoch 9/15\n",
      "1875/1875 [==============================] - 9s 5ms/step - loss: 0.1258 - accuracy: 0.9647\n",
      "Epoch 10/15\n",
      "1875/1875 [==============================] - 9s 5ms/step - loss: 0.1162 - accuracy: 0.9676\n",
      "Epoch 11/15\n",
      "1875/1875 [==============================] - 9s 5ms/step - loss: 0.1074 - accuracy: 0.9695\n",
      "Epoch 12/15\n",
      "1875/1875 [==============================] - 8s 4ms/step - loss: 0.0992 - accuracy: 0.9717\n",
      "Epoch 13/15\n",
      "1875/1875 [==============================] - 8s 4ms/step - loss: 0.0935 - accuracy: 0.9735\n",
      "Epoch 14/15\n",
      "1875/1875 [==============================] - 7s 4ms/step - loss: 0.0871 - accuracy: 0.9755\n",
      "Epoch 15/15\n",
      "1875/1875 [==============================] - 8s 4ms/step - loss: 0.0822 - accuracy: 0.9768\n"
     ]
    },
    {
     "data": {
      "text/plain": [
       "<keras.callbacks.History at 0x114f0a8bb20>"
      ]
     },
     "execution_count": 8,
     "metadata": {},
     "output_type": "execute_result"
    }
   ],
   "source": [
    "modelK.fit(train_images, train_labels, epochs = 15)"
   ]
  },
  {
   "cell_type": "markdown",
   "metadata": {},
   "source": [
    "Having trained the model, we now can get its \"predictions\" for the labels of the test images.  To do that, we define a new \"probability\" model that's the same as the old model, except that the values from the output layer are converted to probabilities using the `.Softmax()` method.  We then run the `.predict()` method on that modified model."
   ]
  },
  {
   "cell_type": "code",
   "execution_count": 9,
   "metadata": {},
   "outputs": [
    {
     "name": "stdout",
     "output_type": "stream",
     "text": [
      "313/313 [==============================] - 1s 3ms/step\n"
     ]
    }
   ],
   "source": [
    "prob_model = tf.keras.Sequential([modelK, tf.keras.layers.Softmax()])   # outputs converted to probabilities\n",
    "predictions = prob_model.predict(test_images)                           # make predictions from probability model"
   ]
  },
  {
   "cell_type": "markdown",
   "metadata": {},
   "source": [
    "To see the results, we can get the prediction for the first image and plot that image for comparison."
   ]
  },
  {
   "cell_type": "code",
   "execution_count": 11,
   "metadata": {},
   "outputs": [
    {
     "data": {
      "text/plain": [
       "array([5.99076748e-06, 5.00024669e-07, 1.45867001e-03, 2.68207095e-03,\n",
       "       1.69580872e-07, 2.46710970e-05, 2.24091745e-09, 9.95688558e-01,\n",
       "       1.75255536e-05, 1.21782505e-04], dtype=float32)"
      ]
     },
     "execution_count": 11,
     "metadata": {},
     "output_type": "execute_result"
    },
    {
     "data": {
      "image/png": "[encoded data removed]",
      "text/plain": [
       "<Figure size 350x250 with 1 Axes>"
      ]
     },
     "metadata": {},
     "output_type": "display_data"
    }
   ],
   "source": [
    "%matplotlib inline\n",
    "import matplotlib.pyplot as plt\n",
    "\n",
    "fig4, ax4 = plt.subplots(figsize=[3.5,2.5])\n",
    "plt.imshow(test_images[0], cmap = \"gray_r\")\n",
    "ax4.get_xaxis().set_visible(False)\n",
    "ax4.get_yaxis().set_visible(False)\n",
    "\n",
    "predictions[0]                                   # model's label for the depicted image"
   ]
  },
  {
   "cell_type": "markdown",
   "metadata": {},
   "source": [
    "Here's a bar chart of the output probabilies:"
   ]
  },
  {
   "cell_type": "code",
   "execution_count": 12,
   "metadata": {},
   "outputs": [
    {
     "data": {
      "image/png": "[encoded data removed]",
      "text/plain": [
       "<Figure size 250x150 with 1 Axes>"
      ]
     },
     "metadata": {},
     "output_type": "display_data"
    }
   ],
   "source": [
    "from matplotlib.ticker import MultipleLocator\n",
    "\n",
    "digits = range(0,10)                             # x-axis labels for bar chart\n",
    "fig5, ax5 = plt.subplots(figsize = [2.5, 1.5])\n",
    "ax5.bar(digits, predictions[0])\n",
    "plt.title(\"Probabilities of Image Matching the Digits 0-9\")\n",
    "ax5.axis([0,10,0,1])\n",
    "ax5.xaxis.set_major_locator(MultipleLocator(1))"
   ]
  },
  {
   "cell_type": "markdown",
   "metadata": {},
   "source": [
    "Evaluating the model is easy.  We use the `model.evaluate()` function, supplying it with the test images & labels:"
   ]
  },
  {
   "cell_type": "code",
   "execution_count": 13,
   "metadata": {},
   "outputs": [
    {
     "name": "stdout",
     "output_type": "stream",
     "text": [
      "313/313 - 1s - loss: 0.1002 - accuracy: 0.9690 - 918ms/epoch - 3ms/step\n",
      "\n",
      "Test accuracy: 0.9690000\n"
     ]
    }
   ],
   "source": [
    "test_loss, test_acc = modelK.evaluate(test_images, test_labels, verbose = 2)\n",
    "\n",
    "print('\\nTest accuracy: %8.7f' %test_acc)"
   ]
  },
  {
   "cell_type": "markdown",
   "metadata": {},
   "source": [
    "Nice -- we see that 97% (give or take) of the images have been classified properly, similar to the results with PyTorch."
   ]
  },
  {
   "cell_type": "markdown",
   "metadata": {},
   "source": [
    "#### <font color=\"blue\">Saving and Loading a TensorFlow Model</font>\n",
    "\n",
    "To save a model created with TensorFlow/Keras, use the format \n",
    "\n",
    "```python\n",
    "model_name.save(\"PATH/filename\")```\n",
    "\n",
    "(The usual extension for a TensorFlow file is \".tf\".)\n",
    "\n",
    "For example, to save `modelK` (created in the highlighted cell above) in the same directory as this notebook, use"
   ]
  },
  {
   "cell_type": "code",
   "execution_count": 14,
   "metadata": {},
   "outputs": [
    {
     "name": "stdout",
     "output_type": "stream",
     "text": [
      "INFO:tensorflow:Assets written to: ./modelK.tf\\assets\n"
     ]
    }
   ],
   "source": [
    "modelK.save(\"./modelK.tf\")"
   ]
  },
  {
   "cell_type": "markdown",
   "metadata": {},
   "source": [
    "To load the TensorFlow/Keras model just saved, do this"
   ]
  },
  {
   "cell_type": "code",
   "execution_count": 16,
   "metadata": {},
   "outputs": [],
   "source": [
    "from tensorflow import keras\n",
    "\n",
    "modelK = keras.models.load_model(\"./modelK.tf\")"
   ]
  },
  {
   "cell_type": "markdown",
   "metadata": {},
   "source": [
    " "
   ]
  },
  {
   "cell_type": "markdown",
   "metadata": {},
   "source": [
    "<a href='#Outline'>Back to the Top</a>"
   ]
  },
  {
   "cell_type": "markdown",
   "metadata": {},
   "source": [
    "  "
   ]
  },
  {
   "cell_type": "markdown",
   "metadata": {},
   "source": [
    "## <font color=\"blue\">16.4 Scikit-learn</font>\n",
    "\n",
    "(This section adapted from https://towardsdatascience.com/classifying-handwritten-digits-using-a-multilayer-perceptron-classifier-mlp-bc8453655880?gi=bee70f425cff .)\n",
    "\n",
    "In this section we follow the same basic procedure for MNIST digit recognition as with PyTorch and TensorFlow, but using the Python package ***`scikit-learn`*** (abbreviated ***`sklearn`*** in function calls), which is focused on machine learning approaches other than neural networks, but which does have a multi-layer perceptron model.  "
   ]
  },
  {
   "cell_type": "markdown",
   "metadata": {},
   "source": [
    "First, import the necessary packages and load the images for display, then plot the first five images:"
   ]
  },
  {
   "cell_type": "code",
   "execution_count": 4,
   "metadata": {},
   "outputs": [
    {
     "data": {
      "image/png": "[encoded data removed]",
      "text/plain": [
       "<Figure size 600x600 with 5 Axes>"
      ]
     },
     "metadata": {},
     "output_type": "display_data"
    }
   ],
   "source": [
    "%matplotlib inline\n",
    "import matplotlib.pyplot as plt\n",
    "from sklearn.datasets import fetch_openml\n",
    "from sklearn.neural_network import MLPClassifier\n",
    "\n",
    "# Load data and format for display\n",
    "mnist = fetch_openml('mnist_784', parser='auto')    # loads dataset\n",
    "images_to_show = mnist.data.to_numpy()              # formats images for display\n",
    "\n",
    "figure1 = plt.figure(figsize=[6, 6])\n",
    "\n",
    "for i in range(5):\n",
    "    plt.subplot(1, 5, i+1)\n",
    "    plt.axis('off')\n",
    "    plt.imshow((images_to_show[i].reshape(28,28)), cmap=plt.cm.gray_r)"
   ]
  },
  {
   "cell_type": "markdown",
   "metadata": {},
   "source": [
    "Now, reload the images in a format suitable for a network to use:"
   ]
  },
  {
   "cell_type": "code",
   "execution_count": 5,
   "metadata": {},
   "outputs": [
    {
     "name": "stdout",
     "output_type": "stream",
     "text": [
      "(70000, 784)\n",
      "(70000,)\n"
     ]
    }
   ],
   "source": [
    "images, labels = fetch_openml(\"mnist_784\", version=1, parser='auto', return_X_y = True)\n",
    "\n",
    "images = images / 255.0       # Normalize intensity to range [0,1]\n",
    "print(images.shape)\n",
    "print(labels.shape)"
   ]
  },
  {
   "cell_type": "markdown",
   "metadata": {},
   "source": [
    "The output of the `print(X.shape)` statement shows that `X` contains 70,000 images, with 784 elements each, while the output of `print(y.shape)` indicates that `y` stores the digit labels.\n",
    "\n",
    "**Note:** It's critical to do the normalization `images = images / 255.0`, or else the loss function values will be much too large."
   ]
  },
  {
   "cell_type": "markdown",
   "metadata": {},
   "source": [
    "Now the 70,000 images are separated into the training and test sets:"
   ]
  },
  {
   "cell_type": "code",
   "execution_count": 6,
   "metadata": {},
   "outputs": [],
   "source": [
    "# Split the data into train/test sets\n",
    "images_train = images[:60000]\n",
    "images_test = images[60000:]\n",
    "labels_train = labels[:60000]\n",
    "labels_test = labels[60000:]"
   ]
  },
  {
   "cell_type": "markdown",
   "metadata": {},
   "source": [
    "Now, we construct our model and specify its characteristics using the `MLPClassifier` function (see https://scikit-learn.org/stable/modules/generated/sklearn.neural_network.MLPClassifier.html#sklearn.neural_network.MLPClassifier for details):"
   ]
  },
  {
   "cell_type": "code",
   "execution_count": 7,
   "metadata": {},
   "outputs": [],
   "source": [
    "#set_background('#FFFF66')    # ignore this line\n",
    "\n",
    "modelS = MLPClassifier(\n",
    "    hidden_layer_sizes = (128, 64),\n",
    "    activation = \"relu\",     # ReLU activation function\n",
    "    max_iter = 100,\n",
    "    solver = \"sgd\",          # steepest gradient descent\n",
    "    verbose = True,          # whether to print progress messages\n",
    "    random_state = 1,        # initialization of weights & biases\n",
    "    learning_rate_init = 0.01,\n",
    "    tol = 0.02               # tolerance for loss function changes\n",
    ")"
   ]
  },
  {
   "cell_type": "markdown",
   "metadata": {},
   "source": [
    "Now we apply this model to the training data:"
   ]
  },
  {
   "cell_type": "code",
   "execution_count": 8,
   "metadata": {},
   "outputs": [
    {
     "name": "stdout",
     "output_type": "stream",
     "text": [
      "Iteration 1, loss = 0.57104232\n",
      "Iteration 2, loss = 0.25275449\n",
      "Iteration 3, loss = 0.19993693\n",
      "Iteration 4, loss = 0.16566080\n",
      "Iteration 5, loss = 0.14162482\n",
      "Iteration 6, loss = 0.12271626\n",
      "Iteration 7, loss = 0.10799467\n",
      "Iteration 8, loss = 0.09708206\n",
      "Iteration 9, loss = 0.08668221\n",
      "Iteration 10, loss = 0.07910770\n",
      "Iteration 11, loss = 0.07199502\n",
      "Iteration 12, loss = 0.06582584\n",
      "Iteration 13, loss = 0.06049064\n",
      "Iteration 14, loss = 0.05553151\n",
      "Iteration 15, loss = 0.05109720\n",
      "Iteration 16, loss = 0.04729789\n",
      "Training loss did not improve more than tol=0.020000 for 10 consecutive epochs. Stopping.\n"
     ]
    },
    {
     "data": {
      "text/html": [
       "<style>#sk-container-id-1 {color: black;background-color: white;}#sk-container-id-1 pre{padding: 0;}#sk-container-id-1 div.sk-toggleable {background-color: white;}#sk-container-id-1 label.sk-toggleable__label {cursor: pointer;display: block;width: 100%;margin-bottom: 0;padding: 0.3em;box-sizing: border-box;text-align: center;}#sk-container-id-1 label.sk-toggleable__label-arrow:before {content: \"▸\";float: left;margin-right: 0.25em;color: #696969;}#sk-container-id-1 label.sk-toggleable__label-arrow:hover:before {color: black;}#sk-container-id-1 div.sk-estimator:hover label.sk-toggleable__label-arrow:before {color: black;}#sk-container-id-1 div.sk-toggleable__content {max-height: 0;max-width: 0;overflow: hidden;text-align: left;background-color: #f0f8ff;}#sk-container-id-1 div.sk-toggleable__content pre {margin: 0.2em;color: black;border-radius: 0.25em;background-color: #f0f8ff;}#sk-container-id-1 input.sk-toggleable__control:checked~div.sk-toggleable__content {max-height: 200px;max-width: 100%;overflow: auto;}#sk-container-id-1 input.sk-toggleable__control:checked~label.sk-toggleable__label-arrow:before {content: \"▾\";}#sk-container-id-1 div.sk-estimator input.sk-toggleable__control:checked~label.sk-toggleable__label {background-color: #d4ebff;}#sk-container-id-1 div.sk-label input.sk-toggleable__control:checked~label.sk-toggleable__label {background-color: #d4ebff;}#sk-container-id-1 input.sk-hidden--visually {border: 0;clip: rect(1px 1px 1px 1px);clip: rect(1px, 1px, 1px, 1px);height: 1px;margin: -1px;overflow: hidden;padding: 0;position: absolute;width: 1px;}#sk-container-id-1 div.sk-estimator {font-family: monospace;background-color: #f0f8ff;border: 1px dotted black;border-radius: 0.25em;box-sizing: border-box;margin-bottom: 0.5em;}#sk-container-id-1 div.sk-estimator:hover {background-color: #d4ebff;}#sk-container-id-1 div.sk-parallel-item::after {content: \"\";width: 100%;border-bottom: 1px solid gray;flex-grow: 1;}#sk-container-id-1 div.sk-label:hover label.sk-toggleable__label {background-color: #d4ebff;}#sk-container-id-1 div.sk-serial::before {content: \"\";position: absolute;border-left: 1px solid gray;box-sizing: border-box;top: 0;bottom: 0;left: 50%;z-index: 0;}#sk-container-id-1 div.sk-serial {display: flex;flex-direction: column;align-items: center;background-color: white;padding-right: 0.2em;padding-left: 0.2em;position: relative;}#sk-container-id-1 div.sk-item {position: relative;z-index: 1;}#sk-container-id-1 div.sk-parallel {display: flex;align-items: stretch;justify-content: center;background-color: white;position: relative;}#sk-container-id-1 div.sk-item::before, #sk-container-id-1 div.sk-parallel-item::before {content: \"\";position: absolute;border-left: 1px solid gray;box-sizing: border-box;top: 0;bottom: 0;left: 50%;z-index: -1;}#sk-container-id-1 div.sk-parallel-item {display: flex;flex-direction: column;z-index: 1;position: relative;background-color: white;}#sk-container-id-1 div.sk-parallel-item:first-child::after {align-self: flex-end;width: 50%;}#sk-container-id-1 div.sk-parallel-item:last-child::after {align-self: flex-start;width: 50%;}#sk-container-id-1 div.sk-parallel-item:only-child::after {width: 0;}#sk-container-id-1 div.sk-dashed-wrapped {border: 1px dashed gray;margin: 0 0.4em 0.5em 0.4em;box-sizing: border-box;padding-bottom: 0.4em;background-color: white;}#sk-container-id-1 div.sk-label label {font-family: monospace;font-weight: bold;display: inline-block;line-height: 1.2em;}#sk-container-id-1 div.sk-label-container {text-align: center;}#sk-container-id-1 div.sk-container {/* jupyter's `normalize.less` sets `[hidden] { display: none; }` but bootstrap.min.css set `[hidden] { display: none !important; }` so we also need the `!important` here to be able to override the default hidden behavior on the sphinx rendered scikit-learn.org. See: https://github.com/scikit-learn/scikit-learn/issues/21755 */display: inline-block !important;position: relative;}#sk-container-id-1 div.sk-text-repr-fallback {display: none;}</style><div id=\"sk-container-id-1\" class=\"sk-top-container\"><div class=\"sk-text-repr-fallback\"><pre>MLPClassifier(hidden_layer_sizes=(128, 64), learning_rate_init=0.01,\n",
       "              max_iter=100, random_state=1, solver=&#x27;sgd&#x27;, tol=0.02,\n",
       "              verbose=True)</pre><b>In a Jupyter environment, please rerun this cell to show the HTML representation or trust the notebook. <br />On GitHub, the HTML representation is unable to render, please try loading this page with nbviewer.org.</b></div><div class=\"sk-container\" hidden><div class=\"sk-item\"><div class=\"sk-estimator sk-toggleable\"><input class=\"sk-toggleable__control sk-hidden--visually\" id=\"sk-estimator-id-1\" type=\"checkbox\" checked><label for=\"sk-estimator-id-1\" class=\"sk-toggleable__label sk-toggleable__label-arrow\">MLPClassifier</label><div class=\"sk-toggleable__content\"><pre>MLPClassifier(hidden_layer_sizes=(128, 64), learning_rate_init=0.01,\n",
       "              max_iter=100, random_state=1, solver=&#x27;sgd&#x27;, tol=0.02,\n",
       "              verbose=True)</pre></div></div></div></div></div>"
      ],
      "text/plain": [
       "MLPClassifier(hidden_layer_sizes=(128, 64), learning_rate_init=0.01,\n",
       "              max_iter=100, random_state=1, solver='sgd', tol=0.02,\n",
       "              verbose=True)"
      ]
     },
     "execution_count": 8,
     "metadata": {},
     "output_type": "execute_result"
    }
   ],
   "source": [
    "modelS.fit(images_train, labels_train)"
   ]
  },
  {
   "cell_type": "markdown",
   "metadata": {},
   "source": [
    "Now run the model on the test data:"
   ]
  },
  {
   "cell_type": "code",
   "execution_count": 9,
   "metadata": {},
   "outputs": [
    {
     "name": "stdout",
     "output_type": "stream",
     "text": [
      "Training set score: 0.988500\n",
      "Test set score: 0.974400\n"
     ]
    }
   ],
   "source": [
    "print(\"Training set score: %f\" % modelS.score(images_train, labels_train))\n",
    "print(\"Test set score: %f\" % modelS.score(images_test, labels_test))"
   ]
  },
  {
   "cell_type": "markdown",
   "metadata": {},
   "source": [
    "We see that the network performs almost perfectly (98.85% correct) on the training set, and comparably to PyTorch's and TensorFlow's results for the test set (97.44% correct).  And these results were obtained with a relatively large value for `tol`, which controls when the training ends: that happens when the change in the loss function over 10 epochs is less than `tol`.  A smaller value for `tol` will result in more training epochs and better results.  (The value for `tol` was chosen so that the number of iterations would be similar to those used for PyTorch & TensorFlow.)\n",
    "\n",
    "It's worth noting that, although scikit-learn is more limited than PyTorch and TensorFlow in terms of its neural network functionality, it was easier to set up this digit classification problem than it was in PyTorch, and the training and test processes ran faster."
   ]
  },
  {
   "cell_type": "markdown",
   "metadata": {},
   "source": [
    "#### <font color=\"blue\">Saving and Loading a scikit-learn Model</font>\n",
    "\n",
    "`scikit-learn` does not have its own functions to save and load network models; however, its models can be saved and loaded using a Python library called ***`pickle`***.  To save a model (with filename `modelS.pkl` in the directory where this notebook is), use  "
   ]
  },
  {
   "cell_type": "code",
   "execution_count": 18,
   "metadata": {},
   "outputs": [],
   "source": [
    "import pickle\n",
    "\n",
    "with open(\"./modelS.pkl\", 'wb') as file:\n",
    "    pickle.dump(modelS, file)"
   ]
  },
  {
   "cell_type": "markdown",
   "metadata": {},
   "source": [
    "To load a model saved with the name `modelS.pkl`, use"
   ]
  },
  {
   "cell_type": "code",
   "execution_count": 19,
   "metadata": {},
   "outputs": [],
   "source": [
    "with open(\"./modelS.pkl\", 'rb') as file:\n",
    "    pickle_model = pickle.load(file)"
   ]
  },
  {
   "cell_type": "markdown",
   "metadata": {},
   "source": [
    "<a href='#Outline'>Back to the Top</a>"
   ]
  },
  {
   "cell_type": "markdown",
   "metadata": {},
   "source": [
    "\n"
   ]
  },
  {
   "cell_type": "markdown",
   "metadata": {},
   "source": [
    "### <font color=\"blue\">**Recap**</font>\n",
    "\n",
    "* Neural networks can be powerful tools for solving a wide range of challenging computational problems.  Their great strength is that the algorithms they implement do not have to be programmed from scratch: networks can \"learn\" optimal designs for solving specific problems without detailed programmer guidance.  \n",
    "<br>\n",
    "\n",
    "* Implementing an effective neural network model to perform a specific task is part science, part art.  Moreover, entire texts have been written for both PyTorch and TensorFlow, so there's no way this module could cover all or even most of the important features of these systems without becoming unwieldy.  The purpose of this module is to give you an idea of how these systems (and scikit-lkearn) can be used to create a neural network model.\n",
    "<br>\n",
    "\n",
    "* Creating a neural network model involves some steps that are common to the packages above and some that are unique to each package.  One common step is the loading, and possibly modification, of the training and test data.  The different packages also all include a function that implements the model definition, specifying the number and size of layers, and their activation functions: for PyTorch that function is `torch.nn.Sequential`, for TensorFlow it's `TensorFlow.keras.Sequential`, and for scikit-learn it's `sklearn.neural_network.MLPClassifier` (for a multi-layer perceptron network).  PyTorch then requires multiple steps executed in a loop over epochs and inputs to train a model, while TensorFlow uses just its `.compile()` and `.fit()` functions to do that, and scikit-learn needs only its `.fit()` method.  For testing a model, PyTorch again requires a loop with multiple steps, while TensorFlow does it with the `.evaluate()` method and scikit-learn uses the `classifier.score()` function.\n",
    "<br>\n",
    "\n",
    "* The best way to create a network for a new task is to find one for a similar task that already has been created, on the internet or in a textbook, and then modify it for your particular needs.  There are general approaches that have been found to work better for specific applications, so it makes sense to start with one of those models.  And, as usual with computing challenges, you often can find answers to questions that arise when constructing a model by searching on the internet for explanations of error messages or suggestions on approaches to take."
   ]
  },
  {
   "cell_type": "markdown",
   "metadata": {},
   "source": [
    "  "
   ]
  },
  {
   "cell_type": "markdown",
   "metadata": {},
   "source": [
    "### <font color=\"blue\">Reflection Prompts</font>\n",
    "\n",
    "These questions are intended to help you think about what you learned from this module and how it might be useful to you in the future. You are strongly encouraged to answer them before moving on to the next module.  \n",
    "\n",
    "- Which components of this module did you find you were easily able to work through, and why do you think they were especially easy for you?\n",
    "\n",
    "- Which components of this module did you find more difficult to work through, and why do you think they were challenging?\n",
    "\n",
    "- When you got stuck, what did you do to get unstuck? Could this or similar actions be helpful if you get stuck in future work?\n",
    "\n",
    "- What do you understand more deeply about this material?\n",
    "\n",
    "- What questions or uncertainties remain for you regarding this material?"
   ]
  },
  {
   "cell_type": "markdown",
   "metadata": {},
   "source": [
    "  "
   ]
  },
  {
   "cell_type": "markdown",
   "metadata": {},
   "source": [
    "### <font color=\"blue\">Exercises</font> \n",
    "\n",
    "#### <u>Exercise #1</u>\n",
    "\n",
    "The Machine Learning module analyzed the NIST handwritten digit dataset.  Another well-known image dataset used for evaluating neural networks for categorization is the \"Fashion MNIST\" set of items of clothing categorized into nine types, each with an associated numerical label: \n",
    "\n",
    "0 :: T-shirt/top  \n",
    "1 :: Trouser  \n",
    "2 :: Pullover  \n",
    "3 :: Dress  \n",
    "4 :: Coat  \n",
    "5 :: Sandal  \n",
    "6 :: Shirt  \n",
    "7 :: Sneaker  \n",
    "8 :: Bag  \n",
    "9 :: Ankle boot  \n",
    "\n",
    "Like the original NIST digit dataset, this one is divided into a training set of 60,000 images and a test set of 10,000 images, where each image is 28 x 28 pixels.  Those sets, together with files containing the corresponding labels, can be downloaded from here: https://github.com/zalandoresearch/fashion-mnist/tree/master/data/fashion .  Clicking on the four links on that page will take you to four pages where you can download the files.  (The files labeled with \"t10k\" are for the test data.) The files are in \"zipped\" format, and must be unzipped before they can be loaded into a notebook. (The free Windows utilities 7-zip or WinZip, or the built-in zip/unzip utility on Macs, should do the job.)  \n",
    "\n",
    "Alternatively, if you construct your network using Pytorch, you should be able to get the dataset using the same approach as in the module, but with the two occurrences there of `datasets.MNIST` replaced by `datasets.FashionMNIST`.  If you use TensorFlow to build your network, you should be able to get the dataset using the module's approach but replacing `mnist.load_data` with `fashion_mnist.load_data`.  If you use `scikit-learn` to design your network, the files can be fetched from the openml repository (https://www.openml.org/search?type=data&status=active) using the same syntax as the example in the module, but with `fashion-mnist` replacing `mnist_784`.\n",
    "\n",
    "**(a)** Load the training and test images into a notebook and display the first five training images to get a sense of what the images in the set look like.  \n",
    "\n",
    "**(b)** Using one of the packages presented in the Machine Learning module, construct a neural network to categorize the images in the Fashion MNIST training dataset and test it on the test dataset.  Note that this clothing dataset is more challenging to categorize than the handwritten digit dataset since the images are not as simple or distinct as the digits, so it might take some trial and error to get good network parameters.  Vary the number of hidden layers and/or the \"solver\" (try something other than steepest gradient descent) and/or the activation function and/or other adjustable parameters available in whatever package you use to get the **test** set score above 0.88 or 88%.  You may need to consult the documentation for your package to identify the parameter options; see the links in the Machine Learning module or just search online.\n",
    "</br>\n",
    "</br>\n",
    "\n",
    "### !!! <u>Capstone Python Programming Exercise</u> !!! \n",
    "As a final programming challenge if you have time (and courage!), try coding up a neural network *from scratch.*  You probably will want to take an object-oriented approach by creating a `neuron` class with an activation function as a method and connections as attributes (see Module 14).  Test your network on the handwritten digit dataset.  Good luck!!!"
   ]
  },
  {
   "cell_type": "markdown",
   "metadata": {},
   "source": [
    "  "
   ]
  },
  {
   "cell_type": "markdown",
   "metadata": {},
   "source": [
    "### <font color=\"blue\">Breakpoint Answers</font>\n",
    "\n",
    "\n",
    "**Breakpoint 1:** \n",
    "$$S'(x) = \\frac{e^{-x}}{(1 + e^{-x})^2} = S(x) \\left( \\frac{e^{-x}}{1 + e^{-x}} \\right) = S(x) \\left( \\frac{1 + e^{-x}}{1 + e^{-x}} - \\frac{1}{1 + e^{-x}} \\right) = S(x) [1 - S(x)].$$.\n",
    "\n",
    " \n",
    " \n",
    " "
   ]
  }
 ],
 "metadata": {
  "kernelspec": {
   "display_name": "Python 3",
   "language": "python",
   "name": "python3"
  },
  "language_info": {
   "codemirror_mode": {
    "name": "ipython",
    "version": 3
   },
   "file_extension": ".py",
   "mimetype": "text/x-python",
   "name": "python",
   "nbconvert_exporter": "python",
   "pygments_lexer": "ipython3",
   "version": "3.6.2"
  }
 },
 "nbformat": 4,
 "nbformat_minor": 1
}
