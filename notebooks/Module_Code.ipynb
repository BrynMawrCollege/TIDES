{
 "cells": [
  {
   "cell_type": "markdown",
   "metadata": {},
   "source": [
    "#Code Blocks from the Modules"
   ]
  },
  {
   "cell_type": "markdown",
   "metadata": {},
   "source": [
    "   "
   ]
  },
  {
   "cell_type": "markdown",
   "metadata": {},
   "source": [
    "**Run matplotlib in the notebook:**"
   ]
  },
  {
   "cell_type": "code",
   "execution_count": 2,
   "metadata": {
    "collapsed": true
   },
   "outputs": [],
   "source": [
    "%matplotlib inline\n",
    "from matplotlib.pyplot import *"
   ]
  },
  {
   "cell_type": "markdown",
   "metadata": {},
   "source": [
    " "
   ]
  },
  {
   "cell_type": "markdown",
   "metadata": {},
   "source": [
    "###Module 2"
   ]
  },
  {
   "cell_type": "code",
   "execution_count": null,
   "metadata": {
    "collapsed": false
   },
   "outputs": [],
   "source": [
    "\"\"\" Code to time vector creation using different approaches. \"\"\"\n",
    "\n",
    "from numpy import zeros, ones\n",
    "N = 100           # length of vectors/list\n",
    "vec1 = zeros(N)   # has to be created before being indexed, below\n",
    "\n",
    "def loop1():\n",
    "    for i in range(N):\n",
    "        vec1[i] = 1\n",
    "\n",
    "def loop2():\n",
    "    vec2 = [1 for i in range(N)]  # this is a list, not a vector\n",
    "\n",
    "def loop3():\n",
    "    vec3 = ones(N)\n",
    "\n",
    "import timeit\n",
    "print(\"time for loop1 is: \", timeit.timeit('\"loop1()\"', number=1000000))\n",
    "print(\"time for loop2 is: \", timeit.timeit('\"loop2()\"', number=1000000))\n",
    "print(\"time for loop3 is: \", timeit.timeit('\"loop3()\"', number=1000000))"
   ]
  },
  {
   "cell_type": "markdown",
   "metadata": {},
   "source": [
    " "
   ]
  },
  {
   "cell_type": "markdown",
   "metadata": {},
   "source": [
    "###Module 3"
   ]
  },
  {
   "cell_type": "code",
   "execution_count": 3,
   "metadata": {
    "collapsed": true
   },
   "outputs": [],
   "source": [
    "\"\"\"Code to implement Euler-Cromer method.\"\"\"\n",
    "\n",
    "# Set up constant and initial values (SI units)\n",
    "t = 0      # initial time\n",
    "tf = 10    # final time\n",
    "dt = 0.1   # time step\n",
    "y = 0      # initial position, at origin\n",
    "v = 50     # initial velocity, in positive-y direction\n",
    "a = 0      # constant acceleration \n",
    "\n",
    "# Create & initialize lists for variable values\n",
    "time = [t]\n",
    "ypos = [y]\n",
    "yvel = [v]\n",
    "\n",
    "while t <= tf - dt:\n",
    "    # Update variables using Eqs. (1) & (2)\n",
    "    v = v + a * dt\n",
    "    y = y + v * dt\n",
    "\n",
    "    # Add updated variables to the lists\n",
    "    yvel.append(v)\n",
    "    ypos.append(y)\n",
    "    \n",
    "    # Increment time\n",
    "    t = t + dt\n",
    "    time.append(t)"
   ]
  },
  {
   "cell_type": "markdown",
   "metadata": {},
   "source": [
    " "
   ]
  },
  {
   "cell_type": "markdown",
   "metadata": {},
   "source": [
    "###Module 7"
   ]
  },
  {
   "cell_type": "code",
   "execution_count": null,
   "metadata": {
    "collapsed": false
   },
   "outputs": [],
   "source": [
    "\"\"\"Code to compute eigenvalues and eigenvectors for the example of two coupled oscillators.\"\"\"\n",
    "\n",
    "from numpy import dot\n",
    "from numpy.linalg import inv, eigh\n",
    "\n",
    "def eigenVs(m1, m2, k1, k2, k12):\n",
    "    M = [[m1, 0.],[0., m2]]                   # mass matrix\n",
    "    Minv = inv(M)                             # invert M\n",
    "    K = [[k1 + k12, -k12], [-k12, k1 + k2]]   # spring-constant matrix\n",
    "    A = dot(Minv,K)                           # matrix multiply M^-1 K\n",
    "    e, V = eigh(A)\n",
    "    print('The eigenvalues are:', e)\n",
    "    print('The eigenvectors are:\\n', V)\n",
    "\n",
    "eigenVs(1., 1., 2., 2., 2.)"
   ]
  },
  {
   "cell_type": "markdown",
   "metadata": {},
   "source": [
    " "
   ]
  },
  {
   "cell_type": "markdown",
   "metadata": {},
   "source": [
    "###Module 9"
   ]
  },
  {
   "cell_type": "code",
   "execution_count": null,
   "metadata": {
    "collapsed": true
   },
   "outputs": [],
   "source": [
    "\"\"\"Function to compute the discrete Fourier transform.\"\"\"\n",
    "\n",
    "def dft_half(y):\n",
    "    from numpy import zeros, exp, absolute    \n",
    "\n",
    "    N = len(y)  \n",
    "    numcoeffs = N//2 + 1\n",
    "    C = zeros(numcoeffs, complex)  \n",
    "\n",
    "    for k in range(numcoeffs):       \n",
    "        for n in range(N):      \n",
    "            C[k] += y[n] * exp(-2j * pi * k * n/N)   # \"j\" = sqrt(-1) in Python\n",
    "    return absolute(C)    # returns absolute value of complex number"
   ]
  },
  {
   "cell_type": "code",
   "execution_count": null,
   "metadata": {
    "collapsed": true
   },
   "outputs": [],
   "source": [
    "\"\"\"Function to perform the vectorized discrete Fourier transform.\"\"\"\n",
    "\n",
    "def dft_vect(x):\n",
    "    from numpy import asarray, arange, reshape, exp, dot, pi, absolute\n",
    "\n",
    "    x = asarray(x, dtype=float)   # force x to be array\n",
    "    N = x.shape[0]                # length of array \"x\"\n",
    "    n = arange(N)                 # list 0,...,N-1\n",
    "    k = n.reshape((N, 1))         # make \"k\" a column-vector version of \"n\"\n",
    "    M = exp(-2 j * pi * k*n / N)  # k*n computes outer product of k & n vectors\n",
    "    c = dot(M, x)\n",
    "    \n",
    "    return absolute(c)            # matrix-vector product"
   ]
  },
  {
   "cell_type": "markdown",
   "metadata": {},
   "source": [
    " "
   ]
  },
  {
   "cell_type": "markdown",
   "metadata": {},
   "source": [
    "###Module 10"
   ]
  },
  {
   "cell_type": "code",
   "execution_count": null,
   "metadata": {
    "collapsed": true
   },
   "outputs": [],
   "source": [
    "\"\"\"Function to perform Runge-Kutta 2 integration.\"\"\"\n",
    "\n",
    "def RK2(f, a, b, N):\n",
    "    ```Use 2nd-order Runge-Kutta method to integrate the function \n",
    "    dx/dt = f(x,t) in the interval t = (a,b) using N steps.```\n",
    "\n",
    "    from numpy import linspace\n",
    "\n",
    "    h = float((b-a)/N)            # time step size\n",
    "    tpoints = linspace(a, b, N)   # time values\n",
    "    xpoints = []\n",
    "    x = a                         # initial value\n",
    "\n",
    "    # RK2 method\n",
    "    for t in tpoints:\n",
    "        xpoints.append(x)\n",
    "        k1 = h * f(x,t)\n",
    "        k2 = h * f(x + 0.5*k1, t + 0.5*h)\n",
    "        x = x + k2\n",
    "\n",
    "    return tpoints, xpoints"
   ]
  },
  {
   "cell_type": "code",
   "execution_count": null,
   "metadata": {
    "collapsed": false
   },
   "outputs": [],
   "source": [
    "\"\"\"Code to compute projectile motion using the Runge-Kutta 4 integration method.\"\"\"\n",
    "\n",
    "from numpy import arange, array\n",
    "\n",
    "# Constants\n",
    "a = 0.\n",
    "b = 10.\n",
    "N = 100\n",
    "h = (b - a)/N\n",
    "x0 = 0.\n",
    "v0 = 20.\n",
    "\n",
    "# Return the derivatives of x and v\n",
    "def f(r, t):\n",
    "    g = 9.8\n",
    "    x = r[0]\n",
    "    v = r[1]\n",
    "    dx = v     # derivative of x\n",
    "    dv = -g    # derivative of v\n",
    "    return array([dx, dv], float)\n",
    "\n",
    "# Implement RK4 integration\n",
    "tpoints = arange(a, b, h)\n",
    "xpoints = []\n",
    "vpoints = []\n",
    "r = array([x0, v0], float)\n",
    "\n",
    "for t in tpoints:\n",
    "    xpoints.append(r[0])\n",
    "    vpoints.append(r[1])\n",
    "    k1 = h * f(r, t)\n",
    "    k2 = h * f(r + 0.5*k1, t + 0.5*h)\n",
    "    k3 = h * f(r + 0.5*k2, t + 0.5*h)\n",
    "    k4 = h * f(r + k3, t + h)\n",
    "    r = r + (k1 + 2*k2 + 2*k3 + k4)/6\n",
    "\n",
    "plot(tpoints,xpoints)"
   ]
  },
  {
   "cell_type": "code",
   "execution_count": null,
   "metadata": {
    "collapsed": false
   },
   "outputs": [],
   "source": [
    "\"\"\"Code to compute the motion of a tossed ball using RK4 and the shooting method.\"\"\"\n",
    "\n",
    "# Initialization\n",
    "from numpy import array, arange\n",
    "\n",
    "g = 9.81           # Acceleration due to gravity\n",
    "t0 = 0.0           # Initial time\n",
    "tf = 10.0          # Final time\n",
    "N = 1000           # Number of Runge-Kutta steps\n",
    "h = (tf - t0)/N    # step size\n",
    "target = 1.0E-10   # Target accuracy for binary search\n",
    "\n",
    "# Derivative functions for the two variables \n",
    "def f(r):\n",
    "    [y, z] = r     # vector of input variables\n",
    "    dy = z         # derivative of y variable\n",
    "    dz = -g        # derivative of z variable\n",
    "    return array([dy,dz], float)\n",
    "\n",
    "# Specialized RK4 function to calculate final height\n",
    "def height(v):\n",
    "    r = array([0.0, v], float)    # Initialize y and z\n",
    "    for t in arange(t0, tf, h):   # The RK4 equations follow\n",
    "        k1 = h * f(r)\n",
    "        k2 = h * f(r + 0.5*k1)\n",
    "        k3 = h * f(r + 0.5*k2)\n",
    "        k4 = h * f(r + k3)\n",
    "        r += (k1 + 2*k2 + 2*k3 + k4) / 6\n",
    "    return r[0]\n",
    "\n",
    "# Procedure to perform binary search\n",
    "v1 = 0.01          # Lower limit of v range\n",
    "v2 = 1000.0        # Upper limit of v range\n",
    "h1 = height(v1)    # Final height corresponding to v1\n",
    "h2 = height(v2)    # Final height corresponding to v2\n",
    "\n",
    "while abs(h2-h1) > target:  # range containing v is too large\n",
    "    vm = (v1 + v2) / 2      # midpoint of range v1:v2\n",
    "    hm = height(vm)         # corresponding height\n",
    "\n",
    "    if h1 * hm > 0:         # hm and latest h1 have same sign, so...\n",
    "        v1 = vm             # vm replaces v1\n",
    "        h1 = hm\n",
    "    else:                   # hm and latest h1 have opposite signs, so...\n",
    "        v2 = vm             # vm replaces v2\n",
    "        h2 = hm\n",
    "\n",
    "v = (v1 + v2) / 2           # return midpoint of range as v*\n",
    "print(\"The required initial velocity is\",v,\"m/s\")"
   ]
  },
  {
   "cell_type": "code",
   "execution_count": 20,
   "metadata": {
    "collapsed": false
   },
   "outputs": [],
   "source": [
    "\"\"\"Function to find the ground-state energy of a linear potential well\n",
    "using RK4 and bisection.\"\"\"\n",
    "\n",
    "def wellEnergy(e1, e2, a = 10., L = 5.0E-9):\n",
    "    '''Compute ground-state energy of linear potential well of width L \n",
    "    and scale factor a (in eV), using initial guesses e1, e2.'''\n",
    "\n",
    "    from numpy import array,arange\n",
    "\n",
    "    # Constants\n",
    "    m = 9.1094e-31     # mass of electron\n",
    "    hbar = 1.0546e-34  # Planck's constant / 2*pi\n",
    "    eV = 1.6022e-19    # 1 eV, in Joules (eV to Joules conversion)\n",
    "    aeV = a * eV       # potential well constant\n",
    "    N = 1000\n",
    "    h = L/N\n",
    "\n",
    "    # Potential function inside wel/\n",
    "    def V(x):\n",
    "        return aeV*x/L\n",
    "\n",
    "    # Derivatives\n",
    "    def f(r, x, E):\n",
    "        psi = r[0]\n",
    "        phi = r[1]\n",
    "        fpsi = phi\n",
    "        fphi = (2*m / hbar**2) * (V(x) - E) * psi\n",
    "        return array([fpsi,fphi],float)\n",
    "    \n",
    "    # Calculate the wavefunction for a particular energy\n",
    "    def solve(E):\n",
    "        psi = 0.0\n",
    "        phi = 1.0\n",
    "        r = array([psi,phi],float)\n",
    "\n",
    "        for x in arange(0,L,h):\n",
    "            k1 = h * f(r, x, E)\n",
    "            k2 = h * f(r + 0.5*k1, x + 0.5*h, E)\n",
    "            k3 = h * f(r + 0.5*k2, x + 0.5*h, E)\n",
    "            k4 = h * f(r + k3, x+h, E)\n",
    "            r += (k1 + 2*k2 + 2*k3 + k4)/6\n",
    "\n",
    "        return r[0]\n",
    "\n",
    "    # Main program to find the energy using the bisection method\n",
    "    E1 = e1 * eV\n",
    "    E2 = e2 * eV\n",
    "    psi1 = solve(E1)\n",
    "    psi2 = solve(E2)\n",
    "\n",
    "    target = eV/100\n",
    "    while abs(psi1 - psi2) > target:  # range containing E is too large\n",
    "        Em = (E1 + E2) / 2        # midpoint of range E1:E2\n",
    "        psim = solve(Em)          # corresponding psi function\n",
    "\n",
    "        if psi1 * psim > 0:           # Em and latest E1 have same sign, so...\n",
    "            E1 = Em               # Em replaces E1\n",
    "            psi1 = psim\n",
    "        else:                     # Em and latest E1 have opposite signs, so...\n",
    "            E2 = Em               # Em replaces E2\n",
    "            psi2 = psim\n",
    "\n",
    "    # Once the range containing v is narrow enough, \n",
    "    # return the midpoint of that range as the desired v\n",
    "    E = (E1 + E2) / 2  \n",
    "\n",
    "    print(\"The energy eigenvalue is\", E/eV, \"eV\")"
   ]
  },
  {
   "cell_type": "code",
   "execution_count": null,
   "metadata": {
    "collapsed": false
   },
   "outputs": [],
   "source": [
    "wellEnergy(0, 10, 10, 0.5E-9)"
   ]
  },
  {
   "cell_type": "markdown",
   "metadata": {},
   "source": [
    " "
   ]
  },
  {
   "cell_type": "markdown",
   "metadata": {},
   "source": [
    "###Module 11"
   ]
  },
  {
   "cell_type": "code",
   "execution_count": 22,
   "metadata": {
    "collapsed": false
   },
   "outputs": [],
   "source": [
    "\"\"\"Code to solve Laplace's equation in a square using the relaxation method.\"\"\"\n",
    "\n",
    "def laplaceSquare(Vt, Vo, N):\n",
    "\n",
    "    '''Use relaxation method to compute potential inside a square whose top is \n",
    "    at potential Vt and whose sides are at Vo, with N grid points per side.'''\n",
    "    \n",
    "    from numpy import empty, zeros, max\n",
    "    from pylab import imshow, gray, show\n",
    "    from copy import copy\n",
    "\n",
    "    # Constants\n",
    "    target = 1e-6    # target accuracy\n",
    "\n",
    "    # Create arrays to hold potential values, and set boundary values\n",
    "    phi = zeros([N+1, N+1], float)\n",
    "    phi[0,:]  = Vt         # top side\n",
    "    phi[-1,:] = Vo         # bottom side\n",
    "    phi[:,0]  = Vo         # left side\n",
    "    phi[:,-1] = Vo         # right side\n",
    "    phiprime = copy(phi)   # holds \"new\" values\n",
    "\n",
    "    # Main loop\n",
    "    diff = 1.0\n",
    "    while diff > target:\n",
    "        # Calculate new values of the potential inside the boundary\n",
    "        for i in range(1, N):\n",
    "            for j in range(1, N):\n",
    "                phiprime[i,j] = (phi[i+1,j] + phi[i-1,j] + phi[i,j+1] + phi[i,j-1]) / 4\n",
    "\n",
    "        # Calculate maximum difference from old values\n",
    "        diff = max( abs(phi - phiprime) )\n",
    "\n",
    "        # Copy the \"new\" values to the \"old\" array \n",
    "        phi = copy(phiprime)\n",
    "\n",
    "    # Make a density plot\n",
    "    imshow(phi)\n",
    "    gray()\n",
    "    show()\n",
    "    \n",
    "    return phi"
   ]
  },
  {
   "cell_type": "code",
   "execution_count": null,
   "metadata": {
    "collapsed": false
   },
   "outputs": [],
   "source": [
    "\"\"\"Code to find the temperature profile in a rod whose ends are held at\n",
    "different temperatures, using the FTCS method.  (Slow!)\"\"\"\n",
    "\n",
    "from numpy import empty, abs\n",
    "\n",
    "# Constants\n",
    "L = 0.1       # Length of rod in meters\n",
    "D = 4.25e-6   # Thermal diffusivity\n",
    "N = 100       # Number of grid *intervals*\n",
    "a = L/N       # Grid spacing\n",
    "h = 1e-3      # Time-step\n",
    "epsilon = h/1000\n",
    "\n",
    "Tl = 0.0     # Left-hand end temperature in Celsius\n",
    "Tmid = 20.0  # Initial rod temperature in Celsius\n",
    "Tr = 50.0    # Right-hand end temperature in Celsius\n",
    "\n",
    "# Snapshot times\n",
    "t1 = 1.0\n",
    "t2 = 5.0\n",
    "t3 = 20.0\n",
    "t4 = 50.0\n",
    "t5 = 250.0\n",
    "\n",
    "# Arrays to store temperature\n",
    "T = empty(N+1,float)   # \"old\" values\n",
    "T[0] = Tl\n",
    "T[N] = Tr\n",
    "T[1:N] = Tmid\n",
    "\n",
    "Tn = empty(N+1,float)  # \"new\" values\n",
    "Tn[0] = Tl\n",
    "Tn[N] = Tr\n",
    "\n",
    "# Main loop\n",
    "t = 0.0\n",
    "c = h * D / (a*a)      # leading coefficient\n",
    "\n",
    "while t < t5 + epsilon:\n",
    "    # Calculate the new values of T\n",
    "    for i in range(1,N):\n",
    "        Tn[i] = T[i] + c * (T[i+1] - 2*T[i] + T[i-1])   # Eq. (15)\n",
    "    \n",
    "    T = Tn             # update temps\n",
    "    t = t + h\n",
    "\n",
    "    # Make plots at the snapshot times\n",
    "    if abs(t-t1) < epsilon:\n",
    "        plot(T,label='t1')\n",
    "    if abs(t-t2) < epsilon:\n",
    "        plot(T,label='t2')\n",
    "    if abs(t-t3) < epsilon:\n",
    "        plot(T,label='t3')\n",
    "    if abs(t-t4) < epsilon:\n",
    "        plot(T,label='t4')\n",
    "    if abs(t-t5) < epsilon:\n",
    "        plot(T,label='t5')\n",
    "\n",
    "xlabel(\"x\")\n",
    "ylabel(\"T\")\n",
    "legend(loc=9)"
   ]
  },
  {
   "cell_type": "code",
   "execution_count": 25,
   "metadata": {
    "collapsed": false
   },
   "outputs": [],
   "source": [
    "\"\"\"Pluck function of Exercise 2\"\"\"\n",
    "\n",
    "def pluck(h, L, xp):\n",
    "    '''Create `plucked string' shape with height h on\n",
    "    string of length L, with pluck at xp.'''\n",
    "  \n",
    "    from numpy import linspace, zeros, array, floor\n",
    "    \n",
    "    N = 1001\n",
    "    Np = int(floor(N * xp/L))\n",
    "    x = linspace(0,L,N)\n",
    "    y = zeros(len(x), float)\n",
    "    \n",
    "    for i in range(Np):\n",
    "        y[i] = h * i/Np\n",
    "    for i in range(Np,N):\n",
    "        y[i] = h * (1 - (i-Np)/(N-Np-1))\n",
    "    \n",
    "    plot(x,y)\n",
    "    ylim([0,L])\n",
    "    title(\"Initial String Shape\")\n",
    "    \n",
    "    return array(y, float)"
   ]
  },
  {
   "cell_type": "markdown",
   "metadata": {},
   "source": [
    " "
   ]
  },
  {
   "cell_type": "markdown",
   "metadata": {},
   "source": [
    "###Module 12"
   ]
  },
  {
   "cell_type": "code",
   "execution_count": 27,
   "metadata": {
    "collapsed": true
   },
   "outputs": [],
   "source": [
    "\"\"\"Code to analyze the 2-D Ising model using the Markov Chain Monte Carlo approach.\"\"\"\n",
    "\n",
    "def isingPB(N, T, J):\n",
    "    '''Analyze the 2-D Ising model using the Markov Chain Monte Carlo method.\n",
    "    The user inputs the number of spins along one of the two (equal) \n",
    "    dimensions, \"N\", the temperature \"T\", and the interaction constant \"J\".   \n",
    "    Periodic boundary conditions are used.'''\n",
    "\n",
    "    from numpy import zeros, exp\n",
    "    from numpy.random import choice, random\n",
    "\n",
    "    kB = 1.       # Boltzmann constant in special units\n",
    "\n",
    "    # Create array to hold spin values, which can be +/- 1\n",
    "    # The N x N array will be surrounded by a \"border\" of values that impose \n",
    "    # periodic boundary conditions.\n",
    "    latt = zeros([N+2,N+2])\n",
    "    latt[1:N+1,1:N+1] = choice([-1,1],[N,N])   # array of random +/- 1 values\n",
    "\n",
    "    # Function to impose periodic boundary conditions on lattice\n",
    "    # The first and last rows and columns store the wraparound values\n",
    "    def imposeBCs():\n",
    "        latt[0,1:N+1] = latt[N,1:N+1]\n",
    "        latt[N+1,1:N+1] = latt[1,1:N+1]\n",
    "        latt[1:N+1,0] = latt[1:N+1,N]\n",
    "        latt[1:N+1,N+1] = latt[1:N+1,1]\n",
    "\n",
    "    imposeBCs()                                # call the function above\n",
    "\n",
    "    cntr = 0\n",
    "\n",
    "    while cntr < 1000000:\n",
    "\n",
    "        # Randomly choose a spin to flip\n",
    "        row, col = choice(range(1,N+1),[2])    # pair of random indices\n",
    "\n",
    "        # Local energy before spin flip\n",
    "        oldE = -J * latt[row,col] * (latt[row-1,col] + latt[row+1,col] + \\\n",
    "               latt[row,col-1] + latt[row,col+1])\n",
    "\n",
    "        # Local energy of potential new state will be the negative of \n",
    "        # that of the original state, so\n",
    "        deltaE = -2. * oldE                    # energy change\n",
    "\n",
    "        # Determine whether to accept state change\n",
    "        acceptval = random()    # random value for acceptance prob. comparison\n",
    "        boltzfactor = exp(-deltaE/(kB * T))\n",
    "        if acceptval < boltzfactor:            # accept state change\n",
    "            latt[row, col] = -latt[row, col]   # flip spin \n",
    "            imposeBCs()                        # reimpose boundary conditions\n",
    "\n",
    "        cntr += 1\n",
    "\n",
    "    mag = latt[1:N+1, 1:N+1].sum()     # sum spins to get net magnetization\n",
    "    \n",
    "    return mag"
   ]
  }
 ],
 "metadata": {
  "kernelspec": {
   "display_name": "Python 3",
   "language": "python",
   "name": "python3"
  },
  "language_info": {
   "codemirror_mode": {
    "name": "ipython",
    "version": 3
   },
   "file_extension": ".py",
   "mimetype": "text/x-python",
   "name": "python",
   "nbconvert_exporter": "python",
   "pygments_lexer": "ipython3",
   "version": "3.4.3"
  }
 },
 "nbformat": 4,
 "nbformat_minor": 0
}
