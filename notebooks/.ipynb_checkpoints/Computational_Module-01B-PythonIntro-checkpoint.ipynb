{
 "cells": [
  {
   "cell_type": "markdown",
   "metadata": {},
   "source": [
    "# <font face=\"times\"><font size=\"6pt\"><p style = 'text-align: center;'> BRYN MAWR COLLEGE\n",
    "\n",
    "<font size=\"6pt\"><p style = 'text-align: center;'><b><font face=\"times\">Computational Methods in the Physical Sciences</b><br/><br/>\n",
    "\n",
    "<p style = 'text-align: center;'><b><font face=\"times\">Module 1:  A Brief Introduction to Python and Programming</b><br/><br/>\n",
    "\n",
    "<p style = 'text-align: center;'><b><font face=\"times\">Part 2 -- Functions, Packages and Plotting</b><br/><br/>\n",
    "\n",
    "<p style = 'text-align: center;'><font face=\"times\"><font size=\"3pt\"> Adapted from *A Crash Course in Python for Scientists*, version 0.6 <br/>\n",
    "[Rick Muller](http://www.cs.sandia.gov/~rmuller/), Sandia National Laboratories </p>"
   ]
  },
  {
   "cell_type": "markdown",
   "metadata": {},
   "source": [
    " ***Prerequisite modules***: Module 0 \n",
    "\n",
    "***Estimated completion time***: 2-4 hours  \n",
    "\n",
    "***Learning objectives***: Become familiar with, and gain practice in using, basic Python constructs"
   ]
  },
  {
   "cell_type": "markdown",
   "metadata": {},
   "source": [
    "   "
   ]
  },
  {
   "cell_type": "markdown",
   "metadata": {},
   "source": [
    "<img src=\"./Images/Dinos_TrapdoorFunctions-643.png\" width=\"600\" height=\"500\"/>\n",
    "<p style = 'text-align: center;'>Image credit: www.qwantz.com/index.php?comic=643<br/><br/>"
   ]
  },
  {
   "cell_type": "markdown",
   "metadata": {},
   "source": [
    "\n",
    "# Outline\n",
    "\n",
    "## Part 1 - Basics\n",
    "\n",
    "* [I. Python Overview](Computational_Module-01A-PythonIntro.ipynb#I.-Python-Overview) \n",
    "   * [Debugging](Computational_Module-01A-PythonIntro.ipynb#Debugging)\n",
    "   * [Python as a Calculator](Computational_Module-01A-PythonIntro.ipynb#Using-Python-as-a-Calculator)\n",
    "   * [Strings and Printing](Computational_Module-01A-PythonIntro.ipynb#Strings-and-Printing)\n",
    "   * [User Input](Computational_Module-01A-PythonIntro.ipynb#User-Input)\n",
    "   * [Lists](Computational_Module-01A-PythonIntro.ipynb#Lists)\n",
    "   * [Iteration](Computational_Module-01A-PythonIntro.ipynb#Loops-and-Iteration)\n",
    "   * [Slicing](Computational_Module-01A-PythonIntro.ipynb#Slicing)\n",
    "   * [Booleans](Computational_Module-01A-PythonIntro.ipynb#Booleans-and-Truth-Testing)\n",
    "\n",
    "\n",
    "## Part 2 - Functions, Packages, and Plotting\n",
    "\n",
    "* [II. Functions](#II.-Functions)  \n",
    "   * [Function Packages](#Function-Packages)\n",
    "   * [User-Defined Functions](#User-Defined-Functions)\n",
    "   * [Function of a Function](#Function-of-a-Function)\n",
    "   \n",
    "\n",
    "* [III. Numpy and Scipy](#III.-Numpy-and-Scipy)\n",
    "   * [Making vectors and matrices, 1-D and 2-D arrays](#Making-vectors-and-matrices,-1-D-and-2-D-arrays)\n",
    "   * [Slicing Arrays](#Slicing-Arrays)\n",
    "   * [linspace and arange](#linspace-and-arange)\n",
    "   * [Array Operations](#Array-Operations)\n",
    "   * [Optional Arguments](#Optional-Arguments)\n",
    "   \n",
    "\n",
    "* [IV. Plotting with Matplotlib](#IV.-Plotting-with-Matplotlib) \n",
    "\n",
    "\n",
    "## Part 3 - Algorithm Design\n",
    "\n",
    "* [V. List Manipulation](Computational_Module-01C-PythonIntro.ipynb#V.-List-Manipulation)\n",
    "   * [Searching a List](Computational_Module-01C-PythonIntro.ipynb#Searching-a-List) \n",
    "   * [Sorting a List](Computational_Module-01C-PythonIntro.ipynb#Sorting-a-List)\n",
    "   \n",
    "   \n",
    "* [VI. Recursion](Computational_Module-01C-PythonIntro.ipynb#VI.-Recursion)\n",
    "\n",
    "   \n",
    "* [VII. References](Computational_Module-01C-PythonIntro.ipynb#VII.-References) "
   ]
  },
  {
   "cell_type": "markdown",
   "metadata": {},
   "source": [
    "- - -"
   ]
  },
  {
   "cell_type": "markdown",
   "metadata": {},
   "source": [
    "## II. Functions"
   ]
  },
  {
   "cell_type": "markdown",
   "metadata": {},
   "source": [
    "### Function Packages"
   ]
  },
  {
   "cell_type": "markdown",
   "metadata": {},
   "source": [
    "Python's power can be extended greatly through the use of collections of supplementary functions contained in **packages** (referred to as **libraries** in other programming languages), which are included with the Python distribution.  To keep things simple, most of these package functions are not accessible from a normal Python interactive session.  Instead, you have to **import** the package name or individual function. For example, there is a **math** package containing many useful functions. To access, say, the square root function, you can first import the specific function of interest, using the syntax\n",
    "\n",
    "```python\n",
    "from math import sqrt\n",
    "```"
   ]
  },
  {
   "cell_type": "markdown",
   "metadata": {},
   "source": [
    "and then Python will recognize that function name, e.g.,"
   ]
  },
  {
   "cell_type": "code",
   "execution_count": 1,
   "metadata": {},
   "outputs": [
    {
     "data": {
      "text/plain": [
       "9.016651263079881"
      ]
     },
     "execution_count": 1,
     "metadata": {},
     "output_type": "execute_result"
    }
   ],
   "source": [
    "from math import sqrt\n",
    "sqrt(81.3)"
   ]
  },
  {
   "cell_type": "markdown",
   "metadata": {},
   "source": [
    "Alternatively, you can simply import the entire `math` package, but then you have to specify a function as shown:"
   ]
  },
  {
   "cell_type": "code",
   "execution_count": 1,
   "metadata": {},
   "outputs": [
    {
     "data": {
      "text/plain": [
       "9.016651263079881"
      ]
     },
     "execution_count": 1,
     "metadata": {},
     "output_type": "execute_result"
    }
   ],
   "source": [
    "import math\n",
    "math.sqrt(81.3)"
   ]
  },
  {
   "cell_type": "markdown",
   "metadata": {},
   "source": [
    "If a package has been imported using this method, then typing\n",
    "```python\n",
    "dir(package name)\n",
    "```\n",
    "will produce a list of the functions in the package:"
   ]
  },
  {
   "cell_type": "code",
   "execution_count": 2,
   "metadata": {},
   "outputs": [
    {
     "data": {
      "text/plain": [
       "['__doc__',\n",
       " '__file__',\n",
       " '__loader__',\n",
       " '__name__',\n",
       " '__package__',\n",
       " '__spec__',\n",
       " 'acos',\n",
       " 'acosh',\n",
       " 'asin',\n",
       " 'asinh',\n",
       " 'atan',\n",
       " 'atan2',\n",
       " 'atanh',\n",
       " 'ceil',\n",
       " 'copysign',\n",
       " 'cos',\n",
       " 'cosh',\n",
       " 'degrees',\n",
       " 'e',\n",
       " 'erf',\n",
       " 'erfc',\n",
       " 'exp',\n",
       " 'expm1',\n",
       " 'fabs',\n",
       " 'factorial',\n",
       " 'floor',\n",
       " 'fmod',\n",
       " 'frexp',\n",
       " 'fsum',\n",
       " 'gamma',\n",
       " 'hypot',\n",
       " 'isfinite',\n",
       " 'isinf',\n",
       " 'isnan',\n",
       " 'ldexp',\n",
       " 'lgamma',\n",
       " 'log',\n",
       " 'log10',\n",
       " 'log1p',\n",
       " 'log2',\n",
       " 'modf',\n",
       " 'pi',\n",
       " 'pow',\n",
       " 'radians',\n",
       " 'sin',\n",
       " 'sinh',\n",
       " 'sqrt',\n",
       " 'tan',\n",
       " 'tanh',\n",
       " 'trunc']"
      ]
     },
     "execution_count": 2,
     "metadata": {},
     "output_type": "execute_result"
    }
   ],
   "source": [
    "dir(math)"
   ]
  },
  {
   "cell_type": "markdown",
   "metadata": {},
   "source": [
    "So we see that `math` has a built-in value for $\\pi$, which we call as shown:"
   ]
  },
  {
   "cell_type": "code",
   "execution_count": 8,
   "metadata": {},
   "outputs": [
    {
     "name": "stdout",
     "output_type": "stream",
     "text": [
      "Pi = 3.141592653589793116\n"
     ]
    }
   ],
   "source": [
    "print(\"Pi = %.18f\" % math.pi)"
   ]
  },
  {
   "cell_type": "markdown",
   "metadata": {},
   "source": [
    "You also can import an entire package using this syntax (where `*` is a *wildcard* that stands for \"everything\"):"
   ]
  },
  {
   "cell_type": "code",
   "execution_count": 3,
   "metadata": {
    "collapsed": true
   },
   "outputs": [],
   "source": [
    "from math import *"
   ]
  },
  {
   "cell_type": "markdown",
   "metadata": {},
   "source": [
    " "
   ]
  },
  {
   "cell_type": "markdown",
   "metadata": {},
   "source": [
    "**Note**: If your code might require a lot of memory in order to run, or if memory capacity is a concern for any other reason, it would be better to import only the specific functions you need from a package, rather than the entire package. "
   ]
  },
  {
   "cell_type": "markdown",
   "metadata": {},
   "source": [
    "**Caution**:  Some packages occasionally include functions with the same name; e.g., both the `math` and the `numpy` packages contain the trig functions `sin()`, `cos()`, and `tan()`, as well as other functions in common.  If you import both packages using `from [package] import *`, how do you know which function you're getting when you call one with a shared name?\n",
    "\n",
    "Since `numpy` contains all of the functions that `math` contains, plus others, and since it permits array operations, there's no need to import the `math` package if you're also importing `numpy`."
   ]
  },
  {
   "cell_type": "markdown",
   "metadata": {},
   "source": [
    "**Note**: The most common way to deal with potential name conflict issues is to import packages using the first method, `import [package]`, and then a function can be referenced as `package.function`.   \n",
    "\n",
    "To save typing, you can import packages with \"nicknames\"; e.g., "
   ]
  },
  {
   "cell_type": "code",
   "execution_count": 6,
   "metadata": {
    "collapsed": true
   },
   "outputs": [],
   "source": [
    "import numpy as np"
   ]
  },
  {
   "cell_type": "markdown",
   "metadata": {},
   "source": [
    "Now you can specify the particular version of the function you want using the syntax `nickname.function`:"
   ]
  },
  {
   "cell_type": "code",
   "execution_count": 10,
   "metadata": {},
   "outputs": [
    {
     "name": "stdout",
     "output_type": "stream",
     "text": [
      "Pi = 3.141592653589793116\n"
     ]
    }
   ],
   "source": [
    "print(\"Pi = %.18f\" % np.pi)"
   ]
  },
  {
   "cell_type": "markdown",
   "metadata": {},
   "source": [
    " (You could use a similar syntax without using a nickname, simply by calling `numpy.pi`.)\n",
    "\n",
    "The approach described here will be used in this notebook.  In other modules or notebooks that require only a small number of imported functions, those functions may be imported individually as needed."
   ]
  },
  {
   "cell_type": "markdown",
   "metadata": {},
   "source": [
    "<a href='#Outline'>Back to the Top</a>"
   ]
  },
  {
   "cell_type": "markdown",
   "metadata": {},
   "source": [
    "### User-Defined Functions"
   ]
  },
  {
   "cell_type": "markdown",
   "metadata": {},
   "source": [
    "Python allows us to define our own mathematical functions, which provides lots of flexibility and enables us to \"package\" code in a way that makes it easy to use wherever we need.  This can greatly improve the efficiency of our coding.  \n",
    "\n",
    "We create a function with the **def** statement in Python:"
   ]
  },
  {
   "cell_type": "code",
   "execution_count": 9,
   "metadata": {},
   "outputs": [],
   "source": [
    "def poly1(x):\n",
    "    '''Return a polynomial of the input value x'''\n",
    "    return 3.5 * x**2 - 2 * x + 1"
   ]
  },
  {
   "cell_type": "markdown",
   "metadata": {},
   "source": [
    "Note that the function itself is defined as a code block (a colon followed by an indented block), as in an `if` statement.  Also note that the first line of the function is a single string (which is optional, but highly recommended). This is called a **docstring**, and is a special kind of comment that often is available to people using the function through the python command line.\n",
    "\n",
    "If you define a docstring for all of your functions, it makes it easier for other people to use them, since you can provide instructions on the **arguments** (inputs) and **return values** (outputs) of the function:"
   ]
  },
  {
   "cell_type": "code",
   "execution_count": 4,
   "metadata": {},
   "outputs": [
    {
     "name": "stdout",
     "output_type": "stream",
     "text": [
      "Help on function poly1 in module __main__:\n",
      "\n",
      "poly1(x)\n",
      "    Return a polynomial of the input value x\n",
      "\n"
     ]
    }
   ],
   "source": [
    "help(poly1)"
   ]
  },
  {
   "cell_type": "markdown",
   "metadata": {},
   "source": [
    "Also note the `return` statement at the end of the function definition.  This allows `poly1` actually to produce an output which can be used by other code; in this case, the value of the calculation following `return` for a given value of `x`.  If we just wanted to print the result, we could have replaced the `return` statement with a `print` statement, but that would not have resulted in output usable by other code.\n",
    "\n",
    "Just as importing two packages with a shared function name leads to uncertainty about what behavior you might get when calling that function, the same thing will happen if you define a function with the same name as a package function, so that risk should be avoided by defining functions with names that are not likely to be the same one that already exists."
   ]
  },
  {
   "cell_type": "markdown",
   "metadata": {},
   "source": [
    "In a situation when the expression we wish to return is complicated, it makes for clearer code to break it up into separate terms, e.g.,"
   ]
  },
  {
   "cell_type": "code",
   "execution_count": 12,
   "metadata": {
    "collapsed": true
   },
   "outputs": [],
   "source": [
    "def poly1(x):\n",
    "    '''Return a polynomial of the input value x'''\n",
    "    \n",
    "    term1 = 3.5 * x**2\n",
    "    term2 = 2 * x\n",
    "    term3 = 1\n",
    "    \n",
    "    return term1 - term2 + term3"
   ]
  },
  {
   "cell_type": "markdown",
   "metadata": {},
   "source": [
    "We can now call **poly1()** for different inputs:"
   ]
  },
  {
   "cell_type": "code",
   "execution_count": 14,
   "metadata": {},
   "outputs": [
    {
     "data": {
      "text/plain": [
       "11.0"
      ]
     },
     "execution_count": 14,
     "metadata": {},
     "output_type": "execute_result"
    }
   ],
   "source": [
    "poly1(2)"
   ]
  },
  {
   "cell_type": "code",
   "execution_count": 15,
   "metadata": {},
   "outputs": [
    {
     "name": "stdout",
     "output_type": "stream",
     "text": [
      "1158.235\n",
      "1341508.3152249998\n"
     ]
    }
   ],
   "source": [
    "x = poly1(-17.9)\n",
    "print(x)\n",
    "print(x**2)"
   ]
  },
  {
   "cell_type": "markdown",
   "metadata": {},
   "source": [
    "The second printout shows that the output of `poly1` has been stored in `x`."
   ]
  },
  {
   "cell_type": "markdown",
   "metadata": {},
   "source": [
    "Note that Python functions can have multiple inputs and outputs.  For example, we could define a function  \n",
    "\n",
    "```python\n",
    "def myfun(x,y):\n",
    "    [code]\n",
    "    return a, b```\n",
    "        \n",
    "Here, `x`, `y`, etc. are arguments (the inputs) to the function, and `a` and `b` are the return values.  (You can have no return values -- e.g. if the function just prints or plots its output -- or one output, two outputs,... however many you want.)  You would call this function as\n",
    "\n",
    "```python\n",
    "out1, out2 = myfun(xval,yval)```"
   ]
  },
  {
   "cell_type": "markdown",
   "metadata": {},
   "source": [
    "For example:"
   ]
  },
  {
   "cell_type": "code",
   "execution_count": 31,
   "metadata": {},
   "outputs": [
    {
     "name": "stdout",
     "output_type": "stream",
     "text": [
      "49 343\n"
     ]
    }
   ],
   "source": [
    "def square_cube(x):\n",
    "    '''Return the square and cube of the input value x'''\n",
    "    \n",
    "    a = x*x\n",
    "    b = x**3\n",
    "    return a, b\n",
    "\n",
    "out1, out2 = square_cube(7)\n",
    "print(out1, out2)"
   ]
  },
  {
   "cell_type": "markdown",
   "metadata": {},
   "source": [
    "So, this function outputs both the square and cube of the input, `7`, and the returned values `out1` and `out2` now can be used in other operations:"
   ]
  },
  {
   "cell_type": "code",
   "execution_count": 17,
   "metadata": {},
   "outputs": [
    {
     "data": {
      "text/plain": [
       "392"
      ]
     },
     "execution_count": 17,
     "metadata": {},
     "output_type": "execute_result"
    }
   ],
   "source": [
    "out1 + out2"
   ]
  },
  {
   "cell_type": "markdown",
   "metadata": {},
   "source": [
    "As another example of a function, here's one that will find and print all of the elements of a list of numbers that are smaller than a specified value, and print their indices.  "
   ]
  },
  {
   "cell_type": "code",
   "execution_count": 1,
   "metadata": {
    "collapsed": true
   },
   "outputs": [],
   "source": [
    "def findbelow(mylist, val):\n",
    "    '''Find and print all of the elements (and their indices) in mylist smaller than val.'''\n",
    "    \n",
    "    num = len(mylist)\n",
    "    \n",
    "    for i in range(num):\n",
    "        if mylist[i] < val:\n",
    "            print('%g, at position %d, is less than %g' %(mylist[i], i, val))"
   ]
  },
  {
   "cell_type": "code",
   "execution_count": 2,
   "metadata": {},
   "outputs": [
    {
     "name": "stdout",
     "output_type": "stream",
     "text": [
      "-3.2, at position 1, is less than 5\n",
      "4, at position 2, is less than 5\n",
      "-5, at position 4, is less than 5\n"
     ]
    }
   ],
   "source": [
    "findbelow([8, -3.2, 4, 16.3, -5], 5)"
   ]
  },
  {
   "cell_type": "markdown",
   "metadata": {},
   "source": [
    "<a href='#Outline'>Back to the Top</a>"
   ]
  },
  {
   "cell_type": "markdown",
   "metadata": {},
   "source": [
    "### Function of a Function"
   ]
  },
  {
   "cell_type": "markdown",
   "metadata": {},
   "source": [
    "Another great feature of Python functions is that you can pass one function as an argument to another, as long as the second function is designed to take a function as an argument.  For example, if we define a function as follows"
   ]
  },
  {
   "cell_type": "code",
   "execution_count": 3,
   "metadata": {
    "collapsed": true
   },
   "outputs": [],
   "source": [
    "def square(x):\n",
    "    return x*x"
   ]
  },
  {
   "cell_type": "markdown",
   "metadata": {},
   "source": [
    "and another function that takes a function as input:"
   ]
  },
  {
   "cell_type": "code",
   "execution_count": 33,
   "metadata": {
    "collapsed": true
   },
   "outputs": [],
   "source": [
    "def sumfun(func, a, b):\n",
    "    return func(a) + func(b)"
   ]
  },
  {
   "cell_type": "markdown",
   "metadata": {},
   "source": [
    "then we could call `sumfun` on our function `square`."
   ]
  },
  {
   "cell_type": "markdown",
   "metadata": {},
   "source": [
    "   "
   ]
  },
  {
   "cell_type": "markdown",
   "metadata": {},
   "source": [
    "<font color=\"green\"><b>Breakpoint 3</b></font>: Predict the output of the function call `sumfun(square,2,3)`.  Then, check your prediction by entering and running the function call in the following code cell."
   ]
  },
  {
   "cell_type": "code",
   "execution_count": null,
   "metadata": {},
   "outputs": [],
   "source": []
  },
  {
   "cell_type": "markdown",
   "metadata": {},
   "source": [
    "   "
   ]
  },
  {
   "cell_type": "markdown",
   "metadata": {},
   "source": [
    "Note that we don't have to pass an argument (`x`) along with the function name `square` when we pass it to the second function (`sumfun`).  We simply pass the function name itself.  (However, whatever we do with `square` inside `sumfun` has to respect the arguments that `square` is designed to take.)  \n",
    "\n",
    "This ability of a function to act on another function just by name is particular to (some) modern programming languages.  This capability does not exist in older languages like FORTRAN and C."
   ]
  },
  {
   "cell_type": "markdown",
   "metadata": {},
   "source": [
    " The input `x` in the function definition of `square`, or the inputs `a` and `b` to `sumfun`, could be entire *arrays* of values; the functions would output corresponding arrays consisting of the values of the functions applied to each of the array elements.  In order to do this, the input arrays must be created as `numpy` arrays.  For example:"
   ]
  },
  {
   "cell_type": "code",
   "execution_count": 5,
   "metadata": {},
   "outputs": [
    {
     "name": "stdout",
     "output_type": "stream",
     "text": [
      "[ 1  9 25]\n",
      "[ 4 16 36]\n"
     ]
    }
   ],
   "source": [
    "inarray1 = np.array([1, 3, 5])\n",
    "inarray2 = np.array([2, 4, 6])\n",
    "print(square(inarray1))\n",
    "print(square(inarray2))"
   ]
  },
  {
   "cell_type": "code",
   "execution_count": 28,
   "metadata": {},
   "outputs": [
    {
     "data": {
      "text/plain": [
       "array([ 5, 25, 61])"
      ]
     },
     "execution_count": 28,
     "metadata": {},
     "output_type": "execute_result"
    }
   ],
   "source": [
    "sumfun(square, inarray1, inarray2)"
   ]
  },
  {
   "cell_type": "markdown",
   "metadata": {},
   "source": [
    "Here, `sumfun` has computed the array [$1^2 + 2^2$, $3^2 + 4^2$, $5^2 + 6^2$]."
   ]
  },
  {
   "cell_type": "markdown",
   "metadata": {},
   "source": [
    "\n"
   ]
  },
  {
   "cell_type": "markdown",
   "metadata": {},
   "source": [
    "**Exercise \\#8**\n",
    "\n",
    "Write a function to output the value of the Gaussian function $f(x;m,\\sigma) = \\dfrac{1}{\\sqrt{2 \\pi} \\sigma} \\exp \\left[ -\\dfrac{1}{2} \\left(\\dfrac{x-m}{\\sigma}\\right)^2 \\right]$, where $m$, $\\sigma$, and $x$ are inputs to the function.  (We're thinking of $x$ as a variable and $m$ and $\\sigma$ as parameters.)  Evaluate the function for $m = 0$, $\\sigma = 2$, $x = 1$.  \n",
    "\n",
    "*Notes*: (i) the $\\sigma$ in the first factor is not inside the square root; (ii) \"$\\exp(x)$\" means $e^x$."
   ]
  },
  {
   "cell_type": "markdown",
   "metadata": {},
   "source": [
    " "
   ]
  },
  {
   "cell_type": "markdown",
   "metadata": {},
   "source": [
    "<a href='#Outline'>Back to the Top</a>"
   ]
  },
  {
   "cell_type": "markdown",
   "metadata": {},
   "source": [
    "- - - - -"
   ]
  },
  {
   "cell_type": "markdown",
   "metadata": {},
   "source": [
    "## III. Numpy and Scipy"
   ]
  },
  {
   "cell_type": "markdown",
   "metadata": {},
   "source": [
    "The power of Python is greatly enhanced by a number of large [packages](#Function-Packages), as mentioned in Module 0 and above.  [Numpy](http://numpy.org) contains core routines for doing fast vector, matrix, and linear algebra-type operations in Python. [Scipy](http://scipy) contains additional routines for optimization, special functions (e.g., Laguerre and Hermite polynomials), and so on. Both contain programs written in C and Fortran so that they're as fast as possible. Together, they give Python roughly the same capability that the [Matlab](http://www.mathworks.com/products/matlab/) program offers. (In fact, if you're an experienced Matlab user, there's a [guide to Numpy for Matlab users](http://www.scipy.org/NumPy_for_Matlab_Users) just for you.)\n",
    "\n",
    "To add the capabilities of these routines, we have to call them, as shown below."
   ]
  },
  {
   "cell_type": "markdown",
   "metadata": {},
   "source": [
    "### Making vectors and matrices, 1-D and 2-D arrays"
   ]
  },
  {
   "cell_type": "markdown",
   "metadata": {},
   "source": [
    "Fundamental to both `numpy` and `scipy` is the ability to work with vectors and matrices.  (Note that `numpy` has distinct \"matrix\" objects that differ somewhat from the 2-D arrays that will be discussed below.  See the `numpy` documentation for details.)\n",
    "\n",
    "As seen above, you can create vectors from lists using the **array** command:"
   ]
  },
  {
   "cell_type": "code",
   "execution_count": 6,
   "metadata": {},
   "outputs": [
    {
     "data": {
      "text/plain": [
       "array([1, 2, 3, 4, 5, 6])"
      ]
     },
     "execution_count": 6,
     "metadata": {},
     "output_type": "execute_result"
    }
   ],
   "source": [
    "np.array([1,2,3,4,5,6])"
   ]
  },
  {
   "cell_type": "markdown",
   "metadata": {},
   "source": [
    "You can pass in a second argument to **array** that gives the numeric type. There are a number of types [listed here](http://docs.scipy.org/doc/numpy/user/basics.types.html) that your matrix can be. Some of these are aliased to single character codes. The most common ones are 'd' (double precision floating point number), 'D' (double precision complex number), and 'i' (int32). Thus,"
   ]
  },
  {
   "cell_type": "code",
   "execution_count": 11,
   "metadata": {},
   "outputs": [
    {
     "data": {
      "text/plain": [
       "array([ 1.,  2.,  3.,  4.,  5.,  6.])"
      ]
     },
     "execution_count": 11,
     "metadata": {},
     "output_type": "execute_result"
    }
   ],
   "source": [
    "np.array([1,2,3,4,5,6],'d')"
   ]
  },
  {
   "cell_type": "code",
   "execution_count": 12,
   "metadata": {},
   "outputs": [
    {
     "data": {
      "text/plain": [
       "array([ 1.+0.j,  2.+0.j,  3.+0.j,  4.+0.j,  5.+0.j,  6.+0.j])"
      ]
     },
     "execution_count": 12,
     "metadata": {},
     "output_type": "execute_result"
    }
   ],
   "source": [
    "np.array([1,2,3,4,5,6],'D')"
   ]
  },
  {
   "cell_type": "code",
   "execution_count": 13,
   "metadata": {},
   "outputs": [
    {
     "data": {
      "text/plain": [
       "array([1, 2, 3, 4, 5, 6], dtype=int32)"
      ]
     },
     "execution_count": 13,
     "metadata": {},
     "output_type": "execute_result"
    }
   ],
   "source": [
    "np.array([1,2,3,4,5,6],'i')"
   ]
  },
  {
   "cell_type": "markdown",
   "metadata": {},
   "source": [
    "To build 2-D arrays, you can either use the array command with lists of lists:"
   ]
  },
  {
   "cell_type": "code",
   "execution_count": 14,
   "metadata": {},
   "outputs": [
    {
     "data": {
      "text/plain": [
       "array([[ 0.,  1.],\n",
       "       [ 1.,  0.]])"
      ]
     },
     "execution_count": 14,
     "metadata": {},
     "output_type": "execute_result"
    }
   ],
   "source": [
    "np.array([[0,1],[1,0]],'d')"
   ]
  },
  {
   "cell_type": "markdown",
   "metadata": {},
   "source": [
    "You can also form empty (zero) matrices of arbitrary shape (including vectors, which Numpy treats as matrices with one row), using the **zeros** command:"
   ]
  },
  {
   "cell_type": "code",
   "execution_count": 15,
   "metadata": {},
   "outputs": [
    {
     "data": {
      "text/plain": [
       "array([[ 0.,  0.,  0.],\n",
       "       [ 0.,  0.,  0.],\n",
       "       [ 0.,  0.,  0.]])"
      ]
     },
     "execution_count": 15,
     "metadata": {},
     "output_type": "execute_result"
    }
   ],
   "source": [
    "np.zeros((3,3),'d')"
   ]
  },
  {
   "cell_type": "markdown",
   "metadata": {},
   "source": [
    "The first argument is a tuple containing the shape of the matrix, and the second is the data type argument, which follows the same conventions as in the `array` command. Thus, you can make row vectors:"
   ]
  },
  {
   "cell_type": "code",
   "execution_count": 16,
   "metadata": {},
   "outputs": [
    {
     "data": {
      "text/plain": [
       "array([ 0.,  0.,  0.])"
      ]
     },
     "execution_count": 16,
     "metadata": {},
     "output_type": "execute_result"
    }
   ],
   "source": [
    "np.zeros(3,'d')"
   ]
  },
  {
   "cell_type": "code",
   "execution_count": 17,
   "metadata": {},
   "outputs": [
    {
     "data": {
      "text/plain": [
       "array([[ 0.,  0.,  0.]])"
      ]
     },
     "execution_count": 17,
     "metadata": {},
     "output_type": "execute_result"
    }
   ],
   "source": [
    "np.zeros((1,3),'d')"
   ]
  },
  {
   "cell_type": "markdown",
   "metadata": {},
   "source": [
    "or column vectors:"
   ]
  },
  {
   "cell_type": "code",
   "execution_count": 18,
   "metadata": {},
   "outputs": [
    {
     "data": {
      "text/plain": [
       "array([[ 0.],\n",
       "       [ 0.],\n",
       "       [ 0.]])"
      ]
     },
     "execution_count": 18,
     "metadata": {},
     "output_type": "execute_result"
    }
   ],
   "source": [
    "np.zeros((3,1),'d')"
   ]
  },
  {
   "cell_type": "markdown",
   "metadata": {},
   "source": [
    "There's also an **identity** command that behaves as you'd expect:"
   ]
  },
  {
   "cell_type": "code",
   "execution_count": 19,
   "metadata": {},
   "outputs": [
    {
     "data": {
      "text/plain": [
       "array([[ 1.,  0.,  0.,  0.],\n",
       "       [ 0.,  1.,  0.,  0.],\n",
       "       [ 0.,  0.,  1.,  0.],\n",
       "       [ 0.,  0.,  0.,  1.]])"
      ]
     },
     "execution_count": 19,
     "metadata": {},
     "output_type": "execute_result"
    }
   ],
   "source": [
    "np.identity(4,'d')"
   ]
  },
  {
   "cell_type": "markdown",
   "metadata": {},
   "source": [
    "as well as a **ones** command to produce an array of all 1's."
   ]
  },
  {
   "cell_type": "markdown",
   "metadata": {},
   "source": [
    "<a href='#Outline'>Back to the Top</a>"
   ]
  },
  {
   "cell_type": "markdown",
   "metadata": {},
   "source": [
    "\n"
   ]
  },
  {
   "cell_type": "markdown",
   "metadata": {},
   "source": [
    "### Slicing Arrays"
   ]
  },
  {
   "cell_type": "markdown",
   "metadata": {},
   "source": [
    "The elements of an array can be accessed using the slicing technique seen for lists:"
   ]
  },
  {
   "cell_type": "code",
   "execution_count": 20,
   "metadata": {},
   "outputs": [
    {
     "name": "stdout",
     "output_type": "stream",
     "text": [
      "[[1 2 3]\n",
      " [4 5 6]\n",
      " [7 8 9]]\n"
     ]
    }
   ],
   "source": [
    "arr = np.array([[1, 2, 3], [4, 5, 6], [7, 8, 9]],'i')\n",
    "print(arr)"
   ]
  },
  {
   "cell_type": "markdown",
   "metadata": {},
   "source": [
    "\n"
   ]
  },
  {
   "cell_type": "markdown",
   "metadata": {},
   "source": [
    "<font color=\"green\"><b>Breakpoint 4</b></font>: Predict the result of the command\n",
    "\n",
    "```python\n",
    "print(arr[1,2])```\n",
    "\n",
    "and then test it in the cell below."
   ]
  },
  {
   "cell_type": "code",
   "execution_count": null,
   "metadata": {},
   "outputs": [],
   "source": []
  },
  {
   "cell_type": "markdown",
   "metadata": {},
   "source": [
    "   "
   ]
  },
  {
   "cell_type": "markdown",
   "metadata": {},
   "source": [
    "Other examples:"
   ]
  },
  {
   "cell_type": "code",
   "execution_count": 30,
   "metadata": {},
   "outputs": [
    {
     "name": "stdout",
     "output_type": "stream",
     "text": [
      "[8 9]\n",
      "[4 5 6]\n",
      "[4 5 6]\n"
     ]
    }
   ],
   "source": [
    "print(arr[2,1:])\n",
    "print(arr[1])\n",
    "print(arr[1,:])"
   ]
  },
  {
   "cell_type": "markdown",
   "metadata": {},
   "source": [
    "Note that the second and third expressions, `arr[1]` and `arr[1,:]`, access all of the elements in the row with index 1.  The notation `[i,:]` refers to all of the elements in the row with index `i`.\n"
   ]
  },
  {
   "cell_type": "markdown",
   "metadata": {},
   "source": [
    "\n"
   ]
  },
  {
   "cell_type": "markdown",
   "metadata": {},
   "source": [
    "<font color=\"green\"><b>Breakpoint 5</b></font>: in the cell below, enter code to extract the entire last *column* of `arr`, using the \"`:`\" notation, and execute the cell to test your code."
   ]
  },
  {
   "cell_type": "code",
   "execution_count": null,
   "metadata": {
    "collapsed": true
   },
   "outputs": [],
   "source": []
  },
  {
   "cell_type": "markdown",
   "metadata": {},
   "source": [
    "    "
   ]
  },
  {
   "cell_type": "markdown",
   "metadata": {},
   "source": [
    "<a href='#Outline'>Back to the Top</a>"
   ]
  },
  {
   "cell_type": "markdown",
   "metadata": {},
   "source": [
    "\n"
   ]
  },
  {
   "cell_type": "markdown",
   "metadata": {},
   "source": [
    "### linspace and arange"
   ]
  },
  {
   "cell_type": "markdown",
   "metadata": {},
   "source": [
    "The **linspace** and **arange** commands are the best ways to make a sequence of regularly-spaced values; e.g., as points at which to plot a function.\n",
    "\n",
    "`linspace` makes a linear array of points from a starting to an ending value:"
   ]
  },
  {
   "cell_type": "code",
   "execution_count": 21,
   "metadata": {},
   "outputs": [
    {
     "data": {
      "text/plain": [
       "array([ 0.        ,  0.02040816,  0.04081633,  0.06122449,  0.08163265,\n",
       "        0.10204082,  0.12244898,  0.14285714,  0.16326531,  0.18367347,\n",
       "        0.20408163,  0.2244898 ,  0.24489796,  0.26530612,  0.28571429,\n",
       "        0.30612245,  0.32653061,  0.34693878,  0.36734694,  0.3877551 ,\n",
       "        0.40816327,  0.42857143,  0.44897959,  0.46938776,  0.48979592,\n",
       "        0.51020408,  0.53061224,  0.55102041,  0.57142857,  0.59183673,\n",
       "        0.6122449 ,  0.63265306,  0.65306122,  0.67346939,  0.69387755,\n",
       "        0.71428571,  0.73469388,  0.75510204,  0.7755102 ,  0.79591837,\n",
       "        0.81632653,  0.83673469,  0.85714286,  0.87755102,  0.89795918,\n",
       "        0.91836735,  0.93877551,  0.95918367,  0.97959184,  1.        ])"
      ]
     },
     "execution_count": 21,
     "metadata": {},
     "output_type": "execute_result"
    }
   ],
   "source": [
    "np.linspace(0,1)"
   ]
  },
  {
   "cell_type": "markdown",
   "metadata": {},
   "source": [
    "Note that the upper limit of the specified range is included among the values.\n",
    "\n",
    "If you provide a third argument, it takes that as the number of points in the space. If you don't provide the argument, it gives an array of length 50."
   ]
  },
  {
   "cell_type": "code",
   "execution_count": 22,
   "metadata": {},
   "outputs": [
    {
     "name": "stdout",
     "output_type": "stream",
     "text": [
      "[ 0.   0.1  0.2  0.3  0.4  0.5  0.6  0.7  0.8  0.9  1. ]\n"
     ]
    }
   ],
   "source": [
    "x = np.linspace(0,1,11)\n",
    "print(x)"
   ]
  },
  {
   "cell_type": "markdown",
   "metadata": {},
   "source": [
    " As noted, `linspace` is an easy way to make coordinates for plotting. Functions in the `numpy` library can act on an entire array (or even a matrix) of points at once. Thus,"
   ]
  },
  {
   "cell_type": "code",
   "execution_count": 24,
   "metadata": {},
   "outputs": [
    {
     "data": {
      "text/plain": [
       "array([  0.00000000e+00,   1.27877162e-01,   2.53654584e-01,\n",
       "         3.75267005e-01,   4.90717552e-01,   5.98110530e-01,\n",
       "         6.95682551e-01,   7.81831482e-01,   8.55142763e-01,\n",
       "         9.14412623e-01,   9.58667853e-01,   9.87181783e-01,\n",
       "         9.99486216e-01,   9.95379113e-01,   9.74927912e-01,\n",
       "         9.38468422e-01,   8.86599306e-01,   8.20172255e-01,\n",
       "         7.40277997e-01,   6.48228395e-01,   5.45534901e-01,\n",
       "         4.33883739e-01,   3.15108218e-01,   1.91158629e-01,\n",
       "         6.40702200e-02,  -6.40702200e-02,  -1.91158629e-01,\n",
       "        -3.15108218e-01,  -4.33883739e-01,  -5.45534901e-01,\n",
       "        -6.48228395e-01,  -7.40277997e-01,  -8.20172255e-01,\n",
       "        -8.86599306e-01,  -9.38468422e-01,  -9.74927912e-01,\n",
       "        -9.95379113e-01,  -9.99486216e-01,  -9.87181783e-01,\n",
       "        -9.58667853e-01,  -9.14412623e-01,  -8.55142763e-01,\n",
       "        -7.81831482e-01,  -6.95682551e-01,  -5.98110530e-01,\n",
       "        -4.90717552e-01,  -3.75267005e-01,  -2.53654584e-01,\n",
       "        -1.27877162e-01,  -2.44929360e-16])"
      ]
     },
     "execution_count": 24,
     "metadata": {},
     "output_type": "execute_result"
    }
   ],
   "source": [
    "x = np.linspace(0,2*np.pi)\n",
    "np.sin(x)"
   ]
  },
  {
   "cell_type": "markdown",
   "metadata": {},
   "source": [
    "A similar function is `arange`, which creates a sequence of values with a specified interval between them; e.g."
   ]
  },
  {
   "cell_type": "code",
   "execution_count": 25,
   "metadata": {},
   "outputs": [
    {
     "name": "stdout",
     "output_type": "stream",
     "text": [
      "[ 1.   1.2  1.4  1.6  1.8  2.   2.2  2.4  2.6  2.8]\n"
     ]
    }
   ],
   "source": [
    "y = np.arange(1,3,0.2)\n",
    "print(y)"
   ]
  },
  {
   "cell_type": "markdown",
   "metadata": {},
   "source": [
    "This is like the `range` function, but it can produce noninteger values, and the output is an array rather than a list.  Note that the last value in the specified interval (`3`, in this case) is *not* included in the sequence of values generated.  (If the step size is not specified, it defaults to 1.)"
   ]
  },
  {
   "cell_type": "markdown",
   "metadata": {},
   "source": [
    "<a href='#Outline'>Back to the Top</a>"
   ]
  },
  {
   "cell_type": "markdown",
   "metadata": {},
   "source": [
    "\n"
   ]
  },
  {
   "cell_type": "markdown",
   "metadata": {},
   "source": [
    "### Array Operations\n",
    "\n",
    "#### *Ignore this section and the Exercise at the end if you haven't yet had a course in linear algebra.*"
   ]
  },
  {
   "cell_type": "markdown",
   "metadata": {},
   "source": [
    "Array objects act sensibly when multiplied by scalars:"
   ]
  },
  {
   "cell_type": "code",
   "execution_count": 26,
   "metadata": {},
   "outputs": [
    {
     "data": {
      "text/plain": [
       "array([[ 0.125,  0.   ,  0.   ],\n",
       "       [ 0.   ,  0.125,  0.   ],\n",
       "       [ 0.   ,  0.   ,  0.125]])"
      ]
     },
     "execution_count": 26,
     "metadata": {},
     "output_type": "execute_result"
    }
   ],
   "source": [
    "0.125 * np.identity(3,'d')"
   ]
  },
  {
   "cell_type": "markdown",
   "metadata": {},
   "source": [
    "as well as when you add two matrices together. (However, the matrices have to be the same shape.)"
   ]
  },
  {
   "cell_type": "code",
   "execution_count": 27,
   "metadata": {},
   "outputs": [
    {
     "data": {
      "text/plain": [
       "array([[ 2.,  1.],\n",
       "       [ 1.,  3.]])"
      ]
     },
     "execution_count": 27,
     "metadata": {},
     "output_type": "execute_result"
    }
   ],
   "source": [
    "np.identity(2,'d') + np.array([[1,1],[1,2]])"
   ]
  },
  {
   "cell_type": "markdown",
   "metadata": {},
   "source": [
    "Something that confuses Matlab users is that the times (*) operator give element-wise multiplication rather than matrix multiplication:"
   ]
  },
  {
   "cell_type": "code",
   "execution_count": 28,
   "metadata": {},
   "outputs": [
    {
     "data": {
      "text/plain": [
       "array([[ 1.,  0.],\n",
       "       [ 0.,  4.]])"
      ]
     },
     "execution_count": 28,
     "metadata": {},
     "output_type": "execute_result"
    }
   ],
   "source": [
    "arr2 = np.array([[1,2], [3,4]])\n",
    "np.identity(2) * arr2"
   ]
  },
  {
   "cell_type": "markdown",
   "metadata": {},
   "source": [
    "Thus, when operating on arrays `A` and `B`, the `*` operator produces the array whose `[i,j]` element is `A[i,j]*B[i,j]`.   "
   ]
  },
  {
   "cell_type": "markdown",
   "metadata": {},
   "source": [
    "To get matrix multiplication, you need the **dot** command:"
   ]
  },
  {
   "cell_type": "code",
   "execution_count": 29,
   "metadata": {},
   "outputs": [
    {
     "data": {
      "text/plain": [
       "array([[ 1.,  2.],\n",
       "       [ 3.,  4.]])"
      ]
     },
     "execution_count": 29,
     "metadata": {},
     "output_type": "execute_result"
    }
   ],
   "source": [
    "np.dot(np.identity(2),arr2)"
   ]
  },
  {
   "cell_type": "markdown",
   "metadata": {},
   "source": [
    "**dot** can also do dot products (duh!):"
   ]
  },
  {
   "cell_type": "code",
   "execution_count": 30,
   "metadata": {},
   "outputs": [
    {
     "data": {
      "text/plain": [
       "5.0"
      ]
     },
     "execution_count": 30,
     "metadata": {},
     "output_type": "execute_result"
    }
   ],
   "source": [
    "v = np.array([3,4],'d')\n",
    "np.sqrt(np.dot(v,v))"
   ]
  },
  {
   "cell_type": "markdown",
   "metadata": {},
   "source": [
    "as well as matrix-vector products."
   ]
  },
  {
   "cell_type": "code",
   "execution_count": 31,
   "metadata": {},
   "outputs": [
    {
     "name": "stdout",
     "output_type": "stream",
     "text": [
      "matrix:\n",
      " [[ 1.  2.]\n",
      " [ 3.  4.]]\n",
      "vector:\n",
      " [[  5.]\n",
      " [ 10.]]\n"
     ]
    },
    {
     "data": {
      "text/plain": [
       "array([[ 25.],\n",
       "       [ 55.]])"
      ]
     },
     "execution_count": 31,
     "metadata": {},
     "output_type": "execute_result"
    }
   ],
   "source": [
    "mat = np.array([[1,2],[3,4]],'d')\n",
    "vec = np.array([[5],[10]],'d')\n",
    "print(\"matrix:\\n\", mat)\n",
    "print(\"vector:\\n\",vec)\n",
    "np.dot(mat,vec)"
   ]
  },
  {
   "cell_type": "markdown",
   "metadata": {},
   "source": [
    "(Note how the `\\n`, or **newline** character results in the printed matrix and vector being formatted nicely.  If you print them without this character, their rows don't align well.)"
   ]
  },
  {
   "cell_type": "markdown",
   "metadata": {},
   "source": [
    "There are **determinant**, **inverse**, and **transpose** functions that act as you would suppose. Transpose can be abbreviated with \".T\" at the end of a matrix object:"
   ]
  },
  {
   "cell_type": "code",
   "execution_count": 32,
   "metadata": {},
   "outputs": [
    {
     "data": {
      "text/plain": [
       "array([[1, 3],\n",
       "       [2, 4]])"
      ]
     },
     "execution_count": 32,
     "metadata": {},
     "output_type": "execute_result"
    }
   ],
   "source": [
    "m = np.array([[1,2],[3,4]])\n",
    "m.T"
   ]
  },
  {
   "cell_type": "markdown",
   "metadata": {},
   "source": [
    "There's also a **diag()** function that takes a list or a vector and puts it along the diagonal of a square matrix. "
   ]
  },
  {
   "cell_type": "code",
   "execution_count": 33,
   "metadata": {},
   "outputs": [
    {
     "data": {
      "text/plain": [
       "array([[1, 0, 0, 0, 0],\n",
       "       [0, 2, 0, 0, 0],\n",
       "       [0, 0, 3, 0, 0],\n",
       "       [0, 0, 0, 4, 0],\n",
       "       [0, 0, 0, 0, 5]])"
      ]
     },
     "execution_count": 33,
     "metadata": {},
     "output_type": "execute_result"
    }
   ],
   "source": [
    "np.diag([1,2,3,4,5])"
   ]
  },
  {
   "cell_type": "markdown",
   "metadata": {},
   "source": [
    "We'll find this useful later on."
   ]
  },
  {
   "cell_type": "markdown",
   "metadata": {},
   "source": [
    "One of the key benefits of using arrays rather than lists (or tuples) is that `numpy`'s functions are designed to work on entire array rows or columns at a time.  For example, if we want to divide a row of a matrix by a constant, this is how it would be done using an array to represent the matrix:"
   ]
  },
  {
   "cell_type": "code",
   "execution_count": 35,
   "metadata": {},
   "outputs": [
    {
     "name": "stdout",
     "output_type": "stream",
     "text": [
      "[ 1.  4.  9.]\n",
      "[[ 0.84147098  0.90929743  0.14112001]\n",
      " [-0.7568025  -0.95892427 -0.2794155 ]]\n"
     ]
    }
   ],
   "source": [
    "arr3 = np.array([[1,2,3],[4,5,6]],'d')\n",
    "print(arr3[0]**2)\n",
    "print(np.sin(arr3))"
   ]
  },
  {
   "cell_type": "markdown",
   "metadata": {},
   "source": [
    "If we try the same approach with a list, here's what happens:"
   ]
  },
  {
   "cell_type": "code",
   "execution_count": 37,
   "metadata": {},
   "outputs": [
    {
     "name": "stdout",
     "output_type": "stream",
     "text": [
      "<class 'list'>\n"
     ]
    },
    {
     "ename": "TypeError",
     "evalue": "unsupported operand type(s) for ** or pow(): 'list' and 'int'",
     "output_type": "error",
     "traceback": [
      "\u001b[1;31m---------------------------------------------------------------------------\u001b[0m",
      "\u001b[1;31mTypeError\u001b[0m                                 Traceback (most recent call last)",
      "\u001b[1;32m<ipython-input-37-23d1449d1ea5>\u001b[0m in \u001b[0;36m<module>\u001b[1;34m()\u001b[0m\n\u001b[0;32m      1\u001b[0m \u001b[0marrlist\u001b[0m \u001b[1;33m=\u001b[0m \u001b[1;33m[\u001b[0m\u001b[1;33m[\u001b[0m\u001b[1;36m1\u001b[0m\u001b[1;33m,\u001b[0m\u001b[1;36m2\u001b[0m\u001b[1;33m,\u001b[0m\u001b[1;36m3\u001b[0m\u001b[1;33m]\u001b[0m\u001b[1;33m,\u001b[0m\u001b[1;33m[\u001b[0m\u001b[1;36m4\u001b[0m\u001b[1;33m,\u001b[0m\u001b[1;36m5\u001b[0m\u001b[1;33m,\u001b[0m\u001b[1;36m6\u001b[0m\u001b[1;33m]\u001b[0m\u001b[1;33m]\u001b[0m\u001b[1;33m\u001b[0m\u001b[0m\n\u001b[0;32m      2\u001b[0m \u001b[0mprint\u001b[0m\u001b[1;33m(\u001b[0m\u001b[0mtype\u001b[0m\u001b[1;33m(\u001b[0m\u001b[0marrlist\u001b[0m\u001b[1;33m)\u001b[0m\u001b[1;33m)\u001b[0m\u001b[1;33m\u001b[0m\u001b[0m\n\u001b[1;32m----> 3\u001b[1;33m \u001b[0mprint\u001b[0m\u001b[1;33m(\u001b[0m\u001b[0marrlist\u001b[0m\u001b[1;33m[\u001b[0m\u001b[1;36m0\u001b[0m\u001b[1;33m]\u001b[0m\u001b[1;33m[\u001b[0m\u001b[1;33m:\u001b[0m\u001b[1;33m]\u001b[0m\u001b[1;33m**\u001b[0m\u001b[1;36m2\u001b[0m\u001b[1;33m)\u001b[0m\u001b[1;33m\u001b[0m\u001b[0m\n\u001b[0m",
      "\u001b[1;31mTypeError\u001b[0m: unsupported operand type(s) for ** or pow(): 'list' and 'int'"
     ]
    }
   ],
   "source": [
    "arrlist = [[1,2,3],[4,5,6]]\n",
    "print(type(arrlist))\n",
    "print(arrlist[0][:]**2)"
   ]
  },
  {
   "cell_type": "markdown",
   "metadata": {},
   "source": [
    "Note that to identify an element in a list of lists, the indices must be entered in *separate* pairs of brackets; e.g., the `i`-`j` element of `mylist` would be `mylist[i][j]`.  (The same element would be identified as `myarr[i,j]` in an array.)"
   ]
  },
  {
   "cell_type": "markdown",
   "metadata": {},
   "source": [
    "Interestingly, the following does work with a list:"
   ]
  },
  {
   "cell_type": "code",
   "execution_count": 38,
   "metadata": {},
   "outputs": [
    {
     "data": {
      "text/plain": [
       "array([[ 0.84147098,  0.90929743,  0.14112001],\n",
       "       [-0.7568025 , -0.95892427, -0.2794155 ]])"
      ]
     },
     "execution_count": 38,
     "metadata": {},
     "output_type": "execute_result"
    }
   ],
   "source": [
    "np.sin(arrlist)"
   ]
  },
  {
   "cell_type": "markdown",
   "metadata": {},
   "source": [
    "So, some `numpy` functions work on lists as well as on arrays."
   ]
  },
  {
   "cell_type": "markdown",
   "metadata": {},
   "source": [
    "\n"
   ]
  },
  {
   "cell_type": "markdown",
   "metadata": {},
   "source": [
    "**Exercise \\#9**\n",
    "\n",
    "Compute the value of the vector-matrix product $\\mathbf{a} \\cdot \\mathbf{B} \\cdot \\mathbf{c}$, where $\\mathbf{a} = [1, 2, 3, 4]$, $\\mathbf{B}$ is the $4 \\times 4$ identity matrix, and $\\mathbf{c} = [1, 2, 3, 4]$ as a column vector."
   ]
  },
  {
   "cell_type": "markdown",
   "metadata": {},
   "source": [
    "<a href='#Outline'>Back to the Top</a>"
   ]
  },
  {
   "cell_type": "markdown",
   "metadata": {},
   "source": [
    "\n"
   ]
  },
  {
   "cell_type": "markdown",
   "metadata": {},
   "source": [
    "### Optional Arguments"
   ]
  },
  {
   "cell_type": "markdown",
   "metadata": {},
   "source": [
    "You will recall that the **linspace** function can take either two arguments (for the starting and ending points):"
   ]
  },
  {
   "cell_type": "code",
   "execution_count": 39,
   "metadata": {},
   "outputs": [
    {
     "data": {
      "text/plain": [
       "array([ 0.        ,  0.02040816,  0.04081633,  0.06122449,  0.08163265,\n",
       "        0.10204082,  0.12244898,  0.14285714,  0.16326531,  0.18367347,\n",
       "        0.20408163,  0.2244898 ,  0.24489796,  0.26530612,  0.28571429,\n",
       "        0.30612245,  0.32653061,  0.34693878,  0.36734694,  0.3877551 ,\n",
       "        0.40816327,  0.42857143,  0.44897959,  0.46938776,  0.48979592,\n",
       "        0.51020408,  0.53061224,  0.55102041,  0.57142857,  0.59183673,\n",
       "        0.6122449 ,  0.63265306,  0.65306122,  0.67346939,  0.69387755,\n",
       "        0.71428571,  0.73469388,  0.75510204,  0.7755102 ,  0.79591837,\n",
       "        0.81632653,  0.83673469,  0.85714286,  0.87755102,  0.89795918,\n",
       "        0.91836735,  0.93877551,  0.95918367,  0.97959184,  1.        ])"
      ]
     },
     "execution_count": 39,
     "metadata": {},
     "output_type": "execute_result"
    }
   ],
   "source": [
    "np.linspace(0,1)"
   ]
  },
  {
   "cell_type": "markdown",
   "metadata": {},
   "source": [
    "or it can take three arguments, for the starting point, the ending point, and the number of points:"
   ]
  },
  {
   "cell_type": "code",
   "execution_count": 40,
   "metadata": {},
   "outputs": [
    {
     "data": {
      "text/plain": [
       "array([ 0.  ,  0.25,  0.5 ,  0.75,  1.  ])"
      ]
     },
     "execution_count": 40,
     "metadata": {},
     "output_type": "execute_result"
    }
   ],
   "source": [
    "np.linspace(0,1,5)"
   ]
  },
  {
   "cell_type": "markdown",
   "metadata": {},
   "source": [
    "You can also pass in keywords to exclude the endpoint:"
   ]
  },
  {
   "cell_type": "code",
   "execution_count": 41,
   "metadata": {},
   "outputs": [
    {
     "data": {
      "text/plain": [
       "array([ 0. ,  0.2,  0.4,  0.6,  0.8])"
      ]
     },
     "execution_count": 41,
     "metadata": {},
     "output_type": "execute_result"
    }
   ],
   "source": [
    "np.linspace(0,1,5,endpoint=False)"
   ]
  },
  {
   "cell_type": "markdown",
   "metadata": {},
   "source": [
    "Right now, we know how to specify only functions that have a fixed number of arguments. We'll learn how to do the more general cases here.\n",
    "\n",
    "One type of additional argument we can provide is indicated in a function definition as `*args`.  This allows the user to input any number of arguments, which can be numbers, strings, or lists/arrays.  The individual arguments that make up the set then are identified in the code as `args[0]`, `args[1]`, etc.  For instance, consider this code (which is not particularly useful!):"
   ]
  },
  {
   "cell_type": "code",
   "execution_count": 10,
   "metadata": {},
   "outputs": [
    {
     "name": "stdout",
     "output_type": "stream",
     "text": [
      "Hello\n",
      "[5.3, 6]\n",
      "Hello\n",
      "[5.3, 6]\n",
      "Hello\n",
      "[5.3, 6]\n"
     ]
    }
   ],
   "source": [
    "def multiPrint(repeat, *args):\n",
    "    \n",
    "    numin = len(args)       # the number of unspecified inputs\n",
    "    \n",
    "    for i in range(repeat):      # repeat the printout below\n",
    "        for j in range(numin):   # print out each element of args\n",
    "            print(args[j])\n",
    "    \n",
    "multiPrint(3, \"Hello\", [5.3, 6])"
   ]
  },
  {
   "cell_type": "markdown",
   "metadata": {},
   "source": [
    "This output shows that the string `Hello` was captured as one optional argument and the list `[5.3, 6]` as another. "
   ]
  },
  {
   "cell_type": "markdown",
   "metadata": {},
   "source": [
    "We also can specify a default value for anything that might have a \"usual\" value:"
   ]
  },
  {
   "cell_type": "code",
   "execution_count": 9,
   "metadata": {},
   "outputs": [
    {
     "name": "stdout",
     "output_type": "stream",
     "text": [
      "Hello!\n",
      "Hello!\n"
     ]
    }
   ],
   "source": [
    "def multiHello(repeat=2):\n",
    "       \n",
    "    for i in range(repeat):      # repeat the printout below\n",
    "        print(\"Hello!\")\n",
    "    \n",
    "multiHello( )"
   ]
  },
  {
   "cell_type": "markdown",
   "metadata": {},
   "source": [
    "Note that we could not do this with the initial argument `repeat` in the `multiPrint` function.  If we defined the function as `def multiprint(repeat=2, *args)` then to get the default number of repetitions we would have to call it like `multiprint( , \"Hello\", [5.3, 6])` but Python gives a syntax error because of the \",\" with nothing in front."
   ]
  },
  {
   "cell_type": "markdown",
   "metadata": {},
   "source": [
    "<a href='#Outline'>Back to the Top</a>"
   ]
  },
  {
   "cell_type": "markdown",
   "metadata": {},
   "source": [
    "- - -"
   ]
  },
  {
   "cell_type": "markdown",
   "metadata": {},
   "source": [
    "## IV. Plotting with Matplotlib"
   ]
  },
  {
   "cell_type": "markdown",
   "metadata": {},
   "source": [
    "We can generally understand data better by plotting it.  Python has a powerful plotting library called [Matplotlib](http://matplotlib.sf.net) , which provides capabilities very similar to those of MATLAB. The IPython notebook interface we are using for these notes has that functionality built in.\n",
    "\n",
    "As an example, we'll compare two different functions, an exponential function, and the factorial function, both of which grow faster than polynomially. Which one grows the fastest? Let's plot them. "
   ]
  },
  {
   "cell_type": "code",
   "execution_count": 43,
   "metadata": {},
   "outputs": [],
   "source": [
    "import math\n",
    "expon = []\n",
    "for i in range(20):\n",
    "    expon.append(math.e ** i)"
   ]
  },
  {
   "cell_type": "markdown",
   "metadata": {},
   "source": [
    "Next let's generate the factorials."
   ]
  },
  {
   "cell_type": "code",
   "execution_count": 44,
   "metadata": {},
   "outputs": [],
   "source": [
    "facts = []                         # create list\n",
    "for i in range(20):\n",
    "    facts.append(math.factorial(i))     # compute newest value and append to list"
   ]
  },
  {
   "cell_type": "markdown",
   "metadata": {},
   "source": [
    "Now we use the Matplotlib function **plot** to compare the two.  The first code line below tells the notebook to display the plot right in the notebook, while the second line imports all of the  Matplotlib functions that we usually need.  "
   ]
  },
  {
   "cell_type": "code",
   "execution_count": 45,
   "metadata": {
    "collapsed": true
   },
   "outputs": [],
   "source": [
    "%matplotlib inline\n",
    "from matplotlib.pyplot import *"
   ]
  },
  {
   "cell_type": "markdown",
   "metadata": {},
   "source": [
    "**Note**: you might have trouble with plotting in a notebook unless these two lines appear in the first code cell of the notebook and it is executed prior to all other code cells."
   ]
  },
  {
   "cell_type": "markdown",
   "metadata": {},
   "source": [
    "Matplotlib plots can display axis labels, legends, and a title:"
   ]
  },
  {
   "cell_type": "code",
   "execution_count": 46,
   "metadata": {},
   "outputs": [
    {
     "data": {
      "text/plain": [
       "<matplotlib.legend.Legend at 0x7fb1959f27b8>"
      ]
     },
     "execution_count": 46,
     "metadata": {},
     "output_type": "execute_result"
    },
    {
     "data": {
      "image/png": "[encoded data removed]",
      "text/plain": [
       "<matplotlib.figure.Figure at 0x7fb195cf8400>"
      ]
     },
     "metadata": {},
     "output_type": "display_data"
    }
   ],
   "source": [
    "plot(facts,label=\"factorial\")\n",
    "plot(expon,label=\"exponential\")\n",
    "xlabel(\"n\")\n",
    "ylabel(\"function values\")\n",
    "title(\"Factorial and Exponential Functions\")\n",
    "legend()"
   ]
  },
  {
   "cell_type": "markdown",
   "metadata": {},
   "source": [
    "The factorial function grows much faster. In fact, you can't even see the exponential sequence. It's not entirely surprising: a function where we multiply by (growing) integer *n* in each iteration is bound to grow faster than one where we multiply by *e* in each iteration.\n",
    "\n",
    "**Note**: We have not given the `plot` function a list of $x$ values; in this case, it assumes the $x$ values are 0, 1, 2, ... .  To plot against a different set of values, just provide those to `plot`:"
   ]
  },
  {
   "cell_type": "code",
   "execution_count": 47,
   "metadata": {},
   "outputs": [],
   "source": [
    "xvals = range(0,60,3)   # every third value"
   ]
  },
  {
   "cell_type": "code",
   "execution_count": 48,
   "metadata": {},
   "outputs": [
    {
     "data": {
      "text/plain": [
       "<matplotlib.text.Text at 0x7fb19596b400>"
      ]
     },
     "execution_count": 48,
     "metadata": {},
     "output_type": "execute_result"
    },
    {
     "data": {
      "image/png": "[encoded data removed]",
      "text/plain": [
       "<matplotlib.figure.Figure at 0x7fb1959aff60>"
      ]
     },
     "metadata": {},
     "output_type": "display_data"
    }
   ],
   "source": [
    "plot(xvals,facts)\n",
    "xlabel(\"n\")\n",
    "ylabel(\"function values\")"
   ]
  },
  {
   "cell_type": "markdown",
   "metadata": {},
   "source": [
    "Notice that if you hover your cursor over the plot, a \"resize\" control appears at the lower right corner.\n",
    "\n",
    "We can plot different style lines, or show markers, or reposition the legend:"
   ]
  },
  {
   "cell_type": "code",
   "execution_count": 49,
   "metadata": {},
   "outputs": [
    {
     "data": {
      "text/plain": [
       "<matplotlib.legend.Legend at 0x7fb19590afd0>"
      ]
     },
     "execution_count": 49,
     "metadata": {},
     "output_type": "execute_result"
    },
    {
     "data": {
      "image/png": "[encoded data removed]",
      "text/plain": [
       "<matplotlib.figure.Figure at 0x7fb195935390>"
      ]
     },
     "metadata": {},
     "output_type": "display_data"
    }
   ],
   "source": [
    "plot(facts,'r-',label=\"Factorial line\")\n",
    "plot(facts,'bo',label=\"Factorial points\")\n",
    "xlabel(\"n\")\n",
    "ylabel(\"function values\")\n",
    "legend(bbox_to_anchor=(1.5,1))"
   ]
  },
  {
   "cell_type": "markdown",
   "metadata": {},
   "source": [
    "The color symbols `r`, `b`, `g`, `c`, `y`, `m`, `k`, and `w` represent the colors red, blue, green, cyan, yellow, and magenta, black, and white, respectively.  (Other colors are available -- see the online `Matplotlib` documentation pages.)\n",
    "\n",
    "The symbol (`o`) creates large dots, a period (`.`) creates small ones; (`-`) creates solid lines, (`--`) creates dashed lines, and (`-.`) creates dash-dot lines.\n",
    "\n",
    "Besides the `bbox_to_anchor` function, the legend location also can be specified using `loc = N` in the legend command.  `N = 1`, `N = 2`, `N = 3`, and `N = 4` are the upper-right, upper-left, lower-left, and lower-right corners, respectively.  Similarly, `N = 5`, `N = 6`, `N = 8`, and `N = 9` put the legend in the middle of the right, left, bottom, and top sides, respectively. "
   ]
  },
  {
   "cell_type": "code",
   "execution_count": 50,
   "metadata": {},
   "outputs": [
    {
     "data": {
      "text/plain": [
       "<matplotlib.legend.Legend at 0x7fb195873da0>"
      ]
     },
     "execution_count": 50,
     "metadata": {},
     "output_type": "execute_result"
    },
    {
     "data": {
      "image/png": "[encoded data removed]",
      "text/plain": [
       "<matplotlib.figure.Figure at 0x7fb1958dbfd0>"
      ]
     },
     "metadata": {},
     "output_type": "display_data"
    }
   ],
   "source": [
    "plot(facts,'r-',label=\"Factorial line\")\n",
    "plot(facts,'bo',label=\"Factorial points\")\n",
    "xlabel(\"n\")\n",
    "ylabel(\"function values\")\n",
    "legend(loc=6)"
   ]
  },
  {
   "cell_type": "markdown",
   "metadata": {},
   "source": [
    "\n",
    "We can plot the two functions on a semilog plot to see them a little more clearly:"
   ]
  },
  {
   "cell_type": "code",
   "execution_count": 51,
   "metadata": {},
   "outputs": [
    {
     "data": {
      "text/plain": [
       "<matplotlib.legend.Legend at 0x7fb1957e0b38>"
      ]
     },
     "execution_count": 51,
     "metadata": {},
     "output_type": "execute_result"
    },
    {
     "data": {
      "image/png": "[encoded data removed]",
      "text/plain": [
       "<matplotlib.figure.Figure at 0x7fb19588bcc0>"
      ]
     },
     "metadata": {},
     "output_type": "display_data"
    }
   ],
   "source": [
    "semilogy(facts,label=\"factorial\")\n",
    "semilogy(expon,label=\"exponential\")\n",
    "xlabel(\"n\")\n",
    "legend(loc=9)"
   ]
  },
  {
   "cell_type": "markdown",
   "metadata": {},
   "source": [
    "Note that, as you'd expect, the exponential function is linear in a semilog plot."
   ]
  },
  {
   "cell_type": "markdown",
   "metadata": {},
   "source": [
    "We can plot the two functions in separate subplots:"
   ]
  },
  {
   "cell_type": "code",
   "execution_count": 52,
   "metadata": {},
   "outputs": [
    {
     "data": {
      "text/plain": [
       "<matplotlib.text.Text at 0x7fb195586da0>"
      ]
     },
     "execution_count": 52,
     "metadata": {},
     "output_type": "execute_result"
    },
    {
     "data": {
      "image/png": "[encoded data removed]",
      "text/plain": [
       "<matplotlib.figure.Figure at 0x7fb195668940>"
      ]
     },
     "metadata": {},
     "output_type": "display_data"
    }
   ],
   "source": [
    "subplots(1,2)\n",
    "subplot(1,2,1)\n",
    "semilogy(facts)\n",
    "xlabel(\"n\")\n",
    "title('factorial')\n",
    "\n",
    "subplot(1,2,2)\n",
    "semilogy(expon,color='g')\n",
    "xlabel(\"n\")\n",
    "title('exponential')"
   ]
  },
  {
   "cell_type": "markdown",
   "metadata": {},
   "source": [
    "To create two (or more) plots in separate graph frames, use the `figure()` command to create a new frame:"
   ]
  },
  {
   "cell_type": "code",
   "execution_count": 53,
   "metadata": {},
   "outputs": [
    {
     "data": {
      "text/plain": [
       "<matplotlib.text.Text at 0x7fb1955f5390>"
      ]
     },
     "execution_count": 53,
     "metadata": {},
     "output_type": "execute_result"
    },
    {
     "data": {
      "image/png": "[encoded data removed]",
      "text/plain": [
       "<matplotlib.figure.Figure at 0x7fb1956b8a20>"
      ]
     },
     "metadata": {},
     "output_type": "display_data"
    },
    {
     "data": {
      "image/png": "[encoded data removed]",
      "text/plain": [
       "<matplotlib.figure.Figure at 0x7fb195772320>"
      ]
     },
     "metadata": {},
     "output_type": "display_data"
    }
   ],
   "source": [
    "semilogy(facts)\n",
    "xlabel(\"n\")\n",
    "title('factorial')\n",
    "\n",
    "figure()\n",
    "semilogy(expon,color='g')\n",
    "xlabel(\"n\")\n",
    "title('exponential')"
   ]
  },
  {
   "cell_type": "markdown",
   "metadata": {},
   "source": [
    "\n"
   ]
  },
  {
   "cell_type": "markdown",
   "metadata": {},
   "source": [
    "**Exercise \\#10**\n",
    "\n",
    "Plot the functions $f_1(n) = n$ and $f_2(n) = n^2$ on the same plot, for integer $n$ in the range $0 \\rightarrow 10$. Display a legend in the upper-left corner, label the $x$-axis with n and the $y$-axis with f(n).\n"
   ]
  },
  {
   "cell_type": "markdown",
   "metadata": {},
   "source": [
    "\n"
   ]
  },
  {
   "cell_type": "markdown",
   "metadata": {},
   "source": [
    "The `matplotlib` library also has a way to plot graphs in polar coordinates.  To do this, it appears to be necessary first to create a figure, then to create a set of polar axes as a \"subplot\" in that figure:\n",
    "\n",
    "```python\n",
    "fig = figure()\n",
    "ax = fig.add_subplot(111, polar=True)\n",
    "```\n",
    "\n",
    "This command can be used to create multiple subplots.  The `111` values mean that in this case there are just one row and one column of subplots and that the current subplot is the first one in that set (of one).  If you wanted two subplots side-by-side, you would denote the first one as something like `ax1 = fig.add_subplot(121, polar=True)` and the second one as `ax2 = fig.add_subplot(122, polar=True)`.  (The names `ax1` and `ax2` are arbitrary.)\n",
    "\n",
    "The code below creates an example polar plot that happens to depict the curve given by $\\theta(r) = 4 \\pi r$."
   ]
  },
  {
   "cell_type": "code",
   "execution_count": 54,
   "metadata": {},
   "outputs": [
    {
     "data": {
      "image/png": "[encoded data removed]",
      "text/plain": [
       "<matplotlib.figure.Figure at 0x7fb1952e0a90>"
      ]
     },
     "metadata": {},
     "output_type": "display_data"
    }
   ],
   "source": [
    "fig = figure()\n",
    "ax = fig.add_subplot(121, polar=True)\n",
    "r = np.arange(0,1,0.001)          # create list of values at increasing radii\n",
    "theta = 4 * np.pi * r             # the theta values to be plotted corresponding to the list of r values...\n",
    "                               # ... we could have any function of r here, but this one is particularly simple\n",
    "\n",
    "line = ax.plot(theta, r, color='orange', lw=3)   # plot theta vs. r on the set of axes in the subplot labeled 'ax'"
   ]
  },
  {
   "cell_type": "markdown",
   "metadata": {},
   "source": [
    " "
   ]
  },
  {
   "cell_type": "markdown",
   "metadata": {},
   "source": [
    "**Exercise \\#11**\n",
    "\n",
    "Plot two subplots side by side, one duplicating the figure above, and one showing the mirror-image curve (in blue), as if reflected about the vertical axis.  (In other words, while this orange curve starts out going along roughly the $45^\\textrm{o}$ line and then curves counterclockwise, the blue curve should start out heading along the $135^\\textrm{o}$ line and then curve clockwise.)\n"
   ]
  },
  {
   "cell_type": "markdown",
   "metadata": {},
   "source": [
    "\n"
   ]
  },
  {
   "cell_type": "markdown",
   "metadata": {},
   "source": [
    "Another type of plot that you might want to create fairly often is a color plot in which the color of each pixel represents the value of some (scalar) parameter at that point (this will work for a grayscale image as well).  For this type of plot, use the `imshow` function:"
   ]
  },
  {
   "cell_type": "code",
   "execution_count": 55,
   "metadata": {},
   "outputs": [
    {
     "data": {
      "text/plain": [
       "<matplotlib.image.AxesImage at 0x7fb195686898>"
      ]
     },
     "execution_count": 55,
     "metadata": {},
     "output_type": "execute_result"
    },
    {
     "data": {
      "image/png": "[encoded data removed]",
      "text/plain": [
       "<matplotlib.figure.Figure at 0x7fb19531b6a0>"
      ]
     },
     "metadata": {},
     "output_type": "display_data"
    }
   ],
   "source": [
    "values = np.zeros([100,100],float)\n",
    "\n",
    "for i in range(100):\n",
    "    for j in range(100):\n",
    "        values[i,j] = i + j    # for something to plot, set each pixel's value to the sum of its row & column indices\n",
    "        \n",
    "imshow(values)"
   ]
  },
  {
   "cell_type": "markdown",
   "metadata": {},
   "source": [
    "There are many color schemes (known as **colormaps**) that one can use in these plots.  It's also worth noting that the function `imshow` can be used to display images stored as arrays."
   ]
  },
  {
   "cell_type": "markdown",
   "metadata": {},
   "source": [
    " "
   ]
  },
  {
   "cell_type": "markdown",
   "metadata": {},
   "source": [
    "Yet another type of plot that can be created with `matplotlib` is a 3-D plot.  To do this, we need to import another function using\n",
    "\n",
    "```python\n",
    "from mpl_toolkits.mplot3d import Axes3D\n",
    "```\n",
    "\n",
    "The following code illustrates a curve in 3-D.  After creating the arrays of ($x$, $y$, $z$) coordinates to be plotted, it creates a new figure and defines its axes as 3-D, using the line `ax = fig.gca(projection = '3d')`.  (`gca` means \"get current axes.\"  This terminology may be familiar from MATLAB.)  The `plot` function is called for these axes, and the three sets of coordinates are provided."
   ]
  },
  {
   "cell_type": "code",
   "execution_count": 56,
   "metadata": {},
   "outputs": [
    {
     "data": {
      "text/plain": [
       "<matplotlib.text.Text at 0x7fb1956fe438>"
      ]
     },
     "execution_count": 56,
     "metadata": {},
     "output_type": "execute_result"
    },
    {
     "data": {
      "image/png": "[encoded data removed]",
      "text/plain": [
       "<matplotlib.figure.Figure at 0x7fb1955dc2e8>"
      ]
     },
     "metadata": {},
     "output_type": "display_data"
    }
   ],
   "source": [
    "from mpl_toolkits.mplot3d import Axes3D\n",
    "\n",
    "tvals = np.arange(0.1, 20,0.1)      # times from 0.1 to 10, stepping by 0.1\n",
    "xvals = np.cos(tvals)/tvals**.25    # makes a nice inward spiral\n",
    "yvals = np.sin(tvals)/tvals**.25\n",
    "zvals = tvals\n",
    "\n",
    "fig = figure()\n",
    "ax = fig.gca(projection = '3d')\n",
    "ax.plot(xvals, yvals, zvals)\n",
    "xlabel('x')\n",
    "ylabel('y')"
   ]
  },
  {
   "cell_type": "markdown",
   "metadata": {},
   "source": [
    "Unfortunately, when rendered inside an IPython notebook these images are not manipulable: you can't click-and-drag to rotate them, as you can do in some other interactive environments.  Maybe this capability will be added in the future...."
   ]
  },
  {
   "cell_type": "markdown",
   "metadata": {},
   "source": [
    " "
   ]
  },
  {
   "cell_type": "markdown",
   "metadata": {},
   "source": [
    "There are many more things you can do with Matplotlib. We'll be looking at some of them in the modules. In the meantime, if you want an idea of the different kinds of graphics you can create, look at the Matplotlib [Gallery](http://matplotlib.org/gallery.html).  Clicking on one of the figures will bring you to a new page, at the top of which you should find the Python source code used to create the figures on the page.  You can download the code, open it in a text editor (it may not be easily readable), and copy-and-paste the text into a notebook cell.  Remember to precede it with another code cell (executed first) containing the lines \n",
    "\n",
    "```python\n",
    "%matplotlib inline\n",
    "from matplotlib.pyplot import *\n",
    "```\n",
    "\n",
    "Rob Johansson's IPython notebook [Introduction to Matplotlib](http://nbviewer.ipython.org/urls/raw.github.com/jrjohansson/scientific-python-lectures/master/Lecture-4-Matplotlib.ipynb) also is good."
   ]
  },
  {
   "cell_type": "markdown",
   "metadata": {},
   "source": [
    "<a href='#Part-2'>Back to the Top</a>"
   ]
  },
  {
   "cell_type": "markdown",
   "metadata": {},
   "source": [
    "- - -"
   ]
  },
  {
   "cell_type": "markdown",
   "metadata": {},
   "source": [
    "### Breakpoint Answers\n",
    "\n",
    "\n",
    "**Breakpoint 3:** The output is $13$, because `sumfun(square, 2, 3)` calls `square` with the inputs $2$ and $3$, computing $2^2 + 3^2 = 13$.\n",
    "\n",
    "**Breakpoint 4:** The command prints `6`, because it's the element with row index `1` and column index `2` (the *second* row and *third* column, since the first row and column have index `0`).  \n",
    "$$ $$\n",
    "**Breakpoint 5:** One could use the code `arr[:,-1]`, which selects all rows and the last column. \n",
    " \n",
    " "
   ]
  },
  {
   "cell_type": "markdown",
   "metadata": {},
   "source": [
    " "
   ]
  },
  {
   "cell_type": "markdown",
   "metadata": {},
   "source": [
    "<font size=\"5pt\">**End of Part 2**"
   ]
  }
 ],
 "metadata": {
  "kernelspec": {
   "display_name": "Python 3",
   "language": "python",
   "name": "python3"
  },
  "language_info": {
   "codemirror_mode": {
    "name": "ipython",
    "version": 3
   },
   "file_extension": ".py",
   "mimetype": "text/x-python",
   "name": "python",
   "nbconvert_exporter": "python",
   "pygments_lexer": "ipython3",
   "version": "3.6.1"
  }
 },
 "nbformat": 4,
 "nbformat_minor": 1
}
