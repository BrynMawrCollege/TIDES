{
 "cells": [
  {
   "cell_type": "markdown",
   "metadata": {
    "tags": []
   },
   "source": [
    "# <font face=\"times\"><font size=\"6pt\"><p style = 'text-align: center;'> BRYN MAWR COLLEGE\n",
    "\n",
    "<font face=\"times\"><font size=\"6pt\"><p style = 'text-align: center;'><b>Computational Methods in the Physical Sciences</b>\n",
    "<br/><br/>\n",
    "    \n",
    "<p style = 'text-align: center;'><b>Module 15: Parallel Computing</b><br/><br/> "
   ]
  },
  {
   "cell_type": "markdown",
   "metadata": {},
   "source": [
    "   ***Prerequisite modules:*** Module 0, Module 1\n",
    "   \n",
    "   ***Estimated completion time:*** 1.5-4 hours\n",
    "   \n",
    "   ***Learning objectives:*** To learn some basic concepts and terminology related to parallel computing, to become familiar with some of the common Python packages used for parallel processing, and to see how those packages can be used to parallelize a couple of example applications."
   ]
  },
  {
   "cell_type": "markdown",
   "metadata": {},
   "source": [
    "   "
   ]
  },
  {
   "cell_type": "markdown",
   "metadata": {},
   "source": [
    "<img src = \"./Images/Code_quality_xkcd.png\" width=600>"
   ]
  },
  {
   "cell_type": "markdown",
   "metadata": {},
   "source": [
    "<center>(Image credit: https://xkcd.com/1513)</center>"
   ]
  },
  {
   "cell_type": "markdown",
   "metadata": {},
   "source": [
    "   "
   ]
  },
  {
   "cell_type": "markdown",
   "metadata": {},
   "source": [
    "This module presents the basics of ***parallel computing***, which makes use of the multiple processors common in today's computers to speed up certain types of computation.  For large-scale computations, parallel processing techniques can spread the computational load among multiple separate computers."
   ]
  },
  {
   "cell_type": "markdown",
   "metadata": {},
   "source": [
    "   "
   ]
  },
  {
   "cell_type": "markdown",
   "metadata": {},
   "source": [
    "### <font color=\"blue\">Scientist Profile</font>\n",
    "\n",
    "Anousheh Ansari, born September 12, 1966, is an Iranian-American engineer and co-founder and chairwoman of Prodea Systems, an internet-of-things services company. She previously served as co-founder and CEO of Telecom Technologies, Inc., a maker of software used for switching data streams within telecommunications networks.  She received a B.S. degree in electrical engineering and computer science from George Mason University, and a master's degree in electrical engineering from George Washington University.  She is the CEO of the XPRIZE Foundation, which funds competitive awards to encourage development of solutions to global challenges.  The \\\\$10 million Ansari XPRIZE, funded by Anousheh and her family, spurred the growth of the commercial spaceflight industry, helping to stimulate the launches of SpaceX, Blue Origin, and Virgin Galactic.  Ansari also co-founded The Billion Dollar Fund for Women, with the goal of investing $1 billion in women-founded companies by 2020.  On September 18, 2006, a few days after her 40th birthday, Ansari became the first Iranian in space and the fourth self-funded space tourist, as well as the first self-funded woman to fly to the International Space Station.  "
   ]
  },
  {
   "cell_type": "markdown",
   "metadata": {},
   "source": [
    "<img src ='./Images/Anousheh_Ansari.jpg' width=300>"
   ]
  },
  {
   "cell_type": "markdown",
   "metadata": {},
   "source": [
    "<center>(Image credit: NASA, Public Domain, via Wikipedia, https://en.wikipedia.org/wiki/Anousheh_Ansari#/media/File:AnoushehAnsari.jpg)"
   ]
  },
  {
   "cell_type": "markdown",
   "metadata": {},
   "source": [
    "   "
   ]
  },
  {
   "cell_type": "markdown",
   "metadata": {},
   "source": [
    "### <font color=\"blue\">Introduction</font>\n",
    "\n",
    "The basic idea behind parallel computing is to split up computations into independent parts that can be sent to different processors within a single computer, or to different computers in a connected ***cluster***, for more-or-less *simultaneous* processing.  This process is called ***parallelization***.   \n",
    "\n",
    "A bit of terminology: the term ***core*** (sometimes, ***compute core*** or ***computing core***) used to mean the same thing as ***CPU*** (Central Processing Unit)  Today, most CPUs consist of multiple cores that can work on separate tasks.  Further, cores can be split using \"simultaneous multi-threading\" or \"hyperthreading\" into \"virtual cores,\" called \"threads,\" that also can perform separate tasks.  For example, the author's laptop has 8 cores but 16 \"logical processors\" in its CPU, meaning it has two virtual cores for each actual core.  Note that the meaning of the term \"thread\" here is not exactly the same as its meaning below, but the two meanings are similar.  \n",
    "\n",
    "Modern computers also contain ***GPU***s (Graphics Processing Units) which support the display of images and video on a monitor.  The video-heavy nature of computer games has prompted the development of increasingly powerful GPUs in recent years.  They are designed to perform matrix operations very efficiently, and are inherently parallel, so they are increasingly being used for parallel processing tasks. \n",
    "\n",
    "Not all computational tasks are parallelizable, and those that are generally can be only partially parallelized.  If a computation can be at least partially parallelized, the time to complete it might be reduced as a result.  This is not always the case, however: there can be a significant amount of computational \"overhead\" involved in coordinating the multiple CPUs (or GPUs, or cores) to work together properly and possibly exchange data, and the time spent by the computer managing that coordination could exceed the time saved by parallelization.\n",
    "\n",
    "The sorts of computations that benefit greatly from parallelization include those involving lots of interacting \"parts\" whose individual behaviors can be separated sufficiently from those of the other parts.  In the scientific/engineering realm, those parts could be particles, fields, stars, etc., and tasks for which parallel computing is used include modeling of: the climate,  the motions of stars in galaxies, air flow around moving vehicles, traffic flows, and plasma in fusion machines.\n",
    "\n",
    "A given computer system can be categorized in one of a number of different parallel computing architectures depending on whether only data, or only instructions (for what to do with the data), or both are parallelized (i.e., split among different processors).  Lawrence Livermore National Laboratory has a nice, mostly nontechnical tutorial on parallel computing here: https://hpc.llnl.gov/documentation/tutorials/introduction-parallel-computing-tutorial .\n",
    "\n",
    "That website provides a simple example of a computation that *can* be parallelized: determining the potential energies of the various possible shapes (or \"conformations\") of a molecule in order to find the lowest-energy conformation overall.  Since the energies of the different conformations are independent of each other, they can be computed by different CPUs without the need for any coordination between them.  \n",
    "\n",
    "A simple example of a computation that *cannot* be parallelized usefully is determination of the Fibonacci numbers using the defining relation $F(n) = F(n-1) + F(n-2)$, where each number depends on the previous two.  In this case, splitting the computation of $F(n-2)$ off in one CPU and $F(n-1)$ in another doesn't really help, since each of those depend themselves on earlier numbers in the sequence which would have to be computed first, presumably by other CPUs.  For $n$ greater than the number of CPUs available, the computation would run out of CPUs before finding $F(n)$.  However, the task *can* be parallelized using a different algorithm (Binet's formula): $F(n) = \\left[ \\phi^n - (-\\phi)^{-n} \\right] \\big/ \\sqrt{5}$, where $\\phi \\equiv \\left( 1 + \\sqrt{5} \\right) \\bigm/ 2$.  In this case, one could have $\\phi^n$ and $-\\phi^{-n}$ computed by different cores and then combined to get $F(n)$.  The moral of this example is that just because a problem cannot be parallelized via one approach doesn't mean it cannot be parallelized at all!\n",
    "\n",
    "The procedure required for parallelizing a particular task is specific to that task, and depends on the degree to which the multiple tasks or cores involved need to coordinate with each other.  In one programming paradigm, parallel tasks that need to share data will have access to a common region of memory in the computer (this is the ***shared memory*** paradigm); in this case, if the tasks can change the data then access to it must be controlled carefully to avoid one task altering data inappropriately for another.  In another paradigm, parallel tasks will exchange the data that needs to be shared: this is called ***message passing***, and is accomplished using a ***message passing interface***, or ***MPI***.  The Python version of MPI is ***`mpi4py`*** (see https://pypi.org/project/mpi4py/).  (Similar interfaces exist for other programming languages.)  A message passing approach is indispensible for parallel computations involving large numbers of cores (approx. 1000 or more).  For a brief, readable introduction to MPI, see **Effective Computation in Physics**, by A. Scopatz and K. Huff, O'Reilly Media Inc., 2015.  (That text also discusses several approaches to parallelization of a more physically-based example problem than those considered below: the gravitational N-body problem.)\n",
    "\n",
    "Parallel computing is a complicated topic, and this module will present only some simple examples of parallelization.  For all but the simplest tasks, the right parallelization approach to use is highly dependent on the particular problem to be solved and the computing resources available. \n",
    "\n",
    "Before getting into some of the Python approaches to parallelization, it is necessary to introduce some commonly used terms.\n",
    "\n",
    "#### Terminology\n",
    "\n",
    "* A ***process*** is an instance of a running program, e.g. a running Jupyter notebook, a Microsoft Word document being edited, etc.  Other \"background\" processes are being run by your computer's operating system all the time.  You can see them on a Windows machine using the Task Manager, on a Mac using the Activity Monitor, and on a Linux/Unix machine using `top` from a command line.  Note that each process has its own ID number called the Process ID or ***PID***.\n",
    "\n",
    "\n",
    "* A ***thread*** is a process within a process.  Processes can have multiple threads.  *Threads share data, so changing the value of some variable in one thread will change it in all the others*.  *That's not the case for processes*.  \n",
    "\n",
    "\n",
    "* A ***parent*** process is the \"base\" from which other processes can be created.  There is just one parent process: the Python ***interpreter***, which translates your code into actions by the computer.  \n",
    "\n",
    "\n",
    "* A ***child*** process (sometimes called a ***subprocess***) is one that has come from the parent process.  \n",
    "\n",
    "     Child processes can be created in one of two main ways.  The differences are technical and not something to worry about at this point, but you may encounter the terms, so it might be helpful to have seen at least basic definitions.\n",
    "\n",
    "     * ***Forking***: the child process essentially is a copy of the parent process and it \"inherits\" most of the attributes of the parent process.  \n",
    "\n",
    "     * ***Spawning***: the child process is a \"fresh\" one, which inherits minimal attributes from the parent."
   ]
  },
  {
   "cell_type": "markdown",
   "metadata": {},
   "source": [
    "Parallel computing can, in general, be done using either parallel processes or parallel threads.  In Python, though, there's a complication with threading due to a technical feature of the language called the ***GIL*** (for Global Interpreter Lock).  It effectively prevents two threads from executing simultaneously to avoid conflicting actions.  That means that threading won't speed up a task that's ***CPU-bound***; i.e. one whose speed is limited by the speed of the CPU.  However, threading *can* speed up a task if what causes it to be slow is not the demand on the CPU, but the rate at which data must be transferred, since each thread can manage some of the data transfer.  (Such a task is said to be ***I/O-bound***; \"I/O\" is shorthand for Input/Output.)  So, if your task does not put a lot of stress on the CPU but does involve a lot of data input/output, multi-threading might help speed it up.  If it does place a heavy demand on the CPU, as much scientific computing would do, then multi-processing would be the right approach to speed it up in Python."
   ]
  },
  {
   "cell_type": "markdown",
   "metadata": {},
   "source": [
    "Some of the packages discussed below explicitly use terms like `delayed` and `futures`.  These refer to the way some of the package functions work: they define operations that are to be executed in a delayed fashion some time in the future, i.e., not right after the user's task is defined.  Instead, those user-defined tasks are distributed to cores to be run according to a schedule designed to optimize performance. "
   ]
  },
  {
   "cell_type": "markdown",
   "metadata": {},
   "source": [
    "> **Note**: With some of the Python packages for parallel processing there can be problems getting return values from user-defined functions when working in a Jupyter notebook.  The examples below mostly avoid those problems, but it might be the case that the code is not as efficient or elegant as it could be because of that.  Additionally, some of the features of the packages discussed below simply do not work in a notebook.  If you need to use those packages, you are likely to have more success working with Python script files in a code development environment like Spyder (bundled with Anaconda's Python distribution)."
   ]
  },
  {
   "cell_type": "markdown",
   "metadata": {},
   "source": [
    "This module will look at five Python packages for parallel processing: `multiprocessing` to use multiple processes; `concurrent.futures`, with methods to create parallel threads or processes (based on `multiprocessing` and its multithreading cousin `threading`); `joblib`, which also can do both; `ipyparallel`, designed for Jupyter notebooks; and `dask`, which integrates closely with `numpy`, `pandas` and `scikit-learn`.  [`dask`, `ray` (https://ray.io/), `bodo` (https://docs.bodo.ai/2023.1/), and other parallel processing packages are designed mainly for large data science projects.]  Brief mention also will be made of `CUDA`, which allows a programmer to make use of GPUs for computation.  Different packages in this group might be more or less helpful, depending on the application."
   ]
  },
  {
   "cell_type": "markdown",
   "metadata": {},
   "source": [
    "  "
   ]
  },
  {
   "cell_type": "markdown",
   "metadata": {},
   "source": [
    "## <font color=\"blue\">15.1 `multiprocessing/multiprocess`</font>\n",
    "\n",
    "(This section is based partly on https://www.sitepoint.com/python-multiprocessing-parallel-programming/ and https://pythonnumericalmethods.berkeley.edu/notebooks/chapter13.02-Multiprocessing.html .)"
   ]
  },
  {
   "cell_type": "markdown",
   "metadata": {},
   "source": [
    "The main Python package for creating parallel *processes* is **`multiprocessing`** (https://docs.python.org/3/library/multiprocessing.html).  It works when run from an integrated development environment like Spyder (which comes with the Anaconda distribution of Python) or by command line from a terminal, but it turns out that it does not run properly inside a Jupyter notebook: results produced by `print` and `return` statements do not display in the notebook. \n",
    "\n",
    "Fortunately, the Python community has created a variant of `multiprocessing` called **`multiprocess`** which does work correctly in a notebook (see https://pypi.org/project/multiprocess/).  All of the function names in that package are the same as those in `multiprocessing`, so any code you create or find that uses the `multiprocessing` package should run in a notebook if you import `multiprocess` instead of `multiprocessing`.  No other changes should be needed (in theory, anyway)."
   ]
  },
  {
   "cell_type": "markdown",
   "metadata": {},
   "source": [
    "So, we start by importing `multiprocess` as `mp`, and `time` to do timing of computations:"
   ]
  },
  {
   "cell_type": "code",
   "execution_count": 3,
   "metadata": {},
   "outputs": [],
   "source": [
    "import multiprocess as mp\n",
    "\n",
    "import time"
   ]
  },
  {
   "cell_type": "markdown",
   "metadata": {},
   "source": [
    "The first thing to do is identify the number of cores in the machine you're using, by executing the code cell below:"
   ]
  },
  {
   "cell_type": "code",
   "execution_count": 4,
   "metadata": {},
   "outputs": [
    {
     "name": "stdout",
     "output_type": "stream",
     "text": [
      "Number of Cores = 16\n"
     ]
    }
   ],
   "source": [
    "num_cores = mp.cpu_count()\n",
    "\n",
    "print(f\"Number of Cores = {num_cores}\")"
   ]
  },
  {
   "cell_type": "markdown",
   "metadata": {},
   "source": [
    "### <font color=\"blue\">15.1.1 -- Example 1: Random Number Squaring</font>\n",
    "\n",
    "As a simple demonstration of how parallel processing can speed up a computation, let's create a function that will create and square a random number based on a random seed supplied as an argument:"
   ]
  },
  {
   "cell_type": "code",
   "execution_count": 8,
   "metadata": {},
   "outputs": [],
   "source": [
    "def random_square(myseed):\n",
    "    from numpy.random import seed, randint  # Must be imported inside function to be available to child processes\n",
    "    \n",
    "    seed(myseed)                            # set the seed to be the argument to the function\n",
    "    random_num = randint(0, 10)             # return a random number between 0 and 10 based on the seed\n",
    "    \n",
    "    return random_num**2"
   ]
  },
  {
   "cell_type": "markdown",
   "metadata": {},
   "source": [
    "Check what this does:"
   ]
  },
  {
   "cell_type": "code",
   "execution_count": 16,
   "metadata": {},
   "outputs": [
    {
     "name": "stdout",
     "output_type": "stream",
     "text": [
      "[25, 25, 64, 64, 49, 9, 81, 16, 9, 25]\n"
     ]
    }
   ],
   "source": [
    "results = []       # list to store results\n",
    "\n",
    "for i in range(10):\n",
    "    results.append(random_square(i))    # add output of random_square for seed \"i\"\n",
    "    \n",
    "print(results)"
   ]
  },
  {
   "cell_type": "markdown",
   "metadata": {},
   "source": [
    "To emphasize, `random_square(i)` isn't squaring the argument `i`, it's squaring the random number obtained from `randint` using `i` as a seed.  Since the output range for `randint` has been limited to `0, 1, ..., 9`, the output of `random_square` is limited to `[0, 1, 4, 9, ..., 64, 81]`."
   ]
  },
  {
   "cell_type": "markdown",
   "metadata": {},
   "source": [
    "This calculation of squares clearly is parallelizable, since each number can be squared independently of the others."
   ]
  },
  {
   "cell_type": "markdown",
   "metadata": {},
   "source": [
    "Now we'll call this function a large number of times with different seeds, store the results in a list, and time the process.  Because the `multiprocess` approach involves using a list comprehension to compute the function output from a set of seeds, we'll use a similar approach here to make the timing comparison fair.  \n",
    "\n",
    "(List comprehensions were mentioned very briefly in Module 1.  They are a compact way of creating a new list from another one based on some condition.  They have the general form `newlist = [expression for item in iterable if condition == True]`.  For example, if `fruits` is a list of fruits, then `newlist = [x for x in fruits if \"a\" in x]` will pick out the fruits with the letter \"a\" in their names.  Here, the first `x` is the expression -- in this case, it's just picking out an element, but it could involve more complicated actions.  The second `x` is the \"item\" and the list `fruits` is the ***iterable*** (a quantity whose elements can be stepped through one by one using an index: strings, lists, and arrays are examples).  Finally, `\"a\" in x` is the condition that must be true for the expression to be executed.)"
   ]
  },
  {
   "cell_type": "code",
   "execution_count": 17,
   "metadata": {},
   "outputs": [
    {
     "name": "stdout",
     "output_type": "stream",
     "text": [
      "First five and last five results: [25, 25, 64, 64, 49], ..., [81, 36, 1, 1, 1]\n",
      "Execution time = 5.40 sec.\n"
     ]
    }
   ],
   "source": [
    "t0 = time.time()                                        # initial time\n",
    "    \n",
    "results = [random_square(i) for i in range(1000000)]    # list comprehension uses outputs of range as seeds for random_square\n",
    "    \n",
    "print(f\"First five and last five results: {results[0:5]}, ..., {results[-5:]}\") \n",
    "\n",
    "t1 = time.time()                                        # time at end of process\n",
    "\n",
    "print(f\"Execution time = {t1 - t0:.2f} sec.\")"
   ]
  },
  {
   "cell_type": "markdown",
   "metadata": {},
   "source": [
    "The list comprehension beginning with `results` provides `i` (which ranges from `0` to the number specified in `range` minus `1`) to the function `random_square(i)`.  `results` then is a list of squared integers, with a length equal to the argument of `range`.\n",
    "\n",
    "Running the function on the author's laptop for one million seeds takes about 5 seconds."
   ]
  },
  {
   "cell_type": "markdown",
   "metadata": {},
   "source": [
    "Now we'll do the same thing using a parallel approach.  This involves three steps: \n",
    "\n",
    "1. First, ensure we're in the parent process, which is accomplished with the line `if __name__ == \"__main__\":` that starts off the section of code that calls `multiprocess` functions.  \n",
    "  \n",
    "2. Next, with the `Pool()` function from the `multiprocess` package create a \"pool\" of processes (often called ***worker processes***), in this case equal to the number of cores in the machine (the number could be smaller but should not be larger).  \n",
    "  \n",
    "3. Finally, to distribute the calculations to the available cores we call the **`pool.map()`** function, supplying our random number function and the set of seeds to apply it to as arguments.  Because those seeds are expected to be provided in the form of a *set* of values that can be iterated over, like the output of `range` (rather than as individual numbers), `pool.map()` is applied to our function within a list comprehension (rather than within a loop).  "
   ]
  },
  {
   "cell_type": "code",
   "execution_count": 18,
   "metadata": {},
   "outputs": [
    {
     "name": "stdout",
     "output_type": "stream",
     "text": [
      "First five and last five results: [25, 25, 64, 64, 49], ..., [81, 36, 1, 1, 1]\n",
      "Execution time = 2.43 sec.\n"
     ]
    }
   ],
   "source": [
    "t0 = time.time()                                                     # initial time\n",
    "\n",
    "if __name__ == \"__main__\":                                           # check that we're in the parent process\n",
    "    pool = mp.Pool(processes=num_cores)                              # create set of worker processes\n",
    "    results = pool.map(random_square, [i for i in range(1000000)])   # list comprehension for constructing list of results\n",
    "\n",
    "print(f\"First five and last five results: {results[0:5]}, ..., {results[-5:]}\") \n",
    "\n",
    "t1 = time.time()                                                     # time at end of process\n",
    "\n",
    "print(f\"Execution time = {t1 - t0:.2f} sec.\")"
   ]
  },
  {
   "cell_type": "markdown",
   "metadata": {},
   "source": [
    "The key line above is `results2 = pool.map(random_square, [i for i in range(5000000)])`, in which the `pool.map()` function \"maps\" the tasks (in this case, the computations using `random_square`) to the pool of processes created by the `mp.Pool()` function used in the preceding line.  The output values returned by `random_square` are stored in `results2`, as shown by the output of the `print()` function, which match those for the non-parallelized computation.\n",
    "\n",
    "**NOTE**: While the code above will run without the line `if __name__ == \"__main__\":`, it is necessary in general when using `multiprocess(ing)` functions in order to avoid the possibility of an infinite sequence of function calls.  (That line ensures that the `multiprocess(ing)` functions are being called from within the parent process, not a child process.)  Note that the calls to functions in `multiprocess(ing)` are within an indented block following that line.  If you need to put a lot of code in that block, you can instead put it in its own function, and then just call that function (again, indented) after the `if __name__ == \"__main__\":` line.\n",
    "\n",
    "On the author's computer, which has 16 cores, this approach takes about 40% as long as the non-parallelized approach.  Not a bad degree of improvement for a couple of simple changes to the code!  (The speed does not improve by a factor of 16 at least in part, and maybe entirely, because of the overhead involved in coordinating the activities of the cores, as mentioned earlier.)\n",
    "\n",
    "If you're running this notebook on a Windows computer with a *local* installation of jupyter (i.e., not on a remote server), you can see the CPU usage while the code cells are executing by opening the Resource Monitor (type that name into the Search field on the Taskbar) and clicking on the CPU tab.  In the non-parallelized case, you may see a few of the CPUs trading off effort; in the parallelized case, you (probably) will see most or all of the CPUs working at the same time."
   ]
  },
  {
   "cell_type": "markdown",
   "metadata": {},
   "source": [
    "### <font color=\"blue\">15.1.2 -- Example 2: Checking if a Number is Prime</font>\n",
    "\n",
    "The parallelization approach used above worked just fine for the simple squaring application because the application was inherently parallel: squaring each number can be done independently of squaring all the others.  (Such problems sometimes are called \"embarrassingly parallel\"!)  Most applications will not be so simple to parallelize, so here we consider one for which we have to modify the code in order to parallelize the task.\n",
    "\n",
    "This example involves a function to determine if a number provided as an argument is prime.  Here's the function:"
   ]
  },
  {
   "cell_type": "code",
   "execution_count": 19,
   "metadata": {},
   "outputs": [],
   "source": [
    "def is_prime(n):\n",
    "    '''Checks if 'n' is prime.'''\n",
    "    \n",
    "    # Restrict to positive integers\n",
    "    if (not isinstance(n, int)) or (n < 1):\n",
    "        raise ValueError(\"Input should be a positive integer.\\n\") \n",
    "\n",
    "    # Check special cases\n",
    "    if n == 1:\n",
    "        print(\"1 is not prime.\")       # n = 1 has only one factor\n",
    "        return False       \n",
    "    if n == 2:\n",
    "        print(\"2 is prime.\")\n",
    "        return True\n",
    "    if n % 2 == 0:\n",
    "        print(\"Not prime: 2 is a factor.\")\n",
    "        return False\n",
    "    \n",
    "    # Check for factors, from 3 up to the square root of n for all odd numbers\n",
    "    for x in range(3, int(n**0.5)+1, 2):\n",
    "        if n % x == 0:\n",
    "            print(\"Not prime:\", x, \"is a factor.\")\n",
    "            return False\n",
    "    print(n, \"is prime.\")\n"
   ]
  },
  {
   "cell_type": "markdown",
   "metadata": {},
   "source": [
    "The code first checks if the number is 1, 2, or even, in which case the answer can be provided immediately.  (The check for \"evenness\" is done using the modulo operator, `%`, which you might remember from Module 1.  That operator provides the remainder left when one integer is divided by another.)  After that, the code loops through numbers from 3 up to the square root of the number of interest (rounded up to an integer), which is the largest a prime factor could be.  (The restriction to *positive* integers is not required, but is done for simplicity in this example.)\n",
    "\n",
    "Let's time the code on a known large prime number.  (Be patient: this might take more than half a minute, depending on the computer you're running it on.)"
   ]
  },
  {
   "cell_type": "code",
   "execution_count": 20,
   "metadata": {},
   "outputs": [
    {
     "name": "stdout",
     "output_type": "stream",
     "text": [
      "489133282872437279 is prime.\n",
      "Execution time = 28.33681082725525 sec.\n"
     ]
    }
   ],
   "source": [
    "import time\n",
    "\n",
    "t0 = time.time()\n",
    "is_prime(489133282872437279)\n",
    "t1 = time.time()\n",
    "\n",
    "print(\"Execution time =\", t1 - t0, \"sec.\")"
   ]
  },
  {
   "cell_type": "markdown",
   "metadata": {},
   "source": [
    "On the author's laptop, this takes roughly 27-28 seconds.  \n",
    "\n",
    "Now if we try to use the same parallelization approach we did for the `random_square` function, we get an error message:"
   ]
  },
  {
   "cell_type": "code",
   "execution_count": 10,
   "metadata": {},
   "outputs": [
    {
     "ename": "TypeError",
     "evalue": "'int' object is not iterable",
     "output_type": "error",
     "traceback": [
      "\u001b[1;31m---------------------------------------------------------------------------\u001b[0m",
      "\u001b[1;31mTypeError\u001b[0m                                 Traceback (most recent call last)",
      "Cell \u001b[1;32mIn[10], line 5\u001b[0m\n\u001b[0;32m      3\u001b[0m \u001b[38;5;28;01mif\u001b[39;00m \u001b[38;5;18m__name__\u001b[39m \u001b[38;5;241m==\u001b[39m \u001b[38;5;124m\"\u001b[39m\u001b[38;5;124m__main__\u001b[39m\u001b[38;5;124m\"\u001b[39m:\n\u001b[0;32m      4\u001b[0m     pool \u001b[38;5;241m=\u001b[39m mp\u001b[38;5;241m.\u001b[39mPool(processes \u001b[38;5;241m=\u001b[39m num_cores)                      \u001b[38;5;66;03m# create set of worker processes\u001b[39;00m\n\u001b[1;32m----> 5\u001b[0m     results3 \u001b[38;5;241m=\u001b[39m \u001b[43mpool\u001b[49m\u001b[38;5;241;43m.\u001b[39;49m\u001b[43mmap\u001b[49m\u001b[43m(\u001b[49m\u001b[43mis_prime\u001b[49m\u001b[43m,\u001b[49m\u001b[43m \u001b[49m\u001b[38;5;241;43m489133282872437279\u001b[39;49m\u001b[43m)\u001b[49m         \u001b[38;5;66;03m# list comprehension for constructing list of results\u001b[39;00m\n\u001b[0;32m      8\u001b[0m \u001b[38;5;28mprint\u001b[39m(\u001b[38;5;124m\"\u001b[39m\u001b[38;5;124mFirst five results: \u001b[39m\u001b[38;5;124m\"\u001b[39m, results3[\u001b[38;5;241m0\u001b[39m:\u001b[38;5;241m5\u001b[39m])                  \u001b[38;5;66;03m# first few results\u001b[39;00m\n\u001b[0;32m     10\u001b[0m t1 \u001b[38;5;241m=\u001b[39m time\u001b[38;5;241m.\u001b[39mtime()                                              \u001b[38;5;66;03m# time at end of process\u001b[39;00m\n",
      "File \u001b[1;32m~\\anaconda3\\lib\\site-packages\\multiprocess\\pool.py:364\u001b[0m, in \u001b[0;36mPool.map\u001b[1;34m(self, func, iterable, chunksize)\u001b[0m\n\u001b[0;32m    359\u001b[0m \u001b[38;5;28;01mdef\u001b[39;00m \u001b[38;5;21mmap\u001b[39m(\u001b[38;5;28mself\u001b[39m, func, iterable, chunksize\u001b[38;5;241m=\u001b[39m\u001b[38;5;28;01mNone\u001b[39;00m):\n\u001b[0;32m    360\u001b[0m     \u001b[38;5;124;03m'''\u001b[39;00m\n\u001b[0;32m    361\u001b[0m \u001b[38;5;124;03m    Apply `func` to each element in `iterable`, collecting the results\u001b[39;00m\n\u001b[0;32m    362\u001b[0m \u001b[38;5;124;03m    in a list that is returned.\u001b[39;00m\n\u001b[0;32m    363\u001b[0m \u001b[38;5;124;03m    '''\u001b[39;00m\n\u001b[1;32m--> 364\u001b[0m     \u001b[38;5;28;01mreturn\u001b[39;00m \u001b[38;5;28;43mself\u001b[39;49m\u001b[38;5;241;43m.\u001b[39;49m\u001b[43m_map_async\u001b[49m\u001b[43m(\u001b[49m\u001b[43mfunc\u001b[49m\u001b[43m,\u001b[49m\u001b[43m \u001b[49m\u001b[43miterable\u001b[49m\u001b[43m,\u001b[49m\u001b[43m \u001b[49m\u001b[43mmapstar\u001b[49m\u001b[43m,\u001b[49m\u001b[43m \u001b[49m\u001b[43mchunksize\u001b[49m\u001b[43m)\u001b[49m\u001b[38;5;241m.\u001b[39mget()\n",
      "File \u001b[1;32m~\\anaconda3\\lib\\site-packages\\multiprocess\\pool.py:475\u001b[0m, in \u001b[0;36mPool._map_async\u001b[1;34m(self, func, iterable, mapper, chunksize, callback, error_callback)\u001b[0m\n\u001b[0;32m    473\u001b[0m \u001b[38;5;28mself\u001b[39m\u001b[38;5;241m.\u001b[39m_check_running()\n\u001b[0;32m    474\u001b[0m \u001b[38;5;28;01mif\u001b[39;00m \u001b[38;5;129;01mnot\u001b[39;00m \u001b[38;5;28mhasattr\u001b[39m(iterable, \u001b[38;5;124m'\u001b[39m\u001b[38;5;124m__len__\u001b[39m\u001b[38;5;124m'\u001b[39m):\n\u001b[1;32m--> 475\u001b[0m     iterable \u001b[38;5;241m=\u001b[39m \u001b[38;5;28;43mlist\u001b[39;49m\u001b[43m(\u001b[49m\u001b[43miterable\u001b[49m\u001b[43m)\u001b[49m\n\u001b[0;32m    477\u001b[0m \u001b[38;5;28;01mif\u001b[39;00m chunksize \u001b[38;5;129;01mis\u001b[39;00m \u001b[38;5;28;01mNone\u001b[39;00m:\n\u001b[0;32m    478\u001b[0m     chunksize, extra \u001b[38;5;241m=\u001b[39m \u001b[38;5;28mdivmod\u001b[39m(\u001b[38;5;28mlen\u001b[39m(iterable), \u001b[38;5;28mlen\u001b[39m(\u001b[38;5;28mself\u001b[39m\u001b[38;5;241m.\u001b[39m_pool) \u001b[38;5;241m*\u001b[39m \u001b[38;5;241m4\u001b[39m)\n",
      "\u001b[1;31mTypeError\u001b[0m: 'int' object is not iterable"
     ]
    }
   ],
   "source": [
    "t0 = time.time()                                              # initial time\n",
    "\n",
    "if __name__ == \"__main__\":\n",
    "    pool = mp.Pool(processes=num_cores)                       # create set of worker processes\n",
    "    results = pool.map(is_prime, 489133282872437279)          # list comprehension for constructing list of results\n",
    "\n",
    "    \n",
    "print(\"First five results: \", results[0:5])                   # first few results\n",
    "\n",
    "t1 = time.time()                                              # time at end of process\n",
    "\n",
    "print(f\"Execution time = {t1 - t0:.2f} sec.\")"
   ]
  },
  {
   "cell_type": "markdown",
   "metadata": {},
   "source": [
    "The `'int' object is not iterable` message is telling us that we're not providing any iterable, like a counter `i`, that can be stepped through that will enable the `pool.map()` to distribute calculations to the worker processes, one for each value of `i`.  The only parameter our `is_prime()` function takes is the number $n$ whose \"primeness\" is to be determined, 489133282872437279 in the example.  (For the `random_square(i)` function, the argument `i` is the iterable.)\n",
    "\n",
    "However, there is a `for` loop inside the code that could be parallelized: instead of having one core check all the possible prime factors from $3$ to $\\sqrt{n}$, we could break up the interval spanned by the loop into smaller subintervals.  For example, if we wanted to distribute the calculation over two cores, one core could check the integers from $3$ to $\\sqrt{n}/2$ and the other could check the rest of the integers up to $\\sqrt{n}$.\n",
    "\n",
    "We will have to slightly modify the code to enable the \"sub-looping\" described above.  The easiest way probably is to provide the function with the minimum and maximum integers we want the loop to cover.  Renaming the parallelizable form of the function `is_primeP`, we have:"
   ]
  },
  {
   "cell_type": "code",
   "execution_count": 17,
   "metadata": {},
   "outputs": [],
   "source": [
    "def is_primeP(n, a, b):\n",
    "    '''Checks if 'n' has prime factors between 'a' and 'b'.\n",
    "       Returns \"False\" if prime factor found, \"True\" otherwise.'''\n",
    "    \n",
    "    # Restrict arguments to positive integers\n",
    "    if (not isinstance(n, int)) or (n < 1):\n",
    "        raise ValueError(\"Input should be a positive integer.\\n\") \n",
    "        \n",
    "    if (not isinstance(a, int)) or (a < 0) or (not isinstance(b, int)) or (b < 0) or (b < a):\n",
    "        raise ValueError(\"Limits should positive integers, with b > a.\\n\")\n",
    "\n",
    "        \n",
    "    # Check special cases\n",
    "    if n == 1:\n",
    "        print(\"1 is not prime.\")       # n = 1 has only one factor\n",
    "        return False       \n",
    "    if n == 2:\n",
    "        print(\"2 is prime.\")\n",
    "        return True\n",
    "    if n % 2 == 0:\n",
    "        print(\"Not prime: 2 is a factor.\")\n",
    "        return False\n",
    "    \n",
    "    \n",
    "    # Adjust a & b if not odd\n",
    "    if a % 2 == 0:\n",
    "        a = a - 1\n",
    "    if b % 2 == 0:\n",
    "        b = b + 1\n",
    "        \n",
    "        \n",
    "    # Check for factors, for odd numbers from a to b \n",
    "    for x in range(a, b+1, 2):\n",
    "        if n % x == 0:\n",
    "            return False\n",
    "    return True\n"
   ]
  },
  {
   "cell_type": "markdown",
   "metadata": {},
   "source": [
    "What will the limits `a` and `b` of the sub-loops be?  It depends on how many cores we run on.  Let `b` $-$ `a` $= \\Delta$ and `numCores` $= N$.  Then, for integers spanning interval $\\Delta$ and divided into $N$ subintervals, the boundaries of the subintervals would be roughly `a`, `a`$+\\Delta/N$, `a`$+2\\Delta/N$, ..., `b`.  This is only roughly correct since $\\Delta/N$ generally won't be an integer, so we should round it up or down.  Since the different worker processes don't have to work with loops of exactly the same size, but we want to ensure that the subintervals span the full range up to $\\sqrt{n}$, we should round up.  (This might mean that the subinterval at the `b` end is shorter than the others, but that doesn't matter.)  \n",
    "\n",
    "With all that in mind, let's set up the parallelization code.  Because the `pool.map()` function accepts only a simple iterable, *one* item from which will be supplied to each call of our `is_primeP()` function, it won't do what we want, since we now need to provide *three* inputs to each call of our function (the number whose \"primeness\" we're checking, and the range limits of a subinterval over which to look for prime factors).  Fortunately, the `multiprocess`/`multiprocessing` packages have another function that will do what we need, called **`pool.starmap()`**.  It will take an argument that's an iterable and whose elements also are iterables.  To give a simple example, while the iterable that we provided to `pool.map()` for the `random_square` function essentially was the list `[1, 2, 3, ..., 1000000]`, we can provide `pool.starmap()` with an iterable list like `[(n, a1, b1), (n, a2, b2), ...]`, where `a1` and `b1` are the range limits of the first subinterval checking for prime factors of `n`, `a2` and `b2` are the range limits of the second subinterval, etc.  The sets `(n, a1, b1)` will be created as tuples, but could be lists, since both are iterable."
   ]
  },
  {
   "cell_type": "markdown",
   "metadata": {},
   "source": [
    "We will write a separate function to find the subinterval limits because it will be used several times in this module.  "
   ]
  },
  {
   "cell_type": "code",
   "execution_count": 8,
   "metadata": {},
   "outputs": [],
   "source": [
    "def subint_limits(num, num_cores):\n",
    "    '''Create list of tuples of range limits for finding possible prime factors of \"num.\"'''\n",
    "    \n",
    "    from numpy import append, ceil, sqrt\n",
    "    \n",
    "    subint_range = int(ceil(sqrt(num)/num_cores))                # range of each subinterval (\"ceil\" rounds up)\n",
    "\n",
    "    # Create set of iterables to provide to is_primeP()\n",
    "    range_limits = []\n",
    "    for i in range(3, subint_range*num_cores, subint_range):\n",
    "        range_limits.append((num, i, int(i+subint_range)))       # iterable with elements of form (n, a1, b1)\n",
    "        \n",
    "    return range_limits"
   ]
  },
  {
   "cell_type": "markdown",
   "metadata": {},
   "source": [
    "Now we use it to provide the needed inputs to `is_primeP`, which is called by `pool.starmap()`:"
   ]
  },
  {
   "cell_type": "code",
   "execution_count": 24,
   "metadata": {},
   "outputs": [
    {
     "name": "stdout",
     "output_type": "stream",
     "text": [
      "Number is prime.\n",
      "Execution time = 4.14 sec.\n"
     ]
    }
   ],
   "source": [
    "import time\n",
    "import multiprocess as mp\n",
    "\n",
    "t0 = time.time()                                       # initial time\n",
    "\n",
    "num = 489133282872437279                               # number to check for primeness\n",
    "\n",
    "num_cores = mp.cpu_count()\n",
    "\n",
    "limits = subint_limits(num, num_cores)                 # get limits of subintervals\n",
    "    \n",
    "if __name__ == \"__main__\":\n",
    "    pool = mp.Pool(processes=num_cores)                # create set of worker processes\n",
    "    results = pool.starmap(is_primeP, limits)          # distribute subloops to workers\n",
    "\n",
    "# Check results: if all subloops report True, then \"num\" is prime, otherwise it's not\n",
    "if all(results):\n",
    "    print(\"Number is prime.\")\n",
    "else:\n",
    "    print(\"Number is not prime.\")\n",
    "\n",
    "t1 = time.time()                                       # time at end of process\n",
    "\n",
    "print(f\"Execution time = {t1-t0:.2f} sec.\")"
   ]
  },
  {
   "cell_type": "markdown",
   "metadata": {},
   "source": [
    "On the author's computer, for the prime number 489133282872437279 (see the \"List of prime numbers\" on Wikipedia), the parallelized approach is around 7 times faster than the non-parallelized one.  This speedup won't happen for every input number, even in the case of very large ones. "
   ]
  },
  {
   "cell_type": "markdown",
   "metadata": {},
   "source": [
    "  "
   ]
  },
  {
   "cell_type": "markdown",
   "metadata": {},
   "source": [
    "<font color=\"green\"><b>Breakpoint 1</b></font>: If a non-prime number's smallest prime factor lies within the first subinterval, would you expect the parallelized version of the prime-finding code to be faster than the non-parallelized version?  If not, why not?"
   ]
  },
  {
   "cell_type": "markdown",
   "metadata": {},
   "source": [
    "  "
   ]
  },
  {
   "cell_type": "markdown",
   "metadata": {},
   "source": [
    "## <font color=\"blue\">15.2 `concurrent.futures`</font>\n",
    "\n",
    "As noted earlier, multithreading might save time on an I/O-bound task, but probably will not save much, if any, on a CPU-bound task.  Here we'll use the multithreading capability of **`concurrent.futures`**, available as part of Python since version 3.2.  It \"runs on top of\" `multiprocessing` (i.e., it uses the functions of that package).  (This website might be helpful for providing context, https://towardsdatascience.com/python-concurrency-concurrent-futures-15b56dc9a14d, but note that it uses Python script files, not Jupyter notebooks.)"
   ]
  },
  {
   "cell_type": "markdown",
   "metadata": {},
   "source": [
    "### <font color=\"blue\">15.2.1 Random Number Squaring</font>  \n",
    "The code will include a slightly modified version of the `random_square()` function that includes a line of code to make it wait for a short time to simulate data I/O and artificially make the code behave as if it were I/O-bound."
   ]
  },
  {
   "cell_type": "code",
   "execution_count": 25,
   "metadata": {},
   "outputs": [],
   "source": [
    "def random_squareT(myseed):\n",
    "    from numpy.random import seed, randint  # Must be imported inside function to be available to child processes\n",
    "    \n",
    "    seed(myseed)                            # set the seed to be the argument to the function\n",
    "    random_num = randint(0, 10)             # return a random number between 0 and 10 based on the seed\n",
    "    \n",
    "    time.sleep(0.1)                         # pause for 0.1 sec\n",
    "    \n",
    "    return random_num**2"
   ]
  },
  {
   "cell_type": "markdown",
   "metadata": {},
   "source": [
    "Now let's run this to get a baseline timing without multithreading.  Because of the pause in the function, we'll run for fewer values than before (otherwise, we'll be waiting a long time)."
   ]
  },
  {
   "cell_type": "code",
   "execution_count": 26,
   "metadata": {},
   "outputs": [
    {
     "name": "stdout",
     "output_type": "stream",
     "text": [
      "First five and last five results: [25, 25, 64, 64, 49] ... [36, 16, 9, 16, 1]\n",
      "Execution time = 11.09 sec.\n"
     ]
    }
   ],
   "source": [
    "import time\n",
    "\n",
    "t0 = time.time()\n",
    "\n",
    "results = [random_squareT(i) for i in range(100)]        # Compute random)square for 100 inputs\n",
    "\n",
    "print(\"First five and last five results:\", results[0:5], \"...\", results[-5:])\n",
    "\n",
    "t1 = time.time()\n",
    "\n",
    "print(f\"Execution time = {t1-t0:.2f} sec.\")\n"
   ]
  },
  {
   "cell_type": "markdown",
   "metadata": {},
   "source": [
    "This code sends 100 values to `random_squareT()` and therefore pauses 100 times for 0.1 sec each time, for a total \"I/O\" time of 10 seconds.  On the author's laptop, it takes about 11 sec to run the code, so nearly all of that is waiting time."
   ]
  },
  {
   "cell_type": "markdown",
   "metadata": {},
   "source": [
    "Now let's try the multithreaded approach using `concurrent.futures`.  This makes use of the **`ThreadPoolExecutor()`** method to distribute tasks among multiple threads.  The method that distributes the squaring task to the pool of processes is **`pool.map()`**. (Using `list()` on the outputs of the processes converts them into a list of values.)"
   ]
  },
  {
   "cell_type": "code",
   "execution_count": 27,
   "metadata": {},
   "outputs": [
    {
     "name": "stdout",
     "output_type": "stream",
     "text": [
      "First five and last five results: [25, 25, 64, 64, 49] ... [36, 16, 9, 16, 1]\n",
      "Execution time = 0.81 sec.\n"
     ]
    }
   ],
   "source": [
    "from concurrent.futures import ThreadPoolExecutor\n",
    "\n",
    "t0 = time.time()\n",
    "\n",
    "if __name__ == '__main__':\n",
    "    pool = ThreadPoolExecutor(max_workers=num_cores)                # create pool of threads\n",
    "    results = list(pool.map(random_squareT, range(100)))            # distribute tasks; output made into a list\n",
    "\n",
    "print(\"First five and last five results:\", results[0:5], \"...\", results[-5:])\n",
    "\n",
    "t1 = time.time()\n",
    "\n",
    "print(f\"Execution time = {t1-t0:.2} sec.\")\n"
   ]
  },
  {
   "cell_type": "markdown",
   "metadata": {},
   "source": [
    "Nice!  This takes only about 7% as long as the non-multithreaded example!"
   ]
  },
  {
   "cell_type": "markdown",
   "metadata": {},
   "source": [
    "`concurrent.futures` also has a **`ProcessPoolExecutor`** for distributing to multiple processes.  If `ThreadPoolExecutor` is changed to `ProcessPoolExecutor` everywhere in the cell above, running the new cell gives an error (`BrokenProcessPool`, which indicates that at least one of the processes has terminated abruptly) on the author's laptop and on a second laptop, both running notebooks via the Anaconda Python distribution on Windows.  However, the `ProcessPoolExecutor` approach works on another machine (running Linux, and not Anaconda) and gives a time slightly longer than that for the `ThreadPoolExecutor` approach on that same machine (about 8% of the time for the non-parallelized example).  \n",
    "\n",
    "Strangely, if the same replacement is made in the code cell but we call the function `random_square` rather than `random_squareT`, we get a different error (`cannot pickle 'module' object`) that indicates that the outputs of `pool.map()` cannot be extracted. "
   ]
  },
  {
   "cell_type": "markdown",
   "metadata": {},
   "source": [
    "An alternative and commonly used approach to structuring the code is to put all of it (besides the package imports) in the function `main()` and then call it using \n",
    "```python\n",
    "if __name__ == '__main__':\n",
    "    main()\n",
    "```\n",
    "This approach is shown below.  When run on the author's laptop, it also gives a `BrokenProcessPool` error.  However, when put in a Python file and run from an IDE like Spyder, it works fine (but takes about twice as long as `ThreadPoolExecutor` on this quasi-I/O-bound task).  When run on the Linux machine, it works and finishes in a time slightly longer than for the `ThreadPoolExecutor` approach of the code cell above."
   ]
  },
  {
   "cell_type": "code",
   "execution_count": null,
   "metadata": {},
   "outputs": [],
   "source": [
    "import time\n",
    "from concurrent.futures import ProcessPoolExecutor\n",
    "\n",
    "\n",
    "def main(): \n",
    "    t0 = time.time()\n",
    "    \n",
    "    pool = ProcessPoolExecutor(max_workers=15)                         # create pool of processes\n",
    "    results = list(pool.map(random_squareT, range(100), timeout=1))    # distribute tasks\n",
    "\n",
    "    print(\"First five and last five results:\", results[0:5], \"...\", results[-5:])\n",
    "\n",
    "    t1 = time.time()\n",
    "    \n",
    "    print(f\"Execution time = {t1-t0:.2f} sec.\")\n",
    "\n",
    "\n",
    "if __name__ == '__main__':\n",
    "    main()"
   ]
  },
  {
   "cell_type": "markdown",
   "metadata": {},
   "source": [
    "> **Conclusion:** Apparently, there's a problem running `ProcessPoolExecutor` in a notebook using Anaconda!"
   ]
  },
  {
   "cell_type": "markdown",
   "metadata": {},
   "source": [
    "But here's another way to use the `ProcessPoolExecutor` that avoids the `BrokenProcessPool` problem.  We'll use it with the original `random_square` function, since we know multiprocessing is better for CPU-bound tasks than for I/O-bound ones.    \n",
    "\n",
    "To use this approach, the function `random_square` was defined (exactly as it was earlier in this notebook) within a Python script file and saved in the same directory as this notebook.  That file can be created using any file editor.  If a program like Word or Notebook is used, the file should be saved as a text file, but with a `.py` extension.  That file then needs to be `import`ed in the code cell (without the `.py` at the end of the name), and the function defined in the file is called using the format `filename.function()`.  In the example below, the Python script file is called `randomSquare.py` and the function defined inside it is  `random_square`."
   ]
  },
  {
   "cell_type": "code",
   "execution_count": 2,
   "metadata": {},
   "outputs": [
    {
     "name": "stdout",
     "output_type": "stream",
     "text": [
      "Execution time = 5.10 sec.\n"
     ]
    }
   ],
   "source": [
    "import time\n",
    "from concurrent.futures import ProcessPoolExecutor\n",
    "import randomSquare \n",
    "\n",
    "\n",
    "def main(): \n",
    "    t0 = time.time()\n",
    "    \n",
    "    vals = range(10000)                               # arguments to random_square\n",
    "    with ProcessPoolExecutor() as executor:\n",
    "        results = executor.map(randomSquare.random_square, vals)   # distribute function to cores\n",
    "           \n",
    "    t1 = time.time()\n",
    "    \n",
    "    print(f\"Execution time = {t1-t0:.2f} sec.\")\n",
    "    \n",
    "\n",
    "if __name__ == '__main__':\n",
    "    main()"
   ]
  },
  {
   "cell_type": "markdown",
   "metadata": {},
   "source": [
    "This is quite slow: it takes roughly half as long as the non-parallelized approach to do 1/100 the number of computations; i.e., it's about 50 times slower.  It's also not clear how to print out the results of the computation: multiple approaches all failed (with different errors) for the author.  \n",
    "\n",
    "Running the same code but with `ThreadPoolExecutor` is much (about 8x) faster but, again, there doesn't seem to be a way to get the  output:"
   ]
  },
  {
   "cell_type": "code",
   "execution_count": 5,
   "metadata": {},
   "outputs": [
    {
     "name": "stdout",
     "output_type": "stream",
     "text": [
      "Execution time = 0.36 sec.\n"
     ]
    }
   ],
   "source": [
    "import time\n",
    "from concurrent.futures import ThreadPoolExecutor\n",
    "import randomSquare\n",
    "\n",
    "\n",
    "def main(): \n",
    "    t0 = time.time()\n",
    "    \n",
    "    vals = range(10000)                               # arguments to random_square\n",
    "    with ThreadPoolExecutor() as executor:\n",
    "        results = executor.map(randomSquare.random_square, vals)   # distribute function to cores\n",
    "     \n",
    "    t1 = time.time()\n",
    "    \n",
    "    print(f\"Execution time = {t1-t0:.2f} sec.\")\n",
    "\n",
    "\n",
    "if __name__ == '__main__':\n",
    "    main()"
   ]
  },
  {
   "cell_type": "markdown",
   "metadata": {},
   "source": [
    "### <font color=\"blue\">15.2.2 Checking if a Number is Prime</font>  \n",
    "Trying the approach of putting the code into `main()` on the prime-finding task (using `pool.map()`, as in three code cells earlier) again gives a `BrokenProcessPool` error in the notebook, but it runs in Spyder with a time of 5.6 sec on the author's laptop."
   ]
  },
  {
   "cell_type": "code",
   "execution_count": null,
   "metadata": {},
   "outputs": [],
   "source": [
    "import time\n",
    "from concurrent.futures import ProcessPoolExecutor\n",
    "import multiprocess as mp\n",
    "\n",
    "\n",
    "def main(): \n",
    "    t0 = time.time()\n",
    "    \n",
    "    num = 489133282872437279                                # number to check for primeness\n",
    "\n",
    "    num_cores = mp.cpu_count()                              # number of cores \n",
    "\n",
    "    limits = subint_limits(num, num_cores)                  # get limits of subintervals\n",
    "\n",
    "    pool = ProcessPoolExecutor(max_workers=15)\n",
    "    results = list(pool.map(is_primePT, limits))            # distribute function to cores\n",
    "    \n",
    "    # Check results: if all subloops report True, then \"num\" is prime, otherwise it's not\n",
    "    if all(results):\n",
    "        print(\"Number is prime.\")\n",
    "    else:\n",
    "        print(\"Number is not prime.\")\n",
    "    \n",
    "    t1 = time.time()\n",
    "    \n",
    "    print(f\"Execution time = {t1-t0:.2f} sec.\")\n",
    "    \n",
    "\n",
    "if __name__ == '__main__':\n",
    "    main()"
   ]
  },
  {
   "cell_type": "markdown",
   "metadata": {},
   "source": [
    "Here we try the approach of defining the function that's to be run in parallel (`is_primeP`) in a Python script that's imported by the notebook:"
   ]
  },
  {
   "cell_type": "code",
   "execution_count": 9,
   "metadata": {},
   "outputs": [
    {
     "name": "stdout",
     "output_type": "stream",
     "text": [
      "Execution time = 0.33 sec.\n"
     ]
    }
   ],
   "source": [
    "import time\n",
    "from concurrent.futures import ProcessPoolExecutor\n",
    "import isPrimeP\n",
    "\n",
    "\n",
    "def main(): \n",
    "    \n",
    "    t0 = time.time()\n",
    "    \n",
    "    num = 489133282872437279                        # number to check for primeness\n",
    "    num_cores = 16\n",
    "\n",
    "    limits = subint_limits(num, num_cores)\n",
    "    \n",
    "    with ProcessPoolExecutor() as executor:\n",
    "        results = executor.map(isPrimeP.is_primeP, limits)   # distribute function to cores\n",
    "\n",
    "        \n",
    "    # This does not work: gives \"cannot pickle 'module' object\" error\n",
    "    '''\n",
    "    # Check results: if all subloops report True, then \"num\" is prime, otherwise it's not\n",
    "    if all(results):\n",
    "        print(\"Number is prime.\")\n",
    "    else:\n",
    "        print(\"Number is not prime.\")\n",
    "    '''\n",
    "    \n",
    "    t1 = time.time()\n",
    "        \n",
    "    print(f\"Execution time = {t1-t0:.2f} sec.\")\n",
    "    \n",
    "\n",
    "if __name__ == '__main__':\n",
    "    main()"
   ]
  },
  {
   "cell_type": "markdown",
   "metadata": {},
   "source": [
    "This appears to complete without an error in a short time, but, like before, there is no clear way to get the outputs (`results`) into a form that can be checked for `True`/`False` values, so we don't know if the code actually processed the subintervals properly."
   ]
  },
  {
   "cell_type": "markdown",
   "metadata": {},
   "source": [
    "So, it seems that `concurrent.futures` might not be the best approach for multi*processing* in a notebook, at least not for these types of tasks.  However, it is very effective for multi*threading*."
   ]
  },
  {
   "cell_type": "markdown",
   "metadata": {},
   "source": [
    "   "
   ]
  },
  {
   "cell_type": "markdown",
   "metadata": {},
   "source": [
    "## <font color=\"blue\">15.3 `joblib`</font>\n",
    "\n",
    "**`joblib`** (https://joblib.readthedocs.io/en/latest/index.html#) is quick and easy to use for straightforward parallelization tasks, but it does not appear to be very flexible.  "
   ]
  },
  {
   "cell_type": "markdown",
   "metadata": {},
   "source": [
    "### <font color=\"blue\">15.3.1 Random Number Squaring</font> \n",
    "To perform the example of squaring random numbers with `joblib` using all the cores, we use the code below (making sure first to have run the early cell that determined `numCores` and the cell that defines `random_square`):"
   ]
  },
  {
   "cell_type": "code",
   "execution_count": 15,
   "metadata": {},
   "outputs": [
    {
     "name": "stderr",
     "output_type": "stream",
     "text": [
      "[Parallel(n_jobs=16)]: Using backend LokyBackend with 16 concurrent workers.\n",
      "[Parallel(n_jobs=16)]: Done 112 tasks      | elapsed:    2.0s\n",
      "[Parallel(n_jobs=16)]: Done 3088 tasks      | elapsed:    2.1s\n",
      "[Parallel(n_jobs=16)]: Done 327696 tasks      | elapsed:    3.7s\n"
     ]
    },
    {
     "name": "stdout",
     "output_type": "stream",
     "text": [
      "First five and last five results: [25, 25, 64, 64, 49] ... [81, 36, 1, 1, 1]\n",
      "Execution time = 5.93 sec.\n"
     ]
    },
    {
     "name": "stderr",
     "output_type": "stream",
     "text": [
      "[Parallel(n_jobs=16)]: Done 996496 tasks      | elapsed:    5.8s\n",
      "[Parallel(n_jobs=16)]: Done 1000000 out of 1000000 | elapsed:    5.8s finished\n"
     ]
    }
   ],
   "source": [
    "from joblib import Parallel, delayed\n",
    "import time\n",
    "\n",
    "t0 = time.time()\n",
    "\n",
    "results = Parallel(n_jobs=num_cores, verbose=3)(delayed(random_square)(i) for i in range(1000000))\n",
    "\n",
    "print(\"First five and last five results:\", results[0:5], \"...\", results[-5:])\n",
    "\n",
    "t1 = time.time()\n",
    "\n",
    "print(f\"Execution time = {t1-t0:.2f} sec.\")\n"
   ]
  },
  {
   "cell_type": "markdown",
   "metadata": {},
   "source": [
    "Interesting: at best, this seems to be about 30% faster than the non-parallelized approach, but roughly 60% slower than the approach using `multiprocess.`  That suggests that `joblib`'s overhead is larger than `multiprocess`'s.\n",
    "\n",
    "The status information in the shaded background is generated based on the `verbose` setting.  Omitting it produces no such output; the larger the number given, the more updates are shown during the computation."
   ]
  },
  {
   "cell_type": "markdown",
   "metadata": {},
   "source": [
    "Note that, by default, `joblib` performs process-based parallelization.  To force it to use thread-based parallelization, add `prefer=\"threads\"` as another keyword argument where `n_jobs=num_cores` is specified.  (When tried in the example above, the code ran almost 8 times slower than it did without `prefer=\"threads\"`.  That makes sense in connection with the discussion near the end of the Introduction: since this example involves CPU-intensive calculation but little data I/O, multi-threading won't help due to the GIL.)"
   ]
  },
  {
   "cell_type": "markdown",
   "metadata": {},
   "source": [
    "### <font color=\"blue\">15.3.2 Checking if a Number is Prime</font>  \n",
    "\n",
    "Here is code to check if a number is prime using `joblib`:"
   ]
  },
  {
   "cell_type": "code",
   "execution_count": 18,
   "metadata": {},
   "outputs": [
    {
     "name": "stderr",
     "output_type": "stream",
     "text": [
      "[Parallel(n_jobs=16)]: Using backend LokyBackend with 16 concurrent workers.\n"
     ]
    },
    {
     "name": "stdout",
     "output_type": "stream",
     "text": [
      "Number is prime.\n",
      "Execution time = 3.73 sec.\n"
     ]
    },
    {
     "name": "stderr",
     "output_type": "stream",
     "text": [
      "[Parallel(n_jobs=16)]: Done   3 out of  16 | elapsed:    3.5s remaining:   15.4s\n",
      "[Parallel(n_jobs=16)]: Done   6 out of  16 | elapsed:    3.5s remaining:    5.9s\n",
      "[Parallel(n_jobs=16)]: Done   9 out of  16 | elapsed:    3.5s remaining:    2.7s\n",
      "[Parallel(n_jobs=16)]: Done  12 out of  16 | elapsed:    3.6s remaining:    1.1s\n",
      "[Parallel(n_jobs=16)]: Done  16 out of  16 | elapsed:    3.6s finished\n"
     ]
    }
   ],
   "source": [
    "from joblib import Parallel, delayed\n",
    "import time\n",
    "\n",
    "\n",
    "t0 = time.time()\n",
    "\n",
    "num = 489133282872437279                                      # number to check for primeness\n",
    "\n",
    "limits = subint_limits(num, num_cores) \n",
    "\n",
    "results = Parallel(n_jobs=num_cores, verbose=7)(delayed(is_primeP)(*limits[i]) for i in range(num_cores))\n",
    "\n",
    "\n",
    "# Check results: if all subloops report True, then \"num\" is prime, otherwise it's not\n",
    "if all(results):\n",
    "    print(\"Number is prime.\")\n",
    "else:\n",
    "    print(\"Number is not prime.\")\n",
    "\n",
    "t1 = time.time()                                              # time at end of process\n",
    "\n",
    "print(f\"Execution time = {t1-t0:.2f} sec.\")"
   ]
  },
  {
   "cell_type": "markdown",
   "metadata": {},
   "source": [
    "In this code, the part `(*range_limits[i])` feeds the `i`th set of values in the `range_limits` tuple to `is_primeP()`.  (Recall that `range_limits` as defined by `subint_limits` consists of `num_cores` \"subtuples\" of three elements each.)  The `*` preceding `range_limits` \"unpacks\" the elements of the `i`th tuple into the separate values (`n`, `a`, `b`) that `is_primeP()` takes as arguments.\n",
    "\n",
    "The time to execute the computation is comparable to that using `multiprocess`."
   ]
  },
  {
   "cell_type": "markdown",
   "metadata": {},
   "source": [
    "   "
   ]
  },
  {
   "cell_type": "markdown",
   "metadata": {},
   "source": [
    "## <font color=\"blue\">15.4 `ipyparallel`</font>\n",
    "\n",
    "Another package for performing parallel processing is IPython Parallel, or **`ipyparallel`** (https://ipyparallel.readthedocs.io/en/latest/), designed specifically for Jupyter notebooks.  Note that `ipyparallel` documentation and some function outputs use the word \"engine\" to mean a process (more or less).  \n",
    "\n",
    "To get started with `ipyparallel`, you'll want to make sure you have a recent enough version installed (7.0 or later).  To display the version number, use this code:"
   ]
  },
  {
   "cell_type": "code",
   "execution_count": 1,
   "metadata": {},
   "outputs": [
    {
     "data": {
      "text/plain": [
       "'8.4.1'"
      ]
     },
     "execution_count": 1,
     "metadata": {},
     "output_type": "execute_result"
    }
   ],
   "source": [
    "import ipyparallel as ipp\n",
    "\n",
    "ipp.__version__"
   ]
  },
  {
   "cell_type": "markdown",
   "metadata": {},
   "source": [
    "Now we start a \"cluster\" of engines.  The \"hub\" that distributes jobs to the engines can be assigned one core of the computer, so we'll start `numCores-1` engines for computation:"
   ]
  },
  {
   "cell_type": "code",
   "execution_count": 5,
   "metadata": {},
   "outputs": [
    {
     "name": "stdout",
     "output_type": "stream",
     "text": [
      "Starting 15 engines with <class 'ipyparallel.cluster.launcher.LocalEngineSetLauncher'>\n"
     ]
    },
    {
     "data": {
      "application/vnd.jupyter.widget-view+json": {
       "model_id": "768f5f100bb348b691e0cf0e47463d30",
       "version_major": 2,
       "version_minor": 0
      },
      "text/plain": [
       "  0%|          | 0/15 [00:00<?, ?engine/s]"
      ]
     },
     "metadata": {},
     "output_type": "display_data"
    }
   ],
   "source": [
    "rc = ipp.Cluster(n=num_cores-1).start_and_connect_sync()"
   ]
  },
  {
   "cell_type": "markdown",
   "metadata": {},
   "source": [
    "Each cluster has a unique Cluster ID, which we will need later.  To see the running clusters with their IDs and numbers of engines, use the operating system (shell) command (starting with the \"bang\" character, `!`) below:"
   ]
  },
  {
   "cell_type": "code",
   "execution_count": 6,
   "metadata": {},
   "outputs": [
    {
     "name": "stdout",
     "output_type": "stream",
     "text": [
      "PROFILE          CLUSTER ID                       RUNNING ENGINES LAUNCHER\n",
      "default          1682719542-qij4                  True         15 Local\n"
     ]
    },
    {
     "name": "stderr",
     "output_type": "stream",
     "text": [
      "2023-04-28 18:06:06.558 [IPClusterList] ERROR | Engine 13 not running: Process 2684\n",
      "2023-04-28 18:06:06.558 [IPClusterList] ERROR | Engine set default:1680293368-46t41680293369 not running: No engines left\n",
      "2023-04-28 18:06:06.708 [IPClusterList] WARNING | Failed to load cluster from C:\\Users\\Me\\.ipython\\profile_default\\security\\cluster-1680293368-46t4.json: [WinError 32] The process cannot access the file because it is being used by another process: 'C:\\\\Users\\\\Me\\\\.ipython\\\\profile_default\\\\security\\\\cluster-1680293368-46t4.json'\n"
     ]
    }
   ],
   "source": [
    "!ipcluster list"
   ]
  },
  {
   "cell_type": "markdown",
   "metadata": {},
   "source": [
    "If you're working in a Jupyter notebook (but not in JupyterLab), you also should be able to see the clusters in the `IPython Clusters` tab at the top of your Jupyter home page. "
   ]
  },
  {
   "cell_type": "markdown",
   "metadata": {},
   "source": [
    "### <font color=\"blue\">15.4.1 Random Number Squaring</font>\n",
    "\n",
    "Below is `ipyparallel` code that will run our `random_square` function in parallel.  It uses the `load_balanced_view()` method, which is meant for situations in which the tasks could take significantly different amounts of time, or in which we want each core to do roughly the same amount of work. "
   ]
  },
  {
   "cell_type": "code",
   "execution_count": 7,
   "metadata": {},
   "outputs": [
    {
     "name": "stdout",
     "output_type": "stream",
     "text": [
      "First five and last five results: [25, 25, 64, 64, 49] ... [81, 36, 1, 1, 1]\n",
      "Execution time = 1.25 sec.\n"
     ]
    }
   ],
   "source": [
    "import time\n",
    "\n",
    "t0 = time.time()\n",
    "                                  \n",
    "lbv = rc[:]                                                   # use all engines\n",
    "\n",
    "results = lbv.map_sync(random_square, range(1000000))         # run `random_square` on the engines\n",
    "\n",
    "print(\"First five and last five results:\", results[0:5], \"...\", results[-5:]) \n",
    "\n",
    "t1 = time.time()\n",
    "\n",
    "print(f\"Execution time = {t1-t0:.2f} sec.\")"
   ]
  },
  {
   "cell_type": "markdown",
   "metadata": {},
   "source": [
    "This is very good: at best it takes about 15% as long as the non-parallelized approach, and is shorter than any other time except for that using `concurrent.futures`.  (On the author's laptop the fastest run took 0.79 sec.)"
   ]
  },
  {
   "cell_type": "markdown",
   "metadata": {},
   "source": [
    "The alternative to the \"load balanced view\" above is the \"direct view\".  It is implemented by defining a \"client,\" which connects to the cluster of engines.  Once the client (labeled `dv` below) is created, we use the same `.map_sync()` method used above to run the function of interest on the cluster.  This requires supplying the `cluster_id`, which is why we displayed it above (just copy and paste it below)."
   ]
  },
  {
   "cell_type": "code",
   "execution_count": 9,
   "metadata": {},
   "outputs": [
    {
     "name": "stdout",
     "output_type": "stream",
     "text": [
      "First five and last five results: [25, 25, 64, 64, 49] ... [81, 36, 1, 1, 1]\n",
      "Execution time = 1.31 sec.\n"
     ]
    }
   ],
   "source": [
    "import time\n",
    "\n",
    "t0 = time.time()\n",
    "\n",
    "client = ipp.Client(cluster_id='1682719542-qij4')                # create a \"client\" using active cluster\n",
    "\n",
    "dv = client[:]                                                   # use all engines\n",
    "\n",
    "results = dv.map_sync(random_square, range(1000000))             # distribute tasks to the pool of engines\n",
    "\n",
    "print(\"First five and last five results:\", results[0:5], \"...\", results[-5:])\n",
    "\n",
    "t1 = time.time()\n",
    "\n",
    "print(f\"Execution time = {t1-t0:.2f} sec.\")"
   ]
  },
  {
   "cell_type": "markdown",
   "metadata": {},
   "source": [
    "For the author this took about the same time as for the load-balanced approach.  "
   ]
  },
  {
   "cell_type": "markdown",
   "metadata": {},
   "source": [
    "### <font color=\"blue\">15.4.2 Checking if a Number is Prime</font>\n",
    "\n",
    "Now let's try finding primes with ipyparallel.  We'll use the direct view approach and the `.map()` function again.  We'll have to make a small modification to the `is_primeP()` function, though, so that it can deal with a tuple as the argument and correctly break out its elements.  (As a reminder, the tuples consist of the number whose primeness we're checking, `num`, and the boundaries of the subinterval,`a`, and `b`.)  That modified function (with a `T` appended to the name) is below.  (The new code is just the top section where `n`, `a`, and `b` are pulled out as the elements of the tuple provided as the argument.)"
   ]
  },
  {
   "cell_type": "code",
   "execution_count": 10,
   "metadata": {},
   "outputs": [],
   "source": [
    "def is_primePT(tup):\n",
    "    '''Checks if 'n' has prime factors between 'a' and 'b'.\n",
    "       Returns \"False\" if prime factor found, \"True\" otherwise.'''\n",
    "               \n",
    "    n = tup[0]\n",
    "    a = tup[1]\n",
    "    b = tup[2]\n",
    "    \n",
    "    # Restrict arguments to positive integers\n",
    "    if (not isinstance(n, int)) or (n < 1):\n",
    "        raise ValueError(\"Input should be a positive integer.\\n\") \n",
    "        \n",
    "    if (not isinstance(a, int)) or (a < 0) or (not isinstance(b, int)) or (b < 0) or (b < a):\n",
    "        raise ValueError(\"Limits should positive integers, with b > a.\\n\")\n",
    "\n",
    "        \n",
    "    # Check special cases\n",
    "    if n == 1:\n",
    "        print(\"1 is not prime.\")       # n = 1 has only one factor\n",
    "        return False       \n",
    "    if n == 2:\n",
    "        print(\"2 is prime.\")\n",
    "        return True\n",
    "    if n % 2 == 0:\n",
    "        print(\"Not prime: 2 is a factor.\")\n",
    "        return False\n",
    "    \n",
    "    \n",
    "    # Adjust a & b if not odd\n",
    "    if a % 2 == 0:\n",
    "        a = a - 1\n",
    "    if b % 2 == 0:\n",
    "        b = b + 1\n",
    "        \n",
    "        \n",
    "    # Check for factors, for odd numbers from a to b \n",
    "    for x in range(a, b+1, 2):\n",
    "        if n % x == 0:\n",
    "            return False\n",
    "    return True\n"
   ]
  },
  {
   "cell_type": "markdown",
   "metadata": {},
   "source": [
    "And here's the code to distribute the computation:"
   ]
  },
  {
   "cell_type": "code",
   "execution_count": 16,
   "metadata": {},
   "outputs": [
    {
     "name": "stdout",
     "output_type": "stream",
     "text": [
      "Number is prime.\n",
      "Execution time = 3.68 sec.\n"
     ]
    }
   ],
   "source": [
    "import time\n",
    "from numpy import sqrt, zeros\n",
    "\n",
    "t0 = time.time()\n",
    "\n",
    "# Create a \"client\" using active cluster. USER MUST SUPPLY CLUSTER ID from \n",
    "# \"!ipcluster list\" run in code cell, or IPython Clusters notebook tab.\n",
    "client = ipp.Client(cluster_id='1682719542-qij4')                \n",
    "\n",
    "dv = client[:]                                                   # use all engines\n",
    "\n",
    "num = 489133282872437279                                         # number to check for primeness\n",
    "\n",
    "limits = subint_limits(num, num_cores-1)                        # get tuple of subinterval limits\n",
    "\n",
    "results = dv.map(is_primePT, [limits[i] for i in range(num_cores-1)])\n",
    "\n",
    "# Check results: if all subintervals report True, then \"num\" is prime; otherwise, it's not\n",
    "if all(results.result()):\n",
    "    print(\"Number is prime.\")\n",
    "else:\n",
    "    print(\"Number is not prime.\")\n",
    "    \n",
    "t1 = time.time()\n",
    "\n",
    "print(f\"Execution time = {t1-t0:.2f} sec.\")"
   ]
  },
  {
   "cell_type": "markdown",
   "metadata": {},
   "source": [
    "On the author's computer, this is about 10% faster than the approach using `multiprocess`.  "
   ]
  },
  {
   "cell_type": "markdown",
   "metadata": {},
   "source": [
    "As an aside, we can compare this to the time for one subinterval to run on one engine.  To call a single engine, use `client[i].apply()` for some index `i`:"
   ]
  },
  {
   "cell_type": "code",
   "execution_count": 28,
   "metadata": {},
   "outputs": [
    {
     "name": "stdout",
     "output_type": "stream",
     "text": [
      "Number is prime.\n",
      "Execution time = 1.83 sec.\n"
     ]
    }
   ],
   "source": [
    "t0 = time.time()\n",
    "\n",
    "results = client[0].apply(is_primePT, limits[0])\n",
    "\n",
    "# Check results: if all subintervals report True, then \"num\" is prime; otherwise, it's not\n",
    "if results.result():\n",
    "    print(\"Number is prime.\")\n",
    "else:\n",
    "    print(\"Number is not prime.\")\n",
    "    \n",
    "t1 = time.time()\n",
    "\n",
    "print(f\"Execution time = {t1-t0:.2f} sec.\")"
   ]
  },
  {
   "cell_type": "markdown",
   "metadata": {},
   "source": [
    "On the author's computer, this took about half the time that it took to run all the subintervals on all the cores.  If every core takes about the same time, and they run simultaneously, that suggests that the overhead involved in using `.map()` accounts for about half the run time in the calculation involving all the subintervals.    "
   ]
  },
  {
   "cell_type": "markdown",
   "metadata": {},
   "source": [
    "To shut down the engines at the end of a session, click the Stop button for the cluster on the `IPython Cluster` tab on the jupyter home page.  (If that doesn't work, you should be able to run `rc.shutdown(hub=True)` from a code cell in a notebook.  If for some reason you don't want to shut down the hub, don't include `hub=True`.)"
   ]
  },
  {
   "cell_type": "markdown",
   "metadata": {},
   "source": [
    "  "
   ]
  },
  {
   "cell_type": "markdown",
   "metadata": {},
   "source": [
    "## <font color=\"blue\">15.5 `dask`</font>\n",
    "\n",
    "As noted above, the `dask` package, which is included by default in the Anaconda distribution (and based on `concurrent.futures`), was created to work well with `numpy`, `pandas`, and the machine learning packages `scikit-learn`.  It's especially designed to work well with `numpy` arrays and `pandas` \"dataframes\" (similar to database tables).  However, the `dask` \"scheduler\" that distributes tasks to cores takes 1 millisecond per task to do its work, so it will not speed up all computations, and may slow down those in which the basic task is very quick.\n",
    "\n",
    "One way to use `dask`, called \"dask delayed,\" can, in principle, parallelize any code that's parallelizable.  It uses two key tools to run code in parallel automatically: the **`@dask.delayed`** \"decorator,\" and the **`.compute()`** method.  The decorator tells Python not to actually run the following code, but just to \"set it up to run;\" the method then tells it to do the computation (in parallel).\n",
    "\n",
    "To use these with our `random_square` function, we first need to create a cluster of cores and the \"scheduler\" that will distribute the tasks to the cores (below, 15 cores, or \"workers\" are created).  As in previous parallel processing packages, we should ensure that we're in the `main` process, to avoid a recursive sequence of cluster creations:"
   ]
  },
  {
   "cell_type": "code",
   "execution_count": 1,
   "metadata": {},
   "outputs": [],
   "source": [
    "if __name__ == \"__main__\": \n",
    "\n",
    "    from dask.distributed import Client\n",
    "    client = Client(n_workers=15)"
   ]
  },
  {
   "cell_type": "markdown",
   "metadata": {},
   "source": [
    "You can get a \"Dashboard\" display of information about the cluster by executing the command `client` and then clicking on the URL link that appears.  That will open a new browser tab with several real-time plot windows showing memory usage, CPU activity, and other properties.  Other displays can be shown using the \"tabs\" near the top of the Dashboard (e.g., \"Status,\" \"Workers,\" \"Tasks,\" etc.).  \"Status\" is the main, default tab."
   ]
  },
  {
   "cell_type": "code",
   "execution_count": 2,
   "metadata": {},
   "outputs": [
    {
     "data": {
      "text/html": [
       "<div>\n",
       "    <div style=\"width: 24px; height: 24px; background-color: #e1e1e1; border: 3px solid #9D9D9D; border-radius: 5px; position: absolute;\"> </div>\n",
       "    <div style=\"margin-left: 48px;\">\n",
       "        <h3 style=\"margin-bottom: 0px;\">Client</h3>\n",
       "        <p style=\"color: #9D9D9D; margin-bottom: 0px;\">Client-e2bbe6c4-e611-11ed-8eec-c40e31fc3b18</p>\n",
       "        <table style=\"width: 100%; text-align: left;\">\n",
       "\n",
       "        <tr>\n",
       "        \n",
       "            <td style=\"text-align: left;\"><strong>Connection method:</strong> Cluster object</td>\n",
       "            <td style=\"text-align: left;\"><strong>Cluster type:</strong> distributed.LocalCluster</td>\n",
       "        \n",
       "        </tr>\n",
       "\n",
       "        \n",
       "            <tr>\n",
       "                <td style=\"text-align: left;\">\n",
       "                    <strong>Dashboard: </strong> <a href=\"http://127.0.0.1:8787/status\" target=\"_blank\">http://127.0.0.1:8787/status</a>\n",
       "                </td>\n",
       "                <td style=\"text-align: left;\"></td>\n",
       "            </tr>\n",
       "        \n",
       "\n",
       "        </table>\n",
       "\n",
       "        \n",
       "\n",
       "        \n",
       "            <details>\n",
       "            <summary style=\"margin-bottom: 20px;\"><h3 style=\"display: inline;\">Cluster Info</h3></summary>\n",
       "            <div class=\"jp-RenderedHTMLCommon jp-RenderedHTML jp-mod-trusted jp-OutputArea-output\">\n",
       "    <div style=\"width: 24px; height: 24px; background-color: #e1e1e1; border: 3px solid #9D9D9D; border-radius: 5px; position: absolute;\">\n",
       "    </div>\n",
       "    <div style=\"margin-left: 48px;\">\n",
       "        <h3 style=\"margin-bottom: 0px; margin-top: 0px;\">LocalCluster</h3>\n",
       "        <p style=\"color: #9D9D9D; margin-bottom: 0px;\">c98afd97</p>\n",
       "        <table style=\"width: 100%; text-align: left;\">\n",
       "            <tr>\n",
       "                <td style=\"text-align: left;\">\n",
       "                    <strong>Dashboard:</strong> <a href=\"http://127.0.0.1:8787/status\" target=\"_blank\">http://127.0.0.1:8787/status</a>\n",
       "                </td>\n",
       "                <td style=\"text-align: left;\">\n",
       "                    <strong>Workers:</strong> 15\n",
       "                </td>\n",
       "            </tr>\n",
       "            <tr>\n",
       "                <td style=\"text-align: left;\">\n",
       "                    <strong>Total threads:</strong> 30\n",
       "                </td>\n",
       "                <td style=\"text-align: left;\">\n",
       "                    <strong>Total memory:</strong> 15.35 GiB\n",
       "                </td>\n",
       "            </tr>\n",
       "            \n",
       "            <tr>\n",
       "    <td style=\"text-align: left;\"><strong>Status:</strong> running</td>\n",
       "    <td style=\"text-align: left;\"><strong>Using processes:</strong> True</td>\n",
       "</tr>\n",
       "\n",
       "            \n",
       "        </table>\n",
       "\n",
       "        <details>\n",
       "            <summary style=\"margin-bottom: 20px;\">\n",
       "                <h3 style=\"display: inline;\">Scheduler Info</h3>\n",
       "            </summary>\n",
       "\n",
       "            <div style=\"\">\n",
       "    <div>\n",
       "        <div style=\"width: 24px; height: 24px; background-color: #FFF7E5; border: 3px solid #FF6132; border-radius: 5px; position: absolute;\"> </div>\n",
       "        <div style=\"margin-left: 48px;\">\n",
       "            <h3 style=\"margin-bottom: 0px;\">Scheduler</h3>\n",
       "            <p style=\"color: #9D9D9D; margin-bottom: 0px;\">Scheduler-b195e4e8-21d5-4155-bb32-81c3d5495b16</p>\n",
       "            <table style=\"width: 100%; text-align: left;\">\n",
       "                <tr>\n",
       "                    <td style=\"text-align: left;\">\n",
       "                        <strong>Comm:</strong> tcp://127.0.0.1:61945\n",
       "                    </td>\n",
       "                    <td style=\"text-align: left;\">\n",
       "                        <strong>Workers:</strong> 15\n",
       "                    </td>\n",
       "                </tr>\n",
       "                <tr>\n",
       "                    <td style=\"text-align: left;\">\n",
       "                        <strong>Dashboard:</strong> <a href=\"http://127.0.0.1:8787/status\" target=\"_blank\">http://127.0.0.1:8787/status</a>\n",
       "                    </td>\n",
       "                    <td style=\"text-align: left;\">\n",
       "                        <strong>Total threads:</strong> 30\n",
       "                    </td>\n",
       "                </tr>\n",
       "                <tr>\n",
       "                    <td style=\"text-align: left;\">\n",
       "                        <strong>Started:</strong> Just now\n",
       "                    </td>\n",
       "                    <td style=\"text-align: left;\">\n",
       "                        <strong>Total memory:</strong> 15.35 GiB\n",
       "                    </td>\n",
       "                </tr>\n",
       "            </table>\n",
       "        </div>\n",
       "    </div>\n",
       "\n",
       "    <details style=\"margin-left: 48px;\">\n",
       "        <summary style=\"margin-bottom: 20px;\">\n",
       "            <h3 style=\"display: inline;\">Workers</h3>\n",
       "        </summary>\n",
       "\n",
       "        \n",
       "        <div style=\"margin-bottom: 20px;\">\n",
       "            <div style=\"width: 24px; height: 24px; background-color: #DBF5FF; border: 3px solid #4CC9FF; border-radius: 5px; position: absolute;\"> </div>\n",
       "            <div style=\"margin-left: 48px;\">\n",
       "            <details>\n",
       "                <summary>\n",
       "                    <h4 style=\"margin-bottom: 0px; display: inline;\">Worker: 0</h4>\n",
       "                </summary>\n",
       "                <table style=\"width: 100%; text-align: left;\">\n",
       "                    <tr>\n",
       "                        <td style=\"text-align: left;\">\n",
       "                            <strong>Comm: </strong> tcp://127.0.0.1:62031\n",
       "                        </td>\n",
       "                        <td style=\"text-align: left;\">\n",
       "                            <strong>Total threads: </strong> 2\n",
       "                        </td>\n",
       "                    </tr>\n",
       "                    <tr>\n",
       "                        <td style=\"text-align: left;\">\n",
       "                            <strong>Dashboard: </strong> <a href=\"http://127.0.0.1:62038/status\" target=\"_blank\">http://127.0.0.1:62038/status</a>\n",
       "                        </td>\n",
       "                        <td style=\"text-align: left;\">\n",
       "                            <strong>Memory: </strong> 1.02 GiB\n",
       "                        </td>\n",
       "                    </tr>\n",
       "                    <tr>\n",
       "                        <td style=\"text-align: left;\">\n",
       "                            <strong>Nanny: </strong> tcp://127.0.0.1:61948\n",
       "                        </td>\n",
       "                        <td style=\"text-align: left;\"></td>\n",
       "                    </tr>\n",
       "                    <tr>\n",
       "                        <td colspan=\"2\" style=\"text-align: left;\">\n",
       "                            <strong>Local directory: </strong> C:\\Users\\Me\\AppData\\Local\\Temp\\dask-worker-space\\worker-oh_ljcht\n",
       "                        </td>\n",
       "                    </tr>\n",
       "\n",
       "                    \n",
       "\n",
       "                    \n",
       "\n",
       "                </table>\n",
       "            </details>\n",
       "            </div>\n",
       "        </div>\n",
       "        \n",
       "        <div style=\"margin-bottom: 20px;\">\n",
       "            <div style=\"width: 24px; height: 24px; background-color: #DBF5FF; border: 3px solid #4CC9FF; border-radius: 5px; position: absolute;\"> </div>\n",
       "            <div style=\"margin-left: 48px;\">\n",
       "            <details>\n",
       "                <summary>\n",
       "                    <h4 style=\"margin-bottom: 0px; display: inline;\">Worker: 1</h4>\n",
       "                </summary>\n",
       "                <table style=\"width: 100%; text-align: left;\">\n",
       "                    <tr>\n",
       "                        <td style=\"text-align: left;\">\n",
       "                            <strong>Comm: </strong> tcp://127.0.0.1:62018\n",
       "                        </td>\n",
       "                        <td style=\"text-align: left;\">\n",
       "                            <strong>Total threads: </strong> 2\n",
       "                        </td>\n",
       "                    </tr>\n",
       "                    <tr>\n",
       "                        <td style=\"text-align: left;\">\n",
       "                            <strong>Dashboard: </strong> <a href=\"http://127.0.0.1:62025/status\" target=\"_blank\">http://127.0.0.1:62025/status</a>\n",
       "                        </td>\n",
       "                        <td style=\"text-align: left;\">\n",
       "                            <strong>Memory: </strong> 1.02 GiB\n",
       "                        </td>\n",
       "                    </tr>\n",
       "                    <tr>\n",
       "                        <td style=\"text-align: left;\">\n",
       "                            <strong>Nanny: </strong> tcp://127.0.0.1:61949\n",
       "                        </td>\n",
       "                        <td style=\"text-align: left;\"></td>\n",
       "                    </tr>\n",
       "                    <tr>\n",
       "                        <td colspan=\"2\" style=\"text-align: left;\">\n",
       "                            <strong>Local directory: </strong> C:\\Users\\Me\\AppData\\Local\\Temp\\dask-worker-space\\worker-aq6y79f3\n",
       "                        </td>\n",
       "                    </tr>\n",
       "\n",
       "                    \n",
       "\n",
       "                    \n",
       "\n",
       "                </table>\n",
       "            </details>\n",
       "            </div>\n",
       "        </div>\n",
       "        \n",
       "        <div style=\"margin-bottom: 20px;\">\n",
       "            <div style=\"width: 24px; height: 24px; background-color: #DBF5FF; border: 3px solid #4CC9FF; border-radius: 5px; position: absolute;\"> </div>\n",
       "            <div style=\"margin-left: 48px;\">\n",
       "            <details>\n",
       "                <summary>\n",
       "                    <h4 style=\"margin-bottom: 0px; display: inline;\">Worker: 2</h4>\n",
       "                </summary>\n",
       "                <table style=\"width: 100%; text-align: left;\">\n",
       "                    <tr>\n",
       "                        <td style=\"text-align: left;\">\n",
       "                            <strong>Comm: </strong> tcp://127.0.0.1:62048\n",
       "                        </td>\n",
       "                        <td style=\"text-align: left;\">\n",
       "                            <strong>Total threads: </strong> 2\n",
       "                        </td>\n",
       "                    </tr>\n",
       "                    <tr>\n",
       "                        <td style=\"text-align: left;\">\n",
       "                            <strong>Dashboard: </strong> <a href=\"http://127.0.0.1:62051/status\" target=\"_blank\">http://127.0.0.1:62051/status</a>\n",
       "                        </td>\n",
       "                        <td style=\"text-align: left;\">\n",
       "                            <strong>Memory: </strong> 1.02 GiB\n",
       "                        </td>\n",
       "                    </tr>\n",
       "                    <tr>\n",
       "                        <td style=\"text-align: left;\">\n",
       "                            <strong>Nanny: </strong> tcp://127.0.0.1:61950\n",
       "                        </td>\n",
       "                        <td style=\"text-align: left;\"></td>\n",
       "                    </tr>\n",
       "                    <tr>\n",
       "                        <td colspan=\"2\" style=\"text-align: left;\">\n",
       "                            <strong>Local directory: </strong> C:\\Users\\Me\\AppData\\Local\\Temp\\dask-worker-space\\worker-oo5j10s_\n",
       "                        </td>\n",
       "                    </tr>\n",
       "\n",
       "                    \n",
       "\n",
       "                    \n",
       "\n",
       "                </table>\n",
       "            </details>\n",
       "            </div>\n",
       "        </div>\n",
       "        \n",
       "        <div style=\"margin-bottom: 20px;\">\n",
       "            <div style=\"width: 24px; height: 24px; background-color: #DBF5FF; border: 3px solid #4CC9FF; border-radius: 5px; position: absolute;\"> </div>\n",
       "            <div style=\"margin-left: 48px;\">\n",
       "            <details>\n",
       "                <summary>\n",
       "                    <h4 style=\"margin-bottom: 0px; display: inline;\">Worker: 3</h4>\n",
       "                </summary>\n",
       "                <table style=\"width: 100%; text-align: left;\">\n",
       "                    <tr>\n",
       "                        <td style=\"text-align: left;\">\n",
       "                            <strong>Comm: </strong> tcp://127.0.0.1:62041\n",
       "                        </td>\n",
       "                        <td style=\"text-align: left;\">\n",
       "                            <strong>Total threads: </strong> 2\n",
       "                        </td>\n",
       "                    </tr>\n",
       "                    <tr>\n",
       "                        <td style=\"text-align: left;\">\n",
       "                            <strong>Dashboard: </strong> <a href=\"http://127.0.0.1:62046/status\" target=\"_blank\">http://127.0.0.1:62046/status</a>\n",
       "                        </td>\n",
       "                        <td style=\"text-align: left;\">\n",
       "                            <strong>Memory: </strong> 1.02 GiB\n",
       "                        </td>\n",
       "                    </tr>\n",
       "                    <tr>\n",
       "                        <td style=\"text-align: left;\">\n",
       "                            <strong>Nanny: </strong> tcp://127.0.0.1:61951\n",
       "                        </td>\n",
       "                        <td style=\"text-align: left;\"></td>\n",
       "                    </tr>\n",
       "                    <tr>\n",
       "                        <td colspan=\"2\" style=\"text-align: left;\">\n",
       "                            <strong>Local directory: </strong> C:\\Users\\Me\\AppData\\Local\\Temp\\dask-worker-space\\worker-lz2iahcr\n",
       "                        </td>\n",
       "                    </tr>\n",
       "\n",
       "                    \n",
       "\n",
       "                    \n",
       "\n",
       "                </table>\n",
       "            </details>\n",
       "            </div>\n",
       "        </div>\n",
       "        \n",
       "        <div style=\"margin-bottom: 20px;\">\n",
       "            <div style=\"width: 24px; height: 24px; background-color: #DBF5FF; border: 3px solid #4CC9FF; border-radius: 5px; position: absolute;\"> </div>\n",
       "            <div style=\"margin-left: 48px;\">\n",
       "            <details>\n",
       "                <summary>\n",
       "                    <h4 style=\"margin-bottom: 0px; display: inline;\">Worker: 4</h4>\n",
       "                </summary>\n",
       "                <table style=\"width: 100%; text-align: left;\">\n",
       "                    <tr>\n",
       "                        <td style=\"text-align: left;\">\n",
       "                            <strong>Comm: </strong> tcp://127.0.0.1:62024\n",
       "                        </td>\n",
       "                        <td style=\"text-align: left;\">\n",
       "                            <strong>Total threads: </strong> 2\n",
       "                        </td>\n",
       "                    </tr>\n",
       "                    <tr>\n",
       "                        <td style=\"text-align: left;\">\n",
       "                            <strong>Dashboard: </strong> <a href=\"http://127.0.0.1:62035/status\" target=\"_blank\">http://127.0.0.1:62035/status</a>\n",
       "                        </td>\n",
       "                        <td style=\"text-align: left;\">\n",
       "                            <strong>Memory: </strong> 1.02 GiB\n",
       "                        </td>\n",
       "                    </tr>\n",
       "                    <tr>\n",
       "                        <td style=\"text-align: left;\">\n",
       "                            <strong>Nanny: </strong> tcp://127.0.0.1:61952\n",
       "                        </td>\n",
       "                        <td style=\"text-align: left;\"></td>\n",
       "                    </tr>\n",
       "                    <tr>\n",
       "                        <td colspan=\"2\" style=\"text-align: left;\">\n",
       "                            <strong>Local directory: </strong> C:\\Users\\Me\\AppData\\Local\\Temp\\dask-worker-space\\worker-y74fr9cg\n",
       "                        </td>\n",
       "                    </tr>\n",
       "\n",
       "                    \n",
       "\n",
       "                    \n",
       "\n",
       "                </table>\n",
       "            </details>\n",
       "            </div>\n",
       "        </div>\n",
       "        \n",
       "        <div style=\"margin-bottom: 20px;\">\n",
       "            <div style=\"width: 24px; height: 24px; background-color: #DBF5FF; border: 3px solid #4CC9FF; border-radius: 5px; position: absolute;\"> </div>\n",
       "            <div style=\"margin-left: 48px;\">\n",
       "            <details>\n",
       "                <summary>\n",
       "                    <h4 style=\"margin-bottom: 0px; display: inline;\">Worker: 5</h4>\n",
       "                </summary>\n",
       "                <table style=\"width: 100%; text-align: left;\">\n",
       "                    <tr>\n",
       "                        <td style=\"text-align: left;\">\n",
       "                            <strong>Comm: </strong> tcp://127.0.0.1:62045\n",
       "                        </td>\n",
       "                        <td style=\"text-align: left;\">\n",
       "                            <strong>Total threads: </strong> 2\n",
       "                        </td>\n",
       "                    </tr>\n",
       "                    <tr>\n",
       "                        <td style=\"text-align: left;\">\n",
       "                            <strong>Dashboard: </strong> <a href=\"http://127.0.0.1:62049/status\" target=\"_blank\">http://127.0.0.1:62049/status</a>\n",
       "                        </td>\n",
       "                        <td style=\"text-align: left;\">\n",
       "                            <strong>Memory: </strong> 1.02 GiB\n",
       "                        </td>\n",
       "                    </tr>\n",
       "                    <tr>\n",
       "                        <td style=\"text-align: left;\">\n",
       "                            <strong>Nanny: </strong> tcp://127.0.0.1:61953\n",
       "                        </td>\n",
       "                        <td style=\"text-align: left;\"></td>\n",
       "                    </tr>\n",
       "                    <tr>\n",
       "                        <td colspan=\"2\" style=\"text-align: left;\">\n",
       "                            <strong>Local directory: </strong> C:\\Users\\Me\\AppData\\Local\\Temp\\dask-worker-space\\worker-jkfpg8jc\n",
       "                        </td>\n",
       "                    </tr>\n",
       "\n",
       "                    \n",
       "\n",
       "                    \n",
       "\n",
       "                </table>\n",
       "            </details>\n",
       "            </div>\n",
       "        </div>\n",
       "        \n",
       "        <div style=\"margin-bottom: 20px;\">\n",
       "            <div style=\"width: 24px; height: 24px; background-color: #DBF5FF; border: 3px solid #4CC9FF; border-radius: 5px; position: absolute;\"> </div>\n",
       "            <div style=\"margin-left: 48px;\">\n",
       "            <details>\n",
       "                <summary>\n",
       "                    <h4 style=\"margin-bottom: 0px; display: inline;\">Worker: 6</h4>\n",
       "                </summary>\n",
       "                <table style=\"width: 100%; text-align: left;\">\n",
       "                    <tr>\n",
       "                        <td style=\"text-align: left;\">\n",
       "                            <strong>Comm: </strong> tcp://127.0.0.1:62023\n",
       "                        </td>\n",
       "                        <td style=\"text-align: left;\">\n",
       "                            <strong>Total threads: </strong> 2\n",
       "                        </td>\n",
       "                    </tr>\n",
       "                    <tr>\n",
       "                        <td style=\"text-align: left;\">\n",
       "                            <strong>Dashboard: </strong> <a href=\"http://127.0.0.1:62033/status\" target=\"_blank\">http://127.0.0.1:62033/status</a>\n",
       "                        </td>\n",
       "                        <td style=\"text-align: left;\">\n",
       "                            <strong>Memory: </strong> 1.02 GiB\n",
       "                        </td>\n",
       "                    </tr>\n",
       "                    <tr>\n",
       "                        <td style=\"text-align: left;\">\n",
       "                            <strong>Nanny: </strong> tcp://127.0.0.1:61954\n",
       "                        </td>\n",
       "                        <td style=\"text-align: left;\"></td>\n",
       "                    </tr>\n",
       "                    <tr>\n",
       "                        <td colspan=\"2\" style=\"text-align: left;\">\n",
       "                            <strong>Local directory: </strong> C:\\Users\\Me\\AppData\\Local\\Temp\\dask-worker-space\\worker-lbmeo7hj\n",
       "                        </td>\n",
       "                    </tr>\n",
       "\n",
       "                    \n",
       "\n",
       "                    \n",
       "\n",
       "                </table>\n",
       "            </details>\n",
       "            </div>\n",
       "        </div>\n",
       "        \n",
       "        <div style=\"margin-bottom: 20px;\">\n",
       "            <div style=\"width: 24px; height: 24px; background-color: #DBF5FF; border: 3px solid #4CC9FF; border-radius: 5px; position: absolute;\"> </div>\n",
       "            <div style=\"margin-left: 48px;\">\n",
       "            <details>\n",
       "                <summary>\n",
       "                    <h4 style=\"margin-bottom: 0px; display: inline;\">Worker: 7</h4>\n",
       "                </summary>\n",
       "                <table style=\"width: 100%; text-align: left;\">\n",
       "                    <tr>\n",
       "                        <td style=\"text-align: left;\">\n",
       "                            <strong>Comm: </strong> tcp://127.0.0.1:62022\n",
       "                        </td>\n",
       "                        <td style=\"text-align: left;\">\n",
       "                            <strong>Total threads: </strong> 2\n",
       "                        </td>\n",
       "                    </tr>\n",
       "                    <tr>\n",
       "                        <td style=\"text-align: left;\">\n",
       "                            <strong>Dashboard: </strong> <a href=\"http://127.0.0.1:62029/status\" target=\"_blank\">http://127.0.0.1:62029/status</a>\n",
       "                        </td>\n",
       "                        <td style=\"text-align: left;\">\n",
       "                            <strong>Memory: </strong> 1.02 GiB\n",
       "                        </td>\n",
       "                    </tr>\n",
       "                    <tr>\n",
       "                        <td style=\"text-align: left;\">\n",
       "                            <strong>Nanny: </strong> tcp://127.0.0.1:61955\n",
       "                        </td>\n",
       "                        <td style=\"text-align: left;\"></td>\n",
       "                    </tr>\n",
       "                    <tr>\n",
       "                        <td colspan=\"2\" style=\"text-align: left;\">\n",
       "                            <strong>Local directory: </strong> C:\\Users\\Me\\AppData\\Local\\Temp\\dask-worker-space\\worker-b4jdwg51\n",
       "                        </td>\n",
       "                    </tr>\n",
       "\n",
       "                    \n",
       "\n",
       "                    \n",
       "\n",
       "                </table>\n",
       "            </details>\n",
       "            </div>\n",
       "        </div>\n",
       "        \n",
       "        <div style=\"margin-bottom: 20px;\">\n",
       "            <div style=\"width: 24px; height: 24px; background-color: #DBF5FF; border: 3px solid #4CC9FF; border-radius: 5px; position: absolute;\"> </div>\n",
       "            <div style=\"margin-left: 48px;\">\n",
       "            <details>\n",
       "                <summary>\n",
       "                    <h4 style=\"margin-bottom: 0px; display: inline;\">Worker: 8</h4>\n",
       "                </summary>\n",
       "                <table style=\"width: 100%; text-align: left;\">\n",
       "                    <tr>\n",
       "                        <td style=\"text-align: left;\">\n",
       "                            <strong>Comm: </strong> tcp://127.0.0.1:62017\n",
       "                        </td>\n",
       "                        <td style=\"text-align: left;\">\n",
       "                            <strong>Total threads: </strong> 2\n",
       "                        </td>\n",
       "                    </tr>\n",
       "                    <tr>\n",
       "                        <td style=\"text-align: left;\">\n",
       "                            <strong>Dashboard: </strong> <a href=\"http://127.0.0.1:62020/status\" target=\"_blank\">http://127.0.0.1:62020/status</a>\n",
       "                        </td>\n",
       "                        <td style=\"text-align: left;\">\n",
       "                            <strong>Memory: </strong> 1.02 GiB\n",
       "                        </td>\n",
       "                    </tr>\n",
       "                    <tr>\n",
       "                        <td style=\"text-align: left;\">\n",
       "                            <strong>Nanny: </strong> tcp://127.0.0.1:61956\n",
       "                        </td>\n",
       "                        <td style=\"text-align: left;\"></td>\n",
       "                    </tr>\n",
       "                    <tr>\n",
       "                        <td colspan=\"2\" style=\"text-align: left;\">\n",
       "                            <strong>Local directory: </strong> C:\\Users\\Me\\AppData\\Local\\Temp\\dask-worker-space\\worker-wqer4_yi\n",
       "                        </td>\n",
       "                    </tr>\n",
       "\n",
       "                    \n",
       "\n",
       "                    \n",
       "\n",
       "                </table>\n",
       "            </details>\n",
       "            </div>\n",
       "        </div>\n",
       "        \n",
       "        <div style=\"margin-bottom: 20px;\">\n",
       "            <div style=\"width: 24px; height: 24px; background-color: #DBF5FF; border: 3px solid #4CC9FF; border-radius: 5px; position: absolute;\"> </div>\n",
       "            <div style=\"margin-left: 48px;\">\n",
       "            <details>\n",
       "                <summary>\n",
       "                    <h4 style=\"margin-bottom: 0px; display: inline;\">Worker: 9</h4>\n",
       "                </summary>\n",
       "                <table style=\"width: 100%; text-align: left;\">\n",
       "                    <tr>\n",
       "                        <td style=\"text-align: left;\">\n",
       "                            <strong>Comm: </strong> tcp://127.0.0.1:62037\n",
       "                        </td>\n",
       "                        <td style=\"text-align: left;\">\n",
       "                            <strong>Total threads: </strong> 2\n",
       "                        </td>\n",
       "                    </tr>\n",
       "                    <tr>\n",
       "                        <td style=\"text-align: left;\">\n",
       "                            <strong>Dashboard: </strong> <a href=\"http://127.0.0.1:62043/status\" target=\"_blank\">http://127.0.0.1:62043/status</a>\n",
       "                        </td>\n",
       "                        <td style=\"text-align: left;\">\n",
       "                            <strong>Memory: </strong> 1.02 GiB\n",
       "                        </td>\n",
       "                    </tr>\n",
       "                    <tr>\n",
       "                        <td style=\"text-align: left;\">\n",
       "                            <strong>Nanny: </strong> tcp://127.0.0.1:61957\n",
       "                        </td>\n",
       "                        <td style=\"text-align: left;\"></td>\n",
       "                    </tr>\n",
       "                    <tr>\n",
       "                        <td colspan=\"2\" style=\"text-align: left;\">\n",
       "                            <strong>Local directory: </strong> C:\\Users\\Me\\AppData\\Local\\Temp\\dask-worker-space\\worker-zg74gjft\n",
       "                        </td>\n",
       "                    </tr>\n",
       "\n",
       "                    \n",
       "\n",
       "                    \n",
       "\n",
       "                </table>\n",
       "            </details>\n",
       "            </div>\n",
       "        </div>\n",
       "        \n",
       "        <div style=\"margin-bottom: 20px;\">\n",
       "            <div style=\"width: 24px; height: 24px; background-color: #DBF5FF; border: 3px solid #4CC9FF; border-radius: 5px; position: absolute;\"> </div>\n",
       "            <div style=\"margin-left: 48px;\">\n",
       "            <details>\n",
       "                <summary>\n",
       "                    <h4 style=\"margin-bottom: 0px; display: inline;\">Worker: 10</h4>\n",
       "                </summary>\n",
       "                <table style=\"width: 100%; text-align: left;\">\n",
       "                    <tr>\n",
       "                        <td style=\"text-align: left;\">\n",
       "                            <strong>Comm: </strong> tcp://127.0.0.1:62019\n",
       "                        </td>\n",
       "                        <td style=\"text-align: left;\">\n",
       "                            <strong>Total threads: </strong> 2\n",
       "                        </td>\n",
       "                    </tr>\n",
       "                    <tr>\n",
       "                        <td style=\"text-align: left;\">\n",
       "                            <strong>Dashboard: </strong> <a href=\"http://127.0.0.1:62026/status\" target=\"_blank\">http://127.0.0.1:62026/status</a>\n",
       "                        </td>\n",
       "                        <td style=\"text-align: left;\">\n",
       "                            <strong>Memory: </strong> 1.02 GiB\n",
       "                        </td>\n",
       "                    </tr>\n",
       "                    <tr>\n",
       "                        <td style=\"text-align: left;\">\n",
       "                            <strong>Nanny: </strong> tcp://127.0.0.1:61958\n",
       "                        </td>\n",
       "                        <td style=\"text-align: left;\"></td>\n",
       "                    </tr>\n",
       "                    <tr>\n",
       "                        <td colspan=\"2\" style=\"text-align: left;\">\n",
       "                            <strong>Local directory: </strong> C:\\Users\\Me\\AppData\\Local\\Temp\\dask-worker-space\\worker-o_kh7qbz\n",
       "                        </td>\n",
       "                    </tr>\n",
       "\n",
       "                    \n",
       "\n",
       "                    \n",
       "\n",
       "                </table>\n",
       "            </details>\n",
       "            </div>\n",
       "        </div>\n",
       "        \n",
       "        <div style=\"margin-bottom: 20px;\">\n",
       "            <div style=\"width: 24px; height: 24px; background-color: #DBF5FF; border: 3px solid #4CC9FF; border-radius: 5px; position: absolute;\"> </div>\n",
       "            <div style=\"margin-left: 48px;\">\n",
       "            <details>\n",
       "                <summary>\n",
       "                    <h4 style=\"margin-bottom: 0px; display: inline;\">Worker: 11</h4>\n",
       "                </summary>\n",
       "                <table style=\"width: 100%; text-align: left;\">\n",
       "                    <tr>\n",
       "                        <td style=\"text-align: left;\">\n",
       "                            <strong>Comm: </strong> tcp://127.0.0.1:62032\n",
       "                        </td>\n",
       "                        <td style=\"text-align: left;\">\n",
       "                            <strong>Total threads: </strong> 2\n",
       "                        </td>\n",
       "                    </tr>\n",
       "                    <tr>\n",
       "                        <td style=\"text-align: left;\">\n",
       "                            <strong>Dashboard: </strong> <a href=\"http://127.0.0.1:62040/status\" target=\"_blank\">http://127.0.0.1:62040/status</a>\n",
       "                        </td>\n",
       "                        <td style=\"text-align: left;\">\n",
       "                            <strong>Memory: </strong> 1.02 GiB\n",
       "                        </td>\n",
       "                    </tr>\n",
       "                    <tr>\n",
       "                        <td style=\"text-align: left;\">\n",
       "                            <strong>Nanny: </strong> tcp://127.0.0.1:61959\n",
       "                        </td>\n",
       "                        <td style=\"text-align: left;\"></td>\n",
       "                    </tr>\n",
       "                    <tr>\n",
       "                        <td colspan=\"2\" style=\"text-align: left;\">\n",
       "                            <strong>Local directory: </strong> C:\\Users\\Me\\AppData\\Local\\Temp\\dask-worker-space\\worker-98n3nent\n",
       "                        </td>\n",
       "                    </tr>\n",
       "\n",
       "                    \n",
       "\n",
       "                    \n",
       "\n",
       "                </table>\n",
       "            </details>\n",
       "            </div>\n",
       "        </div>\n",
       "        \n",
       "        <div style=\"margin-bottom: 20px;\">\n",
       "            <div style=\"width: 24px; height: 24px; background-color: #DBF5FF; border: 3px solid #4CC9FF; border-radius: 5px; position: absolute;\"> </div>\n",
       "            <div style=\"margin-left: 48px;\">\n",
       "            <details>\n",
       "                <summary>\n",
       "                    <h4 style=\"margin-bottom: 0px; display: inline;\">Worker: 12</h4>\n",
       "                </summary>\n",
       "                <table style=\"width: 100%; text-align: left;\">\n",
       "                    <tr>\n",
       "                        <td style=\"text-align: left;\">\n",
       "                            <strong>Comm: </strong> tcp://127.0.0.1:62011\n",
       "                        </td>\n",
       "                        <td style=\"text-align: left;\">\n",
       "                            <strong>Total threads: </strong> 2\n",
       "                        </td>\n",
       "                    </tr>\n",
       "                    <tr>\n",
       "                        <td style=\"text-align: left;\">\n",
       "                            <strong>Dashboard: </strong> <a href=\"http://127.0.0.1:62013/status\" target=\"_blank\">http://127.0.0.1:62013/status</a>\n",
       "                        </td>\n",
       "                        <td style=\"text-align: left;\">\n",
       "                            <strong>Memory: </strong> 1.02 GiB\n",
       "                        </td>\n",
       "                    </tr>\n",
       "                    <tr>\n",
       "                        <td style=\"text-align: left;\">\n",
       "                            <strong>Nanny: </strong> tcp://127.0.0.1:61960\n",
       "                        </td>\n",
       "                        <td style=\"text-align: left;\"></td>\n",
       "                    </tr>\n",
       "                    <tr>\n",
       "                        <td colspan=\"2\" style=\"text-align: left;\">\n",
       "                            <strong>Local directory: </strong> C:\\Users\\Me\\AppData\\Local\\Temp\\dask-worker-space\\worker-fijqadm_\n",
       "                        </td>\n",
       "                    </tr>\n",
       "\n",
       "                    \n",
       "\n",
       "                    \n",
       "\n",
       "                </table>\n",
       "            </details>\n",
       "            </div>\n",
       "        </div>\n",
       "        \n",
       "        <div style=\"margin-bottom: 20px;\">\n",
       "            <div style=\"width: 24px; height: 24px; background-color: #DBF5FF; border: 3px solid #4CC9FF; border-radius: 5px; position: absolute;\"> </div>\n",
       "            <div style=\"margin-left: 48px;\">\n",
       "            <details>\n",
       "                <summary>\n",
       "                    <h4 style=\"margin-bottom: 0px; display: inline;\">Worker: 13</h4>\n",
       "                </summary>\n",
       "                <table style=\"width: 100%; text-align: left;\">\n",
       "                    <tr>\n",
       "                        <td style=\"text-align: left;\">\n",
       "                            <strong>Comm: </strong> tcp://127.0.0.1:61990\n",
       "                        </td>\n",
       "                        <td style=\"text-align: left;\">\n",
       "                            <strong>Total threads: </strong> 2\n",
       "                        </td>\n",
       "                    </tr>\n",
       "                    <tr>\n",
       "                        <td style=\"text-align: left;\">\n",
       "                            <strong>Dashboard: </strong> <a href=\"http://127.0.0.1:62009/status\" target=\"_blank\">http://127.0.0.1:62009/status</a>\n",
       "                        </td>\n",
       "                        <td style=\"text-align: left;\">\n",
       "                            <strong>Memory: </strong> 1.02 GiB\n",
       "                        </td>\n",
       "                    </tr>\n",
       "                    <tr>\n",
       "                        <td style=\"text-align: left;\">\n",
       "                            <strong>Nanny: </strong> tcp://127.0.0.1:61961\n",
       "                        </td>\n",
       "                        <td style=\"text-align: left;\"></td>\n",
       "                    </tr>\n",
       "                    <tr>\n",
       "                        <td colspan=\"2\" style=\"text-align: left;\">\n",
       "                            <strong>Local directory: </strong> C:\\Users\\Me\\AppData\\Local\\Temp\\dask-worker-space\\worker-7av8odpa\n",
       "                        </td>\n",
       "                    </tr>\n",
       "\n",
       "                    \n",
       "\n",
       "                    \n",
       "\n",
       "                </table>\n",
       "            </details>\n",
       "            </div>\n",
       "        </div>\n",
       "        \n",
       "        <div style=\"margin-bottom: 20px;\">\n",
       "            <div style=\"width: 24px; height: 24px; background-color: #DBF5FF; border: 3px solid #4CC9FF; border-radius: 5px; position: absolute;\"> </div>\n",
       "            <div style=\"margin-left: 48px;\">\n",
       "            <details>\n",
       "                <summary>\n",
       "                    <h4 style=\"margin-bottom: 0px; display: inline;\">Worker: 14</h4>\n",
       "                </summary>\n",
       "                <table style=\"width: 100%; text-align: left;\">\n",
       "                    <tr>\n",
       "                        <td style=\"text-align: left;\">\n",
       "                            <strong>Comm: </strong> tcp://127.0.0.1:62012\n",
       "                        </td>\n",
       "                        <td style=\"text-align: left;\">\n",
       "                            <strong>Total threads: </strong> 2\n",
       "                        </td>\n",
       "                    </tr>\n",
       "                    <tr>\n",
       "                        <td style=\"text-align: left;\">\n",
       "                            <strong>Dashboard: </strong> <a href=\"http://127.0.0.1:62015/status\" target=\"_blank\">http://127.0.0.1:62015/status</a>\n",
       "                        </td>\n",
       "                        <td style=\"text-align: left;\">\n",
       "                            <strong>Memory: </strong> 1.02 GiB\n",
       "                        </td>\n",
       "                    </tr>\n",
       "                    <tr>\n",
       "                        <td style=\"text-align: left;\">\n",
       "                            <strong>Nanny: </strong> tcp://127.0.0.1:61962\n",
       "                        </td>\n",
       "                        <td style=\"text-align: left;\"></td>\n",
       "                    </tr>\n",
       "                    <tr>\n",
       "                        <td colspan=\"2\" style=\"text-align: left;\">\n",
       "                            <strong>Local directory: </strong> C:\\Users\\Me\\AppData\\Local\\Temp\\dask-worker-space\\worker-ftjfntp0\n",
       "                        </td>\n",
       "                    </tr>\n",
       "\n",
       "                    \n",
       "\n",
       "                    \n",
       "\n",
       "                </table>\n",
       "            </details>\n",
       "            </div>\n",
       "        </div>\n",
       "        \n",
       "\n",
       "    </details>\n",
       "</div>\n",
       "\n",
       "        </details>\n",
       "    </div>\n",
       "</div>\n",
       "            </details>\n",
       "        \n",
       "\n",
       "    </div>\n",
       "</div>"
      ],
      "text/plain": [
       "<Client: 'tcp://127.0.0.1:61945' processes=15 threads=30, memory=15.35 GiB>"
      ]
     },
     "execution_count": 2,
     "metadata": {},
     "output_type": "execute_result"
    }
   ],
   "source": [
    "client"
   ]
  },
  {
   "cell_type": "markdown",
   "metadata": {},
   "source": [
    "### <font color=\"blue\">15.5.1 Random Number Squaring</font>\n",
    "\n",
    "To parallelize the code, import `dask`, include the `@dask.delayed` decorator before the definition of any function that's to be run in parallel, and use the `.compute()` method to get the results:"
   ]
  },
  {
   "cell_type": "code",
   "execution_count": 3,
   "metadata": {},
   "outputs": [
    {
     "name": "stdout",
     "output_type": "stream",
     "text": [
      "First five and last five results: (25, 25, 64, 64, 49) ... (9, 4, 9, 81, 36)\n",
      "Execution time = 13.00 sec.\n"
     ]
    }
   ],
   "source": [
    "import dask\n",
    "import time\n",
    "\n",
    "@dask.delayed\n",
    "def random_square(myseed):\n",
    "    from numpy.random import seed, randint  # Must be imported inside function to be available to child processes\n",
    "    \n",
    "    seed(myseed)                            # set the seed to be the argument to the function\n",
    "    random_num = randint(0, 10)             # return a random number between 0 and 10 based on the seed\n",
    "    \n",
    "    return random_num**2\n",
    "\n",
    "\n",
    "t0 = time.time()                           # start time\n",
    "\n",
    "out = []\n",
    "for i in range(10000):                     # loop to define work to be performed\n",
    "    res = random_square(i)                 # because random_square is \"delayed,\" it won't run when this loop executes\n",
    "    out.append(res)                        # store to-be-computed value\n",
    "\n",
    "results = dask.compute(*out)               # *this* line will run random_square on the arguments given in the for loop\n",
    "\n",
    "print(\"First five and last five results:\", results[0:5], \"...\", results[-5:])\n",
    "\n",
    "t1 = time.time()                           # end time\n",
    "\n",
    "print(f\"Execution time = {t1-t0:.2f} sec.\")"
   ]
  },
  {
   "cell_type": "markdown",
   "metadata": {},
   "source": [
    "Here, the `random_square` function is defined and a `for` loop is set up to provide its arguments, but the calls to the function in the loop are not actually performed; they're merely defined.  (Hence the \"`delayed`\" in `@dask.delayed`.)  The computation gets done later by `dask.compute(*out)`, which runs on the yet-to-be-evaluated quantities defined by the loop.\n",
    "\n",
    "Unfortunately, this approach is quite slow: on the author's laptop it takes about three times longer to process 10,000 inputs than the unparallelized approach takes to operate on 1,000,000 inputs.  Most likely, that's because of the schedule overhead noted above.  (The last five outputs differ from those in the earlier calculations because the limit of the `range` function here is 10,000, not 1,000,000, so the last five `i` values are different.)"
   ]
  },
  {
   "cell_type": "markdown",
   "metadata": {},
   "source": [
    "An easier approach to parallelization is to use `dask`'s **`.map()`** method, similar to what we've seen with other packages.  Here's that approach, again with 10,000 values supplied as arguments.  (Watch the \"Task Stream\" panel on the Dashboard as the code cell below runs and you'll see when each of the workers/cores, corresponding to rows in the display, are active.)"
   ]
  },
  {
   "cell_type": "code",
   "execution_count": 4,
   "metadata": {},
   "outputs": [
    {
     "name": "stdout",
     "output_type": "stream",
     "text": [
      "First five and last five results: [25, 25, 64, 64, 49] ... [9, 4, 9, 81, 36]\n",
      "Execution time = 7.28 sec.\n"
     ]
    }
   ],
   "source": [
    "import dask\n",
    "import time\n",
    "\n",
    "\n",
    "def random_square(myseed):\n",
    "    from numpy.random import seed, randint  # Must be imported inside function to be available to child processes\n",
    "    \n",
    "    seed(myseed)                            # set the seed to be the argument to the function\n",
    "    random_num = randint(0, 10)             # return a random number between 0 and 10 based on the seed\n",
    "    \n",
    "    return random_num**2\n",
    "\n",
    "\n",
    "t0 = time.time()                          # start time\n",
    "\n",
    "out = client.map(random_square, range(10000))\n",
    "\n",
    "results = client.gather(out)\n",
    "\n",
    "print(\"First five and last five results:\", results[0:5], \"...\", results[-5:]) \n",
    "\n",
    "t1 = time.time()                          # end time\n",
    "\n",
    "print(f\"Execution time = {t1-t0:.2f} sec.\")"
   ]
  },
  {
   "cell_type": "markdown",
   "metadata": {},
   "source": [
    "This is better, but still not great: it takes nearly fifty times as long per computed value as the non-parallelized approach.  Presumably, it works better on much larger data sets, like those for which `pandas` often is employed, where the overhead is a much tinier fraction of the total workload involved."
   ]
  },
  {
   "cell_type": "markdown",
   "metadata": {},
   "source": [
    "One more option is to use **`dask bag`**, which can parallelize simple computations.  The code below shows how to use it."
   ]
  },
  {
   "cell_type": "code",
   "execution_count": 5,
   "metadata": {},
   "outputs": [
    {
     "name": "stdout",
     "output_type": "stream",
     "text": [
      "First five and last five results: [25, 25, 64, 64, 49] ... [9, 4, 9, 81, 36]\n",
      "Execution time = 0.67 sec.\n"
     ]
    }
   ],
   "source": [
    "import dask.bag as db\n",
    "\n",
    "t0 = time.time()                          # start time\n",
    "\n",
    "b = db.from_sequence(range(10000), npartitions=15)    # specify iterables and how to group them\n",
    "\n",
    "results = b.map(random_square).compute()\n",
    "\n",
    "print(\"First five and last five results:\", results[0:5], \"...\", results[-5:]) \n",
    "\n",
    "t1 = time.time()                          # end time\n",
    "\n",
    "print(f\"Execution time = {t1-t0:.2f} sec.\")"
   ]
  },
  {
   "cell_type": "markdown",
   "metadata": {},
   "source": [
    "Here, the line `b = db.from_sequence(range(N), npartitions=15)` specifies that the set of iterables to feed to our function is `range(N)`, but those values are to be grouped into 15 sets (to match the number of workers; this doesn't have to be the case).\n",
    "\n",
    "This approach is faster than either of the other two `dask` approaches, but still slower per value (by a factor of roughly 10) than the non-parallelized approach."
   ]
  },
  {
   "cell_type": "markdown",
   "metadata": {},
   "source": [
    "### <font color=\"blue\">15.5.2 Checking if a Number is Prime</font>\n",
    "\n",
    "Here's code to use `dask` to check our prime number (note that it uses `is_primePT` rather than `is_primeP`, so that we can feed it entire tuples at once):"
   ]
  },
  {
   "cell_type": "code",
   "execution_count": 11,
   "metadata": {},
   "outputs": [
    {
     "name": "stdout",
     "output_type": "stream",
     "text": [
      "Number is prime.\n",
      "Execution time = 5.40 sec.\n"
     ]
    }
   ],
   "source": [
    "import dask.bag as db\n",
    "import multiprocess as mp\n",
    "\n",
    "t0 = time.time()                                                      # start time\n",
    "\n",
    "num = 489133282872437279                                              # number to check for primeness\n",
    "\n",
    "num_cores = mp.cpu_count()\n",
    "\n",
    "limits = subint_limits(num, num_cores)\n",
    "\n",
    "b = db.from_sequence(limits, npartitions=num_cores)   # specify iterables and how to group them\n",
    "\n",
    "results = b.map(is_primePT).compute()\n",
    "\n",
    "# Check results: if all subintervals report True, then \"num\" is prime; otherwise, it's not\n",
    "if all(results):\n",
    "    print(\"Number is prime.\")\n",
    "else:\n",
    "    print(\"Number is not prime.\")\n",
    "    \n",
    "t1 = time.time()\n",
    "\n",
    "print(f\"Execution time = {t1-t0:.2f} sec.\")"
   ]
  },
  {
   "cell_type": "markdown",
   "metadata": {},
   "source": [
    "This is a little slower than the non-parallelized approaches."
   ]
  },
  {
   "cell_type": "markdown",
   "metadata": {},
   "source": [
    "To finish up, we have to close the cluster we created:"
   ]
  },
  {
   "cell_type": "code",
   "execution_count": 12,
   "metadata": {},
   "outputs": [],
   "source": [
    "client.close()"
   ]
  },
  {
   "cell_type": "markdown",
   "metadata": {},
   "source": [
    "  "
   ]
  },
  {
   "cell_type": "markdown",
   "metadata": {},
   "source": [
    "### Summary of Results ###\n",
    "\n",
    "The following table summarizes the times taken on the author's computer to solve the tasks of random number squaring and checking if a number is prime using the packages introduced above.  For random number squaring, the values are seconds per $10^6$ values squared; for checking primeness, the values are seconds.  (Times are for specific runs.  Run times for a given task can vary somewhat.)"
   ]
  },
  {
   "cell_type": "markdown",
   "metadata": {},
   "source": [
    "|       Package      | Number Squaring | Checking Primeness | \n",
    "|:-------------------|:---------------:|:------------------:|\n",
    "|  non-parallelized  |       5.4       |         28         |\n",
    "|   `multiprocess`   |       2.4       |         4.1        |\n",
    "|`concurrent.futures`|     312/43*     |         5.6**      |\n",
    "|      `joblib`      |       5.9       |         3.7        |\n",
    "|   `ipyparallel`    |       1.3       |         1.8        |\n",
    "|       `dask`       |       67        |         5.4        |\n",
    "\n",
    "    \n",
    "<center><font size=2>*Using ProcessPoolExecutor/ThreadPoolExecutor</font></center> \n",
    "<center><font size=2>**Run in Spyder</font></center> \n"
   ]
  },
  {
   "cell_type": "markdown",
   "metadata": {},
   "source": [
    "Based on this limited set of tests, it seems that `ipyparallel` gives the greatest speed-up of computations.  Of course, that conclusion might not hold for other tasks, but it would make sense to try `ipyparallel` before trying the other packages."
   ]
  },
  {
   "cell_type": "markdown",
   "metadata": {},
   "source": [
    "  "
   ]
  },
  {
   "cell_type": "markdown",
   "metadata": {},
   "source": [
    "## <font color=\"blue\">15.6 `cuda`</font>\n",
    "\n",
    "**`cuda`** is a package used to implement multiprocessing on GPUs.  However, only certain GPUs are compatible with it.  If you have a standard personal computer with an \"integrated\" graphics processor (rather than a \"dedicated\" one), most likely it cannot run `cuda`.  A gaming-focused computer might be able to run it, though.\n",
    "\n",
    "As noted in Module 0, Python is an interpreted rather than compiled computing language.  In practice, that means that Python code generally isn't as fast as code written in compiled languages like C.  **`numba`** is a ***compiler*** for Python that essentially makes it work like a compiled language.\n",
    "\n",
    "Using CUDA together with with NUMBA, Python programmers can create code to run efficiently on GPUs.  These packages will not be discussed in this module, but further information can be found here https://developer.nvidia.com/how-to-cuda-python, and notebooks containing simple examples are available here: https://github.com/ContinuumIO/gtc2017-numba. "
   ]
  },
  {
   "cell_type": "markdown",
   "metadata": {},
   "source": [
    "   "
   ]
  },
  {
   "cell_type": "markdown",
   "metadata": {},
   "source": [
    "### <font color=\"blue\">Recap</font>\n",
    "\n",
    "* A multithreading approach will work better for code that is I/O-bound, while multiprocessing will work better for CPU-bound tasks.  Scientific modeling is very likely to fall into the latter category (except possibly when reading from or writing to a large data file).  \n",
    "<br>\n",
    "\n",
    "* Code written in a non-parallelized approach very likely would need to be modified to work in a parallelized approach.  \n",
    "<br>\n",
    "\n",
    "* There are many approaches to, and packages for, parallelization in Python, only some of which have been presented here.  Of those, `joblib` seems to be the easiest to use, but the `ipyparallel` package produced the fastest performance for multi*processing*, at least for the two example applications used here across all the packages.  However, that conclusion might not hold for other applications, which is why it's good to know about the other packages.  For multi*threading*, the functions provided in the `concurrent.futures` package gave very good results, but the multi*processing* functions in that package led to problems in the notebook.  \n",
    "<br>\n",
    "\n",
    "* All of the packages introduced above have significantly more capabilities than have been presented in this module.  For example, in addition to `map` or `pool` functions that automatically distribute tasks among cores, at least some of the packages allow the user to send specific tasks to specific processors.  Read their documentation for more details.  \n",
    "<br>\n",
    "\n",
    "* This module has not discussed message passing or queues at any length, but those are necessary in some applications in order to share data between processes.  MPI is the parallelization approach to use when the number of cores involved exceeds roughly 1000.  "
   ]
  },
  {
   "cell_type": "markdown",
   "metadata": {},
   "source": [
    "   "
   ]
  },
  {
   "cell_type": "markdown",
   "metadata": {},
   "source": [
    "### <font color=\"blue\">Reflection Prompts</font>\n",
    "\n",
    "These questions are intended to help you think about what you learned from this module and how it might be useful to you in the future. You are strongly encouraged to answer them before moving on to the next module.  \n",
    "\n",
    "- Which components of this module did you find you were easily able to work through, and why do you think they were especially easy for you?\n",
    "\n",
    "- Which components of this module did you find more difficult to work through, and why do you think they were challenging?\n",
    "\n",
    "- When you got stuck, what did you do to get unstuck? Could this or similar actions be helpful if you get stuck in future work?\n",
    "\n",
    "- What do you understand more deeply about this material?\n",
    "\n",
    "- What questions or uncertainties remain for you regarding this material?"
   ]
  },
  {
   "cell_type": "markdown",
   "metadata": {},
   "source": [
    "  "
   ]
  },
  {
   "cell_type": "markdown",
   "metadata": {},
   "source": [
    "### <font color=\"blue\">Exercises</font>"
   ]
  },
  {
   "cell_type": "markdown",
   "metadata": {},
   "source": [
    "<u>**Exercise #1**</u>  \n",
    "In Module 3, Mastery Exercise #3 asked you to simulate the elastic bouncing of a ball inside a square 2-D box in the absence of gravity and drag.  In this Exercise, we'll model a collisionless, thermal gas in a square 2-D box by modeling the motion of a large number of (identical) particles (which could be atoms or molecules).  Since the gas is collisionless, the particles do not interact with each other and their positions evolve independently; as a result, their trajectories can be computed using a parallelized approach.\n",
    "\n",
    "**(a)** Write a Python function to model such a gas (without gravity) of $N$ particles.  (Make sure to deal with the elastic collisions at the walls, and let the dimensions of the box be a variable that can be changed, but set it to 1 by default.)  Assume the particles' initial positions inside the box are random, as are the directions of their velocities, and that their speeds are governed by the 2-D Maxwell-Boltzmann (M-B) distribution, such that the probability (density) of a particle having speed in the range $v \\rightarrow v + dv$ is given by\n",
    "\n",
    "$$P(v) = \\left( \\frac{m}{kT} \\right) v \\, e^{-mv^2/2kT},$$\n",
    "\n",
    "where $m$ is the mass of each particle, $k = 1.381 \\times 10^{-23} \\, \\textrm{J/K}$ is Boltzmann's constant, and $T$ is the temperature in Kelvin.  $m$, $T$ should be adjustable parameters in your function (but they need not be arguments).  \n",
    "\n",
    "**Notes:** \n",
    "- The M-B distribution is available in the `scipy.stats` package as a special case of the `chi` distribution, where the parameter `2` must be provided.  That is, you can get the M-B probability distribution with a function call of the form `out = chi.rsv(2, size=N)`, where `N` is the number of output values you want the function to return.  (The function call `rayleigh(size=N)` will do the same thing.)  Each return value will be drawn from the M-B distribution such that the higher the value of the M-B function for a given `x`, the more likely it is that values near `x` will be returned.  (As a quick \"warm-up project,\" plot a histogram of this distribution.  Do that for a large number of points, 100000 or more, and maybe 50 histogram bins, so that you get a good representation of the distribution.  Compare it with a plot of the M-B distribution, which you can find on Wikipedia, for example.)  Keep in mind that `chi` reproduces the simple distribution function $f(x) = x^2 e^{-x^2/2}$, which is not quite what we need, so you have to relate $v$ in $P(v)$ to $x$ in $f(x)$ and use their relation to scale the output of `chi` to give speeds that depend properly on $m$, $k$, and $T$.  \n",
    "<br>\n",
    "\n",
    "- For atom/molecule-size particles, the speeds will be on the order of a few hundred meters per second, so you will want to use an appropriately small time step.\n",
    "\n",
    "Record the position of each particle for a time period that's a couple orders of magnitude larger than your timestep, with $T = 300$ K and $m$ the mass of a nitrogen molecule (N$_2$).  \n",
    "\n",
    "**(b)** Parallelize your code, compute the trajectories of 100 particles throughout the full time span (confirming via your computer's Resource or Activity Monitor that nultiple cores are running), and plot all the trajectories inside the box.  "
   ]
  },
  {
   "cell_type": "markdown",
   "metadata": {},
   "source": [
    "  "
   ]
  },
  {
   "cell_type": "markdown",
   "metadata": {},
   "source": [
    "   "
   ]
  },
  {
   "cell_type": "markdown",
   "metadata": {},
   "source": [
    "<font size=\"3pt\">**Breakpoint Answers**</font>\n",
    "\n",
    "**Breakpoint 1**  \n",
    "The non-parallelized code should find the prime factor faster, since the parallelized code has to do extra computations (to create the iterable) and also has to distribute the subintervals to the worker processes and wait for all the results to come back."
   ]
  },
  {
   "cell_type": "markdown",
   "metadata": {},
   "source": [
    "   "
   ]
  }
 ],
 "metadata": {
  "kernelspec": {
   "display_name": "Python 3",
   "language": "python",
   "name": "python3"
  },
  "language_info": {
   "codemirror_mode": {
    "name": "ipython",
    "version": 3
   },
   "file_extension": ".py",
   "mimetype": "text/x-python",
   "name": "python",
   "nbconvert_exporter": "python",
   "pygments_lexer": "ipython3",
   "version": "3.6.2"
  }
 },
 "nbformat": 4,
 "nbformat_minor": 4
}
