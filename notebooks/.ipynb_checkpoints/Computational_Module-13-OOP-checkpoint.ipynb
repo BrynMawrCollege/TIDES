{
 "cells": [
  {
   "cell_type": "markdown",
   "metadata": {},
   "source": [
    "# <font face=\"times\"><p style = 'text-align: center;'> BRYN MAWR COLLEGE\n",
    "# <font face=\"times\"><p style = 'text-align: center;'> Computational Methods in the Physical Sciences \n",
    "# <font face=\"times\"><p style = 'text-align: center;'> Module 13: A Brief Introduction to Object-Oriented Programming </p>"
   ]
  },
  {
   "cell_type": "markdown",
   "metadata": {},
   "source": [
    "***Prerequisite modules***: Module 0 \n",
    "\n",
    "***Estimated completion time***: 1-2 hours\n",
    "\n",
    "***Learning objectives***: Become familiar with the basic ideas underlying object-oriented programming, as applied to a simple physics example."
   ]
  },
  {
   "cell_type": "markdown",
   "metadata": {},
   "source": [
    "\n"
   ]
  },
  {
   "cell_type": "markdown",
   "metadata": {},
   "source": [
    "<img src = \"./Images/OOP_world.png\" width=500>"
   ]
  },
  {
   "cell_type": "markdown",
   "metadata": {},
   "source": [
    "<center>(Image credit: Manu Cornet at http://www.bonkersworld.net/object-world/) </center>"
   ]
  },
  {
   "cell_type": "markdown",
   "metadata": {},
   "source": [
    "   "
   ]
  },
  {
   "cell_type": "markdown",
   "metadata": {},
   "source": [
    "Object-oriented programming is a philosophy and methodology for creating code in modular form, so that it can easily be adapted for different uses.  It is in extremely widespread use in corporate/industrial applications."
   ]
  },
  {
   "cell_type": "markdown",
   "metadata": {},
   "source": [
    "  "
   ]
  },
  {
   "cell_type": "markdown",
   "metadata": {},
   "source": [
    "### <font color=\"blue\">Scientist Profile</font>\n",
    "\n",
    "Iranian-born **Anousheh Ansari**, a computer scientist and tech entrepreneur, was the first Muslim woman to fly in space, in 2006.  In 1984, at age 16, and knowing almost no English, she and her family moved to the United States. She graduated with a bachelor’s degree in electronics and computer engineering from George Mason University, and then earned a master’s degree in electrical engineering at George Washington University.  She and her husband Hamid Ansari founded Telecom Technologies, Inc. in 1993, and it merged with Sonus Technologies, Inc. in 2000  The company successfully merged with Sonus Networks, Inc., in 2000, in a deal worth around \\$750 million.  To support the commercial exploration of space, she and her husband sponsored the Ansari X Prize for Suborbital Spaceflight -- a \\$10 million prize awarded to SpaceShipOne in 2004.  Anousheh continues to serve on the Board of Trustees of the X Prize Foundation, along with Elon Musk, James Cameron, Larry Page, and others.  In 2006, she paid an undisclosed sum to become the first female private space explorer.  She trained for six months in Russia and flew in a Soyuz spacecraft to the International Space Station, where she spent ten days.  In that same year, she co-founded Prodea Systems, which is developing a platform for interconnectivity of devices on the \"Internet of things.\"  (Profile adapted from http://anoushehansari.com/about/, http://tribune.com.pk/story/1040188/meet-the-worlds-first-muslim-woman-in-space/ and http://www.cnn.com/2006/TECH/space/09/18/space.female.tourist/index.html.)   "
   ]
  },
  {
   "cell_type": "markdown",
   "metadata": {},
   "source": [
    "   "
   ]
  },
  {
   "cell_type": "markdown",
   "metadata": {},
   "source": [
    "<img src ='./Images/Anousheh_Ansari.jpg', width=300>"
   ]
  },
  {
   "cell_type": "markdown",
   "metadata": {},
   "source": [
    "<center>(Image credit: http://tribune.com.pk/story/1040188/meet-the-worlds-first-muslim-woman-in-space/)<center>"
   ]
  },
  {
   "cell_type": "markdown",
   "metadata": {},
   "source": [
    "   "
   ]
  },
  {
   "cell_type": "markdown",
   "metadata": {},
   "source": [
    "### <font color=\"blue\"> 13.1. Why Use Object-Oriented Programming?"
   ]
  },
  {
   "cell_type": "markdown",
   "metadata": {},
   "source": [
    "In the type of programming we've done so far, the focus has been on giving the computer a recipe (i.e., algorithm) that tells it exactly what to do to perform the tasks of interest.  This type of approach is known as ***imperative programming***.   \n",
    "\n",
    "In ***object-oriented programming*** (OOP), the focus is on creating *objects* which, in general, contain both data and functionality.  While OOP is not yet widely used in the scientific community in an explicit form, it has become the backbone of programming in industrial/commercial contexts, since it provides a way of writing reusable code and of easily extending the scale of the systems modeled, analyzed, or operated by such code.  This module will explore only the most basic elements of OOP.  Understanding and being able to make full use of its power would require a course in itself.  [1], [2]"
   ]
  },
  {
   "cell_type": "markdown",
   "metadata": {},
   "source": [
    "\n"
   ]
  },
  {
   "cell_type": "markdown",
   "metadata": {},
   "source": [
    "### <font color=\"blue\"> 13.2 The Idea Behind OOP"
   ]
  },
  {
   "cell_type": "markdown",
   "metadata": {},
   "source": [
    "Imagine writing code to run an automobile manufacturing facility that produces different vehicles.  Maybe some are hatchbacks, some are sedans, some are SUVs; some come with cloth seats, some with leather seats; some come with simple audio systems, some with fancy ones; and so on.  Despite their differences, though, all of the vehicles share many features and behaviors -- they all can move around, their doors open, their turn signals flash, etc. -- and they can be though of as belonging to a single category of things; namely, four-wheeled passenger vehicles.  Thus, it may be efficient to model them in code as individual examples of that broader category, all of whose members share certain general features and behaviors (but perhaps with different variants).  This idea, of modeling such related things as examples of a single thing, is at the heart of OOP."
   ]
  },
  {
   "cell_type": "markdown",
   "metadata": {},
   "source": [
    "In OOP, a ***class*** is like the vehicle category discussed above.  A class basically defines the properties and behaviors of ***objects*** that get created as ***instances*** of the class.  In the example above, an instance of the vehicle class might be a particular model; e.g., a hatchback with a particular engine, transmission, etc.  An object essentially is a code unit that can contain both data (also known as ***attributes***, which collectively specify the ***state*** of the object; e.g., the color of the car, in the vehicle example) and functions (known as ***methods***; e.g., the ability to brake).  Another important aspect of OOP is ***inheritance***, the notion that subclasses of classes can be defined, and those subclasses can share features of the class.  For example, within our class of four-wheel vehicles we might define subclasses such as SUVs, sedans, coupes, minivans, etc., and each of those could ''inherit'' properties from the vehicle class, such as having an engine, turn signals, the ability to move, etc.  This terminology is somewhat vague, so let's consider a concrete example of physical interest."
   ]
  },
  {
   "cell_type": "markdown",
   "metadata": {},
   "source": [
    "\n"
   ]
  },
  {
   "cell_type": "markdown",
   "metadata": {},
   "source": [
    "### <font color=\"blue\">13.3  A Simple Example"
   ]
  },
  {
   "cell_type": "markdown",
   "metadata": {},
   "source": [
    "Let's start by creating a class to represent the kind of object that often comes up in physics problems -- a ball.  To keep things simple we'll assume that it lives along a one-dimensional line.  In that case, the state of a ball might include just its mass, position, and velocity, so let's create a class with those state variables:"
   ]
  },
  {
   "cell_type": "code",
   "execution_count": 1,
   "metadata": {
    "collapsed": true
   },
   "outputs": [],
   "source": [
    "class SimpleBall():\n",
    "    def __init__ (self, x, v, m):\n",
    "        self.x = x      # position\n",
    "        self.v = v      # velocity\n",
    "        self.m = m      # mass"
   ]
  },
  {
   "cell_type": "markdown",
   "metadata": {},
   "source": [
    "Note the convention of starting the class name `SimpleBall` with a capital letter.  Here, the `def __init__` line (known as a ***constructor***) defines the objects in the `SimpleBall` class as having several attributes: first, it has a `self` (occasionally the keyword `this` is used instead); the other attributes are `self.x` for the position, `self.v` for the velocity, and `self.m` for the mass.  Those parameters get values when the code creates an ***instance*** of a ball and passes in the values as arguments; e.g.,"
   ]
  },
  {
   "cell_type": "code",
   "execution_count": 2,
   "metadata": {
    "collapsed": true
   },
   "outputs": [],
   "source": [
    "b = SimpleBall(1.0, 0.0, 2.0)"
   ]
  },
  {
   "cell_type": "markdown",
   "metadata": {},
   "source": [
    "This line uses the `SimpleBall` constructor to create a ball, creatively named `b`, with a mass of `2.0`, an x position of `0.0`, and a velocity of `1.0`.  Notice that we don't pass an argument corresponding to `self` -- it's not given a value like the other arguments are."
   ]
  },
  {
   "cell_type": "markdown",
   "metadata": {},
   "source": [
    "Now, it would be interesting to be able to do something with a created ball, and for that we would add a ***method*** to the class definition above; say, to tell us the position of a ball.  For that, we could modify the definition of `SimpleBall` like this: "
   ]
  },
  {
   "cell_type": "code",
   "execution_count": 3,
   "metadata": {
    "collapsed": true
   },
   "outputs": [],
   "source": [
    "class SimpleBall():\n",
    "    def __init__ (self, x, v, m):\n",
    "        self.x = x      # position\n",
    "        self.v = v      # velocity\n",
    "        self.m = m      # mass\n",
    "        \n",
    "    def getX(self):\n",
    "        return self.x"
   ]
  },
  {
   "cell_type": "markdown",
   "metadata": {},
   "source": [
    "Notice that the method `getX` lives *inside* the class definition (it's indented to match the constructor line), and that it also requires `self` as an argument.  Also note that it's conventional to name methods starting with lower-case letters.\n",
    "\n",
    "Let's test out this method:"
   ]
  },
  {
   "cell_type": "code",
   "execution_count": 4,
   "metadata": {
    "collapsed": true
   },
   "outputs": [],
   "source": [
    "b = SimpleBall(1.0, 0.0, 2.0)"
   ]
  },
  {
   "cell_type": "code",
   "execution_count": 5,
   "metadata": {},
   "outputs": [
    {
     "name": "stdout",
     "output_type": "stream",
     "text": [
      "1.0\n"
     ]
    }
   ],
   "source": [
    "print(b.getX())"
   ]
  },
  {
   "cell_type": "markdown",
   "metadata": {},
   "source": [
    "Note that the way to call a method of an object is to follow the object's name with a dot and then the method name; i.e., using the syntax `[object name].method`.  This may look familiar: that's because Python is inherently an object-oriented language, so we have been using OOP throughout this course!  For example, adding an element \"`x`\" to a list using the syntax `list.append(x)` is calling the `append` method defined as part of the `list` class.  (The `getX` method is called with empty parentheses, since it takes no arguments.) \n",
    "\n",
    "In reality, we don't actually need to create a method to extract the position of `b` -- we can just get it like this:"
   ]
  },
  {
   "cell_type": "code",
   "execution_count": 6,
   "metadata": {},
   "outputs": [
    {
     "data": {
      "text/plain": [
       "1.0"
      ]
     },
     "execution_count": 6,
     "metadata": {},
     "output_type": "execute_result"
    }
   ],
   "source": [
    "b.x"
   ]
  },
  {
   "cell_type": "markdown",
   "metadata": {},
   "source": [
    "But we could use a method to compute something more interesting, as in the following **Breakpoint**."
   ]
  },
  {
   "cell_type": "markdown",
   "metadata": {},
   "source": [
    "<font color=\"green\">Breakpoint 1</font>: Suppose you wanted to add a method to the `SimpleBall` class to output the kinetic energy of a ball.  In the code cell immediately below, show how you would define that method, and test it in the second code cell below (using non-zero values for the velocity and mass)."
   ]
  },
  {
   "cell_type": "code",
   "execution_count": null,
   "metadata": {
    "collapsed": true
   },
   "outputs": [],
   "source": []
  },
  {
   "cell_type": "code",
   "execution_count": null,
   "metadata": {
    "collapsed": true
   },
   "outputs": [],
   "source": []
  },
  {
   "cell_type": "markdown",
   "metadata": {},
   "source": [
    "\n"
   ]
  },
  {
   "cell_type": "markdown",
   "metadata": {},
   "source": [
    "### <font color=\"blue\">13.4 A More Sophisticated Example"
   ]
  },
  {
   "cell_type": "markdown",
   "metadata": {},
   "source": [
    "#### 13.4.1 Two Balls Connected by One Spring"
   ]
  },
  {
   "cell_type": "markdown",
   "metadata": {},
   "source": [
    "Now let's see how to model a system of balls connected by springs.  The balls may be connected in a 1-D, linear arrangement; in a 2-D, planar arrangement; or even in a 3-D arrangement.  They might be regularly spaced or irregularly positioned.  Ultimately, it won't matter much from the OOP coding perspective.  Here, for simplicity, we'll consider just two balls in a 1-D arrangement; extension to 2-D or 3-D scenarios is not too complicated.  \n",
    "\n",
    "To make our model, we will want two classes: balls and springs.  We already have a class definition for balls, but we're going to want to add some state variables to deal with the fact that the balls will interact with each other via the springs.  We're also going to want to make the balls move, so a method for that also is shown below; don't worry about the details for now."
   ]
  },
  {
   "cell_type": "code",
   "execution_count": 7,
   "metadata": {
    "collapsed": true
   },
   "outputs": [],
   "source": [
    "class Ball():\n",
    "    def __init__ (self, x, v, m):\n",
    "        self.x = x             # position\n",
    "        self.v = v             # velocity\n",
    "        self.m = m             # mass\n",
    "        self.springs = []      # list of connected springs \n",
    "        self.otherballs = []   # list of balls connected to this one by springs\n",
    "    \n",
    "    def move(self, dt): \n",
    "        length = dist(self, self.otherballs[0])            # stretched length of spring\n",
    "        direction = fsign(self.x, self.otherballs[0].x)    # unit vector from other ball to \"self\"\n",
    "        a = -direction * self.springs[0].K * (length - self.springs[0].L0) / self.m\n",
    "        self.v = self.v + a * dt\n",
    "        self.x = self.x + self.v * dt"
   ]
  },
  {
   "cell_type": "markdown",
   "metadata": {},
   "source": [
    "In addition to the mass, position, and speed properties that the `SimpleBall` had, the other properties we will need to describe a ball are the set of springs to which it's attached (the initially-empty list `self.springs`) and the other balls it's connected to (the initially-empty list `self.otherballs`).  \n",
    "\n",
    "The arguments in the `def` line other than `self` -- that is, `x`, `v`, and `m` -- can be given default values if that is desirable; however, if any of them is given a default value, then all of the subsequent ones must also be given a default; e.g., we could write `def __init__ (self, x, v=0.0, m=1.0)` so that each ball would have a default initial speed of 0.0 and  a default mass of 1.0.  (We probably don't want a default position, since all of the balls would be created in that one spot.  That's why `x` was placed first in the list of attributes.)  These default values can be overridden when we actually create the balls.  Collectively, the `x`, `v`, `m`, `springs`, and `otherballs` parameters specify the state of a `Ball` object.\n",
    "\n",
    "In addition to the `def __init__` structure, the definition of the `Ball` class also contains a method that we've called `move` that gives balls their ability to move.  The details of this function will be explained later, but note that the last two lines essentially implement the Euler method used to model projectile motion in Module 3.  It is, of course, possible to define more than one method associated with a class."
   ]
  },
  {
   "cell_type": "markdown",
   "metadata": {},
   "source": [
    "The other category of object in our system is springs, and their class can be created simply with"
   ]
  },
  {
   "cell_type": "code",
   "execution_count": 8,
   "metadata": {
    "collapsed": true
   },
   "outputs": [],
   "source": [
    "class Spring():\n",
    "    def __init__ (self, L0, K):\n",
    "        self.L0 = L0   # rest length\n",
    "        self.K = K     # spring constant"
   ]
  },
  {
   "cell_type": "markdown",
   "metadata": {},
   "source": [
    "We see a similar `def __init__` constructor line listing the attributes or variables associated with (i.e., defining the state of) a spring; namely, its rest length (`self.L0`) and spring constant (`self.K`).  In our model, the springs are assumed to be massless, and they have no behaviors.  (They do stretch and exert forces, but those behaviors will be captured in other functions below.  Note that this is not necessarily the only way our masses-on-springs model could be created; perhaps another programmer *would* assign stretching and force-exerting methods to her springs.)"
   ]
  },
  {
   "cell_type": "markdown",
   "metadata": {},
   "source": [
    "It turns out that we need two more functions to make our model work.  These functions are being defined independently of the two classes.  (Later on, you will see them incorporated into a variant of the `Ball` class.)  One of them will compute the length of a spring (since the stretched or compressed length minus the rest length determines the spring force): that's the function `dist` below.  Note that it takes the names of two balls as arguments: the separation between the balls to which a spring is attached determine the spring's length.\n",
    "\n",
    "As a technicality, we also need a function that essentially gives the sign of the unit vector pointing from one ball to another: this is needed to get the proper (opposite) directions of forces on two connected balls.  That is the function `fsign`.  This function also needs to know which two balls we're interested in, so it also takes two ball names as arguments."
   ]
  },
  {
   "cell_type": "code",
   "execution_count": 9,
   "metadata": {
    "collapsed": true
   },
   "outputs": [],
   "source": [
    "def dist(ball1, ball2):\n",
    "    from math import sqrt\n",
    "    deltax = ball1.x - ball2.x\n",
    "    deltay = 0\n",
    "    return sqrt(deltax**2 + deltay**2)\n",
    "\n",
    "def fsign(ball1, ball2):\n",
    "    from numpy import sign\n",
    "    return sign(ball1 - ball2)"
   ]
  },
  {
   "cell_type": "markdown",
   "metadata": {},
   "source": [
    "Now that we've created the `Ball` and `Spring` classes, it's easy to create instances of those classes:"
   ]
  },
  {
   "cell_type": "code",
   "execution_count": 10,
   "metadata": {
    "collapsed": true
   },
   "outputs": [],
   "source": [
    "b1 = Ball(1.2, 0.0, 1.0)\n",
    "b2 = Ball(0.8, 0.0, 1.0)\n",
    "s = Spring(1., 1.)"
   ]
  },
  {
   "cell_type": "markdown",
   "metadata": {},
   "source": [
    "Here, we've created two balls -- named `b1` (at $x = 1.2$) and `b2` (at $x = 0.8$) -- and one spring named `s`.  Note that we've again provided the balls with three arguments each: these are their initial positions, initial velocities, and masses.  Similarly, our spring has been created with a rest length of `1.0` and a spring constant of `1.0` as well.  (Of course, those numbers don't have to be the same!)"
   ]
  },
  {
   "cell_type": "markdown",
   "metadata": {},
   "source": [
    "Now, we have to tell the two balls that they are attached to the spring named `s`, and that they are connected to each other.  Those tasks are performed by the following lines:"
   ]
  },
  {
   "cell_type": "code",
   "execution_count": 11,
   "metadata": {
    "collapsed": true
   },
   "outputs": [],
   "source": [
    "b1.springs.append(s)\n",
    "b2.springs.append(s)\n",
    "b1.otherballs.append(b2)\n",
    "b2.otherballs.append(b1)"
   ]
  },
  {
   "cell_type": "markdown",
   "metadata": {},
   "source": [
    "The first two lines append the spring named `s` to the attached-spring lists of the two balls, and the second two lines add each ball to the other's list of connected balls.  In our simple setup, each ball is connected to only one spring and one other ball, but a ball could have several attached springs and therefore several attached balls."
   ]
  },
  {
   "cell_type": "markdown",
   "metadata": {},
   "source": [
    "The (digital) stage now is set with balls and springs, and we merely need to tell them how to strut and fret.  The function below called `movePair`, most of which looks very similar to code we've dealt with before, does that.  It takes two ball names, a timestep, and a final time as arguments.  It defines lists to hold the changing positions of the two balls, as well as a list of time values.  Then it defines an initial time and a final time.  \n",
    "\n",
    "The rest of the action is controlled within the `while` loop, in which we call the `move` method for each of the two balls to move them.  We see that in the `while` loop, after calling the `move` method on each ball to update its position, we append the new position to the balls' respective position lists, and increment the time.  Finally, the time list, as well as the position lists of the balls, are returned."
   ]
  },
  {
   "cell_type": "code",
   "execution_count": 12,
   "metadata": {
    "collapsed": true
   },
   "outputs": [],
   "source": [
    "def movePair(b1, b2, dt, tf):\n",
    "\n",
    "    b1x = []\n",
    "    b2x = []\n",
    "    time = []\n",
    "    t = 0.\n",
    "\n",
    "    while t < tf:\n",
    "        b1.move(dt)\n",
    "        b2.move(dt)\n",
    "        b1x.append(b1.x)\n",
    "        b2x.append(b2.x)\n",
    "        time.append(t)\n",
    "        t = t + dt\n",
    "        \n",
    "    return time, b1x, b2x"
   ]
  },
  {
   "cell_type": "markdown",
   "metadata": {},
   "source": [
    "At this point, we need to understand what the `move` method is doing, so let's display it again here, for convenience:"
   ]
  },
  {
   "cell_type": "markdown",
   "metadata": {},
   "source": [
    "    def move(self): \n",
    "        length = dist(self, self.otherballs[0])             # stretched length of spring\n",
    "        direction = fsign(self.x, self.otherballs[0].x)     # unit vector from other ball to \"self\"\n",
    "        a = -direction * self.springs[0].k * (length - self.springs[0].L0) / self.m\n",
    "        self.v = self.v + a * dt\n",
    "        self.x = self.x + self.v * dt"
   ]
  },
  {
   "cell_type": "markdown",
   "metadata": {},
   "source": [
    "The first line calls on the `dist` function defined earlier to compute the distance between a given ball and another ball to which it's connected; i.e., the length of the stretched or compressed spring.  The second line calls on the `fsign` function to determine the direction of the unit vector from the connected ball to the given ball; this, together with the leading \"-\" sign, gives the direction of force on the givenball.  The third line computes the acceleration of the given ball using the equation $a = k (L - L0) / m$, where $L$ is the stretched or compressed length of the spring and $L0$ is its rest length.  (This line also includes `direction` to give the right direction of force on the given ball.)  Finally, we use the kinematic equations to evolve the ball's velocity and position.  The new positions and velocities are stored in the updated state of each ball, as new values of `self.x` and `self.v`.  (So, at any moment, each ball \"knows\" where it is and how it's moving.)"
   ]
  },
  {
   "cell_type": "markdown",
   "metadata": {},
   "source": [
    "Once we run the code in the cell with the `while` loop (after executing the previous cells), the `b1x` and `b2x` lists will have been populated with the balls' positions, the `time` list will have been populated with the evolving time, and so now we can plot the balls' motions (after re-creating the balls and springs and lists, to initialize everything properly): "
   ]
  },
  {
   "cell_type": "code",
   "execution_count": 13,
   "metadata": {
    "collapsed": true
   },
   "outputs": [],
   "source": [
    "%matplotlib inline\n",
    "from matplotlib.pyplot import plot, xlabel, ylabel"
   ]
  },
  {
   "cell_type": "code",
   "execution_count": 14,
   "metadata": {},
   "outputs": [
    {
     "data": {
      "text/plain": [
       "<matplotlib.text.Text at 0x7f957d69d1d0>"
      ]
     },
     "execution_count": 14,
     "metadata": {},
     "output_type": "execute_result"
    },
    {
     "data": {
      "image/png": "[encoded data removed]",
      "text/plain": [
       "<matplotlib.figure.Figure at 0x7f955d25f518>"
      ]
     },
     "metadata": {},
     "output_type": "display_data"
    }
   ],
   "source": [
    "b1 = Ball(1.2, 0.0, 1.0)\n",
    "b2 = Ball(0.8, 0.0, 1.0)\n",
    "s = Spring(1., 1.)\n",
    "b1.springs.append(s)\n",
    "b2.springs.append(s)\n",
    "b1.otherballs.append(b2)\n",
    "b2.otherballs.append(b1)\n",
    "\n",
    "# Use timestep of 0.01 and run time of 12\n",
    "times, b1pos, b2pos = movePair(b1, b2, 0.01, 12)\n",
    "plot(b1pos, times, 'ro')\n",
    "plot(b2pos, times, 'o')\n",
    "ylabel(\"Time\")\n",
    "xlabel(\"Position\")"
   ]
  },
  {
   "cell_type": "markdown",
   "metadata": {
    "collapsed": true
   },
   "source": [
    "(Note that time runs vertically upward here.)  This looks good: the balls move as we'd expect, oscillating back and forth about a fixed center of mass at $x = 1.0$.  They moved apart initially because they were separated by a distance of only $0.4$, but their connecting spring's rest length was specified as $1.0$, so it started off compressed and pushed the balls apart."
   ]
  },
  {
   "cell_type": "markdown",
   "metadata": {},
   "source": [
    "#### 13.4.2 A problem\n",
    "\n",
    "In the previous run, we used a time step of 0.01.  Let's see what happens with a larger time step: "
   ]
  },
  {
   "cell_type": "code",
   "execution_count": 15,
   "metadata": {},
   "outputs": [
    {
     "data": {
      "text/plain": [
       "<matplotlib.text.Text at 0x7f955d214240>"
      ]
     },
     "execution_count": 15,
     "metadata": {},
     "output_type": "execute_result"
    },
    {
     "data": {
      "image/png": "[encoded data removed]",
      "text/plain": [
       "<matplotlib.figure.Figure at 0x7f955d1f9ef0>"
      ]
     },
     "metadata": {},
     "output_type": "display_data"
    }
   ],
   "source": [
    "b1 = Ball(1.2, 0.0, 1.0)\n",
    "b2 = Ball(0.8, 0.0, 1.0)\n",
    "s = Spring(1., 1.)\n",
    "b1.springs.append(s)\n",
    "b2.springs.append(s)\n",
    "b1.otherballs.append(b2)\n",
    "b2.otherballs.append(b1)\n",
    "\n",
    "\n",
    "times, b1pos, b2pos = movePair(b1, b2, 0.1, 50)\n",
    "plot(b1pos, times, 'ro')\n",
    "plot(b2pos, times, 'o')\n",
    "ylabel(\"Time\")\n",
    "xlabel(\"Position\")"
   ]
  },
  {
   "cell_type": "markdown",
   "metadata": {},
   "source": [
    "This does not look so good!  The oscillations appear to be getting smaller, and the balls are drifting toward the right (toward `b1`).  What's going on here???\n",
    "\n"
   ]
  },
  {
   "cell_type": "markdown",
   "metadata": {},
   "source": [
    "The problem is this: in the real world, the balls would feel the forces from the other balls simultaneously and *react simultaneously* as those forces changed due to the balls' motions; in a computer, however, things happen *sequentially* (even if very quickly), not simultaneously.  So when one object's position gets updated, a second object will react to that updated position instead of to the previous position.  In other words, if we move object 1 first in response to a force from object 2, the force exerted now on object 2 by object 1 is different in magnitude from the force object 1 felt, because the separation of the objects has changed.  As a result, Newton's 3rd law is violated!  We didn't see the problem arise in the case with the small time step since the resulting difference in forces was very small.\n",
    "\n",
    "The fix for this problem is relatively simple, at least conceptually: we just compute and store the locations to which both balls should move in the next time step *before we actually move either of them*; *then* we move both of them.  To do this, we'll add a couple of parameters to the `Ball` class (`nextx` and `nextv`), add a method to compute the next positions (`nextPos`), and modify the `Move` method and correspondingly the `movePair` function:  "
   ]
  },
  {
   "cell_type": "code",
   "execution_count": 16,
   "metadata": {
    "collapsed": true
   },
   "outputs": [],
   "source": [
    "class Ball2():\n",
    "    def __init__ (self, x, v, m, nextx=0, nextv=0):\n",
    "        self.m = m\n",
    "        self.x = x\n",
    "        self.v = v\n",
    "        self.nextx = x        # to store new position\n",
    "        self.nextv = v        # to store new velocity\n",
    "        self.springs = []\n",
    "        self.otherballs = []\n",
    "    \n",
    "    def nextPos(self, dt): \n",
    "        length = dist(self,self.otherballs[0])\n",
    "        direction = fsign(self.x,self.otherballs[0].x)\n",
    "        a = -direction * self.springs[0].K * (length - self.springs[0].L0) / self.m\n",
    "        self.nextv = self.nextv + a * dt            # compute new position\n",
    "        self.nextx = self.nextx + self.nextv * dt   # compute new velocity\n",
    "       \n",
    "    def move2(self):\n",
    "        self.x = self.nextx     # update position\n",
    "        self.v = self.nextv     # update velocity"
   ]
  },
  {
   "cell_type": "markdown",
   "metadata": {},
   "source": [
    "We've created a new method, `nextPos`, which essentially does what `move` did before, except that rather than updating the *actual* position of a ball, it simply stores what the new position and velocity should be.  The new, simple method `move2` actually moves a ball to the new position and updates the velocity.\n",
    "\n",
    "We also need a modified `movePair` function:"
   ]
  },
  {
   "cell_type": "code",
   "execution_count": 17,
   "metadata": {
    "collapsed": true
   },
   "outputs": [],
   "source": [
    "def movePair2(b1, b2, dt, tf):\n",
    "\n",
    "    b1x = []\n",
    "    b2x = []\n",
    "    time = []\n",
    "    t = 0.\n",
    "\n",
    "    while t < tf:\n",
    "        b1.nextPos(dt)\n",
    "        b2.nextPos(dt)\n",
    "        b1.move2()\n",
    "        b2.move2()\n",
    "        b1x.append(b1.x)\n",
    "        b2x.append(b2.x)\n",
    "        time.append(t)\n",
    "        t = t + dt\n",
    "        \n",
    "    return time, b1x, b2x"
   ]
  },
  {
   "cell_type": "markdown",
   "metadata": {},
   "source": [
    "Notice that in `movePair2`, we call the `nextPos` method on both balls first, to find their new positions *without moving them*, *then* we move them by calling the `move2` method.\n",
    "\n",
    "Let's check out the newly modified code:"
   ]
  },
  {
   "cell_type": "code",
   "execution_count": 18,
   "metadata": {},
   "outputs": [
    {
     "data": {
      "text/plain": [
       "<matplotlib.text.Text at 0x7f955d24ef60>"
      ]
     },
     "execution_count": 18,
     "metadata": {},
     "output_type": "execute_result"
    },
    {
     "data": {
      "image/png": "[encoded data removed]",
      "text/plain": [
       "<matplotlib.figure.Figure at 0x7f955d2257b8>"
      ]
     },
     "metadata": {},
     "output_type": "display_data"
    }
   ],
   "source": [
    "b1 = Ball2(1.2, 0.0, 1.0)\n",
    "b2 = Ball2(0.8, 0.0, 1.0)\n",
    "s = Spring(1., 1.)\n",
    "b1.springs.append(s)\n",
    "b2.springs.append(s)\n",
    "b1.otherballs.append(b2)\n",
    "b2.otherballs.append(b1)\n",
    "\n",
    "\n",
    "times, b1pos, b2pos = movePair2(b1, b2, 0.1, 12)\n",
    "plot(b1pos, times, 'ro')\n",
    "plot(b2pos, times, 'o')\n",
    "ylabel(\"Time\")\n",
    "xlabel(\"Position\")"
   ]
  },
  {
   "cell_type": "markdown",
   "metadata": {},
   "source": [
    "It works!  No more loss of oscillation amplitude and no more drift!"
   ]
  },
  {
   "cell_type": "markdown",
   "metadata": {},
   "source": [
    "#### 13.4.3 Three Balls Connected by Two Springs"
   ]
  },
  {
   "cell_type": "markdown",
   "metadata": {},
   "source": [
    "To model more than two balls, the `nextPos` method will have to include a loop that would cycle through all of the balls connected to a given ball, computing and adding up the components of the forces produced by each of the other balls on the given one, in order to determine the net force from which the net acceleration could be found.  Let's see how that would look.\n",
    "\n",
    "Here, we define yet another ball class, with an expanded `nextPos` method that accounts for multiple springs and balls attached to a given ball by looping through the attached balls. "
   ]
  },
  {
   "cell_type": "code",
   "execution_count": 19,
   "metadata": {
    "collapsed": true
   },
   "outputs": [],
   "source": [
    "class Balls():\n",
    "    def __init__ (self, x, v, m, nextx=0, nextv=0):\n",
    "        self.m = m\n",
    "        self.x = x\n",
    "        self.v = v\n",
    "        self.nextx = x        # to store new position\n",
    "        self.nextv = v        # to store new velocity\n",
    "        self.springs = []\n",
    "        self.otherballs = []\n",
    "    \n",
    "    def nextPos(self, dt): \n",
    "        F = 0 \n",
    "        for i in range(len(self.otherballs)):\n",
    "            length = dist(self, self.otherballs[i])\n",
    "            direction = fsign(self.x, self.otherballs[i].x)\n",
    "            F = F - direction * self.springs[i].K * (length - self.springs[i].L0) \n",
    "        a = F / self.m\n",
    "        self.nextv = self.nextv + a * dt            # compute new position\n",
    "        self.nextx = self.nextx + self.nextv * dt   # compute new velocity\n",
    "       \n",
    "    def move(self):\n",
    "        self.x = self.nextx     # update position\n",
    "        self.v = self.nextv     # update velocity"
   ]
  },
  {
   "cell_type": "markdown",
   "metadata": {},
   "source": [
    "We also need to update the function that moves the balls, to work for any number of balls:"
   ]
  },
  {
   "cell_type": "code",
   "execution_count": 20,
   "metadata": {
    "collapsed": true
   },
   "outputs": [],
   "source": [
    "def moveAll(balls, dt, tf):\n",
    "    '''Move a set of balls (input as a list) \n",
    "    from t = 0 to t = tf using a time step of dt.'''\n",
    "    \n",
    "    from numpy import array\n",
    "    \n",
    "    num = len(balls)\n",
    "    bx = [[] for i in range(num)]   # create empty list of list of ball positions; \n",
    "                                    # each list holds the positions for one ball\n",
    "    time = []\n",
    "    t = 0.\n",
    "\n",
    "    while t < tf:\n",
    "        # Find the new positions of all of the balls\n",
    "        for i in range(num): \n",
    "            balls[i].nextPos(dt)\n",
    "            \n",
    "        # We move the balls after computing all of their positions\n",
    "        for j in range(num):\n",
    "            balls[j].move()\n",
    "            bx[j].append(balls[j].x)\n",
    "            \n",
    "        time.append(t)\n",
    "        t = t + dt\n",
    "        \n",
    "    return time, bx"
   ]
  },
  {
   "cell_type": "markdown",
   "metadata": {},
   "source": [
    "Now let's test it out with three balls.  For easy generalization to more than three balls, we can make a list of ball objects, `b`, and one of spring objects, `s`.  Ball `b[1]` will be positioned midway between balls, `b[0]` and `b[2]`.  Also, spring `s[0]` will attach to `b[0]` and `b[1]`, and spring `s[1]` will attach to `b[1]` and `b[2]`.  We can write a function to create and connect those objects: "
   ]
  },
  {
   "cell_type": "code",
   "execution_count": 54,
   "metadata": {
    "collapsed": true
   },
   "outputs": [],
   "source": [
    "def setup(nballs, nsprings):\n",
    "    '''Create lists of 'nballs' ball and 'nsprings' spring instances, \n",
    "    and connect them to each other.'''\n",
    "    \n",
    "    # Create list of ball instances\n",
    "    b = []\n",
    "    b.append(Balls(1.2, 0.0, 1.0))\n",
    "    b.append(Balls(1.0, 0.0, 1.0))\n",
    "    b.append(Balls(0.8, 0.0, 1.0))\n",
    "\n",
    "    # Create list of (identical) spring instances\n",
    "    s = []\n",
    "    for i in range(nsprings):\n",
    "        s.append(Spring(1., 1.))\n",
    "\n",
    "    # Connect springs to balls\n",
    "    for i in range(nballs):\n",
    "        for j in range(nsprings):\n",
    "            if ((j == i) or (i-j == 1)):  # balls connect only to neighboring springs\n",
    "                b[i].springs.append(s[j])\n",
    "\n",
    "    # Connect each ball to the others\n",
    "    for i in range(nballs):\n",
    "        for j in range(nballs):\n",
    "            if abs(j - i) == 1:   # ensures that each ball is connected only to nearest neighbors\n",
    "                b[i].otherballs.append(b[j])\n",
    "    \n",
    "    return b, s"
   ]
  },
  {
   "cell_type": "markdown",
   "metadata": {},
   "source": [
    "We create and connect a set of 3 balls and 2 springs, and then find their motions:"
   ]
  },
  {
   "cell_type": "code",
   "execution_count": 55,
   "metadata": {
    "collapsed": true
   },
   "outputs": [],
   "source": [
    "b, s = setup(3,2)\n",
    "times, ballpos = moveAll(b, 0.1, 12)"
   ]
  },
  {
   "cell_type": "markdown",
   "metadata": {},
   "source": [
    "*Look how simple this is*: we use one function to create and connect a set of balls and springs, and another function to model their motions!  (The `setup` function requires manual interaction internally to change the ball and spring parameters, but we could write it so that we could pass those parameters as lists of arguments.)\n",
    "\n",
    "Now plot it up!"
   ]
  },
  {
   "cell_type": "code",
   "execution_count": 56,
   "metadata": {},
   "outputs": [
    {
     "data": {
      "text/plain": [
       "<matplotlib.text.Text at 0x7f955ccc0630>"
      ]
     },
     "execution_count": 56,
     "metadata": {},
     "output_type": "execute_result"
    },
    {
     "data": {
      "image/png": "[encoded data removed]",
      "text/plain": [
       "<matplotlib.figure.Figure at 0x7f955cc7bf98>"
      ]
     },
     "metadata": {},
     "output_type": "display_data"
    }
   ],
   "source": [
    "plot(ballpos[0], times, 'go')\n",
    "plot(ballpos[1], times, 'ro')\n",
    "plot(ballpos[2], times, 'bo')\n",
    "ylabel(\"Time -->\")\n",
    "xlabel(\"Position\")"
   ]
  },
  {
   "cell_type": "markdown",
   "metadata": {},
   "source": [
    "This looks basically as we'd expect: with equal-mass balls and identical springs started with equal compressions, the central ball is stationary while the outer ones move symmetrically, in opposite directions.  \n",
    "\n",
    "Note that the period is longer than in the 2-ball example.  That's because the two outer balls essentially interact with each other through two springs connected \"in series.\"  (Since the middle ball doesn't move in this scenario, it has no effect on the others and could be removed without changing the physics.)  But the effective spring constant of two identical springs in series is *half* that of a single spring.  You can confirm this explanation by rerunning the code with the spring constants set to `2` in the `setup` function. "
   ]
  },
  {
   "cell_type": "markdown",
   "metadata": {},
   "source": [
    "#### 13.4.4 An atomic example"
   ]
  },
  {
   "cell_type": "markdown",
   "metadata": {},
   "source": [
    "We now can use this code to model an actual system: the vibrations of a $\\mathsf{CO_2}$ molecule.  The masses of the oxygen atoms are $29200$ and that of carbon is $21900,$ both in units of the electron mass, $m_e$.  The spring modeling a C-O bond would have a rest length (equilibrium bond length) of $2.2 \\, a_o$ (the Bohr radius, $a_o = 0.529 \\times 10^{-10}$ m). And, in the natural units used by physical chemists, that bond has a spring constant of $1.05$ $E_h/a_o^2$, where $E_h = \\hbar^2 / (m_e a_o^2)$ is a \"Hartree.\"  In an asymmetric oscillation mode, the initial displacements of the O atoms from the C atom might be $\\pm 2.2 \\, a_o$, with the C atom displaced by $0.2 \\, a_o$ from its rest position.  We put those values in our setup function, giving it the new name `setupCO2`:"
   ]
  },
  {
   "cell_type": "code",
   "execution_count": 24,
   "metadata": {
    "collapsed": true
   },
   "outputs": [],
   "source": [
    "def setupCO2(nballs, nsprings):\n",
    "    '''Create lists of ball and spring instances, \n",
    "    and connect them to each other, to model the \n",
    "    vibration of a (linear) CO2 molecule.'''\n",
    "    \n",
    "    # Create list of ball instances\n",
    "    b = []\n",
    "    b.append(Balls(2.2, 0.0, 29200))\n",
    "    b.append(Balls(0.2, 0.0, 21900))\n",
    "    b.append(Balls(-2.2, 0.0, 29200))\n",
    "\n",
    "    # Create list of (identical) spring instances\n",
    "    s = []\n",
    "    for i in range(nsprings):\n",
    "        s.append(Spring(2.2, 1.05))\n",
    "\n",
    "    # Connect springs to balls\n",
    "    for i in range(nballs):\n",
    "        for j in range(nsprings):\n",
    "            if ((j == i) or (i-j == 1)):  # balls connect only to neighboring springs\n",
    "                b[i].springs.append(s[j])\n",
    "\n",
    "    # Connect each ball to the others\n",
    "    for i in range(nballs):\n",
    "        for j in range(nballs):\n",
    "            if abs(j - i) == 1:   # ensures that each ball is connected only to nearest neighbors\n",
    "                b[i].otherballs.append(b[j])\n",
    "    \n",
    "    return b, s"
   ]
  },
  {
   "cell_type": "markdown",
   "metadata": {},
   "source": [
    "In these units, the period of oscillation should be around 500, so we'll plot the motion over 2000 units:"
   ]
  },
  {
   "cell_type": "code",
   "execution_count": 25,
   "metadata": {
    "collapsed": true
   },
   "outputs": [],
   "source": [
    "b, s = setupCO2(3,2)\n",
    "times, ballpos = moveAll(b, 0.1, 2000)"
   ]
  },
  {
   "cell_type": "code",
   "execution_count": 26,
   "metadata": {},
   "outputs": [
    {
     "data": {
      "text/plain": [
       "<matplotlib.text.Text at 0x7f955d049da0>"
      ]
     },
     "execution_count": 26,
     "metadata": {},
     "output_type": "execute_result"
    },
    {
     "data": {
      "image/png": "[encoded data removed]",
      "text/plain": [
       "<matplotlib.figure.Figure at 0x7f955d117be0>"
      ]
     },
     "metadata": {},
     "output_type": "display_data"
    }
   ],
   "source": [
    "plot(ballpos[0], times, 'g.')\n",
    "plot(ballpos[1], times, 'r.')\n",
    "plot(ballpos[2], times, 'b.')\n",
    "ylabel(\"Time -->\")\n",
    "xlabel(\"Position\")"
   ]
  },
  {
   "cell_type": "markdown",
   "metadata": {},
   "source": [
    "Note how the outer O atoms move together in the opposite direction of the central C atom, which moves more, in part because it's feeling the forces from *two* springs.  This is the expected behavior for this system."
   ]
  },
  {
   "cell_type": "markdown",
   "metadata": {},
   "source": [
    "#### 13.4.5 A simplification\n",
    "\n",
    "Finally, to make the code more compact and more logically structured, let's incorporate the \"helper\" functions `dist` and `fsign` as methods in the class definition for the balls (with corresponding small changes in those functions, and in how they're called in `nextPos`).  That will mean we'll have just four separate pieces to the model: the `Balls` and `Spring` class definitions to create the generic objects, the `setup` function that uses these classes to create the specific arrangement of balls and springs in the problem of interest, and the function that controls the dynamics of the system (`moveAll`).  "
   ]
  },
  {
   "cell_type": "markdown",
   "metadata": {},
   "source": [
    "Here's the revamped `Balls` class.  Note that the arguments `ball1` and `ball2` previously used in `dist` and `fsign` have been changed to `self` and `otherball`: since the two functions are now methods of the `Balls` class, they \"know\" that `self` refers to the \"current ball,\" and we merely need to specify the other ball with which the current ball is interacting.  Consequently, when we call those two methods in `nextPos` we need to pass only the name of the other ball. "
   ]
  },
  {
   "cell_type": "code",
   "execution_count": 27,
   "metadata": {
    "collapsed": true
   },
   "outputs": [],
   "source": [
    "class Balls():\n",
    "    def __init__ (self, x, v, m, nextx=0, nextv=0):\n",
    "        self.m = m\n",
    "        self.x = x\n",
    "        self.v = v\n",
    "        self.nextx = x        # to store new position\n",
    "        self.nextv = v        # to store new velocity\n",
    "        self.springs = []\n",
    "        self.otherballs = []\n",
    "    \n",
    "    def nextPos(self, dt): \n",
    "        F = 0 \n",
    "        for i in range(len(self.otherballs)):\n",
    "            length = self.dist(self.otherballs[i])        # now called as method on \"self\"\n",
    "            direction = self.fsign(self.otherballs[i])  # now called as method on \"self\"\n",
    "            F = F - direction * self.springs[i].K * (length - self.springs[i].L0) \n",
    "        a = F / self.m\n",
    "        self.nextv = self.nextv + a * dt            # compute new position\n",
    "        self.nextx = self.nextx + self.nextv * dt   # compute new velocity\n",
    "       \n",
    "    def move(self):\n",
    "        self.x = self.nextx     # update position\n",
    "        self.v = self.nextv     # update velocity\n",
    "        \n",
    "    def dist(self, otherball):   # changed generic \"ball1\" & \"ball2\" to \"self\" & \"otherball\"\n",
    "        from math import sqrt\n",
    "        deltax = self.x - otherball.x\n",
    "        deltay = 0\n",
    "        return sqrt(deltax**2 + deltay**2)\n",
    "\n",
    "    def fsign(self, otherball):  # changed generic \"ball1\" & \"ball2\" to \"self\" & \"otherball\"\n",
    "        from numpy import sign\n",
    "        return sign(self.x - otherball.x)"
   ]
  },
  {
   "cell_type": "markdown",
   "metadata": {},
   "source": [
    "The only other functions we need now are the definition of the Spring class, and the `moveAll` and `setup` functions:"
   ]
  },
  {
   "cell_type": "code",
   "execution_count": 28,
   "metadata": {
    "collapsed": true
   },
   "outputs": [],
   "source": [
    "class Spring():\n",
    "    def __init__ (self, L0, K):\n",
    "        self.L0 = L0   # rest length\n",
    "        self.K = K     # spring constant"
   ]
  },
  {
   "cell_type": "code",
   "execution_count": 29,
   "metadata": {
    "collapsed": true
   },
   "outputs": [],
   "source": [
    "def moveAll(balls, dt, tf):\n",
    "    '''Move a set of balls (input as a list) \n",
    "    from t = 0 to t = tf using a time step of dt.'''\n",
    "    \n",
    "    from numpy import array\n",
    "    \n",
    "    num = len(balls)\n",
    "    bx = [[] for i in range(num)]   # create empty list of list of ball positions; \n",
    "                                    # each list holds the positions for one ball\n",
    "    time = []\n",
    "    t = 0.\n",
    "\n",
    "    while t < tf:\n",
    "        # Find the new positions of all of the balls\n",
    "        for i in range(num): \n",
    "            balls[i].nextPos(dt)\n",
    "            \n",
    "        # We move the balls after computing all of their positions\n",
    "        for j in range(num):\n",
    "            balls[j].move()\n",
    "            bx[j].append(balls[j].x)\n",
    "            \n",
    "        time.append(t)\n",
    "        t = t + dt\n",
    "        \n",
    "    return time, bx"
   ]
  },
  {
   "cell_type": "code",
   "execution_count": 30,
   "metadata": {
    "collapsed": true
   },
   "outputs": [],
   "source": [
    "def setup(nballs, nsprings):\n",
    "    '''Create lists of ball and spring instances, \n",
    "    and connect them to each other.'''\n",
    "    \n",
    "    # Create list of ball instances\n",
    "    b = []\n",
    "    b.append(Balls(1.4, 0.0, 1.0))\n",
    "    b.append(Balls(1.0, 0.0, 1.0))\n",
    "    b.append(Balls(0.6, 0.0, 1.0))\n",
    "\n",
    "    # Create list of (identical) spring instances\n",
    "    s = []\n",
    "    for i in range(nsprings):\n",
    "        s.append(Spring(1., 1.))\n",
    "\n",
    "    # Connect springs to balls\n",
    "    for i in range(nballs):\n",
    "        for j in range(nsprings):\n",
    "            if ((j == i) or (i-j == 1)):  # balls connect only to neighboring springs\n",
    "                b[i].springs.append(s[j])\n",
    "\n",
    "    # Connect each ball to the others\n",
    "    for i in range(nballs):\n",
    "        for j in range(nballs):\n",
    "            if abs(j - i) == 1:   # ensures that each ball is connected only to nearest neighbors\n",
    "                b[i].otherballs.append(b[j])\n",
    "    \n",
    "    return b, s"
   ]
  },
  {
   "cell_type": "code",
   "execution_count": 31,
   "metadata": {},
   "outputs": [
    {
     "data": {
      "text/plain": [
       "<matplotlib.text.Text at 0x7f955d0ff400>"
      ]
     },
     "execution_count": 31,
     "metadata": {},
     "output_type": "execute_result"
    },
    {
     "data": {
      "image/png": "[encoded data removed]",
      "text/plain": [
       "<matplotlib.figure.Figure at 0x7f955d117cc0>"
      ]
     },
     "metadata": {},
     "output_type": "display_data"
    }
   ],
   "source": [
    "b, s = setup(3,2)\n",
    "times, ballpos = moveAll(b, 0.1, 12)\n",
    "\n",
    "plot(ballpos[0], times, 'g.')\n",
    "plot(ballpos[1], times, 'r.')\n",
    "plot(ballpos[2], times, 'b.')\n",
    "ylabel(\"Time -->\")\n",
    "xlabel(\"Position\")"
   ]
  },
  {
   "cell_type": "markdown",
   "metadata": {},
   "source": [
    "---"
   ]
  },
  {
   "cell_type": "markdown",
   "metadata": {},
   "source": [
    "### <font color=\"blue\"> **Recap**</font>\n",
    "\n",
    "* Object-oriented programming facilitates the reuse of code designed as stand-alone modules.  \n",
    "<br>  \n",
    "\n",
    "* Objects are defined as instances of classes.  \n",
    "<br>  \n",
    "\n",
    "* A class definition specifies the properties and behaviors of objects in the class."
   ]
  },
  {
   "cell_type": "markdown",
   "metadata": {},
   "source": [
    "  "
   ]
  },
  {
   "cell_type": "markdown",
   "metadata": {},
   "source": [
    "### <font color=\"blue\">**Reflection Prompts**</font>\n",
    "\n",
    "These questions are intended to help you think about what you learned from this module and how it might be useful to you in the future.  You are strongly encouraged to answer them before moving on to the next module.\n",
    "\n",
    "*  Which components of this module did you find you were easily able to work through, and why do you think they were especially easy for you? \n",
    "\n",
    "*  Which components of this module did you find more difficult to work through, and why do you think they were challenging?\n",
    "\n",
    "*  When you got stuck, what did you do to get unstuck?  Could this or similar actions be helpful if you get stuck in future work?\n",
    "\n",
    "*  What do you understand more deeply about this material?\n",
    "\n",
    "*  What questions or uncertainties remain for you regarding this material?"
   ]
  },
  {
   "cell_type": "markdown",
   "metadata": {},
   "source": [
    "  "
   ]
  },
  {
   "cell_type": "markdown",
   "metadata": {},
   "source": [
    "### <font color=\"blue\">Exercises</font>\n",
    "\n",
    "<u>**Exercise #1**</u>\n",
    "\n",
    "In this exercise you'll model a carbon monoxide (CO) molecule's vibrations.  As for CO2, the mass of the oxygen atom is $29200 \\, m_e$ and that of carbon is $21900 \\, m_e$.  The equilibrium bond length is a little smaller than for $\\mathsf{CO_2}$, here it's $2.14 \\, a_o$, but the spring constant is larger, $1.27 \\, E_h/a_o^2$.  Create a modified version of the `setupCO2` function to use these values to model and plot the vibrations of the C and O atoms if they're displaced $2.0 \\, a_o$ from their equilibrium positions in opposite directions.  Comment on the reasonableness of the oscillation period and the amplitudes, as compared with the plot for $\\mathsf{CO_2}$.  Determine analytically what the ratio of amplitudes should be, and compare with the numerical value.  Do the two values agree?"
   ]
  },
  {
   "cell_type": "markdown",
   "metadata": {},
   "source": [
    "---"
   ]
  },
  {
   "cell_type": "markdown",
   "metadata": {},
   "source": [
    "<font size=\"3pt\">**Breakpoint Answers**</font>\n",
    "\n",
    "**Breakpoint 1**\n",
    "\n",
    "Kinetic energy method definition (inside the `SimpleBall` class definition):\n",
    "\n",
    "```python\n",
    "class SimpleBall():\n",
    "    def __init__ (self, x, v, m):\n",
    "        self.x = x      # position\n",
    "        self.v = v      # velocity\n",
    "        self.m = m      # mass\n",
    "        \n",
    "    def ke(self):\n",
    "        return 0.5 * self.m * self.v**2\n",
    "```\n",
    "\n",
    "To test the new class definition (arguments are arbitrary):\n",
    "```python\n",
    "b = SimpleBall(0.0, 3.0, 2.0)\n",
    "b.ke()\n",
    "```"
   ]
  },
  {
   "cell_type": "markdown",
   "metadata": {},
   "source": [
    "---"
   ]
  },
  {
   "cell_type": "markdown",
   "metadata": {},
   "source": [
    "[1] Some of this module is taken from http://interactivepython.org/runestone/static/thinkcspy/ClassesBasics, a nice resource on the topic.  \n",
    "\n",
    "[2] Thanks to Dr. Steven Neshyba, University of Puget Sound, for a great deal of help creating this Module.  Thanks also to Doug Blank, Bryn Mawr College, for providing the code to do the animation."
   ]
  }
 ],
 "metadata": {
  "kernelspec": {
   "display_name": "Python 3",
   "language": "python",
   "name": "python3"
  },
  "language_info": {
   "codemirror_mode": {
    "name": "ipython",
    "version": 3
   },
   "file_extension": ".py",
   "mimetype": "text/x-python",
   "name": "python",
   "nbconvert_exporter": "python",
   "pygments_lexer": "ipython3",
   "version": "3.6.1"
  }
 },
 "nbformat": 4,
 "nbformat_minor": 1
}
