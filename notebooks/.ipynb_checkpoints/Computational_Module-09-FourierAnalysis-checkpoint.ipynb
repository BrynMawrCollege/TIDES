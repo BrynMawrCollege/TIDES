{
 "cells": [
  {
   "cell_type": "markdown",
   "metadata": {},
   "source": [
    "# <font face=\"times\"><font size=\"6pt\"><p style = 'text-align: center;'> BRYN MAWR COLLEGE\n",
    "\n",
    "<font face=\"times\"><font size=\"6pt\"><p style = 'text-align: center;'><b>Computational Methods in the Physical Sciences</b><br/><br/>\n",
    "\n",
    "<p style = 'text-align: center;'><b>Module 9:  Fourier Analysis</b><br/><br/> "
   ]
  },
  {
   "cell_type": "markdown",
   "metadata": {},
   "source": [
    "***Prerequisite modules***: Module 4 -- Numerical Integration \n",
    "\n",
    "***Estimated completion time***: 4-6 hours  \n",
    "\n",
    "***Learning objectives***: Become familiar with some discrete versions of the Fourier transform, learn of some applications of Fourier transforms, compare the efficiencies of various implementations of the Fourier transform \n"
   ]
  },
  {
   "cell_type": "markdown",
   "metadata": {},
   "source": [
    "<img src = './Images/Fourier_Transform_Cat-XKCD.jpg'  width=300>"
   ]
  },
  {
   "cell_type": "markdown",
   "metadata": {},
   "source": [
    "<center>(Image credit: xkcd.com)</center>"
   ]
  },
  {
   "cell_type": "markdown",
   "metadata": {},
   "source": [
    "   "
   ]
  },
  {
   "cell_type": "markdown",
   "metadata": {},
   "source": [
    "Fourier analysis is an essential tool for detecting patterns in and origins of signals, be they sounds, images, video, or scientific data.  As a few specific examples, it can be used to identify the overtones produced by a musical instrument, remove noise from images, reconstruct a crystal's structure from its diffraction pattern, and identify sources in sonar signals.  (See the Wikipedia page on Fourier analysis for other examples.)  This module explores some of the theory underlying this tool and describes the main numerical method to implement it, the Fast Fourier Transform, regarded as one of the most important numerical algorithms known.$^1$"
   ]
  },
  {
   "cell_type": "markdown",
   "metadata": {},
   "source": [
    "   "
   ]
  },
  {
   "cell_type": "markdown",
   "metadata": {},
   "source": [
    "### <font color=\"blue\">Scientist Profile</font>\n",
    "\n",
    "**Margaret Hamilton** is one of pioneers in the field of computer programming.  She was born in 1936 in Indiana, where she received a B.A. in mathematics from Earlham College, a Quaker college.  She subsequently moved to Boston where she intended to pursue a graduate degree in math at Brandeis University.  However, in 1960 she took an interim position at MIT developing weather prediction software for Professor Edward Lorenz, the modern discoverer of chaos theory.  She later took a job at the Draper Laboratory of MIT, where she eventually became the director of software programming for the Apollo and Skylab programs.  Hamilton was especially instrumental in developing technology for landing spacecraft on the moon in the 1960s.  Hamilton essentially designed the first-ever software that landed people on the moon, for the Apollo 11 mission.  The software prevented disaster on the trip.  Three minutes before landing, the spacecraft’s computer was overloaded because it was trying to do too many  things.  But because of the program that Hamilton had written, it was able to prioritize its actions and ignore the ones not associated with the landing.  In creating the Apollo space mission software, Hamilton contributed to many subfields of computing.  She is credited with coining the term \"software engineering,\" and she helped to develop the techniques of asynchronous software, priority scheduling, and end-to-end testing, to name a few.  Hamilton’s work paved the way for the growth and development of new ideas and new fields in computational science.  And in the process, she took people to the moon!  (Some information taken from the Wikipedia page on Margaret Hamilton.)"
   ]
  },
  {
   "cell_type": "markdown",
   "metadata": {},
   "source": [
    "<img src = './Images/Margaret_Hamilton.png'>"
   ]
  },
  {
   "cell_type": "markdown",
   "metadata": {},
   "source": [
    "   "
   ]
  },
  {
   "cell_type": "markdown",
   "metadata": {},
   "source": [
    "   "
   ]
  },
  {
   "cell_type": "markdown",
   "metadata": {},
   "source": [
    "### <font color=\"blue\">9.1  The Fourier Series</font>"
   ]
  },
  {
   "cell_type": "markdown",
   "metadata": {},
   "source": [
    "As you may know, the Fourier series (FS) is a very powerful tool for representing periodic functions (functions whose form repeats over fixed intervals), for breaking up signals into their component frequencies, and for modeling wave behavior.  (Figure 1 shows the results of combining more and more terms in the Fourier series representation of a square wave.  An animated version can be found on the Wikipedia page for the Fourier transform.)  There are different versions of the Fourier series, depending on the symmetry of the function being modeled.  If you are not familiar with the Fourier series, you should consult a text that covers the topic.$^2$"
   ]
  },
  {
   "cell_type": "markdown",
   "metadata": {},
   "source": [
    "   "
   ]
  },
  {
   "cell_type": "markdown",
   "metadata": {},
   "source": [
    "<img src = './Images/Fourier_square.jpg'>"
   ]
  },
  {
   "cell_type": "markdown",
   "metadata": {},
   "source": [
    "<center>**Figure 1**: Fourier series of a square wave</center>\n",
    "<br>\n",
    "\n",
    "<center>(Image credit: Weisstein, Eric W. \"Fourier Series.\" From MathWorld -- A Wolfram Web Resource. http://mathworld.wolfram.com/FourierSeries.html )</center>"
   ]
  },
  {
   "cell_type": "markdown",
   "metadata": {},
   "source": [
    "   "
   ]
  },
  {
   "cell_type": "markdown",
   "metadata": {},
   "source": [
    "To start, consider periodic functions defined on an interval $0 \\le x < L$.  [Note that a section of a *non*periodic function may be made into a periodic function simply by repeating copies of the section, as shown in Figure 2.  There, the parts of the original function lying outside the region of interest from $x = 0$ to $x = L$ are removed (the solid gray lines), and copies of the section within that region are repeated outside the region (dashed gray lines).  One can now use the Fourier method to model the part within the region of interest.]  The FS that would represent a periodic function $f(x)$ that's even (symmetric) about the midpoint of the interval at $x = L/2$ is  \n",
    "\n",
    "\\begin{equation}   \n",
    "f(x) = \\sum _{k=0}^{\\infty} a_k \\cos \\left( \\frac{2 \\pi k x}{L} \\right) .   \\hspace{50pt} (1)  %%\\label{CT}\n",
    "\\end{equation} \n",
    "\n",
    "For an *odd* function, antisymmetric about the midpoint of the interval, the appropriate FS is\n",
    "\n",
    "\\begin{equation}   \n",
    "f(x) = \\sum _{k=1}^{\\infty} b_k \\sin \\left( \\frac{2 \\pi k x}{L} \\right) .   \n",
    "\\end{equation} \n",
    "\t\t\t\t\t\n",
    "The $a_k$ and $b_k$ coefficients depend on the specific functions being represented.  Note that an even function is represented by cosine functions, which also would be even relative to the point $x = L/2$, while an odd function would be represented by sine functions, which are odd about the midpoint.  \n"
   ]
  },
  {
   "cell_type": "markdown",
   "metadata": {},
   "source": [
    "   "
   ]
  },
  {
   "cell_type": "markdown",
   "metadata": {},
   "source": [
    "<font color=\"green\"><b>Breakpoint 1</b></font>: Why does the sum over sine functions begin at $k = 1$, while the sum over cosine functions starts at $k = 0$?"
   ]
  },
  {
   "cell_type": "markdown",
   "metadata": {},
   "source": [
    "   "
   ]
  },
  {
   "cell_type": "markdown",
   "metadata": {},
   "source": [
    "<img src = './Images/fig7-1.png'  width=550>"
   ]
  },
  {
   "cell_type": "markdown",
   "metadata": {},
   "source": [
    "<center>**Figure 2**: Making a periodic version of a function</center>\n",
    "<br>\n",
    "\n",
    "<center>(Image credit: *Computational Physics*, by Newman)</center>"
   ]
  },
  {
   "cell_type": "markdown",
   "metadata": {},
   "source": [
    "   "
   ]
  },
  {
   "cell_type": "markdown",
   "metadata": {},
   "source": [
    "An arbitrary function with no particular symmetry would be represented by a combination of the two prior expressions:\n",
    "\n",
    "\\begin{equation}   f(x) = \\sum _{k=0}^{\\infty} a_k \\cos \\left( \\frac{2 \\pi k x}{L} \\right) + \\sum _{k=1}^{\\infty} b_k \\sin \\left( \\frac{2 \\pi k x}{L} \\right) .   \\hspace{50pt} (2)   %\\label{FT}\n",
    "\\end{equation} \n",
    "\n",
    "\n",
    "A more compact form can be obtained by remembering that cos and sin are related to the complex exponential $e^{i\\theta}$; in particular \n",
    "\n",
    "\\begin{equation}\n",
    "\\cos(\\theta) = \\tfrac{1}{2} \\left( e^{i\\theta} + e^{-i\\theta} \\right) \\hspace{0.5in} \\text{and} \\hspace{0.5in} \\sin(\\theta) = -\\tfrac{1}{2} i \\left( e^{i\\theta} - e^{-i\\theta} \\right).  \\hspace{50pt} (3)  %\\label{csexp}\n",
    "\\end{equation} \n",
    "\n",
    "Substituting these in Eq. (2) and collecting similar terms, get\n",
    "\n",
    "\\begin{equation}   \n",
    "f(x) = \\sum _{k=-\\infty}^{\\infty} c_k \\exp \\left( i \\frac{2 \\pi k x}{L} \\right) ,   \\hspace{50pt} (4)  %\\label{fexp} \n",
    "\\end{equation}  \n",
    "\n",
    "where \n",
    "\n",
    "\\begin{equation} \n",
    "  c_k = \n",
    "  \\begin{cases}\n",
    "   \\tfrac{1}{2} \\left(a_k - ib_k \\right) & \\text{if } k > 0,  \\\\\n",
    "   a_0 & \\text{if } k = 0,  \\\\\n",
    "   \\tfrac{1}{2} \\left(a_{-k} + ib_{-k} \\right) & \\text{if } k < 0. \n",
    "  \\end{cases}\n",
    "\\end{equation}\n",
    "\n",
    "Note that the sum runs over negative as well as positive values of $k$ [to account for the $\\exp(-i\\theta)$ terms that appear in Eqs. (3)].  Be aware that, in general, the $c_k$'s are *complex* numbers.  \n",
    "\n",
    "The goal here is to find the $c_k$ values, known as ***Fourier coefficients***, which depend on the function $f(x)$ being modeled, and which fully specify the Fourier expansion.  The coefficients are found using the orthogonality of the cosine and sine functions over the interval $0 \\le x < L$, by multiplying Eq. (4) by an exponential factor with a different $k$ value, $\\exp(i2\\pi k' x/L)$, and integrating over the interval:\n",
    "\n",
    "\\begin{equation}   \n",
    "\\int_0^L f(x) \\exp \\left(-i \\dfrac{2 \\pi k' x}{L} \\right) \\text{d}x = \\sum _{k'=-\\infty}^{\\infty} c_{k'} \\int_0^L \\exp \\left[ i \\frac{2 \\pi (k'-k) x}{L} \\right] \\text{d}x .   \\hspace{50pt} (5)  %\\label{orthog}\n",
    "\\end{equation} \n",
    "\n",
    "The integral on the right-hand side vanishes if $k' \\ne k$; if $k' = k$ then it yields $L$. Thus, the right-hand side picks out the particular value of $c_{k'}$ for which $k' = k$, namely $c_k$, and so we have\n",
    "\n",
    "\\begin{equation}   \n",
    "c_k = \\dfrac{1}{L}\\int_0^L f(x) \\exp \\left(-i \\dfrac{2 \\pi k x}{L} \\right) \\text{d}x   \\hspace{50pt} (6)  %\\label{coeff}.   \n",
    "\\end{equation} \n"
   ]
  },
  {
   "cell_type": "markdown",
   "metadata": {},
   "source": [
    "   "
   ]
  },
  {
   "cell_type": "markdown",
   "metadata": {},
   "source": [
    "<font color=\"green\"><b>Breakpoint 2</b></font>: By direct calculation, prove the claims made about the integral on the right-hand side of Eq. (5) when $k' \\ne k$ and when $k' = k$."
   ]
  },
  {
   "cell_type": "markdown",
   "metadata": {},
   "source": [
    "   "
   ]
  },
  {
   "cell_type": "markdown",
   "metadata": {},
   "source": [
    "A wave with a wavelength $\\lambda$ normally is written in complex form as $\\exp(-i \\, 2\\pi x/\\lambda)$, so by comparison with the expression above for $c_k$ we see that $k/L$ in that expression is playing the role of $1/\\lambda$.  Thus, larger $k$ corresponds to smaller $\\lambda$, and so $c_k$ coefficients with larger values of $k$ are associated with higher spatial frequency (smaller $\\lambda$) oscillatory terms.  Since Eq. (4) shows that $f(x)$ can be constructed as a sum of such oscillatory functions of different (spatial) frequencies, then the magnitude of $c_k$ tells us how much of its corresponding oscillatory function is incorporated in $f(x)$.  That is, functions characterized by large values of $c_k$'s with large $k$'s have significant high-frequency components.  (We could recast this entire discussion in terms of time $t$ rather than position $x$, in which case the comments about spatial frequency would apply to the traditional frequency). \n"
   ]
  },
  {
   "cell_type": "markdown",
   "metadata": {},
   "source": [
    "   "
   ]
  },
  {
   "cell_type": "markdown",
   "metadata": {},
   "source": [
    "### <font color=\"blue\">9.2  The Discrete Fourier Transform</font>"
   ]
  },
  {
   "cell_type": "markdown",
   "metadata": {},
   "source": [
    "When the integral in Eq. (6) cannot be computed analytically, it must be done numerically.  One can use one of the methods of Module 5; we will explore the trapezoidal method, with $N$ \"slices\" (i.e., trapezoids) each of width $h = L/N$.  From that earlier module, recall the following equation for the integral from $x = a$ to $x = b$ of a function $F(x)$:\n",
    "\n",
    "\\begin{equation}   \n",
    "I \\left( F;a,b \\right) = h \\left[ \\tfrac{1}{2} F(a) + \\tfrac{1}{2} F(b) + \\sum_{k=1}^{N-1} F(a + kh) \\right].   \n",
    "\\end{equation} \n",
    "\n",
    "In the present case, with $F(x) = \\dfrac{1}{L} f(x) \\exp \\left(-i \\dfrac{2 \\pi k x}{L} \\right)$, $a = 0$, and $b = L$, this gives\n",
    "\n",
    "\\begin{equation}   \n",
    "c_k = \\dfrac{1}{L} \\dfrac{L}{N}  \\left[ \\tfrac{1}{2} f(0) + \\tfrac{1}{2} f(L) + \\sum_{n=1}^{N-1} f(x_n) \\exp \\left( -i \\dfrac{2 \\pi k x_n}{L} \\right) \\right] ,   \n",
    "\\end{equation} \n",
    "\n",
    "where $x_n = n(L/N)$, with $n = 0, 1, \\dots, N$, are the $N+1$ sample points equally spaced in the interval from $0$ to $L$ that mark the  boundaries of the trapezoidal slices.  Since we assume the function $f$ is periodic, then $f(0) = f(L)$, and this expression simplifies to\n",
    "\n",
    "\\begin{equation}   \n",
    "c_k = \\dfrac{1}{N} \\sum_{n=0}^{N-1} f(x_n) \\exp \\left( -i \\dfrac{2 \\pi k x_n}{L} \\right) ,   \n",
    "\\end{equation} \n",
    "\n",
    "where the values of $f$ at the endpoints have been incorporated as a new $n = 0$ term in the sum.  \n",
    "\n",
    "In the common situation that $f(x)$ represents some kind of signal --- a sound wave, the output from a digital oscilloscope, etc. --- it's natural to define the function values at the sample points as $f(x_n) \\equiv y_n$.  Using this and the earlier definition of $x_n$, we can introduce a slight variation of $c_k$:\n",
    "\n",
    "\\begin{equation}   \n",
    "C_k \\equiv N c_k = \\sum_{n=0}^{N-1} y_n \\exp \\left( -i \\dfrac{2 \\pi k n}{N} \\right).   \\hspace{50pt} (7)  %\\label{DFT}\n",
    "\\end{equation} \n",
    "\n",
    "Note that this expression, the ***discrete Fourier transform*** (or DFT) of the samples $y_n$, no longer depends on $L$ or the specific positions of the sample points (but they must be equally spaced).\n",
    "\n",
    "Amazingly, although the trapezoidal rule gives only approximate results for integrals in general, the DFT is exact in a sense: it turns out (after some algebra) that one can show \n",
    "\n",
    "\\begin{equation}   \n",
    "y_n = \\dfrac{1}{N} \\sum_{k=0}^{N-1} C_k \\exp \\left( i \\dfrac{2 \\pi k n}{N} \\right).   \\hspace{50pt} (8)  %\\label{yvals}\n",
    "\\end{equation} \n",
    "\n",
    "This expression is the ***inverse discrete Fourier transform***, or iDFT.  It reveals that we can recover the values of the function samples $y_n$ from the $C_k$ *exactly* (apart from rounding errors).   \n",
    "\n",
    "Note that Eq. (8) is similar to the earlier Fourier series expression Eq. (4), apart from a factor of $1/N$ in front and the fact that the sum extends over only a *finite* set of values (from $k = 0$ to $N-1$).  This is a good thing, since we can't do an infinite sum on a computer!  \n",
    "\n",
    "Also notice, though, that Eq. (8) gives the values of $f(x)$ only at the sample points $x_n$, whereas Eq. (4) in principle gives the values of $f(x)$ everywhere.  The price paid for reducing the sum to a finite one is that it tells us the function values at only a finite number of positions.  This means that two different functions that happen to have the same $y_n$ values will have the *same DFT*, even though they may behave completely differently between the sample points.  This is not a problem in the common situation we encounter in the physical sciences, where we're interested in analyzing a signal consisting of a discrete set of sampled values with nothing in between.\n",
    "\n",
    "The discussion of the DFT up to this point has been valid for both real and complex functions $f(x)$.  In the usual case, in which we want to analyze a real function, the expansion can be further simplified.   It can be shown that, for real $y_n$, the $C_k$'s obey $C_{N-r} = C^*_r$, where $1 \\le r < \\tfrac{1}{2} N$.  For example, $C_{N-1} = C^*_1$, $C_{N-2} = C^*_2$, and so on.  This means that in the case of a real function, only the coefficients $C_k$ with $0 \\le k \\le \\tfrac{1}{2} N$ need to be computed directly; the other half of the coefficients are then found simply by complex conjugation.  \n",
    "\n",
    "If $N$ is even, there are $\\tfrac{1}{2} N + 1$ coefficients to be determined; if $N$ is odd, there are $\\tfrac{1}{2} (N + 1)$ of them.  The two mathematical expressions, $\\tfrac{1}{2} N + 1$ and $\\tfrac{1}{2} (N + 1)$, actually can be obtained from the single Python expression `N//2 + 1`, where the `//` operator divides one integer by another and gives an integer result,  rounding down if necessary to do so.\n"
   ]
  },
  {
   "cell_type": "markdown",
   "metadata": {},
   "source": [
    "   "
   ]
  },
  {
   "cell_type": "markdown",
   "metadata": {},
   "source": [
    "<font color=\"green\"><b>Breakpoint 3</b></font>: (a) Compute `N//2 + 1` and $\\tfrac{1}{2} (N+1)$ for $N = 7$.  Are they equal?  (b) Also compute `N//2 + 1` and $\\tfrac{1}{2} N + 1$ for $N = 8$.  Are they the same?"
   ]
  },
  {
   "cell_type": "markdown",
   "metadata": {},
   "source": [
    "   "
   ]
  },
  {
   "cell_type": "markdown",
   "metadata": {},
   "source": [
    "Figure 3 shows an example plot of the absolute value of the Fourier transform coefficients, specifically for a square wave like that shown in Figure 1.  (Only the first few coefficients are shown.)  Notice how the coefficients decrease with increasing index; i.e., $k$.  (Also notice that only coefficients with odd $k$ are nonzero, because of the asymmetry of the square wave pattern.)"
   ]
  },
  {
   "cell_type": "markdown",
   "metadata": {},
   "source": [
    "   "
   ]
  },
  {
   "cell_type": "markdown",
   "metadata": {},
   "source": [
    "<img src = './Images/SquareWave_FFT.png'>"
   ]
  },
  {
   "cell_type": "markdown",
   "metadata": {},
   "source": [
    "<center>**Figure 3**: Discrete Fourier transform of a square wave</center>\n"
   ]
  },
  {
   "cell_type": "markdown",
   "metadata": {},
   "source": [
    "   "
   ]
  },
  {
   "cell_type": "markdown",
   "metadata": {},
   "source": [
    "A program to compute the DFT coefficients of Eq. (7) for $k$ values in the range $0 \\le k \\le \\tfrac{1}{2} N$ is:"
   ]
  },
  {
   "cell_type": "code",
   "execution_count": 7,
   "metadata": {
    "collapsed": true
   },
   "outputs": [],
   "source": [
    "def dft_half(y):\n",
    "    from numpy import zeros, exp, absolute    \n",
    "\n",
    "    N = len(y)  \n",
    "    numcoeffs = N//2 + 1\n",
    "    C = zeros(numcoeffs, complex)  \n",
    "\n",
    "    for k in range(numcoeffs):       \n",
    "        for n in range(N):      \n",
    "            C[k] += y[n] * exp(-2j * pi * k * n/N)   # \"j\" = sqrt(-1) in Python\n",
    "    return absolute(C)    # returns absolute value of complex number"
   ]
  },
  {
   "cell_type": "markdown",
   "metadata": {},
   "source": [
    "Here, the input signal is represented by `y`, which should be an array.  The main part of the code consists of a double `for` loop: the inner loop over `n` performs the sum indicated in Eq. (7) to compute a particular $C_k$; the outer loop runs over `k` to do that for all of the coefficients.  Note that the code returns the absolute value of the coefficients, for easier plotting.  (The `numpy` routines return the full complex coefficients, so one would want to take the absolute values before plotting.) \n",
    "\n",
    "It's worth noting that Eq. (7) is essentially just a matrix multiplication operation: $C_k = \\sum_n M_{kn} \\, y_n$ ($\\mathbf{C} = \\mathbf{My}$ in matrix notation), where we think of $C_k$ and $y_n$ as elements of column vectors, and where matrix $\\mathbf{M}$ has the elements $M_{kn} = \\exp \\left(-i 2\\pi k n/N \\right)$.  Thus, an alternative coding of the DFT, which makes use of `numpy`'s vectorization capabilities, and which computes the coefficients for *all* of the $k$ values at once, is:"
   ]
  },
  {
   "cell_type": "code",
   "execution_count": 9,
   "metadata": {},
   "outputs": [],
   "source": [
    "def dft_vect(x):\n",
    "    from numpy import asarray, arange, reshape, exp, dot, pi, absolute\n",
    "\n",
    "    x = asarray(x, dtype=float)   # force x to be array\n",
    "    N = x.shape[0]                # length of array \"x\"\n",
    "    n = arange(N)                 # list 0,...,N-1\n",
    "    k = n.reshape((N, 1))         # make \"k\" a column-vector version of \"n\"\n",
    "    M = exp(-2j * pi * k*n / N)  # k*n computes outer product of k & n vectors\n",
    "    c = dot(M, x)\n",
    "    \n",
    "    return absolute(c)            # matrix-vector product\n"
   ]
  },
  {
   "cell_type": "markdown",
   "metadata": {},
   "source": [
    "It's not hard to show that shifting the sample points along the $x$ axis by a fixed amount simply results in multiplying the coefficients $C_k$ by a ($k$-dependent) complex phase factor of the form $e^{i\\phi}$, with $\\phi$ real.  However, since we're generally interested in the absolute value squared of the $C_k$'s, which represents the ***power spectrum*** of the data, this phase factor is irrelevant ($\\left| e^{i\\phi} \\right|^2 = e^{i\\phi} e^{-i\\phi} = 1$).  This means that the positions of the (equally-spaced) sample points do not affect the Fourier transform, so their choice is not critical.\n",
    "\n",
    "It's important to mention a fundamental limitation on the usefulness of the DFT.$^3$  This limitation stems from the common-sense observation that if the signal to be Fourier transformed varies much more rapidly than the rate at which it is sampled, then the high-frequency components of the signal will be missed.  This notion can be quantified by defining the interval between sample points to be $\\Delta$.  (The sample points used above were presented as positions in space, $x_n$, but more often they are moments in time, $t_n$, so $\\Delta$ usually represents a time interval.) In any case, there is a special frequency --- the ***Nyquist critical frequency*** (which will not be a frequency in the usual sense if the sample points are not samples in time) --- associated with that interval, and defined as\n",
    " \n",
    "\\begin{equation}\n",
    "f_c \\equiv \\dfrac{1}{2\\Delta}.\n",
    "\\end{equation}"
   ]
  },
  {
   "cell_type": "markdown",
   "metadata": {},
   "source": [
    "   "
   ]
  },
  {
   "cell_type": "markdown",
   "metadata": {},
   "source": [
    "<font color=\"green\"><b>Breakpoint 4</b></font>: In terms of the period $T$ of a sine or cosine wave, what should be the sampling interval $\\Delta$ if the Nyquist frequency is to match the wave's frequency?  If the wave is sampled at one peak, where do the other samples occur when the wave is sampled at the $\\Delta$ you found?"
   ]
  },
  {
   "cell_type": "markdown",
   "metadata": {},
   "source": [
    "  "
   ]
  },
  {
   "cell_type": "markdown",
   "metadata": {},
   "source": [
    "The importance of the Nyquist frequency is that if the Fourier transform of a *continuous* function sampled at intervals $\\Delta$ vanishes above the Nyquist frequency (i.e., if the $c_k$ associated with frequencies above $f_c$ vanish), then the function is *completely characterized* by the samples $y_n$, so one can construct a sum involving the sample points that equates *exactly* to the function.  This fact is known as the ***sampling theorem***.    \n",
    "\n",
    "This theorem is especially important for experimental physics and engineering, since signals processed by electronic equipment  almost always are ***bandwidth limited*** by the equipment to frequencies below some maximum value, call it $f_{max}$.  As long as the signal is sampled at a small enough interval $\\Delta$ such that the corresponding critical frequency obeys $f_c \\ge f_{max}$, then the samples will completely determine the signal.  \n",
    "\n",
    "There is an unfortunate consequence of the sampling theorem as well.  It implies that for a continuous function that is *not* bandwidth limited to a frequency lower than $f_c$, then the frequency components lying outside the range $-f_c < f < f_c$ are spuriously Fourier transformed into that range in a phenomenon known as ***aliasing***.  Figure 4 shows what can happen in such a situation: a high-frequency signal (solid sinusoidal wave) is sampled at a rate below its frequency, and the resulting signal appears to be of a lower frequency (dashed wave).  Unfortunately, there's not much that can be done to avoid aliasing, other than imposing a bandwidth limit on a signal and then sampling it at appropriately small intervals.\n"
   ]
  },
  {
   "cell_type": "markdown",
   "metadata": {},
   "source": [
    "   "
   ]
  },
  {
   "cell_type": "markdown",
   "metadata": {},
   "source": [
    "<img src = './Images/Aliasing_example.jpg'  width=350>"
   ]
  },
  {
   "cell_type": "markdown",
   "metadata": {},
   "source": [
    "<center>**Figure 4**: Example of aliasing</center>\n",
    "<br>\n",
    "\n",
    "<center>(Image credit: http://www.xyobalancer.com/xyo\\-balancer\\-blog/signal\\_processing\\_aliasing )</center>"
   ]
  },
  {
   "cell_type": "markdown",
   "metadata": {},
   "source": [
    "   "
   ]
  },
  {
   "cell_type": "markdown",
   "metadata": {},
   "source": [
    "### <font color=\"blue\">9.3  Two-Dimensional Fourier Transforms</font>"
   ]
  },
  {
   "cell_type": "markdown",
   "metadata": {},
   "source": [
    "While one-dimensional Fourier transforms (1dFTs) are suitable for analyzing audio and other signals dependent on a single variable (e.g., time), the analysis of images requires two-dimensional Fourier transforms (2dFTs).  These can find periodic structures and other features in images.  Fortunately, 2dFTs are just extensions of 1dFTs.\n",
    "\n",
    "Starting with an $M \\times N$ array of data values (i.e. sample points) $y_{mn}$ representing the brightness values of image pixels, one performs a 1dFT as in Eq. (7) on each of the $M$ rows of the image array, giving an array of coefficients:\n",
    "\n",
    "\\begin{equation}   \n",
    "C'_{ml} = \\sum_{n=0}^{N-1} y_{mn} \\exp \\left( -i \\dfrac{2 \\pi l n}{N} \\right) .   \n",
    "\\end{equation} \n",
    "\n",
    "For the $m^{\\text{th}}$ row, there are $N$ coefficients, one for each value of $l$.  We now transform the set of coefficients with the same value of $l$ across all $M$ rows (i.e., the $l^{\\textrm{th}}$ column) to get\n",
    "\n",
    "\\begin{equation}   \n",
    "C_{kl} = \\sum_{m=0}^{M-1} C'_{ml} \\exp \\left( -i \\dfrac{2 \\pi k m}{M} \\right).   \n",
    "\\end{equation} \n",
    "\n",
    "The previous expression for the $C'_{ml}$ can be substituted here to give\n",
    "\n",
    "\\begin{equation}   \n",
    "C_{kl} = \\sum_{m=0}^{M-1} \\sum_{n=0}^{N-1} y_{mn} \\exp \\left[ -i 2 \\pi \\left( \\dfrac{k m}{M} + \\dfrac{ln}{N} \\right) \\right].   \n",
    "\\end{equation} \n",
    "\n",
    "The inverse transform corresponding to this result is\n",
    "\n",
    "\\begin{equation}   \n",
    "y_{mn} = \\dfrac{1}{MN} \\sum_{m=0}^{M-1} \\sum_{n=0}^{N-1} C_{kl} \\exp \\left[ i 2 \\pi \\left( \\dfrac{k m}{M} + \\dfrac{ln}{N} \\right) \\right].   \n",
    "\\end{equation} "
   ]
  },
  {
   "cell_type": "markdown",
   "metadata": {},
   "source": [
    "      "
   ]
  },
  {
   "cell_type": "markdown",
   "metadata": {},
   "source": [
    "### <font color=\"blue\">9.4  The Discrete Cosine Transform</font>"
   ]
  },
  {
   "cell_type": "markdown",
   "metadata": {},
   "source": [
    "As noted in section 9.1, a one-dimensional periodic function that's symmetric about the midpoint of the interval $0 \\le x < L$ on which it's defined can be represented by the cosine transform of Eq. (1).  This symmetry condition seems restrictive, and would appear to mean that the cosine transform is not useful for general functions.  However, any function defined in a finite interval can be \"duplicated\" and extended into a larger region such that the resulting function has definite symmetry.  Figure 5 depicts a function lacking symmetry, and originally defined within the shaded region shown, which has been copied and \"flipped\" appropriately so as to end up with an extended function that's symmetric over the entire region shown in the figure.  If a cosine transform is now performed on this extended function, that transform will match the original function within the region in which it was originally defined. "
   ]
  },
  {
   "cell_type": "markdown",
   "metadata": {},
   "source": [
    "   "
   ]
  },
  {
   "cell_type": "markdown",
   "metadata": {},
   "source": [
    "<img src = './Images/fig7-5.png'  width=500>"
   ]
  },
  {
   "cell_type": "markdown",
   "metadata": {},
   "source": [
    "<center>**Figure 5**: Making a symmetric version of a function</center>\n"
   ]
  },
  {
   "cell_type": "markdown",
   "metadata": {},
   "source": [
    "   "
   ]
  },
  {
   "cell_type": "markdown",
   "metadata": {},
   "source": [
    "The ***discrete cosine transform*** (DCT) of the extended function can be obtained from Eq. (7) in the situation that the samples $y_n$ are symmetric about $\\tfrac{1}{2} L$; i.e., when $y_r = y_{N-r}$, $r = 0, 1, 2, \\dots, \\tfrac{1}{2} N$.  If Eq. (12) is separated into two sums --- one from $n = 0$ to $n = \\tfrac{1}{2} N$, and the other from $n = \\tfrac{1}{2} N + 1$ to $n = N$ --- and some algebra is performed, one obtains:\n",
    "\n",
    "\\begin{equation}   \n",
    "C_k = y_0 + y_{N/2} \\cos \\left[ \\dfrac{2\\pi k (N/2)}{N} \\right] + 2 \\sum_{n=1}^{\\tfrac{1}{2} N-1} y_n \\cos \\left( \\dfrac{2 \\pi k n}{N} \\right).   \n",
    "\\end{equation} \n",
    "\n",
    "The ***inverse discrete cosine transform*** (iDCT) is\n",
    "\n",
    "\\begin{equation}   \n",
    "y_n = \\dfrac{1}{N} \\left\\{ c_0 + c_{N/2} \\cos \\left[ \\dfrac{2\\pi n (N/2)}{N} \\right] + 2 \\sum_{k=1}^{\\tfrac{1}{2} N-1} c_k \\cos \\left( \\dfrac{2 \\pi k n}{N} \\right) \\right\\} .   \n",
    "\\end{equation} \n",
    " \n",
    "Note: in both of these expressions the equally-spaced sample points are assumed to include the endpoints of the interval ($x = 0$ and $x = L$).  Also note that the second term in each expression could be simplified, but they are left as is to show their similarity to the terms in sums.  Of course, these are referred to as cosine transforms because they involve cosine functions rather than exponentials.\n",
    "\n",
    "It's worth mentioning that a common application of Fourier transform methods is in ***data compression***, as implemented by the JPEG, MPEG and MP3 formats (among others).  These compression methods involve performing a discrete cosine transform of the data and then disregarding the terms with small coefficients, which contribute little to the overall signal.  The remaining smaller set of coefficients are stored, and the original information is recovered (approximately) by performing the inverse transform with the reduced set of coefficients.    "
   ]
  },
  {
   "cell_type": "markdown",
   "metadata": {},
   "source": [
    "  "
   ]
  },
  {
   "cell_type": "markdown",
   "metadata": {},
   "source": [
    "### <font color=\"blue\">9.5  The Fast Fourier Transform</font>"
   ]
  },
  {
   "cell_type": "markdown",
   "metadata": {},
   "source": [
    "While the first code example in section 9.2  should work fine for determining the Fourier transform of discrete data, it is not especially fast.  Note that it loops through $N$ values inside another loop over roughly $N/2$ values; thus, this computation is of order O$(N^2)$.  For computationally-intensive transforms, this approach becomes prohibitively slow, and we need another method.  The faster method of choice (discovered in one form by Gauss in 1805!) is the famous ***fast Fourier transform*** (FFT).  \n",
    "\n",
    "This method is simplest when the number of sample points is a power of 2, so assume $N = 2^m$ for integer $m$, and again consider Eq. (12).  (If $N \\ne 2^m$, one fix is to \"pad\" the data with enough zero values to satisfy that condition.)  Since the total number of terms in the sum will be even, we can split them into two groups: those with $n$ even and those with $n$ odd.  For the even terms, let $n = 2r$ with $r$ an integer in the range $0, \\dots , \\tfrac{1}{2} N - 1$.  The sum of these even terms is\n",
    "\n",
    "\\begin{equation}   \n",
    "E_k = \\sum_{r=0}^{\\tfrac{1}{2} N-1} y_{2r} \\exp \\left[ -i \\dfrac{2 \\pi k (2r)}{N} \\right] = \\sum_{r=0}^{\\tfrac{1}{2} N-1} y_{2r} \\exp \\left( -i \\dfrac{2 \\pi k r}{\\tfrac{1}{2} N} \\right) .   \n",
    "\\end{equation} \n",
    "\n",
    "Notice that this is another Fourier transform just like Eq. (7), but with $\\tfrac{1}{2} N$ rather than $N$ samples.  Similarly, the odd terms, with $n = 2r + 1$, lead to the sum\n",
    "\n",
    "\\begin{align*}   \n",
    "\\sum_{r=0}^{\\tfrac{1}{2} N-1} y_{2r+1} \\exp \\left[ -i \\dfrac{2 \\pi k (2r+1)}{N} \\right] & = e^{-i2\\pi k/N} \\sum_{r=0}^{\\tfrac{1}{2} N-1} y_{2r+1} \\exp \\left( -i \\dfrac{2 \\pi k r}{\\tfrac{1}{2} N} \\right) \\\\ \n",
    "  & \\equiv e^{-i2\\pi k/N} O_k . \n",
    "\\end{align*} \n",
    "\n",
    "Again, these sums involve only half as many sample points as the original coefficients $C_k$.  We see that each of the original $C_k$ coefficients can be written as $C_k = E_k + e^{-i2\\pi k/N} O_k$, where each of these terms requires  half as many sample points spaced twice as far apart as in the original transform, and where the exponential factor accompanying $O_k$ is known as the \"twiddle factor\" (really!)\n",
    "\n",
    "Now here's the trick: each of these new terms can, in similar fashion, be expressed in terms of two distinct sums, of even- and odd-numbered terms, each involving half of the $\\tfrac{1}{2} N$ sample points.  Since $N = 2^m$, this divide-by-two process can continue all the way down until each transform is the transform of just one sample point.  By Eq. (12), the Fourier transform of a single point has just one Fourier coefficient, $C_0$, whose value is\n",
    "\n",
    "\\begin{equation}   \n",
    "C_0 = \\sum_{n = 0}^{0} y_n \\exp \\left( -i \\dfrac{2 \\pi k n}{N} \\right) = y_0 ,  \n",
    "\\end{equation} \n",
    "\n",
    "showing that the Fourier transform of one sample point is equal to the value of that point itself.  \n",
    "\n",
    "We now have all of the elements of the FFT that we need.  In practice, the FFT actually is performed by following the reverse of the process described above: the transforms of $N$ individual points, with one coefficient each, are combined in pairs; the resulting $\\tfrac{1}{2} N$ sets of transforms, with two coefficients each, then are combined into $\\tfrac{1}{4} N$ terms with four coefficients in each, etc.  Note that at each step there are $N$ coefficients to calculate, and the process requires a total of $m$ steps, where we recall that there are $N = 2^m$ points in total.  Thus, there are $m = \\log_2 N$ steps, with $N$ coefficients computed at each step, and so the overall calculation is of order $N \\log_2 N$.  \n",
    "\n",
    "To convert a 4 MB MP3 file, which we'll assume contains $4 \\times 10^6$ data values, the original DFT approach would require $N^2 \\sim 10^{13}$ computations, while the new FFT method needs only $N \\log_2N \\sim 10^8$: the FFT could be five orders of magnitude faster than the DFT here!    \n",
    "\n",
    "There are several versions of the FFT; perhaps the best known is the ***Cooley-Tukey algorithm***, which plays some tricks with the data to achieve even greater efficiency.  Python has its own built-in FFT functions based on the Cooley-Tukey algorithm; they are found in the `numpy.fft` package and are called `fft` and `rfft`.  (Hence, they have to be imported using `from numpy.fft import fft`, for example).  The former function can work with complex data, but the latter is for purely real data.  That package also contains the inverse functions, named `ifft` and `irfft`, respectively.\n",
    "\n",
    "There's a nice discussion of the Cooley-Tukey algorithm here:  \n",
    "http://nbviewer.ipython.org/url/jakevdp.github.io/downloads/notebooks/UnderstandingTheFFT.ipynb \n",
    "\n",
    "It builds up to the algorithm through a series of increasingly more sophisticated approaches, starting with the simple matrix multiplication method noted earlier.  The full Cooley-Tukey algorithm is not enlightening to see, so we will forgo presenting it.\n",
    "\n",
    "To get a better sense of what the output of FFT routines (including the DFT), such as those in `numpy` often look like, consider the triangular wave pulse shown in Figure 6.  The FFT of the triangle function looks as shown in Figure 7.  Note that the FFT is symmetric, and that most of the values are very small: only those corresponding to small $k$, and their complex conjugate \"copies\" at large $k$, are significantly different from zero.  To show more detail, Figure 8 zooms in on the small-$k$ region.  There, we see that the coefficients for smallest $k$ are largest, and that they rapidly decrease in amplitude as $k$ increases: the first five $|C_k|$ values dominate the others.  We also can see a kind of wave pattern in the coefficients themselves, which is not atypical.  (The data here was plotted as dots, but it could be plotted with vertical lines, as in Figure 3, using `matplotlib`'s `bar` function instead of the `plot` function.)\n"
   ]
  },
  {
   "cell_type": "markdown",
   "metadata": {},
   "source": [
    "   "
   ]
  },
  {
   "cell_type": "markdown",
   "metadata": {},
   "source": [
    "<img src = './Images/Triangle_Wave.png'>"
   ]
  },
  {
   "cell_type": "markdown",
   "metadata": {},
   "source": [
    "<center>**Figure 6**: A triangular wave pulse</center>"
   ]
  },
  {
   "cell_type": "markdown",
   "metadata": {},
   "source": [
    "   "
   ]
  },
  {
   "cell_type": "markdown",
   "metadata": {},
   "source": [
    "<img src = './Images/Triangle_Wave_FFT.png'>"
   ]
  },
  {
   "cell_type": "markdown",
   "metadata": {},
   "source": [
    "<center>**Figure 7**: FFT of the triangular pulse</center>"
   ]
  },
  {
   "cell_type": "markdown",
   "metadata": {},
   "source": [
    "  "
   ]
  },
  {
   "cell_type": "markdown",
   "metadata": {},
   "source": [
    "<img src = './Images/Triangle_Wave_FFT_Partial.png'>"
   ]
  },
  {
   "cell_type": "markdown",
   "metadata": {},
   "source": [
    "<center>**Figure 8**: FFT of the pulse at small $k$</center>"
   ]
  },
  {
   "cell_type": "markdown",
   "metadata": {},
   "source": [
    "   "
   ]
  },
  {
   "cell_type": "markdown",
   "metadata": {},
   "source": [
    "Figure 9, from Wikipedia, is an animation showing the cosine & sine functions making up a square wave, and the FFT coefficients of that combination of functions.  (Both types of functions are needed to represent a function that does not have a definite symmetry.)"
   ]
  },
  {
   "cell_type": "markdown",
   "metadata": {},
   "source": [
    "<img src = './Images/Fourier_transform_anim_Wikipedia.gif'>"
   ]
  },
  {
   "cell_type": "markdown",
   "metadata": {},
   "source": [
    "<center>**Figure 9**: The sine and cosine waves making up a square wave without definite symmetry.  \n",
    "<br>\n",
    "\n",
    "<center>(Image credit: By Lucas V. Barbosa - Own work, Public Domain, https://commons.wikimedia.org/w/index.php?curid=24830373)</center>"
   ]
  },
  {
   "cell_type": "markdown",
   "metadata": {},
   "source": [
    "   "
   ]
  },
  {
   "cell_type": "markdown",
   "metadata": {},
   "source": [
    "   "
   ]
  },
  {
   "cell_type": "markdown",
   "metadata": {},
   "source": [
    "### <font color=\"blue\">**Recap**</font>\n",
    "\n",
    "* A Fourier series can be used to represent a periodic function.  The symmetry of the functions used in the series should match that of the function being approximated (if it has symmetry).  \n",
    "<br>\n",
    "\n",
    "* The discrete Fourier transform provides a way to numerically compute the coefficients of a finite series representation of a function, and can be used to model discretely sampled data.  \n",
    "<br>\n",
    "\n",
    "* The frequency at which data samples are acquired determines how accurately the underlying function can be modeled, as explained by the sampling theorem and as seen in the phenomenon of aliasing.  \n",
    "<br>\n",
    "\n",
    "* The Fast Fourier Transform is an elegant and highly efficient algorithm for finding the transform of discrete data. "
   ]
  },
  {
   "cell_type": "markdown",
   "metadata": {},
   "source": [
    "   "
   ]
  },
  {
   "cell_type": "markdown",
   "metadata": {},
   "source": [
    "### <font color=\"blue\">**Reflection Prompts**</font>\n",
    "\n",
    "These questions are intended to help you think about what you learned from this module and how it might be useful to you in the future.  You are strongly encouraged to answer them before moving on to the next module.\n",
    "\n",
    "*  Which components of this module did you find you were easily able to work through, and why do you think they were especially easy for you? \n",
    "\n",
    "*  Which components of this module did you find more difficult to work through, and why do you think they were challenging?\n",
    "\n",
    "*  When you got stuck, what did you do to get unstuck?  Could this or similar actions be helpful if you get stuck in future work?\n",
    "\n",
    "*  What do you understand more deeply about this material?\n",
    "\n",
    "*  What questions or uncertainties remain for you regarding this material?"
   ]
  },
  {
   "cell_type": "markdown",
   "metadata": {},
   "source": [
    "  "
   ]
  },
  {
   "cell_type": "markdown",
   "metadata": {},
   "source": [
    "### <font color=\"blue\">Exercises</font>"
   ]
  },
  {
   "cell_type": "markdown",
   "metadata": {},
   "source": [
    "<u>**Exercise #1**</u>  \n",
    "In order to have a simple function on which to test Fourier transform routines, write a program to return data representing a square wave having its left edge at the origin of the $x$-axis.  Let the amplitude of the square wave be $h$, and its width be $w$, and let it be flanked on each side by a region of width $w$ and zero amplitude.  Thus, the entire function should extend from $x = -w$ to $x = +2w$, but it should be nonzero only in the range from $0$ to $w$.  Use  $1024$ ($= 2^{10}$) points in your construction of the square wave (including the zero regions).  Your program should plot the square wave, to prove that your code works as it should.  Test it by creating and plotting a square wave with height $1.0$ and width $0.5$.  \n",
    "<br>\n",
    "\n",
    "\n",
    "<u>**Exercise #2**</u>  \n",
    "(a) Apply the first (non-vectorized) DFT function presented in the module to your square wave function using the height and width of Exercise \\#1, and make two plots of the output: one showing all of the data and another showing just the first $20$ values.  (It's useful to plot the data as large dots, using the 'o' argument to the `plot` function.)  Briefly describe and interpret the results. \n",
    "\n",
    "(b) Modify the first DFT function so that it computes \\emph{all} of the `c[k]` coefficients, including those with $k > \\tfrac{1}{2} N$.  (The `numpy` function to compute a complex conjugate comes from the `numpy.ma` library and is called `conjugate`.) Run it and the vectorized version on the square wave data, and plot the two results (on separate graphs; as small dots, using '.').  To determine whether or not they're the same, plot the difference between them (on a third graph), and also use `numpy`'s `allclose` function, which returns `True` if corresponding elements of two arrays are the same to within some small tolerance.  (See the documentation for `numpy.allclose` for information on how to use it and on the default tolerances; other values may be provided by the user as arguments passed to the function).  Do the results agree with each other?  \n",
    "\n",
    "(c) Using `numpy`'s `linspace` function, create sine wave data in the range (0, $2\\pi$) using $1000$ data points, run your \"full\" or vectorized DFT function on it, and plot the first $10$ values.  Do the same for sine wave data in the range (0, $4\\pi$), again with $1000$ data points.  Explain the two graphs. }\n",
    "\n",
    "(d) Finally, run `numpy`'s `fft` function (from the `numpy.fft` library) on your square wave and on the first sine wave of (c) to check whether its outputs are the same as those from our DFT functions.  \n",
    "<br>\n",
    "\n",
    "\n",
    "<u>**Exercise #3**</u>  \n",
    "To show the superior speed of `numpy`'s `fft` routine, apply it, the nonvectorized DFT routine you used in Exercise \\#2, and the vectorized DFT routine, to your square wave.  Time how long it takes each routine to perform the Fourier transform by using the `timeit` magic [e.g., `%timeit fft(square)`].  How do the times compare (pay attention to the units)?  \n",
    "<br>\n",
    "    \n",
    "\t\n",
    "<u>**Exercise #4**</u>  \n",
    "Import the sound data in the file `piano.txt`, which you should find where the modules are posted.  You will need to upload it to the directory in which you are running your notebook, and then read it into a variable using the syntax `sound = numpy.loadtxt('piano.txt')`, where \"`sound`\" is the variable name.  (a) Plot the data in this file.  (b) Now run `numpy`'s `fft` routine on the data, storing the Fourier transform output and plotting it as well.  You should see two large spikes, as well as several small ones (all in a symmetric pattern).  (c) Copy the data from the Fourier transform output to a new array, and change that new array so that the data points in the range 2001-98000 have the value 0: this will eliminate most of the smaller spikes in the Fourier transform.  Plot the new array to confirm this.  (d) Apply the reverse transform `ifft` to this new array, and plot the result.  How does it compare to the original `piano` plot?  Explain any differences you observe.  (e) Run the notebook `Soundfile_Player.ipynb` from the directory where the modules are posted.  It will produce audio players that you can run to play the original sound file and the one with the small spikes eliminated.  How do they compare?  Explain any differences you hear.  How does this mesh with what you observed in the plots of those files?   \n"
   ]
  },
  {
   "cell_type": "markdown",
   "metadata": {},
   "source": [
    "   "
   ]
  },
  {
   "cell_type": "markdown",
   "metadata": {},
   "source": [
    "   "
   ]
  },
  {
   "cell_type": "markdown",
   "metadata": {},
   "source": [
    "<font size=\"3pt\">**Breakpoint Answers**</font>\n",
    "\n",
    "**Breakpoint 1**  \n",
    "The cosine sum starts with $k = 0$ because cos(0) is not zero.  However, $\\sin(0) = 0$, so there is no point in including the $k = 0$ term in that sum.  \n",
    "<br>\n",
    "\n",
    "\n",
    "**Breakpoint 2**  \n",
    "From Eq. (5), we're interested in the integral $\\int_0^L \\exp \\left[ i 2 \\pi (k'-k) x/L \\right] \\text{d}x$.  If $k' = k$, the integrand becomes $e^0 = 1$, and so the integral gives $L$ immediately.  If $k' \\ne k$, the integral can be computed as follows:\n",
    "\n",
    "$$\\int_0^L \\exp \\left[ i \\frac{2 \\pi (k'-k) x}{L} \\right] \\text{d}x = \\dfrac{L}{2i \\pi (k'-k)} \\exp \\left[ i \\frac{2 \\pi (k'-k) x}{L} \\right]_0^L = \\dfrac{L}{2i\\pi (k'-k)} \\left[ e^{2i\\pi (k'-k)}  - 1 \\right].$$\n",
    "\n",
    "Since $k' \\ne k$, then the first term in square brackets is $\\exp(2i\\pi n)$, where $n$ is an integer, and this just equals one (it corresponds to being at angle 0 on the unit circle in the complex plane).  Thus, the combination of terms in square brackets vanishes.  \n",
    "<br>\n",
    "\n",
    "\n",
    "**Breakpoint 3**  \n",
    "(a) For $N = 7$, $\\tfrac{1}{2} (N + 1) = 4$, while `N//2 + 1 = 7//2 + 1 = 3 + 1 = 4` after rounding down the fraction.  (b) For $N = 8$, $\\tfrac{1}{2} N + 1 = 5$, and `N//2 + 1 = 8//2 + 1 = 4 + 1 = 5`.  In both cases, the results agree.  \n",
    "<br>\n",
    "\n",
    "\n",
    "**Breakpoint 4**  \n",
    "A wave with period $T$ has a frequency $f = 1/T$.  For the Nyquist frequency to match that frequency, we require $1/T = 1/2\\Delta$, or $\\Delta = T/2$.  Thus, the wave must be sampled at half the period, or twice per cycle --- if it's sampled at one peak, it will be sampled at all of the other peaks and troughs.  By the way, this is why digital audio usually is sampled at around 44 Mhz or higher: this is a high enough sample rate to accurately detect sound frequencies of 22 Hz, which is at the upper limit of normal human hearing."
   ]
  },
  {
   "cell_type": "markdown",
   "metadata": {},
   "source": [
    "   "
   ]
  },
  {
   "cell_type": "markdown",
   "metadata": {},
   "source": [
    "   "
   ]
  },
  {
   "cell_type": "markdown",
   "metadata": {},
   "source": [
    "<font size=\"3pt\">**References**</font>\n",
    "\n",
    "$^1$ Module adapted from *Computational Physics* by M. Newman.\n",
    "\n",
    "$^2$ E.g., *Mathematical Methods in the Physical Sciences*, by Mary Boas.\n",
    "\n",
    "$^3$ This discussion is adapted from *A Survey of Computational Physics*, by Landau, Paez and Bordeianu.\n"
   ]
  }
 ],
 "metadata": {
  "kernelspec": {
   "display_name": "Python 3",
   "language": "python",
   "name": "python3"
  },
  "language_info": {
   "codemirror_mode": {
    "name": "ipython",
    "version": 3
   },
   "file_extension": ".py",
   "mimetype": "text/x-python",
   "name": "python",
   "nbconvert_exporter": "python",
   "pygments_lexer": "ipython3",
   "version": "3.6.1"
  }
 },
 "nbformat": 4,
 "nbformat_minor": 1
}
