{
 "cells": [
  {
   "cell_type": "markdown",
   "metadata": {},
   "source": [
    "# <font face=\"times\"><font size=\"6pt\"><p style = 'text-align: center;'> BRYN MAWR COLLEGE\n",
    "\n",
    "<font size=\"6pt\"><p style = 'text-align: center;'><b><font face=\"times\">Computational Methods in the Physical Sciences</b><br/><br/>\n",
    "\n",
    "<p style = 'text-align: center;'><b><font face=\"times\">Module 1:  A Brief Introduction to Python and Programming</b><br/><br/>\n",
    "\n",
    "<p style = 'text-align: center;'><b><font face=\"times\">Part 2 -- Functions, Packages and Plotting</b><br/><br/>\n",
    "\n",
    "<p style = 'text-align: center;'><font size=\"3pt\"><font face=\"times\"> Adapted from <em>A Crash Course in Python for Scientists</em>, version 0.6</br> \n",
    "<a href=\"http://www.cs.sandia.gov/~rmuller/\">Rick Muller</a>, Sandia National Laboratories </p>"
   ]
  },
  {
   "cell_type": "markdown",
   "metadata": {},
   "source": [
    " ***Prerequisite modules***: Module 0 \n",
    "\n",
    "***Estimated completion time***: 2-4 hours  \n",
    "\n",
    "***Learning objectives***: Become familiar with, and gain practice in using, basic Python constructs"
   ]
  },
  {
   "cell_type": "markdown",
   "metadata": {},
   "source": [
    "   "
   ]
  },
  {
   "cell_type": "markdown",
   "metadata": {},
   "source": [
    "<img src=\"./Images/Dinos_TrapdoorFunctions-643.png\" width=\"600\" height=\"500\"/>\n",
    "<p style = 'text-align: center;'>Image credit: www.qwantz.com/index.php?comic=643<br/><br/>"
   ]
  },
  {
   "cell_type": "markdown",
   "metadata": {},
   "source": [
    "\n",
    "# Outline\n",
    "\n",
    "## Part 1 - Basics\n",
    "\n",
    "* [I. Python Overview](Computational_Module-01A-PythonIntro.ipynb#I.-Python-Overview) \n",
    "   * [Debugging](Computational_Module-01A-PythonIntro.ipynb#Debugging)\n",
    "   * [Python as a Calculator](Computational_Module-01A-PythonIntro.ipynb#Using-Python-as-a-Calculator)\n",
    "   * [Defining Variables](Computational_Module-01A-PythonIntro.ipynb#Defining-Variables)\n",
    "   * [Strings and Printing](Computational_Module-01A-PythonIntro.ipynb#Strings-and-Printing)\n",
    "   * [User Input](Computational_Module-01A-PythonIntro.ipynb#User-Input)\n",
    "   * [Lists](Computational_Module-01A-PythonIntro.ipynb#Lists)\n",
    "   * [Loops and Iteration](Computational_Module-01A-PythonIntro.ipynb#Loops-and-Iteration)\n",
    "   * [Slicing](Computational_Module-01A-PythonIntro.ipynb#Slicing)\n",
    "   * [Booleans](Computational_Module-01A-PythonIntro.ipynb#Booleans-and-Truth-Testing)\n",
    "\n",
    "\n",
    "## Part 2 - Functions, Packages, Data Input/Output, and Plotting\n",
    "\n",
    "* [II. Functions](#II.-Functions)  \n",
    "   * [Function Packages](#Function-Packages)\n",
    "   * [User-Defined Functions](#User-Defined-Functions)\n",
    "   * [Function of a Function](#Function-of-a-Function)\n",
    "   \n",
    "\n",
    "* [III. Numpy and Scipy](#III.-Numpy-and-Scipy)\n",
    "   * [Making vectors and matrices, 1-D and 2-D arrays](#Making-vectors-and-matrices,-1-D-and-2-D-arrays)\n",
    "   * [Slicing Arrays](#Slicing-Arrays)\n",
    "   * [linspace and arange](#linspace-and-arange)\n",
    "   * [Array Operations](#Array-Operations)\n",
    "   * [Optional Arguments](#Optional-Arguments)\n",
    "   \n",
    "\n",
    "* [IV. Data Input/Output](#IV.-Data-Input/Output)\n",
    "\n",
    "\n",
    "* [V. Plotting with Matplotlib](#V.-Plotting-with-Matplotlib) \n",
    "\n",
    "\n",
    "## Part 3 - Algorithm Design\n",
    "\n",
    "* [VI. List Manipulation](Computational_Module-01C-PythonIntro.ipynb#VI.-List-Manipulation)\n",
    "   * [Searching a List](Computational_Module-01C-PythonIntro.ipynb#Searching-a-List) \n",
    "   * [Sorting a List](Computational_Module-01C-PythonIntro.ipynb#Sorting-a-List)\n",
    "   \n",
    "   \n",
    "* [VII. Recursion](Computational_Module-01C-PythonIntro.ipynb#VII.-Recursion)\n",
    "\n",
    "   \n",
    "* [VIII. References](Computational_Module-01C-PythonIntro.ipynb#VIII.-References) "
   ]
  },
  {
   "cell_type": "markdown",
   "metadata": {},
   "source": [
    "- - -"
   ]
  },
  {
   "cell_type": "markdown",
   "metadata": {},
   "source": [
    "## II. Functions"
   ]
  },
  {
   "cell_type": "markdown",
   "metadata": {},
   "source": [
    "### <font color=\"blue\">**Function Packages**</font>"
   ]
  },
  {
   "cell_type": "markdown",
   "metadata": {},
   "source": [
    "Python's power can be extended greatly through the use of collections of supplementary functions contained in ***packages*** (referred to as ***libraries*** in other programming languages).  To keep things simple, most of these package functions are not accessible from a normal Python interactive session.  Instead, you have to **`import`** the package name or individual function. For example, there is a `math` package containing many useful functions. To access, say, the square root function, you can first import the specific function of interest, using the syntax\n",
    "\n",
    "```python\n",
    "from math import sqrt\n",
    "```"
   ]
  },
  {
   "cell_type": "markdown",
   "metadata": {},
   "source": [
    "and then Python will recognize that function name, e.g.,"
   ]
  },
  {
   "cell_type": "code",
   "execution_count": 2,
   "metadata": {},
   "outputs": [
    {
     "data": {
      "text/plain": [
       "9.016651263079881"
      ]
     },
     "execution_count": 2,
     "metadata": {},
     "output_type": "execute_result"
    }
   ],
   "source": [
    "from math import sqrt\n",
    "sqrt(81.3)"
   ]
  },
  {
   "cell_type": "markdown",
   "metadata": {},
   "source": [
    "Alternatively, you can simply import the entire `math` package, but then you should specify a function in the package like this:"
   ]
  },
  {
   "cell_type": "code",
   "execution_count": 3,
   "metadata": {},
   "outputs": [
    {
     "data": {
      "text/plain": [
       "9.016651263079881"
      ]
     },
     "execution_count": 3,
     "metadata": {},
     "output_type": "execute_result"
    }
   ],
   "source": [
    "import math\n",
    "math.sqrt(81.3)"
   ]
  },
  {
   "cell_type": "markdown",
   "metadata": {},
   "source": [
    "If a package has been imported using this method, then typing\n",
    "```python\n",
    "dir(package name)\n",
    "```\n",
    "will produce a list of the functions in the package:"
   ]
  },
  {
   "cell_type": "code",
   "execution_count": 4,
   "metadata": {},
   "outputs": [
    {
     "data": {
      "text/plain": [
       "['__doc__',\n",
       " '__file__',\n",
       " '__loader__',\n",
       " '__name__',\n",
       " '__package__',\n",
       " '__spec__',\n",
       " 'acos',\n",
       " 'acosh',\n",
       " 'asin',\n",
       " 'asinh',\n",
       " 'atan',\n",
       " 'atan2',\n",
       " 'atanh',\n",
       " 'ceil',\n",
       " 'copysign',\n",
       " 'cos',\n",
       " 'cosh',\n",
       " 'degrees',\n",
       " 'e',\n",
       " 'erf',\n",
       " 'erfc',\n",
       " 'exp',\n",
       " 'expm1',\n",
       " 'fabs',\n",
       " 'factorial',\n",
       " 'floor',\n",
       " 'fmod',\n",
       " 'frexp',\n",
       " 'fsum',\n",
       " 'gamma',\n",
       " 'gcd',\n",
       " 'hypot',\n",
       " 'inf',\n",
       " 'isclose',\n",
       " 'isfinite',\n",
       " 'isinf',\n",
       " 'isnan',\n",
       " 'ldexp',\n",
       " 'lgamma',\n",
       " 'log',\n",
       " 'log10',\n",
       " 'log1p',\n",
       " 'log2',\n",
       " 'modf',\n",
       " 'nan',\n",
       " 'pi',\n",
       " 'pow',\n",
       " 'radians',\n",
       " 'sin',\n",
       " 'sinh',\n",
       " 'sqrt',\n",
       " 'tan',\n",
       " 'tanh',\n",
       " 'tau',\n",
       " 'trunc']"
      ]
     },
     "execution_count": 4,
     "metadata": {},
     "output_type": "execute_result"
    }
   ],
   "source": [
    "dir(math)"
   ]
  },
  {
   "cell_type": "markdown",
   "metadata": {},
   "source": [
    "So we see that `math` has a built-in value for $\\pi$, which we call as shown:"
   ]
  },
  {
   "cell_type": "code",
   "execution_count": 5,
   "metadata": {},
   "outputs": [
    {
     "name": "stdout",
     "output_type": "stream",
     "text": [
      "Pi = 3.141592653589793116\n"
     ]
    }
   ],
   "source": [
    "print(\"Pi = %.18f\" % math.pi)"
   ]
  },
  {
   "cell_type": "markdown",
   "metadata": {},
   "source": [
    "You also can import an entire package using this syntax (where **`*`** is a ***wildcard*** that stands for \"everything\"):"
   ]
  },
  {
   "cell_type": "code",
   "execution_count": 6,
   "metadata": {},
   "outputs": [],
   "source": [
    "from math import *"
   ]
  },
  {
   "cell_type": "markdown",
   "metadata": {},
   "source": [
    " "
   ]
  },
  {
   "cell_type": "markdown",
   "metadata": {},
   "source": [
    "**Note**: Usually, it's safe to import the entire package, but if your code might require a lot of computer memory (RAM) in order to run, or if memory capacity is a concern for any other reason, it would be better to import only the specific functions you need from a package, rather than the entire package. "
   ]
  },
  {
   "cell_type": "markdown",
   "metadata": {},
   "source": [
    "**Caution**:  Some packages occasionally include functions with the same name; e.g., both the `math` and the `numpy` packages contain the trig functions `sin()`, `cos()`, and `tan()`, as well as other functions in common.  If you import both packages using `from [package] import *`, how do you know which function you're getting when you call one with a shared name?  \n",
    "\n",
    "The most common way to deal with potential name conflict issues is to import packages using the first method, `import [package]`, and then a function can be referenced as `package.function`; e.g. `math.sqrt`.   "
   ]
  },
  {
   "cell_type": "markdown",
   "metadata": {},
   "source": [
    "To save typing, you can import packages with \"nicknames\"; e.g., "
   ]
  },
  {
   "cell_type": "code",
   "execution_count": 2,
   "metadata": {},
   "outputs": [],
   "source": [
    "import numpy as np"
   ]
  },
  {
   "cell_type": "markdown",
   "metadata": {},
   "source": [
    "Now you can specify the particular version of the function you want using the syntax `nickname.function`:"
   ]
  },
  {
   "cell_type": "code",
   "execution_count": 8,
   "metadata": {},
   "outputs": [
    {
     "name": "stdout",
     "output_type": "stream",
     "text": [
      "Pi = 3.141592653589793116\n"
     ]
    }
   ],
   "source": [
    "print(\"Pi = %.18f\" % np.pi)"
   ]
  },
  {
   "cell_type": "markdown",
   "metadata": {},
   "source": [
    "The approach of importing an entire library is used in this notebook.  In other modules or notebooks that require only a small number of imported functions, those functions may be imported individually as needed."
   ]
  },
  {
   "cell_type": "markdown",
   "metadata": {},
   "source": [
    "**Note:**  Since `numpy` contains all of the functions that `math` contains, plus others, and since it permits array operations as well, there's no need to import the `math` package if you're importing `numpy`."
   ]
  },
  {
   "cell_type": "markdown",
   "metadata": {},
   "source": [
    "<a href='#Outline'>Back to the Top</a>"
   ]
  },
  {
   "cell_type": "markdown",
   "metadata": {},
   "source": [
    " "
   ]
  },
  {
   "cell_type": "markdown",
   "metadata": {},
   "source": [
    "### <font color=\"blue\">**User-Defined Functions**</font>"
   ]
  },
  {
   "cell_type": "markdown",
   "metadata": {},
   "source": [
    "Python allows you to define your own mathematical functions, which provides lots of flexibility and enables you to \"package\" code in a way that makes it easy to use wherever you need.  This can greatly improve the efficiency of your coding.  \n",
    "\n",
    "We define a function with the **`def`** statement in Python:"
   ]
  },
  {
   "cell_type": "code",
   "execution_count": 10,
   "metadata": {},
   "outputs": [],
   "source": [
    "def poly1(x):\n",
    "    '''Returns a polynomial of the input value x'''\n",
    "    return 3.5 * x**2 - 2 * x + 1"
   ]
  },
  {
   "cell_type": "markdown",
   "metadata": {},
   "source": [
    "Note that the function itself is defined as a code block (a colon followed by an indented block), like in an `if` statement.  Also note that the first line of the function is a single string (which is optional, but highly recommended), surrounded front and back by three single quotes. This is called a ***docstring***, and is a special kind of comment that often is available to people using the function through the Python command line.  \n",
    "\n",
    "**You are strongly encouraged to write a docstring for all of your functions, even simple ones, to get in the habit.**  If you define a docstring for each of your functions, it makes it easier for other people to use them, since you can provide instructions on the ***arguments*** (inputs) and ***return values*** (outputs) of the function which users can obtain using the `help` command.  For example:"
   ]
  },
  {
   "cell_type": "code",
   "execution_count": 2,
   "metadata": {},
   "outputs": [
    {
     "name": "stdout",
     "output_type": "stream",
     "text": [
      "Help on function poly1 in module __main__:\n",
      "\n",
      "poly1(x)\n",
      "    Returns a polynomial of the input value x\n",
      "\n"
     ]
    }
   ],
   "source": [
    "help(poly1)"
   ]
  },
  {
   "cell_type": "markdown",
   "metadata": {},
   "source": [
    "Also note the **`return`** statement at the end of the function definition.  This allows `poly1` to produce an output which can be used by other code; in this case, the output is the value of the calculation following `return` for a given value of `x`.  What follows the `return` statement can be a single variable, multiple comma-separated variables, or a calculation.\n",
    "\n",
    "Just as importing two packages with a shared function name leads to uncertainty about what behavior you might get when calling that function, the same thing will happen if you define a function with the same name as a package function, so that risk should be avoided by defining functions with names that are not likely to be the same as ones that already exist."
   ]
  },
  {
   "cell_type": "markdown",
   "metadata": {},
   "source": [
    "In a situation when the expression we wish to return is complicated, it makes for clearer code to break it up into separate terms, e.g.,"
   ]
  },
  {
   "cell_type": "code",
   "execution_count": 2,
   "metadata": {},
   "outputs": [],
   "source": [
    "def poly1(x):\n",
    "    '''Return a polynomial of the input value x'''\n",
    "    \n",
    "    term1 = 3.5 * x**2\n",
    "    term2 = 2 * x\n",
    "    term3 = 1\n",
    "    \n",
    "    return term1 - term2 + term3"
   ]
  },
  {
   "cell_type": "markdown",
   "metadata": {},
   "source": [
    "To run a function we \"call\" it with appropriate inputs:"
   ]
  },
  {
   "cell_type": "code",
   "execution_count": 12,
   "metadata": {},
   "outputs": [
    {
     "data": {
      "text/plain": [
       "11.0"
      ]
     },
     "execution_count": 12,
     "metadata": {},
     "output_type": "execute_result"
    }
   ],
   "source": [
    "poly1(2)"
   ]
  },
  {
   "cell_type": "markdown",
   "metadata": {},
   "source": [
    "The output of the function in this case was printed to the screen, but it has not been stored.  To store the output for future use, the function is called as shown here (for one output):"
   ]
  },
  {
   "cell_type": "code",
   "execution_count": 4,
   "metadata": {},
   "outputs": [
    {
     "name": "stdout",
     "output_type": "stream",
     "text": [
      "1158.235\n",
      "1341508.3152249998\n"
     ]
    }
   ],
   "source": [
    "x = poly1(-17.9)\n",
    "\n",
    "print(x)\n",
    "print(x*x)"
   ]
  },
  {
   "cell_type": "markdown",
   "metadata": {},
   "source": [
    "The second printed value proves that the output of `poly1` actually has been stored in `x`."
   ]
  },
  {
   "cell_type": "markdown",
   "metadata": {},
   "source": [
    "Note that Python functions can have multiple inputs and outputs.  For example, we could define a function  \n",
    "\n",
    "  ```python\n",
    "     def myfun(x, y, z):\n",
    "        [code]\n",
    "        return a, b\n",
    "  ```\n",
    "        \n",
    "Here, `x`, `y`, etc. are arguments (the inputs) to the function, and `a` and `b` are the return values.  (You can have no return values -- e.g. if the function just prints or plots its output -- or one return value, two return values,... however many you want.)  You would call this function as\n",
    "\n",
    "  ```python\n",
    "     out1, out2 = myfun(xval,yval)\n",
    "  ```\n",
    "\n",
    "Here, `out1` and `out2` capture the values of `a` and `b` outputted by the `return` statement."
   ]
  },
  {
   "cell_type": "markdown",
   "metadata": {},
   "source": [
    "For example:"
   ]
  },
  {
   "cell_type": "code",
   "execution_count": 13,
   "metadata": {},
   "outputs": [],
   "source": [
    "def square_cube(x):\n",
    "    '''Return the square and cube of the input value x'''\n",
    "    \n",
    "    a = x*x\n",
    "    b = x**3\n",
    "    return a, b"
   ]
  },
  {
   "cell_type": "code",
   "execution_count": 14,
   "metadata": {},
   "outputs": [
    {
     "name": "stdout",
     "output_type": "stream",
     "text": [
      "49 343\n"
     ]
    }
   ],
   "source": [
    "out1, out2 = square_cube(7)\n",
    "print(out1, out2)"
   ]
  },
  {
   "cell_type": "markdown",
   "metadata": {},
   "source": [
    "So, this function outputs both the square and cube of the input, `7`, and the returned values `out1` and `out2` now can be used in other operations:"
   ]
  },
  {
   "cell_type": "code",
   "execution_count": 15,
   "metadata": {},
   "outputs": [
    {
     "data": {
      "text/plain": [
       "392"
      ]
     },
     "execution_count": 15,
     "metadata": {},
     "output_type": "execute_result"
    }
   ],
   "source": [
    "out1 + out2"
   ]
  },
  {
   "cell_type": "markdown",
   "metadata": {},
   "source": [
    "As another example of a function, here's one that will find and print all of the elements of a list of numbers that are smaller than a specified value, and print their indices.  "
   ]
  },
  {
   "cell_type": "code",
   "execution_count": 17,
   "metadata": {},
   "outputs": [],
   "source": [
    "def findbelow(mylist, val):\n",
    "    '''Find and print all of the elements (and their indices) in mylist smaller than val.'''\n",
    "    \n",
    "    num = len(mylist)  # gets length of input list\n",
    "    \n",
    "    for i in range(num):\n",
    "        if mylist[i] < val:\n",
    "            print('%g, at index %d, is less than %g' %(mylist[i], i, val))"
   ]
  },
  {
   "cell_type": "code",
   "execution_count": 18,
   "metadata": {},
   "outputs": [
    {
     "name": "stdout",
     "output_type": "stream",
     "text": [
      "-3.2, at index 1, is less than 5\n",
      "4, at index 2, is less than 5\n",
      "-5, at index 4, is less than 5\n"
     ]
    }
   ],
   "source": [
    "findbelow([8, -3.2, 4, 16.3, -5], 5)"
   ]
  },
  {
   "cell_type": "markdown",
   "metadata": {},
   "source": [
    "(Remember that Python list indexes start at 0.)  Note that nothing is being returned here: the answers are just printed out.  Later on we'll see how we could return multiple outputs when we don't know ahead of time how many there will be, as is the case with this `findbelow` function."
   ]
  },
  {
   "cell_type": "markdown",
   "metadata": {},
   "source": [
    "It's possible to assign ***default values*** to arguments in functions.  For example, suppose we want the default behavior of `findbelow` to be to find values less than 10.  Then we would define the function as"
   ]
  },
  {
   "cell_type": "code",
   "execution_count": 24,
   "metadata": {},
   "outputs": [],
   "source": [
    "def findbelow(mylist, val=10):\n",
    "    '''Find and print all of the elements (and their indices) in mylist smaller than val.'''\n",
    "    \n",
    "    num = len(mylist)  # gets length of input list\n",
    "    \n",
    "    for i in range(num):\n",
    "        if mylist[i] < val:\n",
    "            print('%g, at index %d, is less than %g' %(mylist[i], i, val))"
   ]
  },
  {
   "cell_type": "markdown",
   "metadata": {},
   "source": [
    "Now we can run it without giving any value for `val`:"
   ]
  },
  {
   "cell_type": "code",
   "execution_count": 25,
   "metadata": {},
   "outputs": [
    {
     "name": "stdout",
     "output_type": "stream",
     "text": [
      "8, at index 0, is less than 10\n",
      "-3.2, at index 1, is less than 10\n",
      "4, at index 2, is less than 10\n",
      "-5, at index 4, is less than 10\n"
     ]
    }
   ],
   "source": [
    "findbelow([8, -3.2, 4, 16.3, -5])"
   ]
  },
  {
   "cell_type": "markdown",
   "metadata": {},
   "source": [
    "The types of arguments passed in the examples above are called ***positional arguments*** because the function gets them in the order they're provided to the function call.  If we reversed them -- passed a single number as the first argument to `findbelow` and passed an array as the second argument -- we'd run into a problem at some point, since the function assumes that the first argument is a list:"
   ]
  },
  {
   "cell_type": "code",
   "execution_count": 26,
   "metadata": {},
   "outputs": [
    {
     "ename": "TypeError",
     "evalue": "object of type 'int' has no len()",
     "output_type": "error",
     "traceback": [
      "\u001b[1;31m---------------------------------------------------------------------------\u001b[0m",
      "\u001b[1;31mTypeError\u001b[0m                                 Traceback (most recent call last)",
      "Input \u001b[1;32mIn [26]\u001b[0m, in \u001b[0;36m<cell line: 1>\u001b[1;34m()\u001b[0m\n\u001b[1;32m----> 1\u001b[0m \u001b[43mfindbelow\u001b[49m\u001b[43m(\u001b[49m\u001b[38;5;241;43m5\u001b[39;49m\u001b[43m,\u001b[49m\u001b[43m \u001b[49m\u001b[43m[\u001b[49m\u001b[38;5;241;43m8\u001b[39;49m\u001b[43m,\u001b[49m\u001b[43m \u001b[49m\u001b[38;5;241;43m-\u001b[39;49m\u001b[38;5;241;43m3.2\u001b[39;49m\u001b[43m,\u001b[49m\u001b[43m \u001b[49m\u001b[38;5;241;43m4\u001b[39;49m\u001b[43m,\u001b[49m\u001b[43m \u001b[49m\u001b[38;5;241;43m16.3\u001b[39;49m\u001b[43m,\u001b[49m\u001b[43m \u001b[49m\u001b[38;5;241;43m-\u001b[39;49m\u001b[38;5;241;43m5\u001b[39;49m\u001b[43m]\u001b[49m\u001b[43m)\u001b[49m\n",
      "Input \u001b[1;32mIn [24]\u001b[0m, in \u001b[0;36mfindbelow\u001b[1;34m(mylist, val)\u001b[0m\n\u001b[0;32m      1\u001b[0m \u001b[38;5;28;01mdef\u001b[39;00m \u001b[38;5;21mfindbelow\u001b[39m(mylist, val\u001b[38;5;241m=\u001b[39m\u001b[38;5;241m10\u001b[39m):\n\u001b[0;32m      2\u001b[0m     \u001b[38;5;124;03m'''Find and print all of the elements (and their indices) in mylist smaller than val.'''\u001b[39;00m\n\u001b[1;32m----> 4\u001b[0m     num \u001b[38;5;241m=\u001b[39m \u001b[38;5;28;43mlen\u001b[39;49m\u001b[43m(\u001b[49m\u001b[43mmylist\u001b[49m\u001b[43m)\u001b[49m  \u001b[38;5;66;03m# gets length of input list\u001b[39;00m\n\u001b[0;32m      6\u001b[0m     \u001b[38;5;28;01mfor\u001b[39;00m i \u001b[38;5;129;01min\u001b[39;00m \u001b[38;5;28mrange\u001b[39m(num):\n\u001b[0;32m      7\u001b[0m         \u001b[38;5;28;01mif\u001b[39;00m mylist[i] \u001b[38;5;241m<\u001b[39m val:\n",
      "\u001b[1;31mTypeError\u001b[0m: object of type 'int' has no len()"
     ]
    }
   ],
   "source": [
    "findbelow(5, [8, -3.2, 4, 16.3, -5])"
   ]
  },
  {
   "cell_type": "markdown",
   "metadata": {},
   "source": [
    "An alternative approach to calling a function, which avoids this problem, is to pass ***keyword arguments*** by using their names as defined in the function.  In `findbelow`, the first argument is called \"`mylist`\" and the second is called \"`val`\", so we could call the function this way:"
   ]
  },
  {
   "cell_type": "code",
   "execution_count": 27,
   "metadata": {},
   "outputs": [
    {
     "name": "stdout",
     "output_type": "stream",
     "text": [
      "-3.2, at index 1, is less than 5\n",
      "4, at index 2, is less than 5\n",
      "-5, at index 4, is less than 5\n"
     ]
    }
   ],
   "source": [
    "findbelow(val=5, mylist=[8, -3.2, 4, 16.3, -5])"
   ]
  },
  {
   "cell_type": "markdown",
   "metadata": {},
   "source": [
    "Here, the arguments were passed in the reverse order they're specified in the function definition, but there's no problem since we have identified which input is which argument."
   ]
  },
  {
   "cell_type": "markdown",
   "metadata": {},
   "source": [
    "<a href='#Outline'>Back to the Top</a>"
   ]
  },
  {
   "cell_type": "markdown",
   "metadata": {},
   "source": [
    "  "
   ]
  },
  {
   "cell_type": "markdown",
   "metadata": {},
   "source": [
    "### <font color=\"blue\">**Function of a Function**</font>"
   ]
  },
  {
   "cell_type": "markdown",
   "metadata": {},
   "source": [
    "Another great feature of Python functions is that you can pass one function as an argument to another, as long as the second function is designed to take a function as an argument.  For example, let's define a function as follows"
   ]
  },
  {
   "cell_type": "code",
   "execution_count": 4,
   "metadata": {},
   "outputs": [],
   "source": [
    "def square(x):\n",
    "    return x*x"
   ]
  },
  {
   "cell_type": "markdown",
   "metadata": {},
   "source": [
    "and another function that takes a function as input:"
   ]
  },
  {
   "cell_type": "code",
   "execution_count": 6,
   "metadata": {},
   "outputs": [],
   "source": [
    "def sumfunc(func, a, b):\n",
    "    return func(a) + func(b)"
   ]
  },
  {
   "cell_type": "markdown",
   "metadata": {},
   "source": [
    "This function calls another function `func`, applies it individually to the inputs `a` and `b`, and returns the sum of the results.  "
   ]
  },
  {
   "cell_type": "markdown",
   "metadata": {},
   "source": [
    "   "
   ]
  },
  {
   "cell_type": "markdown",
   "metadata": {},
   "source": [
    "<font color=\"green\"><b>Breakpoint 3</b></font>: Predict the output of the function call `sumfunc(square,2,3)`.  Then, check your prediction by entering and running this function call in the following code cell.  (Make sure to run the two code cells above first.)"
   ]
  },
  {
   "cell_type": "code",
   "execution_count": null,
   "metadata": {},
   "outputs": [],
   "source": []
  },
  {
   "cell_type": "markdown",
   "metadata": {},
   "source": [
    "   "
   ]
  },
  {
   "cell_type": "markdown",
   "metadata": {},
   "source": [
    "Note that we don't have to pass an argument (`x`) along with the function name `square` when we pass it to the second function `sumfun`.  We simply pass the function name itself.  (However, whatever we do with `square` inside `sumfun` has to respect the arguments that `square` is designed to take.  In this case, the function `square` is designed to take one argument, so that's what it must be given inside `sumfun`.)  \n",
    "\n",
    "This ability of a function to act on another function just by name is particular to (some) modern programming languages.  This capability does not exist in older languages like FORTRAN and C."
   ]
  },
  {
   "cell_type": "markdown",
   "metadata": {},
   "source": [
    " The input `x` in the function definition of `square`, or the inputs `a` and `b` to `sumfun`, could be entire *arrays* of values; the functions would output corresponding arrays consisting of the values of the functions applied to each of the array elements.  In order to do this, the input arrays must be created as `numpy` arrays.  For example:"
   ]
  },
  {
   "cell_type": "code",
   "execution_count": 8,
   "metadata": {},
   "outputs": [
    {
     "name": "stdout",
     "output_type": "stream",
     "text": [
      "[ 1  9 25]\n",
      "[ 4 16 36]\n"
     ]
    }
   ],
   "source": [
    "inarray1 = np.array([1, 3, 5])   # create numpy array\n",
    "inarray2 = np.array([2, 4, 6])   # create numpy array\n",
    "print(square(inarray1))          # print out the squares of the elements of the first array\n",
    "print(square(inarray2))          # print out the squares of the elements of the second array"
   ]
  },
  {
   "cell_type": "code",
   "execution_count": 7,
   "metadata": {},
   "outputs": [
    {
     "data": {
      "text/plain": [
       "array([ 5, 25, 61])"
      ]
     },
     "execution_count": 7,
     "metadata": {},
     "output_type": "execute_result"
    }
   ],
   "source": [
    "sumfunc(square, inarray1, inarray2)"
   ]
  },
  {
   "cell_type": "markdown",
   "metadata": {},
   "source": [
    "Here, `sumfun` has computed the array [$1^2 + 2^2$, $3^2 + 4^2$, $5^2 + 6^2$]."
   ]
  },
  {
   "cell_type": "markdown",
   "metadata": {},
   "source": [
    "\n"
   ]
  },
  {
   "cell_type": "markdown",
   "metadata": {},
   "source": [
    "**Exercise \\#8**\n",
    "\n",
    "Write a function to output the value of the Gaussian function $f(x;m,\\sigma) = \\dfrac{1}{\\sqrt{2 \\pi} \\sigma} \\exp \\left[ -\\dfrac{1}{2} \\left(\\dfrac{x-m}{\\sigma}\\right)^2 \\right]$, where $m$, $\\sigma$, and $x$ are inputs to the function.  (We're thinking of $x$ as a variable and $m$ and $\\sigma$ as parameters.)  Evaluate the function for $m = 0$, $\\sigma = 2$, $x = 1$.  \n",
    "\n",
    "*Notes*: (i) the $\\sigma$ in the first factor is not inside the square root; (ii) \"$\\exp(x)$\" means $e^x$."
   ]
  },
  {
   "cell_type": "markdown",
   "metadata": {},
   "source": [
    " "
   ]
  },
  {
   "cell_type": "markdown",
   "metadata": {},
   "source": [
    "<a href='#Outline'>Back to the Top</a>"
   ]
  },
  {
   "cell_type": "markdown",
   "metadata": {},
   "source": [
    "- - - - -"
   ]
  },
  {
   "cell_type": "markdown",
   "metadata": {},
   "source": [
    "## III. Numpy and Scipy"
   ]
  },
  {
   "cell_type": "markdown",
   "metadata": {},
   "source": [
    "The power of Python is greatly enhanced by a number of large [packages](#Function-Packages), as mentioned in Module 0 and above.  [Numpy](http://numpy.org) contains core routines for doing fast vector, matrix, and linear algebra-type operations in Python. [Scipy](http://scipy) contains additional routines for optimization, special functions (e.g., Laguerre and Hermite polynomials), and so on. Both contain programs written in C and Fortran so that they're as fast as possible. Together, they give Python roughly the same capability that the [Matlab](http://www.mathworks.com/products/matlab/) program offers. (In fact, if you're an experienced Matlab user, there's a [guide to Numpy for Matlab users](http://www.scipy.org/NumPy_for_Matlab_Users) just for you.)\n",
    "\n",
    "To add the capabilities of these routines, we have to call them, as shown below."
   ]
  },
  {
   "cell_type": "markdown",
   "metadata": {},
   "source": [
    "### <font color=\"blue\">**Making Vectors and Matrices, 1-D and 2-D Arrays**</font>"
   ]
  },
  {
   "cell_type": "markdown",
   "metadata": {},
   "source": [
    "Fundamental to both `numpy` and `scipy` is the ability to work with vectors and matrices.  (Note that `numpy` has distinct \"matrix\" objects that differ somewhat from the 2-D arrays that will be discussed below.  See the `numpy` documentation for details.)\n",
    "\n",
    "As seen above, you can create vectors from lists using the **`array`** command:"
   ]
  },
  {
   "cell_type": "code",
   "execution_count": 22,
   "metadata": {},
   "outputs": [
    {
     "data": {
      "text/plain": [
       "array([1, 2, 3, 4, 5, 6])"
      ]
     },
     "execution_count": 22,
     "metadata": {},
     "output_type": "execute_result"
    }
   ],
   "source": [
    "np.array([1,2,3,4,5,6])"
   ]
  },
  {
   "cell_type": "markdown",
   "metadata": {},
   "source": [
    "You can pass in a second argument to `array` that gives the data type of the values in the array. There are a number of types [listed here](http://docs.scipy.org/doc/numpy/user/basics.types.html) that the values can have. Some of these are represented by (or \"aliased to\" in Python-speak) single character codes. The most common ones are 'd' (double precision floating point number), 'D' (double precision complex number), and 'i' (int32). Below are examples; note the different forms of the outputs."
   ]
  },
  {
   "cell_type": "code",
   "execution_count": 23,
   "metadata": {},
   "outputs": [
    {
     "data": {
      "text/plain": [
       "array([ 1.,  2.,  3.,  4.,  5.,  6.])"
      ]
     },
     "execution_count": 23,
     "metadata": {},
     "output_type": "execute_result"
    }
   ],
   "source": [
    "np.array([1,2,3,4,5,6],'d')   # 1-D array of floating point numbers"
   ]
  },
  {
   "cell_type": "code",
   "execution_count": 24,
   "metadata": {},
   "outputs": [
    {
     "data": {
      "text/plain": [
       "array([ 1.+0.j,  2.+0.j,  3.+0.j,  4.+0.j,  5.+0.j,  6.+0.j])"
      ]
     },
     "execution_count": 24,
     "metadata": {},
     "output_type": "execute_result"
    }
   ],
   "source": [
    "np.array([1,2,3,4,5,6],'D')   # 1-D array of complex numbers"
   ]
  },
  {
   "cell_type": "markdown",
   "metadata": {},
   "source": [
    "(Here, '`j`' represents the square root of `-1`, usually denoted as `i` by physicists.)"
   ]
  },
  {
   "cell_type": "code",
   "execution_count": 25,
   "metadata": {},
   "outputs": [
    {
     "data": {
      "text/plain": [
       "array([1, 2, 3, 4, 5, 6], dtype=int32)"
      ]
     },
     "execution_count": 25,
     "metadata": {},
     "output_type": "execute_result"
    }
   ],
   "source": [
    "np.array([1,2,3,4,5,6],'i')    # 1-D array of integer numbers"
   ]
  },
  {
   "cell_type": "markdown",
   "metadata": {},
   "source": [
    "To build 2-D arrays, you can use the `array` command with lists of lists:"
   ]
  },
  {
   "cell_type": "code",
   "execution_count": 26,
   "metadata": {},
   "outputs": [
    {
     "data": {
      "text/plain": [
       "array([[ 0.,  1.],\n",
       "       [ 1.,  0.]])"
      ]
     },
     "execution_count": 26,
     "metadata": {},
     "output_type": "execute_result"
    }
   ],
   "source": [
    "np.array([[0,1],[1,0]],'d')     # 2x2 array of floats"
   ]
  },
  {
   "cell_type": "markdown",
   "metadata": {},
   "source": [
    "You can also form empty (zero) matrices of arbitrary shape (including vectors, which Numpy treats as matrices with one row), using the **`zeros`** command:"
   ]
  },
  {
   "cell_type": "code",
   "execution_count": 27,
   "metadata": {},
   "outputs": [
    {
     "data": {
      "text/plain": [
       "array([[ 0.,  0.,  0.],\n",
       "       [ 0.,  0.,  0.],\n",
       "       [ 0.,  0.,  0.]])"
      ]
     },
     "execution_count": 27,
     "metadata": {},
     "output_type": "execute_result"
    }
   ],
   "source": [
    "np.zeros((3,3),'d')     # 3x3 array of zeros"
   ]
  },
  {
   "cell_type": "markdown",
   "metadata": {},
   "source": [
    "The first argument is a tuple (enclosed in parentheses) specifying the shape of the matrix, and the second is the data type argument, which uses the same conventions as the `array` command. Thus, you can make row vectors:"
   ]
  },
  {
   "cell_type": "code",
   "execution_count": 33,
   "metadata": {},
   "outputs": [
    {
     "data": {
      "text/plain": [
       "array([[ 0.,  0.,  0.]])"
      ]
     },
     "execution_count": 33,
     "metadata": {},
     "output_type": "execute_result"
    }
   ],
   "source": [
    "np.zeros((1,3),'d')     # 1x3 array of zeros"
   ]
  },
  {
   "cell_type": "markdown",
   "metadata": {},
   "source": [
    "or column vectors:"
   ]
  },
  {
   "cell_type": "code",
   "execution_count": 30,
   "metadata": {},
   "outputs": [
    {
     "data": {
      "text/plain": [
       "array([[ 0.],\n",
       "       [ 0.],\n",
       "       [ 0.]])"
      ]
     },
     "execution_count": 30,
     "metadata": {},
     "output_type": "execute_result"
    }
   ],
   "source": [
    "np.zeros((3,1),'d')     # 3x1 array of zeros"
   ]
  },
  {
   "cell_type": "markdown",
   "metadata": {},
   "source": [
    "There's also an **`identity`** command that behaves as you'd expect to create the identity matrix (with `1`'s along the diagonal and `0`'s everywhere else):"
   ]
  },
  {
   "cell_type": "code",
   "execution_count": 31,
   "metadata": {},
   "outputs": [
    {
     "data": {
      "text/plain": [
       "array([[ 1.,  0.,  0.,  0.],\n",
       "       [ 0.,  1.,  0.,  0.],\n",
       "       [ 0.,  0.,  1.,  0.],\n",
       "       [ 0.,  0.,  0.,  1.]])"
      ]
     },
     "execution_count": 31,
     "metadata": {},
     "output_type": "execute_result"
    }
   ],
   "source": [
    "np.identity(4,'d')     # 4x4 identity matrix"
   ]
  },
  {
   "cell_type": "markdown",
   "metadata": {},
   "source": [
    "as well as a **`ones`** command to produce an array of all `1`'s."
   ]
  },
  {
   "cell_type": "markdown",
   "metadata": {},
   "source": [
    "<a href='#Outline'>Back to the Top</a>"
   ]
  },
  {
   "cell_type": "markdown",
   "metadata": {},
   "source": [
    "\n"
   ]
  },
  {
   "cell_type": "markdown",
   "metadata": {},
   "source": [
    "### <font color=\"blue\">**Slicing Arrays**</font>"
   ]
  },
  {
   "cell_type": "markdown",
   "metadata": {},
   "source": [
    "The elements of an array can be accessed using the slicing technique seen for lists:"
   ]
  },
  {
   "cell_type": "code",
   "execution_count": 9,
   "metadata": {},
   "outputs": [
    {
     "name": "stdout",
     "output_type": "stream",
     "text": [
      "[[1 2 3]\n",
      " [4 5 6]\n",
      " [7 8 9]]\n"
     ]
    }
   ],
   "source": [
    "arr = np.array([[1, 2, 3], [4, 5, 6], [7, 8, 9]],'i')\n",
    "print(arr)"
   ]
  },
  {
   "cell_type": "markdown",
   "metadata": {},
   "source": [
    "Remember that slices are specified inside square brackets; e.g., `mylist[2:4]`."
   ]
  },
  {
   "cell_type": "markdown",
   "metadata": {},
   "source": [
    "\n"
   ]
  },
  {
   "cell_type": "markdown",
   "metadata": {},
   "source": [
    "<font color=\"green\"><b>Breakpoint 4</b></font>: Predict the result of the command\n",
    "\n",
    "```python\n",
    "arr[1,2]\n",
    "```\n",
    "\n",
    "and then test it in the cell below.  (Hint: this command will pick out a *single* element of `arr`.)"
   ]
  },
  {
   "cell_type": "code",
   "execution_count": null,
   "metadata": {},
   "outputs": [],
   "source": []
  },
  {
   "cell_type": "markdown",
   "metadata": {},
   "source": [
    "   "
   ]
  },
  {
   "cell_type": "markdown",
   "metadata": {},
   "source": [
    "Other examples:"
   ]
  },
  {
   "cell_type": "code",
   "execution_count": 33,
   "metadata": {},
   "outputs": [
    {
     "name": "stdout",
     "output_type": "stream",
     "text": [
      "[8 9]\n",
      "[4 5 6]\n",
      "[4 5 6]\n"
     ]
    }
   ],
   "source": [
    "print(arr[2,1:])\n",
    "print(arr[1])\n",
    "print(arr[1,:])"
   ]
  },
  {
   "cell_type": "markdown",
   "metadata": {},
   "source": [
    "Note that the second and third expressions, `arr[1]` and `arr[1,:]`, access all of the elements in the row with index `1`.  In general, the notation `[i,:]` refers to all of the elements in the row with index `i`."
   ]
  },
  {
   "cell_type": "markdown",
   "metadata": {},
   "source": [
    "\n"
   ]
  },
  {
   "cell_type": "markdown",
   "metadata": {},
   "source": [
    "<font color=\"green\"><b>Breakpoint 5</b></font>: in the cell below, enter code to extract the entire last *column* of `arr`, using the \"`:`\" notation, and execute the cell to test your code."
   ]
  },
  {
   "cell_type": "code",
   "execution_count": null,
   "metadata": {},
   "outputs": [],
   "source": []
  },
  {
   "cell_type": "markdown",
   "metadata": {},
   "source": [
    "    "
   ]
  },
  {
   "cell_type": "markdown",
   "metadata": {},
   "source": [
    "<a href='#Outline'>Back to the Top</a>"
   ]
  },
  {
   "cell_type": "markdown",
   "metadata": {},
   "source": [
    "\n"
   ]
  },
  {
   "cell_type": "markdown",
   "metadata": {},
   "source": [
    "### <font color=\"blue\">**linspace and arange**</font>"
   ]
  },
  {
   "cell_type": "markdown",
   "metadata": {},
   "source": [
    "The **`linspace`** and **`arange`** commands are the best ways to make a sequence of regularly-spaced values; e.g., as points at which to plot a function.\n",
    "\n",
    "`linspace` makes a linear array of points *from a specified starting value to a specified ending value*:"
   ]
  },
  {
   "cell_type": "code",
   "execution_count": 14,
   "metadata": {},
   "outputs": [
    {
     "name": "stdout",
     "output_type": "stream",
     "text": [
      "[0.         0.02040816 0.04081633 0.06122449 0.08163265 0.10204082\n",
      " 0.12244898 0.14285714 0.16326531 0.18367347 0.20408163 0.2244898\n",
      " 0.24489796 0.26530612 0.28571429 0.30612245 0.32653061 0.34693878\n",
      " 0.36734694 0.3877551  0.40816327 0.42857143 0.44897959 0.46938776\n",
      " 0.48979592 0.51020408 0.53061224 0.55102041 0.57142857 0.59183673\n",
      " 0.6122449  0.63265306 0.65306122 0.67346939 0.69387755 0.71428571\n",
      " 0.73469388 0.75510204 0.7755102  0.79591837 0.81632653 0.83673469\n",
      " 0.85714286 0.87755102 0.89795918 0.91836735 0.93877551 0.95918367\n",
      " 0.97959184 1.        ]\n"
     ]
    }
   ],
   "source": [
    "x = np.linspace(0,1)   # create an array of equally-spaced values between 0 and 1, inclusive\n",
    "print(x)"
   ]
  },
  {
   "cell_type": "markdown",
   "metadata": {},
   "source": [
    "Note that the upper limit of the specified range is included among the values.\n",
    "\n",
    "If you provide a third argument, it takes that as the number of points to generate. If you don't provide the argument, it gives an array of length 50."
   ]
  },
  {
   "cell_type": "code",
   "execution_count": 15,
   "metadata": {},
   "outputs": [
    {
     "name": "stdout",
     "output_type": "stream",
     "text": [
      "[0.  0.1 0.2 0.3 0.4 0.5 0.6 0.7 0.8 0.9 1. ]\n"
     ]
    }
   ],
   "source": [
    "x = np.linspace(0,1,11)    # create an array of equally-spaced values between 0 and 1, inclusive, with 11 elements\n",
    "print(x)"
   ]
  },
  {
   "cell_type": "markdown",
   "metadata": {},
   "source": [
    " As noted, `linspace` is an easy way to make coordinates for plotting. Functions in the `numpy` library can act on an entire array (or even a matrix) of points at once. Thus,"
   ]
  },
  {
   "cell_type": "code",
   "execution_count": 34,
   "metadata": {},
   "outputs": [
    {
     "data": {
      "text/plain": [
       "array([  0.00000000e+00,   1.27877162e-01,   2.53654584e-01,\n",
       "         3.75267005e-01,   4.90717552e-01,   5.98110530e-01,\n",
       "         6.95682551e-01,   7.81831482e-01,   8.55142763e-01,\n",
       "         9.14412623e-01,   9.58667853e-01,   9.87181783e-01,\n",
       "         9.99486216e-01,   9.95379113e-01,   9.74927912e-01,\n",
       "         9.38468422e-01,   8.86599306e-01,   8.20172255e-01,\n",
       "         7.40277997e-01,   6.48228395e-01,   5.45534901e-01,\n",
       "         4.33883739e-01,   3.15108218e-01,   1.91158629e-01,\n",
       "         6.40702200e-02,  -6.40702200e-02,  -1.91158629e-01,\n",
       "        -3.15108218e-01,  -4.33883739e-01,  -5.45534901e-01,\n",
       "        -6.48228395e-01,  -7.40277997e-01,  -8.20172255e-01,\n",
       "        -8.86599306e-01,  -9.38468422e-01,  -9.74927912e-01,\n",
       "        -9.95379113e-01,  -9.99486216e-01,  -9.87181783e-01,\n",
       "        -9.58667853e-01,  -9.14412623e-01,  -8.55142763e-01,\n",
       "        -7.81831482e-01,  -6.95682551e-01,  -5.98110530e-01,\n",
       "        -4.90717552e-01,  -3.75267005e-01,  -2.53654584e-01,\n",
       "        -1.27877162e-01,  -2.44929360e-16])"
      ]
     },
     "execution_count": 34,
     "metadata": {},
     "output_type": "execute_result"
    }
   ],
   "source": [
    "x = np.linspace(0,2*np.pi)\n",
    "\n",
    "np.sin(x)    # compute the sines of the values in array \"x\""
   ]
  },
  {
   "cell_type": "markdown",
   "metadata": {},
   "source": [
    "A similar function is `arange`, which creates a sequence of values *with a specified interval between them*; e.g."
   ]
  },
  {
   "cell_type": "code",
   "execution_count": 16,
   "metadata": {},
   "outputs": [
    {
     "name": "stdout",
     "output_type": "stream",
     "text": [
      "[1.  1.2 1.4 1.6 1.8 2.  2.2 2.4 2.6 2.8]\n"
     ]
    }
   ],
   "source": [
    "y = np.arange(1,3,0.2)\n",
    "print(y)"
   ]
  },
  {
   "cell_type": "markdown",
   "metadata": {},
   "source": [
    "This is like the `range` function, but it can produce *noninteger* values, and the output is an array rather than a list.  Note that the last value in the specified interval (`3`, in this case) is *not* included in the sequence of values generated.  (If the step size is not specified, it defaults to `1`.)\n",
    "\n",
    "To recap, `linspace` creates an array with a *specified number of elements*, while `arange` creates an array with a *specified interval between the elements*.\n",
    "\n",
    "**Warning:** when making arrays with very large numbers of elements, `arange` is *much* slower than `linspace`."
   ]
  },
  {
   "cell_type": "markdown",
   "metadata": {},
   "source": [
    "  "
   ]
  },
  {
   "cell_type": "markdown",
   "metadata": {},
   "source": [
    "**Exercise \\#9**\n",
    "\n",
    "(a) Construct and print out a sequence of 12 values ranging from 1.1 to 1.9 (including both limits).  \n",
    "\n",
    "(b) Construct and print out a sequence of 12 values starting from 5.0 with an interval of 2.5 between them."
   ]
  },
  {
   "cell_type": "markdown",
   "metadata": {},
   "source": [
    "  "
   ]
  },
  {
   "cell_type": "markdown",
   "metadata": {},
   "source": [
    "<a href='#Outline'>Back to the Top</a>"
   ]
  },
  {
   "cell_type": "markdown",
   "metadata": {},
   "source": [
    "\n"
   ]
  },
  {
   "cell_type": "markdown",
   "metadata": {},
   "source": [
    "### <font color=\"blue\">**Array Operations**</font>\n",
    "\n",
    "#### Ignore this section and the Exercise at the end of the section if you haven't yet had a course in linear algebra."
   ]
  },
  {
   "cell_type": "markdown",
   "metadata": {},
   "source": [
    "Array objects act like you would expect them to when multiplied by scalars:"
   ]
  },
  {
   "cell_type": "code",
   "execution_count": 71,
   "metadata": {},
   "outputs": [
    {
     "name": "stdout",
     "output_type": "stream",
     "text": [
      "The 3 x 3 identity matrix: \n",
      " [[ 1.  0.  0.]\n",
      " [ 0.  1.  0.]\n",
      " [ 0.  0.  1.]] \n",
      "\n",
      "Multiplied by 0.125:\n",
      "[[ 0.125  0.     0.   ]\n",
      " [ 0.     0.125  0.   ]\n",
      " [ 0.     0.     0.125]]\n"
     ]
    }
   ],
   "source": [
    "print(\"The 3 x 3 identity matrix: \\n\", np.identity(3,'d'), \"\\n\")  # \"\\n\" or '\\n' inside a print() does a \"carriage return\"\n",
    "\n",
    "print(\"Multiplied by 0.125:\")\n",
    "print(0.125 * np.identity(3,'d'))"
   ]
  },
  {
   "cell_type": "markdown",
   "metadata": {},
   "source": [
    "as well as when you add two matrices together. (Of course, the matrices have to be the same shape.)"
   ]
  },
  {
   "cell_type": "code",
   "execution_count": 43,
   "metadata": {},
   "outputs": [
    {
     "name": "stdout",
     "output_type": "stream",
     "text": [
      "Array #1:\n",
      " [[1 0]\n",
      " [0 1]] \n",
      "\n",
      "Array #2:\n",
      " [[1 1]\n",
      " [1 2]] \n",
      "\n",
      "These arrays add to give:\n",
      "[[2 1]\n",
      " [1 3]]\n"
     ]
    }
   ],
   "source": [
    "array1 = np.identity(2,'i')          # 2x2 identity matrix with integer values\n",
    "print(\"Array #1:\\n\", array1, \"\\n\")\n",
    "\n",
    "array2 = np.array([[1,1],[1,2]])     # 2x2 array\n",
    "print(\"Array #2:\\n\", array2,\"\\n\")\n",
    "\n",
    "print(\"These arrays add to give:\")\n",
    "print(array1 + array2)"
   ]
  },
  {
   "cell_type": "markdown",
   "metadata": {},
   "source": [
    "(Note how the `\\n`, or ***newline*** character in the `print` statements that display the arrays results in them being formatted nicely.  If you print them without this character, their rows don't align well.)"
   ]
  },
  {
   "cell_type": "markdown",
   "metadata": {},
   "source": [
    "Something that confuses Matlab users is that the times (*) operator of Python gives element-wise multiplication (e.g., the `1`-`2` element of one array times the `1`-`2` element of the other) rather than matrix multiplication:"
   ]
  },
  {
   "cell_type": "code",
   "execution_count": 44,
   "metadata": {},
   "outputs": [
    {
     "name": "stdout",
     "output_type": "stream",
     "text": [
      "arr2 is:\n",
      " [[ 1.  2.]\n",
      " [ 3.  4.]] \n",
      "\n",
      "id2 is:\n",
      " [[ 1.  0.]\n",
      " [ 0.  1.]] \n",
      "\n",
      "Their * product is\n",
      " [[ 1.  0.]\n",
      " [ 0.  4.]]\n"
     ]
    }
   ],
   "source": [
    "arr2 = np.array([[1,2], [3,4]],'d')    # 2x2 array of floats\n",
    "print('arr2 is:\\n', arr2, '\\n') \n",
    "\n",
    "id2 = np.identity(2)                   # 2x2 identity matrix\n",
    "print('id2 is:\\n', id2, '\\n')\n",
    "\n",
    "print('Their * product is\\n', id2 * arr2)"
   ]
  },
  {
   "cell_type": "markdown",
   "metadata": {},
   "source": [
    "Thus, when operating on arrays `A` and `B`, the **`*`** operator produces the array whose `[i,j]` element is `A[i,j] * B[i,j]`.   "
   ]
  },
  {
   "cell_type": "markdown",
   "metadata": {},
   "source": [
    "To get the usual matrix multiplication, you need the **`dot`** command:"
   ]
  },
  {
   "cell_type": "code",
   "execution_count": 69,
   "metadata": {},
   "outputs": [
    {
     "data": {
      "text/plain": [
       "array([[ 1.,  2.],\n",
       "       [ 3.,  4.]])"
      ]
     },
     "execution_count": 69,
     "metadata": {},
     "output_type": "execute_result"
    }
   ],
   "source": [
    "np.dot(id2, arr2)"
   ]
  },
  {
   "cell_type": "markdown",
   "metadata": {},
   "source": [
    "`dot` can also do dot products of vectors (duh!):"
   ]
  },
  {
   "cell_type": "code",
   "execution_count": 17,
   "metadata": {},
   "outputs": [
    {
     "name": "stdout",
     "output_type": "stream",
     "text": [
      "v: [3. 4.] \n",
      "\n",
      "The square root of dot(v,v) is 5.0\n"
     ]
    }
   ],
   "source": [
    "v = np.array([3,4],'d')   # vector (3, 4)\n",
    "print(\"v:\", v, \"\\n\")\n",
    "\n",
    "print(\"The square root of dot(v,v) is\", np.sqrt(np.dot(v,v)))      # take square root of the vector dotted with itself"
   ]
  },
  {
   "cell_type": "markdown",
   "metadata": {},
   "source": [
    "`dot` also does matrix-vector products:"
   ]
  },
  {
   "cell_type": "code",
   "execution_count": 73,
   "metadata": {},
   "outputs": [
    {
     "name": "stdout",
     "output_type": "stream",
     "text": [
      "Matrix:\n",
      " [[ 1.  2.]\n",
      " [ 3.  4.]] \n",
      "\n",
      "Vector:\n",
      " [[  5.]\n",
      " [ 10.]] \n",
      "\n",
      "Product of matrix with vector:\n",
      " [[ 25.]\n",
      " [ 55.]]\n"
     ]
    }
   ],
   "source": [
    "mat = np.array([[1,2],[3,4]],'d')    # 2x2 float array\n",
    "\n",
    "vec = np.array([[5],[10]],'d')       # column vector (5, 10)\n",
    "\n",
    "print(\"Matrix:\\n\", mat, '\\n')\n",
    "print(\"Vector:\\n\",vec, '\\n')\n",
    "\n",
    "print(\"Product of matrix with vector:\\n\", np.dot(mat,vec))"
   ]
  },
  {
   "cell_type": "markdown",
   "metadata": {},
   "source": [
    "There are **`determinant`**, **`inverse`**, and **`transpose`** functions that act as you would expect. Transpose can be abbreviated with \"`.T`\" at the end of a matrix object:"
   ]
  },
  {
   "cell_type": "code",
   "execution_count": 74,
   "metadata": {},
   "outputs": [
    {
     "name": "stdout",
     "output_type": "stream",
     "text": [
      "Original matrix:\n",
      " [[1 2]\n",
      " [3 4]] \n",
      "\n",
      "Transposed matrix:\n",
      " [[1 3]\n",
      " [2 4]]\n"
     ]
    }
   ],
   "source": [
    "m = np.array([[1,2],[3,4]])\n",
    "\n",
    "print(\"Original matrix:\\n\", m, '\\n')\n",
    "\n",
    "print(\"Transposed matrix:\\n\", m.T)"
   ]
  },
  {
   "cell_type": "markdown",
   "metadata": {},
   "source": [
    "There's also a **`diag()`** function that takes a list or a vector and puts it along the diagonal of a square matrix. "
   ]
  },
  {
   "cell_type": "code",
   "execution_count": 45,
   "metadata": {},
   "outputs": [
    {
     "data": {
      "text/plain": [
       "array([[1, 0, 0, 0, 0],\n",
       "       [0, 2, 0, 0, 0],\n",
       "       [0, 0, 3, 0, 0],\n",
       "       [0, 0, 0, 4, 0],\n",
       "       [0, 0, 0, 0, 5]])"
      ]
     },
     "execution_count": 45,
     "metadata": {},
     "output_type": "execute_result"
    }
   ],
   "source": [
    "np.diag([1,2,3,4,5])"
   ]
  },
  {
   "cell_type": "markdown",
   "metadata": {},
   "source": [
    "We'll find this useful later on."
   ]
  },
  {
   "cell_type": "markdown",
   "metadata": {},
   "source": [
    "One of the key benefits of using arrays rather than lists (or tuples) is that `numpy`'s functions are designed to work on entire array rows or columns at a time.  For example, if we want to divide a row of a matrix by a constant, this is how it would be done using an array to represent the matrix:"
   ]
  },
  {
   "cell_type": "code",
   "execution_count": 75,
   "metadata": {},
   "outputs": [
    {
     "name": "stdout",
     "output_type": "stream",
     "text": [
      "The array:\n",
      " [[ 1.  2.  3.]\n",
      " [ 4.  5.  6.]] \n",
      "\n",
      "The squares of the elements in row 0:\n",
      " [ 1.  4.  9.] \n",
      "\n",
      "The sines of the array elements:\n",
      " [[ 0.84147098  0.90929743  0.14112001]\n",
      " [-0.7568025  -0.95892427 -0.2794155 ]]\n"
     ]
    }
   ],
   "source": [
    "arr3 = np.array([[1,2,3],[4,5,6]],'d')   # 2x3 array of floats\n",
    "print(\"The array:\\n\", arr3, '\\n')\n",
    "\n",
    "print(\"The squares of the elements in row 0:\\n\", arr3[0]**2, '\\n')\n",
    "\n",
    "print(\"The sines of the array elements:\\n\", np.sin(arr3))"
   ]
  },
  {
   "cell_type": "markdown",
   "metadata": {},
   "source": [
    "Note how, in the second `print` statement, the first row of the array `arr3` was identified simply as `arr3[0]`."
   ]
  },
  {
   "cell_type": "markdown",
   "metadata": {},
   "source": [
    "If we try the same approach with a list, we get an \"unsupported operand type(s)\" error that tells us that the power operator `**` does not work on list elements:"
   ]
  },
  {
   "cell_type": "code",
   "execution_count": 78,
   "metadata": {},
   "outputs": [
    {
     "name": "stdout",
     "output_type": "stream",
     "text": [
      "The arrlist object has type <class 'list'>\n"
     ]
    },
    {
     "ename": "TypeError",
     "evalue": "unsupported operand type(s) for ** or pow(): 'list' and 'int'",
     "output_type": "error",
     "traceback": [
      "\u001b[0;31m---------------------------------------------------------------------------\u001b[0m",
      "\u001b[0;31mTypeError\u001b[0m                                 Traceback (most recent call last)",
      "\u001b[0;32m<ipython-input-78-e9b27ae07fe5>\u001b[0m in \u001b[0;36m<module>\u001b[0;34m()\u001b[0m\n\u001b[1;32m      3\u001b[0m \u001b[0mprint\u001b[0m\u001b[0;34m(\u001b[0m\u001b[0;34m\"The arrlist object has type\"\u001b[0m\u001b[0;34m,\u001b[0m \u001b[0mtype\u001b[0m\u001b[0;34m(\u001b[0m\u001b[0marrlist\u001b[0m\u001b[0;34m)\u001b[0m\u001b[0;34m)\u001b[0m      \u001b[0;31m# to confirm that arrlist is a list\u001b[0m\u001b[0;34m\u001b[0m\u001b[0m\n\u001b[1;32m      4\u001b[0m \u001b[0;34m\u001b[0m\u001b[0m\n\u001b[0;32m----> 5\u001b[0;31m \u001b[0mprint\u001b[0m\u001b[0;34m(\u001b[0m\u001b[0marrlist\u001b[0m\u001b[0;34m[\u001b[0m\u001b[0;36m0\u001b[0m\u001b[0;34m]\u001b[0m\u001b[0;34m[\u001b[0m\u001b[0;34m:\u001b[0m\u001b[0;34m]\u001b[0m\u001b[0;34m**\u001b[0m\u001b[0;36m2\u001b[0m\u001b[0;34m)\u001b[0m   \u001b[0;31m# square the elements in the first row\u001b[0m\u001b[0;34m\u001b[0m\u001b[0m\n\u001b[0m",
      "\u001b[0;31mTypeError\u001b[0m: unsupported operand type(s) for ** or pow(): 'list' and 'int'"
     ]
    }
   ],
   "source": [
    "arrlist = [[1,2,3],[4,5,6]]\n",
    "\n",
    "print(\"The arrlist object has type\", type(arrlist))      # to confirm that arrlist is a list\n",
    "\n",
    "print(arrlist[0][:]**2)   # square the elements in the first row"
   ]
  },
  {
   "cell_type": "markdown",
   "metadata": {},
   "source": [
    "Note that to identify an element in a list of lists, the indices must be entered in *separate* pairs of brackets; e.g., the `i`-`j` element of `mylist` would be `mylist[i][j]`.  The same element would be identified as `myarray[i,j]` in an array."
   ]
  },
  {
   "cell_type": "markdown",
   "metadata": {},
   "source": [
    "Interestingly, the following does work with a list:"
   ]
  },
  {
   "cell_type": "code",
   "execution_count": 79,
   "metadata": {},
   "outputs": [
    {
     "data": {
      "text/plain": [
       "array([[ 0.84147098,  0.90929743,  0.14112001],\n",
       "       [-0.7568025 , -0.95892427, -0.2794155 ]])"
      ]
     },
     "execution_count": 79,
     "metadata": {},
     "output_type": "execute_result"
    }
   ],
   "source": [
    "np.sin(arrlist)"
   ]
  },
  {
   "cell_type": "markdown",
   "metadata": {},
   "source": [
    "So, some `numpy` functions work on lists as well as on arrays."
   ]
  },
  {
   "cell_type": "markdown",
   "metadata": {},
   "source": [
    "\n"
   ]
  },
  {
   "cell_type": "markdown",
   "metadata": {},
   "source": [
    "**Exercise \\#10**\n",
    "\n",
    "Compute the value of the vector-matrix product $\\mathbf{a} \\cdot \\mathbf{B} \\cdot \\mathbf{c}$, where $\\mathbf{a} = [1, 2, 3, 4]$, $\\mathbf{B}$ is the $4 \\times 4$ identity matrix, and $\\mathbf{c} = [1, 2, 3, 4]$ as a column vector.  (The vectors should be defined as arrays, not lists, even though you might be able to make it work with lists.)  Your answer should be a single number."
   ]
  },
  {
   "cell_type": "markdown",
   "metadata": {},
   "source": [
    "  "
   ]
  },
  {
   "cell_type": "markdown",
   "metadata": {},
   "source": [
    "<a href='#Outline'>Back to the Top</a>"
   ]
  },
  {
   "cell_type": "markdown",
   "metadata": {},
   "source": [
    "\n"
   ]
  },
  {
   "cell_type": "markdown",
   "metadata": {},
   "source": [
    "### <font color=\"blue\">**Optional Arguments**</font>"
   ]
  },
  {
   "cell_type": "markdown",
   "metadata": {},
   "source": [
    "So far, we have seen how to define functions that have a fixed number of arguments.  Now we'll learn how to include more general types of arguments.  \n",
    "\n",
    "As an example, recall that the `linspace` function can take either two arguments (for the starting and ending points):"
   ]
  },
  {
   "cell_type": "code",
   "execution_count": 54,
   "metadata": {},
   "outputs": [
    {
     "data": {
      "text/plain": [
       "array([ 0.        ,  0.02040816,  0.04081633,  0.06122449,  0.08163265,\n",
       "        0.10204082,  0.12244898,  0.14285714,  0.16326531,  0.18367347,\n",
       "        0.20408163,  0.2244898 ,  0.24489796,  0.26530612,  0.28571429,\n",
       "        0.30612245,  0.32653061,  0.34693878,  0.36734694,  0.3877551 ,\n",
       "        0.40816327,  0.42857143,  0.44897959,  0.46938776,  0.48979592,\n",
       "        0.51020408,  0.53061224,  0.55102041,  0.57142857,  0.59183673,\n",
       "        0.6122449 ,  0.63265306,  0.65306122,  0.67346939,  0.69387755,\n",
       "        0.71428571,  0.73469388,  0.75510204,  0.7755102 ,  0.79591837,\n",
       "        0.81632653,  0.83673469,  0.85714286,  0.87755102,  0.89795918,\n",
       "        0.91836735,  0.93877551,  0.95918367,  0.97959184,  1.        ])"
      ]
     },
     "execution_count": 54,
     "metadata": {},
     "output_type": "execute_result"
    }
   ],
   "source": [
    "np.linspace(0, 1)"
   ]
  },
  {
   "cell_type": "markdown",
   "metadata": {},
   "source": [
    "or it can take three arguments, for the starting point, the ending point, and the number of points:"
   ]
  },
  {
   "cell_type": "code",
   "execution_count": 55,
   "metadata": {},
   "outputs": [
    {
     "data": {
      "text/plain": [
       "array([ 0.  ,  0.25,  0.5 ,  0.75,  1.  ])"
      ]
     },
     "execution_count": 55,
     "metadata": {},
     "output_type": "execute_result"
    }
   ],
   "source": [
    "np.linspace(0, 1, 5)"
   ]
  },
  {
   "cell_type": "markdown",
   "metadata": {},
   "source": [
    "You can also pass in a keyword to exclude the endpoint (which changes the other points):"
   ]
  },
  {
   "cell_type": "code",
   "execution_count": 7,
   "metadata": {},
   "outputs": [
    {
     "data": {
      "text/plain": [
       "array([ 0. ,  0.2,  0.4,  0.6,  0.8])"
      ]
     },
     "execution_count": 7,
     "metadata": {},
     "output_type": "execute_result"
    }
   ],
   "source": [
    "np.linspace(0, 1,  5, endpoint=False)"
   ]
  },
  {
   "cell_type": "markdown",
   "metadata": {},
   "source": [
    "One type of additional argument we can provide is indicated in a function definition as **`*args`**.  This allows the user to input any number of arguments, which can be numbers, strings, or lists/arrays.  The individual arguments that make up the set of arguments then are identified in the code as `args[0]`, `args[1]`, etc.  For instance, consider this code (which is not particularly useful!):"
   ]
  },
  {
   "cell_type": "code",
   "execution_count": 22,
   "metadata": {},
   "outputs": [],
   "source": [
    "def multiPrint(repeat, *args):\n",
    "    '''Print the inputs given in *args \"repeat\" times.'''\n",
    "    \n",
    "    numin = len(args)       # the number of unspecified inputs\n",
    "    print(\"The number of arguments in *args is\", numin, '\\n')\n",
    "    \n",
    "    for i in range(repeat):      # repeat the printout below\n",
    "        for j in range(numin):   # print out each element of args\n",
    "            print(args[j])\n",
    "    "
   ]
  },
  {
   "cell_type": "code",
   "execution_count": 23,
   "metadata": {},
   "outputs": [
    {
     "name": "stdout",
     "output_type": "stream",
     "text": [
      "The number of arguments in *args is 2 \n",
      "\n",
      "Hello\n",
      "[5.3, 6]\n",
      "Hello\n",
      "[5.3, 6]\n",
      "Hello\n",
      "[5.3, 6]\n"
     ]
    }
   ],
   "source": [
    "multiPrint(3, \"Hello\", [5.3, 6])"
   ]
  },
  {
   "cell_type": "markdown",
   "metadata": {},
   "source": [
    "The first argument to `multiPrint` (`3`) is the number of times to print out the other arguments -- the ones contained in `*args` -- of which there are two: the string `\"Hello\"` and the list `[5.3, 6]`.  \n",
    "\n",
    "Again, note that these are identified within the function as the elements `args[j]`, where `args[0]` is `\"Hello\"` and `args[1]` is `[5.3, 6]`."
   ]
  },
  {
   "cell_type": "markdown",
   "metadata": {},
   "source": [
    "<a href='#Outline'>Back to the Top</a>"
   ]
  },
  {
   "cell_type": "markdown",
   "metadata": {},
   "source": [
    "- - -"
   ]
  },
  {
   "cell_type": "markdown",
   "metadata": {},
   "source": [
    "## IV. Data Input/Output"
   ]
  },
  {
   "cell_type": "markdown",
   "metadata": {},
   "source": [
    "There are several ways to export and import data within the Python universe.  Among the easier ways are to use `numpy`'s **`save`**, **`savez`**, and **`savetxt`** functions.  The first two functions save a single array and multiple arrays, respectively (in a format not readable by humans) in files with `.npy` and `.npz` extensions, respectively.  The `savetxt` function saves a single array in a human readable format with any extension provided by the user.  The cell below shows the syntax to use with these functions in order to save arrays `A` and `B`:"
   ]
  },
  {
   "cell_type": "code",
   "execution_count": 4,
   "metadata": {},
   "outputs": [],
   "source": [
    "A = np.array([[1, 2], [3, 4]])\n",
    "B = np.array([[5, 6], [7, 8]])\n",
    "\n",
    "\n",
    "np.save('arrayA', A)                    # saves a single array, A, in file \"arrayA.npy\"\n",
    "\n",
    "np.savez('arraysAB', arrA=A, arrB=B)    # saves arrays A & B, with labels \"arrA\" and \"arrB\", in file \"arraysAB.npz\"\n",
    "\n",
    "np.savetxt('arrayA.dat', A)             # saves array A in file \"arrayA.dat\""
   ]
  },
  {
   "cell_type": "markdown",
   "metadata": {},
   "source": [
    "If you ran the cell above, you should see the three files in the directory where this notebook is located.\n",
    "\n",
    "The corresponding functions to read in the data are **`load`** -- for arrays saved using `save` or `savez` -- and **`loadtxt`** for an array saved using `savetxt`:"
   ]
  },
  {
   "cell_type": "code",
   "execution_count": 9,
   "metadata": {},
   "outputs": [
    {
     "name": "stdout",
     "output_type": "stream",
     "text": [
      "A1 is \n",
      " [[1 2]\n",
      " [3 4]]\n",
      "A2 is \n",
      " [[ 1.  2.]\n",
      " [ 3.  4.]]\n",
      "The first array in AB is \n",
      " [[1 2]\n",
      " [3 4]]\n",
      "The second array in AB is \n",
      " [[5 6]\n",
      " [7 8]]\n"
     ]
    }
   ],
   "source": [
    "A1 = np.load('arrayA.npy')\n",
    "\n",
    "AB = np.load('arraysAB.npz')\n",
    "\n",
    "A2 = np.loadtxt('arrayA.dat')\n",
    "\n",
    "\n",
    "print(\"A1 is \\n\", A1)\n",
    "\n",
    "print(\"A2 is \\n\", A2)\n",
    "\n",
    "print(\"The first array in AB is \\n\", AB['arrA'])\n",
    "\n",
    "print(\"The second array in AB is \\n\", AB['arrB'])"
   ]
  },
  {
   "cell_type": "markdown",
   "metadata": {},
   "source": [
    "See the documentation on the **Pandas** data analysis library (https://pandas.pydata.org) for more ways to save and import data."
   ]
  },
  {
   "cell_type": "markdown",
   "metadata": {},
   "source": [
    "<a href='#Outline'>Back to the Top</a>"
   ]
  },
  {
   "cell_type": "markdown",
   "metadata": {},
   "source": [
    "- - -"
   ]
  },
  {
   "cell_type": "markdown",
   "metadata": {},
   "source": [
    "## V. Plotting with Matplotlib"
   ]
  },
  {
   "cell_type": "markdown",
   "metadata": {},
   "source": [
    "We can generally understand data better by plotting it.  Python has a powerful plotting library called [Matplotlib](http://matplotlib.sf.net) , which provides capabilities very similar to those of Matlab. The IPython notebook interface we are using for these notes has that functionality built in.\n",
    "\n",
    "As an example, we'll compare two different functions, an exponential function, and the factorial function, both of which grow faster than any polynomial. Which one grows the fastest? Let's plot them.  \n",
    "\n",
    "We'll find each set of values in two ways: (i) by calculating the values individually and combining them into a list, and (ii) using a built-in function to compute them all at once. \n",
    "\n",
    "To use method (i), we'll store the values in a list to which we can add new elements using the syntax `[list_name].append()`.  The `.append()` part of this is a Python ***method*** -- a kind of function used in object-oriented programming.  In the cell below is very simple code showing how `.append` works.  Note that an empty list must be created first before anything can be appended to it.  (Remember  to avoid using names for variables that might be confused with Python functions or keywords; e.g. using \"`list`\" as the name of a list would not be a good idea.)"
   ]
  },
  {
   "cell_type": "code",
   "execution_count": 33,
   "metadata": {},
   "outputs": [
    {
     "name": "stdout",
     "output_type": "stream",
     "text": [
      "Initial list: [] \n",
      "\n",
      "Final list:  [0, 1, 2]\n"
     ]
    }
   ],
   "source": [
    "ilist = []                            # create empty list\n",
    "print(\"Initial list:\", ilist, '\\n')   # show that initial list is empty\n",
    "\n",
    "for i in range(3):\n",
    "    ilist.append(i)\n",
    "\n",
    "print(\"Final list: \", ilist)          # print complete list"
   ]
  },
  {
   "cell_type": "markdown",
   "metadata": {},
   "source": [
    "So, we started with an empty list and the `for` loop appended the values `0`, `1` and `2`, resulting in the final list shown."
   ]
  },
  {
   "cell_type": "markdown",
   "metadata": {},
   "source": [
    "Now back to creating the list of exponential values..."
   ]
  },
  {
   "cell_type": "code",
   "execution_count": 59,
   "metadata": {},
   "outputs": [
    {
     "name": "stdout",
     "output_type": "stream",
     "text": [
      "[1.0, 2.718281828459045, 7.3890560989306495, 20.085536923187664, 54.59815003314423, 148.41315910257657, 403.428793492735, 1096.6331584284583, 2980.957987041727, 8103.08392757538, 22026.465794806703, 59874.14171519778, 162754.79141900383, 442413.3920089202, 1202604.2841647759, 3269017.372472108, 8886110.520507865, 24154952.753575277, 65659969.13733045, 178482300.96318707, 485165195.40978974]\n"
     ]
    }
   ],
   "source": [
    "import math\n",
    "explist = []                      # create empty list\n",
    "\n",
    "for i in range(21):\n",
    "    explist.append(math.e ** i)   # append element e**i to the list as i runs from 0 to 20\n",
    "    \n",
    "print(explist)   "
   ]
  },
  {
   "cell_type": "markdown",
   "metadata": {},
   "source": [
    "To use method (ii), we need to create a set of values 1-20 and then compute the exponential of the set.  If we want to use the same approach to calculate factorials, it turns out we need our set of values to be an *array* of *integers*, so that's what's created below.  We compute the exponentials of all the array elements using the `numpy` function `exp`:"
   ]
  },
  {
   "cell_type": "code",
   "execution_count": 73,
   "metadata": {},
   "outputs": [
    {
     "name": "stdout",
     "output_type": "stream",
     "text": [
      "[1.00000000e+00 2.71828183e+00 7.38905610e+00 2.00855369e+01\n",
      " 5.45981500e+01 1.48413159e+02 4.03428793e+02 1.09663316e+03\n",
      " 2.98095799e+03 8.10308393e+03 2.20264658e+04 5.98741417e+04\n",
      " 1.62754791e+05 4.42413392e+05 1.20260428e+06 3.26901737e+06\n",
      " 8.88611052e+06 2.41549528e+07 6.56599691e+07 1.78482301e+08\n",
      " 4.85165195e+08]\n"
     ]
    }
   ],
   "source": [
    "intarray = np.arange(0,21,1,'i')   # array of integers 0 --> 20\n",
    "\n",
    "explist = np.exp(intarray)         # compute exponentials of all array elements           \n",
    "print(explist)"
   ]
  },
  {
   "cell_type": "markdown",
   "metadata": {},
   "source": [
    "We can see that the results produced by the two methods are the same."
   ]
  },
  {
   "cell_type": "markdown",
   "metadata": {},
   "source": [
    "Next let's generate the factorials, first using method (i):"
   ]
  },
  {
   "cell_type": "code",
   "execution_count": 74,
   "metadata": {},
   "outputs": [
    {
     "name": "stdout",
     "output_type": "stream",
     "text": [
      "[1, 1, 2, 6, 24, 120, 720, 5040, 40320, 362880, 3628800, 39916800, 479001600, 6227020800, 87178291200, 1307674368000, 20922789888000, 355687428096000, 6402373705728000, 121645100408832000, 2432902008176640000]\n"
     ]
    }
   ],
   "source": [
    "factlist = []                             # create empty list\n",
    "\n",
    "for i in range(21):\n",
    "    factlist.append(math.factorial(i))    # compute newest value and append to list\n",
    "    \n",
    "print(factlist)   "
   ]
  },
  {
   "cell_type": "markdown",
   "metadata": {},
   "source": [
    "Now we'll use method (ii), for which we can re-use the array of integers `intarray`.  However, it turns out that to compute the factorials of all of the values in the array at once, we need to call a function from the `scipy` package (`numpy`'s factorial function works only on one argument at a time).  Specifically, we need to import the sub-package `scipy.special`, from which we'll use the function **`factorial`**:  "
   ]
  },
  {
   "cell_type": "code",
   "execution_count": 64,
   "metadata": {},
   "outputs": [
    {
     "name": "stdout",
     "output_type": "stream",
     "text": [
      "[1, 1, 2, 6, 24, 120, 720, 5040, 40320, 362880, 3628800, 39916800, 479001600, 6227020800, 87178291200, 1307674368000, 20922789888000, 355687428096000, 6402373705728000, 121645100408832000, 2432902008176640000]\n"
     ]
    }
   ],
   "source": [
    "import scipy.special\n",
    "\n",
    "factarray = scipy.special.factorial(intarray)\n",
    "print(factlist)"
   ]
  },
  {
   "cell_type": "markdown",
   "metadata": {},
   "source": [
    "Again, the two sets of values match."
   ]
  },
  {
   "cell_type": "markdown",
   "metadata": {},
   "source": [
    "Now we use the Matplotlib function `plot` to compare the two.  To do that, though, we have to set up the notebook to display the plot.  <font color=\"red\">In all notebooks using Matplotlib, the two lines of code below should be included.</font>  The first code line tells the notebook to display the plot right in the notebook, while the second line imports all of the  Matplotlib functions that we usually need.  "
   ]
  },
  {
   "cell_type": "code",
   "execution_count": 52,
   "metadata": {},
   "outputs": [],
   "source": [
    "%matplotlib inline\n",
    "from matplotlib.pyplot import *"
   ]
  },
  {
   "cell_type": "markdown",
   "metadata": {},
   "source": [
    "**IMPORTANT**: you might occasionally have trouble with plotting in a notebook unless the two lines in the cell above appear in the first code cell of the notebook and it is executed prior to all other code cells."
   ]
  },
  {
   "cell_type": "markdown",
   "metadata": {},
   "source": [
    "Matplotlib plots can display axis labels, legends, and a title:"
   ]
  },
  {
   "cell_type": "code",
   "execution_count": 75,
   "metadata": {},
   "outputs": [
    {
     "data": {
      "text/plain": [
       "<matplotlib.legend.Legend at 0x1ef2d1e3ac0>"
      ]
     },
     "execution_count": 75,
     "metadata": {},
     "output_type": "execute_result"
    },
    {
     "data": {
      "image/png": "[encoded data removed]",
      "text/plain": [
       "<Figure size 432x288 with 1 Axes>"
      ]
     },
     "metadata": {
      "needs_background": "light"
     },
     "output_type": "display_data"
    }
   ],
   "source": [
    "plot(factlist, label=\"factorial\")\n",
    "plot(explist, label=\"exponential\")\n",
    "xlabel(\"n\")\n",
    "ylabel(\"function values\")\n",
    "title(\"Factorial and Exponential Functions\")\n",
    "legend()"
   ]
  },
  {
   "cell_type": "markdown",
   "metadata": {},
   "source": [
    "The factorial function grows much faster. In fact, you can't even see any change in the exponential sequence. It's not entirely surprising: a function where we multiply by the growing integer *n* as *n* increases is bound to grow faster than one where we multiply by the constant *e*.\n",
    "\n",
    "**Note**: We have not given the `plot` function a list of $x$ values; in this case, it assumes the $x$ values are 0, 1, 2, ... .  To plot against a different set of values, just provide those to `plot`:"
   ]
  },
  {
   "cell_type": "code",
   "execution_count": 77,
   "metadata": {},
   "outputs": [],
   "source": [
    "xvals = range(0, 63, 3)   # every third value"
   ]
  },
  {
   "cell_type": "code",
   "execution_count": 79,
   "metadata": {},
   "outputs": [
    {
     "data": {
      "text/plain": [
       "Text(0, 0.5, 'function values')"
      ]
     },
     "execution_count": 79,
     "metadata": {},
     "output_type": "execute_result"
    },
    {
     "data": {
      "image/png": "[encoded data removed]",
      "text/plain": [
       "<Figure size 432x288 with 1 Axes>"
      ]
     },
     "metadata": {
      "needs_background": "light"
     },
     "output_type": "display_data"
    }
   ],
   "source": [
    "plot(xvals, factlist)\n",
    "xlabel(\"n\")\n",
    "ylabel(\"function values\")"
   ]
  },
  {
   "cell_type": "markdown",
   "metadata": {},
   "source": [
    "Note that the y values have *not* been recomputed: they've just been plotted against a different set of x values."
   ]
  },
  {
   "cell_type": "markdown",
   "metadata": {},
   "source": [
    "Depending on the versions of jupyter and `matplotlib` being run, sometimes, if you hover your cursor over a plot, a \"resize\" control will appear at the lower right corner that lets you drag the corner to shrink and enlarge the plot.\n",
    "\n",
    "The plot above is a simple one with no legend and with the default blue line connecting the data points.  We can plot different style lines, or show data point markers, or reposition the legend:"
   ]
  },
  {
   "cell_type": "code",
   "execution_count": 81,
   "metadata": {},
   "outputs": [
    {
     "data": {
      "text/plain": [
       "<matplotlib.legend.Legend at 0x1ef2e3bb610>"
      ]
     },
     "execution_count": 81,
     "metadata": {},
     "output_type": "execute_result"
    },
    {
     "data": {
      "image/png": "[encoded data removed]",
      "text/plain": [
       "<Figure size 432x288 with 1 Axes>"
      ]
     },
     "metadata": {
      "needs_background": "light"
     },
     "output_type": "display_data"
    }
   ],
   "source": [
    "plot(factlist,'r-',label=\"Factorial line\")      # make a red line connecting the points\n",
    "plot(factlist,'bo',label=\"Factorial points\")    # make blue circles marking the points\n",
    "xlabel(\"n\")\n",
    "ylabel(\"function values\")\n",
    "legend(bbox_to_anchor=(1.5,1))                  # position the \"bounding box\" for the legend"
   ]
  },
  {
   "cell_type": "markdown",
   "metadata": {},
   "source": [
    "The color symbols `r`, `b`, `g`, `c`, `y`, `m`, `k`, and `w` represent the colors red, blue, green, cyan, yellow, and magenta, black, and white, respectively.  (Other colors are available -- see the online `Matplotlib` documentation pages.)\n",
    "\n",
    "The symbol (`o`) creates large dots, a period (`.`) creates small ones; (`-`) creates solid lines, (`--`) creates dashed lines, and (`-.`) creates dash-dot lines.\n",
    "\n",
    "The \"`label=`\" inputs to the `plot` functions create the legend and the text for each set of data.  Besides the `bbox_to_anchor` function, the legend location also can be specified using `loc = N` in the legend command.  `N = 1`, `N = 2`, `N = 3`, and `N = 4` are the upper-right, upper-left, lower-left, and lower-right corners, respectively.  Similarly, `N = 5`, `N = 6`, `N = 8`, and `N = 9` put the legend in the middle of the right, left, bottom, and top sides, respectively. "
   ]
  },
  {
   "cell_type": "code",
   "execution_count": 83,
   "metadata": {},
   "outputs": [
    {
     "data": {
      "text/plain": [
       "<matplotlib.legend.Legend at 0x1ef2e447490>"
      ]
     },
     "execution_count": 83,
     "metadata": {},
     "output_type": "execute_result"
    },
    {
     "data": {
      "image/png": "[encoded data removed]",
      "text/plain": [
       "<Figure size 432x288 with 1 Axes>"
      ]
     },
     "metadata": {
      "needs_background": "light"
     },
     "output_type": "display_data"
    }
   ],
   "source": [
    "plot(factlist,'r-',label=\"Factorial line\")\n",
    "plot(factlist,'bo',label=\"Factorial points\")\n",
    "xlabel(\"n\")\n",
    "ylabel(\"function values\")\n",
    "legend(loc=6)                                     # position legend in middle of left side of plot frame"
   ]
  },
  {
   "cell_type": "markdown",
   "metadata": {},
   "source": [
    "\n",
    "We can plot the two functions on a semilog plot (one with a logarithmic scale along the y axis, using the function **`semilogy`**) to see them a little more clearly:"
   ]
  },
  {
   "cell_type": "code",
   "execution_count": 84,
   "metadata": {},
   "outputs": [
    {
     "data": {
      "text/plain": [
       "<matplotlib.legend.Legend at 0x1ef2e4383d0>"
      ]
     },
     "execution_count": 84,
     "metadata": {},
     "output_type": "execute_result"
    },
    {
     "data": {
      "image/png": "[encoded data removed]",
      "text/plain": [
       "<Figure size 432x288 with 1 Axes>"
      ]
     },
     "metadata": {
      "needs_background": "light"
     },
     "output_type": "display_data"
    }
   ],
   "source": [
    "semilogy(factlist,label=\"factorial\")\n",
    "semilogy(explist,label=\"exponential\")\n",
    "xlabel(\"n\")\n",
    "legend(loc=9)"
   ]
  },
  {
   "cell_type": "markdown",
   "metadata": {},
   "source": [
    "Note that, as you'd expect, the exponential function is linear in a semilog plot.  (To get a logarithmic scale along the x axis, use **`semilogx`**.)"
   ]
  },
  {
   "cell_type": "markdown",
   "metadata": {},
   "source": [
    "We can plot the two functions in separate subplots:"
   ]
  },
  {
   "cell_type": "code",
   "execution_count": 86,
   "metadata": {},
   "outputs": [
    {
     "data": {
      "text/plain": [
       "Text(0.5, 1.0, 'exponential')"
      ]
     },
     "execution_count": 86,
     "metadata": {},
     "output_type": "execute_result"
    },
    {
     "data": {
      "image/png": "[encoded data removed]",
      "text/plain": [
       "<Figure size 432x288 with 2 Axes>"
      ]
     },
     "metadata": {
      "needs_background": "light"
     },
     "output_type": "display_data"
    }
   ],
   "source": [
    "subplots(1,2)\n",
    "subplot(1,2,1)\n",
    "semilogy(factlist)\n",
    "xlabel(\"n\")\n",
    "title('factorial')\n",
    "\n",
    "subplot(1,2,2)\n",
    "semilogy(explist,color='g')\n",
    "xlabel(\"n\")\n",
    "title('exponential')"
   ]
  },
  {
   "cell_type": "markdown",
   "metadata": {},
   "source": [
    "To create two (or more) plots in separate graph frames, use the **`figure()`** command to create a new frame:"
   ]
  },
  {
   "cell_type": "code",
   "execution_count": 87,
   "metadata": {},
   "outputs": [
    {
     "data": {
      "text/plain": [
       "Text(0.5, 1.0, 'exponential')"
      ]
     },
     "execution_count": 87,
     "metadata": {},
     "output_type": "execute_result"
    },
    {
     "data": {
      "image/png": "[encoded data removed]",
      "text/plain": [
       "<Figure size 432x288 with 1 Axes>"
      ]
     },
     "metadata": {
      "needs_background": "light"
     },
     "output_type": "display_data"
    },
    {
     "data": {
      "image/png": "[encoded data removed]",
      "text/plain": [
       "<Figure size 432x288 with 1 Axes>"
      ]
     },
     "metadata": {
      "needs_background": "light"
     },
     "output_type": "display_data"
    }
   ],
   "source": [
    "semilogy(factlist)\n",
    "xlabel(\"n\")\n",
    "title('factorial')\n",
    "\n",
    "figure()\n",
    "semilogy(explist,color='g')\n",
    "xlabel(\"n\")\n",
    "title('exponential')"
   ]
  },
  {
   "cell_type": "markdown",
   "metadata": {},
   "source": [
    "\n"
   ]
  },
  {
   "cell_type": "markdown",
   "metadata": {},
   "source": [
    "**Exercise \\#11**\n",
    "\n",
    "Plot the functions $f_1(n) = n$ and $f_2(n) = n^2$ on the same plot, for integer $n$ in the range $0 \\rightarrow 10$. Display a legend in the upper-left corner, label the $x$-axis with n and the $y$-axis with f(n).\n"
   ]
  },
  {
   "cell_type": "markdown",
   "metadata": {},
   "source": [
    "\n"
   ]
  },
  {
   "cell_type": "markdown",
   "metadata": {},
   "source": [
    "The `matplotlib` library also has a way to plot graphs in polar coordinates.  To do this, it appears to be necessary first to create a figure, then to create a set of polar axes as a \"subplot\" in that figure, as here:\n",
    "\n",
    "```python\n",
    "fig = figure()                          # create figure\n",
    "ax = fig.add_subplot(111, polar=True)   # create set of polar axes\n",
    "```\n",
    "\n",
    "The `fig.add_subplot` command can be used to create multiple subplots arranged in an \"array.\"  Note that we give it three digits to specify a subplot.  The first two digits specify the shape of the array of subplots: `11` means a single plot, `12` means a 1x2 row of subplots, `31` means a 3x1 column of subplots, etc.  The third digit specifies where the current subplot is to appear in the array of subplots.  So, if you want two subplots side-by-side, you would denote the first one as something like `ax1 = fig.add_subplot(121, polar=True)` and the second one as `ax2 = fig.add_subplot(122, polar=True)`.  (The names `ax1` and `ax2` are arbitrary.)\n",
    "\n",
    "The code below creates an example polar plot that happens to depict the curve given by $\\theta(r) = 4 \\pi r$."
   ]
  },
  {
   "cell_type": "code",
   "execution_count": 89,
   "metadata": {},
   "outputs": [
    {
     "data": {
      "image/png": "[encoded data removed]",
      "text/plain": [
       "<Figure size 432x288 with 1 Axes>"
      ]
     },
     "metadata": {
      "needs_background": "light"
     },
     "output_type": "display_data"
    }
   ],
   "source": [
    "fig = figure()\n",
    "ax = fig.add_subplot(121, polar=True)\n",
    "r = np.arange(0, 1, 0.001)          # create list of values at increasing radii\n",
    "theta = 4 * np.pi * r               # the theta values to be plotted corresponding to the list of r values...\n",
    "                                    # ... we could have any function of r here, but this one is particularly simple\n",
    "\n",
    "line = ax.plot(theta, r, color='orange', lw=3)   # plot theta vs. r on the set of axes in the subplot labeled 'ax'"
   ]
  },
  {
   "cell_type": "markdown",
   "metadata": {},
   "source": [
    " "
   ]
  },
  {
   "cell_type": "markdown",
   "metadata": {},
   "source": [
    "**Exercise \\#12**\n",
    "\n",
    "Plot two subplots side by side: one duplicating the figure above, and a second showing a blue curve just like the orange one but rotated $90^\\textrm{o}$ counterclockwise."
   ]
  },
  {
   "cell_type": "markdown",
   "metadata": {},
   "source": [
    "\n"
   ]
  },
  {
   "cell_type": "markdown",
   "metadata": {},
   "source": [
    "Another type of plot that you might want to create fairly often is a color plot in which the color of each pixel represents the value of some (scalar) parameter, e.g. temperature or voltage, at that point (this will work for a grayscale image as well).  For this type of plot, use the **`imshow`** function:"
   ]
  },
  {
   "cell_type": "code",
   "execution_count": 4,
   "metadata": {},
   "outputs": [
    {
     "data": {
      "text/plain": [
       "<matplotlib.image.AxesImage at 0x7f4cad5f34e0>"
      ]
     },
     "execution_count": 4,
     "metadata": {},
     "output_type": "execute_result"
    },
    {
     "data": {
      "image/png": "[encoded data removed]",
      "text/plain": [
       "<matplotlib.figure.Figure at 0x7f4cad658c88>"
      ]
     },
     "metadata": {},
     "output_type": "display_data"
    }
   ],
   "source": [
    "values = np.zeros([100,100],float)\n",
    "\n",
    "for i in range(100):\n",
    "    for j in range(100):\n",
    "        values[i,j] = i + j    # for something to plot, set each pixel's value to the sum of its row & column indices\n",
    "        \n",
    "imshow(values)"
   ]
  },
  {
   "cell_type": "markdown",
   "metadata": {},
   "source": [
    "There are many color schemes (known as ***colormaps***) that you can use in these plots.  It's also worth noting that the function `imshow` can be used to display images stored as arrays."
   ]
  },
  {
   "cell_type": "markdown",
   "metadata": {},
   "source": [
    " "
   ]
  },
  {
   "cell_type": "markdown",
   "metadata": {},
   "source": [
    "Yet another type of plot that can be created with `matplotlib` is a 3-D plot.  To do this, we need to import another function using\n",
    "\n",
    "```python\n",
    "from mpl_toolkits.mplot3d import Axes3D\n",
    "```\n",
    "\n",
    "The following code illustrates a curve in 3-D.  After creating the arrays of (x, y, z) coordinates of the points to be plotted, it creates a new figure and defines its axes as 3-D, using the line `ax = fig.gca(projection = '3d')`.  (`gca` means \"get current axes.\"  This terminology may be familiar from Matlab.)  The `plot` function is called for these axes using `ax.plot`, and the three sets of coordinates are provided."
   ]
  },
  {
   "cell_type": "code",
   "execution_count": 108,
   "metadata": {},
   "outputs": [
    {
     "data": {
      "image/png": "[encoded data removed]",
      "text/plain": [
       "<Figure size 432x288 with 1 Axes>"
      ]
     },
     "metadata": {
      "needs_background": "light"
     },
     "output_type": "display_data"
    }
   ],
   "source": [
    "from mpl_toolkits.mplot3d import Axes3D\n",
    "\n",
    "zvals = np.arange(0.1, 20,0.1)      # positions from 0.1 to 10, stepping by 0.1\n",
    "xvals = np.cos(tvals)/zvals**.25    # x coordinates; make a nice inward spiral\n",
    "yvals = np.sin(tvals)/zvals**.25    # y coordinates; make a nice inward spiral\n",
    "\n",
    "fig = figure()\n",
    "ax = axes(projection = '3d')\n",
    "ax.plot3D(xvals, yvals, zvals)\n",
    "xlabel('x')\n",
    "ylabel('y')\n",
    "show()"
   ]
  },
  {
   "cell_type": "markdown",
   "metadata": {},
   "source": [
    " "
   ]
  },
  {
   "cell_type": "markdown",
   "metadata": {},
   "source": [
    "There are many more things you can do with Matplotlib. We'll be looking at some of them in the modules. In the meantime, if you want an idea of the different kinds of graphics you can create, look at the Matplotlib [Gallery](http://matplotlib.org/gallery.html).  Clicking on one of the figures will bring you to a new page, at the top of which you should find the Python source code used to create the figures on the page.  You can download the code, open it in a text editor (it may not be easily readable), and copy-and-paste the text into a notebook cell.  Remember to precede it with another code cell (executed first) containing the lines \n",
    "\n",
    "```python\n",
    "%matplotlib inline\n",
    "from matplotlib.pyplot import *\n",
    "```\n",
    "\n",
    "Rob Johansson's IPython notebook [Introduction to Matplotlib](http://nbviewer.ipython.org/urls/raw.github.com/jrjohansson/scientific-python-lectures/master/Lecture-4-Matplotlib.ipynb) also is good."
   ]
  },
  {
   "cell_type": "markdown",
   "metadata": {},
   "source": [
    "<a href='#Part-2'>Back to the Top</a>"
   ]
  },
  {
   "cell_type": "markdown",
   "metadata": {},
   "source": [
    "  "
   ]
  },
  {
   "cell_type": "markdown",
   "metadata": {},
   "source": [
    "### <font color=\"blue\">**Recap**</font>\n",
    "\n",
    "* Functions that extend the power of Python can be imported from packages.  You can import individual functions from a package (using `from <package> import function1, function2`, etc.) or import the entire package (i.e., `import <package>` or `from <package> import *`).  \n",
    "\n",
    "\n",
    "* You can define your own Python function using the `def` statement followed by a function name, then a set of parentheses (with any arguments enclosed), and then a colon.  All of the code to be executed by the function must be indented below the `def` line.  Python even lets you pass the name of one function as an argument to another function.  In order for your code to pass  its results in a form usable by other code, end the function with a `return` statement followed by the values or variables to be outputted.\n",
    "\n",
    "\n",
    "* Arguments to a function can be passed as positional arguments (this is the usual way) or as keyword arguments.  `*args` can be used to pass arguments that are not explicitly specified in the function definition.\n",
    "\n",
    "\n",
    "* `numpy` and `scipy` are two of the most important packages for scientists.  They extend Python's numerical computation and symbolic math capabilities, respectively.  \n",
    "\n",
    "\n",
    "* `numpy` functions enable the creation of arrays and matrices, and the package has built-in functions for creating and performing common operations on those structures.  \n",
    "\n",
    "\n",
    "* The `matplotlib` package gives Python extensive scientific plotting capabilities, similar to those of Matlab."
   ]
  },
  {
   "cell_type": "markdown",
   "metadata": {},
   "source": [
    "  "
   ]
  },
  {
   "cell_type": "markdown",
   "metadata": {},
   "source": [
    "### Breakpoint Answers\n",
    "\n",
    "\n",
    "**Breakpoint 3:** The output is $13$, because `sumfun(square, 2, 3)` calls `square` with the inputs $2$ and $3$, computing $2^2 + 3^2 = 13$.\n",
    "\n",
    "**Breakpoint 4:** The command prints `6`, because it's the element with row index `1` and column index `2` (the *second* row and *third* column, since the first row and column have index `0`).  \n",
    "$$ $$\n",
    "**Breakpoint 5:** One could use the code `arr[:,-1]`, which selects all rows and the last column. \n",
    " \n",
    " "
   ]
  },
  {
   "cell_type": "markdown",
   "metadata": {},
   "source": [
    " "
   ]
  },
  {
   "cell_type": "markdown",
   "metadata": {},
   "source": [
    " "
   ]
  },
  {
   "cell_type": "markdown",
   "metadata": {},
   "source": [
    "<font size=\"5pt\">**End of Part 2**"
   ]
  }
 ],
 "metadata": {
  "kernelspec": {
   "display_name": "Python 3 (ipykernel)",
   "language": "python",
   "name": "python3"
  },
  "language_info": {
   "codemirror_mode": {
    "name": "ipython",
    "version": 3
   },
   "file_extension": ".py",
   "mimetype": "text/x-python",
   "name": "python",
   "nbconvert_exporter": "python",
   "pygments_lexer": "ipython3",
   "version": "3.9.12"
  }
 },
 "nbformat": 4,
 "nbformat_minor": 1
}
